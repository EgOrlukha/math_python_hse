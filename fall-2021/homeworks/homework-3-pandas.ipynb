{
  "nbformat": 4,
  "nbformat_minor": 0,
  "metadata": {
    "colab": {
      "name": "homework-3-pandas.ipynb",
      "provenance": [],
      "include_colab_link": true
    },
    "kernelspec": {
      "display_name": "Python 3 (ipykernel)",
      "language": "python",
      "name": "python3"
    },
    "language_info": {
      "codemirror_mode": {
        "name": "ipython",
        "version": 3
      },
      "file_extension": ".py",
      "mimetype": "text/x-python",
      "name": "python",
      "nbconvert_exporter": "python",
      "pygments_lexer": "ipython3",
      "version": "3.9.8"
    },
    "varInspector": {
      "cols": {
        "lenName": 16,
        "lenType": 16,
        "lenVar": 40
      },
      "kernels_config": {
        "python": {
          "delete_cmd_postfix": "",
          "delete_cmd_prefix": "del ",
          "library": "var_list.py",
          "varRefreshCmd": "print(var_dic_list())"
        },
        "r": {
          "delete_cmd_postfix": ") ",
          "delete_cmd_prefix": "rm(",
          "library": "var_list.r",
          "varRefreshCmd": "cat(var_dic_list()) "
        }
      },
      "types_to_exclude": [
        "module",
        "function",
        "builtin_function_or_method",
        "instance",
        "_Feature"
      ],
      "window_display": false
    }
  },
  "cells": [
    {
      "cell_type": "markdown",
      "metadata": {
        "id": "view-in-github",
        "colab_type": "text"
      },
      "source": [
        "<a href=\"https://colab.research.google.com/github/svdcvt/math_python_hse/blob/master/fall-2021/homeworks/homework-3-pandas.ipynb\" target=\"_parent\"><img src=\"https://colab.research.google.com/assets/colab-badge.svg\" alt=\"Open In Colab\"/></a>"
      ]
    },
    {
      "cell_type": "markdown",
      "metadata": {
        "id": "HcF9My_FhLuk"
      },
      "source": [
        "## Домашнее задание 3\n",
        "\n",
        "Инструкция по сдаче ДЗ: работайте в Google Colab 1) нажмите кнопку выше \"Open in Colab\" 2) нажмите Copy to Drive. После чего необходимо до дедлайна сделать Share по ссылке с функцией редактирования (Edit) и отправить эту ссылку в форму: https://forms.gle/sbqctKNQtUadNXCh6"
      ]
    },
    {
      "cell_type": "markdown",
      "metadata": {
        "id": "sUe2vnFGhLuu"
      },
      "source": [
        "## 1. Табличные данные и Pandas"
      ]
    },
    {
      "cell_type": "markdown",
      "metadata": {
        "id": "DJQzjjqJhLuu"
      },
      "source": [
        "Pandas — удобная библиотека для работы с табличными данными в Python, если данных не слишком много и они помещаются в оперативную память вашего компьютера. Несмотря на неэффективность реализации и некоторые проблемы, библиотека стала стандартом в анализе данных.\n",
        "\n",
        "Основной объект в pandas — это DataFrame, представляющий собой таблицу с именованными колонками различных типов, индексом (может быть многоуровневым). DataFrame можно создавать, считывая таблицу из файла или задавая вручную из других объектов.\n",
        "\n",
        "В этой части потребуется выполнить несколько небольших заданий. Можно пойти двумя путями: сначала изучить материалы, а потом приступить к заданиям, или же разбираться \"по ходу\". Выбирайте сами.\n",
        "\n",
        "Материалы:\n",
        "1. [Pandas за 10 минут из официального руководства](http://pandas.pydata.org/pandas-docs/stable/10min.html)\n",
        "2. [Документация](http://pandas.pydata.org/pandas-docs/stable/index.html) (стоит обращаться, если не понятно, как вызывать конкретный метод)\n",
        "3. [Примеры использования функционала](http://nbviewer.jupyter.org/github/justmarkham/pandas-videos/blob/master/pandas.ipynb)\n",
        "\n",
        "Многие из заданий можно выполнить несколькими способами. Не существуют единственно верного, но попробуйте максимально задействовать арсенал pandas и ориентируйтесь на простоту и понятность вашего кода. Мы не будем подсказывать, что нужно использовать для решения конкретной задачи, попробуйте находить необходимый функционал сами (название метода чаще всего очевидно). В помощь вам документация, поиск и stackoverflow."
      ]
    },
    {
      "cell_type": "code",
      "metadata": {
        "id": "26zbFY25hLuv",
        "outputId": "404c22c6-2696-48ab-c71e-7a3ffbc36b18"
      },
      "source": [
        "%pylab inline\n",
        "import pandas as pd"
      ],
      "execution_count": null,
      "outputs": [
        {
          "name": "stdout",
          "output_type": "stream",
          "text": [
            "Populating the interactive namespace from numpy and matplotlib\n"
          ]
        }
      ]
    },
    {
      "cell_type": "markdown",
      "metadata": {
        "id": "dneJl9TyhLuv"
      },
      "source": [
        "Скачаем данные:"
      ]
    },
    {
      "cell_type": "code",
      "metadata": {
        "id": "rj_I0RslhLuw"
      },
      "source": [
        "!wget  -O 'end_seminar.xlsx' -q 'https://www.dropbox.com/s/f4rm8sjc3v99p0m/_end_seminar.xlsx?dl=0'"
      ],
      "execution_count": null,
      "outputs": []
    },
    {
      "cell_type": "markdown",
      "metadata": {
        "id": "5hp7bn_ThLuw"
      },
      "source": [
        "Для пользователей Windows: скачайте файл самостоятельно и поместите его в папку с тетрадкой. Или попробуйте один из следующих вариантов:"
      ]
    },
    {
      "cell_type": "code",
      "metadata": {
        "id": "4h4_BaX8hLuw"
      },
      "source": [
        "# !powershell iwr -outf somefile https://somesite/somefile"
      ],
      "execution_count": null,
      "outputs": []
    },
    {
      "cell_type": "code",
      "metadata": {
        "id": "7bHroLGChLuw"
      },
      "source": [
        "# !pip install wget\n",
        "# import wget \n",
        "# wget.download('https://dropbox.com/s/f4rm8sjc3v99p0m/_end_seminar.xlsx?dl=1', 'end_seminar.xlsx')"
      ],
      "execution_count": null,
      "outputs": []
    },
    {
      "cell_type": "markdown",
      "metadata": {
        "id": "VFs_6IythLux"
      },
      "source": [
        "##### В первой части задания (до раздела \"Распределение студентов по курсам\") использование циклов запрещается и повлечет за собой снижение оценки. Использование <code>vectorize</code> и  <code>apply</code>, <code>apply_along_axis</code> крайне нежелательно."
      ]
    },
    {
      "cell_type": "markdown",
      "metadata": {
        "id": "shFkfJkohLux"
      },
      "source": [
        "Для каждой задачи из этого раздела вы должны написать код для получения ответа, а также дать текстовый ответ, если он предполагается.\n",
        "\n",
        "На некоторые вопросы вы можете получить путём пристального взгляда на таблицу, но это не будет засчитываться. Вы в любом случае должны получить ответ с помощью кода."
      ]
    },
    {
      "cell_type": "markdown",
      "metadata": {
        "id": "gDD85M7bhLux"
      },
      "source": [
        "#### 1. [0 баллов] Откройте файл с таблицей (не забудьте про её формат). Выведите последние 10 строк.\n",
        "\n",
        "Посмотрите на данные и скажите, что они из себя представляют, сколько в таблице строк, какие столбцы? (на это не надо отвечать, просто подумайте об этом)"
      ]
    },
    {
      "cell_type": "code",
      "metadata": {
        "id": "PKulur3LhLuy"
      },
      "source": [
        "# your code"
      ],
      "execution_count": null,
      "outputs": []
    },
    {
      "cell_type": "markdown",
      "metadata": {
        "id": "Jhk3tVpVhLuy"
      },
      "source": [
        "#### 2. [0.5 балла] Ответьте на вопросы:\n",
        "1. Сколько было заявок из групп 18-го года набора, а сколько из групп 17-го года?\n",
        "2. Есть ли студенты с равными перцентилями?"
      ]
    },
    {
      "cell_type": "code",
      "metadata": {
        "id": "bsn4vn8RhLuy"
      },
      "source": [
        "# your code"
      ],
      "execution_count": null,
      "outputs": []
    },
    {
      "cell_type": "markdown",
      "metadata": {
        "id": "jPiMwyqHhLuy"
      },
      "source": [
        "#### 3. [0.5 балла] Есть ли в данных пропуски? В каких колонках? Сколько их в каждой из этих колонок?"
      ]
    },
    {
      "cell_type": "code",
      "metadata": {
        "id": "edY1RrSOhLuy"
      },
      "source": [
        "# your code"
      ],
      "execution_count": null,
      "outputs": []
    },
    {
      "cell_type": "markdown",
      "metadata": {
        "id": "B5ORhP2uhLuz"
      },
      "source": [
        "Заполните пропуски пустой строкой для строковых колонок и нулём для числовых."
      ]
    },
    {
      "cell_type": "code",
      "metadata": {
        "id": "TlF_JJ2ghLuz"
      },
      "source": [
        "# your code"
      ],
      "execution_count": null,
      "outputs": []
    },
    {
      "cell_type": "markdown",
      "metadata": {
        "id": "w5ELhkT1hLuz"
      },
      "source": [
        "#### 4. [0.5 балла] Посмотрите повнимательнее на колонку 'is_first_time'. \n",
        "\n",
        "Есть ли в ней ответы \"Нет\"? Сколько их?\n",
        "\n",
        "Если вы найдете повторные обращения студентов, оставьте только самую позднюю версию. <i>Обращения со значением \"Нет\" в <code>is_first_time</code> могут быть как повторными, так и первичными, поскольку поле заполняли сами студенты.</i>"
      ]
    },
    {
      "cell_type": "code",
      "metadata": {
        "id": "VEfiNsyQhLuz"
      },
      "source": [
        "# your code"
      ],
      "execution_count": null,
      "outputs": []
    },
    {
      "cell_type": "markdown",
      "metadata": {
        "id": "IlzHp3HVhLuz"
      },
      "source": [
        "#### 5. [0.5 балла] Какие  blended-курсы для четверокурсников существуют? На какой blended-курс записалось наибольшее количество студентов? На каком из курсов собрались студенты с самым высоким средним рейтингом? "
      ]
    },
    {
      "cell_type": "code",
      "metadata": {
        "id": "j_BRWerHhLu0"
      },
      "source": [
        "# your code"
      ],
      "execution_count": null,
      "outputs": []
    },
    {
      "cell_type": "markdown",
      "metadata": {
        "id": "IU_FLt8HhLu0"
      },
      "source": [
        "#### 6. [1 балл] Выясните, есть ли в данных студенты с абсолютно одинаковыми предпочтениями по всем курсам (не забудьте учесть blended-курсы для четверокурсников). Сколько таких наборов, которые взяли несколько студентов? Выведите их все вместе с количеством выбравших их студентов.\n",
        "\n",
        "<i>Предпочтения двух студентов считаются абсолютно одинаковыми, если выбранные ими дисциплины имеют одинаковый приоритет.</i>"
      ]
    },
    {
      "cell_type": "code",
      "metadata": {
        "id": "BBDlR1mFhLu0"
      },
      "source": [
        "# your code"
      ],
      "execution_count": null,
      "outputs": []
    },
    {
      "cell_type": "markdown",
      "metadata": {
        "id": "spu3r3vchLu0"
      },
      "source": [
        "#### 7. [0.5 балла] Найдите курсы по выбору, на которые записывались как студенты 18-го года набора, так и студенты 17-го года."
      ]
    },
    {
      "cell_type": "code",
      "metadata": {
        "id": "t21fWi8ShLu0"
      },
      "source": [
        "# your code"
      ],
      "execution_count": null,
      "outputs": []
    },
    {
      "cell_type": "markdown",
      "metadata": {
        "id": "PYfX-Dr5hLu0"
      },
      "source": [
        "Методом исключения найдите курсы, которые предлагались только студентам 18-го года и только студентам 17-го года."
      ]
    },
    {
      "cell_type": "code",
      "metadata": {
        "id": "G9SWBOpehLu1"
      },
      "source": [
        "# your code"
      ],
      "execution_count": null,
      "outputs": []
    },
    {
      "cell_type": "markdown",
      "metadata": {
        "id": "uL45Tg5fhLu1"
      },
      "source": [
        "### Визуализации и matplotlib"
      ]
    },
    {
      "cell_type": "markdown",
      "metadata": {
        "id": "MY9lKmP2hLu1"
      },
      "source": [
        "При работе с данными часто неудобно делать какие-то выводы, если смотреть на таблицу и числа в частности, поэтому важно уметь визуализировать данные. Здесь будут описаны ключевые правила оформления графиков для **всех** домашних заданий.\n",
        "\n",
        "У matplotlib, конечно же, есть [документация](https://matplotlib.org/users/index.html) с большим количеством [примеров](https://matplotlib.org/examples/), но для начала достаточно знать про несколько основных типов графиков:\n",
        "- plot — обычный поточечный график, которым можно изображать кривые или отдельные точки;\n",
        "- hist — гистограмма, показывающая распределение некоторой величины;\n",
        "- scatter — график, показывающий взаимосвязь двух величин;\n",
        "- bar — столбцовый график, показывающий взаимосвязь количественной величины от категориальной.\n",
        "\n",
        "В этом задании вы попробуете построить один из них. Не забывайте про базовые принципы построения приличных графиков:\n",
        "- оси должны быть подписаны, причём не слишком мелко;\n",
        "- у графика должно быть название;\n",
        "- если изображено несколько графиков, то необходима поясняющая легенда;\n",
        "- все линии на графиках должны быть чётко видны (нет похожих цветов или цветов, сливающихся с фоном);\n",
        "- если отображена величина, имеющая очевидный диапазон значений (например, проценты могут быть от 0 до 100), то желательно масштабировать ось на весь диапазон значений (исключением является случай, когда вам необходимо показать малое отличие, которое незаметно в таких масштабах);\n",
        "- сетка на графике помогает оценить значения в точках на глаз, это обычно полезно, поэтому лучше ее отрисовывать;\n",
        "- если распределение на гистограмме имеет тяжёлые хвосты, лучше использовать логарифмическую шкалу.\n",
        "\n",
        "Полезные строчки:\n",
        "- для красивой картинки <code>%config InlineBackend.figure_format = 'retina'</code>\n",
        "- задаем размер (почти) всех графиков (можно выбрать другие значения) <code>plt.rcParams['figure.figsize'] = 8, 5</code>\n",
        "- размер шрифта подписей графиков <code>plt.rcParams['font.size'] = 12</code>\n",
        "- формат в котором сохраняется изображение <code>mpl.rcParams['savefig.format'] = 'pdf'</code>\n",
        "- sns – seaborn, добавляет решетку <code>sns.set_style('darkgrid')</code>"
      ]
    },
    {
      "cell_type": "code",
      "metadata": {
        "id": "na9doUOFhLu1"
      },
      "source": [
        "%matplotlib inline\n",
        "import matplotlib.pyplot as plt"
      ],
      "execution_count": null,
      "outputs": []
    },
    {
      "cell_type": "markdown",
      "metadata": {
        "id": "kikwLpxfhLu1"
      },
      "source": [
        "#### 8. [0.5 балла] Постройте график средних рейтингов по дням получения ответов (bar plot)."
      ]
    },
    {
      "cell_type": "code",
      "metadata": {
        "id": "UTPLVeQvhLu2"
      },
      "source": [
        "# your code"
      ],
      "execution_count": null,
      "outputs": []
    },
    {
      "cell_type": "markdown",
      "metadata": {
        "id": "AmsQg9_xhLu2"
      },
      "source": [
        "Сохраните график в формате pdf (так он останется векторизованным)."
      ]
    },
    {
      "cell_type": "code",
      "metadata": {
        "id": "vKZNSwWghLu2"
      },
      "source": [
        "# your code"
      ],
      "execution_count": null,
      "outputs": []
    },
    {
      "cell_type": "markdown",
      "metadata": {
        "id": "b7SBV6_GhLu2"
      },
      "source": [
        "Еще одна билиотека для визуализации: [seaborn](https://jakevdp.github.io/PythonDataScienceHandbook/04.14-visualization-with-seaborn.html). Это настройка над matplotlib, иногда удобнее и красивее делать визуализации через неё. "
      ]
    },
    {
      "cell_type": "markdown",
      "metadata": {
        "id": "sCgWwjl0hLu2"
      },
      "source": [
        "### 2. Распределение студентов по курсам."
      ]
    },
    {
      "cell_type": "markdown",
      "metadata": {
        "id": "VNqXUpr4hLu3"
      },
      "source": [
        "Теперь вам нужно распределить студентов по осенним курсам по выбору, учитывая их предпочтения."
      ]
    },
    {
      "cell_type": "markdown",
      "metadata": {
        "id": "5cAR2FgphLu3"
      },
      "source": [
        "Алгоритм распределения студентов по курсам:\n",
        "1. По умолчанию на каждой дисциплине по выбору у 3 и 4 курсов может учиться 1 группа (до 30 студентов). Исключения описаны ниже. На blended-дисциплинах для четверокурсников количество мест не ограничено.\n",
        "2. Проводится первая волна отбора. Для каждой дисциплины формируется список тех, кто указал её первым приоритетом (если студент должен выбрать два курса по выбору, то для него дисциплины, которые он указал первым и вторым приоритетом, рассматриваются как дисциплины первого приоритета). Если желающих больше, чем мест, то выбирается топ по перцентилю рейтинга.\n",
        "3. На дисциплинах, где остались места после первой волны, формируются списки тех, кто выбрал их вторым приоритетом, и места заполняются лучшими по перцентили рейтинга студентами. После этого проводится такая же процедура для дисциплин третьего приоритета.\n",
        "4. Если студент не попал на необходимое количество курсов по итогам трёх волн, с ним связывается учебный офис и решает вопрос в индивидуальном порядке."
      ]
    },
    {
      "cell_type": "markdown",
      "metadata": {
        "id": "BiNKVwS6hLu3"
      },
      "source": [
        "Обращаем ваше внимание на следующие детали:\n",
        "\n",
        "- По умолчанию студент выбирает один осенний и один весенний курс по выбору, а также четверокурсники выбирают один blended-курс. Студенты групп 17-го года специализаций МОП и ТИ выбирают по 2 осенних и 2 весенних курса по выбору, также студенты групп 18' специализации МИ выбирают 2 осенних курса. <i>Для студентов, которые выбирают 2 курса (например, осенних) первый приоритет — <code>fall_1</code> и <code>fall_2</code>, второй приоритет — <code>fall_3</code>. Такие студенты участвуют только в двух волнах отбора</i>.\n",
        "\n",
        "- Студенты специализации МОП не могут выбрать весенним курсом по выбору Машинное обучение 2. <i>Если студент специализации МОП выбрал Машинное обучение 2, то его приоритеты сдвигаются. Из-за совпадений первого и второго курса по выбору двигать приоритеты не надо</i>.\n",
        "\n",
        "- Blended-курсы не трогайте, по ним не надо распределять, на другие курсы они никак не влияют.\n",
        "\n",
        "- Постарайтесь воздержаться от использования циклов там, где это возможно. <i>Допустимо итерироваться по <b>курсам</b>, на которые проводится отбор, и по <b>волнам</b> отбора. Если вы придумаете, как обойтись и без этих циклов, то на усмотрение проверяющего могут быть добавлены бонусные баллы. <b>Дублирование кода не признается успешным избавлением от циклов</b></i>\n",
        "\n",
        "- На выходе ожидается файл res_fall.csv с результатами распределения на осенние курсы по выбору. Файл должен быть следующего формата:\n",
        "\n",
        "    * три столбца: ID, course1, course2\n",
        "    \n",
        "    * Если студент не попал на курс, но должен был, то вместо названия курса в ячейке должна быть строка \"???\"\n",
        "    \n",
        "    * Если студент должен выбрать только один курс, то в колонке course2 для него должна стоять строка \"-\"\n",
        "    \n",
        "    * Если студент должен выбрать два курса по выбору, то порядок в колонках course1 и course2 не важен.\n",
        "    \n",
        "    * Формат csv: для сохранения воспользуйтесь df.to_csv('solution.csv', index=None)\n",
        "    \n",
        "\n",
        "Для работы вам могут понадобиться следующие данные:\n",
        "\n",
        "- Результаты опроса (вы уже использовали этот файл в первой части задания, но на всякий случай ссылка: https://www.dropbox.com/s/f4rm8sjc3v99p0m/_end_seminar.xlsx?dl=0)\n",
        "\n",
        "- Соответствие номеров групп специализациям:\n",
        "\n",
        "    * 171, 172 - МОП; 173 - ТИ; 174 — АДИС; 175, 176 — РС; 177 — АПР\n",
        "    \n",
        "    * У студентов 18-го года номера групп соответствуют номерам до распределения по специализациям.\n",
        "\n",
        "- Ограничения по количеству мест на курсах по выбору:\n",
        "\n",
        "    * Осенние: везде 30 мест, кроме Statistical Learning Theory (60 мест), Высокопроизводительных вычислений (60 мест), Анализа неструктурированных данных ($\\infty$ мест)\n",
        "\n",
        "    * Весенние: везде 30 мест, кроме Обучения с подкреплением (60 мест), Анализа данных в бизнесе (60 мест).\n",
        "\n",
        "\n",
        "Кстати, убедитесь, что в данных больше нет пропусков и повторных записей."
      ]
    },
    {
      "cell_type": "markdown",
      "metadata": {
        "id": "o5t55IcQhLu4"
      },
      "source": [
        "#### 0. Проверка\n",
        "\n",
        "Для начала давайте убедимся, что вы успешно выполнили задания первой части и проверим ваши данные на наличие пропусков и повторов:"
      ]
    },
    {
      "cell_type": "code",
      "metadata": {
        "id": "34HWEdVdhLu4"
      },
      "source": [
        "assert df.shape[0] == 347, 'В таблице остались повторы или потеряны данные'\n",
        "\n",
        "assert df.isna().sum().sum() == 0, 'В таблице остались пропуски'"
      ],
      "execution_count": null,
      "outputs": []
    },
    {
      "cell_type": "markdown",
      "metadata": {
        "id": "_ImUFyG3hLu4"
      },
      "source": [
        "Если вы не получили AssertionError, то можете продолжать."
      ]
    },
    {
      "cell_type": "markdown",
      "metadata": {
        "id": "LTGSwwvAhLu4"
      },
      "source": [
        "#### 1. [1 балл] Создайте новый признак, обозначающий, сколько осенних курсов должен выбрать студент\n",
        "\n",
        "В этом вам может помочь информация о специализации и группе стундента."
      ]
    },
    {
      "cell_type": "code",
      "metadata": {
        "id": "ouxo0kHFhLu4"
      },
      "source": [
        "# (￣^￣)ゞ"
      ],
      "execution_count": null,
      "outputs": []
    },
    {
      "cell_type": "markdown",
      "metadata": {
        "id": "S47aq1sQhLu4"
      },
      "source": [
        "Проверка:"
      ]
    },
    {
      "cell_type": "code",
      "metadata": {
        "id": "OlOgzDKDhLu5"
      },
      "source": [
        "col_name =     # insert your new column name as str\n",
        "\n",
        "assert(df[df['id'] == '2662600c2c37e11e62f6ee0b88452f22'][col_name] == 2).all()\n",
        "assert(df[df['id'] == 'd555d2805e1d93d4f023e57dc4c8f403'][col_name] == 2).all()\n",
        "assert(df[df['id'] == '8fe79f84f36e3a5d2d6745621321302c'][col_name] == 1).all()\n",
        "assert(df[df['id'] == 'e4caca755ee0bdd711e18fb8084958b5'][col_name] == 1).all()"
      ],
      "execution_count": null,
      "outputs": []
    },
    {
      "cell_type": "markdown",
      "metadata": {
        "id": "VtQYhwuPhLu5"
      },
      "source": [
        "#### 2. [2 балла] Распределите студентов в соответствии с первым приоритетом"
      ]
    },
    {
      "cell_type": "code",
      "metadata": {
        "id": "6gWfT3vqhLu5"
      },
      "source": [
        "# (￣^￣)ゞ"
      ],
      "execution_count": null,
      "outputs": []
    },
    {
      "cell_type": "markdown",
      "metadata": {
        "id": "vc5zXP5hhLu5"
      },
      "source": [
        "Здесь для проверки приведена таблица, в которой есть 2 дополнительные колонки:\n",
        "    \n",
        "    1) is_first_place - является ли студент лучшим по перцентили хотя бы на одном из курсов, куда он был зачислен \n",
        "    (True / NaN)\n",
        "    \n",
        "    2) is_last_place  - является ли студент худшим по перцентили хотя бы на одном из курсов, куда он был зачислен (True / NaN)"
      ]
    },
    {
      "cell_type": "code",
      "metadata": {
        "id": "uZTkGEq5hLu5"
      },
      "source": [
        "!wget  -O '2_task_check.csv' -q 'https://www.dropbox.com/s/v8o2zzq3iz5gc9w/_2_task_check.csv?dl=0'\n",
        "check_df = pd.read_csv('2_task_check.csv')"
      ],
      "execution_count": null,
      "outputs": []
    },
    {
      "cell_type": "markdown",
      "metadata": {
        "id": "E_fbyB9qhLu5"
      },
      "source": [
        "После распределения студентов в соответствии с первым приоритетом добавьте в свой датафрейм аналогичные признаки и запустите проверку:"
      ]
    },
    {
      "cell_type": "code",
      "metadata": {
        "id": "GOAzQeYehLu6"
      },
      "source": [
        "fir_col_name =       # insert name of your new column with is_first_place as str\n",
        "last_col_name =      # insert name of your new column with is_last_place as str\n",
        "\n",
        "\n",
        "assert((df[df[fir_col_name].isna() == False][['id']].sort_values('id').reset_index(drop=True)\n",
        "        ==\n",
        "        check_df[check_df['is_first_place'].isna() == False][['id']].sort_values('id').reset_index(drop=True)\n",
        "       ).id.values).all()\n",
        "\n",
        "\n",
        "assert((df[df[last_col_name].isna() == False][['id']].sort_values('id').reset_index(drop=True)\n",
        "       == \n",
        "       check_df[check_df['is_last_place'].isna() == False][['id']].sort_values('id').reset_index(drop=True)\n",
        "      ).id.values).all()"
      ],
      "execution_count": null,
      "outputs": []
    },
    {
      "cell_type": "markdown",
      "metadata": {
        "id": "1xQjV9BuhLu6"
      },
      "source": [
        "**Отправьте свой файл res_fall.csv в контест (https://contest.yandex.ru/contest/32666/problems/A/) и прикрепите/укажите ниже ваш никнейм и ссылку на успешную посылку.**"
      ]
    },
    {
      "cell_type": "code",
      "metadata": {
        "id": "J3ELZIr1OFHl"
      },
      "source": [
        ""
      ],
      "execution_count": null,
      "outputs": []
    }
  ]
}