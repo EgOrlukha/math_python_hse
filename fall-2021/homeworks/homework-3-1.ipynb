{
  "nbformat": 4,
  "nbformat_minor": 0,
  "metadata": {
    "colab": {
      "name": "ДЗ №3.1: pandas",
      "provenance": [],
      "authorship_tag": "ABX9TyOCQkag4KlYfmFWQvqdgQ3P",
      "include_colab_link": true
    },
    "kernelspec": {
      "name": "python3",
      "display_name": "Python 3"
    },
    "language_info": {
      "name": "python"
    }
  },
  "cells": [
    {
      "cell_type": "markdown",
      "metadata": {
        "id": "view-in-github",
        "colab_type": "text"
      },
      "source": [
        "<a href=\"https://colab.research.google.com/github/svdcvt/math_python_hse/blob/master/fall-2021/homeworks/homework-3-1.ipynb\" target=\"_parent\"><img src=\"https://colab.research.google.com/assets/colab-badge.svg\" alt=\"Open In Colab\"/></a>"
      ]
    },
    {
      "cell_type": "markdown",
      "metadata": {
        "id": "DftcBgmBCYUX"
      },
      "source": [
        "Домашнее задание №3, часть 1: Анализ данных. Pandas + Визуализации."
      ]
    },
    {
      "cell_type": "code",
      "metadata": {
        "id": "OPEWrRsrCR7a"
      },
      "source": [
        ""
      ],
      "execution_count": null,
      "outputs": []
    },
    {
      "cell_type": "code",
      "metadata": {
        "id": "sPefesl5ChCg"
      },
      "source": [
        ""
      ],
      "execution_count": null,
      "outputs": []
    },
    {
      "cell_type": "code",
      "metadata": {
        "id": "LEN7daAlChGM"
      },
      "source": [
        ""
      ],
      "execution_count": null,
      "outputs": []
    },
    {
      "cell_type": "markdown",
      "metadata": {
        "id": "w-CSGTpUCiAl"
      },
      "source": [
        "Черновик."
      ]
    }
  ]
}