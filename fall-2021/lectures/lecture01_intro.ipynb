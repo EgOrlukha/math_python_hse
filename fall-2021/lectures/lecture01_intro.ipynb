{
  "nbformat": 4,
  "nbformat_minor": 0,
  "metadata": {
    "kernelspec": {
      "display_name": "Python 3",
      "language": "python",
      "name": "python3"
    },
    "language_info": {
      "codemirror_mode": {
        "name": "ipython",
        "version": 3
      },
      "file_extension": ".py",
      "mimetype": "text/x-python",
      "name": "python",
      "nbconvert_exporter": "python",
      "pygments_lexer": "ipython3",
      "version": "3.6.9"
    },
    "colab": {
      "name": "lecture01_intro.ipynb",
      "provenance": [],
      "include_colab_link": true
    }
  },
  "cells": [
    {
      "cell_type": "markdown",
      "metadata": {
        "id": "view-in-github",
        "colab_type": "text"
      },
      "source": [
        "<a href=\"https://colab.research.google.com/github/svdcvt/math_python_hse/blob/master/fall-2021/lectures/lecture01_intro.ipynb\" target=\"_parent\"><img src=\"https://colab.research.google.com/assets/colab-badge.svg\" alt=\"Open In Colab\"/></a>"
      ]
    },
    {
      "cell_type": "markdown",
      "metadata": {
        "id": "X09fFcHZWeSn"
      },
      "source": [
        "# Занятие №1: ввод-вывод, арифметика, типы данных.\n",
        "\n",
        "---\n",
        "\n",
        "[МИНИКОНТЕСТ](https://contest.yandex.ru/contest/28661)\n",
        "---\n",
        "---\n",
        "https://replit.com - можете сразу воспроизводить код и решать задачи используя онлайн интерпретатор Питона (\"Create Repl\" -> \"Select Langauge - Python\")\n"
      ]
    },
    {
      "cell_type": "markdown",
      "metadata": {
        "id": "Nddjq3YIWeS5"
      },
      "source": [
        "## Вывод с помощью функции `print()` [DOCS](https://docs.python.org/3/library/functions.html#print)\n",
        "\n",
        "Для печати каких-либо значений и/или текста в Питоне есть функция <code>print()</code>. Внутри круглых скобок через запятую перечисляем то, что хотим вывести на \"экран\". Причем текст необходимо обрамлять кавычками (об этом подробнее позже). Вот программа, которая делает несколько выводов и вычислений:"
      ]
    },
    {
      "cell_type": "code",
      "metadata": {
        "colab": {
          "base_uri": "https://localhost:8080/"
        },
        "id": "wPOz8qUyWeS5",
        "outputId": "46a72c81-14dd-4801-d76f-601e2f4b8cf6"
      },
      "source": [
        "print('Hi!', 'Hi!')\n",
        "print('Второй hi!')                 # каждый print выводится на новой строке\n",
        "print('first'), print('second')     # даже если написать так\n",
        "print('🙂')                         # да даже смайлики можно!"
      ],
      "execution_count": 1,
      "outputs": [
        {
          "output_type": "stream",
          "name": "stdout",
          "text": [
            "Hi! Hi!\n",
            "Второй hi!\n",
            "first\n",
            "second\n",
            "🙂\n"
          ]
        }
      ]
    },
    {
      "cell_type": "markdown",
      "metadata": {
        "id": "xGhJwBfjZdW3"
      },
      "source": [
        "Обратите внимание, что то, что мы перечисляем внутри одной функции выводится через пробел (Hi! Hi!), и каждый \"принт\" печатает эти значения на новых строчках (first и second на разных строчках выведены). \n",
        "\n",
        "Принт умеет выводить не только то, что мы напишем в кавычках, но и, например, числа, в т.ч. арифметические выражения."
      ]
    },
    {
      "cell_type": "code",
      "metadata": {
        "colab": {
          "base_uri": "https://localhost:8080/"
        },
        "id": "siLFRtxnWeS6",
        "outputId": "20985e8f-d151-4402-afee-6041d31f4e9e"
      },
      "source": [
        "print('А еще умею считать, вот, например, 2х2 =', 2 * 2) \n",
        "print('2 в степени 10 равно', 2**10)  # две звёздочки означают возведение в степень"
      ],
      "execution_count": 2,
      "outputs": [
        {
          "output_type": "stream",
          "name": "stdout",
          "text": [
            "А еще умею считать, вот, например, 2х2 = 4\n",
            "2 в степени 10 равно 1024\n"
          ]
        }
      ]
    },
    {
      "cell_type": "markdown",
      "metadata": {
        "id": "4t_CMxYza1SW"
      },
      "source": [
        "Решите задачи: \n",
        "- https://contest.yandex.ru/contest/28661/problems/A/\n",
        "- https://contest.yandex.ru/contest/28661/problems/B/"
      ]
    },
    {
      "cell_type": "markdown",
      "metadata": {
        "id": "SIQxbHqUWeS6"
      },
      "source": [
        "Также у функции есть два параметра: <code>sep</code> (separator) и <code>end</code>. Когда мы их не указываем, как в примере выше, то `sep` по умолчанию стоит символ пробела (`\" \"`), а `end` - символ переноса строки (`\"\\n\"`). Мы можем эти параметры указать какие нам захочется (но это должны быть значения в кавычках), и тогда печать будет происходить по-другому. "
      ]
    },
    {
      "cell_type": "code",
      "metadata": {
        "colab": {
          "base_uri": "https://localhost:8080/"
        },
        "id": "iuqINodzbTlt",
        "outputId": "511fedfc-2c07-462c-fd23-ac6cb4ffc284"
      },
      "source": [
        "# Вывод одинаковый, т.к. мы указали значения такие же, как по умолчанию\n",
        "print('one', 'two', 'three', sep=' ', end='\\n')\n",
        "print('one', 'two', 'three')"
      ],
      "execution_count": 3,
      "outputs": [
        {
          "output_type": "stream",
          "name": "stdout",
          "text": [
            "one two three\n",
            "one two three\n"
          ]
        }
      ]
    },
    {
      "cell_type": "code",
      "metadata": {
        "colab": {
          "base_uri": "https://localhost:8080/"
        },
        "id": "GPm3xV4oWeS7",
        "outputId": "aa7c97f0-7014-4297-c42a-643c2bc40850"
      },
      "source": [
        "# Мы поменяли end параметр, поэтому теперь печать не происходит на новых строчках\n",
        "print('Aa', end='!')\n",
        "print('Bb', end='~')\n",
        "print('Cc', end='...')"
      ],
      "execution_count": 4,
      "outputs": [
        {
          "output_type": "stream",
          "name": "stdout",
          "text": [
            "Aa!Bb~Cc..."
          ]
        }
      ]
    },
    {
      "cell_type": "code",
      "metadata": {
        "colab": {
          "base_uri": "https://localhost:8080/"
        },
        "id": "mtdRgFgvWeS7",
        "outputId": "1c21cf0d-8e84-4dbd-d923-c0186d9c72cb"
      },
      "source": [
        "print(1, 2, 3, 4, sep=' + ', end=' = ')\n",
        "print(1 + 2 + 3 + 4)"
      ],
      "execution_count": 5,
      "outputs": [
        {
          "output_type": "stream",
          "name": "stdout",
          "text": [
            "1 + 2 + 3 + 4 = 10\n"
          ]
        }
      ]
    },
    {
      "cell_type": "markdown",
      "metadata": {
        "id": "_EeGmI_zct9P"
      },
      "source": [
        "Решите задачу: https://contest.yandex.ru/contest/28661/problems/C/"
      ]
    },
    {
      "cell_type": "markdown",
      "metadata": {
        "id": "ZwKrn0PPWeS8"
      },
      "source": [
        "В Питоне есть два специальных символа, которые не печатаются, но дают нашей \"печатной машинке\" знать, надо ли перенести строку или сделать отступ:\n",
        "- символ `\"\\t\"` означает таб (попробуйте выделить курсором в выведеном тексте отступ), \n",
        "- символ `\"\\n\"` означает перенос строки"
      ]
    },
    {
      "cell_type": "code",
      "metadata": {
        "colab": {
          "base_uri": "https://localhost:8080/"
        },
        "id": "hhx8hvPZWeS8",
        "outputId": "185d0e04-f003-462b-9658-75e9a7f758c5"
      },
      "source": [
        "print('\\tслева от меня таб \\nа вот я уже на другой строке!')"
      ],
      "execution_count": 6,
      "outputs": [
        {
          "output_type": "stream",
          "name": "stdout",
          "text": [
            "\tслева от меня таб \n",
            "а вот я уже на другой строке!\n"
          ]
        }
      ]
    },
    {
      "cell_type": "code",
      "metadata": {
        "colab": {
          "base_uri": "https://localhost:8080/"
        },
        "id": "tm8MTmqDcLei",
        "outputId": "edec74c4-586b-4428-ae7d-a198aa60dd8a"
      },
      "source": [
        "print('a', 'b', 'c', 'd', sep='\\t')\n",
        "print('a', 'b', 'short', 'd', sep='\\t')\n",
        "print('a', 'b', 'longword', 'd', sep='\\t')"
      ],
      "execution_count": 7,
      "outputs": [
        {
          "output_type": "stream",
          "name": "stdout",
          "text": [
            "a\tb\tc\td\n",
            "a\tb\tshort\td\n",
            "a\tb\tlongword\td\n"
          ]
        }
      ]
    },
    {
      "cell_type": "markdown",
      "metadata": {
        "id": "RIe7ww4mWeS8"
      },
      "source": [
        "### Арифметика [DOCS](https://docs.python.org/3/reference/expressions.html#binary-arithmetic-operations)\n",
        "\n",
        "|||||\n",
        "| --- |-----------| ------- |-----------------------|\n",
        "| <code>+</code> | сложение  | <code>-</code>     | вычитание             |\n",
        "| <code>*</code> | умножение | <code>**</code>    | возведение в степень  |\n",
        "| <code>/</code> | деление   | <code>//</code>    | целочисленное деление |\n",
        "| <code>%</code> | остаток   | <code>abs()</code> | модуль                |\n",
        "\n",
        "Тут все просто и довольно привычно. Операции выполняются слева направо.\n",
        "В начале выполняются операции с большим приоритетом. Приоритеты операций в порядке убывания: `**`; <code>*</code> <code>/</code> <code>//</code> <code>%</code>; <code>+</code> <code>-</code>.\n"
      ]
    },
    {
      "cell_type": "code",
      "metadata": {
        "colab": {
          "base_uri": "https://localhost:8080/"
        },
        "id": "IKNb-BbiWeS8",
        "outputId": "41e6efa1-6879-4797-97b4-f023f7a1898d"
      },
      "source": [
        "# Чему будет равно выражение?\n",
        "print(1 - 2 ** 2 * 5)"
      ],
      "execution_count": 8,
      "outputs": [
        {
          "output_type": "stream",
          "name": "stdout",
          "text": [
            "-19\n"
          ]
        }
      ]
    },
    {
      "cell_type": "code",
      "metadata": {
        "colab": {
          "base_uri": "https://localhost:8080/"
        },
        "id": "KoK21X8PgAEm",
        "outputId": "ae3ce877-7d4c-4728-ad9b-99d4424d2db1"
      },
      "source": [
        "print('x =', 9, 'y =', 2, '\\nx = (x // y) * y + (x % y) =', (9 // 2) * 2 + (9 % 2))"
      ],
      "execution_count": 9,
      "outputs": [
        {
          "output_type": "stream",
          "name": "stdout",
          "text": [
            "x = 9 y = 2 \n",
            "x = (x // y) * y + (x % y) = 9\n"
          ]
        }
      ]
    },
    {
      "cell_type": "code",
      "metadata": {
        "colab": {
          "base_uri": "https://localhost:8080/"
        },
        "id": "FtQK8P_7elxg",
        "outputId": "e05e521d-1e69-4e5d-b4ee-9b23feee8cca"
      },
      "source": [
        "print(-11 % 2)\n",
        "print(100 // 3)\n",
        "print(10.3 // 0.3)"
      ],
      "execution_count": 10,
      "outputs": [
        {
          "output_type": "stream",
          "name": "stdout",
          "text": [
            "1\n",
            "33\n",
            "34.0\n"
          ]
        }
      ]
    },
    {
      "cell_type": "markdown",
      "metadata": {
        "id": "jFzIQ6D4WeS9"
      },
      "source": [
        "В ячейке выше мы видим текст внутри кода, так называемый **комментарий**, для начала комментария есть специальны символ - решетка. Комментарий может стоять на отдельной строчке или после строчки кода. Возможность писать комментарии в коде нужна исключительно человеку - компьютер их не воспринимает, а для человека это может быть удобным инструментом, чтобы оставить объяснение, что происходит в коде, или чтобы \"закомментировать\" строку кода, которую не хочется исполнять в данный момент."
      ]
    },
    {
      "cell_type": "markdown",
      "metadata": {
        "id": "LD9xBDvYWeS9"
      },
      "source": [
        "### Функция\n",
        "\n",
        "Что же такое функция в Питоне? Чтобы понимать этот термин сейчас, краткая справка."
      ]
    },
    {
      "cell_type": "markdown",
      "metadata": {
        "id": "gzSmF1XsWeS-"
      },
      "source": [
        "Функция в программировании $-$ отдельный участок кода, который вызывают обратившись к нему **по имени**. При вызове происходит **выполнение команд** функции, которыми она определена. Главное отличие функции от других объектов Питона это **круглые скобки**, которые ставятся после названия функции. "
      ]
    },
    {
      "cell_type": "markdown",
      "metadata": {
        "id": "muKjbhFCWeS-"
      },
      "source": [
        "Функции можно сравнить с небольшими подпрограммами, которые часто встраиваются в общую программу. Функции получает входные данные (**аргументы функции**, **параметры функции**) и возвращает некоторые выходные данные (**вывод функции**). "
      ]
    },
    {
      "cell_type": "markdown",
      "metadata": {
        "id": "FJP-SESAWeS-"
      },
      "source": [
        "Функция может принимать произвольное количество аргументов или не принимать их вовсе. Часто у функции бывают **именованные аргументы**, например, <code>sep</code> и <code>end</code> у функции </code>print()</code>. "
      ]
    },
    {
      "cell_type": "markdown",
      "metadata": {
        "id": "LvlOosJSWeS-"
      },
      "source": [
        "Функции бывают:\n",
        "*  встроенные в Питон, например <code>print(), input(), int(), float(), str(), type() </code>. С первой мы уже познакомились, с остальными познакомимся сейчас. \n",
        "*  дополнительные, которые необходимо \"подгружать\" в программу, можно определять новые функции самому $-$ но об этом всём мы поговорим подробнее позже."
      ]
    },
    {
      "cell_type": "markdown",
      "metadata": {
        "id": "UOFLZzBxWeS_"
      },
      "source": [
        "### Функция `input()` [DOCS](https://www.w3schools.com/python/ref_func_input.asp)\n",
        "\n",
        "А что если хочется **ввести какие-то данные** не в самом коде, а уже при запуске кода **пользователем**?\n",
        "\n",
        "Есть функция `input()`, которая считывает одну строку (пока не нажмешь Enter).\n",
        "Вот программа, которая считывает ввод и выводит его:"
      ]
    },
    {
      "cell_type": "code",
      "metadata": {
        "colab": {
          "base_uri": "https://localhost:8080/"
        },
        "id": "XOzJSJJrWeS_",
        "outputId": "8428ed7d-1958-4622-ba6d-c6de6d35d877"
      },
      "source": [
        "print('Вы ввели:', input())"
      ],
      "execution_count": 16,
      "outputs": [
        {
          "output_type": "stream",
          "name": "stdout",
          "text": [
            "хммм...\n",
            "Вы ввели: хммм...\n"
          ]
        }
      ]
    },
    {
      "cell_type": "markdown",
      "metadata": {
        "id": "J8XZywJ_hqBP"
      },
      "source": [
        "У этой функции один необязательный параметр, также называемый `prompt` - это сообщение, которые увидит пользователь, когда мы просим его что-то ввести."
      ]
    },
    {
      "cell_type": "code",
      "metadata": {
        "colab": {
          "base_uri": "https://localhost:8080/"
        },
        "id": "xIAxgtV_hqUU",
        "outputId": "15a9a8af-5ad9-4e54-a89a-e054fc05d3e0"
      },
      "source": [
        "print(input('Вы согласны? [y/n]'))"
      ],
      "execution_count": 17,
      "outputs": [
        {
          "output_type": "stream",
          "name": "stdout",
          "text": [
            "Вы согласны? [y/n]yes\n",
            "yes\n"
          ]
        }
      ]
    },
    {
      "cell_type": "code",
      "metadata": {
        "colab": {
          "base_uri": "https://localhost:8080/"
        },
        "id": "bPUUrjxXWeTA",
        "outputId": "7d5ec4f2-d5a0-4135-f632-de5898436906"
      },
      "source": [
        "something = input('Введите что-нибудь с клавиатуры: ') # я введу ╰( ͡° ͜ʖ ͡° )つ──☆*:・ﾟ\n",
        "print('А я запомнил, вы ввели сейчас следующее: ', something)"
      ],
      "execution_count": 18,
      "outputs": [
        {
          "output_type": "stream",
          "name": "stdout",
          "text": [
            "Введите что-нибудь с клавиатуры: ╰( ͡° ͜ʖ ͡° )つ──☆*:・ﾟ\n",
            "А я запомнил, вы ввели сейчас следующее:  ╰( ͡° ͜ʖ ͡° )つ──☆*:・ﾟ\n"
          ]
        }
      ]
    },
    {
      "cell_type": "markdown",
      "metadata": {
        "id": "5P3py8ewWeTA"
      },
      "source": [
        "Ввод и вывод это главные элементы решения задач (особенно в наших контестах!). Программа, которая решает какую-то задачу, принимает на вход (то, что \"пользователь\" вводит \"с клавиатуры\") какие-то входные значения, а потом выводит ответ на задачу."
      ]
    },
    {
      "cell_type": "markdown",
      "metadata": {
        "id": "o-mvPWU7meJO"
      },
      "source": [
        "Решите задачу: https://contest.yandex.ru/contest/28661/problems/D/"
      ]
    },
    {
      "cell_type": "markdown",
      "metadata": {
        "id": "7NSjs5AGWeTA"
      },
      "source": [
        "### Задание переменной\n",
        "\n",
        "В ячейке с кодом выше вы могли заметить, что в `something` мы **сохранили** то, что ввели с клавиатуры, а потом воспользовались этим `something` при выводе. Это произошло благодаря знаку `=`.\n",
        "\n",
        "Оператор присвоения `=` \"кладет\" какое-то значение в переменную. От него слева ставится **имя** переменной, cправа **значение**. Причем прежде чем положить то, что стоит справа от оператора, Питон сначала выполняет те операции, которые там указаны."
      ]
    },
    {
      "cell_type": "code",
      "metadata": {
        "colab": {
          "base_uri": "https://localhost:8080/",
          "height": 129
        },
        "id": "ja1uhu0TWeTA",
        "outputId": "0a98ab5c-bcdb-46d7-9562-7a5067edf1ab"
      },
      "source": [
        "one = 1\n",
        "two = 2\n",
        "_hello_ = 'hello'\n",
        "one_plus_two = one + two\n",
        "1plus2 = 1 + 2"
      ],
      "execution_count": 19,
      "outputs": [
        {
          "output_type": "error",
          "ename": "SyntaxError",
          "evalue": "ignored",
          "traceback": [
            "\u001b[0;36m  File \u001b[0;32m\"<ipython-input-19-f76fdb7caf50>\"\u001b[0;36m, line \u001b[0;32m5\u001b[0m\n\u001b[0;31m    1plus2 = 1 + 2\u001b[0m\n\u001b[0m         ^\u001b[0m\n\u001b[0;31mSyntaxError\u001b[0m\u001b[0;31m:\u001b[0m invalid syntax\n"
          ]
        }
      ]
    },
    {
      "cell_type": "markdown",
      "metadata": {
        "id": "m3x0JRfoWeTB"
      },
      "source": [
        "Видим ошибку SyntaxError. Возникла она потому что нельзя начинать имя переменной с цифры и различных символов: `!\"№;%:?*()@#$^&[]{}\\|/><,.=+` (кроме нижнего подчеркивания!).\n",
        "\n",
        "Кроме того никогда не называйте переменную уже \"занятым\" именем - например `print`, `input`, иначе функции не будут работать, ведь теперь это имя переменной, и т.н. _референс_ к функции потеряется."
      ]
    },
    {
      "cell_type": "markdown",
      "metadata": {
        "id": "GQTlz9GTWeTC"
      },
      "source": [
        "### Тип данных\n",
        "\n",
        "Так как данные бывают абсолютно разные (в основном числа, набор чисел, текст), то и в Питоне они представляются по-разному. Посмотрим поподробнее.\n",
        "\n",
        "Попробуем вычислить сумму двух чисел, введенных пользователем:"
      ]
    },
    {
      "cell_type": "code",
      "metadata": {
        "id": "GqU8sI-1WeTC",
        "outputId": "1f5b34af-4181-4a37-9672-c732ca7f88f0",
        "colab": {
          "base_uri": "https://localhost:8080/"
        }
      },
      "source": [
        "a = input()\n",
        "b = input()\n",
        "print(a + b)"
      ],
      "execution_count": 20,
      "outputs": [
        {
          "output_type": "stream",
          "name": "stdout",
          "text": [
            "2\n",
            "3\n",
            "23\n"
          ]
        }
      ]
    },
    {
      "cell_type": "markdown",
      "metadata": {
        "id": "VplIQaCcWeTC"
      },
      "source": [
        "Странно получилось."
      ]
    },
    {
      "cell_type": "markdown",
      "metadata": {
        "id": "PX-RusNuWeTC"
      },
      "source": [
        "На самом деле Питон «сложил» две строки, а не два числа. Потому что функци `input` просто возвращает \"текст, введенный с клавиатуры\". Функция `input` не понимает, что ползователь вводит. Она является некоторым \"проводником\" между программой и пользователем и ничем более.\n",
        "\n",
        "### Тип строка\n",
        "\n",
        "**Строка (string, `str`) - тип данных, являющийся набором символов**, которые обрамлены кавычками, чтобы этот тип данных различать от других.\n",
        "\n",
        "> `\"1\"` это не то же самое, что `1`: первое является строкой, второе - числом.\n",
        "\n",
        "В примере выше мы сложили две строки. Сложение строк происходит так - к первой строке в конце приписывается вторая (операция конкатенации):"
      ]
    },
    {
      "cell_type": "code",
      "metadata": {
        "id": "pzFc2_N9WeTC",
        "outputId": "6b4b188e-42f3-4d13-aae0-88ac1b612510",
        "colab": {
          "base_uri": "https://localhost:8080/",
          "height": 35
        }
      },
      "source": [
        "'Строка 1' + 'Cтрока 2'"
      ],
      "execution_count": 21,
      "outputs": [
        {
          "output_type": "execute_result",
          "data": {
            "application/vnd.google.colaboratory.intrinsic+json": {
              "type": "string"
            },
            "text/plain": [
              "'Строка 1Cтрока 2'"
            ]
          },
          "metadata": {},
          "execution_count": 21
        }
      ]
    },
    {
      "cell_type": "markdown",
      "metadata": {
        "id": "fxASURPlWeTD"
      },
      "source": [
        "Строки можно умножать на число:"
      ]
    },
    {
      "cell_type": "code",
      "metadata": {
        "id": "WLveiWMNWeTD",
        "outputId": "0804f9a9-f427-44cc-c8ee-6a9e71bc7bb6",
        "colab": {
          "base_uri": "https://localhost:8080/",
          "height": 35
        }
      },
      "source": [
        "'abc' * 10"
      ],
      "execution_count": 22,
      "outputs": [
        {
          "output_type": "execute_result",
          "data": {
            "application/vnd.google.colaboratory.intrinsic+json": {
              "type": "string"
            },
            "text/plain": [
              "'abcabcabcabcabcabcabcabcabcabc'"
            ]
          },
          "metadata": {},
          "execution_count": 22
        }
      ]
    },
    {
      "cell_type": "markdown",
      "metadata": {
        "id": "YmleCdXBmrTP"
      },
      "source": [
        "Решите задачи:\n",
        "- https://contest.yandex.ru/contest/28661/problems/E/\n",
        "- https://contest.yandex.ru/contest/28661/problems/F/\n",
        "- https://contest.yandex.ru/contest/28661/problems/G/"
      ]
    },
    {
      "cell_type": "markdown",
      "metadata": {
        "id": "P3XLsEuCWeTD"
      },
      "source": [
        "Друг на друга умножать нельзя, так же как и вычитать или делить (следующие строчки кода выдадут ошибки):"
      ]
    },
    {
      "cell_type": "code",
      "metadata": {
        "id": "s52f8gO0WeTD",
        "outputId": "b641d7e6-e01e-479b-d166-bb76994e0804",
        "colab": {
          "base_uri": "https://localhost:8080/",
          "height": 163
        }
      },
      "source": [
        "'abc' * 'def'"
      ],
      "execution_count": 23,
      "outputs": [
        {
          "output_type": "error",
          "ename": "TypeError",
          "evalue": "ignored",
          "traceback": [
            "\u001b[0;31m---------------------------------------------------------------------------\u001b[0m",
            "\u001b[0;31mTypeError\u001b[0m                                 Traceback (most recent call last)",
            "\u001b[0;32m<ipython-input-23-106b9cc1ebcc>\u001b[0m in \u001b[0;36m<module>\u001b[0;34m()\u001b[0m\n\u001b[0;32m----> 1\u001b[0;31m \u001b[0;34m'abc'\u001b[0m \u001b[0;34m*\u001b[0m \u001b[0;34m'def'\u001b[0m\u001b[0;34m\u001b[0m\u001b[0;34m\u001b[0m\u001b[0m\n\u001b[0m",
            "\u001b[0;31mTypeError\u001b[0m: can't multiply sequence by non-int of type 'str'"
          ]
        }
      ]
    },
    {
      "cell_type": "code",
      "metadata": {
        "id": "own4uVboWeTE",
        "outputId": "a2a165fe-cb82-457b-de62-88ebc0b6d8ee",
        "colab": {
          "base_uri": "https://localhost:8080/",
          "height": 163
        }
      },
      "source": [
        "'abc' - 'a'"
      ],
      "execution_count": 24,
      "outputs": [
        {
          "output_type": "error",
          "ename": "TypeError",
          "evalue": "ignored",
          "traceback": [
            "\u001b[0;31m---------------------------------------------------------------------------\u001b[0m",
            "\u001b[0;31mTypeError\u001b[0m                                 Traceback (most recent call last)",
            "\u001b[0;32m<ipython-input-24-bbbf64f0c152>\u001b[0m in \u001b[0;36m<module>\u001b[0;34m()\u001b[0m\n\u001b[0;32m----> 1\u001b[0;31m \u001b[0;34m'abc'\u001b[0m \u001b[0;34m-\u001b[0m \u001b[0;34m'a'\u001b[0m\u001b[0;34m\u001b[0m\u001b[0;34m\u001b[0m\u001b[0m\n\u001b[0m",
            "\u001b[0;31mTypeError\u001b[0m: unsupported operand type(s) for -: 'str' and 'str'"
          ]
        }
      ]
    },
    {
      "cell_type": "code",
      "metadata": {
        "id": "ThkkSwt5WeTE",
        "outputId": "524c79c6-82de-471a-f94d-73340b9b5f57",
        "colab": {
          "base_uri": "https://localhost:8080/",
          "height": 163
        }
      },
      "source": [
        "'abc' / 2"
      ],
      "execution_count": 25,
      "outputs": [
        {
          "output_type": "error",
          "ename": "TypeError",
          "evalue": "ignored",
          "traceback": [
            "\u001b[0;31m---------------------------------------------------------------------------\u001b[0m",
            "\u001b[0;31mTypeError\u001b[0m                                 Traceback (most recent call last)",
            "\u001b[0;32m<ipython-input-25-a431fa05cfcf>\u001b[0m in \u001b[0;36m<module>\u001b[0;34m()\u001b[0m\n\u001b[0;32m----> 1\u001b[0;31m \u001b[0;34m'abc'\u001b[0m \u001b[0;34m/\u001b[0m \u001b[0;36m2\u001b[0m\u001b[0;34m\u001b[0m\u001b[0;34m\u001b[0m\u001b[0m\n\u001b[0m",
            "\u001b[0;31mTypeError\u001b[0m: unsupported operand type(s) for /: 'str' and 'int'"
          ]
        }
      ]
    },
    {
      "cell_type": "code",
      "metadata": {
        "id": "zI83y2LdWeTE",
        "outputId": "f871b0c7-7ad6-468e-b17c-fcd9d4b4122a",
        "colab": {
          "base_uri": "https://localhost:8080/",
          "height": 163
        }
      },
      "source": [
        "'abc' / 'a'"
      ],
      "execution_count": 26,
      "outputs": [
        {
          "output_type": "error",
          "ename": "TypeError",
          "evalue": "ignored",
          "traceback": [
            "\u001b[0;31m---------------------------------------------------------------------------\u001b[0m",
            "\u001b[0;31mTypeError\u001b[0m                                 Traceback (most recent call last)",
            "\u001b[0;32m<ipython-input-26-3eaf69b6a735>\u001b[0m in \u001b[0;36m<module>\u001b[0;34m()\u001b[0m\n\u001b[0;32m----> 1\u001b[0;31m \u001b[0;34m'abc'\u001b[0m \u001b[0;34m/\u001b[0m \u001b[0;34m'a'\u001b[0m\u001b[0;34m\u001b[0m\u001b[0;34m\u001b[0m\u001b[0m\n\u001b[0m",
            "\u001b[0;31mTypeError\u001b[0m: unsupported operand type(s) for /: 'str' and 'str'"
          ]
        }
      ]
    },
    {
      "cell_type": "markdown",
      "metadata": {
        "id": "CSQjrLgcWeTG"
      },
      "source": [
        "#### В Питоне всё является объектом\n",
        "\n",
        "Число 9 представляется объектом «число 9», слово 'Hello' – это объект «строка 'Hello'». У каждого типа по-своему определены арифметические операции."
      ]
    },
    {
      "cell_type": "markdown",
      "metadata": {
        "id": "NI_6GHrBWeTG"
      },
      "source": [
        "### Функция `type()`\n",
        "\n",
        "Строки хранятся в объектах типа `str` (string), целые числа в объектах типа `int` (integer), числа с запятой (вернее точкой), т.е. вещественные, в объектах типа `float` (floating point). \n",
        "\n",
        "Функция `type()` принимает на вход объект и выдает её тип:"
      ]
    },
    {
      "cell_type": "code",
      "metadata": {
        "id": "TA-9n5DXWeTG",
        "outputId": "b94f2079-4107-474f-c5e3-2c93c34c8f87",
        "colab": {
          "base_uri": "https://localhost:8080/"
        }
      },
      "source": [
        "type('hello'), type(1), type(1.25)"
      ],
      "execution_count": 27,
      "outputs": [
        {
          "output_type": "execute_result",
          "data": {
            "text/plain": [
              "(str, int, float)"
            ]
          },
          "metadata": {},
          "execution_count": 27
        }
      ]
    },
    {
      "cell_type": "markdown",
      "metadata": {
        "id": "z98kLDxdoa-m"
      },
      "source": [
        "Точка в `float` типе отличает этот типа от `int`:\n",
        "> `1` это не совсем то же, что `1.0`: у них разный тип, хотя их значения равны"
      ]
    },
    {
      "cell_type": "code",
      "metadata": {
        "colab": {
          "base_uri": "https://localhost:8080/"
        },
        "id": "dQlBjxgGorDq",
        "outputId": "3008ffd3-fc0d-4932-a5d2-3e1b757c065b"
      },
      "source": [
        "1 - 1.0"
      ],
      "execution_count": 28,
      "outputs": [
        {
          "output_type": "execute_result",
          "data": {
            "text/plain": [
              "0.0"
            ]
          },
          "metadata": {},
          "execution_count": 28
        }
      ]
    },
    {
      "cell_type": "markdown",
      "metadata": {
        "id": "9xOoTg1mWeTG"
      },
      "source": [
        "### Преобразование типов\n",
        "\n",
        "С разными типами объектов можно проделывать разные операции! Нельзя перемножить строки, но можно числа. Однако можно преобразовывать типы объектов. Чтобы превратить что-то в «строку», воспользуемся *функцией* `str()`, чтобы строку, обозначающую число, превратить в «число», то `int()`."
      ]
    },
    {
      "cell_type": "code",
      "metadata": {
        "id": "4uwA-L9SWeTG",
        "outputId": "9fbdcc11-8763-4b37-d9ee-4eae2a13d5ad",
        "colab": {
          "base_uri": "https://localhost:8080/"
        }
      },
      "source": [
        "type('356'), type(int('356'))"
      ],
      "execution_count": 29,
      "outputs": [
        {
          "output_type": "execute_result",
          "data": {
            "text/plain": [
              "(str, int)"
            ]
          },
          "metadata": {},
          "execution_count": 29
        }
      ]
    },
    {
      "cell_type": "code",
      "metadata": {
        "id": "9ItA0NuIWeTH",
        "outputId": "96446e3b-5d8a-4456-da55-bf4d11986ba9",
        "colab": {
          "base_uri": "https://localhost:8080/"
        }
      },
      "source": [
        "a = int('9')\n",
        "a / 2"
      ],
      "execution_count": 30,
      "outputs": [
        {
          "output_type": "execute_result",
          "data": {
            "text/plain": [
              "4.5"
            ]
          },
          "metadata": {},
          "execution_count": 30
        }
      ]
    },
    {
      "cell_type": "markdown",
      "metadata": {
        "id": "6HrEFuNAWeTH"
      },
      "source": [
        "Функция `input()` всегда считывает с клавиатуры именно строки!\n",
        "\n",
        "Исправьте нашу программу, где мы не смогли сложить `a + b`: https://contest.yandex.ru/contest/28661/problems/H/\n",
        "\n",
        "Также решите задачу: https://contest.yandex.ru/contest/28661/problems/I/"
      ]
    },
    {
      "cell_type": "markdown",
      "metadata": {
        "id": "Wo4DhZ_gWeTI"
      },
      "source": [
        "### Подробнее про особенности типов данных ###\n",
        "\n",
        "Строки обычно заключаются в одинарные кавычки, но их так же можно заключать в двойные кавычки (но слева и справа кавычки должны быть одинаковые). Так же если кавычки это часть строки, то надо использовать разные виды кавычек."
      ]
    },
    {
      "cell_type": "code",
      "metadata": {
        "id": "KRhnUB8xWeTI",
        "outputId": "8b87f0fa-da0e-492d-f039-1c822772b5a9",
        "colab": {
          "base_uri": "https://localhost:8080/"
        }
      },
      "source": [
        "print(\"string\", 'string', 'it is \"string\"', \"it is 'string'\", sep='\\n')"
      ],
      "execution_count": 31,
      "outputs": [
        {
          "output_type": "stream",
          "name": "stdout",
          "text": [
            "string\n",
            "string\n",
            "it is \"string\"\n",
            "it is 'string'\n"
          ]
        }
      ]
    },
    {
      "cell_type": "code",
      "metadata": {
        "id": "LZ-Zx2cOWeTJ",
        "outputId": "41318424-a6ab-4cbe-cd7f-43dc69738fac",
        "colab": {
          "base_uri": "https://localhost:8080/"
        }
      },
      "source": [
        "print(\"it's a code\")"
      ],
      "execution_count": 32,
      "outputs": [
        {
          "output_type": "stream",
          "name": "stdout",
          "text": [
            "it's a code\n"
          ]
        }
      ]
    },
    {
      "cell_type": "markdown",
      "metadata": {
        "id": "FXZpndz3WeTJ"
      },
      "source": [
        "Строки так же могут быть многострочными, в таком случае нужны тройные кавычки (подходят как одинарные, так и двойные)"
      ]
    },
    {
      "cell_type": "code",
      "metadata": {
        "id": "a6V6DTSTWeTJ",
        "outputId": "95d2a2f0-d278-493b-82b6-32dd707c99b2",
        "colab": {
          "base_uri": "https://localhost:8080/"
        }
      },
      "source": [
        "print('''первая строка\n",
        "вторая строка\n",
        "третья строка\n",
        "    со сдвигом''')"
      ],
      "execution_count": 33,
      "outputs": [
        {
          "output_type": "stream",
          "name": "stdout",
          "text": [
            "первая строка\n",
            "вторая строка\n",
            "третья строка\n",
            "    со сдвигом\n"
          ]
        }
      ]
    },
    {
      "cell_type": "markdown",
      "metadata": {
        "id": "y8_XddjWWeTJ"
      },
      "source": [
        "Если применить `int()` к вещественному числу, то просто отбросится дробная часть:"
      ]
    },
    {
      "cell_type": "code",
      "metadata": {
        "id": "ARUQKTteWeTK",
        "outputId": "99b19790-e96e-4020-d3f2-4c6bab816202",
        "colab": {
          "base_uri": "https://localhost:8080/"
        }
      },
      "source": [
        "pi = 3.14159265359\n",
        "print(type(pi))\n",
        "print(int(pi))\n",
        "int(3.7)"
      ],
      "execution_count": 34,
      "outputs": [
        {
          "output_type": "stream",
          "name": "stdout",
          "text": [
            "<class 'float'>\n",
            "3\n"
          ]
        },
        {
          "output_type": "execute_result",
          "data": {
            "text/plain": [
              "3"
            ]
          },
          "metadata": {},
          "execution_count": 34
        }
      ]
    },
    {
      "cell_type": "markdown",
      "metadata": {
        "id": "D4tnQAwMWeTK"
      },
      "source": [
        "Есть функция округления `round()` (обратите внимание, что число вида `x.5` округляется в сторону ближайшего четного числа):"
      ]
    },
    {
      "cell_type": "code",
      "metadata": {
        "id": "Wfi88IqeWeTK",
        "outputId": "ba85c4c8-f8b6-44fe-c0f1-ac42c73caf55",
        "colab": {
          "base_uri": "https://localhost:8080/"
        }
      },
      "source": [
        "round(3.12), round(3.5), round(4.5)"
      ],
      "execution_count": 35,
      "outputs": [
        {
          "output_type": "execute_result",
          "data": {
            "text/plain": [
              "(3, 4, 4)"
            ]
          },
          "metadata": {},
          "execution_count": 35
        }
      ]
    },
    {
      "cell_type": "markdown",
      "metadata": {
        "id": "DbMr_4NzWeTK"
      },
      "source": [
        "Целочисленное деление возвращает тот тип, который был у делимого:"
      ]
    },
    {
      "cell_type": "code",
      "metadata": {
        "id": "9X12SVbXWeTL",
        "outputId": "2c5f54f4-f1a9-43f5-bacf-212540b13a2d",
        "colab": {
          "base_uri": "https://localhost:8080/"
        }
      },
      "source": [
        "type(5 // 2), type(pi // 3)"
      ],
      "execution_count": 36,
      "outputs": [
        {
          "output_type": "execute_result",
          "data": {
            "text/plain": [
              "(int, float)"
            ]
          },
          "metadata": {},
          "execution_count": 36
        }
      ]
    },
    {
      "cell_type": "markdown",
      "metadata": {
        "id": "oPCk9OlRWeTL"
      },
      "source": [
        "Деление всегда возвращает `float`:"
      ]
    },
    {
      "cell_type": "code",
      "metadata": {
        "id": "dsBRxk5kWeTL",
        "outputId": "7d45661a-035b-4e71-82c2-0225ee6867a6",
        "colab": {
          "base_uri": "https://localhost:8080/"
        }
      },
      "source": [
        "type(5 / 2), type(4 / 2), type(pi / 3)"
      ],
      "execution_count": 37,
      "outputs": [
        {
          "output_type": "execute_result",
          "data": {
            "text/plain": [
              "(float, float, float)"
            ]
          },
          "metadata": {},
          "execution_count": 37
        }
      ]
    },
    {
      "cell_type": "markdown",
      "metadata": {
        "id": "5mV7ehh9WeTL"
      },
      "source": [
        "Следующие числа будут типа `float`:"
      ]
    },
    {
      "cell_type": "code",
      "metadata": {
        "id": "zGYZrnAOWeTM",
        "outputId": "43041d51-b817-46ad-8d2a-cc033aa179ec",
        "colab": {
          "base_uri": "https://localhost:8080/"
        }
      },
      "source": [
        "1, 1. , 1.0, 1.25, 1e5, 1e-2, 2e2, 2.99E-3, float('-1e4'), float(1)"
      ],
      "execution_count": 38,
      "outputs": [
        {
          "output_type": "execute_result",
          "data": {
            "text/plain": [
              "(1, 1.0, 1.0, 1.25, 100000.0, 0.01, 200.0, 0.00299, -10000.0, 1.0)"
            ]
          },
          "metadata": {},
          "execution_count": 38
        }
      ]
    },
    {
      "cell_type": "markdown",
      "metadata": {
        "id": "CIkUWpWoWeTM"
      },
      "source": [
        "### e-float число\n",
        "\n",
        "Такое вещественное число состоит из двух частей $-$ то, что стоит слева от буквы, и то, что стоит справа. Представим это так: `leftEright`. Тогда число будет равно `left * 10 ** right`. Левая часть (мантисса) может быть `int` и `float`, правая (порядок) только `int` (оба как положительные, так и отрицательные). Пробелы между ними не ставятся."
      ]
    },
    {
      "cell_type": "code",
      "metadata": {
        "colab": {
          "base_uri": "https://localhost:8080/"
        },
        "id": "lq_Zmy0TnuGi",
        "outputId": "879b4447-c26a-4894-897c-4a5de64d065c"
      },
      "source": [
        "print(-1e-3)\n",
        "print(float('1.25e10'))\n"
      ],
      "execution_count": 39,
      "outputs": [
        {
          "output_type": "stream",
          "name": "stdout",
          "text": [
            "-0.001\n",
            "12500000000.0\n"
          ]
        }
      ]
    },
    {
      "cell_type": "markdown",
      "metadata": {
        "id": "5FtIXFWbpCqL"
      },
      "source": [
        "Решите задачу: https://contest.yandex.ru/contest/28661/problems/J/"
      ]
    },
    {
      "cell_type": "markdown",
      "metadata": {
        "id": "25SrBmsHoGGY"
      },
      "source": [
        "Также существует \"самое большое число\" - бесконечность:"
      ]
    },
    {
      "cell_type": "code",
      "metadata": {
        "colab": {
          "base_uri": "https://localhost:8080/"
        },
        "id": "LbCK7y84oFJv",
        "outputId": "4128c570-aca7-48cd-9a3d-c2e54b361b28"
      },
      "source": [
        "print(float('inf'))"
      ],
      "execution_count": 40,
      "outputs": [
        {
          "output_type": "stream",
          "name": "stdout",
          "text": [
            "inf\n"
          ]
        }
      ]
    },
    {
      "cell_type": "markdown",
      "metadata": {
        "id": "IevPwfYSWeTM"
      },
      "source": [
        "Из-за **представления чисел в компьютере** вещественные числа неточны, и это может привести к ошибкам (для высокой точности используют другие объекты, например, Decimal и Fraction):"
      ]
    },
    {
      "cell_type": "code",
      "metadata": {
        "id": "5qqFlM68WeTM",
        "outputId": "92ca75bc-5c0e-4623-d097-8a02d2d4524f",
        "colab": {
          "base_uri": "https://localhost:8080/"
        }
      },
      "source": [
        "# равно 1.0\n",
        "0.1 + 0.1 + 0.1 + 0.1 + 0.1 + 0.1 + 0.1 + 0.1 + 0.1 + 0.1"
      ],
      "execution_count": 41,
      "outputs": [
        {
          "output_type": "execute_result",
          "data": {
            "text/plain": [
              "0.9999999999999999"
            ]
          },
          "metadata": {},
          "execution_count": 41
        }
      ]
    },
    {
      "cell_type": "code",
      "metadata": {
        "id": "U4simujgWeTM",
        "outputId": "16b4edee-b4da-4ee9-8551-875c923393d2",
        "colab": {
          "base_uri": "https://localhost:8080/"
        }
      },
      "source": [
        "from decimal import Decimal\n",
        "print(Decimal(0.1))"
      ],
      "execution_count": 42,
      "outputs": [
        {
          "output_type": "stream",
          "name": "stdout",
          "text": [
            "0.1000000000000000055511151231257827021181583404541015625\n"
          ]
        }
      ]
    },
    {
      "cell_type": "code",
      "metadata": {
        "id": "1r3SVpniWeTN",
        "outputId": "5cd6d82e-1b46-4796-e55a-2353a3cc3dd8",
        "colab": {
          "base_uri": "https://localhost:8080/"
        }
      },
      "source": [
        "print(float(0.1))"
      ],
      "execution_count": 43,
      "outputs": [
        {
          "output_type": "stream",
          "name": "stdout",
          "text": [
            "0.1\n"
          ]
        }
      ]
    },
    {
      "cell_type": "code",
      "metadata": {
        "id": "ekdeHTzeWeTN",
        "outputId": "890b8290-5332-4845-f82d-ca9027ad07b7",
        "colab": {
          "base_uri": "https://localhost:8080/"
        }
      },
      "source": [
        "a = Decimal('0.1')\n",
        "print(a)\n",
        "print(float(a + a + a + a + a + a + a + a + a + a))"
      ],
      "execution_count": 44,
      "outputs": [
        {
          "output_type": "stream",
          "name": "stdout",
          "text": [
            "0.1\n",
            "1.0\n"
          ]
        }
      ]
    },
    {
      "cell_type": "markdown",
      "metadata": {
        "id": "KjPMDBHUWeTN"
      },
      "source": [
        "Также вещественные числа не поддерживают **длинную арифметику** (целая часть числа настолько длинная, что хранить то, что после запятой, не получается):"
      ]
    },
    {
      "cell_type": "code",
      "metadata": {
        "id": "RuPgwkO6WeTN",
        "outputId": "ec783fb3-fa6b-495b-e381-5a2f3c275181",
        "colab": {
          "base_uri": "https://localhost:8080/",
          "height": 181
        }
      },
      "source": [
        "a = 3 ** 1000\n",
        "a + 0.0001"
      ],
      "execution_count": 45,
      "outputs": [
        {
          "output_type": "error",
          "ename": "OverflowError",
          "evalue": "ignored",
          "traceback": [
            "\u001b[0;31m---------------------------------------------------------------------------\u001b[0m",
            "\u001b[0;31mOverflowError\u001b[0m                             Traceback (most recent call last)",
            "\u001b[0;32m<ipython-input-45-2d26bbada7af>\u001b[0m in \u001b[0;36m<module>\u001b[0;34m()\u001b[0m\n\u001b[1;32m      1\u001b[0m \u001b[0ma\u001b[0m \u001b[0;34m=\u001b[0m \u001b[0;36m3\u001b[0m \u001b[0;34m**\u001b[0m \u001b[0;36m1000\u001b[0m\u001b[0;34m\u001b[0m\u001b[0;34m\u001b[0m\u001b[0m\n\u001b[0;32m----> 2\u001b[0;31m \u001b[0ma\u001b[0m \u001b[0;34m+\u001b[0m \u001b[0;36m0.0001\u001b[0m\u001b[0;34m\u001b[0m\u001b[0;34m\u001b[0m\u001b[0m\n\u001b[0m",
            "\u001b[0;31mOverflowError\u001b[0m: int too large to convert to float"
          ]
        }
      ]
    },
    {
      "cell_type": "markdown",
      "metadata": {
        "id": "LOYu3q-yWeTO"
      },
      "source": [
        "Для проведения вычислений с действительными числами язык Питон содержит много дополнительных функций, собранных в **библиотеку** (модуль), которая называется `math` (больше тут https://docs.python.org/3.8/library/math.html)."
      ]
    },
    {
      "cell_type": "code",
      "metadata": {
        "id": "yqb4pMlzWeTO",
        "outputId": "98039b79-14a7-49af-a45a-2c7fc12802f8",
        "colab": {
          "base_uri": "https://localhost:8080/"
        }
      },
      "source": [
        "import math\n",
        "\n",
        "print('sin(3) =', math.sin(3))\n",
        "print('Округление вверх', math.ceil(3.14))\n",
        "print('Округление вниз ', math.floor(3.999))"
      ],
      "execution_count": 46,
      "outputs": [
        {
          "output_type": "stream",
          "name": "stdout",
          "text": [
            "sin(3) = 0.1411200080598672\n",
            "Округление вверх 4\n",
            "Округление вниз  3\n"
          ]
        }
      ]
    }
  ]
}