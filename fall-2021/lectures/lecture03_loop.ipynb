{
  "nbformat": 4,
  "nbformat_minor": 0,
  "metadata": {
    "celltoolbar": "Slideshow",
    "kernelspec": {
      "display_name": "Python 3",
      "language": "python",
      "name": "python3"
    },
    "language_info": {
      "codemirror_mode": {
        "name": "ipython",
        "version": 3
      },
      "file_extension": ".py",
      "mimetype": "text/x-python",
      "name": "python",
      "nbconvert_exporter": "python",
      "pygments_lexer": "ipython3",
      "version": "3.6.9"
    },
    "colab": {
      "name": "lecture03_loop.ipynb",
      "provenance": [],
      "include_colab_link": true
    }
  },
  "cells": [
    {
      "cell_type": "markdown",
      "metadata": {
        "id": "view-in-github",
        "colab_type": "text"
      },
      "source": [
        "<a href=\"https://colab.research.google.com/github/svdcvt/math_python_hse/blob/master/fall-2021/lectures/lecture03_loop.ipynb\" target=\"_parent\"><img src=\"https://colab.research.google.com/assets/colab-badge.svg\" alt=\"Open In Colab\"/></a>"
      ]
    },
    {
      "cell_type": "markdown",
      "metadata": {
        "id": "94Ogg_WcIuqr"
      },
      "source": [
        "# Занятие №3: циклы `while` и `for`, функция `range`.\n",
        "\n",
        "---\n",
        "\n",
        "[МИНИКОНТЕСТ](https://contest.yandex.ru/contest/28830)\n",
        "---\n",
        "---\n",
        "https://replit.com - можете сразу воспроизводить код и решать задачи используя онлайн интерпретатор Питона (\"Create Repl\" -> \"Select Langauge - Python\")"
      ]
    },
    {
      "cell_type": "markdown",
      "metadata": {
        "id": "FYwbU3ckTGwF"
      },
      "source": [
        "На предыдущем занятии мы изучили нелинейные конструкции `if`. Сегодня мы познакомимся с циклическими конструкциями, которые позволяют строить еще более сложные программы, позволяющие решать более широкий класс задачек."
      ]
    },
    {
      "cell_type": "markdown",
      "metadata": {
        "id": "21OUM8LGT_O3"
      },
      "source": [
        "## Что такое цикл и зачем он нужен?\n"
      ]
    },
    {
      "cell_type": "markdown",
      "metadata": {
        "id": "CrdHRLiK5g2V"
      },
      "source": [
        "\n",
        "В программировании **циклом** называют набор действий (блок кода), который повторяется некоторое количество раз, пока необходимый процесс не совершен. То, сколько раз этот набор будет выполняться, зависит от задачи. **Итерацией** называют как раз один повтор этого набора действий. \n",
        "\n",
        "### Цикл по условию\n",
        "\n",
        "Иногда мы не знаем, сколько итераций понадобится, чтобы выполнить задачу, а знаем лишь то, почему цикл должен закончиться.\n",
        "\n",
        "Например, мы заходим в магазин у дома, имея какую-то сумму денег $S$. Мы подряд набираем в корзину случайные продукты с ценой $P_i$. Мы заканчиваем набирать товары, пока не уйдем в минус первый раз (если что, то попросим кассира одолжить нам немного по старой дружбе). \n",
        "\n",
        "Мы будем набирать товары так:\n",
        "\n",
        "* $S = S - P_1$, $S > 0$? Ok, next.\n",
        "* $S = S - P_2$, $S > 0$? Ok, next.\n",
        "* .....\n",
        "* $S = S - P_x$, $S > 0$? No, stop.\n",
        "\n",
        "*Задача*: набрать корзину продуктов, не уйдя в минус. </br>\n",
        "*Набор действий*: взять случайный товар и вычесть его цену $P_i$ из текущего баланса $S$. </br>\n",
        "*Количество повторений*: точно неизвестно, но... </br>\n",
        "*Условие конца цикла*: $S$ стало отрицательным.\n",
        "\n",
        "\n",
        "### Цикл по заданному количеству итераций\n",
        "\n",
        "Иногда мы заранее знаем, сколько итераций необходимо, для выполнения задачи. \n",
        "\n",
        "Например, мы хотим сложить числа от 1 до 5. Изначально, до того как начнем подсчет, наша \"текущая сумма\" $S$ равна нулю. Далее мы будем увеличивать нашу текущую сумму $S$ на \"следующее число\" $x$, которое начинается с 1-цы и заканчивается 5-ью. \n",
        "\n",
        "Мы будем складывать $S + x$:\n",
        "1. 0 + 1 = 1\n",
        "2. 1 + 2 = 3\n",
        "3. 3 + 3 = 6\n",
        "4. 6 + 4 = 10\n",
        "5. 10 + 5 = 15\n",
        "\n",
        "Итого, 5 итераций сложения $S$ и $x$. \n",
        "\n",
        "*Задача*: \"посчитать сумму чисел от 1 до 5\". </br>\n",
        "*Набор действий*: \"увеличить текущую сумму на следующее число\". </br>\n",
        "*Количество повторений*: 5 раз, потому что для решении задачи необходимо пройтись по числам 1, 2, 3, 4, 5, используя их как переменную \"следующее число\" $x$.\n",
        "\n",
        "---\n",
        "\n",
        "Надеюсь понятие цикла и его предназаначение вам стало понятнее. Два этих типа циклов нужно уметь различать и использовать в решении своей задачи тот, который удобнее/практичнее/проще. Однако, конечно, можно заметить, что циклы по условию можно использовать и как цикл с заданным числом итераций, просто условие будет \"пока номер итерации не равен N\". \n",
        "\n",
        "Дальше, мы разберем как писать такие циклы на Питоне и поговорим о некоторых важных деталях.\n",
        "\n"
      ]
    },
    {
      "cell_type": "markdown",
      "metadata": {
        "id": "OV2Qsu-sS22L"
      },
      "source": [
        "## Цикл `while` [DOCS](https://docs.python.org/3/reference/compound_stmts.html#the-while-statement)\n"
      ]
    },
    {
      "cell_type": "markdown",
      "metadata": {
        "id": "7BlGrfkp5jB7"
      },
      "source": [
        "\n",
        "Это тот самый первый тип цикла - **цикл по условию**. Собственно, слово \"*while*\" переводится как союз \"*пока*\": \"Я буду любить тебя, пока смерть не разлучит нас\". Как раз \"разлучение смертью\" является условием любви повторяющейся изо дня в день! И мы не знаем, сколько именно дней пройдет до выполнения условия. Пока что эликсир бесконечной жизни человечество не изобрело, поэтому этот цикл в конце концов закончится. Но!\n",
        "\n",
        "> Цикл `while` может **выполняться бесконечно**, если:\n",
        "- некорректно выбрать условия конца цикла, или\n",
        "- не изменять переменные, влияющие на условие.\n",
        "\n",
        "\n",
        "Мы рассмотрим далее, как это может происходить и как такой ситуации избегать, но для начала давайте изучим как выглядит сама конструкция в Питоне."
      ]
    },
    {
      "cell_type": "markdown",
      "metadata": {
        "id": "DYL9cdO6jXWd"
      },
      "source": [
        "### Конструкция\n",
        "\n",
        "Точно так же, как в конструкции `if`, здесь имеется заголовок, начинающийся с \"ключевого слова\" (while) и заканчивающийся двоеточием (:), а далее, на следующей строке с отступом, начинается блок инструкций (набор действий цикла): \n",
        "\n",
        "```python\n",
        "while Условие:\n",
        "    Набор действий цикла\n",
        "```\n",
        "\n",
        "**Условием** выступает логическое выражение, которое влияет на то, когда цикл заканчивается. \n",
        "\n",
        "> Пока условие истинно, цикл продолжается.\n",
        "\n"
      ]
    },
    {
      "cell_type": "code",
      "metadata": {
        "id": "28HmfDsLlZsc",
        "colab": {
          "base_uri": "https://localhost:8080/"
        },
        "outputId": "d40f2725-e4f2-4645-fabd-c670d52f7a88"
      },
      "source": [
        "S = float(input())\n",
        "print('Текущий баланс:', S)\n",
        "while S > 0:\n",
        "    P = float(input(\">>\"))\n",
        "    print('Стоимость товара:', P)\n",
        "    S = S - P\n",
        "    print('Баланс изменился:', S)\n",
        "\n",
        "print('У вас кончились деньги.\\nПридется просить продавца занять: ', -S)"
      ],
      "execution_count": null,
      "outputs": [
        {
          "output_type": "stream",
          "name": "stdout",
          "text": [
            "125.5\n",
            "Текущий баланс: 125.5\n",
            ">>100.5\n",
            "Стоимость товара: 100.5\n",
            "Баланс изменился: 25.0\n",
            ">>3\n",
            "Стоимость товара: 3.0\n",
            "Баланс изменился: 22.0\n",
            ">>12\n",
            "Стоимость товара: 12.0\n",
            "Баланс изменился: 10.0\n",
            ">>15\n",
            "Стоимость товара: 15.0\n",
            "Баланс изменился: -5.0\n",
            "У вас кончились деньги.\n",
            "Придется просить продавца занять:  5.0\n"
          ]
        }
      ]
    },
    {
      "cell_type": "markdown",
      "metadata": {
        "id": "CmwSVFH5mfWc"
      },
      "source": [
        "Обратите внимание, что блок инструкций выполняется от самого начала до самого конца (внутри одной итерации), вне зависимости от того, как значение $S$ меняется внутри него. Например, напечаталась фраза `Баланс изменился: -1.5`, даже когда $S$ уже не удовлетворяло условию. \n",
        "\n",
        "<img src=\"https://files.catbox.moe/petzes.png\" width=\"600\">\n",
        "\n",
        "То есть, если в момент проверки условие истинно, то итерация полностью выполняется. После конца итерации условие снова проверяется. И так далее, пока условие не станет ложным, после чего Питон выходит из цикла и продолжает выполнять тот код, который идет далее."
      ]
    },
    {
      "cell_type": "markdown",
      "metadata": {
        "id": "79CqUYlG5-XG"
      },
      "source": [
        "### Бесконечный цикл\n",
        "\n",
        "Главная особенность `while`-цикла, это его возможность стать бесконечным. Как правило, бесконечные циклы не нужны, и возникают исключительно по ошибки программиста. \n",
        "\n",
        "И самая типичная, это забывать **менять переменную**, от которой зависит условие."
      ]
    },
    {
      "cell_type": "code",
      "metadata": {
        "id": "-bzED2z8Ax8b"
      },
      "source": [
        "i = 0\n",
        "while i < 10:\n",
        "    print(i ** 2)\n",
        "    # i = 1 + 1"
      ],
      "execution_count": null,
      "outputs": []
    },
    {
      "cell_type": "code",
      "metadata": {
        "id": "2J_CVqJFAxwG"
      },
      "source": [
        "i = input()\n",
        "while i != 'End':\n",
        "    print(i)\n",
        "    # i = input()"
      ],
      "execution_count": null,
      "outputs": []
    },
    {
      "cell_type": "markdown",
      "metadata": {
        "id": "k30q--qOBW3g"
      },
      "source": [
        "По сути конструкцию цикла можно записать и так:\n",
        "\n",
        "```python\n",
        "while Условие(X):\n",
        "    Блок инструкций, в котором меняется X\n",
        "```\n",
        "\n",
        "Поэтому, чтобы не создать \"баг\", приводящий к бесконечному или пустоу циклу, надо внимательно проверять, что:\n",
        "1. Условие корректно записано (поставлен правильный оператор сравнения и т.д.).\n",
        "2. Внутри итерации меняется переменная, влияющая на условие (прибавление числа, ввод с клавиатуры)."
      ]
    },
    {
      "cell_type": "markdown",
      "metadata": {
        "id": "NsZA-5WkB3Hj"
      },
      "source": [
        "Решите задачи:\n",
        "* https://contest.yandex.ru/contest/28830/problems/A/ (от А до В)\n",
        "* https://contest.yandex.ru/contest/28830/problems/B/ (от А до В с шагом 2)\n",
        "* https://contest.yandex.ru/contest/28830/problems/С/ (input пока не END)\n",
        "* https://contest.yandex.ru/contest/28830/problems/D/ (input пока не -1000, подсчитывая сумму)"
      ]
    },
    {
      "cell_type": "markdown",
      "metadata": {
        "id": "19A50qYDIuq4"
      },
      "source": [
        "##  Цикл `for` [DOCS](https://docs.python.org/3/tutorial/controlflow.html#for-statements)\n"
      ]
    },
    {
      "cell_type": "markdown",
      "metadata": {
        "id": "LeRcguImIuq6"
      },
      "source": [
        "Теперь изучим цикл, в котором заранее известно число итераций. \n",
        "\n",
        "Конструкция выглядит просто. Как и в цикле `while` или условной конструкции `if`, имеется заголовок, начинающийся с ключевого слова `for` и заканчивающийся двоеточием (:), после чего на новой строке с отступом начинается блок инструкций итерации."
      ]
    },
    {
      "cell_type": "markdown",
      "metadata": {
        "id": "VsrCMHJFIuq7"
      },
      "source": [
        "```python\n",
        "for X in SEQUENCE:\n",
        "    Блок инструкций\n",
        "```"
      ]
    },
    {
      "cell_type": "markdown",
      "metadata": {
        "id": "fxAMZpV2Iuq_"
      },
      "source": [
        "В заголовке также присутствует два объекта и разделяющее их ключевое слово `in`. Первый мы будем называть итерационной переменной. Второй - итерационной последовательностью. \n",
        "\n",
        "### Объекты, определяющие конечный цикл\n",
        "\n",
        "За количество итераций отвечает **итерационная последовательность**, т.к. её длина соответствует длине цикла. \"Как последовательность мы зададим, так цикл и пойдет\". В качестве последовательности могут выступать объекты довольно разных типов. Пока что мы знакомы только с одним из них - со строкой (string). Строка это последовательность из символов. Цикл будет такой же длины как и строка. Кроме этого, можно просто указать значения через запятую, это будет объект типа tuple, с которым мы познакомимся уже на следующем занятии. Но сейчас нам это не принципиально.\n",
        "\n",
        "**Итерационная переменная** может использоваться внутри блока инструкций цикла. На каждой итерации этой переменной присваивается $i$-тое значение последовательности, после чего выполняется блок инструкций. По окончанию блока инструкций, если последовательность еще не кончилась, переменной присваивается $i+1$-ое значение последовательности. И так далее. Когда последовательность кончится, Питон выходит из цикла и выполняет код, который идет дальше.\n",
        "\n",
        "<img src=\"https://files.catbox.moe/cztt0t.png\" width=\"700\">\n",
        "\n",
        "Питон довольно читаемый язык программирования, поэтому конструкцию цикла можно интерпретировать следующим образом: \n",
        "\n",
        ">*для (**for**) каждого $x_1, x_2, \\dots, x_n$ в (**in**) последовательности $X$ выполни код*\n",
        "\n",
        "Давайте взглянем на пример:"
      ]
    },
    {
      "cell_type": "code",
      "metadata": {
        "id": "6-Vl1js8KGZU",
        "colab": {
          "base_uri": "https://localhost:8080/"
        },
        "outputId": "3dea7399-e875-4cdd-d006-d47e251826ed"
      },
      "source": [
        "sequence = 1, 2, 3, 4, 5\n",
        "for x in sequence:\n",
        "    print(x)"
      ],
      "execution_count": null,
      "outputs": [
        {
          "output_type": "stream",
          "name": "stdout",
          "text": [
            "1\n",
            "2\n",
            "3\n",
            "4\n",
            "5\n"
          ]
        }
      ]
    },
    {
      "cell_type": "code",
      "metadata": {
        "id": "2X8Svh8dJi1v",
        "colab": {
          "base_uri": "https://localhost:8080/"
        },
        "outputId": "b2d21e45-0a45-40ee-cdd6-db4e0359185b"
      },
      "source": [
        "sequence = 'абвгдеёжзийклмнопрстуфхцчшщьыъэюя'\n",
        "\n",
        "for letter in sequence:\n",
        "    print(letter, end=' ')\n",
        "    if letter == \"я\":\n",
        "        print('.')"
      ],
      "execution_count": null,
      "outputs": [
        {
          "output_type": "stream",
          "name": "stdout",
          "text": [
            "а б в г д е ё ж з и й к л м н о п р с т у ф х ц ч ш щ ь ы ъ э ю я .\n"
          ]
        }
      ]
    },
    {
      "cell_type": "markdown",
      "metadata": {
        "id": "5IKYtwL6KBRY"
      },
      "source": [
        "Решите задачи: \n",
        "* https://contest.yandex.ru/contest/28830/problems/H/ (итерация по строке)\n",
        "* https://contest.yandex.ru/contest/28830/problems/I/ (итерация по строке с проверкой на символ-пробел, подсчет)"
      ]
    },
    {
      "cell_type": "markdown",
      "metadata": {
        "id": "fxZqvMqSNjyy"
      },
      "source": [
        "### Ошибочные предположения"
      ]
    },
    {
      "cell_type": "markdown",
      "metadata": {
        "id": "aOfBj2EYMIVW"
      },
      "source": [
        "Изменение итерационной переменной никак не влияет на сам ход цикла. При старте каждой новой итерации, Питон берет \"следующий элемент последовательности\" и просто кладет его значение в переменную. "
      ]
    },
    {
      "cell_type": "code",
      "metadata": {
        "id": "7WTAuWNhMH5D",
        "colab": {
          "base_uri": "https://localhost:8080/"
        },
        "outputId": "ae704ff5-2c7a-46b3-d784-2c36886a33fd"
      },
      "source": [
        "sequence = 1, 2, 3\n",
        "\n",
        "for x in sequence:\n",
        "    print(\"Начало итерации.\")\n",
        "    print(\"x =\", x)\n",
        "    x = x + 2\n",
        "    print(\"После изменения, x =\", x)\n",
        "    print(\"Конец итерации.\")"
      ],
      "execution_count": null,
      "outputs": [
        {
          "output_type": "stream",
          "name": "stdout",
          "text": [
            "Начало итерации.\n",
            "x = 1\n",
            "После изменения, x = 3\n",
            "Конец итерации.\n",
            "Начало итерации.\n",
            "x = 2\n",
            "После изменения, x = 4\n",
            "Конец итерации.\n",
            "Начало итерации.\n",
            "x = 3\n",
            "После изменения, x = 5\n",
            "Конец итерации.\n"
          ]
        }
      ]
    },
    {
      "cell_type": "markdown",
      "metadata": {
        "id": "u5dI88ZxLiaB"
      },
      "source": [
        "Изменение итерационной переменной абсолютно никак не влияет на саму итерационную последовательность:"
      ]
    },
    {
      "cell_type": "code",
      "metadata": {
        "id": "N-zwFZTNKyR7",
        "colab": {
          "base_uri": "https://localhost:8080/"
        },
        "outputId": "0f07cd9f-e4c9-4f6b-aa81-5d12bd85bd1d"
      },
      "source": [
        "cities = 'kaliningrad', 'moscow', 'ufa', 'chelybinsk', 'vladivostok'\n",
        "for city in cities:\n",
        "    if city == \"moscow\":\n",
        "        city = \"capital of russia\"\n",
        "    print(\"i was in\", city)\n",
        "\n",
        "print(cities) # в самом объекте moscow не поменяется на capital of russia"
      ],
      "execution_count": null,
      "outputs": [
        {
          "output_type": "stream",
          "name": "stdout",
          "text": [
            "i was in kaliningrad\n",
            "i was in capital of russia\n",
            "i was in ufa\n",
            "i was in chelybinsk\n",
            "i was in vladivostok\n",
            "('kaliningrad', 'moscow', 'ufa', 'chelybinsk', 'vladivostok')\n"
          ]
        }
      ]
    },
    {
      "cell_type": "markdown",
      "metadata": {
        "id": "VA-SM-wnLu8n"
      },
      "source": [
        "Изменение итерационной последовательности внутри цикла никак не влияет на цикл! При первом вхождении в цикл, Питон запоминает по чему он должен будет итерироваться, не обращая внимания на \"нововведения\"."
      ]
    },
    {
      "cell_type": "code",
      "metadata": {
        "id": "ZX2uj-PBL-e5",
        "colab": {
          "base_uri": "https://localhost:8080/"
        },
        "outputId": "73339f8a-d9f6-4996-81fa-260dfa428663"
      },
      "source": [
        "numbers = 1, 2, 3\n",
        "print(numbers)\n",
        "for num in numbers:\n",
        "    print(\"Начало итерации.\")\n",
        "    print(num)\n",
        "    numbers = num + 2, num + 2, num + 2\n",
        "    print(numbers)\n",
        "    print(\"Конец итерации.\")"
      ],
      "execution_count": null,
      "outputs": [
        {
          "output_type": "stream",
          "name": "stdout",
          "text": [
            "(1, 2, 3)\n",
            "Начало итерации.\n",
            "1\n",
            "(3, 3, 3)\n",
            "Конец итерации.\n",
            "Начало итерации.\n",
            "2\n",
            "(4, 4, 4)\n",
            "Конец итерации.\n",
            "Начало итерации.\n",
            "3\n",
            "(5, 5, 5)\n",
            "Конец итерации.\n"
          ]
        }
      ]
    },
    {
      "cell_type": "markdown",
      "metadata": {
        "id": "_t2ORL3FIurB"
      },
      "source": [
        "Если до цикла существовала некоторая переменная, имя который мы используем для итерационной переменной, то она будет перезаписана в ходе цикла. Поэтому надо следить за тем, чтобы случайно не назвать итерационную переменную так же, как какую-то необходимую переменную до. Внутри цикла и после цикла она не \"вернется в память\", мы не сможем её использовать.\n",
        "\n",
        "Также после цикла итерационную переменную можно использовать дальше в качестве самой обычной переменной. Значение итерационной переменной будет равняться последнему элементу итерационное последовательности (или значению, которое было присвоено переменной внутри последнего цикла)."
      ]
    },
    {
      "cell_type": "code",
      "metadata": {
        "id": "uXfohohWFKw6",
        "colab": {
          "base_uri": "https://localhost:8080/"
        },
        "outputId": "2f5b788b-6c67-411b-d0e0-5bccd9790385"
      },
      "source": [
        "x = 10\n",
        "print(\"x =\", x)\n",
        "print(\"Начало цикла.\")\n",
        "for x in 1, 2, 3:\n",
        "    print(\"Начало итерации.\")\n",
        "    print(\"x =\", x)\n",
        "    x = x + 2\n",
        "    print(\"После изменения, x =\", x)\n",
        "    print(\"Конец итерации.\")\n",
        "print(\"Конец цикла.\")\n",
        "print(\"x =\", x)"
      ],
      "execution_count": null,
      "outputs": [
        {
          "output_type": "stream",
          "name": "stdout",
          "text": [
            "x = 10\n",
            "Начало цикла.\n",
            "Начало итерации.\n",
            "x = 1\n",
            "После изменения, x = 3\n",
            "Конец итерации.\n",
            "Начало итерации.\n",
            "x = 2\n",
            "После изменения, x = 4\n",
            "Конец итерации.\n",
            "Начало итерации.\n",
            "x = 3\n",
            "После изменения, x = 5\n",
            "Конец итерации.\n",
            "Конец цикла.\n",
            "x = 5\n"
          ]
        }
      ]
    },
    {
      "cell_type": "markdown",
      "metadata": {
        "id": "QxCY0U0jIurW"
      },
      "source": [
        "##  Функция `range`  \n"
      ]
    },
    {
      "cell_type": "markdown",
      "metadata": {
        "id": "QEUy0LVs5mo1"
      },
      "source": [
        "\n",
        "Чтобы создать **конечную последовательность целых чисел от N (включительно) до M (не включительно) с шагом k**, можно воспользоваться функцией `range()` [DOCS](https://docs.python.org/3/library/stdtypes.html). Её синтаксис выглядит так:\n",
        "\n",
        "> `range([start=0], stop, [step=1]) ->`</br>\n",
        " `-> (start, start + step, ..., start + step ** i, stop - step)`\n",
        "\n",
        "У функции три аргумента, принимающие значения типа `int` - `start`, `stop`, `step`. Первый и последний имеют значения по умолчанию, начало последовательности $N=0$ и шаг $k=1$. Если вы помните, то у знакомой нам функции `print` тоже были аргументы с дефолтными значениями (`sep`, `end`). Мы могли их опустить и использовать при печати параметры по умолчанию. Однако мы прописывали названия параметров, чтобы указать их. В этой же функции мы так сделать не сможем:\n",
        "\n"
      ]
    },
    {
      "cell_type": "code",
      "metadata": {
        "id": "KqX33kIUssFx",
        "colab": {
          "base_uri": "https://localhost:8080/",
          "height": 163
        },
        "outputId": "73a11c7e-e4cc-421f-d718-3952e79d1b01"
      },
      "source": [
        "range(start=0, stop=5, step=1)"
      ],
      "execution_count": null,
      "outputs": [
        {
          "output_type": "error",
          "ename": "TypeError",
          "evalue": "ignored",
          "traceback": [
            "\u001b[0;31m---------------------------------------------------------------------------\u001b[0m",
            "\u001b[0;31mTypeError\u001b[0m                                 Traceback (most recent call last)",
            "\u001b[0;32m<ipython-input-8-3853f58340f1>\u001b[0m in \u001b[0;36m<module>\u001b[0;34m()\u001b[0m\n\u001b[0;32m----> 1\u001b[0;31m \u001b[0mrange\u001b[0m\u001b[0;34m(\u001b[0m\u001b[0mstart\u001b[0m\u001b[0;34m=\u001b[0m\u001b[0;36m0\u001b[0m\u001b[0;34m,\u001b[0m \u001b[0mstop\u001b[0m\u001b[0;34m=\u001b[0m\u001b[0;36m5\u001b[0m\u001b[0;34m,\u001b[0m \u001b[0mstep\u001b[0m\u001b[0;34m=\u001b[0m\u001b[0;36m1\u001b[0m\u001b[0;34m)\u001b[0m\u001b[0;34m\u001b[0m\u001b[0;34m\u001b[0m\u001b[0m\n\u001b[0m",
            "\u001b[0;31mTypeError\u001b[0m: range() takes no keyword arguments"
          ]
        }
      ]
    },
    {
      "cell_type": "markdown",
      "metadata": {
        "id": "YKied-M4tIuS"
      },
      "source": [
        "Почему - мы поговорим об этом на занятии №5, когда будем изучать тему функций. А пока, просто запомните, что есть три возможных способа задать последовательность $\\{N, N+k,..., M - k\\}$:\n",
        "1. Указав только конец последовательности $M$ (считая, что $N=0$, $k=1$): `range(M)`\n",
        "2. Указав начало $N$ и конец $M$ (считая, что $k=1$): `range(N, M)`\n",
        "3. Указав начало, конец и шаг: `range(N, M, k)`\n",
        "\n",
        "Таким образом, например, нельзя указать конец $M$ и шаг $k$, опустив начало $N$, считая, что оно по умолчанию. Ну и, конечно, мы никак не можем не указать конец $M$ совсем (то, есть последовательность не может быть бесконечной).\n",
        "\n",
        "Далее, пример трех эквивалентных способов, которые задают последовательность $0, 1, 2, 3, 4$:\n",
        "\n"
      ]
    },
    {
      "cell_type": "code",
      "metadata": {
        "id": "B1feyY-qsWJv",
        "colab": {
          "base_uri": "https://localhost:8080/"
        },
        "outputId": "00420dc1-e673-4ba3-a9e8-a489b2b557c7"
      },
      "source": [
        "print('range(0, 5, 1) == range(0, 5) == range(5)?   ', \n",
        "      range(0, 5, 1) == range(0, 5) == range(5))"
      ],
      "execution_count": null,
      "outputs": [
        {
          "output_type": "stream",
          "name": "stdout",
          "text": [
            "range(0, 5, 1) == range(0, 5) == range(5)?    True\n"
          ]
        }
      ]
    },
    {
      "cell_type": "markdown",
      "metadata": {
        "id": "hR-XSR7DwqGY"
      },
      "source": [
        "Как было сказано выше, функция выдает объект типа `range`:"
      ]
    },
    {
      "cell_type": "code",
      "metadata": {
        "id": "kRCyFSQ5wpOf",
        "colab": {
          "base_uri": "https://localhost:8080/"
        },
        "outputId": "078bc165-5ef3-4779-9477-9eabb88c556d"
      },
      "source": [
        "print(range(5))\n",
        "print(type(range(5)))"
      ],
      "execution_count": null,
      "outputs": [
        {
          "output_type": "stream",
          "name": "stdout",
          "text": [
            "range(0, 5)\n",
            "<class 'range'>\n"
          ]
        }
      ]
    },
    {
      "cell_type": "markdown",
      "metadata": {
        "id": "S4fDdzLvw0Cq"
      },
      "source": [
        "И его главное назначение это быть объектом для итерации в цикле `for`:"
      ]
    },
    {
      "cell_type": "code",
      "metadata": {
        "id": "tZkTz-aKplsT",
        "colab": {
          "base_uri": "https://localhost:8080/"
        },
        "outputId": "1449ed08-ed99-42db-9933-05cb98348597"
      },
      "source": [
        "# start = 1, stop = 6, step = 1\n",
        "for x in range(1, 6):\n",
        "    print(x, end=' ')"
      ],
      "execution_count": null,
      "outputs": [
        {
          "output_type": "stream",
          "name": "stdout",
          "text": [
            "1 2 3 4 5 "
          ]
        }
      ]
    },
    {
      "cell_type": "markdown",
      "metadata": {
        "id": "rcIzHMEIQU6A"
      },
      "source": [
        "Решите задачу: https://contest.yandex.ru/contest/28830/problems/F/ (от А до В, еще раз)"
      ]
    },
    {
      "cell_type": "markdown",
      "metadata": {
        "id": "ytEkPQF7xGoB"
      },
      "source": [
        "Параметры функции могут быть любыми целыми числами, главное, чтобы из $N$ можно было прийти в $M$ с помощью шага $k$, иначе последовательность (и соответсвенно объект `range`) будет пустая."
      ]
    },
    {
      "cell_type": "code",
      "metadata": {
        "id": "r4yADhaWyfvU",
        "colab": {
          "base_uri": "https://localhost:8080/",
          "height": 181
        },
        "outputId": "a0dd7e5b-327f-412b-938a-2a43c4f37ac3"
      },
      "source": [
        "# напоминание, что параметры могут быть только целые числа\n",
        "range(1, 4, 0.5)"
      ],
      "execution_count": null,
      "outputs": [
        {
          "output_type": "error",
          "ename": "TypeError",
          "evalue": "ignored",
          "traceback": [
            "\u001b[0;31m---------------------------------------------------------------------------\u001b[0m",
            "\u001b[0;31mTypeError\u001b[0m                                 Traceback (most recent call last)",
            "\u001b[0;32m<ipython-input-12-de9e3a6c545a>\u001b[0m in \u001b[0;36m<module>\u001b[0;34m()\u001b[0m\n\u001b[1;32m      1\u001b[0m \u001b[0;31m# напоминание, что параметры могут быть только целые числа\u001b[0m\u001b[0;34m\u001b[0m\u001b[0;34m\u001b[0m\u001b[0;34m\u001b[0m\u001b[0m\n\u001b[0;32m----> 2\u001b[0;31m \u001b[0mrange\u001b[0m\u001b[0;34m(\u001b[0m\u001b[0;36m1\u001b[0m\u001b[0;34m,\u001b[0m \u001b[0;36m4\u001b[0m\u001b[0;34m,\u001b[0m \u001b[0;36m0.5\u001b[0m\u001b[0;34m)\u001b[0m\u001b[0;34m\u001b[0m\u001b[0;34m\u001b[0m\u001b[0m\n\u001b[0m",
            "\u001b[0;31mTypeError\u001b[0m: 'float' object cannot be interpreted as an integer"
          ]
        }
      ]
    },
    {
      "cell_type": "code",
      "metadata": {
        "id": "Q3U0J4btpz7H",
        "colab": {
          "base_uri": "https://localhost:8080/"
        },
        "outputId": "fcee23b1-d4d0-4d08-90a6-b28f2115afdf"
      },
      "source": [
        "# start = 5, stop = 0, step = -1\n",
        "for x in range(5, 0, -1):\n",
        "    print(x, end=' ')"
      ],
      "execution_count": null,
      "outputs": [
        {
          "output_type": "stream",
          "name": "stdout",
          "text": [
            "5 4 3 2 1 "
          ]
        }
      ]
    },
    {
      "cell_type": "code",
      "metadata": {
        "id": "VAIF7kO7xtNJ",
        "colab": {
          "base_uri": "https://localhost:8080/"
        },
        "outputId": "0d572f12-05a7-46d2-bf8b-393b52717a8a"
      },
      "source": [
        "print('Последовательность')\n",
        "for i in range(5, 0):\n",
        "    print(i, end=' ')\n",
        "print('Пуста')"
      ],
      "execution_count": null,
      "outputs": [
        {
          "output_type": "stream",
          "name": "stdout",
          "text": [
            "Последовательность\n",
            "Пуста\n"
          ]
        }
      ]
    },
    {
      "cell_type": "markdown",
      "metadata": {
        "id": "3Q_CQ3OzyGPP"
      },
      "source": [
        "Потому не будет известен объект с именем `i` (так как мы не совершали итераций):"
      ]
    },
    {
      "cell_type": "code",
      "metadata": {
        "id": "yKNy24HxyFv4",
        "colab": {
          "base_uri": "https://localhost:8080/",
          "height": 163
        },
        "outputId": "6c4d6fff-438d-405a-a1c4-c04604637be5"
      },
      "source": [
        "print(i)"
      ],
      "execution_count": null,
      "outputs": [
        {
          "output_type": "error",
          "ename": "NameError",
          "evalue": "ignored",
          "traceback": [
            "\u001b[0;31m---------------------------------------------------------------------------\u001b[0m",
            "\u001b[0;31mNameError\u001b[0m                                 Traceback (most recent call last)",
            "\u001b[0;32m<ipython-input-15-3b184248ad5a>\u001b[0m in \u001b[0;36m<module>\u001b[0;34m()\u001b[0m\n\u001b[0;32m----> 1\u001b[0;31m \u001b[0mprint\u001b[0m\u001b[0;34m(\u001b[0m\u001b[0mi\u001b[0m\u001b[0;34m)\u001b[0m\u001b[0;34m\u001b[0m\u001b[0;34m\u001b[0m\u001b[0m\n\u001b[0m",
            "\u001b[0;31mNameError\u001b[0m: name 'i' is not defined"
          ]
        }
      ]
    },
    {
      "cell_type": "markdown",
      "metadata": {
        "id": "KPZOgH1T6hKB"
      },
      "source": [
        "Так, например, можно решить задачу с суммой целых чисел (для любых, а не только от 1 до 5):"
      ]
    },
    {
      "cell_type": "code",
      "metadata": {
        "id": "r_o1CeLb6nGS",
        "colab": {
          "base_uri": "https://localhost:8080/"
        },
        "outputId": "544a425f-1459-43f4-9630-fa6db10e02ce"
      },
      "source": [
        "n = int(input())\n",
        "m = int(input())\n",
        "S = 0\n",
        "for x in range(n, m + 1): # обратите внимание на проработку \"крайнего случая\", мы хотим включительную сумму\n",
        "    print(\"S =\", S, \"+\", x)\n",
        "    S = S + x\n",
        "print(\"S =\", S)"
      ],
      "execution_count": null,
      "outputs": [
        {
          "output_type": "stream",
          "name": "stdout",
          "text": [
            "2\n",
            "6\n",
            "S = 0 + 2\n",
            "S = 2 + 3\n",
            "S = 5 + 4\n",
            "S = 9 + 5\n",
            "S = 14 + 6\n",
            "S = 20\n"
          ]
        }
      ]
    },
    {
      "cell_type": "markdown",
      "metadata": {
        "id": "VYwbY-kcQENC"
      },
      "source": [
        "Решите задачи:\n",
        "* https://contest.yandex.ru/contest/28830/problems/E/ (input N чисел, проверка на положительность, подсчет)\n",
        "* https://contest.yandex.ru/contest/28830/problems/G/ (цикл от 1 до N, параллельно подсчет факториала)"
      ]
    },
    {
      "cell_type": "markdown",
      "metadata": {
        "id": "c0WFXkgJ6Sf8"
      },
      "source": [
        "## Команды `break` и `continue`"
      ]
    },
    {
      "cell_type": "markdown",
      "metadata": {
        "id": "zlQi8Z1pQrR4"
      },
      "source": [
        "Также в арсенале \"цикловода\" есть две команды, которые позволяют еще более комплексно настраивать ход циклов. Их можно использовать как в `while` цикле, так и в `for`."
      ]
    },
    {
      "cell_type": "markdown",
      "metadata": {
        "id": "SumxqQHf6SOE"
      },
      "source": [
        "### Прерывание всего цикла\n",
        "\n",
        "Команда (обратите, что это не функция, тут нет скобочек) `break` позволяет преждевременно выйти из цикла (все, что осталось внутри итерации после команды `break` выполнено не будет, как и последующие оставшиеся в цикле итерации)."
      ]
    },
    {
      "cell_type": "code",
      "metadata": {
        "id": "v8TgX-4i6d6n",
        "colab": {
          "base_uri": "https://localhost:8080/"
        },
        "outputId": "d87e3342-cdde-43e6-f07a-93a0b16e1e2f"
      },
      "source": [
        "num_items = 7\n",
        "\n",
        "balance = 150.5\n",
        "\n",
        "for i in range(num_items):\n",
        "    P = float(input())\n",
        "    print(\"Товар №\", i, \"по цене\", P)\n",
        "    if balance - P < 0:\n",
        "        print(\"Шопоголик, уходим из магазина!!!\")\n",
        "        break\n",
        "    balance = balance - P\n",
        "print(\"Баланс:\", balance)"
      ],
      "execution_count": null,
      "outputs": [
        {
          "output_type": "stream",
          "name": "stdout",
          "text": [
            "100\n",
            "Товар № 0 по цене 100.0\n",
            "200\n",
            "Товар № 1 по цене 200.0\n",
            "Шопоголик, уходим из магазина!!!\n",
            "Баланс: 50.5\n"
          ]
        }
      ]
    },
    {
      "cell_type": "markdown",
      "metadata": {
        "id": "qWlRWLN66dKm"
      },
      "source": [
        "### Прерывание итерации\n",
        "\n",
        "В некоторых ситуациях полезна команда `continue`, которая прерывает текущую итерацию и немедленно переходит к следующей итерации."
      ]
    },
    {
      "cell_type": "code",
      "metadata": {
        "id": "lCqtJe3r6RTj",
        "colab": {
          "base_uri": "https://localhost:8080/"
        },
        "outputId": "91d63309-1dec-45bd-c49a-fbbf79b7e131"
      },
      "source": [
        "num_items = 0\n",
        "balance = 150.5\n",
        "while balance > 0:\n",
        "    P = float(input())\n",
        "    print(\"Товар по цене\", P)\n",
        "    if balance - P < 0:\n",
        "        print(\"Недостаточно средств, давайте другой товар.\")\n",
        "        continue\n",
        "    balance = balance - P\n",
        "    num_items += 1\n",
        "print(\"Вы купили товаров:\", num_items, \"\\nБаланс:\", balance)"
      ],
      "execution_count": null,
      "outputs": [
        {
          "output_type": "stream",
          "name": "stdout",
          "text": [
            "100\n",
            "Товар по цене 100.0\n",
            "150\n",
            "Товар по цене 150.0\n",
            "Недостаточно средств, давайте другой товар.\n",
            "20\n",
            "Товар по цене 20.0\n",
            "35\n",
            "Товар по цене 35.0\n",
            "Недостаточно средств, давайте другой товар.\n",
            "15\n",
            "Товар по цене 15.0\n",
            "20\n",
            "Товар по цене 20.0\n",
            "Недостаточно средств, давайте другой товар.\n",
            "10\n",
            "Товар по цене 10.0\n",
            "5.5\n",
            "Товар по цене 5.5\n",
            "Вы купили товаров: 5 \n",
            "Баланс: 0.0\n"
          ]
        }
      ]
    },
    {
      "cell_type": "markdown",
      "metadata": {
        "id": "m2-2YoZ_7sBH"
      },
      "source": [
        "## Вложенные циклы\n",
        "\n",
        "Как и с конструкцией `if`, мы без проблем можем использовать конструкции циклов внутри блоков инструкций, тем самым создавая вложенный циклы. В целом, внутри блоков инструкций может быть абсолютно любой код, в том числе там могут быть условные конструкции.\n",
        "\n",
        "Вот пример вывода индексов матрицы $N \\times M$:"
      ]
    },
    {
      "cell_type": "code",
      "metadata": {
        "id": "NxYcRPfg7rwP",
        "colab": {
          "base_uri": "https://localhost:8080/"
        },
        "outputId": "0ec81468-9d3d-4f25-ae38-edb97741d3b9"
      },
      "source": [
        "N = 3\n",
        "M = 4\n",
        "\n",
        "for i in range(N): # i - переменная, которая будет идти от 0 до N-1\n",
        "    for j in range(M): # j - переменная, которая будет идти от 0 до M-1 ()\n",
        "        print(\"(\", i, \", \", j, \")\", sep=\"\", end=\" -- \")\n",
        "    print() # нужен для переноса строки после последней итерации внутреннего цикла"
      ],
      "execution_count": null,
      "outputs": [
        {
          "output_type": "stream",
          "name": "stdout",
          "text": [
            "(0, 0) -- (0, 1) -- (0, 2) -- (0, 3) -- \n",
            "(1, 0) -- (1, 1) -- (1, 2) -- (1, 3) -- \n",
            "(2, 0) -- (2, 1) -- (2, 2) -- (2, 3) -- \n"
          ]
        }
      ]
    },
    {
      "cell_type": "markdown",
      "metadata": {
        "id": "BOZfu48Q9YwO"
      },
      "source": [
        "Можно заметить, что пока не закончится \"внутренний\" цикл (0, ..., 3), переменная `i` не переходит к новому значению, чего и стоило ожидать.\n",
        "\n",
        "Обычно для разных циклов используют разные итерационные переменные (как в примере выше, у нас есть `i` и `j`). Однако, мы имеем право использовать одно и то же имя переменной. Главное помнить принцип работы цикла - в начале каждой итерации мы по новой определяем итерационную переменную (см. картинку, которая была выше)."
      ]
    },
    {
      "cell_type": "code",
      "metadata": {
        "id": "EobIgAwb9MA1",
        "colab": {
          "base_uri": "https://localhost:8080/"
        },
        "outputId": "9452f018-67e7-4ac4-edde-e36c22966a96"
      },
      "source": [
        "print('Заходим во внешний цикл.')\n",
        "\n",
        "for x in range(4):\n",
        "    \n",
        "    print('x =', x)\n",
        "    print('Заходим во внутренний цикл.', end='\\n\\t')\n",
        "\n",
        "    for x in range(2):\n",
        "        print('x=', x, sep='', end='\\n\\t')\n",
        "    \n",
        "    print('Вышли из внутреннего цикла.')\n",
        "\n",
        "print('Вышли из внешнего цикла.')"
      ],
      "execution_count": null,
      "outputs": [
        {
          "output_type": "stream",
          "name": "stdout",
          "text": [
            "Заходим во внешний цикл.\n",
            "x = 0\n",
            "Заходим во внутренний цикл.\n",
            "\tx=0\n",
            "\tx=1\n",
            "\tВышли из внутреннего цикла.\n",
            "x = 1\n",
            "Заходим во внутренний цикл.\n",
            "\tx=0\n",
            "\tx=1\n",
            "\tВышли из внутреннего цикла.\n",
            "x = 2\n",
            "Заходим во внутренний цикл.\n",
            "\tx=0\n",
            "\tx=1\n",
            "\tВышли из внутреннего цикла.\n",
            "x = 3\n",
            "Заходим во внутренний цикл.\n",
            "\tx=0\n",
            "\tx=1\n",
            "\tВышли из внутреннего цикла.\n",
            "Вышли из внешнего цикла.\n"
          ]
        }
      ]
    },
    {
      "cell_type": "markdown",
      "metadata": {
        "id": "8tWPK07g_H4I"
      },
      "source": [
        "Используя разные итерационные переменные, мы имеем возможность использовать значения всех итерационных переменных. Например, используя их для вычисления таблицы умножения, суммы индексов и в прочих задачах.\n",
        "\n",
        "Решите задачу: https://contest.yandex.ru/contest/28830/problems/J/"
      ]
    }
  ]
}