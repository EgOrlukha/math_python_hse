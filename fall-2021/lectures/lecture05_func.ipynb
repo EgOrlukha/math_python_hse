{
  "nbformat": 4,
  "nbformat_minor": 0,
  "metadata": {
    "celltoolbar": "Slideshow",
    "kernelspec": {
      "display_name": "Python 3",
      "language": "python",
      "name": "python3"
    },
    "language_info": {
      "codemirror_mode": {
        "name": "ipython",
        "version": 3
      },
      "file_extension": ".py",
      "mimetype": "text/x-python",
      "name": "python",
      "nbconvert_exporter": "python",
      "pygments_lexer": "ipython3",
      "version": "3.6.9"
    },
    "colab": {
      "name": "lecture05_func.ipynb",
      "provenance": [],
      "collapsed_sections": [],
      "include_colab_link": true
    }
  },
  "cells": [
    {
      "cell_type": "markdown",
      "metadata": {
        "id": "view-in-github",
        "colab_type": "text"
      },
      "source": [
        "<a href=\"https://colab.research.google.com/github/svdcvt/math_python_hse/blob/master/fall-2021/lectures/lecture05_func.ipynb\" target=\"_parent\"><img src=\"https://colab.research.google.com/assets/colab-badge.svg\" alt=\"Open In Colab\"/></a>"
      ]
    },
    {
      "cell_type": "markdown",
      "metadata": {
        "id": "U8o33KkJH07K"
      },
      "source": [
        "#  05. Функции. Рекурсия.  \n",
        "\n",
        "---"
      ]
    },
    {
      "cell_type": "markdown",
      "metadata": {
        "id": "Qu3gA2fzH07S"
      },
      "source": [
        "##  Функция  "
      ]
    },
    {
      "cell_type": "markdown",
      "metadata": {
        "id": "410xFF2jH07T"
      },
      "source": [
        "Мы уже изучили множество **встроенных функций** - `print()`, `input()`, `abs()`, `list()`, `range()`. Как мы знаем, функция (в том числе метод) возможно принимает на вход какие-то аргументы, по заданным инструкциям выполняет какой-то код при её вызове и возможно возвращает какие-то объекты. \n",
        "\n",
        "Сегодня мы научимся сами создавать свои функции!"
      ]
    },
    {
      "cell_type": "markdown",
      "metadata": {
        "id": "gfiaoQj3RkLU"
      },
      "source": [
        "## Другие важные функции\n",
        "\n",
        "Но перед этим, изучим несколько важных встроенных функций."
      ]
    },
    {
      "cell_type": "markdown",
      "metadata": {
        "id": "G91jXJbnILzY"
      },
      "source": [
        "###  Нумерация последовательности `enumerate`  \n",
        "\n",
        "Функция для удобного использования индексов элементов в цикле - `enumerate()` [DOCS](https://docs.python.org/3/library/functions.html#enumerate). Синтаксис выглядит следующим образом:\n",
        "\n",
        "    enumerate(sequence, [start=0])\n",
        "        := (start, x_0), (start + 1, x_1), ... (start + len(sequence) - 1, x_last)\n",
        "\n",
        "В качестве параметра `sequence` может стоять любой *итерируемый* объект - последовательность - список, кортеж, строка, range. \n",
        "На выходе функция выдает последовательность типа `enumerate`, элементы которой есть кортежи `(счетчик, элемент)`. Например:"
      ]
    },
    {
      "cell_type": "code",
      "metadata": {
        "id": "HTMq1qftILza",
        "colab": {
          "base_uri": "https://localhost:8080/"
        },
        "outputId": "ddea76fe-ea2e-41a9-aefc-e4235083b324"
      },
      "source": [
        "a = 'ABCDE'\n",
        "print(type(enumerate(a)))\n",
        "print(enumerate(a))\n",
        "# чтобы быстро вывести элементы, мы преобразуем тип enumerate в список\n",
        "print(list(enumerate(a)))\n",
        "print(list(enumerate(a, 1)))"
      ],
      "execution_count": null,
      "outputs": [
        {
          "output_type": "stream",
          "name": "stdout",
          "text": [
            "<class 'enumerate'>\n",
            "<enumerate object at 0x7ffa9f5ce8c0>\n",
            "[(0, 'A'), (1, 'B'), (2, 'C'), (3, 'D'), (4, 'E')]\n",
            "[(1, 'A'), (2, 'B'), (3, 'C'), (4, 'D'), (5, 'E')]\n"
          ]
        }
      ]
    },
    {
      "cell_type": "markdown",
      "metadata": {
        "id": "hYlHEE4uILzc"
      },
      "source": [
        "Обратите внимание, что элементами объекта `enumerate` являются кортежи-пары. \n",
        "Использование в цикле:"
      ]
    },
    {
      "cell_type": "code",
      "metadata": {
        "id": "EjusN6PZILzd",
        "colab": {
          "base_uri": "https://localhost:8080/"
        },
        "outputId": "2f0c6e76-5763-422f-e4ad-0f39c686be0f"
      },
      "source": [
        "a = ['A', 'B', 'C', 'D', 'E', 'F']\n",
        "for (i, letter) in enumerate(a, 1): # (1, A), (2, B), (3, C), (4, D), (5, F)\n",
        "    # множественное присваивание позволяет сразу класть элементы тьюпла в несколько переменных\n",
        "    # i, letter = 1, A     и т.д.\n",
        "    if i % 2:\n",
        "        print(letter, '- нечетная буква')\n",
        "    else: \n",
        "        print(letter, '- четная буква')"
      ],
      "execution_count": null,
      "outputs": [
        {
          "output_type": "stream",
          "name": "stdout",
          "text": [
            "A - нечетная буква\n",
            "B - четная буква\n",
            "C - нечетная буква\n",
            "D - четная буква\n",
            "E - нечетная буква\n",
            "F - четная буква\n"
          ]
        }
      ]
    },
    {
      "cell_type": "markdown",
      "metadata": {
        "id": "-v6IkdBFTJZ8"
      },
      "source": [
        "### Множественное присваивание в цикле\n",
        "\n",
        "Вы наверное удивились тому, как написан заголовок цикла: \"А что так можно было?\". Да! Помните мы меняли местами значения двух переменных: `a, b = b, a`. Здесь примерно такая же логика. Так как элементом объекта `enumerate` является кортеж-пара: `(nomer, element)`, то в момент начала итерации цикла происходит следующее:\n",
        "\n",
        "```a, b = nomer, element```\n",
        "\n",
        "Можно было бы записать и `a = (nomer, element)`, тогда `a` - кортеж, и далее использовать `a[0]` и `a[1]` внутри итерации, но это не такая красивая и краткая запись, как в примере выше."
      ]
    },
    {
      "cell_type": "code",
      "metadata": {
        "colab": {
          "base_uri": "https://localhost:8080/"
        },
        "id": "CsfP5ZOXUXw5",
        "outputId": "4ea77ca0-d6d7-4252-8295-af570ab29967"
      },
      "source": [
        "for a, b in ((1, 2), (3, 4), (5, 6)):\n",
        "    print(a + b)"
      ],
      "execution_count": null,
      "outputs": [
        {
          "output_type": "stream",
          "name": "stdout",
          "text": [
            "3\n",
            "7\n",
            "11\n"
          ]
        }
      ]
    },
    {
      "cell_type": "markdown",
      "metadata": {
        "id": "DxgN7PSQUmeR"
      },
      "source": [
        "Главное правило - число переменных должно совпадать с числом выдаваемых значений, иначе получите ошибку:"
      ]
    },
    {
      "cell_type": "code",
      "metadata": {
        "colab": {
          "base_uri": "https://localhost:8080/",
          "height": 179
        },
        "id": "_BzVNcAFUvB7",
        "outputId": "03780891-6063-45de-857d-899e29e315e2"
      },
      "source": [
        "for a, b, c in [(1, 2), (2, 3)]:\n",
        "    pass"
      ],
      "execution_count": null,
      "outputs": [
        {
          "output_type": "error",
          "ename": "ValueError",
          "evalue": "ignored",
          "traceback": [
            "\u001b[0;31m---------------------------------------------------------------------------\u001b[0m",
            "\u001b[0;31mValueError\u001b[0m                                Traceback (most recent call last)",
            "\u001b[0;32m<ipython-input-4-6551d289840e>\u001b[0m in \u001b[0;36m<module>\u001b[0;34m()\u001b[0m\n\u001b[0;32m----> 1\u001b[0;31m \u001b[0;32mfor\u001b[0m \u001b[0ma\u001b[0m\u001b[0;34m,\u001b[0m \u001b[0mb\u001b[0m\u001b[0;34m,\u001b[0m \u001b[0mc\u001b[0m \u001b[0;32min\u001b[0m \u001b[0;34m[\u001b[0m\u001b[0;34m(\u001b[0m\u001b[0;36m1\u001b[0m\u001b[0;34m,\u001b[0m \u001b[0;36m2\u001b[0m\u001b[0;34m)\u001b[0m\u001b[0;34m,\u001b[0m \u001b[0;34m(\u001b[0m\u001b[0;36m2\u001b[0m\u001b[0;34m,\u001b[0m \u001b[0;36m3\u001b[0m\u001b[0;34m)\u001b[0m\u001b[0;34m]\u001b[0m\u001b[0;34m:\u001b[0m\u001b[0;34m\u001b[0m\u001b[0;34m\u001b[0m\u001b[0m\n\u001b[0m\u001b[1;32m      2\u001b[0m     \u001b[0;32mpass\u001b[0m\u001b[0;34m\u001b[0m\u001b[0;34m\u001b[0m\u001b[0m\n",
            "\u001b[0;31mValueError\u001b[0m: not enough values to unpack (expected 3, got 2)"
          ]
        }
      ]
    },
    {
      "cell_type": "code",
      "metadata": {
        "colab": {
          "base_uri": "https://localhost:8080/",
          "height": 179
        },
        "id": "hfsTGew6U3WL",
        "outputId": "d56ce45a-72d1-4240-d779-5a90dedebdcb"
      },
      "source": [
        "for a, b in [(1, 2, 3), (4, 5, 6)]:\n",
        "    pass"
      ],
      "execution_count": null,
      "outputs": [
        {
          "output_type": "error",
          "ename": "ValueError",
          "evalue": "ignored",
          "traceback": [
            "\u001b[0;31m---------------------------------------------------------------------------\u001b[0m",
            "\u001b[0;31mValueError\u001b[0m                                Traceback (most recent call last)",
            "\u001b[0;32m<ipython-input-5-5bab3e041a8c>\u001b[0m in \u001b[0;36m<module>\u001b[0;34m()\u001b[0m\n\u001b[0;32m----> 1\u001b[0;31m \u001b[0;32mfor\u001b[0m \u001b[0ma\u001b[0m\u001b[0;34m,\u001b[0m \u001b[0mb\u001b[0m \u001b[0;32min\u001b[0m \u001b[0;34m[\u001b[0m\u001b[0;34m(\u001b[0m\u001b[0;36m1\u001b[0m\u001b[0;34m,\u001b[0m \u001b[0;36m2\u001b[0m\u001b[0;34m,\u001b[0m \u001b[0;36m3\u001b[0m\u001b[0;34m)\u001b[0m\u001b[0;34m,\u001b[0m \u001b[0;34m(\u001b[0m\u001b[0;36m4\u001b[0m\u001b[0;34m,\u001b[0m \u001b[0;36m5\u001b[0m\u001b[0;34m,\u001b[0m \u001b[0;36m6\u001b[0m\u001b[0;34m)\u001b[0m\u001b[0;34m]\u001b[0m\u001b[0;34m:\u001b[0m\u001b[0;34m\u001b[0m\u001b[0;34m\u001b[0m\u001b[0m\n\u001b[0m\u001b[1;32m      2\u001b[0m     \u001b[0;32mpass\u001b[0m\u001b[0;34m\u001b[0m\u001b[0;34m\u001b[0m\u001b[0m\n",
            "\u001b[0;31mValueError\u001b[0m: too many values to unpack (expected 2)"
          ]
        }
      ]
    },
    {
      "cell_type": "markdown",
      "metadata": {
        "id": "BjUmMK4dILzf"
      },
      "source": [
        "###  Агрегирование последовательностей `zip`  \n",
        "\n",
        "Функция `zip`[DOCS](https://docs.python.org/3/library/functions.html#zip) буквально собирает несколько последовательностей в одну. Её применение выглядит следующим образом:\n",
        "\n",
        "    zip(seq_1, seq_2, ...., seq_n)\n",
        "        := (x_1_0, x_2_0, ..., x_n_0), (x_1_1, x_2_1, ..., x_n_1), ..., (x_1_m, x_2_m, ..., x_n_m)\n",
        "где `m` это длина самой короткой последовательности среди `seq_1, ..., seq_n`. То есть в качестве аргументов мы подаем любое количество последовательностей, а на выходе получаем последовательность типа `zip`, элементы которой это кортежи из `i`-х элементов каждой последовательности. Например:"
      ]
    },
    {
      "cell_type": "code",
      "metadata": {
        "id": "d2feVWfbILzg",
        "colab": {
          "base_uri": "https://localhost:8080/"
        },
        "outputId": "ad1cab77-c44f-4659-e24b-5894c251757a"
      },
      "source": [
        "print(type(zip()))\n",
        "print(zip('abc', [1, 2, 3]))\n",
        "# снова необходимо преобразовывать в список, чтобы быстро посмотреть на значения при выводе\n",
        "print(list(zip('abcdef', 'абвгдежзийклмнопрст')))\n",
        "print(list(zip([42, 57, 121], ('answer', 'school', 'power'))))\n",
        "print(list(zip('abcdef', 'абвгде', 'αβγδεζ')))\n",
        "print(list(zip('12345'))) # зип с пустой последовательностью\n",
        "print(list(zip('')))"
      ],
      "execution_count": null,
      "outputs": [
        {
          "output_type": "stream",
          "name": "stdout",
          "text": [
            "<class 'zip'>\n",
            "<zip object at 0x7ffa9cb563c0>\n",
            "[('a', 'а'), ('b', 'б'), ('c', 'в'), ('d', 'г'), ('e', 'д'), ('f', 'е')]\n",
            "[(42, 'answer'), (57, 'school'), (121, 'power')]\n",
            "[('a', 'а', 'α'), ('b', 'б', 'β'), ('c', 'в', 'γ'), ('d', 'г', 'δ'), ('e', 'д', 'ε'), ('f', 'е', 'ζ')]\n",
            "[('1',), ('2',), ('3',), ('4',), ('5',)]\n",
            "[]\n"
          ]
        }
      ]
    },
    {
      "cell_type": "markdown",
      "metadata": {
        "id": "_EnVvc9hILzi"
      },
      "source": [
        "Теперь предыдущую задачу можно записать так:"
      ]
    },
    {
      "cell_type": "code",
      "metadata": {
        "id": "cDGnVeIAILzj",
        "colab": {
          "base_uri": "https://localhost:8080/"
        },
        "outputId": "c60d9ef9-f66c-4eb8-862b-14cbeca810ff"
      },
      "source": [
        "a = 'ABCDEF'\n",
        "for i, letter in zip(range(1, len(a)), a): # (1, A), (2, B), (3, C), (4, D), (5, F)\n",
        "    if i % 2:\n",
        "        print(letter, '- нечетная буква')\n",
        "    else:\n",
        "        print(letter, '- четная буква')"
      ],
      "execution_count": null,
      "outputs": [
        {
          "output_type": "stream",
          "name": "stdout",
          "text": [
            "A - нечетная буква\n",
            "B - четная буква\n",
            "C - нечетная буква\n",
            "D - четная буква\n",
            "E - нечетная буква\n"
          ]
        }
      ]
    },
    {
      "cell_type": "markdown",
      "metadata": {
        "id": "zOOUqSCJV7ju"
      },
      "source": [
        "Насчет множественного присваивания \"сложных\" объектов:"
      ]
    },
    {
      "cell_type": "code",
      "metadata": {
        "colab": {
          "base_uri": "https://localhost:8080/"
        },
        "id": "rteG5uySV7QI",
        "outputId": "2c398de3-f614-4e63-8210-743b689bbdde"
      },
      "source": [
        "a = 'abcdefg'\n",
        "print('Номер | Индекс | Буква')\n",
        "\n",
        "# элементом итерационной последовательности является такой кортеж:\n",
        "# (элемент range, элемент enumerate)\n",
        "# где элемент enumerate это кортеж (номер, элемент)\n",
        "# поэтому объектом zip будет иметь такой вид\n",
        "# (i, (n, l)) \n",
        "# и точно так же необходимо тогда писать в заголовке цикла\n",
        "\n",
        "for i, (n, l) in zip(range(len(a)), enumerate(a, 1)):\n",
        "    # i, n, l выдал бы ошибку\n",
        "    # можно писать i, nl, и использовать nl[0] nl[1]\n",
        "    print(n, i, l, sep='|')"
      ],
      "execution_count": null,
      "outputs": [
        {
          "output_type": "stream",
          "name": "stdout",
          "text": [
            "Номер | Индекс | Буква\n",
            "1|0|a\n",
            "2|1|b\n",
            "3|2|c\n",
            "4|3|d\n",
            "5|4|e\n",
            "6|5|f\n",
            "7|6|g\n"
          ]
        }
      ]
    },
    {
      "cell_type": "markdown",
      "metadata": {
        "id": "rbj0IOQqq3rp"
      },
      "source": [
        "Решите задачу: https://contest.yandex.ru/contest/29221/problems/I/"
      ]
    },
    {
      "cell_type": "markdown",
      "metadata": {
        "id": "PCsL2GJrILzk"
      },
      "source": [
        "###  Порядок итерирования `reversed`, `sorted`  \n",
        "\n",
        "Функции, которые обращают и сортируют последовательность и возвращают новый объект:"
      ]
    },
    {
      "cell_type": "code",
      "metadata": {
        "id": "JFuBczZbILzl",
        "colab": {
          "base_uri": "https://localhost:8080/"
        },
        "outputId": "b9b793ec-aeb6-4945-9bd2-9e542542e8bd"
      },
      "source": [
        "s = [1, 10, 23, -10, 3, 15, -9]\n",
        "\n",
        "for el in reversed(s):\n",
        "    print(el, end=' ')\n",
        "print('\\n-----')\n",
        "for el in sorted(s):\n",
        "    print(el, end=' ')\n",
        "print('\\n-----')\n",
        "for el in reversed(sorted(s)):\n",
        "    print(el, end=' ')"
      ],
      "execution_count": null,
      "outputs": [
        {
          "output_type": "stream",
          "name": "stdout",
          "text": [
            "-9 15 3 -10 23 10 1 \n",
            "-----\n",
            "-10 -9 1 3 10 15 23 \n",
            "-----\n",
            "23 15 10 3 1 -9 -10 "
          ]
        }
      ]
    },
    {
      "cell_type": "markdown",
      "metadata": {
        "id": "51dHXFiYIL0C"
      },
      "source": [
        "##  Поэлементное применение функций `map`  \n",
        "\n",
        "Последняя и самая важная функция `map`[DOCS](https://docs.python.org/3/library/functions.html#map). С помощью неё мы можем считывать и печатать список чисел наиболее удобным способом (а как - вы научитесь в мини-контесте)."
      ]
    },
    {
      "cell_type": "markdown",
      "metadata": {
        "id": "BTkqsco4IL0F"
      },
      "source": [
        "Синтаксис следующий:\n",
        "\n",
        "    map(функция, последовательность)\n",
        "       := функция(x_1), функция(x_2), ..., функция(х_n)\n",
        "\n",
        "и на выходе функции получаем последовательность типа `map`, по элементам которой можно итерироваться или привести объект в тип списка. "
      ]
    },
    {
      "cell_type": "code",
      "metadata": {
        "id": "5agGjs9sIL0G",
        "colab": {
          "base_uri": "https://localhost:8080/"
        },
        "outputId": "9642318f-ab0c-4ace-d76e-633b810f45e0"
      },
      "source": [
        "numbers = map(str, [1, 2, 3])\n",
        "print(type(numbers))\n",
        "print(numbers)\n",
        "print(list(numbers))"
      ],
      "execution_count": null,
      "outputs": [
        {
          "output_type": "stream",
          "name": "stdout",
          "text": [
            "<class 'map'>\n",
            "<map object at 0x7ffa9cb00450>\n",
            "['1', '2', '3']\n"
          ]
        }
      ]
    },
    {
      "cell_type": "markdown",
      "metadata": {
        "id": "BnUN7Uj_qduq"
      },
      "source": [
        "Решите задачу: https://contest.yandex.ru/contest/29221/problems/D/"
      ]
    },
    {
      "cell_type": "markdown",
      "metadata": {
        "id": "ndAdChqNZL-D"
      },
      "source": [
        "## Важные детали\n",
        "\n",
        "Все предыдщуие функции выдают объекты собственного типа - то есть не списки. Однако они являются последовательностями, так же как и список/кортеж/строка. По ним можно итерироваться. Но необходимо их использовать с умом.\n",
        "\n",
        "\n",
        "\n",
        "Подумайте, действительно ли вам нужен список? Если вы собираетесь просто итерироваться по элементам, то использование объектов типа `map`,`range` и т.д. более целесообразно, потому что эти функции являются [\"ленивыми\"](https://towardsdatascience.com/what-is-lazy-evaluation-in-python-9efb1d3bfed0#:~:text=You%27ve%20no%20idea%20how,optimized%20the%20code%20for%20you&text=If%20you%27ve%20never%20heard,repeated%20evaluations%20(From%20Wikipedia)) - они не создают весь объект сразу, поэтому занимают меньше места, а выдают элемент только когда он становится необходим. Поэтому нельзя, например, взять индекс от объекта `map`.  \n",
        "\n"
      ]
    },
    {
      "cell_type": "code",
      "metadata": {
        "colab": {
          "base_uri": "https://localhost:8080/"
        },
        "id": "jtmSD_KzZK_W",
        "outputId": "d6942dd2-a01d-4110-c952-ee8ce0e6c1b6"
      },
      "source": [
        "# сравнение времени работы создания объекта типа list и map\n",
        "from math import sqrt\n",
        "\n",
        "%timeit -n 1 list(map(sqrt, range(10000)))\n",
        "%timeit -n 1 [sqrt(i) for i in range(10000)]\n",
        "%timeit -n 1 [i ** 0.5 for i in range(10000)]\n",
        "%timeit -n 1 map(sqrt, range(10000))"
      ],
      "execution_count": null,
      "outputs": [
        {
          "output_type": "stream",
          "name": "stdout",
          "text": [
            "1 loop, best of 5: 750 µs per loop\n",
            "1 loop, best of 5: 1.13 ms per loop\n",
            "1 loop, best of 5: 1.81 ms per loop\n",
            "The slowest run took 4.08 times longer than the fastest. This could mean that an intermediate result is being cached.\n",
            "1 loop, best of 5: 547 ns per loop\n"
          ]
        }
      ]
    },
    {
      "cell_type": "code",
      "metadata": {
        "colab": {
          "base_uri": "https://localhost:8080/"
        },
        "id": "pgFK0EHDmRTr",
        "outputId": "c9ca71cc-4437-404c-bf16-a83d128bd9bc"
      },
      "source": [
        "import sys\n",
        "# сравнения занимаемой объектом памяти\n",
        "print(sys.getsizeof([sqrt(i) for i in range(10000)]))\n",
        "print(sys.getsizeof(map(sqrt, range(10000))))"
      ],
      "execution_count": null,
      "outputs": [
        {
          "output_type": "stream",
          "name": "stdout",
          "text": [
            "87632\n",
            "64\n"
          ]
        }
      ]
    },
    {
      "cell_type": "code",
      "metadata": {
        "id": "40i1yIlhocPx"
      },
      "source": [
        "# сравнение времени работы итерирования по объектам\n",
        "a = map(sqrt, range(10000))\n",
        "b = list(map(sqrt, range(10000)))\n",
        "c = iter(list(map(sqrt, range(10000)))) # iter мы не проходили но он делает из объекта что-то \"итерируемое\""
      ],
      "execution_count": null,
      "outputs": []
    },
    {
      "cell_type": "code",
      "metadata": {
        "colab": {
          "base_uri": "https://localhost:8080/"
        },
        "id": "dzui0evxokYH",
        "outputId": "182e972a-56b4-4b47-e9ea-bc799cae1951"
      },
      "source": [
        "%%timeit -n 1\n",
        "for i in a:\n",
        "    pass"
      ],
      "execution_count": null,
      "outputs": [
        {
          "output_type": "stream",
          "name": "stdout",
          "text": [
            "The slowest run took 4728.72 times longer than the fastest. This could mean that an intermediate result is being cached.\n",
            "1 loop, best of 5: 276 ns per loop\n"
          ]
        }
      ]
    },
    {
      "cell_type": "code",
      "metadata": {
        "colab": {
          "base_uri": "https://localhost:8080/"
        },
        "id": "Y-xFwAoeoq66",
        "outputId": "ce50345a-4ac9-48b2-a73b-ac12f86f89dd"
      },
      "source": [
        "%%timeit -n 1\n",
        "for i in b:\n",
        "    pass"
      ],
      "execution_count": null,
      "outputs": [
        {
          "output_type": "stream",
          "name": "stdout",
          "text": [
            "1 loop, best of 5: 134 µs per loop\n"
          ]
        }
      ]
    },
    {
      "cell_type": "code",
      "metadata": {
        "colab": {
          "base_uri": "https://localhost:8080/"
        },
        "id": "Gyq9pli2pFZI",
        "outputId": "727903b3-ab52-4b70-fc64-607f8841569b"
      },
      "source": [
        "%%timeit -n 1\n",
        "for i in c:\n",
        "    pass"
      ],
      "execution_count": null,
      "outputs": [
        {
          "output_type": "stream",
          "name": "stdout",
          "text": [
            "The slowest run took 1755.42 times longer than the fastest. This could mean that an intermediate result is being cached.\n",
            "1 loop, best of 5: 219 ns per loop\n"
          ]
        }
      ]
    },
    {
      "cell_type": "markdown",
      "metadata": {
        "id": "Nm2vKERJH07U"
      },
      "source": [
        "## Собственные функции\n",
        "\n",
        "Функции помогают разбить наш код программы на более мелкие и модульные \"блоки\". По мере того как наш код становится все больше и больше, функции делают его более организованным, компактным и управляемым.\n",
        "\n",
        "Кроме того, это позволяет избежать повторения и делает код **многоразовым**."
      ]
    },
    {
      "cell_type": "markdown",
      "metadata": {
        "id": "9H1_F7K3H07V"
      },
      "source": [
        "Как выглядит конструкция создания собственной функции:\n",
        "\n",
        "    def funcname(arguments): <------ аргументы необязательны (если вы этого хотите)\n",
        "        ''' описание функции ''' <-- можно добавить документацию (например, если функция сложная)\n",
        "        БЛОК КОДА\n",
        "        return something <---------- функция может вернуть какой-то объект (если необходимо)"
      ]
    },
    {
      "cell_type": "code",
      "metadata": {
        "id": "7dDvVn7KH07W",
        "colab": {
          "base_uri": "https://localhost:8080/"
        },
        "outputId": "bd1619e2-3ebe-43f5-d05d-d2bce135cc45"
      },
      "source": [
        "def hi():\n",
        "    print('Hello!')\n",
        "\n",
        "hi()"
      ],
      "execution_count": null,
      "outputs": [
        {
          "output_type": "stream",
          "name": "stdout",
          "text": [
            "Hello!\n"
          ]
        }
      ]
    },
    {
      "cell_type": "markdown",
      "metadata": {
        "id": "7W9K9ulvH07Z"
      },
      "source": [
        "В данном примере наша функция не принимает никаких аргументов и не возвращает никаких объектов. Просто выполняет код."
      ]
    },
    {
      "cell_type": "markdown",
      "metadata": {
        "id": "Xl-87BovqIL0"
      },
      "source": [
        "Решите задачу: https://contest.yandex.ru/contest/29221/problems/A/"
      ]
    },
    {
      "cell_type": "markdown",
      "metadata": {
        "id": "Yx6_pC6VH07a"
      },
      "source": [
        "##  Команда `return`  "
      ]
    },
    {
      "cell_type": "markdown",
      "metadata": {
        "id": "p-c6mriYH07b"
      },
      "source": [
        "На самом деле функция всегда возвращает какое-то значение, просто когда она возвращает `None`, мы говорим, что она возвращает \"ничего\". Это происходит если команда `return` совсем не пишется в инструкции или если она написана без сопутствующего возвращаемого значения."
      ]
    },
    {
      "cell_type": "code",
      "metadata": {
        "id": "J4kwkM-PH07c",
        "colab": {
          "base_uri": "https://localhost:8080/"
        },
        "outputId": "2c797283-4217-4d32-fefb-f177e1481199"
      },
      "source": [
        "def foo():\n",
        "    print('Nothing to return...')\n",
        "#     return\n",
        "\n",
        "print(type(foo()))"
      ],
      "execution_count": null,
      "outputs": [
        {
          "output_type": "stream",
          "name": "stdout",
          "text": [
            "Nothing to return...\n",
            "<class 'NoneType'>\n"
          ]
        }
      ]
    },
    {
      "cell_type": "code",
      "metadata": {
        "id": "H-JzAZY8H07d",
        "colab": {
          "base_uri": "https://localhost:8080/"
        },
        "outputId": "b372e517-9a9e-43d6-dac7-f7b0a4b0ec12"
      },
      "source": [
        "def sqrt(n, b=2):\n",
        "    return n ** (1 / b)\n",
        "\n",
        "print(sqrt(2), sqrt(2, 3))"
      ],
      "execution_count": null,
      "outputs": [
        {
          "output_type": "stream",
          "name": "stdout",
          "text": [
            "1.4142135623730951 1.2599210498948732\n"
          ]
        }
      ]
    },
    {
      "cell_type": "code",
      "metadata": {
        "id": "4-2d12onH07d",
        "colab": {
          "base_uri": "https://localhost:8080/"
        },
        "outputId": "f212db7b-07cd-4525-e020-5c84fe205a1b"
      },
      "source": [
        "def sum_prod(x, y):\n",
        "    return x + y, x * y # возвращает кортеж \n",
        "\n",
        "a, b = sum_prod(2, 5) # множественное присваивание\n",
        "print(a, b)"
      ],
      "execution_count": null,
      "outputs": [
        {
          "output_type": "stream",
          "name": "stdout",
          "text": [
            "7 10\n"
          ]
        }
      ]
    },
    {
      "cell_type": "markdown",
      "metadata": {
        "id": "kQ4D9xLuH07g"
      },
      "source": [
        "##  Аргументы  "
      ]
    },
    {
      "cell_type": "markdown",
      "metadata": {
        "id": "QYaJi0NuH07h"
      },
      "source": [
        "Как и в математике, все таки чаще функции принимают на вход какие-то аргументы, с которыми или в зависимости от которых потом выполняются какие-то действия. Давайте разберемся как они устроены."
      ]
    },
    {
      "cell_type": "markdown",
      "metadata": {
        "id": "gfPLdHMFH07h"
      },
      "source": [
        "###  Фиксированные  "
      ]
    },
    {
      "cell_type": "markdown",
      "metadata": {
        "id": "HB_3BedYH07i"
      },
      "source": [
        "В инструкции нашей функции мы укажем, что функция принимает на вход **ровно** один аргумент, поэтому если подавать функции большее или меньшее число аргументов, то возникнет **ошибка**."
      ]
    },
    {
      "cell_type": "code",
      "metadata": {
        "id": "Vg42At1XH07i"
      },
      "source": [
        "def hi(name):\n",
        "    print('Hello,', name)"
      ],
      "execution_count": null,
      "outputs": []
    },
    {
      "cell_type": "code",
      "metadata": {
        "id": "ZvgnyDVnH07j",
        "colab": {
          "base_uri": "https://localhost:8080/"
        },
        "outputId": "8b55c130-3c43-450d-c27d-291042a1e02c"
      },
      "source": [
        "hi('Mark')"
      ],
      "execution_count": null,
      "outputs": [
        {
          "output_type": "stream",
          "name": "stdout",
          "text": [
            "Hello, Mark\n"
          ]
        }
      ]
    },
    {
      "cell_type": "code",
      "metadata": {
        "id": "BhHbe195H07j",
        "colab": {
          "base_uri": "https://localhost:8080/",
          "height": 162
        },
        "outputId": "33efa895-2635-4089-c634-c2ab5711d55d"
      },
      "source": [
        "hi('Sonya', 'Mitya')"
      ],
      "execution_count": null,
      "outputs": [
        {
          "output_type": "error",
          "ename": "TypeError",
          "evalue": "ignored",
          "traceback": [
            "\u001b[0;31m---------------------------------------------------------------------------\u001b[0m",
            "\u001b[0;31mTypeError\u001b[0m                                 Traceback (most recent call last)",
            "\u001b[0;32m<ipython-input-23-ec8569e50ef5>\u001b[0m in \u001b[0;36m<module>\u001b[0;34m()\u001b[0m\n\u001b[0;32m----> 1\u001b[0;31m \u001b[0mhi\u001b[0m\u001b[0;34m(\u001b[0m\u001b[0;34m'Sonya'\u001b[0m\u001b[0;34m,\u001b[0m \u001b[0;34m'Mitya'\u001b[0m\u001b[0;34m)\u001b[0m\u001b[0;34m\u001b[0m\u001b[0;34m\u001b[0m\u001b[0m\n\u001b[0m",
            "\u001b[0;31mTypeError\u001b[0m: hi() takes 1 positional argument but 2 were given"
          ]
        }
      ]
    },
    {
      "cell_type": "markdown",
      "metadata": {
        "id": "E4FgkgCoH07k"
      },
      "source": [
        "###  Дефолтные  "
      ]
    },
    {
      "cell_type": "markdown",
      "metadata": {
        "id": "GQtmQFxvH07k"
      },
      "source": [
        "Помните, как некоторые аргументы функции `print()` имеют дефолтные значения? Точно так же можно прописывать для собственной функции некоторые значения параметров по умолчанию."
      ]
    },
    {
      "cell_type": "code",
      "metadata": {
        "id": "_RWXmVawH07l",
        "colab": {
          "base_uri": "https://localhost:8080/"
        },
        "outputId": "2a56c98e-831b-466f-9a8d-a03eaca33931"
      },
      "source": [
        "def hi(name='User', phrase='How are you?'):\n",
        "    print('Hello,', name)\n",
        "    print(phrase)\n",
        "hi()"
      ],
      "execution_count": null,
      "outputs": [
        {
          "output_type": "stream",
          "name": "stdout",
          "text": [
            "Hello, User\n",
            "How are you?\n"
          ]
        }
      ]
    },
    {
      "cell_type": "code",
      "metadata": {
        "id": "wnHM0GsUH07l",
        "colab": {
          "base_uri": "https://localhost:8080/"
        },
        "outputId": "827411bc-cfde-4cd2-da15-d0444a5976df"
      },
      "source": [
        "hi('Monica')"
      ],
      "execution_count": null,
      "outputs": [
        {
          "output_type": "stream",
          "name": "stdout",
          "text": [
            "Hello, Monica\n",
            "How are you?\n"
          ]
        }
      ]
    },
    {
      "cell_type": "code",
      "metadata": {
        "id": "vokwOGZXH07m",
        "colab": {
          "base_uri": "https://localhost:8080/"
        },
        "outputId": "665cc9c0-4af0-4f9d-b33e-64063aeb441c"
      },
      "source": [
        "hi('Phoebe', 'What a beautiful day!')"
      ],
      "execution_count": null,
      "outputs": [
        {
          "output_type": "stream",
          "name": "stdout",
          "text": [
            "Hello, Phoebe\n",
            "What a beautiful day!\n"
          ]
        }
      ]
    },
    {
      "cell_type": "markdown",
      "metadata": {
        "id": "zTc0T4qdqNBR"
      },
      "source": [
        "Решите задачу: https://contest.yandex.ru/contest/29221/problems/B/"
      ]
    },
    {
      "cell_type": "markdown",
      "metadata": {
        "id": "SuZb4uivH07n"
      },
      "source": [
        "###  Именованные  "
      ]
    },
    {
      "cell_type": "markdown",
      "metadata": {
        "id": "r3dhUkJ-H07n"
      },
      "source": [
        "Когда мы вызываем функцию с некоторыми значениями, эти значения присваиваются аргументам в соответствии с их положением. Например, при вызове функции `hi('Phoebe')`, Питон считает что значение `'Phoebe'` относится к первому аргументы, т.е. `name = 'Phoebe'`. А в случае `hi('Phoebe', 'What a beautiful day!')` второе значение относится ко второму аргументу, т.е. к `phrase`. Но мы можем и по-другому вызвать нашу функцию:"
      ]
    },
    {
      "cell_type": "code",
      "metadata": {
        "id": "MRXNvDNaH07o",
        "colab": {
          "base_uri": "https://localhost:8080/"
        },
        "outputId": "f2e70ea0-ebd0-44c1-8584-a51ae9059e22"
      },
      "source": [
        "hi(name='Phoebe', phrase=\"What's up?\")\n",
        "hi(phrase=\"What's up?\", name='Phoebe')\n",
        "hi('Phoebe', phrase=\"What's up?\")"
      ],
      "execution_count": null,
      "outputs": [
        {
          "output_type": "stream",
          "name": "stdout",
          "text": [
            "Hello, Phoebe\n",
            "What's up?\n",
            "Hello, Phoebe\n",
            "What's up?\n",
            "Hello, Phoebe\n",
            "What's up?\n"
          ]
        }
      ]
    },
    {
      "cell_type": "code",
      "metadata": {
        "id": "8UGj7549H07p",
        "colab": {
          "base_uri": "https://localhost:8080/",
          "height": 129
        },
        "outputId": "236ed2a9-ceae-43c8-c763-16038182bbe6"
      },
      "source": [
        "hi(name='Phoebe', \"What's up?\") # но НЕ МОЖЕМ вот так! \n",
        "                                # оно и понятно, уже неочевидно \n",
        "                                # какой по счету аргумент имеется в виду (особенно если их больше двух)"
      ],
      "execution_count": null,
      "outputs": [
        {
          "output_type": "error",
          "ename": "SyntaxError",
          "evalue": "ignored",
          "traceback": [
            "\u001b[0;36m  File \u001b[0;32m\"<ipython-input-28-14cb1bd184bb>\"\u001b[0;36m, line \u001b[0;32m1\u001b[0m\n\u001b[0;31m    hi(name='Phoebe', \"What's up?\") # но НЕ МОЖЕМ вот так!\u001b[0m\n\u001b[0m                     ^\u001b[0m\n\u001b[0;31mSyntaxError\u001b[0m\u001b[0;31m:\u001b[0m positional argument follows keyword argument\n"
          ]
        }
      ]
    },
    {
      "cell_type": "markdown",
      "metadata": {
        "id": "nos4bv7FH07q"
      },
      "source": [
        "Такое миксование позиционных и именованных аргументов при вызове функции удобно, когда у функции много аргументов, какая-то часть из них имеет дефолтные значения, но хочется какой-то один поменять."
      ]
    },
    {
      "cell_type": "markdown",
      "metadata": {
        "id": "dclYDqcIH07q"
      },
      "source": [
        "###  Произвольные  "
      ]
    },
    {
      "cell_type": "markdown",
      "metadata": {
        "id": "5aJKubAEH07r"
      },
      "source": [
        "Хочется снова упомянуть функцию `print()`. Заметьте, как мы в нее можем положить сколько угодно значений через запятую, и она их все выводит. Точно так же мы можем указать в инструкции функции, что она принимает какое угодно число значений. \n",
        "\n",
        "В таком случае необходимо воспользоваться оператором \"звездочка\" (возможно, вы уже знакомились с ней на семинарах), которая собирает набор значений в переменную типа кортеж."
      ]
    },
    {
      "cell_type": "code",
      "metadata": {
        "id": "NP_Tl5eVH07r",
        "colab": {
          "base_uri": "https://localhost:8080/"
        },
        "outputId": "0fc0c503-55b6-4e3f-b05e-9c64f898c3dc"
      },
      "source": [
        "def print_sum(*values):\n",
        "    print(values)\n",
        "    print(type(values))\n",
        "    print(sum(values))\n",
        "\n",
        "print_sum(1, 2, 3, 4, 5)"
      ],
      "execution_count": null,
      "outputs": [
        {
          "output_type": "stream",
          "name": "stdout",
          "text": [
            "(1, 2, 3, 4, 5)\n",
            "<class 'tuple'>\n",
            "15\n"
          ]
        }
      ]
    },
    {
      "cell_type": "markdown",
      "metadata": {
        "id": "wXSpxhMaH07s"
      },
      "source": [
        "Несколько примеров:"
      ]
    },
    {
      "cell_type": "code",
      "metadata": {
        "id": "czHlq6nFH07s",
        "colab": {
          "base_uri": "https://localhost:8080/"
        },
        "outputId": "d1cf3266-3a51-4534-fe6e-a3a2929162ec"
      },
      "source": [
        "def f(a, b, *vals):\n",
        "    print(a, b, vals)\n",
        "\n",
        "# f(1) # работать не будет\n",
        "f(1, 2)\n",
        "f(1, 2, 3)\n",
        "f(1, 2, 3, 4)"
      ],
      "execution_count": null,
      "outputs": [
        {
          "output_type": "stream",
          "name": "stdout",
          "text": [
            "1 2 ()\n",
            "1 2 (3,)\n",
            "1 2 (3, 4)\n"
          ]
        }
      ]
    },
    {
      "cell_type": "code",
      "metadata": {
        "id": "A0WLJ57fH07t",
        "colab": {
          "base_uri": "https://localhost:8080/"
        },
        "outputId": "c81f1b03-e037-4bdb-f525-1bd909959ab2"
      },
      "source": [
        "def f(a, *vals, c):\n",
        "    print(a, vals, c)\n",
        "\n",
        "# f(1, 2) # работать не будет\n",
        "f(1, 2, c=1) # c стало обязательно именованным при вызове"
      ],
      "execution_count": null,
      "outputs": [
        {
          "output_type": "stream",
          "name": "stdout",
          "text": [
            "1 (2,) 1\n"
          ]
        }
      ]
    },
    {
      "cell_type": "markdown",
      "metadata": {
        "id": "-5Y6n34BH07u"
      },
      "source": [
        "##  Переменные  "
      ]
    },
    {
      "cell_type": "markdown",
      "metadata": {
        "id": "3y8-T6EOH07u"
      },
      "source": [
        "С переменными тоже все не так просто. Есть разница, между переменной, которую вы создали вне функции и внутри функции. И не всегда можно так просто изменить переменную \"извне\" внутри функции. "
      ]
    },
    {
      "cell_type": "markdown",
      "metadata": {
        "id": "tfRR3gspH07u"
      },
      "source": [
        "###  Глобальные  \n",
        "\n",
        "Если переменная (как обычно) задана вне функций, то она называется **глобальной**. Ею можно воспользоваться в любом месте программы - как внутри функций, так и вне. "
      ]
    },
    {
      "cell_type": "code",
      "metadata": {
        "id": "Mu7IE8n2H07v",
        "colab": {
          "base_uri": "https://localhost:8080/"
        },
        "outputId": "204b1a9e-7edc-4ede-fec1-14efae59bc65"
      },
      "source": [
        "x = 'global'\n",
        "\n",
        "def f():\n",
        "    print('x inside:', x)\n",
        "\n",
        "f()\n",
        "print('x outside:', x)"
      ],
      "execution_count": null,
      "outputs": [
        {
          "output_type": "stream",
          "name": "stdout",
          "text": [
            "x inside: global\n",
            "x outside: global\n"
          ]
        }
      ]
    },
    {
      "cell_type": "markdown",
      "metadata": {
        "id": "VmwpqaxxH07w"
      },
      "source": [
        "Причем неважно, задана ли переменная до или после создания функции. Главное чтобы она была задана до вызова функции, т.к. Питон при вызове функции начинает искать переменную `pi` в глобальном пространстве."
      ]
    },
    {
      "cell_type": "code",
      "metadata": {
        "id": "b2lilNnBH07x",
        "colab": {
          "base_uri": "https://localhost:8080/"
        },
        "outputId": "4349b25a-2659-4436-88db-8b818b9746d1"
      },
      "source": [
        "def circle(r):\n",
        "    return 2 * pi * r\n",
        "\n",
        "pi = 3.14159265359\n",
        "print(pi)\n",
        "print(circle(1))"
      ],
      "execution_count": null,
      "outputs": [
        {
          "output_type": "stream",
          "name": "stdout",
          "text": [
            "3.14159265359\n",
            "6.28318530718\n"
          ]
        }
      ]
    },
    {
      "cell_type": "markdown",
      "metadata": {
        "id": "g5FfFs47H07x"
      },
      "source": [
        "###  Локальные  \n",
        "\n",
        "Переменные, которые живут **только внутри функции** называются локальными. Это и переменные, которые возникли из аргументов функции, и те, которые созданы внутри функции. Доступа к таким переменным вне функции нет."
      ]
    },
    {
      "cell_type": "code",
      "metadata": {
        "id": "gyZSLJ8EH07y",
        "colab": {
          "base_uri": "https://localhost:8080/",
          "height": 229
        },
        "outputId": "95cc27eb-aa18-4133-8232-52ae750d967d"
      },
      "source": [
        "def f(arg):\n",
        "    y = 'local ' * arg\n",
        "    print(y)\n",
        "\n",
        "f(2)\n",
        "\n",
        "y # будет ошибка, т.к. такая переменная неизвестна\n",
        "arg # как и эта тоже"
      ],
      "execution_count": null,
      "outputs": [
        {
          "output_type": "stream",
          "name": "stdout",
          "text": [
            "local local \n"
          ]
        },
        {
          "output_type": "error",
          "ename": "NameError",
          "evalue": "ignored",
          "traceback": [
            "\u001b[0;31m---------------------------------------------------------------------------\u001b[0m",
            "\u001b[0;31mNameError\u001b[0m                                 Traceback (most recent call last)",
            "\u001b[0;32m<ipython-input-34-344f45d7f5dd>\u001b[0m in \u001b[0;36m<module>\u001b[0;34m()\u001b[0m\n\u001b[1;32m      5\u001b[0m \u001b[0mf\u001b[0m\u001b[0;34m(\u001b[0m\u001b[0;36m2\u001b[0m\u001b[0;34m)\u001b[0m\u001b[0;34m\u001b[0m\u001b[0;34m\u001b[0m\u001b[0m\n\u001b[1;32m      6\u001b[0m \u001b[0;34m\u001b[0m\u001b[0m\n\u001b[0;32m----> 7\u001b[0;31m \u001b[0my\u001b[0m \u001b[0;31m# будет ошибка, т.к. такая переменная неизвестна\u001b[0m\u001b[0;34m\u001b[0m\u001b[0;34m\u001b[0m\u001b[0m\n\u001b[0m\u001b[1;32m      8\u001b[0m \u001b[0marg\u001b[0m \u001b[0;31m# как и эта тоже\u001b[0m\u001b[0;34m\u001b[0m\u001b[0;34m\u001b[0m\u001b[0m\n",
            "\u001b[0;31mNameError\u001b[0m: name 'y' is not defined"
          ]
        }
      ]
    },
    {
      "cell_type": "markdown",
      "metadata": {
        "id": "WNh2H1ThH07y"
      },
      "source": [
        "###  Взаимодействие глобальных и локальных  \n"
      ]
    },
    {
      "cell_type": "markdown",
      "metadata": {
        "id": "pC6_ViNMH07z"
      },
      "source": [
        "1. Использование одного и того же имени переменной для глобальной и локальной - никакой проблемы. Локальная живет внутри, глобальная остается какой была (т.е. не меняется)"
      ]
    },
    {
      "cell_type": "code",
      "metadata": {
        "id": "O-VnjfU5H07z",
        "colab": {
          "base_uri": "https://localhost:8080/"
        },
        "outputId": "0d0ed6c2-b11f-4b43-dfc3-6a015348c675"
      },
      "source": [
        "x = 'global'\n",
        "def f():\n",
        "    x = 'local'\n",
        "    print('x inside:', x)\n",
        "    \n",
        "print('x outside:', x)\n",
        "f()\n",
        "print('x outside after call:', x)"
      ],
      "execution_count": null,
      "outputs": [
        {
          "output_type": "stream",
          "name": "stdout",
          "text": [
            "x outside: global\n",
            "x inside: local\n",
            "x outside after call: global\n"
          ]
        }
      ]
    },
    {
      "cell_type": "markdown",
      "metadata": {
        "id": "POdm-_9rH070"
      },
      "source": [
        "2. Изменение глобальной переменной внутри функции - как видим в примере выше, глобальная переменная не изменилась. Чтобы переписать её значение, необходимо воспользоваться командой `global`."
      ]
    },
    {
      "cell_type": "code",
      "metadata": {
        "id": "923k4AAqH070",
        "colab": {
          "base_uri": "https://localhost:8080/"
        },
        "outputId": "85cbaa84-c369-4285-fa63-70a246cf5db9"
      },
      "source": [
        "x = 'global'\n",
        "def f():\n",
        "    global x\n",
        "    x = 'local'\n",
        "    print('x inside:', x)\n",
        "    \n",
        "print('x outside:', x)\n",
        "f()\n",
        "print('x outside after call:', x)"
      ],
      "execution_count": null,
      "outputs": [
        {
          "output_type": "stream",
          "name": "stdout",
          "text": [
            "x outside: global\n",
            "x inside: local\n",
            "x outside after call: local\n"
          ]
        }
      ]
    },
    {
      "cell_type": "markdown",
      "metadata": {
        "id": "XvfpxubdH071"
      },
      "source": [
        "Эту же команду необходимо использовать, если мы хотим выполнить следующий код:"
      ]
    },
    {
      "cell_type": "code",
      "metadata": {
        "id": "G5m1QcvMH071",
        "colab": {
          "base_uri": "https://localhost:8080/",
          "height": 346
        },
        "outputId": "b5f0f1ac-8190-422a-f8e1-1168aad617e6"
      },
      "source": [
        "x = 'global'\n",
        "def f():\n",
        "#     global x\n",
        "    x = x * 2\n",
        "    print('x inside:', x)\n",
        "    \n",
        "print('x outside:', x)\n",
        "f()\n",
        "print('x outside after call:', x)"
      ],
      "execution_count": null,
      "outputs": [
        {
          "output_type": "stream",
          "name": "stdout",
          "text": [
            "x outside: global\n"
          ]
        },
        {
          "output_type": "error",
          "ename": "UnboundLocalError",
          "evalue": "ignored",
          "traceback": [
            "\u001b[0;31m---------------------------------------------------------------------------\u001b[0m",
            "\u001b[0;31mUnboundLocalError\u001b[0m                         Traceback (most recent call last)",
            "\u001b[0;32m<ipython-input-37-249b54102f5d>\u001b[0m in \u001b[0;36m<module>\u001b[0;34m()\u001b[0m\n\u001b[1;32m      6\u001b[0m \u001b[0;34m\u001b[0m\u001b[0m\n\u001b[1;32m      7\u001b[0m \u001b[0mprint\u001b[0m\u001b[0;34m(\u001b[0m\u001b[0;34m'x outside:'\u001b[0m\u001b[0;34m,\u001b[0m \u001b[0mx\u001b[0m\u001b[0;34m)\u001b[0m\u001b[0;34m\u001b[0m\u001b[0;34m\u001b[0m\u001b[0m\n\u001b[0;32m----> 8\u001b[0;31m \u001b[0mf\u001b[0m\u001b[0;34m(\u001b[0m\u001b[0;34m)\u001b[0m\u001b[0;34m\u001b[0m\u001b[0;34m\u001b[0m\u001b[0m\n\u001b[0m\u001b[1;32m      9\u001b[0m \u001b[0mprint\u001b[0m\u001b[0;34m(\u001b[0m\u001b[0;34m'x outside after call:'\u001b[0m\u001b[0;34m,\u001b[0m \u001b[0mx\u001b[0m\u001b[0;34m)\u001b[0m\u001b[0;34m\u001b[0m\u001b[0;34m\u001b[0m\u001b[0m\n",
            "\u001b[0;32m<ipython-input-37-249b54102f5d>\u001b[0m in \u001b[0;36mf\u001b[0;34m()\u001b[0m\n\u001b[1;32m      2\u001b[0m \u001b[0;32mdef\u001b[0m \u001b[0mf\u001b[0m\u001b[0;34m(\u001b[0m\u001b[0;34m)\u001b[0m\u001b[0;34m:\u001b[0m\u001b[0;34m\u001b[0m\u001b[0;34m\u001b[0m\u001b[0m\n\u001b[1;32m      3\u001b[0m \u001b[0;31m#     global x\u001b[0m\u001b[0;34m\u001b[0m\u001b[0;34m\u001b[0m\u001b[0;34m\u001b[0m\u001b[0m\n\u001b[0;32m----> 4\u001b[0;31m     \u001b[0mx\u001b[0m \u001b[0;34m=\u001b[0m \u001b[0mx\u001b[0m \u001b[0;34m*\u001b[0m \u001b[0;36m2\u001b[0m\u001b[0;34m\u001b[0m\u001b[0;34m\u001b[0m\u001b[0m\n\u001b[0m\u001b[1;32m      5\u001b[0m     \u001b[0mprint\u001b[0m\u001b[0;34m(\u001b[0m\u001b[0;34m'x inside:'\u001b[0m\u001b[0;34m,\u001b[0m \u001b[0mx\u001b[0m\u001b[0;34m)\u001b[0m\u001b[0;34m\u001b[0m\u001b[0;34m\u001b[0m\u001b[0m\n\u001b[1;32m      6\u001b[0m \u001b[0;34m\u001b[0m\u001b[0m\n",
            "\u001b[0;31mUnboundLocalError\u001b[0m: local variable 'x' referenced before assignment"
          ]
        }
      ]
    },
    {
      "cell_type": "markdown",
      "metadata": {
        "id": "p-fDQ3DxH072"
      },
      "source": [
        "Заметьте как в примере, где мы использовали одинаковые имена переменных, ошибки не возникало. В том случае, Питон просто создал локально переменную `x` и она спокойно жила внутри функции. Здесь же Питон ругается, что ему неизвестна переменная `x`, и это логично, ведь внутри функции мы ее не задавали. При этом мы хотим ее поменять. При этом мы не сказали что она глобальная. Такая же _по смыслу_ ошибка возникла и вне темы функций:"
      ]
    },
    {
      "cell_type": "code",
      "metadata": {
        "id": "50wj0E4DH072",
        "colab": {
          "base_uri": "https://localhost:8080/",
          "height": 162
        },
        "outputId": "72798486-fcb4-4369-fd1d-c689cc04d500"
      },
      "source": [
        "q = q * 2"
      ],
      "execution_count": null,
      "outputs": [
        {
          "output_type": "error",
          "ename": "NameError",
          "evalue": "ignored",
          "traceback": [
            "\u001b[0;31m---------------------------------------------------------------------------\u001b[0m",
            "\u001b[0;31mNameError\u001b[0m                                 Traceback (most recent call last)",
            "\u001b[0;32m<ipython-input-38-12632fbaee87>\u001b[0m in \u001b[0;36m<module>\u001b[0;34m()\u001b[0m\n\u001b[0;32m----> 1\u001b[0;31m \u001b[0mq\u001b[0m \u001b[0;34m=\u001b[0m \u001b[0mq\u001b[0m \u001b[0;34m*\u001b[0m \u001b[0;36m2\u001b[0m\u001b[0;34m\u001b[0m\u001b[0;34m\u001b[0m\u001b[0m\n\u001b[0m",
            "\u001b[0;31mNameError\u001b[0m: name 'q' is not defined"
          ]
        }
      ]
    },
    {
      "cell_type": "markdown",
      "metadata": {
        "id": "3FjnpcNoH073"
      },
      "source": [
        "3. Если мы создадим функцию внутри функции, то она будет жить только внутри б***о***льшей функции. При этом переменная, которая создалась локально (т.е. внутри б***о***льшей функции) не будет видна внутренней функции и необходимо (так же как с глобальными переменными) указать откуда переменная. \n",
        "\n",
        "В дальнейшем примере необходимо раскомментировать строки в порядке, соответствующим увеличению количества решёток (#), и проанализировать, что происходит для каждого варианта и почему (можно сделать это в Replit)."
      ]
    },
    {
      "cell_type": "code",
      "metadata": {
        "id": "5FI3aEjXH073",
        "colab": {
          "base_uri": "https://localhost:8080/"
        },
        "outputId": "9561f6b1-631a-42eb-e4b3-d46e14b8478e"
      },
      "source": [
        "# # # x = 'global'\n",
        "def g():\n",
        "# # # #    global x\n",
        "# # #    print('1)', x)\n",
        "    x = 'local'\n",
        "    print('2)', x)\n",
        "    def h():\n",
        "# #         nonlocal x\n",
        "#         print('3)', x)\n",
        "        x = 'innerlocal'\n",
        "        print('4)', x)\n",
        "    h()\n",
        "    print('5)', x)\n",
        "\n",
        "g()\n",
        "# # # # # #h()\n",
        "# # # print('6)', x)"
      ],
      "execution_count": null,
      "outputs": [
        {
          "output_type": "stream",
          "name": "stdout",
          "text": [
            "2) local\n",
            "4) innerlocal\n",
            "5) local\n"
          ]
        }
      ]
    },
    {
      "cell_type": "markdown",
      "metadata": {
        "id": "zWg2as_KH074"
      },
      "source": [
        "##  Лямбда-функции  \n",
        "\n",
        "Снова, снова, снова. Питонисты любят краткость (иногда излишнюю). Поэтому функции, если это необходимо, можно задавать **в одну строку**. Есть некоторые внутренние различия между созданием функции с помощью `def` и `lambda`, но мы не станем в это вдаваться подробно. В целом рекомендация такая - **не увлекайтесь `lambda`, не используйте её без особой надобности**. Как правило, лямбда-выражение используют как аргумент функции типа `map` (её первый аргумент это функция, которую применяют к каждому элементу последовательности)."
      ]
    },
    {
      "cell_type": "markdown",
      "metadata": {
        "id": "mbfUjeLmH074"
      },
      "source": [
        "Синтаксис лямбда-выражения такой:\n",
        "\n",
        "    lambda arg1, arg2, ..., argn : code(args)\n",
        "\n",
        "Такое выражение уже можно использовать как функцию, например:"
      ]
    },
    {
      "cell_type": "code",
      "metadata": {
        "id": "x_l4OzrhH075",
        "colab": {
          "base_uri": "https://localhost:8080/"
        },
        "outputId": "642c17c1-ddd2-4dfc-a944-119ef94534b8"
      },
      "source": [
        "print((lambda x: x**2)(3))"
      ],
      "execution_count": null,
      "outputs": [
        {
          "output_type": "stream",
          "name": "stdout",
          "text": [
            "9\n"
          ]
        }
      ]
    },
    {
      "cell_type": "markdown",
      "metadata": {
        "id": "ma5DxsG7H075"
      },
      "source": [
        "Но часто выражению дают имя функции:"
      ]
    },
    {
      "cell_type": "code",
      "metadata": {
        "id": "ThmxPEKpH076",
        "colab": {
          "base_uri": "https://localhost:8080/"
        },
        "outputId": "1189dca5-7558-4f1d-db0b-38c44764e84c"
      },
      "source": [
        "sqr = lambda x: x**2\n",
        "print(sqr(3))"
      ],
      "execution_count": null,
      "outputs": [
        {
          "output_type": "stream",
          "name": "stdout",
          "text": [
            "9\n"
          ]
        }
      ]
    },
    {
      "cell_type": "markdown",
      "metadata": {
        "id": "gSJwWDucH076"
      },
      "source": [
        "Замечание: обычно, строка кода лямбды содержит какие-то простые выражения (поэтому это строка, а не блок). Поэтому если хочется, но не получается, вместить в лямбду какой-то код - значит использования лямбды **излишне** и необходимо прибегнуть к стандартному созданию функции с помощью `def`."
      ]
    },
    {
      "cell_type": "markdown",
      "metadata": {
        "id": "58rw8CiAH077"
      },
      "source": [
        "Как и в обычных функциях, лямбда поддерживает позиционные/именованные/дефолтные/произвольные аргументы:"
      ]
    },
    {
      "cell_type": "code",
      "metadata": {
        "id": "HQSJJWS9H077",
        "colab": {
          "base_uri": "https://localhost:8080/"
        },
        "outputId": "715f1c63-8d9e-4362-e4b2-8ad391620ee0"
      },
      "source": [
        "print((lambda x, y, z: x + y + z)(1, 2, 3),\\\n",
        "(lambda x, y, z=3: x + y + z)(1, 2),\\\n",
        "(lambda x, y, z=3: x + y + z)(1, y=2),\\\n",
        "(lambda *args: sum(args))(1,2,3), sep='\\n')"
      ],
      "execution_count": null,
      "outputs": [
        {
          "output_type": "stream",
          "name": "stdout",
          "text": [
            "6\n",
            "6\n",
            "6\n",
            "6\n"
          ]
        }
      ]
    },
    {
      "cell_type": "markdown",
      "metadata": {
        "id": "-5DjQcULqW-2"
      },
      "source": [
        "Решите задачу: https://contest.yandex.ru/contest/29221/problems/C/"
      ]
    },
    {
      "cell_type": "markdown",
      "metadata": {
        "id": "ZtytmQNvH078"
      },
      "source": [
        "##  Использование функций  \n",
        "\n",
        "Здесь подразумевается функции как и созданные с помощью `def`, так и с помощью `lambda`. Далее покажем \"приемлемые\" случаи использования лямбда-выражения, но помните, что вместо лямбды всегда можно поставить любую другую функцию."
      ]
    },
    {
      "cell_type": "markdown",
      "metadata": {
        "id": "v2bwXdN4H078"
      },
      "source": [
        "Мы уже знакомы с функцией `map`, например, в качестве аргумента мы подавали функцию `int`, чтобы перевести символы входных данных в числа. Но задачи бывают разные, поэтому созданные собственные функции могут очень помочь в применении `map`."
      ]
    },
    {
      "cell_type": "code",
      "metadata": {
        "id": "LhlxzRM8H078",
        "colab": {
          "base_uri": "https://localhost:8080/"
        },
        "outputId": "67f12ad7-3ee2-4294-dfbc-db32b2426f06"
      },
      "source": [
        "points = [(1, 2), (2, 5), (3, 10)]\n",
        "f = lambda x: x[0]**2 - 2 * x[0] * x[1] + x[1]**2\n",
        "print(list(map(f, points)))"
      ],
      "execution_count": null,
      "outputs": [
        {
          "output_type": "stream",
          "name": "stdout",
          "text": [
            "[1, 9, 49]\n"
          ]
        }
      ]
    },
    {
      "cell_type": "markdown",
      "metadata": {
        "id": "ZpzzQszSqlTC"
      },
      "source": [
        "Решите задачи:\n",
        "- https://contest.yandex.ru/contest/29221/problems/E/\n",
        "- https://contest.yandex.ru/contest/29221/problems/F/"
      ]
    },
    {
      "cell_type": "markdown",
      "metadata": {
        "id": "bxWYFlA-H079"
      },
      "source": [
        "Мы также знакомы с функцией `sorted`, которая возвращает список отсортированных по возрастанию значений последовательности. Но у этой функции есть именованный аргумент `key`, который принимает функция, с помощью которой необходимо сравнивать элементы последовательности, чтобы отсортировать их от меньшего к большему. Например:"
      ]
    },
    {
      "cell_type": "code",
      "metadata": {
        "id": "iNmA9wsZH079",
        "colab": {
          "base_uri": "https://localhost:8080/"
        },
        "outputId": "27b0b76d-2de9-4524-9850-381420254ebb"
      },
      "source": [
        "spisok = [1, 12, -10, 5, 3, -1]\n",
        "poryadok = lambda x: -x\n",
        "\n",
        "# poryadok(spisok) : -1 -12 10 -5 -3 1 => -12 -5 -3 -1 1 10 => 12 5 3 1 -1 -10\n",
        "print(sorted(spisok, key=poryadok))"
      ],
      "execution_count": null,
      "outputs": [
        {
          "output_type": "stream",
          "name": "stdout",
          "text": [
            "[12, 5, 3, 1, -1, -10]\n"
          ]
        }
      ]
    },
    {
      "cell_type": "code",
      "metadata": {
        "id": "6_rqC318H07-",
        "colab": {
          "base_uri": "https://localhost:8080/"
        },
        "outputId": "f52efb5c-9cdd-41cb-ab73-10d1a4564ee4"
      },
      "source": [
        "points = zip([1, 2, 3, 4], [-1, -10, 2, -9])\n",
        "poryadok = lambda x: x[0] # x[1] # x[0] + x[1] # x[0] * x[1]\n",
        "print(sorted(points, key=poryadok))"
      ],
      "execution_count": null,
      "outputs": [
        {
          "output_type": "stream",
          "name": "stdout",
          "text": [
            "[(1, -1), (2, -10), (3, 2), (4, -9)]\n"
          ]
        }
      ]
    },
    {
      "cell_type": "markdown",
      "metadata": {
        "id": "aatglhg4qsEh"
      },
      "source": [
        "Решите задачи: \n",
        "- https://contest.yandex.ru/contest/29221/problems/G/\n",
        "- https://contest.yandex.ru/contest/29221/problems/H/\n"
      ]
    },
    {
      "cell_type": "markdown",
      "metadata": {
        "id": "oB8X57hqH07_"
      },
      "source": [
        "Точно так же устроены функции `min` и `max`:"
      ]
    },
    {
      "cell_type": "code",
      "metadata": {
        "id": "DKA00EcIH07_",
        "colab": {
          "base_uri": "https://localhost:8080/"
        },
        "outputId": "ac8173c8-9487-4203-f778-a25fb46242c0"
      },
      "source": [
        "a = [1, 2, 3, -1, -2]\n",
        "s = lambda x: -x\n",
        "min(a, key=s), max(a, key=s)"
      ],
      "execution_count": null,
      "outputs": [
        {
          "output_type": "execute_result",
          "data": {
            "text/plain": [
              "(3, -2)"
            ]
          },
          "metadata": {},
          "execution_count": 46
        }
      ]
    },
    {
      "cell_type": "markdown",
      "metadata": {
        "id": "W5uacmJgH08A"
      },
      "source": [
        "И познакомимся с одной новой функцией `filter`, которая принимает на вход функцию и последовательность. Функция выдает последовательность типа `filter` с элементами входящей последовательности, значения которых выдали `True` на выходе функции-аргумента (помните, что `True` значение не обязательно булевое, это может быть любое ненулевое число, любой непустой объект и т.д.). Например:"
      ]
    },
    {
      "cell_type": "code",
      "metadata": {
        "id": "I9PG2ED1H08A",
        "colab": {
          "base_uri": "https://localhost:8080/"
        },
        "outputId": "571aa98b-b9d5-4bf2-94f4-5be62328ae90"
      },
      "source": [
        "a = (-1, 2, -3, 4, 5, -10)\n",
        "print(list(filter(lambda x: x > 0, a)))"
      ],
      "execution_count": null,
      "outputs": [
        {
          "output_type": "stream",
          "name": "stdout",
          "text": [
            "[2, 4, 5]\n"
          ]
        }
      ]
    },
    {
      "cell_type": "code",
      "metadata": {
        "id": "eZuZYdWSH08B",
        "colab": {
          "base_uri": "https://localhost:8080/"
        },
        "outputId": "9602fe39-48bf-4fa6-95fc-d490b3560acb"
      },
      "source": [
        "a = (0, 2, 0, 0, 1, -1, 0, 1, 10, 0, 0, -1)\n",
        "print(list(filter(lambda x: x, a)))"
      ],
      "execution_count": null,
      "outputs": [
        {
          "output_type": "stream",
          "name": "stdout",
          "text": [
            "[2, 1, -1, 1, 10, -1]\n"
          ]
        }
      ]
    },
    {
      "cell_type": "code",
      "metadata": {
        "id": "4BmjyRDbH08B",
        "colab": {
          "base_uri": "https://localhost:8080/"
        },
        "outputId": "f7c99e37-30b4-43ff-f41e-5eaa995562fc"
      },
      "source": [
        "s = '1   2        4 5 '.split(' ')\n",
        "print(s)\n",
        "print(list(filter(lambda x: x, s)))"
      ],
      "execution_count": null,
      "outputs": [
        {
          "output_type": "stream",
          "name": "stdout",
          "text": [
            "['1', '', '', '2', '', '', '', '', '', '', '', '4', '5', '']\n",
            "['1', '2', '4', '5']\n"
          ]
        }
      ]
    },
    {
      "cell_type": "markdown",
      "metadata": {
        "id": "e9qw5Yb7H08C"
      },
      "source": [
        "##  Рекурсия  \n",
        "\n",
        "Что такое рекурсия? Это процесс определения чего-нибудь в терминах самого себя. Например, рекурсивные последовательности задаются первыми несколькими элементами и формулой элемента `n` в терминах элементов `n-1`,..., `n-k`. "
      ]
    },
    {
      "cell_type": "markdown",
      "metadata": {
        "id": "m4lmnzsjH08C"
      },
      "source": [
        "С помощью функций в Питоне можно задавать и решать рекурсивные алгоритмы. Чтобы создать рекурсивную функцию (причем, желательно не бесконечную), необходимо:\n",
        "1. Чтобы функция возвращала (`return`) саму себя (с новым аргументом), т.е. задана формула рекурсии\n",
        "2. Чтобы в зависимости от аргумента, возвращалась уже не наша функция, а какое-то значение, т.е. задан конец рекурсии\n",
        "\n",
        "Разберемся на примере факториала.  $$n! = n \\cdot (n-1)! = \\dots = n \\cdot (n-1) \\cdot \\dots \\cdot 2 \\cdot 1$$"
      ]
    },
    {
      "cell_type": "code",
      "metadata": {
        "id": "dlGl_AMdH08D",
        "colab": {
          "base_uri": "https://localhost:8080/"
        },
        "outputId": "d1b21e8d-4d24-4cbc-c1e3-1fe91b637729"
      },
      "source": [
        "def factorial(n):\n",
        "    if n == 1: # конец рекурсии\n",
        "        return 1\n",
        "    else:\n",
        "        return n * factorial(n - 1) # формула рекурсии\n",
        "\n",
        "factorial(5)"
      ],
      "execution_count": null,
      "outputs": [
        {
          "output_type": "execute_result",
          "data": {
            "text/plain": [
              "120"
            ]
          },
          "metadata": {},
          "execution_count": 50
        }
      ]
    },
    {
      "cell_type": "markdown",
      "metadata": {
        "id": "ZWsY3ZAFJNwi"
      },
      "source": [
        "Обратите внимание на то, как ведет себя рекурсия при вызове и выполнении кода после:"
      ]
    },
    {
      "cell_type": "code",
      "metadata": {
        "id": "872fFPs_JOGG"
      },
      "source": [
        "def example(i):\n",
        "    if i != 0:\n",
        "        print(i, 'before')\n",
        "        print('recursed', example(i - 1))\n",
        "        print(i, 'after')\n",
        "        return i\n",
        "    else:\n",
        "        print('the end!')\n",
        "        return 0      \n"
      ],
      "execution_count": null,
      "outputs": []
    },
    {
      "cell_type": "code",
      "metadata": {
        "colab": {
          "base_uri": "https://localhost:8080/"
        },
        "id": "nru9NKL_JdA2",
        "outputId": "10840225-941a-44f3-a984-7ccebca04dd5"
      },
      "source": [
        "_ = example(3)"
      ],
      "execution_count": null,
      "outputs": [
        {
          "output_type": "stream",
          "name": "stdout",
          "text": [
            "3 before\n",
            "2 before\n",
            "1 before\n",
            "the end!\n",
            "recursed 0\n",
            "1 after\n",
            "recursed 1\n",
            "2 after\n",
            "recursed 2\n",
            "3 after\n"
          ]
        }
      ]
    },
    {
      "cell_type": "markdown",
      "metadata": {
        "id": "IU-yFllhLWx1"
      },
      "source": [
        "`3 before`- выполнили print и вызвали example(2) - спустились в рекурсию <br>\n",
        "`2 before`- выполнили print и вызвали example(1) - спустились в рекурсию <br>\n",
        "`1 before`- выполнили print и вызвали example(0) - спустились в рекурсию <br>\n",
        "`the end!`- выполнили print, дошли до \"конца\" рекурсии и выдали значение, тем самым поднявшись по рекурсии на уровень выше <br>\n",
        "`recursed 0` - выполнили print<br>\n",
        "`1 after` - выполнили print и выдали значение, поднялись на уровень вверх<br>\n",
        "`recursed 1` - выполнили print<br>\n",
        "`2 after` - выполнили print и выдали значение, поднялись на уровень вверх<br>\n",
        "`recursed 2`  - выполнили print<br>\n",
        "`3 after` - выполнили print и выдали значение, поднялись на уровень вверх<br>\n",
        "\n"
      ]
    },
    {
      "cell_type": "markdown",
      "metadata": {
        "id": "lp6BDQQxPEB0"
      },
      "source": [
        "![image.png](data:image/png;base64,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)\n",
        "\n",
        "\n",
        "Анимированная [картинка](https://files.realpython.com/media/stack.9c4ba62929cf.gif) для лучшего представления."
      ]
    }
  ]
}