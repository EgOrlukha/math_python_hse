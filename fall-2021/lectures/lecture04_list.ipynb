{
  "nbformat": 4,
  "nbformat_minor": 0,
  "metadata": {
    "celltoolbar": "Slideshow",
    "kernelspec": {
      "display_name": "Python 3",
      "language": "python",
      "name": "python3"
    },
    "language_info": {
      "codemirror_mode": {
        "name": "ipython",
        "version": 3
      },
      "file_extension": ".py",
      "mimetype": "text/x-python",
      "name": "python",
      "nbconvert_exporter": "python",
      "pygments_lexer": "ipython3",
      "version": "3.6.9"
    },
    "colab": {
      "name": "lecture04_list.ipynb",
      "provenance": [],
      "collapsed_sections": [
        "opXsmSaPRePp"
      ],
      "include_colab_link": true
    }
  },
  "cells": [
    {
      "cell_type": "markdown",
      "metadata": {
        "id": "view-in-github",
        "colab_type": "text"
      },
      "source": [
        "<a href=\"https://colab.research.google.com/github/svdcvt/math_python_hse/blob/master/fall-2021/lectures/lecture04_list.ipynb\" target=\"_parent\"><img src=\"https://colab.research.google.com/assets/colab-badge.svg\" alt=\"Open In Colab\"/></a>"
      ]
    },
    {
      "cell_type": "markdown",
      "metadata": {
        "id": "uNHYYxHKRePP"
      },
      "source": [
        "# Занятие №4: последовательности - список, кортеж, строка.\n",
        "\n",
        "---\n",
        "[МИНИКОНТЕСТ](https://contest.yandex.ru/contest/28954)\n",
        "\n",
        "---\n",
        "https://replit.com - можете сразу воспроизводить код и решать задачи используя онлайн интерпретатор Питона (\"Create Repl\" -> \"Select Langauge - Python\")\n",
        "\n",
        "На предыдущем занятии мы изучили циклические конструкции. Сегодня мы познакомимся с новыми структурами данных, позволяющие хранить упорядоченный набор объектов. На самом деле с двумя мы уже частично знакомы -- строки (набор символов) и `range` (набор целых чисел в интервале с некоторым шагом). Другие две - список и кортеж - имеют общие со строками операции и могут хранить набор объектов любого типа."
      ]
    },
    {
      "cell_type": "markdown",
      "metadata": {
        "id": "ve5qa6pjRePV"
      },
      "source": [
        "## Что такое последовательности и что у них общего?\n",
        "\n",
        "\n",
        "**Последовательности [DOCS](https://docs.python.org/3/library/stdtypes.html?highlight=sequence#sequence-types-list-tuple-range) - контейнеры, элементы которых представляют собой некий упорядоченый набор объектов**. Термин \"упорядоченный\" здесь не просто так. Объекты в наборе можно пронумеровать, и далее обратиться индивидуально по номеру очень быстро$^*$. Разные последовательности наделены разными способностями (поэтому их, например, больше одного вида!). При этом у всех последовательностей можно узнать их длину - число объектов в наборе, или проверить, что какой-то объект содержится в наборе. \n",
        "\n",
        "\n",
        "### Что такое **$^*$быстро** в программировании?\n",
        "\n",
        "Есть такое понятие, как порядок сложности. В матанализе вы встречались с О-нотацией (о-большое, о-малое, тета, омега...). Она же используется и в алгоритмах программирования, а именно в оценке их скорости работы и занимаемой памяти. Мы будем стараться выражаться довольно простым образом - с помощью количества проделанных программой шагов. \n",
        "\n",
        "Например, порядок сложности скорости выполнения операции или набора операций может быть таких видов (это самые типичные):\n",
        "- количество шагов не зависит от длины входящей последовательности (константная сложность: $O(1)$);\n",
        "- количество шагов зависит от длины входящей последовательности прямо пропорционально (линейная сложность: $O(N)$);\n",
        "- количество шагов зависит от длины входящей последовательности квадратично (квадратичная сложность: $O(N^2)$).\n",
        "\n",
        "_Например_, пройтись одним циклом по числам от А до Б, печатая значения, является операций линейной сложности, потому что мы делаем столько шагов, сколько во входной последовательности (числа от А до Б) элементов. \n",
        "\n",
        "А если пройтись двойным циклом, печатая таблицу умножения для первых N чисел(как вы делали в контесте прошлой недели), то это была бы программа квадратичной сложности.\n",
        "\n",
        "---\n",
        "\n",
        "Далее в этом конспекте и последующем мы будем понемногу указывать на \"скорость\" различных операций, чтобы вы интуитивно понимали, что строчки кода могут выполняться разное время. На неделе №8 будет подытоживание данной информации.\n",
        "\n",
        "Говоря о реальной скорости работы программы - она, конечно, зависит и от компьютера, и от процессора, и от многих других факторов. Например, на современном ПК, старом ноутбуке и в Я.Контесте одна и та же программа будет выполняться разное время. Однако чаще считают, что в контест-серверах за 1 секунду Питон выполняет ~$10^8$ операций.\n",
        "\n",
        "*Например*:"
      ]
    },
    {
      "cell_type": "code",
      "metadata": {
        "colab": {
          "base_uri": "https://localhost:8080/"
        },
        "id": "L1v_R0OSZ-gs",
        "outputId": "c178005a-3fb8-45f9-a7e6-28c195ffb503"
      },
      "source": [
        "import time\n",
        "x = range(int(2.3e7))\n",
        "timestamp_1 = time.time()\n",
        "for i in x:\n",
        "    pass\n",
        "timestamp_2 = time.time()\n",
        "print(\"seconds:\", timestamp_2 - timestamp_1)"
      ],
      "execution_count": 22,
      "outputs": [
        {
          "output_type": "stream",
          "name": "stdout",
          "text": [
            "seconds: 1.0443694591522217\n"
          ]
        }
      ]
    },
    {
      "cell_type": "markdown",
      "metadata": {
        "id": "JFrLU2IEengj"
      },
      "source": [
        "И вот тот же код на моем компьютере:\n",
        "\n",
        "<img src='https://files.catbox.moe/ea65j9.png'>\n",
        "\n",
        "Но вернемся к основной теме этого конспекта."
      ]
    },
    {
      "cell_type": "markdown",
      "metadata": {
        "id": "blAfANKtRePW"
      },
      "source": [
        "# Список"
      ]
    },
    {
      "cell_type": "markdown",
      "metadata": {
        "id": "JJYJlR3tRePX"
      },
      "source": [
        "**Список (`list`)** [DOCS](https://docs.python.org/3/library/stdtypes.html?highlight=list#lists) - изменяемый вид последовательности, обычно используемый для хранения объектов одного типа. \n",
        "\n",
        "\"Изменяемый\" (mutable) значит, что для замены, удаления, добавления элемента, создавать новый объект *не нужно*, а можно просто изменить сущестующий список. Соответственно, \"неизменяемые\" (immutable) последовательности не позволяют как-либо преобразовывать объект. Как именно менять элементы списка мы узнаем позже."
      ]
    },
    {
      "cell_type": "markdown",
      "metadata": {
        "id": "XarMlJcLRePX"
      },
      "source": [
        "Список создается с помощью **квадратных скобок** и разделяющих запятых. "
      ]
    },
    {
      "cell_type": "code",
      "metadata": {
        "id": "eqCRzYxwRePY",
        "colab": {
          "base_uri": "https://localhost:8080/"
        },
        "outputId": "3d2b50bb-bb89-4504-f177-1dbc28fec96b"
      },
      "source": [
        "my_first_list = ['hello']\n",
        "my_second_list = [1, 'two', 3.0]\n",
        "print(my_first_list, my_second_list, type(my_first_list))"
      ],
      "execution_count": 36,
      "outputs": [
        {
          "output_type": "stream",
          "name": "stdout",
          "text": [
            "['hello'] [1, 'two', 3.0] <class 'list'>\n"
          ]
        }
      ]
    },
    {
      "cell_type": "markdown",
      "metadata": {
        "id": "t53aXTgwRePa"
      },
      "source": [
        "Списки могут быть вложены друг в друга (nested list) и таким образом составлять многомерную матрицу. Матрица - понятие образное, объекта типа матрица в Питоне нет, под матрицей мы подразумеваем вложенный список, где длины вложенных списков на каждой раазмерности одинаковы (в примере, длина каждого \"ряда\" равна трем)."
      ]
    },
    {
      "cell_type": "code",
      "metadata": {
        "id": "liC9aZNcRePa",
        "colab": {
          "base_uri": "https://localhost:8080/"
        },
        "outputId": "6d28e3a5-fb86-45b3-b6f8-d452c0ab0974"
      },
      "source": [
        "nested_list = [1, 2, [3, 3, 3], [4, [5]], 10]\n",
        "matrix_list = [[1, 2, 3], [4, 5, 6]]\n",
        "print(nested_list)\n",
        "print(matrix_list)"
      ],
      "execution_count": 37,
      "outputs": [
        {
          "output_type": "stream",
          "name": "stdout",
          "text": [
            "[1, 2, [3, 3, 3], [4, [5]], 10]\n",
            "[[1, 2, 3], [4, 5, 6]]\n"
          ]
        }
      ]
    },
    {
      "cell_type": "markdown",
      "metadata": {
        "id": "FRSPgns_RePc"
      },
      "source": [
        "Чтобы создать пустой список, можно просто поставить скобки или воспользоваться функцией `list()` - она приводит объекты (другие последовательности) к типу list."
      ]
    },
    {
      "cell_type": "code",
      "metadata": {
        "id": "ul3Rj9kpRePc",
        "colab": {
          "base_uri": "https://localhost:8080/"
        },
        "outputId": "cb5da2dd-9e59-4072-9ddc-afeec0805f60"
      },
      "source": [
        "empty_list = []\n",
        "empty_list_2 = list()\n",
        "str_list = list('a b c') # каждый символ является объектом из набора строки, поэтому в списке это тоже отдельные объекты\n",
        "tup_list = list((1, 2, 3))\n",
        "print(empty_list, empty_list_2, str_list, tup_list)"
      ],
      "execution_count": 38,
      "outputs": [
        {
          "output_type": "stream",
          "name": "stdout",
          "text": [
            "[] [] ['a', ' ', 'b', ' ', 'c'] [1, 2, 3]\n"
          ]
        }
      ]
    },
    {
      "cell_type": "markdown",
      "metadata": {
        "id": "zmeYVj85RePd"
      },
      "source": [
        "У вас мог возникнуть вопрос, что за аргумент был подан для создания переменной `tup_list` - это кортеж, который мы изучим следующим."
      ]
    },
    {
      "cell_type": "markdown",
      "metadata": {
        "id": "4qZ7qy-qhb_Q"
      },
      "source": [
        "\\#скорость: создание списка с помощью `list` занимает линейное время, так как каждый объект изначальной последовательности нужно \"переложить\" в новый список."
      ]
    },
    {
      "cell_type": "markdown",
      "metadata": {
        "id": "91InudtKRePd"
      },
      "source": [
        "# Кортеж"
      ]
    },
    {
      "cell_type": "markdown",
      "metadata": {
        "id": "BmJcbl7lRePe"
      },
      "source": [
        "**Кортéж (`tuple`)** [DOCS](https://docs.python.org/3/library/stdtypes.html?highlight=tuple#tuple) - это **неизменяемый список**, то есть элементы в кортеже нельзя заменить, удалить или добавить, это возможно сделать только посредством создания нового объекта типа кортеж."
      ]
    },
    {
      "cell_type": "markdown",
      "metadata": {
        "id": "-IYF9TKMRePe"
      },
      "source": [
        "Кортеж создаётся с помощью **круглых скобок** и **запятых**. Технически скобки можно и опустить, потому что именно запятая дает создат кортеж, но из интерпретационных соображений лучше этого не делать. В предыдущем конспекте мы использовали кортежи, чтобы идти по элементам с помощью цикла."
      ]
    },
    {
      "cell_type": "code",
      "metadata": {
        "id": "yetpuX1wRePe",
        "colab": {
          "base_uri": "https://localhost:8080/"
        },
        "outputId": "4c85d93c-8d13-4eb2-df7a-a0417575204f"
      },
      "source": [
        "my_first_tuple = (1, 'two', 3.0)\n",
        "print(my_first_tuple, type(my_first_tuple))"
      ],
      "execution_count": 39,
      "outputs": [
        {
          "output_type": "stream",
          "name": "stdout",
          "text": [
            "(1, 'two', 3.0) <class 'tuple'>\n"
          ]
        }
      ]
    },
    {
      "cell_type": "markdown",
      "metadata": {
        "id": "CSe4Zl-cRePf"
      },
      "source": [
        "Чтобы создать пустой кортеж, можно поставить просто круглые скобки. А для создания кортежа из одного элемента, нужно **обязательно ставить запятую**, иначе Питон не распознает этот тип данных как кортеж. "
      ]
    },
    {
      "cell_type": "code",
      "metadata": {
        "id": "buivwVXjRePf",
        "colab": {
          "base_uri": "https://localhost:8080/"
        },
        "outputId": "2adf5ae5-184d-436d-fc51-8e3b7ee0ce27"
      },
      "source": [
        "empty_tuple = ()\n",
        "tuple_with_one_element = (1,)\n",
        "not_a_tuple = (1)\n",
        "print(empty_tuple, tuple_with_one_element, not_a_tuple, type(not_a_tuple))"
      ],
      "execution_count": 40,
      "outputs": [
        {
          "output_type": "stream",
          "name": "stdout",
          "text": [
            "() (1,) 1 <class 'int'>\n"
          ]
        }
      ]
    },
    {
      "cell_type": "markdown",
      "metadata": {
        "id": "x0vzIFh1RePg"
      },
      "source": [
        "Как и раньше, есть функция `tuple()`, которая приводит объект к типу tuple; в качестве аргумента ей необходима последовательность (строка, список). Ею же можно создать пустой кортеж."
      ]
    },
    {
      "cell_type": "code",
      "metadata": {
        "id": "H5jNatLRRePg",
        "colab": {
          "base_uri": "https://localhost:8080/"
        },
        "outputId": "59723732-388c-441e-9296-b5d6792f8360"
      },
      "source": [
        "empty_tuple = tuple()\n",
        "str_tup = tuple('abc d!')\n",
        "list_tuple = tuple([1, 2, [1, 2], 3])\n",
        "print(empty_tuple, str_tup, list_tuple)"
      ],
      "execution_count": 41,
      "outputs": [
        {
          "output_type": "stream",
          "name": "stdout",
          "text": [
            "() ('a', 'b', 'c', ' ', 'd', '!') (1, 2, [1, 2], 3)\n"
          ]
        }
      ]
    },
    {
      "cell_type": "markdown",
      "metadata": {
        "id": "tpJ3qnHVRePh"
      },
      "source": [
        "Поскольку в Питоне есть такая вещь как множественное присваивание (мы уже упоминали его в прошлой лекции), то обмен значений переменных можно выполнить в одну строчку. Это возможно в том числе из-за существования кортежей. "
      ]
    },
    {
      "cell_type": "code",
      "metadata": {
        "id": "unMRwkk_RePh",
        "outputId": "adcc9061-7625-47d8-f411-70bfb020040b"
      },
      "source": [
        "a = 10\n",
        "b = 20\n",
        "a, b = b, a\n",
        "# (a, b) = (20, 10) => a = 20, b = 10\n",
        "print(a, b)"
      ],
      "execution_count": null,
      "outputs": [
        {
          "name": "stdout",
          "output_type": "stream",
          "text": [
            "20 10\n"
          ]
        }
      ]
    },
    {
      "cell_type": "markdown",
      "metadata": {
        "id": "YgTRVf2GRePi"
      },
      "source": [
        "При выполнении `a, b = b, a` Питон сначала получает значения связанные с переменными `b` и `a` (правая часть) и помещает их в кортеж, в данном случае получится `(20, 10)`. После этого он связывает каждый элемент кортежа в определенной позиции с переменной в той же позиции, но в кортеже слева `(a, b)`. Это работает для сколь угодного количества переменных."
      ]
    },
    {
      "cell_type": "markdown",
      "metadata": {
        "id": "55UPP8GVRePm"
      },
      "source": [
        "## Методы `.join()` и `.split()`"
      ]
    },
    {
      "cell_type": "markdown",
      "metadata": {
        "id": "4mQ93K4cRePm"
      },
      "source": [
        "Питон умеет получить из списка строк одну строку (склеить определенным образом) или получить из строки список строк (нарезать определенным образом). Для этого используются эти два метода."
      ]
    },
    {
      "cell_type": "markdown",
      "metadata": {
        "id": "dinc7dwoRePm"
      },
      "source": [
        "`s.join(последовательность из строк)` - общий вид применения методa [DOCS](https://docs.python.org/3/library/stdtypes.html#str.join). Он создает новую строку, соединяя элементы последовательности с помощью строки `s`. Примеры:"
      ]
    },
    {
      "cell_type": "code",
      "metadata": {
        "id": "yOKZMIH9RePn",
        "colab": {
          "base_uri": "https://localhost:8080/"
        },
        "outputId": "cac7db90-ce78-4c3a-c8ca-6941ce8b7d87"
      },
      "source": [
        "print('+'.join('12345')) # элементы последовательности типа строка \"1\", \"2\", ..., \"5\" будут соединены строкой \"+\"\n",
        "print(', '.join(('apple', 'banana', 'mango'))) # элементы типа строка последовательности типа кортеж будут соединены строкой \", \"\n",
        "print('\\n'.join(['line.', 'second line.'])) # элементы типа строка последовательности типа список будут соединены строкой \"\\n\""
      ],
      "execution_count": 28,
      "outputs": [
        {
          "output_type": "stream",
          "name": "stdout",
          "text": [
            "1+2+3+4+5\n",
            "apple, banana, mango\n",
            "line.\n",
            "second line.\n"
          ]
        }
      ]
    },
    {
      "cell_type": "markdown",
      "metadata": {
        "id": "eCHT9kKvRePn"
      },
      "source": [
        "`строка.split(sep)` - общий вид применения метода [DOCS](https://docs.python.org/3/library/stdtypes.html#str.split). Он разрезает строку по строке-разделителю `sep` и возвращает список с разделенными элементами-строками (по дефолту `sep` это пробелы любой длины). Заметьте, что элементы могут быть и пустыми, если между двумя разделителями ничего не стояло."
      ]
    },
    {
      "cell_type": "code",
      "metadata": {
        "id": "WytUmbWcRePn",
        "colab": {
          "base_uri": "https://localhost:8080/"
        },
        "outputId": "e10ce56c-8749-4bbd-a2ed-68dd1065c3ad"
      },
      "source": [
        "print('     1   2 34      5 '.split()) # по дефолту разреазли так, чтобы элементами были все непробельные подряд идущие символы\n",
        "print('1<>2<>3'.split('<>'))"
      ],
      "execution_count": 30,
      "outputs": [
        {
          "output_type": "stream",
          "name": "stdout",
          "text": [
            "['1', '2', '34', '5']\n",
            "['1', '2', '3']\n"
          ]
        }
      ]
    },
    {
      "cell_type": "code",
      "metadata": {
        "id": "jwPIDxgDRePn",
        "colab": {
          "base_uri": "https://localhost:8080/"
        },
        "outputId": "02573921-a3bf-452f-acbc-24172532a746"
      },
      "source": [
        "print('1,2'.split(','))\n",
        "print('1,,2,'.split(',')) # обратите внимание на пустые элементы"
      ],
      "execution_count": 31,
      "outputs": [
        {
          "output_type": "stream",
          "name": "stdout",
          "text": [
            "['1', '2']\n",
            "['1', '', '2', '']\n"
          ]
        }
      ]
    },
    {
      "cell_type": "markdown",
      "metadata": {
        "id": "lX2D0hqm1jPQ"
      },
      "source": [
        "**Решите задачи:**\n",
        "- https://contest.yandex.ru/contest/28954/problems/C/\n",
        "- https://contest.yandex.ru/contest/28954/problems/D/"
      ]
    },
    {
      "cell_type": "markdown",
      "metadata": {
        "id": "VFnLdyuIRePo"
      },
      "source": [
        "# Общие операции с последовательностями\n",
        "\n",
        "Ранее было сказано, что последовательности имеют общие операции"
      ]
    },
    {
      "cell_type": "markdown",
      "metadata": {
        "id": "pfdFrD-SRePo"
      },
      "source": [
        "| Операция | Результат | Тип | Скорость операции\n",
        "| ---      | ---       | --- | ---\n",
        "|`x in s`     | `True`, если элемент `s` равен `x`, иначе `False`| любой | $O(N)$\n",
        "|`x not in s` | `False`, если элемент `s` равен `x`, else `True` | любой | $O(N)$\n",
        "|`s + t`      | Конкатенация `s` и `t`| str, list, tuple | $O(N + M)$\n",
        "|`s * n` or `n * s`| Добавление `s` к самому себе `n` раз | str, list, tuple | $O(M*n)$\n",
        "|`len(s)` | длина `s` | любой | $O(1)$\n",
        "|`sum(s)` | сумма чисел `s`| list/tuple из чисел, range | $O(N)$\n",
        "|`min(s)` | наименьший элемент `s` | list/tuple из чисел, range | $O(N)$\n",
        "|`max(s)` | наибольший элемент `s` | list/tuple из чисeл, range | $O(N)$\n",
        "|`s.count(x)` | число вхождений элемента `x` в `s` | любой | $O(N)$"
      ]
    },
    {
      "cell_type": "code",
      "metadata": {
        "id": "dzbCZX-SRePo",
        "colab": {
          "base_uri": "https://localhost:8080/"
        },
        "outputId": "e4380af0-060e-4831-dcee-9133e00ac5d9"
      },
      "source": [
        "print('p' in 'Python')\n",
        "print(3 in [1, 2, 3])\n",
        "print([1, 2] + [3, 4])\n",
        "print(len([1, 2, 3]))\n",
        "print(len('Hello World!'))\n",
        "print(sum(range(5)))\n",
        "print('sweet home alabama'.count('a'))"
      ],
      "execution_count": 35,
      "outputs": [
        {
          "output_type": "stream",
          "name": "stdout",
          "text": [
            "False\n",
            "True\n",
            "[1, 2, 3, 4]\n",
            "3\n",
            "12\n",
            "10\n",
            "4\n"
          ]
        }
      ]
    },
    {
      "cell_type": "markdown",
      "metadata": {
        "id": "_0xQnLx5RePp"
      },
      "source": [
        "# Индексирование и срезы"
      ]
    },
    {
      "cell_type": "markdown",
      "metadata": {
        "id": "dVQtclrgRePp"
      },
      "source": [
        "Когда мы говорили об определении последовательности, то мы упомянули, что у элементов есть **порядок нумерации**, который начинается с нуля. И именно засчет этого свойства можно **обращаться к конкретному элементу** последовательности или подпоследовательности, а также **менять элементы списка**."
      ]
    },
    {
      "cell_type": "markdown",
      "metadata": {
        "id": "opXsmSaPRePp"
      },
      "source": [
        "### Порядок нумерации\n",
        "На примере строки `\"python\"`, отобразим в таблице нумерацию (индексация) символов-элементов:\n",
        "\n",
        "Символы строки | p | y | t | h | o | n\n",
        "-------------  | -- | -- | -- | -- | -- | --\n",
        " Индекс с начала | 0 | 1 | 2 | 3 | 4| 5\n",
        " Индекс с конца | -6 | -5 | -4 | -3 |-2 | -1\n",
        "\n",
        "Как видим нумерация в Питоне есть двух типов:\n",
        "\n",
        "1.  **Нумерация символов с нуля положительными числами**: при попытке обратиться к элементу с номером больше либо равном длине строки возникает ошибка (выход за пределы последовательности).\n",
        "\n",
        "2.  **Нумерация символов строки отрицательными числами**: последний символ строки имеет номер `-1`, предпоследний `-2`, ..., первый имеет номер `-len(s)`; при попытке обратиться к символу с номером, меньшим чем `-len(s)` возникает ошибка (выход за пределы последовательности).\n"
      ]
    },
    {
      "cell_type": "markdown",
      "metadata": {
        "id": "aIojN7hmRePp"
      },
      "source": [
        "### Обращение к элементу по индексу\n",
        "\n",
        "Чтобы **получить `i`-ый элемент** последовательности `s` нужно написать `s[i]` (возле переменной стоят квадратные скобки и внутри целое число)."
      ]
    },
    {
      "cell_type": "code",
      "metadata": {
        "id": "PO7LsrfrRePq"
      },
      "source": [
        "# также на примере строки\n",
        "s = 'python'"
      ],
      "execution_count": 42,
      "outputs": []
    },
    {
      "cell_type": "code",
      "metadata": {
        "colab": {
          "base_uri": "https://localhost:8080/"
        },
        "id": "iikudWM6nWqV",
        "outputId": "b8240de7-1e34-46f8-edf6-241994e89211"
      },
      "source": [
        "print(s[3], s[-2], s[-1], s[0], s[-len(s)])"
      ],
      "execution_count": 45,
      "outputs": [
        {
          "output_type": "stream",
          "name": "stdout",
          "text": [
            "h o n p p\n"
          ]
        }
      ]
    },
    {
      "cell_type": "code",
      "metadata": {
        "id": "hSZLG3xvRePq",
        "colab": {
          "base_uri": "https://localhost:8080/",
          "height": 162
        },
        "outputId": "0812e811-508f-4c2f-8ffa-21f7818ab1fb"
      },
      "source": [
        "print(s[-10])"
      ],
      "execution_count": 44,
      "outputs": [
        {
          "output_type": "error",
          "ename": "IndexError",
          "evalue": "ignored",
          "traceback": [
            "\u001b[0;31m---------------------------------------------------------------------------\u001b[0m",
            "\u001b[0;31mIndexError\u001b[0m                                Traceback (most recent call last)",
            "\u001b[0;32m<ipython-input-44-9ced2233a489>\u001b[0m in \u001b[0;36m<module>\u001b[0;34m()\u001b[0m\n\u001b[0;32m----> 1\u001b[0;31m \u001b[0mprint\u001b[0m\u001b[0;34m(\u001b[0m\u001b[0ms\u001b[0m\u001b[0;34m[\u001b[0m\u001b[0;34m-\u001b[0m\u001b[0;36m10\u001b[0m\u001b[0;34m]\u001b[0m\u001b[0;34m)\u001b[0m\u001b[0;34m\u001b[0m\u001b[0;34m\u001b[0m\u001b[0m\n\u001b[0m",
            "\u001b[0;31mIndexError\u001b[0m: string index out of range"
          ]
        }
      ]
    },
    {
      "cell_type": "code",
      "metadata": {
        "id": "Pkid7jQ6RePq",
        "colab": {
          "base_uri": "https://localhost:8080/"
        },
        "outputId": "eeecac63-0957-4e25-9c12-00b155c262f5"
      },
      "source": [
        "s = 'абвгдеёжзийклмнопрстуфхцчшщъыьэюя'\n",
        "i = int(input('Какую по счету букву алфавита вы хотите получить? '))\n",
        "print('Это буква:', s[i - 1])"
      ],
      "execution_count": 47,
      "outputs": [
        {
          "output_type": "stream",
          "name": "stdout",
          "text": [
            "Какую по счету букву алфавита вы хотите получить? 5\n",
            "Это буква: д\n"
          ]
        }
      ]
    },
    {
      "cell_type": "markdown",
      "metadata": {
        "id": "81JLu0xeoHt3"
      },
      "source": [
        "\\#скорость: обратиться к элементу последовательности по индексу является константной операцией ($O(1)$) - мы просто указываем на номер и сразу смотрим элемент, нам не надо идти от начала до этого номера."
      ]
    },
    {
      "cell_type": "markdown",
      "metadata": {
        "id": "fZ3w9BugRePr"
      },
      "source": [
        "#### Обращение к подпоследовательности (срез)\n",
        "\n",
        "Чтобы **получить подпоследовательность**, существуют _срезы_ с тремя параметрами: в результате применения среза `s[a:b:c]` будет выдана подпоследовательность начиная с элемента на позиции `a` и заканчивая элементом на позиции `b-1` (**правая граница не включается**) с шагом `c`. Каждый из индексов может быть как положительным, так и отрицательным. Логика тут такая же как в функции `range()`."
      ]
    },
    {
      "cell_type": "code",
      "metadata": {
        "id": "uT4yJ7PVRePr"
      },
      "source": [
        "s = 'python'"
      ],
      "execution_count": 48,
      "outputs": []
    },
    {
      "cell_type": "code",
      "metadata": {
        "colab": {
          "base_uri": "https://localhost:8080/"
        },
        "id": "0uot5yYGoDXo",
        "outputId": "bbae9bab-653d-46d3-ce12-7c872c21d844"
      },
      "source": [
        "print(s[2:len(s)], s[2:-2], s[-4:4], s[-4:-2]) # по дефолту шаг равен 1"
      ],
      "execution_count": 50,
      "outputs": [
        {
          "output_type": "stream",
          "name": "stdout",
          "text": [
            "thon th th th\n"
          ]
        }
      ]
    },
    {
      "cell_type": "markdown",
      "metadata": {
        "id": "3Y_yUoQXRePr"
      },
      "source": [
        "Допустимо (ошибка не возникнет) взять второе число, выходящее за пределы последовательности (то есть большее или равное длине):"
      ]
    },
    {
      "cell_type": "code",
      "metadata": {
        "id": "Iy2R3X1uRePs",
        "colab": {
          "base_uri": "https://localhost:8080/"
        },
        "outputId": "c8a89211-60de-40ba-cf8e-246afe35380f"
      },
      "source": [
        "print(s[2:10], s[-10:3])"
      ],
      "execution_count": 52,
      "outputs": [
        {
          "output_type": "stream",
          "name": "stdout",
          "text": [
            "thon pyt\n"
          ]
        }
      ]
    },
    {
      "cell_type": "markdown",
      "metadata": {
        "id": "tloWaTsERePs"
      },
      "source": [
        "Если хочется взять элементы начиная с какой-то позиции или до какой-то позиции, то можно оставить один из параметров пустым:"
      ]
    },
    {
      "cell_type": "code",
      "metadata": {
        "id": "Bkem1c4jRePs",
        "colab": {
          "base_uri": "https://localhost:8080/"
        },
        "outputId": "02db8a8b-e405-4485-ca20-4a07329be7d6"
      },
      "source": [
        "print(s[:-3], s[1:], s[:]) # по дефолту начало среза это начало последовательности, а конец среза это конец последовательности"
      ],
      "execution_count": 53,
      "outputs": [
        {
          "output_type": "stream",
          "name": "stdout",
          "text": [
            "pyt ython python\n"
          ]
        }
      ]
    },
    {
      "cell_type": "markdown",
      "metadata": {
        "id": "UzTnjex6RePs"
      },
      "source": [
        "Главное правило - необходимо, чтобы от первого параметра до второго параметра можно было доайти с указанным шагом, иначе подпоследовательность пуста (ошибка не возникает):"
      ]
    },
    {
      "cell_type": "code",
      "metadata": {
        "id": "_7jmv35vRePt",
        "colab": {
          "base_uri": "https://localhost:8080/"
        },
        "outputId": "14df27f1-3dc1-40d5-9443-5df13ca9ec44"
      },
      "source": [
        "print(len(s[4:2])) # 4 + 1 = 5, .... не дойдем до 2 никогда\n",
        "print(len(s[-1:-5]), len(s[4:-3]))"
      ],
      "execution_count": 56,
      "outputs": [
        {
          "output_type": "stream",
          "name": "stdout",
          "text": [
            "0\n",
            "0 0\n"
          ]
        }
      ]
    },
    {
      "cell_type": "markdown",
      "metadata": {
        "id": "-vookqs9p184"
      },
      "source": [
        "Настройка шага. Можно не указывать начало и/или конец."
      ]
    },
    {
      "cell_type": "code",
      "metadata": {
        "id": "-RHOSeY0RePt",
        "colab": {
          "base_uri": "https://localhost:8080/"
        },
        "outputId": "5841debd-6fb9-45de-e877-f9e57cef8d23"
      },
      "source": [
        "print(s[::2])    # каждый второй символ всей строки начиная с 0 (по сути индекс - четное число)\n",
        "print(s[1:-1:2]) # каждый второй символ со второго до предпоследнего\n",
        "print(s[1::4])\n",
        "print(s[:-2:3])"
      ],
      "execution_count": 62,
      "outputs": [
        {
          "output_type": "stream",
          "name": "stdout",
          "text": [
            "pto\n",
            "yh\n",
            "yn\n",
            "ph\n"
          ]
        }
      ]
    },
    {
      "cell_type": "markdown",
      "metadata": {
        "id": "_WKhNpRkRePu"
      },
      "source": [
        "Шаг в срезе может быть и отрицательным:"
      ]
    },
    {
      "cell_type": "code",
      "metadata": {
        "id": "X4vtGfZWRePu",
        "colab": {
          "base_uri": "https://localhost:8080/"
        },
        "outputId": "123b3bf5-d71d-4ef6-db1b-fe85e9fd58bb"
      },
      "source": [
        "print(s[::-1]) # строка с шагом -1 это просто развернутая строка! питон сам подменяет дефолтные на последний:первый"
      ],
      "execution_count": 63,
      "outputs": [
        {
          "output_type": "stream",
          "name": "stdout",
          "text": [
            "nohtyp\n"
          ]
        }
      ]
    },
    {
      "cell_type": "markdown",
      "metadata": {
        "id": "SgO_3aTHRePv"
      },
      "source": [
        "Тут тоже главное чтобы от начала до конца среза можно было дойти с помощью отрицательного шага:"
      ]
    },
    {
      "cell_type": "code",
      "metadata": {
        "id": "4dKgGmw_RePv",
        "colab": {
          "base_uri": "https://localhost:8080/"
        },
        "outputId": "eee884c9-412c-478b-ecf8-0a3b4286a31b"
      },
      "source": [
        "print(s[5:0:-2]) # 5, 5 - 2 = 3, 3 - 2 = 1, 1 - 2 < 0"
      ],
      "execution_count": 66,
      "outputs": [
        {
          "output_type": "stream",
          "name": "stdout",
          "text": [
            "nhy\n"
          ]
        }
      ]
    },
    {
      "cell_type": "markdown",
      "metadata": {
        "id": "g4HPbVWmsPGf"
      },
      "source": [
        "\\#скорость: так как взятие среза это создание новой последовательности, то скорость операции линейна (в лучшем случае нам придется взять ноль элементов, в худшем - все элементы)."
      ]
    },
    {
      "cell_type": "markdown",
      "metadata": {
        "id": "3mxRX-c62zeT"
      },
      "source": [
        "**Решите задачу:** https://contest.yandex.ru/contest/28954/problems/J/ (срезы строки)"
      ]
    },
    {
      "cell_type": "markdown",
      "metadata": {
        "id": "tLWr1Y2HRePv"
      },
      "source": [
        "### Обращение к элементам вложенных последовательностей\n",
        "\n",
        "Так как мы можем в качестве элементов списка(кортежа) иметь список(кортеж), например, для представления матрицы, то и индексирование можно применить \"вложенным\" образом. Пример:"
      ]
    },
    {
      "cell_type": "code",
      "metadata": {
        "id": "1NuZYfhFRePv",
        "colab": {
          "base_uri": "https://localhost:8080/"
        },
        "outputId": "5c7c7d91-063b-40cb-bf6c-8f2f5e17340e"
      },
      "source": [
        "matrix = [[1, 2, 3], [4, 5, 6]]\n",
        "print(matrix[0][1]) # берем первый элемент \"большого\" списка - [1,2,3] - в нем берем второй элемент\n",
        "print(matrix[-1][::2]) # берем последний элемент \"большого\" списка - [1,2,3] - в нем берем каждый второй элемент"
      ],
      "execution_count": 69,
      "outputs": [
        {
          "output_type": "stream",
          "name": "stdout",
          "text": [
            "2\n",
            "[4, 6]\n"
          ]
        }
      ]
    },
    {
      "cell_type": "code",
      "metadata": {
        "id": "mfPzzUZ5RePw",
        "colab": {
          "base_uri": "https://localhost:8080/"
        },
        "outputId": "53011e2b-5a91-47eb-eccb-5d1611b14fe3"
      },
      "source": [
        "tup = (1, (2, (3, 4, 5)))\n",
        "print(tup[1][1][1]) # какой уровень вложенности, столько \"скобок\"-обращений можно поставить"
      ],
      "execution_count": 70,
      "outputs": [
        {
          "output_type": "stream",
          "name": "stdout",
          "text": [
            "4\n"
          ]
        }
      ]
    },
    {
      "cell_type": "markdown",
      "metadata": {
        "id": "r_1LROn8RePw"
      },
      "source": [
        "## Изменение элементов списка\n",
        "\n",
        "Напомним, что списки, в отличие от строк и кортежей, изменяемые последовательности! Поэтому обращаясь по индексу, можно изменить элемент или подпоследовательность."
      ]
    },
    {
      "cell_type": "code",
      "metadata": {
        "id": "kFuRMfVeRePw"
      },
      "source": [
        "l = [1, 2, 3, 4, 5, 6, 7, 8, 9, 10]"
      ],
      "execution_count": 76,
      "outputs": []
    },
    {
      "cell_type": "code",
      "metadata": {
        "colab": {
          "base_uri": "https://localhost:8080/"
        },
        "id": "zzTXXAAUtZqK",
        "outputId": "930e09d9-d344-4ea2-f075-9a529f7ff846"
      },
      "source": [
        "l[0] = 'one'\n",
        "l[-4:] = 11, 12\n",
        "print(l)"
      ],
      "execution_count": 77,
      "outputs": [
        {
          "output_type": "stream",
          "name": "stdout",
          "text": [
            "['one', 2, 3, 4, 5, 6, 11, 12]\n"
          ]
        }
      ]
    },
    {
      "cell_type": "markdown",
      "metadata": {
        "id": "v0Zn5UpLt41H"
      },
      "source": [
        "## Добавление элементов в список\n",
        "\n",
        "С помощью метода `append` можно добавить элемент в конец списка (происходит **изменение** самого объекта). Применение метода происходит так:\n",
        "```\n",
        "список.append(элемент)\n",
        "```"
      ]
    },
    {
      "cell_type": "code",
      "metadata": {
        "id": "vbgMlSk2ReP0",
        "colab": {
          "base_uri": "https://localhost:8080/"
        },
        "outputId": "cd84e810-8255-4e38-d0de-2d0352e10851"
      },
      "source": [
        "l_1 = []\n",
        "l_1.append(3)\n",
        "l_1.append(5)\n",
        "print(l_1)"
      ],
      "execution_count": 83,
      "outputs": [
        {
          "output_type": "stream",
          "name": "stdout",
          "text": [
            "[3, 5]\n"
          ]
        }
      ]
    },
    {
      "cell_type": "code",
      "metadata": {
        "colab": {
          "base_uri": "https://localhost:8080/"
        },
        "id": "9pO97H1VuL_3",
        "outputId": "a8d09f94-6ec1-455c-9a55-5b732ce8cea7"
      },
      "source": [
        "l = []\n",
        "for i in range(5):\n",
        "    l.append(i ** 2)\n",
        "print(l)"
      ],
      "execution_count": 84,
      "outputs": [
        {
          "output_type": "stream",
          "name": "stdout",
          "text": [
            "[0, 1, 4, 9, 16]\n"
          ]
        }
      ]
    },
    {
      "cell_type": "markdown",
      "metadata": {
        "id": "WU4-FRmNudNr"
      },
      "source": [
        "\\#скорость: так как добавление происходит в конец, то скорость константна, достаточно добавить один элемент и присвоить ему \"последний\" номер"
      ]
    },
    {
      "cell_type": "markdown",
      "metadata": {
        "id": "4NGUA7cU17Os"
      },
      "source": [
        "**Решите задачи:** \n",
        "- https://contest.yandex.ru/contest/28954/problems/A/\n",
        "- https://contest.yandex.ru/contest/28954/problems/B/"
      ]
    },
    {
      "cell_type": "markdown",
      "metadata": {
        "id": "JEE-IEDkReP1"
      },
      "source": [
        "С помощью метода `extend` можно добавить элементы последовательности к списку (происходит **изменение** самого объекта). Применение метода происходит так: \n",
        "```\n",
        "список.extend(последовательность)\n",
        "```\n",
        "\n",
        "Операция конкатенации последовательностей определена только для последовательностей одного типа:"
      ]
    },
    {
      "cell_type": "code",
      "metadata": {
        "id": "Q8KatDfRReP2",
        "colab": {
          "base_uri": "https://localhost:8080/",
          "height": 162
        },
        "outputId": "3b8d8b6b-448c-4fcd-bb3a-2f47838d04ce"
      },
      "source": [
        "[1, 2, 3] + (1, 2, 3)"
      ],
      "execution_count": 85,
      "outputs": [
        {
          "output_type": "error",
          "ename": "TypeError",
          "evalue": "ignored",
          "traceback": [
            "\u001b[0;31m---------------------------------------------------------------------------\u001b[0m",
            "\u001b[0;31mTypeError\u001b[0m                                 Traceback (most recent call last)",
            "\u001b[0;32m<ipython-input-85-9812ea45e4bd>\u001b[0m in \u001b[0;36m<module>\u001b[0;34m()\u001b[0m\n\u001b[0;32m----> 1\u001b[0;31m \u001b[0;34m[\u001b[0m\u001b[0;36m1\u001b[0m\u001b[0;34m,\u001b[0m \u001b[0;36m2\u001b[0m\u001b[0;34m,\u001b[0m \u001b[0;36m3\u001b[0m\u001b[0;34m]\u001b[0m \u001b[0;34m+\u001b[0m \u001b[0;34m(\u001b[0m\u001b[0;36m1\u001b[0m\u001b[0;34m,\u001b[0m \u001b[0;36m2\u001b[0m\u001b[0;34m,\u001b[0m \u001b[0;36m3\u001b[0m\u001b[0;34m)\u001b[0m\u001b[0;34m\u001b[0m\u001b[0;34m\u001b[0m\u001b[0m\n\u001b[0m",
            "\u001b[0;31mTypeError\u001b[0m: can only concatenate list (not \"tuple\") to list"
          ]
        }
      ]
    },
    {
      "cell_type": "markdown",
      "metadata": {
        "id": "xuLBljjCwMPz"
      },
      "source": [
        "Поэтому придумали `extend`:"
      ]
    },
    {
      "cell_type": "code",
      "metadata": {
        "id": "x2DRX3lxReP2",
        "colab": {
          "base_uri": "https://localhost:8080/"
        },
        "outputId": "88914696-e1b1-416e-ae7b-361f785d42b5"
      },
      "source": [
        "l = [1, 2, 3]\n",
        "t = (1, 2, 3)\n",
        "l.extend(t)\n",
        "l"
      ],
      "execution_count": 89,
      "outputs": [
        {
          "output_type": "execute_result",
          "data": {
            "text/plain": [
              "[1, 2, 3, 1, 2, 3]"
            ]
          },
          "metadata": {},
          "execution_count": 89
        }
      ]
    },
    {
      "cell_type": "markdown",
      "metadata": {
        "id": "WOr-Ap-9vYy-"
      },
      "source": [
        "\\#скорость: метод буквально копирует элементы из последовательности `t` в `l`, поэтому скорость операции линейно зависит от длины последовательности `t`."
      ]
    },
    {
      "cell_type": "markdown",
      "metadata": {
        "id": "gppZlV3XReP2"
      },
      "source": [
        "С помощью метода `insert` можно вставить в список элемент `x` перед `i`-м элементом (происходит **изменение** самого объекта). Применение метода происходит так:\n",
        "```\n",
        "список.insert(i, x)\n",
        "```"
      ]
    },
    {
      "cell_type": "code",
      "metadata": {
        "id": "VtCsQz1OReP3",
        "colab": {
          "base_uri": "https://localhost:8080/"
        },
        "outputId": "a0ffffdb-34c9-4e41-9073-a70c78cc563f"
      },
      "source": [
        "l_1.insert(2, 'for')\n",
        "l_1"
      ],
      "execution_count": 90,
      "outputs": [
        {
          "output_type": "execute_result",
          "data": {
            "text/plain": [
              "[1, 2, 'for', 3, 1, 2, 3]"
            ]
          },
          "metadata": {},
          "execution_count": 90
        }
      ]
    },
    {
      "cell_type": "markdown",
      "metadata": {
        "id": "Fp-sEKNFz3CT"
      },
      "source": [
        "\\#скорость: в худшем случае необходимо добавить элемент в начало списка - сначала нам надо будет подвинуть все элементы \"вправо\" (поэтому $O(N)$), в лучшем случае - добавить в конец (поэтому $O(1)$). Но мы будем чаще иметь в виду \"плохую\" скорость работы."
      ]
    },
    {
      "cell_type": "markdown",
      "metadata": {
        "id": "9SWNmpFFtoSL"
      },
      "source": [
        "## Копирование и изменение\n",
        "\n",
        "Типичная ошибка новичка:"
      ]
    },
    {
      "cell_type": "code",
      "metadata": {
        "colab": {
          "base_uri": "https://localhost:8080/"
        },
        "id": "vrGmYFlpyE7t",
        "outputId": "6eb9a3fd-9924-4cf7-efb9-729db84c311c"
      },
      "source": [
        "# создаем один список из элементов\n",
        "list_1 = [1, 2, 3]\n",
        "# создаем второй такой же\n",
        "list_2 = list_1\n",
        "# меняем элемент второго или первого списка\n",
        "list_2[2] = -1\n",
        "# наблюдаем страшное\n",
        "print(list_1, list_2)"
      ],
      "execution_count": 98,
      "outputs": [
        {
          "output_type": "stream",
          "name": "stdout",
          "text": [
            "[1, 2, -1] [1, 2, -1]\n"
          ]
        }
      ]
    },
    {
      "cell_type": "markdown",
      "metadata": {
        "id": "AAZeKS0LyEV6"
      },
      "source": [
        "При написании `list_2 = list_1` мы создали объект-ссылку, поэтому обе переменные одновременно изменяются.\n",
        "\n",
        "Типичная ошибка новичка номер два:"
      ]
    },
    {
      "cell_type": "code",
      "metadata": {
        "colab": {
          "base_uri": "https://localhost:8080/"
        },
        "id": "9ESDppnMts4Y",
        "outputId": "b01fa07d-248a-423c-8654-99a41a7ccaf7"
      },
      "source": [
        "# хотим создать список и 5 пустых списков, почему бы не воспользоваться конктенацией списка с самим собой\n",
        "lists = [[]] * 5\n",
        "# в первый вложенный список хотим добавить элемент\n",
        "lists[0].append(3)\n",
        "# наблюдаем страшное\n",
        "print(lists)"
      ],
      "execution_count": 96,
      "outputs": [
        {
          "output_type": "stream",
          "name": "stdout",
          "text": [
            "[[3], [3], [3], [3], [3]]\n"
          ]
        }
      ]
    },
    {
      "cell_type": "markdown",
      "metadata": {
        "id": "qgoRXdBZxmyj"
      },
      "source": [
        "Мы создали 5 ссылок на один и тот же элемент: `[[]]` - список из одного элемента - пустого списка. Поэтому изменение любого из \"референса\" изменяет другие. \n",
        "\n",
        "Но что же делать?"
      ]
    },
    {
      "cell_type": "markdown",
      "metadata": {
        "id": "FumoIbRHReP5"
      },
      "source": [
        "**Исправление ошибки №1**\n",
        "\n",
        "С помощью метода `copy` или среза \"от-до\" можно получить копию списка в виде нового объекта."
      ]
    },
    {
      "cell_type": "code",
      "metadata": {
        "id": "XV23jKWlReP9",
        "colab": {
          "base_uri": "https://localhost:8080/"
        },
        "outputId": "7df5d2af-2fed-4832-bad8-a6c71bf5b61e"
      },
      "source": [
        "l = [1, 2, 3, 4, 5]\n",
        "l_copy = l.copy()\n",
        "l_copy2 = l[:]\n",
        "print(\"Копии:\", l_copy, l_copy2)\n",
        "l[0] = 100\n",
        "l[-1] = 'wow'\n",
        "l_copy[2] = 13\n",
        "l_copy2[-1] = 42\n",
        "print(l)\n",
        "print(l_copy)\n",
        "print(l_copy2)"
      ],
      "execution_count": 100,
      "outputs": [
        {
          "output_type": "stream",
          "name": "stdout",
          "text": [
            "Копии: [1, 2, 3, 4, 5] [1, 2, 3, 4, 5]\n",
            "[100, 2, 3, 4, 'wow']\n",
            "[1, 2, 13, 4, 5]\n",
            "[1, 2, 3, 4, 42]\n"
          ]
        }
      ]
    },
    {
      "cell_type": "markdown",
      "metadata": {
        "id": "2M7yTTrazCBm"
      },
      "source": [
        "**Исправление ошибки №2**\n",
        "\n",
        "Необходимо добавить каждый вложенный список отдельно в цикле:"
      ]
    },
    {
      "cell_type": "code",
      "metadata": {
        "colab": {
          "base_uri": "https://localhost:8080/"
        },
        "id": "OntrSaxwy50_",
        "outputId": "36d947b3-95a5-4b4f-eaf0-3ef4dd367a35"
      },
      "source": [
        "l = []\n",
        "for i in range(5):\n",
        "    l.append([])\n",
        "l[0].append(3)\n",
        "print(l)"
      ],
      "execution_count": 101,
      "outputs": [
        {
          "output_type": "stream",
          "name": "stdout",
          "text": [
            "[[3], [], [], [], []]\n"
          ]
        }
      ]
    },
    {
      "cell_type": "markdown",
      "metadata": {
        "id": "Z2ekWzuM0UYY"
      },
      "source": [
        "\\#скорость: создание нового объекта той же длины - линейная скорость"
      ]
    },
    {
      "cell_type": "markdown",
      "metadata": {
        "id": "CoWMNdofReP0"
      },
      "source": [
        "## Другие методы списков"
      ]
    },
    {
      "cell_type": "markdown",
      "metadata": {
        "id": "MpErJRfrReP1"
      },
      "source": [
        "### `.count(x) `\n",
        "Считает количество элементов, равных x"
      ]
    },
    {
      "cell_type": "code",
      "metadata": {
        "id": "KslZxdwgReP1",
        "colab": {
          "base_uri": "https://localhost:8080/"
        },
        "outputId": "3ef8535d-f195-4e5d-e34e-94447e26dc05"
      },
      "source": [
        "print(l_1.count(3))"
      ],
      "execution_count": 102,
      "outputs": [
        {
          "output_type": "stream",
          "name": "stdout",
          "text": [
            "2\n"
          ]
        }
      ]
    },
    {
      "cell_type": "markdown",
      "metadata": {
        "id": "QcF3wMjh0abj"
      },
      "source": [
        "\\#скорость: надо пройтись по всем элементам и посчитать число совпадающих с х элментов - линейная скорость"
      ]
    },
    {
      "cell_type": "markdown",
      "metadata": {
        "id": "mTlz8snZReP3"
      },
      "source": [
        "### `.pop(i)` \n",
        "\n",
        "Возвращает `i`-й элемент, удаляя его из последовательности."
      ]
    },
    {
      "cell_type": "code",
      "metadata": {
        "id": "E-XnioUmReP3",
        "colab": {
          "base_uri": "https://localhost:8080/"
        },
        "outputId": "9ddfab1c-033a-46b2-e5cc-b86efdcdb3cf"
      },
      "source": [
        "l = [1, 2, 3, 4, 5]\n",
        "three = l.pop(2)\n",
        "print(l, three)"
      ],
      "execution_count": 103,
      "outputs": [
        {
          "output_type": "stream",
          "name": "stdout",
          "text": [
            "[1, 2, 4, 5] 3\n"
          ]
        }
      ]
    },
    {
      "cell_type": "markdown",
      "metadata": {
        "id": "c3jEtNh70ifZ"
      },
      "source": [
        "\\#скорость: линейная скорость - в худшем случае надо удалить первый элемент и подвинуть все элементы \"влево\""
      ]
    },
    {
      "cell_type": "markdown",
      "metadata": {
        "id": "m3nfbXIyReP3"
      },
      "source": [
        "### `.reverse()` \n",
        "Меняет порядок элементов списка на обратный (изменяет сам объект). Функция `reversed(s)` возвращает развернутую последовательность (но не список!) не меняя сам объект."
      ]
    },
    {
      "cell_type": "code",
      "metadata": {
        "id": "ZrFegxd_ReP4",
        "colab": {
          "base_uri": "https://localhost:8080/"
        },
        "outputId": "d3c9031f-ec6d-4a15-e2d3-6331a35d6904"
      },
      "source": [
        "l = [1, 2, 3, 4, 5]\n",
        "l.reverse()\n",
        "print(l)"
      ],
      "execution_count": 92,
      "outputs": [
        {
          "output_type": "stream",
          "name": "stdout",
          "text": [
            "[5, 4, 3, 2, 1]\n"
          ]
        }
      ]
    },
    {
      "cell_type": "code",
      "metadata": {
        "id": "I4gPhyNgReP4",
        "colab": {
          "base_uri": "https://localhost:8080/"
        },
        "outputId": "dbb48d13-6d9c-4224-e7d8-5767569e5ce6"
      },
      "source": [
        "print(list(reversed(l)), type(reversed(l)))"
      ],
      "execution_count": 93,
      "outputs": [
        {
          "output_type": "stream",
          "name": "stdout",
          "text": [
            "[1, 2, 3, 4, 5] <class 'list_reverseiterator'>\n"
          ]
        }
      ]
    },
    {
      "cell_type": "markdown",
      "metadata": {
        "id": "bogQjawy0jSe"
      },
      "source": [
        "\\#скорость: надо пройтись по всем элементам от конца до начала и создать новый список - линейная скорость (линейная скорость дважды - тоже линейная)"
      ]
    },
    {
      "cell_type": "markdown",
      "metadata": {
        "id": "9CnnNi1HReP4"
      },
      "source": [
        "### `.sort()` \n",
        "Сортирует элементы списка (изменяет сам объект). Функция `sorted(s)` возвращает отсортированный список."
      ]
    },
    {
      "cell_type": "code",
      "metadata": {
        "id": "moSvZK1XReP4",
        "colab": {
          "base_uri": "https://localhost:8080/"
        },
        "outputId": "955d6e48-490e-40ac-9786-fd1d4e103479"
      },
      "source": [
        "l.sort()\n",
        "print(l)"
      ],
      "execution_count": 94,
      "outputs": [
        {
          "output_type": "stream",
          "name": "stdout",
          "text": [
            "[1, 2, 3, 4, 5]\n"
          ]
        }
      ]
    },
    {
      "cell_type": "code",
      "metadata": {
        "id": "KgVXXwgQReP5",
        "colab": {
          "base_uri": "https://localhost:8080/"
        },
        "outputId": "09b7d087-f265-4647-fd93-49f273df1ce1"
      },
      "source": [
        "print(sorted('241'))"
      ],
      "execution_count": 95,
      "outputs": [
        {
          "output_type": "stream",
          "name": "stdout",
          "text": [
            "['1', '2', '4']\n"
          ]
        }
      ]
    },
    {
      "cell_type": "markdown",
      "metadata": {
        "id": "6UWWjQ2AReP9"
      },
      "source": [
        "# Проход по элементам"
      ]
    },
    {
      "cell_type": "markdown",
      "metadata": {
        "id": "Of-jAnCyReP9"
      },
      "source": [
        "С помощью циклов можно пройтись:\n",
        "1. по элементам последовательности\n",
        "2. по индексам, с помощью которых можно обратиться к элементам или изменить их\n",
        "\n",
        "Первый вариант проще, но второй дает больше функционала."
      ]
    },
    {
      "cell_type": "code",
      "metadata": {
        "id": "WA0fIQdRReP9"
      },
      "source": [
        "s = [1, 2, 3, 4, 5]"
      ],
      "execution_count": 121,
      "outputs": []
    },
    {
      "cell_type": "code",
      "metadata": {
        "colab": {
          "base_uri": "https://localhost:8080/"
        },
        "id": "_TLVNcwH1Mbt",
        "outputId": "c578da13-eb85-45f0-97b8-1f89b674dc7b"
      },
      "source": [
        "print('По элементам:')\n",
        "for element in s:\n",
        "    print(element)"
      ],
      "execution_count": 122,
      "outputs": [
        {
          "output_type": "stream",
          "name": "stdout",
          "text": [
            "По элементам:\n",
            "1\n",
            "2\n",
            "3\n",
            "4\n",
            "5\n"
          ]
        }
      ]
    },
    {
      "cell_type": "code",
      "metadata": {
        "colab": {
          "base_uri": "https://localhost:8080/"
        },
        "id": "OFFoj2CN1Lm8",
        "outputId": "fa8e25a7-1d27-444c-c03d-e54b021e85a6"
      },
      "source": [
        "print('По индексам:')\n",
        "for i in range(len(s)):\n",
        "    print(s[i])\n",
        "    s[i] = s[i] ** 2\n",
        "print(s)"
      ],
      "execution_count": 123,
      "outputs": [
        {
          "output_type": "stream",
          "name": "stdout",
          "text": [
            "По индексам:\n",
            "1\n",
            "2\n",
            "3\n",
            "4\n",
            "5\n",
            "[1, 4, 9, 16, 25]\n"
          ]
        }
      ]
    },
    {
      "cell_type": "code",
      "metadata": {
        "id": "EcfPn0LEReP-",
        "colab": {
          "base_uri": "https://localhost:8080/"
        },
        "outputId": "068585c2-fdc9-42ae-8f3a-2053f3e8bc05"
      },
      "source": [
        "# Сумма элементов\n",
        "summa = 0\n",
        "for x in s:\n",
        "    summa += x\n",
        "print(summa, sum(s))"
      ],
      "execution_count": 124,
      "outputs": [
        {
          "output_type": "stream",
          "name": "stdout",
          "text": [
            "55 55\n"
          ]
        }
      ]
    },
    {
      "cell_type": "markdown",
      "metadata": {
        "id": "1Q15bl3T8puD"
      },
      "source": [
        "**Решите задачу** https://contest.yandex.ru/contest/28954/problems/H/ (for-for, split, append, int)"
      ]
    },
    {
      "cell_type": "markdown",
      "metadata": {
        "id": "8H_vuZnZ3Cqw"
      },
      "source": [
        "# Генераторы\n",
        "\n",
        "Так, ну, в Питоне же любят, чтобы код был кратким. Поэтому есть способ создать список с помощью цикла в одну строку! \n",
        "\n",
        "```python\n",
        "spisok = [ element for X in SEQUENCE]\n",
        "```\n",
        "Последовательность SEQUENCE может выступать просто \"счетчиком\" - то сколько элементов должно быть. Или же элементы могут зависеть от элемента счетчика - впрочем, не только счетчика, а любой последовательности."
      ]
    },
    {
      "cell_type": "code",
      "metadata": {
        "colab": {
          "base_uri": "https://localhost:8080/"
        },
        "id": "ad9YksKS3k1Q",
        "outputId": "7c701ce3-690c-4d44-b6e8-88c7653f8242"
      },
      "source": [
        "# создадим список строк из другого списка чисел\n",
        "l_s = [str(element)+'!' for element in l]\n",
        "print(l_s)"
      ],
      "execution_count": 120,
      "outputs": [
        {
          "output_type": "stream",
          "name": "stdout",
          "text": [
            "['1!', '4!', '9!', '16!', '25!']\n"
          ]
        }
      ]
    },
    {
      "cell_type": "code",
      "metadata": {
        "colab": {
          "base_uri": "https://localhost:8080/"
        },
        "id": "2QXtS1593k6E",
        "outputId": "1dc1bddb-d911-4e7f-e3ad-fac417466e4d"
      },
      "source": [
        "# создадим список квадратов от 1 до 5\n",
        "l = [i ** 2 for i in range(1, 6)]\n",
        "print(l)"
      ],
      "execution_count": 118,
      "outputs": [
        {
          "output_type": "stream",
          "name": "stdout",
          "text": [
            "[1, 4, 9, 16, 25]\n"
          ]
        }
      ]
    },
    {
      "cell_type": "code",
      "metadata": {
        "colab": {
          "base_uri": "https://localhost:8080/"
        },
        "id": "m-lXJqPq3abE",
        "outputId": "d3999d44-1491-4c65-ef69-2f867c03173f"
      },
      "source": [
        "# создадим вложеный список из 10 пустых списков\n",
        "l = [ [] for i in range(10)]\n",
        "print(l)"
      ],
      "execution_count": 113,
      "outputs": [
        {
          "output_type": "stream",
          "name": "stdout",
          "text": [
            "[[], [], [], [], [], [], [], [], [], []]\n"
          ]
        }
      ]
    },
    {
      "cell_type": "markdown",
      "metadata": {
        "id": "hF0hSZe82Pwf"
      },
      "source": [
        "**Решите задачи:**\n",
        "- https://contest.yandex.ru/contest/28954/problems/E/ (split + генератор + int)\n",
        "- https://contest.yandex.ru/contest/28954/problems/F/ (предыдущая + генератор + join)\n",
        "- https://contest.yandex.ru/contest/28954/problems/G/ (препредыдущая + методы списка)\n",
        "\n"
      ]
    },
    {
      "cell_type": "markdown",
      "metadata": {
        "id": "AuG1xSFB4-h7"
      },
      "source": [
        "Генераторы можно также друг в друга вкладывать.\n",
        "\n",
        "1) Двойной цикл для создания одного списка:"
      ]
    },
    {
      "cell_type": "code",
      "metadata": {
        "colab": {
          "base_uri": "https://localhost:8080/"
        },
        "id": "JiQZhLhO482Y",
        "outputId": "0695ad4f-d448-41c0-b0aa-c47a9de61569"
      },
      "source": [
        "l = [i + j for i in range(3, 5) for j in range(10, 13)] # заметьте что тут только одна пара скобок\n",
        "print(l)"
      ],
      "execution_count": 130,
      "outputs": [
        {
          "output_type": "stream",
          "name": "stdout",
          "text": [
            "[13, 14, 15, 14, 15, 16]\n"
          ]
        }
      ]
    },
    {
      "cell_type": "markdown",
      "metadata": {
        "id": "NQ4FMRUI5pB3"
      },
      "source": [
        "2) Двойной цикл для создания вложенного списка:"
      ]
    },
    {
      "cell_type": "code",
      "metadata": {
        "colab": {
          "base_uri": "https://localhost:8080/"
        },
        "id": "loLhbD2S5dbK",
        "outputId": "9c4b9d49-0deb-4455-b3eb-8197a1118cac"
      },
      "source": [
        "matrix = [ [0 for col_index in range(5)] for row_index in range(3)]\n",
        "print(matrix) # матрица 3 х 5"
      ],
      "execution_count": 143,
      "outputs": [
        {
          "output_type": "stream",
          "name": "stdout",
          "text": [
            "[[0, 0, 0, 0, 0], [0, 0, 0, 0, 0], [0, 0, 0, 0, 0]]\n"
          ]
        }
      ]
    },
    {
      "cell_type": "markdown",
      "metadata": {
        "id": "YJ3cRPfL8Gqz"
      },
      "source": [
        "**Решите задачу:** https://contest.yandex.ru/contest/28954/problems/I/"
      ]
    },
    {
      "cell_type": "markdown",
      "metadata": {
        "id": "2Q-wEUWU57wu"
      },
      "source": [
        "Высший уровень: внутри генераторов можно добавлять однострочную условную конструкцию! "
      ]
    },
    {
      "cell_type": "code",
      "metadata": {
        "colab": {
          "base_uri": "https://localhost:8080/"
        },
        "id": "5vrEFyrJ51Z4",
        "outputId": "d2bbcdb2-1575-4334-b170-44c9cfe7b0b7"
      },
      "source": [
        "# 1 if col_index == row_index else 0 - это законченная конструкция и она может находиться в любом месте\n",
        "# в том числе там, где мы \"создаем элемент генерируемого списка\"\n",
        "matrix = [ [1 if col_index == row_index else 0 for col_index in range(3)] for row_index in range(3)]\n",
        "print(matrix) # единичная матрица 3 х 3"
      ],
      "execution_count": 144,
      "outputs": [
        {
          "output_type": "stream",
          "name": "stdout",
          "text": [
            "[[1, 0, 0], [0, 1, 0], [0, 0, 1]]\n"
          ]
        }
      ]
    },
    {
      "cell_type": "markdown",
      "metadata": {
        "id": "6KZ9J1Zt6ScO"
      },
      "source": [
        "Внутри \"заголовка\" цикла внутри генератора можно добавить условие `if something` (без else):"
      ]
    },
    {
      "cell_type": "code",
      "metadata": {
        "colab": {
          "base_uri": "https://localhost:8080/"
        },
        "id": "yBKhsKhG6MhP",
        "outputId": "7e5e2c40-2dad-40b5-8366-ce113de5ac66"
      },
      "source": [
        "s = [1, 4, 9, 16, 25]\n",
        "x = [el for el in s if el % 2 == 0] \n",
        "# длина списка будет меньше, потому что не все элементы последовательности s \"прошли\" условие\n",
        "# легко запомнить читая генератор слева направа со слова for - только те el, что дойдут до конца скобки ], будут в новом списке\n",
        "print(x)"
      ],
      "execution_count": 145,
      "outputs": [
        {
          "output_type": "stream",
          "name": "stdout",
          "text": [
            "[4, 16]\n"
          ]
        }
      ]
    },
    {
      "cell_type": "markdown",
      "metadata": {
        "id": "FNrH691579MA"
      },
      "source": [
        "Условий может быть несколько:"
      ]
    },
    {
      "cell_type": "code",
      "metadata": {
        "colab": {
          "base_uri": "https://localhost:8080/"
        },
        "id": "wXGbaMIr6X5D",
        "outputId": "da6ef55f-02c9-4d37-986e-814b4fea315e"
      },
      "source": [
        "# список из пар (кортежей) где выполнены все условия\n",
        "x = [(i, j) for i in range(6) for j in range(5) if i > j if j % 2 != 0]\n",
        "print(x)"
      ],
      "execution_count": 150,
      "outputs": [
        {
          "output_type": "stream",
          "name": "stdout",
          "text": [
            "[(2, 1), (3, 1), (4, 1), (4, 3), (5, 1), (5, 3)]\n"
          ]
        }
      ]
    },
    {
      "cell_type": "code",
      "metadata": {
        "id": "y8uDaf4t7q01"
      },
      "source": [
        ""
      ],
      "execution_count": null,
      "outputs": []
    }
  ]
}