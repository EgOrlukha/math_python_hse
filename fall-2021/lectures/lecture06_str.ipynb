{
  "nbformat": 4,
  "nbformat_minor": 0,
  "metadata": {
    "celltoolbar": "Slideshow",
    "kernelspec": {
      "display_name": "Python 3",
      "language": "python",
      "name": "python3"
    },
    "language_info": {
      "codemirror_mode": {
        "name": "ipython",
        "version": 3
      },
      "file_extension": ".py",
      "mimetype": "text/x-python",
      "name": "python",
      "nbconvert_exporter": "python",
      "pygments_lexer": "ipython3",
      "version": "3.6.9"
    },
    "colab": {
      "name": "lecture06_str.ipynb",
      "provenance": [],
      "collapsed_sections": [],
      "include_colab_link": true
    }
  },
  "cells": [
    {
      "cell_type": "markdown",
      "metadata": {
        "id": "view-in-github",
        "colab_type": "text"
      },
      "source": [
        "<a href=\"https://colab.research.google.com/github/svdcvt/math_python_hse/blob/master/fall-2021/lectures/lecture06_str.ipynb\" target=\"_parent\"><img src=\"https://colab.research.google.com/assets/colab-badge.svg\" alt=\"Open In Colab\"/></a>"
      ]
    },
    {
      "cell_type": "markdown",
      "metadata": {
        "id": "huOx2H6ZS7LK"
      },
      "source": [
        "# Занятие №6: строки, обработка файлов.\n",
        "\n",
        "---\n",
        "\n",
        "[МИНИКОНТЕСТ](https://contest.yandex.ru/contest/28872/)\n",
        "\n",
        "---\n",
        "https://replit.com - можете сразу воспроизводить код и решать задачи используя онлайн интерпретатор Питона (\\\"Create Repl\\\" -> \\\"Select Language - Python\\\")"
      ]
    },
    {
      "cell_type": "markdown",
      "metadata": {
        "id": "xhTzMjlOS7LP"
      },
      "source": [
        "##  Методы строк  \n",
        "\n",
        "Мы уже знаем что-то про строки (впрочем, основное, что нужно о них знать) - как брать срезы (подпоследовательности) строк, как их складывать, как узнать длину строки, два полезных метода `join` и `split`.\n",
        "\n",
        "Сегодня мы продолжим тему строк и узнаем еще несколько ключевых функций/методов для работы с этим типом данных."
      ]
    },
    {
      "cell_type": "markdown",
      "metadata": {
        "id": "4R2NUhOGS7LQ"
      },
      "source": [
        "###  Библиотека `string`  \n",
        "\n",
        "Это очень небольшая библиотека, но она может быть полезна, чтобы иметь \"группы\" символов под рукой, а не создавать их самим (однако, там далеко не все символы, например, там нет букв не английского алфавита). Таким образом можно получить все пунктуационные и пробельный символы:"
      ]
    },
    {
      "cell_type": "code",
      "metadata": {
        "id": "8ny5uS3AS7LR",
        "colab": {
          "base_uri": "https://localhost:8080/"
        },
        "outputId": "738ed3d7-bf2c-4fe7-db18-a4affa583443"
      },
      "source": [
        "import string\n",
        "string.punctuation, string.digits, string.whitespace"
      ],
      "execution_count": 1,
      "outputs": [
        {
          "output_type": "execute_result",
          "data": {
            "text/plain": [
              "('!\"#$%&\\'()*+,-./:;<=>?@[\\\\]^_`{|}~', '0123456789', ' \\t\\n\\r\\x0b\\x0c')"
            ]
          },
          "metadata": {},
          "execution_count": 1
        }
      ]
    },
    {
      "cell_type": "markdown",
      "metadata": {
        "id": "rJ6Na84ynuqy"
      },
      "source": [
        "Решите задачу: https://contest.yandex.ru/contest/28872/problems/A/"
      ]
    },
    {
      "cell_type": "markdown",
      "metadata": {
        "id": "E22FBekCS7LU"
      },
      "source": [
        "###  Метод `find`  \n",
        "\n",
        "Это метод поиска подстроки в строке, как легко понять из названия. Он возвращает индекс (только неотрицательный) **первого** вхождения подстроки в строку, а если она не нашлась то -1. Метод работает за линейное время."
      ]
    },
    {
      "cell_type": "code",
      "metadata": {
        "id": "yHuvTM8vS7LU",
        "colab": {
          "base_uri": "https://localhost:8080/"
        },
        "outputId": "f77c8d6b-51a3-40a3-b4c2-3b0a87c1b407"
      },
      "source": [
        "s = 'python string'\n",
        "print(s.find('o'))\n",
        "print(s.find('str'))\n",
        "print(s.find('P'))\n",
        "print(s.find('t'))"
      ],
      "execution_count": 2,
      "outputs": [
        {
          "output_type": "stream",
          "name": "stdout",
          "text": [
            "4\n",
            "7\n",
            "-1\n",
            "2\n"
          ]
        }
      ]
    },
    {
      "cell_type": "markdown",
      "metadata": {
        "id": "CG0UYsCsS7LV"
      },
      "source": [
        "Как видим `t` было найдено только одно - в слове python. В методе есть позиционные параметры в каком интервале искать подстроку. То есть метод выглядит в \"общем\" виде так:\n",
        "\n",
        "`Строка.find(ИскомаяПодстрока, Старт, Конец)`"
      ]
    },
    {
      "cell_type": "code",
      "metadata": {
        "id": "iJIYiXcyS7LW",
        "colab": {
          "base_uri": "https://localhost:8080/"
        },
        "outputId": "5d417c56-4dc8-43e4-abd3-55ced0594128"
      },
      "source": [
        "s = 'python string'\n",
        "print(s.find('t', 0, 5))\n",
        "print(s.find('t', -5, -2))\n",
        "print(s.find('t', s.find('t') + 1))\n",
        "print(s.find('th', 5))"
      ],
      "execution_count": 3,
      "outputs": [
        {
          "output_type": "stream",
          "name": "stdout",
          "text": [
            "2\n",
            "8\n",
            "8\n",
            "-1\n"
          ]
        }
      ]
    },
    {
      "cell_type": "markdown",
      "metadata": {
        "id": "tzfB0jqyn9NY"
      },
      "source": [
        "Решите задачу: https://contest.yandex.ru/contest/28872/problems/B/"
      ]
    },
    {
      "cell_type": "markdown",
      "metadata": {
        "id": "fy2T8wTMS7LX"
      },
      "source": [
        "### Метод `rfind` \n",
        "\n",
        "Он работает аналогично `find`, но ищет самое **правое вхождение** (первое с конца). Метод также работает за линейное время."
      ]
    },
    {
      "cell_type": "code",
      "metadata": {
        "id": "dVr6CIxkS7LX",
        "colab": {
          "base_uri": "https://localhost:8080/"
        },
        "outputId": "aadacfe8-2d04-410b-a579-206ffc77dbb9"
      },
      "source": [
        "s = 'python to do'\n",
        "print(s.rfind('n to'))\n",
        "print(s.rfind('t'))\n",
        "print(s.rfind('t', 9, 100))"
      ],
      "execution_count": 4,
      "outputs": [
        {
          "output_type": "stream",
          "name": "stdout",
          "text": [
            "5\n",
            "7\n",
            "-1\n"
          ]
        }
      ]
    },
    {
      "cell_type": "markdown",
      "metadata": {
        "id": "FFy3RE4zUQBT"
      },
      "source": [
        "Казалось бы, зачем отдельный метод, который будет искать подстроку справа, если можно просто развернуть строку и потом применить метод `find`, но на самом деле встроенный метод будет работать быстрее (почти в сто раз)."
      ]
    },
    {
      "cell_type": "code",
      "metadata": {
        "id": "i5n-jiuSS7LZ"
      },
      "source": [
        "s = ' ' + 'a' * 100000"
      ],
      "execution_count": 5,
      "outputs": []
    },
    {
      "cell_type": "code",
      "metadata": {
        "id": "1ZzJ9xsGS7LZ",
        "colab": {
          "base_uri": "https://localhost:8080/"
        },
        "outputId": "75f5717c-9322-45a6-cbcf-9a924f72aa9d"
      },
      "source": [
        "%timeit s.rfind(' ')"
      ],
      "execution_count": 6,
      "outputs": [
        {
          "output_type": "stream",
          "name": "stdout",
          "text": [
            "The slowest run took 10.80 times longer than the fastest. This could mean that an intermediate result is being cached.\n",
            "1000000 loops, best of 5: 1.71 µs per loop\n"
          ]
        }
      ]
    },
    {
      "cell_type": "code",
      "metadata": {
        "id": "pxAwvOgVS7LZ",
        "colab": {
          "base_uri": "https://localhost:8080/"
        },
        "outputId": "4e2c8551-3bc2-40e0-d03c-9a74c70c3c9a"
      },
      "source": [
        "%timeit s[::-1].find(' ')"
      ],
      "execution_count": 7,
      "outputs": [
        {
          "output_type": "stream",
          "name": "stdout",
          "text": [
            "10000 loops, best of 5: 157 µs per loop\n"
          ]
        }
      ]
    },
    {
      "cell_type": "markdown",
      "metadata": {
        "id": "BnEIF7IAS7La"
      },
      "source": [
        "### Метод `replace`  \n",
        "\n",
        "Имеет три позиционных параметра - `old`, `new` и необязательный `count`. Возвращает строку, в которой все вхождения или, если указано, `count` первых вхождений подстроки `old` заменены на подстроку `new`. Этот метод создает новый объект и выдает именно его, то есть это не \"inplace\" операция. И работает он за линейное время."
      ]
    },
    {
      "cell_type": "code",
      "metadata": {
        "id": "_S-PesxmS7La"
      },
      "source": [
        "s = 'Python 3 Python 3'\n",
        "s_new = s.replace('P', 'C')"
      ],
      "execution_count": 8,
      "outputs": []
    },
    {
      "cell_type": "code",
      "metadata": {
        "id": "BOX-UiuwS7Lb",
        "colab": {
          "base_uri": "https://localhost:8080/"
        },
        "outputId": "b75d2d02-45e6-4f11-97d4-a9fb05836243"
      },
      "source": [
        "s_new2 = s_new.replace('3', ';)')\n",
        "print(s, s_new, s_new2, sep=' -> ')"
      ],
      "execution_count": 9,
      "outputs": [
        {
          "output_type": "stream",
          "name": "stdout",
          "text": [
            "Python 3 Python 3 -> Cython 3 Cython 3 -> Cython ;) Cython ;)\n"
          ]
        }
      ]
    },
    {
      "cell_type": "code",
      "metadata": {
        "id": "pAOqeMBAS7Lb",
        "colab": {
          "base_uri": "https://localhost:8080/"
        },
        "outputId": "4115611c-648a-4749-c634-dcc61ef8e95c"
      },
      "source": [
        "s = 'AAAAAAAA' # 8 букв А\n",
        "s_new = s.replace('AA', 'A')\n",
        "s_new2 = s.replace('AA', 'A', 2)\n",
        "print(s, s_new, s_new2)"
      ],
      "execution_count": 10,
      "outputs": [
        {
          "output_type": "stream",
          "name": "stdout",
          "text": [
            "AAAAAAAA AAAA AAAAAA\n"
          ]
        }
      ]
    },
    {
      "cell_type": "markdown",
      "metadata": {
        "id": "yTyaXkyaoCDW"
      },
      "source": [
        "Решите задачу: https://contest.yandex.ru/contest/28872/problems/C/"
      ]
    },
    {
      "cell_type": "markdown",
      "metadata": {
        "id": "IBzr3pe1VTnV"
      },
      "source": [
        "Несмотря на то, что `replace` работает алгоритмически за линейное время, он будет все равно быстрее, чем \"самописный\" replace, так как это встроенный метод. \n",
        "\n",
        "Вот пример, что встроенные две подряд \"линейные\" операции быстрее в ~10 раз, чем \"один проход\" циклом."
      ]
    },
    {
      "cell_type": "code",
      "metadata": {
        "colab": {
          "base_uri": "https://localhost:8080/"
        },
        "id": "2k-EuPHdVT6J",
        "outputId": "16c049b3-5b01-4a55-ea2c-06cdd52b05b4"
      },
      "source": [
        "import random\n",
        "\n",
        "l = list('AA' * 1000 + ',' * 1000 + '!' * 1000 + '.' * 1000)\n",
        "random.shuffle(l)\n",
        "s = ''.join(l)\n",
        "print(s[:20], len(s))"
      ],
      "execution_count": 11,
      "outputs": [
        {
          "output_type": "stream",
          "name": "stdout",
          "text": [
            "!!.A.!.!A!A.,.,.AAA. 5000\n"
          ]
        }
      ]
    },
    {
      "cell_type": "code",
      "metadata": {
        "colab": {
          "base_uri": "https://localhost:8080/"
        },
        "id": "rAbG-yRvVlCY",
        "outputId": "a0e26838-c0ba-4c37-cbc9-ce966e412496"
      },
      "source": [
        "%timeit a = s.replace('!', '').replace(',', '')"
      ],
      "execution_count": 12,
      "outputs": [
        {
          "output_type": "stream",
          "name": "stdout",
          "text": [
            "10000 loops, best of 5: 79.2 µs per loop\n"
          ]
        }
      ]
    },
    {
      "cell_type": "code",
      "metadata": {
        "colab": {
          "base_uri": "https://localhost:8080/"
        },
        "id": "DD_8e71CVtXh",
        "outputId": "88b90e2a-c78a-4d2f-9c7f-121ee98dca46"
      },
      "source": [
        "%%timeit\n",
        "a = ''\n",
        "for ss in s:\n",
        "    if ss != '!' and ss != ',':\n",
        "        a += ss"
      ],
      "execution_count": 13,
      "outputs": [
        {
          "output_type": "stream",
          "name": "stdout",
          "text": [
            "1000 loops, best of 5: 645 µs per loop\n"
          ]
        }
      ]
    },
    {
      "cell_type": "markdown",
      "metadata": {
        "id": "O0aucVWRaLXo"
      },
      "source": [
        "Конечно, с ростом числа `replace` увеличивается и его время работы. Однако время работы так же зависит и от того, сколько необходимо будет сделать замен. Если тех подстрок, которые надо заменить, довольно мало, то `replace` работает довольно быстро.\n",
        "Поэтому тяжело оценить, при каких условиях второй вариант решения будет работать так же быстро или быстрее.\n",
        "\n",
        "Поэтому если вы, например, захотите удалить все знаки пунктуации в тексте, то кажется оба решения займут примерно одно и то же число строк кода, поэтому выбрать оптимальное решения необходимо вам самим, основываясь на времени работы каждого из вариантов. \n",
        "\n",
        "Это в целом хорошая заметка на \"подумать\", и рассуждать о времени работы вашего кода всегда полезно."
      ]
    },
    {
      "cell_type": "markdown",
      "metadata": {
        "id": "HxN5b9NqS7Lc"
      },
      "source": [
        "### Метод `count` \n",
        "\n",
        "Выдает целое число - количество непересекающихся вхождений подстроки. По аналогии с методом `find` есть параметры интервала поиска. Работает линейно."
      ]
    },
    {
      "cell_type": "code",
      "metadata": {
        "id": "Ru1-q6yiS7Lc",
        "colab": {
          "base_uri": "https://localhost:8080/"
        },
        "outputId": "d41cd991-fe48-479d-fcbd-b1bf710024ae"
      },
      "source": [
        "s = 'python python 3'\n",
        "print(s.count(' python ')) # обратите внимание на пробелы"
      ],
      "execution_count": 14,
      "outputs": [
        {
          "output_type": "stream",
          "name": "stdout",
          "text": [
            "1\n"
          ]
        }
      ]
    },
    {
      "cell_type": "code",
      "metadata": {
        "id": "nTqGTjKRS7Ld",
        "colab": {
          "base_uri": "https://localhost:8080/"
        },
        "outputId": "860dc7e8-eaaf-4087-982e-f2363dd12f18"
      },
      "source": [
        "s = 'AAAAAAAA' # 8 букв А\n",
        "print(s.count('A'), s.count('AA', 3, 7), s.count('AAA', 3, 7), s[3:7])\n",
        "# обратите внимание, что вхождения подстроки НЕ ПЕРЕСЕКАЮТСЯ!"
      ],
      "execution_count": 15,
      "outputs": [
        {
          "output_type": "stream",
          "name": "stdout",
          "text": [
            "8 2 1 AAAA\n"
          ]
        }
      ]
    },
    {
      "cell_type": "markdown",
      "metadata": {
        "id": "MBf7KRyioFwt"
      },
      "source": [
        "Решите задачу: https://contest.yandex.ru/contest/28872/problems/D/"
      ]
    },
    {
      "cell_type": "markdown",
      "metadata": {
        "id": "xDWcrq33S7Ld"
      },
      "source": [
        "### Другие методы \n",
        "\n",
        "**Методы, проверяющие состав строки**\n",
        "\n",
        "`S.isdigit()`\tСостоит ли строка ТОЛЬКО из цифр"
      ]
    },
    {
      "cell_type": "code",
      "metadata": {
        "id": "WEWowncMS7Le",
        "colab": {
          "base_uri": "https://localhost:8080/"
        },
        "outputId": "f00ad313-cb75-4b30-84de-77b76a23fa88"
      },
      "source": [
        "print('123'.isdigit(),\n",
        "      '1a'.isdigit(),\n",
        "      '1,2,3'.isdigit(),\n",
        "      '1 2 3'.isdigit(),\n",
        "      ''.isdigit(),\n",
        "      ' '.isdigit(), sep=', ')"
      ],
      "execution_count": 16,
      "outputs": [
        {
          "output_type": "stream",
          "name": "stdout",
          "text": [
            "True, False, False, False, False, False\n"
          ]
        }
      ]
    },
    {
      "cell_type": "markdown",
      "metadata": {
        "id": "QFNZ2PbQS7Le"
      },
      "source": [
        "`S.isalpha()`\tСостоит ли строка только из букв"
      ]
    },
    {
      "cell_type": "code",
      "metadata": {
        "id": "CwL0X5WuS7Lf",
        "colab": {
          "base_uri": "https://localhost:8080/"
        },
        "outputId": "8577d286-7d40-4a69-ce28-1f91b43bf61a"
      },
      "source": [
        "print('абвσ'.isalpha(),\n",
        "      'a1b2b3'.isalpha(),\n",
        "      'a,b,c'.isalpha(),\n",
        "      'a b c'.isalpha(),\n",
        "      ''.isalpha(),\n",
        "      ' '.isalpha(), sep=', ')"
      ],
      "execution_count": 17,
      "outputs": [
        {
          "output_type": "stream",
          "name": "stdout",
          "text": [
            "True, False, False, False, False, False\n"
          ]
        }
      ]
    },
    {
      "cell_type": "markdown",
      "metadata": {
        "id": "pbdS3ShNS7Lf"
      },
      "source": [
        "`S.isalnum()`\tСостоит ли строка из цифр или букв"
      ]
    },
    {
      "cell_type": "code",
      "metadata": {
        "id": "z_b1-9rzS7Lf",
        "colab": {
          "base_uri": "https://localhost:8080/"
        },
        "outputId": "9e9faccb-08f9-479f-aaa3-4487830b3487"
      },
      "source": [
        "print('a'.isalnum(),\n",
        "      '1'.isalnum(),\n",
        "      'a1'.isalnum(),\n",
        "      'a,1'.isalnum(),\n",
        "      'a 1'.isalnum(),\n",
        "      ''.isalnum(),\n",
        "      ' '.isalnum(), sep=', ')"
      ],
      "execution_count": 18,
      "outputs": [
        {
          "output_type": "stream",
          "name": "stdout",
          "text": [
            "True, True, True, False, False, False, False\n"
          ]
        }
      ]
    },
    {
      "cell_type": "markdown",
      "metadata": {
        "id": "nT0HgbxxS7Lg"
      },
      "source": [
        "`S.islower()`\tСостоит ли строка только из символов в нижнем регистре"
      ]
    },
    {
      "cell_type": "code",
      "metadata": {
        "id": "5Uwt2a4BS7Lg",
        "colab": {
          "base_uri": "https://localhost:8080/"
        },
        "outputId": "189cd5a3-b385-4f31-ea84-09c539c1c322"
      },
      "source": [
        "print('s'.islower(),\n",
        "      's,s'.islower(),\n",
        "      ','.islower(),\n",
        "      '1'.islower(),\n",
        "      'S'.islower(),\n",
        "      ''.islower(),\n",
        "      ' '.islower(), sep=', ')"
      ],
      "execution_count": 19,
      "outputs": [
        {
          "output_type": "stream",
          "name": "stdout",
          "text": [
            "True, True, False, False, False, False, False\n"
          ]
        }
      ]
    },
    {
      "cell_type": "markdown",
      "metadata": {
        "id": "hixFcUzZS7Lh"
      },
      "source": [
        "`S.isupper()`\tСостоит ли строка только из символов в верхнем регистре"
      ]
    },
    {
      "cell_type": "code",
      "metadata": {
        "id": "Ukcz3jkHS7Lh",
        "colab": {
          "base_uri": "https://localhost:8080/"
        },
        "outputId": "d210914b-81ab-41b9-a324-c94a821717a2"
      },
      "source": [
        "print('S'.isupper(),\n",
        "      'S,S'.isupper(),\n",
        "      ','.isupper(),\n",
        "      '1'.isupper(),\n",
        "      's'.isupper(),\n",
        "      ''.isupper(),\n",
        "      ' '.isupper(), sep=', ')"
      ],
      "execution_count": 20,
      "outputs": [
        {
          "output_type": "stream",
          "name": "stdout",
          "text": [
            "True, True, False, False, False, False, False\n"
          ]
        }
      ]
    },
    {
      "cell_type": "markdown",
      "metadata": {
        "id": "mU79Ara2S7Li"
      },
      "source": [
        "`S.istitle()`\tНачинаются ли все слова (слова := идущие подряд буквы (=символы имеющие регистр) без разделения \"небуквой\" (=символ не имеющий регистр)) в строке с заглавной буквы"
      ]
    },
    {
      "cell_type": "code",
      "metadata": {
        "id": "RrWzCX8DS7Li",
        "colab": {
          "base_uri": "https://localhost:8080/"
        },
        "outputId": "cc5488c6-94d0-408c-f493-bd51321237ca"
      },
      "source": [
        "print('Python 3 Python'.istitle(),\n",
        "      'Python3Python'.istitle(),\n",
        "      'A'.istitle(),\n",
        "      '!P'.istitle(),\n",
        "      'Python1python'.istitle(),\n",
        "      'python 3'.istitle(),\n",
        "      '3py'.istitle(),\n",
        "      ''.istitle(),\n",
        "      ' '.istitle(), sep=', ')"
      ],
      "execution_count": 21,
      "outputs": [
        {
          "output_type": "stream",
          "name": "stdout",
          "text": [
            "True, True, True, True, False, False, False, False, False\n"
          ]
        }
      ]
    },
    {
      "cell_type": "markdown",
      "metadata": {
        "id": "cAkdT2SnS7Li"
      },
      "source": [
        "`S.startswith(str, start=0, end=-1)`\tНачинается ли строка `S[start:end]` со строки `str`."
      ]
    },
    {
      "cell_type": "code",
      "metadata": {
        "id": "1otxSJWoS7Lj",
        "colab": {
          "base_uri": "https://localhost:8080/"
        },
        "outputId": "c0ce6c4f-599e-4cb2-cfc5-c349f7daeeee"
      },
      "source": [
        "myfiles = ['forloop.png', 'lecture01_intro.ipynb', 'lecture01_intro_slides.ipynb', \n",
        "           'lecture02_if.ipynb', 'lecture02_if_slides.ipynb', 'lecture03_container.ipynb', \n",
        "           'lecture03_container_slides.ipynb', 'lecture04_for.ipynb', 'lecture04_for_slides.ipynb', \n",
        "           'lecture05_def.ipynb',  'lecture05_def_slides.ipynb', 'lecture06_str_slides.ipynb', \n",
        "           'qrcode.png']\n",
        "\n",
        "for file in myfiles:\n",
        "    print(file.startswith('lecture'), end=', ')"
      ],
      "execution_count": 22,
      "outputs": [
        {
          "output_type": "stream",
          "name": "stdout",
          "text": [
            "False, True, True, True, True, True, True, True, True, True, True, True, False, "
          ]
        }
      ]
    },
    {
      "cell_type": "markdown",
      "metadata": {
        "id": "8cteH-IgS7Lj"
      },
      "source": [
        "`S.endswith(str)`\tЗаканчивается ли строка `S` строкой `str`"
      ]
    },
    {
      "cell_type": "code",
      "metadata": {
        "id": "rm6sD9gkS7Lj",
        "colab": {
          "base_uri": "https://localhost:8080/"
        },
        "outputId": "92a00e2b-161e-45dc-f9c4-f09f55ab0b04"
      },
      "source": [
        "for file in myfiles:\n",
        "    print(file.endswith('.png'), end=', ')"
      ],
      "execution_count": 23,
      "outputs": [
        {
          "output_type": "stream",
          "name": "stdout",
          "text": [
            "True, False, False, False, False, False, False, False, False, False, False, False, True, "
          ]
        }
      ]
    },
    {
      "cell_type": "code",
      "metadata": {
        "id": "86hbBUYjS7Lk",
        "colab": {
          "base_uri": "https://localhost:8080/"
        },
        "outputId": "4326b992-523f-4c02-86df-ebfd6ba1af3f"
      },
      "source": [
        "for file in myfiles:\n",
        "    print(file.split('.')[0].endswith('slides'), end=', ')"
      ],
      "execution_count": 24,
      "outputs": [
        {
          "output_type": "stream",
          "name": "stdout",
          "text": [
            "False, False, True, False, True, False, True, False, True, False, True, True, False, "
          ]
        }
      ]
    },
    {
      "cell_type": "markdown",
      "metadata": {
        "id": "yhIKcC85oXvl"
      },
      "source": [
        "Решите задачи: \n",
        "- https://contest.yandex.ru/contest/28872/problems/E/\n",
        "- https://contest.yandex.ru/contest/28872/problems/F/"
      ]
    },
    {
      "cell_type": "markdown",
      "metadata": {
        "id": "ZvmTBzwgS7Lk"
      },
      "source": [
        "**Методы, работающие с регистром символов**"
      ]
    },
    {
      "cell_type": "markdown",
      "metadata": {
        "id": "KExpkElnS7Lk"
      },
      "source": [
        "`S.capitalize()`\tПереводит первый символ строки в верхний регистр, а все остальные в нижний"
      ]
    },
    {
      "cell_type": "code",
      "metadata": {
        "id": "3Od6szEWS7Ll",
        "colab": {
          "base_uri": "https://localhost:8080/"
        },
        "outputId": "07a61d49-96e7-4f65-a035-11a90073a078"
      },
      "source": [
        "s, S = 'the StOry oF My life1', 'SALE 100%'\n",
        "print(s.capitalize(), S.capitalize())"
      ],
      "execution_count": 25,
      "outputs": [
        {
          "output_type": "stream",
          "name": "stdout",
          "text": [
            "The story of my life1 Sale 100%\n"
          ]
        }
      ]
    },
    {
      "cell_type": "markdown",
      "metadata": {
        "id": "kS7Hd7qlS7Ll"
      },
      "source": [
        "`S.swapcase()`\tПереводит символы нижнего регистра в верхний, а верхнего – в нижний"
      ]
    },
    {
      "cell_type": "code",
      "metadata": {
        "id": "4SV-F2Q3S7Ll",
        "colab": {
          "base_uri": "https://localhost:8080/"
        },
        "outputId": "89d3a0bb-b405-435c-b493-7bbcc17d41ec"
      },
      "source": [
        "print(s.swapcase(), S.swapcase())"
      ],
      "execution_count": 26,
      "outputs": [
        {
          "output_type": "stream",
          "name": "stdout",
          "text": [
            "THE sToRY Of mY LIFE1 sale 100%\n"
          ]
        }
      ]
    },
    {
      "cell_type": "markdown",
      "metadata": {
        "id": "x1X9npqKS7Lm"
      },
      "source": [
        "`S.title()` Первую букву каждого слова переводит в верхний регистр, а все остальные в нижний"
      ]
    },
    {
      "cell_type": "code",
      "metadata": {
        "id": "lXNitxbkS7Lm",
        "colab": {
          "base_uri": "https://localhost:8080/"
        },
        "outputId": "fcd600e3-eea1-4934-df9b-25e53ee64411"
      },
      "source": [
        "print(s.title(), S.title())"
      ],
      "execution_count": 27,
      "outputs": [
        {
          "output_type": "stream",
          "name": "stdout",
          "text": [
            "The Story Of My Life1 Sale 100%\n"
          ]
        }
      ]
    },
    {
      "cell_type": "markdown",
      "metadata": {
        "id": "BARucaUvS7Lm"
      },
      "source": [
        "`S.upper()`\tПреобразование строки к верхнему регистру"
      ]
    },
    {
      "cell_type": "code",
      "metadata": {
        "id": "v8x76mgUS7Ln",
        "colab": {
          "base_uri": "https://localhost:8080/"
        },
        "outputId": "2e370ef0-f584-4041-acbc-e663cfb6c049"
      },
      "source": [
        "print(s.upper())"
      ],
      "execution_count": 28,
      "outputs": [
        {
          "output_type": "stream",
          "name": "stdout",
          "text": [
            "THE STORY OF MY LIFE1\n"
          ]
        }
      ]
    },
    {
      "cell_type": "markdown",
      "metadata": {
        "id": "jpzTvKJDS7Ln"
      },
      "source": [
        "`S.lower()`\tПреобразование строки к нижнему регистру"
      ]
    },
    {
      "cell_type": "code",
      "metadata": {
        "id": "sAPQsmPNS7Ln",
        "colab": {
          "base_uri": "https://localhost:8080/"
        },
        "outputId": "42afbfdd-7e08-43a7-f9e3-6f6429556a82"
      },
      "source": [
        "print(S.lower())"
      ],
      "execution_count": 29,
      "outputs": [
        {
          "output_type": "stream",
          "name": "stdout",
          "text": [
            "sale 100%\n"
          ]
        }
      ]
    },
    {
      "cell_type": "markdown",
      "metadata": {
        "id": "IJKIxh_fdsvN"
      },
      "source": [
        "**Методы, фильтрующие строки**\n",
        "\n",
        "`S.strip([chars=' '])` (`S.lstrip()`/`S.rstrip()`) Удаление слева и справа (слева/справа) \"лишних\" пробелов (по дефолту) или символов, которые указаны в строке `chars`."
      ]
    },
    {
      "cell_type": "code",
      "metadata": {
        "colab": {
          "base_uri": "https://localhost:8080/"
        },
        "id": "CwHCO41cdsiO",
        "outputId": "69340e49-b20c-4661-99e3-b0c39146e966"
      },
      "source": [
        "s = '    some text!.../ '\n",
        "print(s.lstrip()) # хотим слева убрать пробелы\n",
        "print(s.strip(' ./')) # хотим и слева и справа убрать пробелы, точки и слеши"
      ],
      "execution_count": 30,
      "outputs": [
        {
          "output_type": "stream",
          "name": "stdout",
          "text": [
            "some text!.../ \n",
            "some text!\n"
          ]
        }
      ]
    },
    {
      "cell_type": "markdown",
      "metadata": {
        "id": "HwqO3fQKojY_"
      },
      "source": [
        "Решите задачу: https://contest.yandex.ru/contest/28872/problems/G/"
      ]
    },
    {
      "cell_type": "markdown",
      "metadata": {
        "id": "VrzOAFDoS7Ln"
      },
      "source": [
        "**Функции для работы с кодом Unicode**\n",
        "\n",
        "<img src=https://www.ooportal.com/structured-programming/module3/images/ascii_table.gif>"
      ]
    },
    {
      "cell_type": "markdown",
      "metadata": {
        "id": "KEHVROCXS7Lo"
      },
      "source": [
        "`ord(символ)`\tВозвращает код символа"
      ]
    },
    {
      "cell_type": "code",
      "metadata": {
        "id": "DPNckUKPS7Lo",
        "colab": {
          "base_uri": "https://localhost:8080/"
        },
        "outputId": "4c25025b-958a-411c-8359-a2c96f604633"
      },
      "source": [
        "print(ord('A'), ord('a'), ord('&'))"
      ],
      "execution_count": 31,
      "outputs": [
        {
          "output_type": "stream",
          "name": "stdout",
          "text": [
            "65 97 38\n"
          ]
        }
      ]
    },
    {
      "cell_type": "markdown",
      "metadata": {
        "id": "lXfWxq2hS7Lo"
      },
      "source": [
        "`chr(число)` Возвращает символ по его коду"
      ]
    },
    {
      "cell_type": "code",
      "metadata": {
        "id": "71Qizbu-S7Lp",
        "colab": {
          "base_uri": "https://localhost:8080/"
        },
        "outputId": "7c3084e6-9ad6-47df-bde7-7014edef1fd3"
      },
      "source": [
        "print(chr(42), chr(57), chr(69), chr(100))"
      ],
      "execution_count": 32,
      "outputs": [
        {
          "output_type": "stream",
          "name": "stdout",
          "text": [
            "* 9 E d\n"
          ]
        }
      ]
    },
    {
      "cell_type": "markdown",
      "metadata": {
        "id": "XV9uRioHoqX_"
      },
      "source": [
        "Решите задачу: https://contest.yandex.ru/contest/28872/problems/H/"
      ]
    },
    {
      "cell_type": "markdown",
      "metadata": {
        "id": "mUaWAQvFS7Lp"
      },
      "source": [
        "##  Форматирование строк  \n",
        "[Подробнее](https://pyformat.info)\n",
        "\n",
        "Бывает нам хочется напечатать что-то вроде такого:"
      ]
    },
    {
      "cell_type": "code",
      "metadata": {
        "id": "7qWB5bA9S7Lp",
        "colab": {
          "base_uri": "https://localhost:8080/"
        },
        "outputId": "59102b59-53eb-4541-82ec-8f3fc9efe790"
      },
      "source": [
        "n, m = int(input()), int(input())\n",
        "\n",
        "print('Number of students\\nGroup 1:', n, '\\nGroup 2:', m, '\\nOverall:', n + m)"
      ],
      "execution_count": 33,
      "outputs": [
        {
          "output_type": "stream",
          "name": "stdout",
          "text": [
            "21\n",
            "13\n",
            "Number of students\n",
            "Group 1: 21 \n",
            "Group 2: 13 \n",
            "Overall: 34\n"
          ]
        }
      ]
    },
    {
      "cell_type": "markdown",
      "metadata": {
        "id": "-LmhT_OnS7Lq"
      },
      "source": [
        "Проблема: приходится \"изменяемые\" переменные вставлять через запятые, остальной строковый текст все время обрамлять в кавычки. Конечно, приведенный пример это далеко на самый плохой вариант, но представьте, если таких переменных, например, 100? Уже сложнее. Питонисты любят когда все коротко и ясно. Поэтому есть такой метод форматирования строк `.format()`. Работает он следующим образом.\n",
        "\n",
        "Необходимо создать формат-строку, в который фигурные скобки обозначают позиции, куда мы хотим напечатать какие-то объекты (строки, числа)."
      ]
    },
    {
      "cell_type": "code",
      "metadata": {
        "id": "GG96J_sXS7Lq"
      },
      "source": [
        "s = 'Это число {}, это буква \"{}\", это предложение \"{}\"'"
      ],
      "execution_count": 34,
      "outputs": []
    },
    {
      "cell_type": "markdown",
      "metadata": {
        "id": "PV_R7Quiiy4V"
      },
      "source": [
        "Далее к этой строке мы применяем метод `.format()`, число аргументов которого может быть произвольным, но должно совпадать с числом фигурных скобок (позиций вставок) в формат-строке:"
      ]
    },
    {
      "cell_type": "code",
      "metadata": {
        "colab": {
          "base_uri": "https://localhost:8080/"
        },
        "id": "dGENdWYtiyN9",
        "outputId": "fae7c7af-c10e-462d-f3ff-2700196c0863"
      },
      "source": [
        "print(s.format(1, 'a', 'Hi!'))"
      ],
      "execution_count": 35,
      "outputs": [
        {
          "output_type": "stream",
          "name": "stdout",
          "text": [
            "Это число 1, это буква \"a\", это предложение \"Hi!\"\n"
          ]
        }
      ]
    },
    {
      "cell_type": "markdown",
      "metadata": {
        "id": "AEJfTRy8jIm7"
      },
      "source": [
        "По дефолту объекты вставляются подряд слева направо, но в формат строке мы можем это настроить, указав индекс подаваемого объекта:"
      ]
    },
    {
      "cell_type": "code",
      "metadata": {
        "id": "6H_hdv0qS7Lq",
        "colab": {
          "base_uri": "https://localhost:8080/"
        },
        "outputId": "e7ecb744-d65b-42e9-c170-804630e40d56"
      },
      "source": [
        "s = 'Это число {2}, это буква \"{1}\", это предложение \"{0}\"'\n",
        "print(s.format(1, 'a', 'Hi!'))"
      ],
      "execution_count": 36,
      "outputs": [
        {
          "output_type": "stream",
          "name": "stdout",
          "text": [
            "Это число Hi!, это буква \"a\", это предложение \"1\"\n"
          ]
        }
      ]
    },
    {
      "cell_type": "markdown",
      "metadata": {
        "id": "Kflnn4Fw-KlM"
      },
      "source": [
        "Можно указать именованные аргументы:"
      ]
    },
    {
      "cell_type": "code",
      "metadata": {
        "colab": {
          "base_uri": "https://localhost:8080/"
        },
        "id": "txn2YG5Z-K62",
        "outputId": "b261e2ee-9b52-42cc-f4c7-8b70583847da"
      },
      "source": [
        "s = 'Это год {year}, это имя {name}'\n",
        "print(s.format(name='Sonya', year='1998'))"
      ],
      "execution_count": 37,
      "outputs": [
        {
          "output_type": "stream",
          "name": "stdout",
          "text": [
            "Это год 1998, это имя Sonya\n"
          ]
        }
      ]
    },
    {
      "cell_type": "markdown",
      "metadata": {
        "id": "Ws0gRoEFjU80"
      },
      "source": [
        "Либо также можно указать названия итерируемых объектов и индекс их элементов, которые мы бы хотели вставить. Тогда в методе появятся именованные параметры с такими названиями. Надо будет положить в них желаемые итерируемые последовательности."
      ]
    },
    {
      "cell_type": "code",
      "metadata": {
        "id": "3lqU7EXxS7Lr",
        "colab": {
          "base_uri": "https://localhost:8080/"
        },
        "outputId": "851a248c-c35c-4e25-cb9a-f37999612dd7"
      },
      "source": [
        "s = 'Это число {XEX[0]}, это буква \"{XAX[1]}\", это предложение \"{XAX[0]}\"'\n",
        "mylist = (1, 'a', 'Hi!')\n",
        "mylist2 = [3, 'b']\n",
        "print(s.format(XEX=mylist2, XAX=mylist))"
      ],
      "execution_count": 38,
      "outputs": [
        {
          "output_type": "stream",
          "name": "stdout",
          "text": [
            "Это число 3, это буква \"a\", это предложение \"1\"\n"
          ]
        }
      ]
    },
    {
      "cell_type": "markdown",
      "metadata": {
        "id": "KGwoypYYS7Lr"
      },
      "source": [
        "То есть Питон считывает строку, видит в ней \"фигурные скобки\" - места куда вставить объекты, и то, что лежит внутри метода `.format()` вставляет в том порядке, в котором они указаны (по дефолту подряд), создавая новый объект типа строка.\n",
        "\n",
        "## Настройка форматирования [[DOCS]](https://docs.python.org/3/library/string.html#format-specification-mini-language)\n",
        "\n",
        "Уже внутри позиции-вставки (фигурных скобок) можно указать детали форматирования вставляемого объекта. Подробнее можно почитать по ссылке на документацию выше. Здесь мы перечислим самые популярные опции.\n",
        "\n",
        "Указать сколько цифр после запятой вывести у вещественного числа:\n",
        "\n",
        "`{:ZSM.Nf}`\n",
        "\n",
        "- `ZSM.N` это:\n",
        "    - `:` нужно чтобы отделить вышеуказанные возможности форматирования от нижеуказанных\n",
        "    - M знаков всего\n",
        "    - Z указывает какие знаки показывать: `+` - показывать знаки у любых чисел, `-` - только у отрицательных, ` ` - у положительных чисел печатать пробел вместо знака\n",
        "    - если общее число символов (цифры, точки, знак +/-) у числа меньше M, то вставляем S (может быть пробелом, нулем, по дефолту пробел)\n",
        "    - N знаков после точки\n",
        "- `f` указывает на то, что типа вставленного объекта будет float (еще это может быть `d` для целых чисел)\n",
        "\n",
        "То есть format сам делает `str(something)`, поэтому ему в качестве аргументов можно подавать любые объекты, а не только строки."
      ]
    },
    {
      "cell_type": "code",
      "metadata": {
        "id": "Hdl1jFKmS7Ls",
        "colab": {
          "base_uri": "https://localhost:8080/"
        },
        "outputId": "2010dfab-0342-4e5e-d94a-d50f1f2986c2"
      },
      "source": [
        "pi = 3.14159265559\n",
        "print('Number pi = {:.5f}'.format(pi), \n",
        "      'Number pi = {:.0f}'.format(pi),\n",
        "      'Number pi = {:9.2f}'.format(pi),\n",
        "      'Number pi = {:+09.2f}'.format(pi), sep='\\n')"
      ],
      "execution_count": 39,
      "outputs": [
        {
          "output_type": "stream",
          "name": "stdout",
          "text": [
            "Number pi = 3.14159\n",
            "Number pi = 3\n",
            "Number pi =      3.14\n",
            "Number pi = +00003.14\n"
          ]
        }
      ]
    },
    {
      "cell_type": "markdown",
      "metadata": {
        "id": "JbFakin0S7Ls"
      },
      "source": [
        "Можно \"паддить\" строки.\n",
        "\n",
        "- `{:SPM}` это:\n",
        "    - `:` нужно чтобы отделить вышеуказанные возможности форматирования от нижеуказанных\n",
        "    - M это итоговая длина печатаемой строки\n",
        "    - P может быть символ `>`, `<`, `^` - положение вставляемой строки в итоговой строке (справа, слева, в центре) - такой же может использовать у чисел.\n",
        "    - если длина вставляемой строки меньше итоговой длины N, то ставим туда S (по дефолту пробел)"
      ]
    },
    {
      "cell_type": "code",
      "metadata": {
        "id": "PT_8LbieS7Ls",
        "colab": {
          "base_uri": "https://localhost:8080/"
        },
        "outputId": "14af31d2-a9c3-4b32-b5e5-cf6f08401cf3"
      },
      "source": [
        "print('|{:>10}|'.format('Hello'),\n",
        "      '|{:^10}|'.format('Hi'),\n",
        "      '|{:<10}|'.format('Hey'),\n",
        "      '|{:.^10}|'.format('Hi'), sep='\\n')"
      ],
      "execution_count": 40,
      "outputs": [
        {
          "output_type": "stream",
          "name": "stdout",
          "text": [
            "|     Hello|\n",
            "|    Hi    |\n",
            "|Hey       |\n",
            "|....Hi....|\n"
          ]
        }
      ]
    },
    {
      "cell_type": "markdown",
      "metadata": {
        "id": "nSlabzopozEs"
      },
      "source": [
        "Решите задачи: \n",
        "- https://contest.yandex.ru/contest/28872/problems/I/\n",
        "- https://contest.yandex.ru/contest/28872/problems/J/"
      ]
    },
    {
      "cell_type": "markdown",
      "metadata": {
        "id": "jZPAGvV2S7Lt"
      },
      "source": [
        "**Usage case:**"
      ]
    },
    {
      "cell_type": "code",
      "metadata": {
        "colab": {
          "base_uri": "https://localhost:8080/"
        },
        "id": "1n8IuBeBk90W",
        "outputId": "fe5711a9-b385-4448-930d-a1b3e1d7e12a"
      },
      "source": [
        "points = [(1.23444, 2.01123), (-20.23, 4.1), (3.1456, -0.012)]\n",
        "\n",
        "s = 'x_1 = {X[0][0]:+7.3f}\\nx_2 = {X[1][0]:+7.3f}\\nx_3 = {X[2][0]:+7.3f}'\n",
        "print(s.format(X=points))"
      ],
      "execution_count": 41,
      "outputs": [
        {
          "output_type": "stream",
          "name": "stdout",
          "text": [
            "x_1 =  +1.234\n",
            "x_2 = -20.230\n",
            "x_3 =  +3.146\n"
          ]
        }
      ]
    },
    {
      "cell_type": "markdown",
      "metadata": {
        "id": "qegdzJrsk-ZW"
      },
      "source": [
        "**Usage case:**"
      ]
    },
    {
      "cell_type": "code",
      "metadata": {
        "id": "NJWNuB0DS7Lt",
        "colab": {
          "base_uri": "https://localhost:8080/",
          "height": 68
        },
        "outputId": "4bf69f4e-5067-470f-f3ac-b031eac52840"
      },
      "source": [
        "# генерируем строку, в которую хотим вставить какие-то значения\n",
        "toprint = '\\n'.join([chr(65 + i) + chr(97 + i) +': {: 5d}|' for i in range(26)])\n",
        "toprint # формат строка, куда мы будем вставлять какие-то значения"
      ],
      "execution_count": 42,
      "outputs": [
        {
          "output_type": "execute_result",
          "data": {
            "application/vnd.google.colaboratory.intrinsic+json": {
              "type": "string"
            },
            "text/plain": [
              "'Aa: {: 5d}|\\nBb: {: 5d}|\\nCc: {: 5d}|\\nDd: {: 5d}|\\nEe: {: 5d}|\\nFf: {: 5d}|\\nGg: {: 5d}|\\nHh: {: 5d}|\\nIi: {: 5d}|\\nJj: {: 5d}|\\nKk: {: 5d}|\\nLl: {: 5d}|\\nMm: {: 5d}|\\nNn: {: 5d}|\\nOo: {: 5d}|\\nPp: {: 5d}|\\nQq: {: 5d}|\\nRr: {: 5d}|\\nSs: {: 5d}|\\nTt: {: 5d}|\\nUu: {: 5d}|\\nVv: {: 5d}|\\nWw: {: 5d}|\\nXx: {: 5d}|\\nYy: {: 5d}|\\nZz: {: 5d}|'"
            ]
          },
          "metadata": {},
          "execution_count": 42
        }
      ]
    },
    {
      "cell_type": "code",
      "metadata": {
        "id": "yigAjY4aS7Lt",
        "colab": {
          "base_uri": "https://localhost:8080/"
        },
        "outputId": "800d19f2-e11f-40bc-a775-60804dea286f"
      },
      "source": [
        "# вводим какие-то данные\n",
        "tocount = input().lower()"
      ],
      "execution_count": 43,
      "outputs": [
        {
          "name": "stdout",
          "output_type": "stream",
          "text": [
            "srtyuilmngfsxcvhjkl;'[poiuytrewqasdfdsazxcvbnm,./;lkjhgfdsqwertyu\n"
          ]
        }
      ]
    },
    {
      "cell_type": "code",
      "metadata": {
        "id": "ikS-DyBHS7Lu"
      },
      "source": [
        "# производим вычисления с переменными данными\n",
        "counted_alphabet = [tocount.count(chr(97 + i)) for i in range(26)]"
      ],
      "execution_count": 44,
      "outputs": []
    },
    {
      "cell_type": "code",
      "metadata": {
        "id": "r07taECbS7Lu",
        "colab": {
          "base_uri": "https://localhost:8080/"
        },
        "outputId": "6b78e5b1-b6b5-4090-830b-101dd7921872"
      },
      "source": [
        "# печатаем с помощью форматирования\n",
        "print(toprint.format(*counted_alphabet))"
      ],
      "execution_count": 45,
      "outputs": [
        {
          "output_type": "stream",
          "name": "stdout",
          "text": [
            "Aa:     2|\n",
            "Bb:     1|\n",
            "Cc:     2|\n",
            "Dd:     3|\n",
            "Ee:     2|\n",
            "Ff:     3|\n",
            "Gg:     2|\n",
            "Hh:     2|\n",
            "Ii:     2|\n",
            "Jj:     2|\n",
            "Kk:     2|\n",
            "Ll:     3|\n",
            "Mm:     2|\n",
            "Nn:     2|\n",
            "Oo:     1|\n",
            "Pp:     1|\n",
            "Qq:     2|\n",
            "Rr:     3|\n",
            "Ss:     5|\n",
            "Tt:     3|\n",
            "Uu:     3|\n",
            "Vv:     2|\n",
            "Ww:     2|\n",
            "Xx:     2|\n",
            "Yy:     3|\n",
            "Zz:     1|\n"
          ]
        }
      ]
    },
    {
      "cell_type": "markdown",
      "metadata": {
        "id": "mONeiXI4S7Lu"
      },
      "source": [
        "###  f-string\n",
        "    \n",
        "Абсолютно то же самое (в новых версиях Питона, 3.6+) можно делать вставки более кратким и удобным (но не всегда) способом.\n",
        "\n",
        "Формат-строку обозначаем символом `f` перед кавычками (сам  символ без кавычек). Далее можно писать имена переменных в фигурных скобках прямо в этой строке."
      ]
    },
    {
      "cell_type": "code",
      "metadata": {
        "id": "8t0ut04kS7Lv",
        "colab": {
          "base_uri": "https://localhost:8080/"
        },
        "outputId": "5fe5ad47-2865-4efc-b565-40df2a02ece1"
      },
      "source": [
        "name = 'Sonya'\n",
        "yr = 2021\n",
        "old = 23\n",
        "print(f'Hi, my name is {name}. I was born in {yr-old}.')"
      ],
      "execution_count": 46,
      "outputs": [
        {
          "output_type": "stream",
          "name": "stdout",
          "text": [
            "Hi, my name is Sonya. I was born in 1998.\n"
          ]
        }
      ]
    },
    {
      "cell_type": "code",
      "metadata": {
        "id": "DNmcXMPlS7Lv",
        "colab": {
          "base_uri": "https://localhost:8080/"
        },
        "outputId": "d864dce0-f5f8-4024-d918-0686dcc066e3"
      },
      "source": [
        "print('Hi, my name is {}. I was born in {}.'.format(name, yr-old))"
      ],
      "execution_count": 47,
      "outputs": [
        {
          "output_type": "stream",
          "name": "stdout",
          "text": [
            "Hi, my name is Sonya. I was born in 1998.\n"
          ]
        }
      ]
    },
    {
      "cell_type": "markdown",
      "metadata": {
        "id": "Or6HjRnCmS-N"
      },
      "source": [
        "## Обработка файлов, ввод-вывод"
      ]
    },
    {
      "cell_type": "markdown",
      "metadata": {
        "id": "6PhE4SE1cyQy"
      },
      "source": [
        "Не всегда данные вводятся вручную пользователем или выводятся \"на экран\". Чаще необходимо прочитать и/или файл. Давайте разберемся как это правильно делать."
      ]
    },
    {
      "cell_type": "markdown",
      "metadata": {
        "id": "wHXI305bdMSw"
      },
      "source": [
        "## Открытие файла [[DOCS]](https://docs.python.org/3/tutorial/inputoutput.html#reading-and-writing-files)\n",
        "\n",
        "Чтобы прочитать/записать файл , его необходимо для начала \"открыть\" в правильном режиме:\n",
        "\n",
        "```python\n",
        "with open(путь_к_файлу, режим) as название_переменной:\n",
        "    <БЛОК ИНСТРУКЦИЙ>\n",
        "```\n",
        "\n",
        "Где **\"путь\\_к\\_файлу\"** это строка с названием файла и путем к нему, причем, если мы хотим прочитать файл, то он должен существовать, а если записать, то питон сам создаст файл с таким расположением и именем. \n",
        "Примеры путей:\n",
        "\n",
        "- `C:\\Users\\Sonya\\Documents\\Students.txt` - полный путь к txt-файлу;\n",
        "- `..\\..\\teacher\\lectures\\lecture01.csv` - относительный путь к файлу, который означает следующее:\n",
        "    - из того места откуда этот путь вызывается поднимись на два уровня директорий вверх\n",
        "    - перейди в папку teacher -> lectures\n",
        "    - возьми csv-файл\n",
        "- `input.txt` - так мы указываем на файл, который лежит в одной и той же папке с кодом, который мы запускаем\n",
        "\n",
        "**Режим** это строка, в которой символы указывают на то, как мы хотим использовать файл. Есть нескольких видов:\n",
        "- 'r' - только чтение файла (значение по дефолту)\n",
        "- 'w' - только запись файла (причем, существующий с таким именем файл будет безвозвратно стёрт)\n",
        "- 'a' - запись в конце файла (как раз, чтобы существующий файл не перезаписывался, а дозаписывался)\n",
        "- 'r+' - и чтение и запись\n",
        "\n",
        "\n",
        "**Название переменной** необходимо, чтобы Питон создал объект типа `file` с таким именем, к которому мы сможем применять методы чтения/записи. Название может быть любым, но обычно его называют `f` или `file`. С данной переменной можно будет работать только внутри блока `with`, так как Питон, заканчивая выполнять этот блок, закрывает файл. "
      ]
    },
    {
      "cell_type": "code",
      "metadata": {
        "id": "OvVoXr3-eG-V"
      },
      "source": [
        "# создадим файл, открыв его в режиме 'w'\n",
        "with open('my_first.txt', 'w') as f:\n",
        "    # пока ничего не будем делать\n",
        "    pass"
      ],
      "execution_count": 48,
      "outputs": []
    },
    {
      "cell_type": "code",
      "metadata": {
        "id": "t4b77Q0Fnr0X"
      },
      "source": [
        "with open('my_first.txt', 'r') as f:\n",
        "    # так как файл существует, то мы можем прочитать его, хоть он и пустой\n",
        "    pass"
      ],
      "execution_count": 49,
      "outputs": []
    },
    {
      "cell_type": "markdown",
      "metadata": {
        "id": "RovBt63leF76"
      },
      "source": [
        "## Методы чтения и записи [[DOCS]](https://docs.python.org/3/tutorial/inputoutput.html#methods-of-file-objects)\n",
        "\n",
        "Когда мы находимся внутри блока `with`, то с файловой переменной можно произвести следующие действия:"
      ]
    },
    {
      "cell_type": "markdown",
      "metadata": {
        "id": "ATXKjlpEo2bM"
      },
      "source": [
        "1) Записать в файл с помощью метода `.write()`. Метод принимает один строковый аргумент."
      ]
    },
    {
      "cell_type": "code",
      "metadata": {
        "id": "_TeUJKxFmWKG"
      },
      "source": [
        "with open('my_first.txt', 'w') as f:\n",
        "    f.write('Первая строка\\n')\n",
        "    f.write('Вторая строка')\n",
        "    f.write('Продолжение второй строки')"
      ],
      "execution_count": 50,
      "outputs": []
    },
    {
      "cell_type": "markdown",
      "metadata": {
        "id": "0MuwW5qQr0Wo"
      },
      "source": [
        "2) Чтение всего файла от начала до N-го символа (по дефолту читает до конца) с помощью метода `.read(N)`, который возвращает объект типа строка с прочитанными данными:"
      ]
    },
    {
      "cell_type": "code",
      "metadata": {
        "id": "WLyiO1egr0He"
      },
      "source": [
        "with open('my_first.txt', 'r') as f:\n",
        "    all_data = f.read()\n",
        "    second_time_reading = f.read()"
      ],
      "execution_count": 51,
      "outputs": []
    },
    {
      "cell_type": "markdown",
      "metadata": {
        "id": "I1zlmue0sjdK"
      },
      "source": [
        "Чтение каждого символа файла может происходить один раз. Если мы прочитали, например, первые 5 символов, то следующий вызов метода чтения произойдет начиная с 6 символа. Соответственно, если мы прочитали весь файл от начала до конца, то следующий вызов метода `.read()` ничего не прочтет и выдаст пустую строку."
      ]
    },
    {
      "cell_type": "code",
      "metadata": {
        "colab": {
          "base_uri": "https://localhost:8080/"
        },
        "id": "zgLcT6uOsRig",
        "outputId": "b0bcd2b7-cbc2-4f72-eb3e-22596747f04e"
      },
      "source": [
        "# функция repr показывает буквальное значение переменной в формате строки,\n",
        "# здесь это нужно, чтобы вы увидели спецсимвол \\n у переменной all_data\n",
        "print(repr(all_data),\n",
        "      repr(second_time_reading), sep=', ')"
      ],
      "execution_count": 52,
      "outputs": [
        {
          "output_type": "stream",
          "name": "stdout",
          "text": [
            "'Первая строка\\nВторая строкаПродолжение второй строки', ''\n"
          ]
        }
      ]
    },
    {
      "cell_type": "markdown",
      "metadata": {
        "id": "I1NuFqdLtKe_"
      },
      "source": [
        "3) Прочесть первые N символов (по дефолту до конца) строчки файла (строчка это символы включительно до спецсимвола `\\n`) с помощью метода `.readline(N)`:"
      ]
    },
    {
      "cell_type": "code",
      "metadata": {
        "id": "p4wECP7itLIg"
      },
      "source": [
        "with open('my_first.txt', 'r') as f:\n",
        "    first_line = f.readline(5)\n",
        "    # причем, если N больше или равно длины строки, \n",
        "    # то следующий вызов метода будет читать уже следующую строчку\n",
        "    first_line_ = f.readline()\n",
        "    second_line = f.readline()"
      ],
      "execution_count": 53,
      "outputs": []
    },
    {
      "cell_type": "code",
      "metadata": {
        "colab": {
          "base_uri": "https://localhost:8080/"
        },
        "id": "oVxG1FuPtfX5",
        "outputId": "66895896-8cbf-46f4-fe44-c5eb4a2a14ee"
      },
      "source": [
        "print(repr(first_line),\n",
        "      repr(first_line_),\n",
        "      repr(second_line), sep=', ')"
      ],
      "execution_count": 54,
      "outputs": [
        {
          "output_type": "stream",
          "name": "stdout",
          "text": [
            "'Перва', 'я строка\\n', 'Вторая строкаПродолжение второй строки'\n"
          ]
        }
      ]
    },
    {
      "cell_type": "markdown",
      "metadata": {
        "id": "2gi52JhMuYl5"
      },
      "source": [
        "4) Получить список из N строчек файла с помощью метода `.readlines(N)` (по дефолту считываются все строчки):"
      ]
    },
    {
      "cell_type": "code",
      "metadata": {
        "id": "_0_dcmkcufeJ"
      },
      "source": [
        "with open('my_first.txt', 'r') as f:\n",
        "    all_lines = f.readlines()"
      ],
      "execution_count": 55,
      "outputs": []
    },
    {
      "cell_type": "code",
      "metadata": {
        "colab": {
          "base_uri": "https://localhost:8080/"
        },
        "id": "KQgodx3Xus_b",
        "outputId": "2fdb3afd-40e3-4c7a-acb5-5440b589db08"
      },
      "source": [
        "print(all_lines)"
      ],
      "execution_count": 56,
      "outputs": [
        {
          "output_type": "stream",
          "name": "stdout",
          "text": [
            "['Первая строка\\n', 'Вторая строкаПродолжение второй строки']\n"
          ]
        }
      ]
    },
    {
      "cell_type": "markdown",
      "metadata": {
        "id": "1jhoZYW_vtoC"
      },
      "source": [
        "5) Проитерироваться по строкам файла с помощью обычного цикла - это оптимальнее по памяти, чем использовать readlines, так как мы читаем по одной строчке в итерацию и держим в памяти только её. Если строк в файле очень много и нас не интересует использование всех строк одновременно, то это наилучший способ считывать данные из файла."
      ]
    },
    {
      "cell_type": "code",
      "metadata": {
        "colab": {
          "base_uri": "https://localhost:8080/"
        },
        "id": "ke3Hp0GXvtcf",
        "outputId": "45729be9-0d0b-4eea-b7e5-9c92e5121796"
      },
      "source": [
        "with open('my_first.txt', 'r') as f:\n",
        "    for line in f:\n",
        "        print(repr(line))\n",
        "    print(repr(f.read())) # будет пусто, так как мы уже все прочли"
      ],
      "execution_count": 57,
      "outputs": [
        {
          "output_type": "stream",
          "name": "stdout",
          "text": [
            "'Первая строка\\n'\n",
            "'Вторая строкаПродолжение второй строки'\n",
            "''\n"
          ]
        }
      ]
    },
    {
      "cell_type": "markdown",
      "metadata": {
        "id": "L857w3j2o26i"
      },
      "source": [
        "Решите задачу: https://contest.yandex.ru/contest/28872/problems/K/"
      ]
    },
    {
      "cell_type": "markdown",
      "metadata": {
        "id": "hCGIZRjhywOY"
      },
      "source": [
        "## Байтовый формат файлов\n",
        "\n",
        "На самом деле, файл `my_first.txt` состоит из байтов, который Питон сначала считывает как байт-строку, а в режиме дефолтном текстовом режиме `t` декодирует в определенной кодировке (по дефолту `utf-8`) и показывает символьную-строку. Чтобы открывать файл без декодинга, необходимо писать `b` в режим открытия файла:\n"
      ]
    },
    {
      "cell_type": "code",
      "metadata": {
        "colab": {
          "base_uri": "https://localhost:8080/"
        },
        "id": "9Ng6YX0xyv_c",
        "outputId": "daf53d02-8b51-42ba-afef-c0ab41d32ba2"
      },
      "source": [
        "with open('my_first.txt', 'rb') as f:\n",
        "    data = f.read(15) # считаем первые 15 байтов\n",
        "    # кириллическая буква=2 байта\n",
        "    # пробел/спецсимвол/английская буква/знак препинания/цифра=1 байт\n",
        "    print(data)\n",
        "    print(data.decode())"
      ],
      "execution_count": 58,
      "outputs": [
        {
          "output_type": "stream",
          "name": "stdout",
          "text": [
            "b'\\xd0\\x9f\\xd0\\xb5\\xd1\\x80\\xd0\\xb2\\xd0\\xb0\\xd1\\x8f \\xd1\\x81'\n",
            "Первая с\n"
          ]
        }
      ]
    },
    {
      "cell_type": "markdown",
      "metadata": {
        "id": "dk_25YaY2o5I"
      },
      "source": [
        "Символ `b` перед кавычкой означает что это байт-строка. Создавать байт-строки можно точно так же:\n"
      ]
    },
    {
      "cell_type": "code",
      "metadata": {
        "id": "h3vJKu_O5IX0"
      },
      "source": [
        "s1 = 'Hello! '\n",
        "s2 = b'Hello! '"
      ],
      "execution_count": 59,
      "outputs": []
    },
    {
      "cell_type": "code",
      "metadata": {
        "colab": {
          "base_uri": "https://localhost:8080/",
          "height": 179
        },
        "id": "JZptYCDf57zu",
        "outputId": "b5c02f87-b98c-4527-d858-569e78504372"
      },
      "source": [
        "# не будет работать, потому что слева обычная строка, а справа байт-строка\n",
        "s1 = s1 + data"
      ],
      "execution_count": 60,
      "outputs": [
        {
          "output_type": "error",
          "ename": "TypeError",
          "evalue": "ignored",
          "traceback": [
            "\u001b[0;31m---------------------------------------------------------------------------\u001b[0m",
            "\u001b[0;31mTypeError\u001b[0m                                 Traceback (most recent call last)",
            "\u001b[0;32m<ipython-input-60-cfbddef32da7>\u001b[0m in \u001b[0;36m<module>\u001b[0;34m()\u001b[0m\n\u001b[1;32m      1\u001b[0m \u001b[0;31m# не будет работать, потому что слева обычная строка, а справа байт-строка\u001b[0m\u001b[0;34m\u001b[0m\u001b[0;34m\u001b[0m\u001b[0;34m\u001b[0m\u001b[0m\n\u001b[0;32m----> 2\u001b[0;31m \u001b[0ms1\u001b[0m \u001b[0;34m=\u001b[0m \u001b[0ms1\u001b[0m \u001b[0;34m+\u001b[0m \u001b[0mdata\u001b[0m\u001b[0;34m\u001b[0m\u001b[0;34m\u001b[0m\u001b[0m\n\u001b[0m",
            "\u001b[0;31mTypeError\u001b[0m: can only concatenate str (not \"bytes\") to str"
          ]
        }
      ]
    },
    {
      "cell_type": "code",
      "metadata": {
        "colab": {
          "base_uri": "https://localhost:8080/"
        },
        "id": "awOJ0_D45ct4",
        "outputId": "9d69873c-571d-4ceb-bd13-6ae748b61cae"
      },
      "source": [
        "s1 = s1.encode() + data # закодируем обычную строку в байт строку\n",
        "s2 = s2 + data # или воспользуемся созданной с помощью b байт-строкой\n",
        "print(s1.decode())\n",
        "print(s2.decode())"
      ],
      "execution_count": 61,
      "outputs": [
        {
          "output_type": "stream",
          "name": "stdout",
          "text": [
            "Hello! Первая с\n",
            "Hello! Первая с\n"
          ]
        }
      ]
    },
    {
      "cell_type": "markdown",
      "metadata": {
        "id": "ZY6-ZkVv5FoV"
      },
      "source": [
        "Используя байт-строки доступны еще два методам объекта типа файл.\n",
        "\n",
        "6) Получить позицию считывателя файла относительно начала файла с помощью метода `.tell()`"
      ]
    },
    {
      "cell_type": "code",
      "metadata": {
        "colab": {
          "base_uri": "https://localhost:8080/"
        },
        "id": "1pzGc7Ln3IQN",
        "outputId": "cd29d66e-8f83-47aa-b001-781b427f57ee"
      },
      "source": [
        "with open('my_first.txt', 'rb') as f:\n",
        "    data = f.read(10) + b'|'\n",
        "    print(data.decode())\n",
        "    print(f.tell())\n",
        "    data += f.read(11) + b'|'\n",
        "    print(data.decode())\n",
        "    print(f.tell())\n",
        "    data += f.read() + b'|'\n",
        "    print(data.decode())\n",
        "    print(f.tell())"
      ],
      "execution_count": 62,
      "outputs": [
        {
          "output_type": "stream",
          "name": "stdout",
          "text": [
            "Перва|\n",
            "10\n",
            "Перва|я стро|\n",
            "21\n",
            "Перва|я стро|ка\n",
            "Вторая строкаПродолжение второй строки|\n",
            "99\n"
          ]
        }
      ]
    },
    {
      "cell_type": "markdown",
      "metadata": {
        "id": "IMxMrtjoz93-"
      },
      "source": [
        "7) Поменять позицию считывателя файла с помощью метода `.seek(офсет, откуда)`, где параметр \"откуда\" может принимать значения 0 - начало файла (дефолт), 1 - текущая позиция, 2 - конец файла. Новая позиция соответственно расчитывается как позиция(откуда) + офсет. Позиции начинаются с нуля."
      ]
    },
    {
      "cell_type": "code",
      "metadata": {
        "colab": {
          "base_uri": "https://localhost:8080/"
        },
        "id": "IqylHrMDy3uw",
        "outputId": "fe88053d-b61a-41a7-931a-ae38f1641432"
      },
      "source": [
        "with open('somefile', 'wb') as f:\n",
        "    f.write(b'0123456789abcdef')\n",
        "\n",
        "with open('somefile', 'rb') as f:\n",
        "    print('cur position:', f.tell())\n",
        "    f.seek(5)\n",
        "    print('cur position:', f.tell())\n",
        "    print('read:', f.read(2))\n",
        "    print('cur position:', f.tell())\n",
        "    f.seek(-3, 2)\n",
        "    print('cur position:', f.tell())\n",
        "    print('read:', f.read(3))\n",
        "    print('cur position:', f.tell())"
      ],
      "execution_count": 63,
      "outputs": [
        {
          "output_type": "stream",
          "name": "stdout",
          "text": [
            "cur position: 0\n",
            "cur position: 5\n",
            "read: b'56'\n",
            "cur position: 7\n",
            "cur position: 13\n",
            "read: b'def'\n",
            "cur position: 16\n"
          ]
        }
      ]
    }
  ]
}