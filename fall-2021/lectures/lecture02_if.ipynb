{
  "nbformat": 4,
  "nbformat_minor": 0,
  "metadata": {
    "celltoolbar": "Slideshow",
    "kernelspec": {
      "display_name": "Python 3",
      "language": "python",
      "name": "python3"
    },
    "language_info": {
      "codemirror_mode": {
        "name": "ipython",
        "version": 3
      },
      "file_extension": ".py",
      "mimetype": "text/x-python",
      "name": "python",
      "nbconvert_exporter": "python",
      "pygments_lexer": "ipython3",
      "version": "3.6.9"
    },
    "colab": {
      "name": "lecture02_if.ipynb",
      "provenance": [],
      "include_colab_link": true
    }
  },
  "cells": [
    {
      "cell_type": "markdown",
      "metadata": {
        "id": "view-in-github",
        "colab_type": "text"
      },
      "source": [
        "<a href=\"https://colab.research.google.com/github/svdcvt/math_python_hse/blob/master/fall-2021/lectures/lecture02_if.ipynb\" target=\"_parent\"><img src=\"https://colab.research.google.com/assets/colab-badge.svg\" alt=\"Open In Colab\"/></a>"
      ]
    },
    {
      "cell_type": "markdown",
      "metadata": {
        "id": "RFHPsgWNnOn0"
      },
      "source": [
        "# Занятие №2: логические операции, условная конструкция if-else.\n",
        "\n",
        "---\n",
        "\n",
        "[МИНИКОНТЕСТ](https://contest.yandex.ru/contest/28677/)\n",
        "---\n",
        "---\n",
        "https://replit.com - можете сразу воспроизводить код и решать задачи используя онлайн интерпретатор Питона (\"Create Repl\" -> \"Select Langauge - Python\")"
      ]
    },
    {
      "cell_type": "markdown",
      "metadata": {
        "id": "gVpyfNCvnOn3"
      },
      "source": [
        "На предыдущем занятии мы узнали о таких типах данных как целое число (int), вещественно число (float) и строка (string). Сегодня мы познакомимся с еще одним ключевым типом данных в Python, а именно *логическим типом данных*."
      ]
    },
    {
      "cell_type": "markdown",
      "metadata": {
        "id": "8hX8cHu5nOn4"
      },
      "source": [
        "## Тип данных bool [DOCS](https://docs.python.org/3/library/stdtypes.html#boolean-values)\n",
        "\n",
        "В данном типе существуют всего два значения $-$ **`True` (истина) и `False` (ложь).**"
      ]
    },
    {
      "cell_type": "code",
      "metadata": {
        "id": "k5mwzUKanOn5",
        "outputId": "58ba1b12-6002-473a-f3a3-975391a1d61b",
        "colab": {
          "base_uri": "https://localhost:8080/"
        }
      },
      "source": [
        "print(True)\n",
        "print(False)"
      ],
      "execution_count": 1,
      "outputs": [
        {
          "output_type": "stream",
          "name": "stdout",
          "text": [
            "True\n",
            "False\n"
          ]
        }
      ]
    },
    {
      "cell_type": "markdown",
      "metadata": {
        "id": "bBUL2LxWrVhC"
      },
      "source": [
        "Как видите, интерпретатор Питона сразу подсвечивает эти ключевые слова другим цветом. Не нужно писать кавычек, а также важно, что эти слова пишутся с большой буквы."
      ]
    },
    {
      "cell_type": "code",
      "metadata": {
        "id": "5mdDlhRkrgPd",
        "outputId": "7c38b857-11c6-40e9-f2ef-38f586f2ffb1",
        "colab": {
          "base_uri": "https://localhost:8080/"
        }
      },
      "source": [
        "print(type(True), type('True'), sep=', ')"
      ],
      "execution_count": 2,
      "outputs": [
        {
          "output_type": "stream",
          "name": "stdout",
          "text": [
            "<class 'bool'>, <class 'str'>\n"
          ]
        }
      ]
    },
    {
      "cell_type": "code",
      "metadata": {
        "id": "L9SbOqLYrj2X",
        "outputId": "0285837d-95c9-4181-c929-fd9bd21a9dbd",
        "colab": {
          "base_uri": "https://localhost:8080/",
          "height": 198
        }
      },
      "source": [
        "print(true)\n",
        "# компьютер сразу думает, что это просто имя переменной\n",
        "# и ругается, потому что мы-то такой переменной не определяли"
      ],
      "execution_count": 3,
      "outputs": [
        {
          "output_type": "error",
          "ename": "NameError",
          "evalue": "ignored",
          "traceback": [
            "\u001b[0;31m---------------------------------------------------------------------------\u001b[0m",
            "\u001b[0;31mNameError\u001b[0m                                 Traceback (most recent call last)",
            "\u001b[0;32m<ipython-input-3-4971baa4b738>\u001b[0m in \u001b[0;36m<module>\u001b[0;34m()\u001b[0m\n\u001b[0;32m----> 1\u001b[0;31m \u001b[0mprint\u001b[0m\u001b[0;34m(\u001b[0m\u001b[0mtrue\u001b[0m\u001b[0;34m)\u001b[0m\u001b[0;34m\u001b[0m\u001b[0;34m\u001b[0m\u001b[0m\n\u001b[0m\u001b[1;32m      2\u001b[0m \u001b[0;31m# компьютер сразу думает, что это просто имя переменной\u001b[0m\u001b[0;34m\u001b[0m\u001b[0;34m\u001b[0m\u001b[0;34m\u001b[0m\u001b[0m\n\u001b[1;32m      3\u001b[0m \u001b[0;31m# и ругается, потому что мы-то такой переменной не определяли\u001b[0m\u001b[0;34m\u001b[0m\u001b[0;34m\u001b[0m\u001b[0;34m\u001b[0m\u001b[0m\n",
            "\u001b[0;31mNameError\u001b[0m: name 'true' is not defined"
          ]
        }
      ]
    },
    {
      "cell_type": "markdown",
      "metadata": {
        "id": "Hw-JMEX6nOn7"
      },
      "source": [
        "Эти значения компьютер также рассматривает как числа **1 и 0** соответственно."
      ]
    },
    {
      "cell_type": "code",
      "metadata": {
        "id": "Ys3rfyK4nOn8",
        "outputId": "3dc19014-a5f2-497b-f594-0dd8c0e2727c",
        "colab": {
          "base_uri": "https://localhost:8080/"
        }
      },
      "source": [
        "print(int(True), int(False), float(True), float(False), sep=', ')"
      ],
      "execution_count": 4,
      "outputs": [
        {
          "output_type": "stream",
          "name": "stdout",
          "text": [
            "1, 0, 1.0, 0.0\n"
          ]
        }
      ]
    },
    {
      "cell_type": "markdown",
      "metadata": {
        "id": "IkVp_nqCr_37"
      },
      "source": [
        "В том числе арифметические операции для `True` и `False` определены так, будто они числа `1` и `0`."
      ]
    },
    {
      "cell_type": "code",
      "metadata": {
        "id": "MRmm_0JbnOn9",
        "outputId": "6b3b56ac-b084-4b45-a832-8a47c88bd6bf",
        "colab": {
          "base_uri": "https://localhost:8080/"
        }
      },
      "source": [
        "print(True * True, False ** True, False / True, sep=', ')"
      ],
      "execution_count": 5,
      "outputs": [
        {
          "output_type": "stream",
          "name": "stdout",
          "text": [
            "1, 0, 0.0\n"
          ]
        }
      ]
    },
    {
      "cell_type": "code",
      "metadata": {
        "id": "wbMLtbqtnOn9",
        "outputId": "a923a723-477d-4f97-d365-a4505e04eb84",
        "colab": {
          "base_uri": "https://localhost:8080/"
        }
      },
      "source": [
        "print(True + False + True, -5 * True, sep=', ')"
      ],
      "execution_count": 6,
      "outputs": [
        {
          "output_type": "stream",
          "name": "stdout",
          "text": [
            "2, -5\n"
          ]
        }
      ]
    },
    {
      "cell_type": "markdown",
      "metadata": {
        "id": "2JFgdlZTnOn_"
      },
      "source": [
        "Как и у любого типа данных, определена функция преобразования в логический тип данных: функция `bool()`. Отображение у нее такое:\n",
        "* нулевые и пустые значения -> `False`\n",
        "* ненулевые и непустые значения -> `True`"
      ]
    },
    {
      "cell_type": "code",
      "metadata": {
        "id": "0Mi_7YOGnOn_",
        "outputId": "227d4905-6358-473f-be31-78fd7696bfae",
        "colab": {
          "base_uri": "https://localhost:8080/"
        }
      },
      "source": [
        "print(bool(1), bool(20), bool('something'), sep=', ')\n",
        "print(bool(0), bool(''), bool(), sep=', ')"
      ],
      "execution_count": 7,
      "outputs": [
        {
          "output_type": "stream",
          "name": "stdout",
          "text": [
            "True, True, True\n",
            "False, False, False\n"
          ]
        }
      ]
    },
    {
      "cell_type": "markdown",
      "metadata": {
        "id": "M13B3-RhnOoA"
      },
      "source": [
        "## Логические выражения\n",
        "\n",
        "Вы наверняка уже прошли курс по математической логике. Булевые значения ЛОЖЬ и ИСТИНА являются результатом вычисления простых и сложных *логических выражений*, которые строятся с помощью *логических операций*. \n",
        "\n",
        "### Логические операторы сравнения [DOCS](https://docs.python.org/3/reference/expressions.html#comparisons)\n",
        "\n",
        "Операторы печатаются так же просто как арифметические операторы - достаточно поставить необходимый знак между двумя сравнимыми объектами.\n",
        "\n",
        "Операция | Знак\n",
        "--- | ---\n",
        "Значения равняются |\t`==`\n",
        "Значения не равняются |\t`!=`\n",
        "Больше | `>`\n",
        "Меньше | `<`\t\n",
        "Больше или равно | `>=`\t\n",
        "Меньше или равно | `<=`"
      ]
    },
    {
      "cell_type": "code",
      "metadata": {
        "id": "_pEcKMK9nOoB",
        "outputId": "de6ad3df-6896-41d3-bb6c-658536cc8a6b",
        "colab": {
          "base_uri": "https://localhost:8080/"
        }
      },
      "source": [
        "print('Is \"abc\" == \"abc\"?\\t', 'abc' == 'abc')     # равняется\n",
        "print('Is 1 == 10?\\t\\t', 1 == 10)\n",
        "print('Is \"cat\" != \"dog\"?\\t', 'cat' != 'dog')     # не равняется\n",
        "print('Is 1 != \"10?\\t\\t', 1 != 10)"
      ],
      "execution_count": 8,
      "outputs": [
        {
          "output_type": "stream",
          "name": "stdout",
          "text": [
            "Is \"abc\" == \"abc\"?\t True\n",
            "Is 1 == 10?\t\t False\n",
            "Is \"cat\" != \"dog\"?\t True\n",
            "Is 1 != \"10?\t\t True\n"
          ]
        }
      ]
    },
    {
      "cell_type": "code",
      "metadata": {
        "id": "vqrjH0OvyKki",
        "outputId": "729a2469-c470-4fee-96fd-e928aa029d75",
        "colab": {
          "base_uri": "https://localhost:8080/"
        }
      },
      "source": [
        "print('Is 3 > 3?\\t', 3 > 3)         # больше\n",
        "print('Is 3 >= 3?\\t', 3 >= 3)       # больше или равно\n",
        "print('Is 4 < 5?\\t', 4 < 5)         # меньше\n",
        "print('Is 4 <= 5?\\t', 4 <= 5)       # меньше или равно"
      ],
      "execution_count": 9,
      "outputs": [
        {
          "output_type": "stream",
          "name": "stdout",
          "text": [
            "Is 3 > 3?\t False\n",
            "Is 3 >= 3?\t True\n",
            "Is 4 < 5?\t True\n",
            "Is 4 <= 5?\t True\n"
          ]
        }
      ]
    },
    {
      "cell_type": "markdown",
      "metadata": {
        "id": "0bg2mpy4jrdx"
      },
      "source": [
        "Решите задачу: https://contest.yandex.ru/contest/28677/problems/A/"
      ]
    },
    {
      "cell_type": "markdown",
      "metadata": {
        "id": "gIivoOk1nOoB"
      },
      "source": [
        "Операторы сравнения выполняются слева направо, у них одинаковый приоритет, и их можно группировать скобками:"
      ]
    },
    {
      "cell_type": "code",
      "metadata": {
        "id": "EcKIUI_jnOoC",
        "outputId": "e8eae18c-79d7-4af9-c433-866737c0d507",
        "colab": {
          "base_uri": "https://localhost:8080/"
        }
      },
      "source": [
        "print((42 != 42) == 0)\n",
        "# 1) (42 != 42)   - ложь, поэтому это простое высказывание есть False ->\n",
        "# 2) (False == 0) - правда, поэтому это просто высказывание есть True"
      ],
      "execution_count": 10,
      "outputs": [
        {
          "output_type": "stream",
          "name": "stdout",
          "text": [
            "True\n"
          ]
        }
      ]
    },
    {
      "cell_type": "markdown",
      "metadata": {
        "id": "lLRtk0c8nOoC"
      },
      "source": [
        "Если опустить скобки, то выполнение сложного логического высказывания происходит таким образом (принцип работает для цепочки любой длины):\n",
        "\n",
        "`X оператор1 Y оператор2 Z` эквивалентно `X оператор1 Y` **И** `Y оператор2 Z`\n",
        "\n",
        "Например:"
      ]
    },
    {
      "cell_type": "code",
      "metadata": {
        "id": "scaMEuC-nOoD",
        "outputId": "a71ce5c0-d788-4ed6-e663-4f7df392e9f5",
        "colab": {
          "base_uri": "https://localhost:8080/"
        }
      },
      "source": [
        "x = 42\n",
        "print(3.14 < x <= 57)"
      ],
      "execution_count": 11,
      "outputs": [
        {
          "output_type": "stream",
          "name": "stdout",
          "text": [
            "True\n"
          ]
        }
      ]
    },
    {
      "cell_type": "code",
      "metadata": {
        "id": "cFxlIB_Ozu5B",
        "outputId": "bfadeff3-4ec9-485a-e4a6-b6beecd92536",
        "colab": {
          "base_uri": "https://localhost:8080/"
        }
      },
      "source": [
        "print(42.0 == x == 42.0 > 57)\n",
        "# это эквивалентно:\n",
        "print(42.0 == x and x == 42.0 and 42.0 > 57) # True and True and False -> False"
      ],
      "execution_count": 12,
      "outputs": [
        {
          "output_type": "stream",
          "name": "stdout",
          "text": [
            "False\n",
            "False\n"
          ]
        }
      ]
    },
    {
      "cell_type": "markdown",
      "metadata": {
        "id": "dYBZyiVGnOoE"
      },
      "source": [
        "### Логические оперции И, ИЛИ, НЕ [DOCS](https://docs.python.org/3/reference/expressions.html#boolean-operations)\n",
        "\n",
        "В примере выше мы как раз каснулись оператора **И**. В Питоне заготовлены специальные слова для этих операторов-\"союзов\", чтобы строить сложные логические высказывания. "
      ]
    },
    {
      "cell_type": "markdown",
      "metadata": {
        "id": "LnJvmeBdnOoE"
      },
      "source": [
        "**И** обозначается командой `and`.\n",
        "\n",
        "Если рассматривать булевые значения как числа 0 и 1, то **И** это операция *умножения* (так проще запомнить)."
      ]
    },
    {
      "cell_type": "code",
      "metadata": {
        "id": "34O3PtO3nOoE",
        "outputId": "e489bcc2-c67c-4487-a29d-549c0ee049b2",
        "colab": {
          "base_uri": "https://localhost:8080/"
        }
      },
      "source": [
        "# таблица истинности для логического умножения\n",
        "print(True and True,\n",
        "      True and False,\n",
        "      False and True,\n",
        "      False and False, sep=',\\n')"
      ],
      "execution_count": 13,
      "outputs": [
        {
          "output_type": "stream",
          "name": "stdout",
          "text": [
            "True,\n",
            "False,\n",
            "False,\n",
            "False\n"
          ]
        }
      ]
    },
    {
      "cell_type": "markdown",
      "metadata": {
        "id": "0Bv7ziIenOoF"
      },
      "source": [
        "**ИЛИ** обозначается командой `or`\n",
        "\n",
        "Если рассматривать булевые значения как числа 0 и 1, то **ИЛИ** это операция *сложения*."
      ]
    },
    {
      "cell_type": "code",
      "metadata": {
        "id": "9K0xwqr5nOoF",
        "outputId": "4d378c80-b5c8-4e3f-ff5f-cf932fc65143",
        "colab": {
          "base_uri": "https://localhost:8080/"
        }
      },
      "source": [
        "# таблица истинности для логического сложения\n",
        "print(True or True,\n",
        "      True or False,\n",
        "      False or True,\n",
        "      False or False, sep=',\\n')"
      ],
      "execution_count": 14,
      "outputs": [
        {
          "output_type": "stream",
          "name": "stdout",
          "text": [
            "True,\n",
            "True,\n",
            "True,\n",
            "False\n"
          ]
        }
      ]
    },
    {
      "cell_type": "markdown",
      "metadata": {
        "id": "8V1QHIrUnOoG"
      },
      "source": [
        "**НЕ** обозначается командой `not`\n",
        "\n",
        "Если рассматривать булевые значения как числа 0 и 1, то **ИЛИ** это операция *унарного минуса*."
      ]
    },
    {
      "cell_type": "code",
      "metadata": {
        "id": "yWNBrLVbnOoG",
        "outputId": "d8fb474d-ed54-4b57-d12b-76c05e4034d4",
        "colab": {
          "base_uri": "https://localhost:8080/"
        }
      },
      "source": [
        "# логическая операция инверсии\n",
        "print(not True, not False, sep=', ')"
      ],
      "execution_count": 15,
      "outputs": [
        {
          "output_type": "stream",
          "name": "stdout",
          "text": [
            "False, True\n"
          ]
        }
      ]
    },
    {
      "cell_type": "markdown",
      "metadata": {
        "id": "-jstyGGh2Pin"
      },
      "source": [
        "**Важно:**\n",
        "* у этих логических операторов приоритет ниже, чем у операторов сравнения;\n",
        "* между собой приоритет выстроен так (от большего к меньшему):\n",
        "`not`, `and`, `or`;\n",
        "* внутри одного приоритета операции выполняются слева направо."
      ]
    },
    {
      "cell_type": "code",
      "metadata": {
        "id": "bCVGiISa2ZaC",
        "outputId": "a5e209d1-078b-4160-81f3-c044abc87ea2",
        "colab": {
          "base_uri": "https://localhost:8080/"
        }
      },
      "source": [
        "print(1 > 2 or 1 < 2 and 4 > 3 or not 4 < 5)"
      ],
      "execution_count": 16,
      "outputs": [
        {
          "output_type": "stream",
          "name": "stdout",
          "text": [
            "True\n"
          ]
        }
      ]
    },
    {
      "cell_type": "markdown",
      "metadata": {
        "id": "hFcX3x3_6F3t"
      },
      "source": [
        "Разберем сложное л. высказывание:\n",
        "\n",
        "```\n",
        "1 > 2 or 1 < 2 and 4 > 3 or not 4 < 5\n",
        "```\n",
        "\n",
        "1. `1 > 2` -> False\n",
        "2. `1 < 2` -> True\n",
        "3. `4 > 3` -> True \n",
        "4. `4 < 5` -> True \n",
        "\n",
        "все простые л. высказывания посчитаны, дальше оперируем ими, чтобы выполнить сложное л. высказывание\n",
        "\n",
        "5. `not 4 < 5` -> `not True` -> False\n",
        "6. `True and True` -> True (1 < 2 and 4 > 3)\n",
        "7. `False or True` -> True (1 > 2 or True)\n",
        "8. `True or True` -> True (True or 4 < 5)\n",
        "\n",
        "Итого: True\n",
        "\n",
        "То есть как-то так:\n",
        "\n",
        "```\n",
        "{ [ (1 > 2) or ( (1 < 2) and (4 > 3) ) ] or (not (4 < 5) ) }\n",
        "```\n"
      ]
    },
    {
      "cell_type": "code",
      "metadata": {
        "id": "edIHpy827GQF",
        "outputId": "26ce8d00-5b0a-4c99-a2f3-ad48eba63eae",
        "colab": {
          "base_uri": "https://localhost:8080/"
        }
      },
      "source": [
        "print(( ( (1 > 2) or ( (1 < 2) and (4 > 3) ) ) or (not (4 < 5) ) ))"
      ],
      "execution_count": 17,
      "outputs": [
        {
          "output_type": "stream",
          "name": "stdout",
          "text": [
            "True\n"
          ]
        }
      ]
    },
    {
      "cell_type": "markdown",
      "metadata": {
        "id": "gDMvuYNujz8l"
      },
      "source": [
        "Решите задачи:\n",
        "* https://contest.yandex.ru/contest/28677/problems/B/\n",
        "* https://contest.yandex.ru/contest/28677/problems/С/\n",
        "* https://contest.yandex.ru/contest/28677/problems/D/"
      ]
    },
    {
      "cell_type": "markdown",
      "metadata": {
        "id": "LTtSSiK25kxE"
      },
      "source": [
        "#### Отступление в детали\n",
        "\n",
        "Быть польностью с вами честными, Питон делает немного умнее, когда исполняет команды `and` и `or`.\n"
      ]
    },
    {
      "cell_type": "markdown",
      "metadata": {
        "id": "deEhNeELjiBS"
      },
      "source": [
        "\n",
        "Из таблиц истинности можно заметить, что:\n",
        "- если мы исполняем оператор **И**, и первым аргументом (слева от И) стоит  False, то выражение обязательно будет False; если True, то все определяется значением второго аргумента (справа от И)\n",
        "- если мы исполняем оператор **ИЛИ**, и первым аргументом (слева от ИЛИ) стоит  True, то выражение обязательно будет True; если False, то все определяется значением второго аргумента (справа от ИЛИ)\n",
        "\n",
        "Поэтому вопрос: а зачем делать какие-то лишние операции в таких случаях, если можно сразу сказать ответ, без проверки второго аргумента (справа от оператора)? Вот Питон этих лишних операций и не делает!\n",
        "\n",
        "Итак, выполнение выражения `X and Y`:\n",
        "1. проверяем `X`\n",
        "2. если `X` ложно, его значение возвращается и выполнение выражения заканчивается, иначе...\n",
        "3. ...возвращаем значение `Y`.\n",
        "\n",
        "Итак, выполнение выражения `X or Y`:\n",
        "1. проверяем `X`\n",
        "2. если `X` истинно, его значение возвращается и выполнение выражения заканчивается, иначе...\n",
        "3. ...возвращаем значение `Y`.\n",
        "\n",
        "И между прочим, значения X и Y необязательно логические! Вот пример:"
      ]
    },
    {
      "cell_type": "code",
      "metadata": {
        "id": "7G3qS7xAiJY8",
        "outputId": "9fa6a74d-2496-4496-e086-87a82cdc802d",
        "colab": {
          "base_uri": "https://localhost:8080/"
        }
      },
      "source": [
        "print('notempty' and 0) \n",
        "# вернет 0, а не False (последним проверило его)\n",
        "print('notempty' and 'alsonotempty') \n",
        "# вернет alsonotempty потому что последним проверило его\n",
        "print(0 and 'notempty') \n",
        "# вернет пустоту, потому что дальше не проверяло"
      ],
      "execution_count": 18,
      "outputs": [
        {
          "output_type": "stream",
          "name": "stdout",
          "text": [
            "0\n",
            "alsonotempty\n",
            "0\n"
          ]
        }
      ]
    },
    {
      "cell_type": "code",
      "metadata": {
        "id": "hNfyy2PljdNx",
        "outputId": "7ebaa2f4-2876-4b1d-9899-709d97990b29",
        "colab": {
          "base_uri": "https://localhost:8080/"
        }
      },
      "source": [
        "print(1 or 'some')\n",
        "# вернет 1, а не True (последним проверило его)\n",
        "print('notempty' or 0)\n",
        "# вернет notempty потому что последним проверило его\n",
        "print(0 or 1)\n",
        "# вернет 1, а не True (последним проверило его)"
      ],
      "execution_count": 19,
      "outputs": [
        {
          "output_type": "stream",
          "name": "stdout",
          "text": [
            "1\n",
            "notempty\n",
            "1\n"
          ]
        }
      ]
    },
    {
      "cell_type": "markdown",
      "metadata": {
        "id": "9TjYNMYj_UCf"
      },
      "source": [
        "**Usage case**\n",
        "\n",
        "Ваш пользователь вводит с клавиатуры значение `x`. Оно будет либо пустым (х_1), либо непустым (х_2). Вы хотите, чтобы далее ваша переменная `y`, вне зависимости от того, что ввёл пользователь, была какой-то непустой. Проблема решает таким кодом: `y = x or 'cat'`. Далее код, имитирующий описанную ситуацию."
      ]
    },
    {
      "cell_type": "code",
      "metadata": {
        "id": "mTqTsckB5d3G",
        "outputId": "e56e54eb-7a72-4e0c-9e09-37766ddfcbd6",
        "colab": {
          "base_uri": "https://localhost:8080/"
        }
      },
      "source": [
        "x_1 = ''\n",
        "x_2 = 'notempty'\n",
        "y_1 = x_1 or 'cat'\n",
        "print(y_1)\n",
        "y_2 = x_2 or 'cat'\n",
        "print(y_2)"
      ],
      "execution_count": 20,
      "outputs": [
        {
          "output_type": "stream",
          "name": "stdout",
          "text": [
            "cat\n",
            "notempty\n"
          ]
        }
      ]
    },
    {
      "cell_type": "markdown",
      "metadata": {
        "id": "junVmyjxnOoH"
      },
      "source": [
        "### Оператор is\n",
        "\n",
        "Оператор `is` и `is not` тестируют объекты (ссылки, а не их значения) на идентичность: `x is y` верно тогда и только тогда, когда `x` и `y` это один итот же объект (в плане ссылок-значений). "
      ]
    },
    {
      "cell_type": "code",
      "metadata": {
        "id": "gniGlcnylQee",
        "outputId": "c321cf31-a3b1-446d-be2e-7e3865e08770",
        "colab": {
          "base_uri": "https://localhost:8080/"
        }
      },
      "source": [
        "a = -1000\n",
        "b = a \n",
        "print(a is b) \n",
        "# две ссылки (имени) к одному объекты: целое число со значением -1000\n",
        "print(a == b)\n",
        "# значение а равняется значению б? -1000 == -1000?"
      ],
      "execution_count": 21,
      "outputs": [
        {
          "output_type": "stream",
          "name": "stdout",
          "text": [
            "True\n",
            "True\n"
          ]
        }
      ]
    },
    {
      "cell_type": "code",
      "metadata": {
        "id": "0KRClXtNle8q",
        "outputId": "08b0ca9e-2a9a-40b5-f6e7-59ebd4507fcb",
        "colab": {
          "base_uri": "https://localhost:8080/"
        }
      },
      "source": [
        "a = -1000\n",
        "b = -1000\n",
        "print(a is b) \n",
        "# две ссылки (имени) к двум объектам: целые числа со значением -1000\n",
        "print(a == b)\n",
        "# значение а равняется значению б? -1000 == -1000?"
      ],
      "execution_count": 22,
      "outputs": [
        {
          "output_type": "stream",
          "name": "stdout",
          "text": [
            "False\n",
            "True\n"
          ]
        }
      ]
    },
    {
      "cell_type": "markdown",
      "metadata": {
        "id": "3KXC0u-zlP2w"
      },
      "source": [
        "\n",
        "\n",
        "Идентификатор (ссылка) объекта определяется функцией `id()`. Для коротких строк и чисел от -5 до 256, объекты с одинаковым значениям хранятся в одном и том же месте, чтобы не создавать много лишних объектов (поэтому id одинаковый). Такой странный диапазон выбран на основе наиболее популярных значений. \n",
        "\n",
        "Может убедиться:"
      ]
    },
    {
      "cell_type": "code",
      "metadata": {
        "id": "C81BWe-enOoH",
        "outputId": "364f81ff-430c-4897-f85c-b4b97f0d2a4d",
        "colab": {
          "base_uri": "https://localhost:8080/"
        }
      },
      "source": [
        "x = 256\n",
        "y = 256\n",
        "print(x is y, x == y, id(x), id(y), sep=', ')"
      ],
      "execution_count": 23,
      "outputs": [
        {
          "output_type": "stream",
          "name": "stdout",
          "text": [
            "True, True, 94826004007392, 94826004007392\n"
          ]
        }
      ]
    },
    {
      "cell_type": "code",
      "metadata": {
        "id": "OdITWAxEnOoI",
        "outputId": "b3dff7c3-42a5-42a4-f059-03fb5241365a",
        "colab": {
          "base_uri": "https://localhost:8080/"
        }
      },
      "source": [
        "a = -5\n",
        "b = -5\n",
        "print(a is b, a == b, id(a), id(b), sep=', ')"
      ],
      "execution_count": 24,
      "outputs": [
        {
          "output_type": "stream",
          "name": "stdout",
          "text": [
            "True, True, 94826003999040, 94826003999040\n"
          ]
        }
      ]
    },
    {
      "cell_type": "code",
      "metadata": {
        "id": "FS4Uo1bMnOoI",
        "outputId": "b48738e9-1c1d-4613-baf8-c68379087af0",
        "colab": {
          "base_uri": "https://localhost:8080/"
        }
      },
      "source": [
        "s1 = 'hello'\n",
        "s2 = 'hello'\n",
        "print(s1 is s2, s1 == s2, id(s2), id(s2), sep=', ')"
      ],
      "execution_count": 25,
      "outputs": [
        {
          "output_type": "stream",
          "name": "stdout",
          "text": [
            "True, True, 140538573326256, 140538573326256\n"
          ]
        }
      ]
    },
    {
      "cell_type": "code",
      "metadata": {
        "id": "WUkTmzaFnOoJ",
        "outputId": "b1c9f220-acce-4330-86fa-44d3bcd1b05d",
        "colab": {
          "base_uri": "https://localhost:8080/"
        }
      },
      "source": [
        "x = 257\n",
        "y = 257\n",
        "print(x is y, x == y, id(x), id(y), sep=', ')"
      ],
      "execution_count": 26,
      "outputs": [
        {
          "output_type": "stream",
          "name": "stdout",
          "text": [
            "False, True, 140538497502832, 140538497503088\n"
          ]
        }
      ]
    },
    {
      "cell_type": "code",
      "metadata": {
        "id": "AKwN_wB3nOoJ",
        "outputId": "3074b9f5-cccd-4ece-8a40-4c68bdd96f34",
        "colab": {
          "base_uri": "https://localhost:8080/"
        }
      },
      "source": [
        "a = -6\n",
        "b = -6\n",
        "print(a is b, a == b, id(a), id(b), sep=', ')"
      ],
      "execution_count": 27,
      "outputs": [
        {
          "output_type": "stream",
          "name": "stdout",
          "text": [
            "False, True, 140538497659216, 140538497659280\n"
          ]
        }
      ]
    },
    {
      "cell_type": "code",
      "metadata": {
        "id": "-EIGrEWznOoK",
        "outputId": "528e305b-2d10-407d-9113-3914aa1f4a61",
        "colab": {
          "base_uri": "https://localhost:8080/"
        }
      },
      "source": [
        "s1 = 'hello world'\n",
        "s2 = 'hello world'\n",
        "print(s1 is s2, s1 == s2, id(s2), id(s2), sep=', ')"
      ],
      "execution_count": 28,
      "outputs": [
        {
          "output_type": "stream",
          "name": "stdout",
          "text": [
            "False, True, 140538497634992, 140538497634992\n"
          ]
        }
      ]
    },
    {
      "cell_type": "markdown",
      "metadata": {
        "id": "tLo19lmMnOoK"
      },
      "source": [
        "### Объект `None`\n",
        "\n",
        "Существует также объект `None`, который должен существовать как и в реальном мире (хотя вопрос философский). **Он обозначает ничего**. Он как объект имеет тип `NoneType`, являясь единственным его значением:"
      ]
    },
    {
      "cell_type": "code",
      "metadata": {
        "id": "vrpiy-DgnOoL",
        "outputId": "9b4cbd69-29fb-4541-f71a-341e0a2f4b28",
        "colab": {
          "base_uri": "https://localhost:8080/"
        }
      },
      "source": [
        "print(type(None), None, sep=', ')"
      ],
      "execution_count": 29,
      "outputs": [
        {
          "output_type": "stream",
          "name": "stdout",
          "text": [
            "<class 'NoneType'>, None\n"
          ]
        }
      ]
    },
    {
      "cell_type": "markdown",
      "metadata": {
        "id": "yUfJ6pi2nOoL"
      },
      "source": [
        "Если перевести `None` в булевый тип, то он всегда будет `False`, поэтому можно его использовать в условных конструкциях и пр.:"
      ]
    },
    {
      "cell_type": "code",
      "metadata": {
        "id": "CNt50m6EnOoL",
        "outputId": "22a51a61-bc9c-47ae-9d04-d91436c7854a",
        "colab": {
          "base_uri": "https://localhost:8080/"
        }
      },
      "source": [
        "print(bool(None))"
      ],
      "execution_count": 30,
      "outputs": [
        {
          "output_type": "stream",
          "name": "stdout",
          "text": [
            "False\n"
          ]
        }
      ]
    },
    {
      "cell_type": "markdown",
      "metadata": {
        "id": "rv-0cZ-3nOoM"
      },
      "source": [
        "В решении задач `None` может использоваться для подчеркивания \"ничего\"."
      ]
    },
    {
      "cell_type": "markdown",
      "metadata": {
        "id": "KPyDU1oMnOoN"
      },
      "source": [
        "## Условная конструкция\n",
        "\n",
        "До этого строчки кода исполнялись просто в том порядке в котором указаны (линейно). Однако, в задачах одних линейных сюжетов мало. Поэтому придумали **условные конструкции**. Они дают нам возможность решать задачи нелийнейно, в завимости от условия, задаваемого *логическим высказыванием*. Вот пример:"
      ]
    },
    {
      "cell_type": "code",
      "metadata": {
        "id": "n1Y9GGI4nOoO",
        "outputId": "fb1e988d-26de-453d-f675-761492a0a775",
        "colab": {
          "base_uri": "https://localhost:8080/"
        }
      },
      "source": [
        "number = int(input('Введите число ---> '))\n",
        "if number > 0:\n",
        "    print('Введено положительное число')\n",
        "elif number < 0:\n",
        "    print('Введено отрицательно число')\n",
        "else:\n",
        "    print('Введен ноль!')\n",
        "print('---')"
      ],
      "execution_count": 31,
      "outputs": [
        {
          "output_type": "stream",
          "name": "stdout",
          "text": [
            "Введите число ---> 42\n",
            "Введено положительное число\n",
            "---\n"
          ]
        }
      ]
    },
    {
      "cell_type": "markdown",
      "metadata": {
        "id": "-UMBemwnnOoO"
      },
      "source": [
        "То есть конструкция такая:\n",
        "\n",
        "```python\n",
        "if (Условие_1):\n",
        "    Блок инструкций 1\n",
        "elif (Условие_2):\n",
        "    Блок инструкций 2\n",
        "else:\n",
        "    Блок инструкций ИНАЧЕ\n",
        "# КОНЕЦ\n",
        "```\n",
        "\n",
        "Обратите внимание на **отступы в 4 пробела** (они могут быть и больше, главное кратность 4), а также на **двоеточие** после условия.\n",
        "\n",
        "1. Программа проверяет условия по очереди сверху вниз.\n",
        "2. Если одно из условий выполнилось, то \n",
        "    * выполняет блок инструкций соответственно условию\n",
        "    * выходит из условной конструкции (там где `#КОНЕЦ`)\n",
        "3. Если ни одно из условий не выполнилось, то:\n",
        "    *  если есть `else`, то выполняется блок инструкций ИНАЧЕ\n",
        "    * выходит из условной конструкции."
      ]
    },
    {
      "cell_type": "markdown",
      "metadata": {
        "id": "bakAvihYwylX"
      },
      "source": [
        "Обратите внимание, что в программе ниже выполняются и первое, и второе условие, однако, исполняется блок инструкций первого условия, и дальше конструкция заканчивается:"
      ]
    },
    {
      "cell_type": "code",
      "metadata": {
        "id": "NX5A2_xWwmq4",
        "outputId": "66e874d5-b0ad-4b3f-b8e3-33f6681a9b96",
        "colab": {
          "base_uri": "https://localhost:8080/"
        }
      },
      "source": [
        "number = int(input('Введите число ---> '))\n",
        "if number > 0:\n",
        "    print('Введено положительное число')\n",
        "elif number < 10:\n",
        "    print('Введено число до 10')\n",
        "else:\n",
        "    print('Я никогда не выполнюсь(')\n",
        "print('---')"
      ],
      "execution_count": 32,
      "outputs": [
        {
          "output_type": "stream",
          "name": "stdout",
          "text": [
            "Введите число ---> 5\n",
            "Введено положительное число\n",
            "---\n"
          ]
        }
      ]
    },
    {
      "cell_type": "markdown",
      "metadata": {
        "id": "UK17I8_YvgvG"
      },
      "source": [
        "Решите задачу: https://contest.yandex.ru/contest/28677/problems/E/ "
      ]
    },
    {
      "cell_type": "markdown",
      "metadata": {
        "id": "X2jOKRVhrnFQ"
      },
      "source": [
        "### Зоопарк условных конструкций"
      ]
    },
    {
      "cell_type": "markdown",
      "metadata": {
        "id": "r2HfcdMTnOoP"
      },
      "source": [
        "**Без elif**\n",
        "\n",
        "Условий `elif` может не быть.\n",
        "Например:"
      ]
    },
    {
      "cell_type": "code",
      "metadata": {
        "id": "DHQuj-Z8nOoP",
        "outputId": "0708a22e-dc50-4ad6-dd1c-e2aa4f4e8f09",
        "colab": {
          "base_uri": "https://localhost:8080/"
        }
      },
      "source": [
        "number = int(input('Введите число ---> '))\n",
        "\n",
        "if number != 0:\n",
        "    print('Введен не ноль!')\n",
        "else:\n",
        "    print('Введен ноль!')\n",
        "print('---')"
      ],
      "execution_count": 33,
      "outputs": [
        {
          "output_type": "stream",
          "name": "stdout",
          "text": [
            "Введите число ---> 6\n",
            "Введен не ноль!\n",
            "---\n"
          ]
        }
      ]
    },
    {
      "cell_type": "markdown",
      "metadata": {
        "id": "scN2J994sCjh"
      },
      "source": [
        "**Много elif**\n",
        "\n",
        "Условий `elif` может быть несколько.\n",
        "Например:"
      ]
    },
    {
      "cell_type": "code",
      "metadata": {
        "id": "NKk3Ah3pnOoQ",
        "outputId": "d5627753-b596-40a9-dda1-07d1109dfc5a",
        "colab": {
          "base_uri": "https://localhost:8080/"
        }
      },
      "source": [
        "number = int(input('Введите число ---> '))\n",
        "\n",
        "if number == 0:\n",
        "    print('Введен ноль!')\n",
        "elif number == 1:\n",
        "    print('Введена единица!')\n",
        "elif number == 2:\n",
        "    print('Введена двойка!')\n",
        "elif number == 7:\n",
        "    print('Введена семерка!')\n",
        "elif number == 42:\n",
        "    print('Введен ответ на все вопросы...')\n",
        "else:\n",
        "    print('Введено какое-то число.. Хм.')\n",
        "print('---')"
      ],
      "execution_count": 34,
      "outputs": [
        {
          "output_type": "stream",
          "name": "stdout",
          "text": [
            "Введите число ---> 42\n",
            "Введен ответ на все вопросы...\n",
            "---\n"
          ]
        }
      ]
    },
    {
      "cell_type": "markdown",
      "metadata": {
        "id": "_B4IiRAGnOoQ"
      },
      "source": [
        "**Без else**\n",
        "\n",
        "Условия `else` тоже может не быть."
      ]
    },
    {
      "cell_type": "code",
      "metadata": {
        "id": "XW6W0nOAnOoR",
        "outputId": "78658690-e55a-45ed-8646-d14580bb4ce2",
        "colab": {
          "base_uri": "https://localhost:8080/"
        }
      },
      "source": [
        "number = int(input('Введите число ---> '))\n",
        "\n",
        "if number == 0:\n",
        "    print('Введен ноль!')\n",
        "print('---')"
      ],
      "execution_count": 35,
      "outputs": [
        {
          "output_type": "stream",
          "name": "stdout",
          "text": [
            "Введите число ---> 1\n",
            "---\n"
          ]
        }
      ]
    },
    {
      "cell_type": "markdown",
      "metadata": {
        "id": "UbOcbjjhsSKu"
      },
      "source": [
        "**Много elif, без else**"
      ]
    },
    {
      "cell_type": "code",
      "metadata": {
        "id": "TW7bqdS4sa6l",
        "outputId": "6cab77ad-cbe9-4344-85d0-5553dfab30d7",
        "colab": {
          "base_uri": "https://localhost:8080/"
        }
      },
      "source": [
        "number = int(input('Введите число ---> '))\n",
        "\n",
        "if number == 0:\n",
        "    print('Введен ноль!')\n",
        "elif number == 1:\n",
        "    print('Введена единица!')\n",
        "elif number == 2:\n",
        "    print('Введена двойка!')\n",
        "print('---')"
      ],
      "execution_count": 37,
      "outputs": [
        {
          "output_type": "stream",
          "name": "stdout",
          "text": [
            "Введите число ---> 1\n",
            "Введена единица!\n",
            "---\n"
          ]
        }
      ]
    },
    {
      "cell_type": "markdown",
      "metadata": {
        "id": "LuAVoUIfqGew"
      },
      "source": [
        "**Блок инструкций и условие на одной строке**\n",
        "\n",
        "Если в блоке инструкций всего одна строка, то не будет ошибкой написать код так (однако, мы крайне не советуем так делать в силу плозой читабельности кода):"
      ]
    },
    {
      "cell_type": "code",
      "metadata": {
        "id": "qWdbx2XPqKwL",
        "outputId": "6c2301fa-0342-47c9-c62c-98ec8e8a542f",
        "colab": {
          "base_uri": "https://localhost:8080/"
        }
      },
      "source": [
        "number = int(input('Введите число ---> '))\n",
        "\n",
        "if number == 0: print('Введен ноль!')\n",
        "else: print('Введен не ноль!')\n",
        "print('---')"
      ],
      "execution_count": 38,
      "outputs": [
        {
          "output_type": "stream",
          "name": "stdout",
          "text": [
            "Введите число ---> 0\n",
            "Введен ноль!\n",
            "---\n"
          ]
        }
      ]
    },
    {
      "cell_type": "markdown",
      "metadata": {
        "id": "JefcHtUanOoR"
      },
      "source": [
        "**Конструкция одна в другой**\n",
        "\n",
        "Такие конструкции могут быть вложены друг в друга:"
      ]
    },
    {
      "cell_type": "code",
      "metadata": {
        "id": "DLkeoIdPnOoR",
        "outputId": "0183c1e6-4217-4767-937b-483e9da750d4",
        "colab": {
          "base_uri": "https://localhost:8080/"
        }
      },
      "source": [
        "number = int(input('Введите число ---> '))\n",
        "\n",
        "if number > 0:\n",
        "    if number < 100: # слева стоит 4 пробела!\n",
        "        print('Введено небольшое положительное число')\n",
        "    else:\n",
        "        print('Введено большое положительное число')\n",
        "else:\n",
        "    print('Введено неположительное число')\n",
        "print('---')"
      ],
      "execution_count": 39,
      "outputs": [
        {
          "output_type": "stream",
          "name": "stdout",
          "text": [
            "Введите число ---> 42\n",
            "Введено небольшое положительное число\n",
            "---\n"
          ]
        }
      ]
    },
    {
      "cell_type": "markdown",
      "metadata": {
        "id": "8hHG3RJKnOoS"
      },
      "source": [
        "**Сложные условия (or, and)**\n",
        "\n",
        "В качестве условий могут стоять любые логические выражения (как простые, так и сложные):"
      ]
    },
    {
      "cell_type": "code",
      "metadata": {
        "id": "gtLWX1TlnOoT",
        "outputId": "96fac76f-3629-4cee-c38a-89cf2ee6d3f6",
        "colab": {
          "base_uri": "https://localhost:8080/"
        }
      },
      "source": [
        "number = int(input('Введите число ---> '))\n",
        "\n",
        "if (number % 2 == 0) and (number < 0):\n",
        "    print('Введено отрицательно четное число!')\n",
        "else:\n",
        "    print('Введено неотрицательное или нечетное число!')\n",
        "print('---')"
      ],
      "execution_count": 40,
      "outputs": [
        {
          "output_type": "stream",
          "name": "stdout",
          "text": [
            "Введите число ---> 5\n",
            "Введено неотрицательное или нечетное число!\n",
            "---\n"
          ]
        }
      ]
    },
    {
      "cell_type": "markdown",
      "metadata": {
        "id": "w2jgf6_gnOoT"
      },
      "source": [
        "**Условие с помощью числа**\n",
        "\n",
        "Кроме того, в качестве условия можно использовать \"абсолютно простое логическое выражение\" из одного объекта. \n",
        "\n",
        "Например, **числа** (0 ложно, не 0 истинно) можно использовать как условия:"
      ]
    },
    {
      "cell_type": "code",
      "metadata": {
        "id": "gBnfjES2nOoU",
        "outputId": "21b80b41-da74-4366-a1e9-bb3f15573d16",
        "colab": {
          "base_uri": "https://localhost:8080/"
        }
      },
      "source": [
        "number = int(input('Введите число ---> '))\n",
        "\n",
        "if (number % 2): # остаток от деления на два равен 0 (четное) или 1 (нечетное)\n",
        "    print('Введено нечетное число!')\n",
        "else:\n",
        "    print('Введено четное число!')\n",
        "print('---')"
      ],
      "execution_count": 41,
      "outputs": [
        {
          "output_type": "stream",
          "name": "stdout",
          "text": [
            "Введите число ---> 5\n",
            "Введено нечетное число!\n",
            "---\n"
          ]
        }
      ]
    },
    {
      "cell_type": "markdown",
      "metadata": {
        "id": "9JsjxNxarf-3"
      },
      "source": [
        "**Условие в одну строку**\n",
        "\n",
        "Да-да, питонисты любят краткость. Есть специальная однострочная конструкция if-else:"
      ]
    },
    {
      "cell_type": "code",
      "metadata": {
        "id": "geAXjxGYtDik",
        "outputId": "3726499c-58e1-4def-f934-a8b6351f78f8",
        "colab": {
          "base_uri": "https://localhost:8080/"
        }
      },
      "source": [
        "x = 100 if input() == 'y' else 2\n",
        "print('Answer:', x)"
      ],
      "execution_count": 42,
      "outputs": [
        {
          "output_type": "stream",
          "name": "stdout",
          "text": [
            "y\n",
            "Answer: 100\n"
          ]
        }
      ]
    },
    {
      "cell_type": "code",
      "metadata": {
        "id": "DHf1kJQ3tf0X",
        "outputId": "259a0f5f-28d3-4f25-ceaf-c8341f5357df",
        "colab": {
          "base_uri": "https://localhost:8080/"
        }
      },
      "source": [
        "print('YES' if x // 70 == 1 else 'NO')"
      ],
      "execution_count": 43,
      "outputs": [
        {
          "output_type": "stream",
          "name": "stdout",
          "text": [
            "YES\n"
          ]
        }
      ]
    },
    {
      "cell_type": "markdown",
      "metadata": {
        "id": "B4iOMjlJrfoO"
      },
      "source": [
        "То есть конструкция такого вида:\n",
        "\n",
        "```python\n",
        "if [УСЛОВИЕ]:\n",
        "    x = [ЧТО-ТО]\n",
        "else:\n",
        "    x = [ДРУГОЕ]\n",
        "```\n",
        "\n",
        "превращается в такое: \n",
        "\n",
        "```python\n",
        "x = [ЧТО-ТО] if [УСЛОВИЕ] else [ДРУГОЕ]\n",
        "```"
      ]
    },
    {
      "cell_type": "markdown",
      "metadata": {
        "id": "N9zc7aOiuTZi"
      },
      "source": [
        "**Бездельный блок: pass**\n",
        "\n",
        "В Питоне есть команда, которая позволяет ничего не делать:"
      ]
    },
    {
      "cell_type": "code",
      "metadata": {
        "id": "_cIG9vKerfSz",
        "outputId": "0dd039b7-25d5-4617-c3f9-adbe6b6add33",
        "colab": {
          "base_uri": "https://localhost:8080/"
        }
      },
      "source": [
        "if 1 > 0:\n",
        "    pass\n",
        "else:\n",
        "    print(':)')\n",
        "print('---')"
      ],
      "execution_count": 44,
      "outputs": [
        {
          "output_type": "stream",
          "name": "stdout",
          "text": [
            "---\n"
          ]
        }
      ]
    },
    {
      "cell_type": "code",
      "metadata": {
        "id": "yu3G5rX0umw0",
        "outputId": "d5c09bb9-caa0-4be5-b19b-cb2eb1f7ce39",
        "colab": {
          "base_uri": "https://localhost:8080/"
        }
      },
      "source": [
        "x = int(input('Введите число ---> '))\n",
        "if x % 3 == 1:\n",
        "    print('Остаток 1')\n",
        "elif x % 3 == 2:\n",
        "    pass\n",
        "else:\n",
        "    print('Остаток 0')\n",
        "print('---')"
      ],
      "execution_count": 45,
      "outputs": [
        {
          "output_type": "stream",
          "name": "stdout",
          "text": [
            "Введите число ---> 5\n",
            "---\n"
          ]
        }
      ]
    },
    {
      "cell_type": "markdown",
      "metadata": {
        "id": "6Z7MmtW4vSo6"
      },
      "source": [
        "Решите задачи:\n",
        "* https://contest.yandex.ru/contest/28677/problems/F/\n",
        "* https://contest.yandex.ru/contest/28677/problems/G/"
      ]
    }
  ]
}