{
  "nbformat": 4,
  "nbformat_minor": 5,
  "metadata": {
    "kernelspec": {
      "display_name": "Python 3 (ipykernel)",
      "language": "python",
      "name": "python3"
    },
    "language_info": {
      "codemirror_mode": {
        "name": "ipython",
        "version": 3
      },
      "file_extension": ".py",
      "mimetype": "text/x-python",
      "name": "python",
      "nbconvert_exporter": "python",
      "pygments_lexer": "ipython3",
      "version": "3.9.8"
    },
    "colab": {
      "name": "homework-3-numpy.ipynb",
      "provenance": [],
      "collapsed_sections": [],
      "include_colab_link": true
    }
  },
  "cells": [
    {
      "cell_type": "markdown",
      "metadata": {
        "id": "view-in-github",
        "colab_type": "text"
      },
      "source": [
        "<a href=\"https://colab.research.google.com/github/svdcvt/math_python_hse/blob/master/fall-2021/homeworks/homework-3-numpy.ipynb\" target=\"_parent\"><img src=\"https://colab.research.google.com/assets/colab-badge.svg\" alt=\"Open In Colab\"/></a>"
      ]
    },
    {
      "cell_type": "markdown",
      "metadata": {
        "id": "41d3794f"
      },
      "source": [
        "# Домашнее задание 3 (numpy)\n",
        "\n",
        "Инструкция по сдаче ДЗ: работайте в Google Colab 1) нажмите кнопку выше \"Open in Colab\" 2) нажмите Copy to Drive. После чего необходимо до дедлайна сделать Share по ссылке с функцией редактирования (Edit) и отправить эту ссылку в форму: https://forms.gle/sbqctKNQtUadNXCh6"
      ],
      "id": "41d3794f"
    },
    {
      "cell_type": "markdown",
      "metadata": {
        "id": "7ec16c4f"
      },
      "source": [
        "## Часть 1. Библиотеки"
      ],
      "id": "7ec16c4f"
    },
    {
      "cell_type": "markdown",
      "metadata": {
        "id": "d16aeb15"
      },
      "source": [
        "В этой лабораторной работе вам понадобятся три библиотеки:\n",
        "\n",
        "- `numpy`\n",
        "- `scipy`\n",
        "- `matplotlib`\n",
        "\n",
        "Подключить их можно следующим образом:"
      ],
      "id": "d16aeb15"
    },
    {
      "cell_type": "code",
      "metadata": {
        "id": "e86d0375"
      },
      "source": [
        "import numpy as np\n",
        "\n",
        "import scipy.linalg as sla\n",
        "\n",
        "import matplotlib.pyplot as plt\n",
        "%matplotlib inline"
      ],
      "id": "e86d0375",
      "execution_count": null,
      "outputs": []
    },
    {
      "cell_type": "markdown",
      "metadata": {
        "id": "a1108e53"
      },
      "source": [
        "## Часть 2. Базовые операции линейной алгебры [2 балла]"
      ],
      "id": "a1108e53"
    },
    {
      "cell_type": "markdown",
      "metadata": {
        "id": "c4742f50"
      },
      "source": [
        "### Основные операции с матрицами [1 балл]"
      ],
      "id": "c4742f50"
    },
    {
      "cell_type": "markdown",
      "metadata": {
        "id": "c03b32c7"
      },
      "source": [
        "В качестве первого задания мы попросим вас отыскать соответствующие функции в библиотеке и сделать следующее:\n"
      ],
      "id": "c03b32c7"
    },
    {
      "cell_type": "markdown",
      "metadata": {
        "id": "606b1459"
      },
      "source": [
        "**Задание 2.1** Создайте нулевую матрицу $Z$ размера $3\\times4$ [0.125 балла]"
      ],
      "id": "606b1459"
    },
    {
      "cell_type": "code",
      "metadata": {
        "id": "30c60f29"
      },
      "source": [
        ""
      ],
      "id": "30c60f29",
      "execution_count": null,
      "outputs": []
    },
    {
      "cell_type": "markdown",
      "metadata": {
        "id": "11a554a0"
      },
      "source": [
        "**Задание 2.2** Создайте диагональную матрицу $5\\times5$ с диагональными элементами 1, 2, 3, 4 и 5 [0.125 балла]"
      ],
      "id": "11a554a0"
    },
    {
      "cell_type": "code",
      "metadata": {
        "id": "5f17374c"
      },
      "source": [
        ""
      ],
      "id": "5f17374c",
      "execution_count": null,
      "outputs": []
    },
    {
      "cell_type": "markdown",
      "metadata": {
        "id": "cc8a1bf5"
      },
      "source": [
        "**Задание 2.3** Найдите след матрицы [0.125 балла]"
      ],
      "id": "cc8a1bf5"
    },
    {
      "cell_type": "code",
      "metadata": {
        "id": "521035fa"
      },
      "source": [
        ""
      ],
      "id": "521035fa",
      "execution_count": null,
      "outputs": []
    },
    {
      "cell_type": "markdown",
      "metadata": {
        "id": "923e91b0"
      },
      "source": [
        "**Задание 2.4** Найдите обратную к ней матрицу [0.125 балла]"
      ],
      "id": "923e91b0"
    },
    {
      "cell_type": "code",
      "metadata": {
        "id": "f66ab0a6"
      },
      "source": [
        ""
      ],
      "id": "f66ab0a6",
      "execution_count": null,
      "outputs": []
    },
    {
      "cell_type": "markdown",
      "metadata": {
        "id": "fd270588"
      },
      "source": [
        "**Задание 2.5** Сгенерируйте случайную матрицу $X$ размера $4\\times5$ [0.125 балла]"
      ],
      "id": "fd270588"
    },
    {
      "cell_type": "code",
      "metadata": {
        "id": "ecd2ac17"
      },
      "source": [
        ""
      ],
      "id": "ecd2ac17",
      "execution_count": null,
      "outputs": []
    },
    {
      "cell_type": "markdown",
      "metadata": {
        "id": "c4579bae"
      },
      "source": [
        "**Задание 2.6** Найдите траспонированную к ней матрицу [0.125 балла]"
      ],
      "id": "c4579bae"
    },
    {
      "cell_type": "code",
      "metadata": {
        "id": "96f9c6d2"
      },
      "source": [
        ""
      ],
      "id": "96f9c6d2",
      "execution_count": null,
      "outputs": []
    },
    {
      "cell_type": "markdown",
      "metadata": {
        "id": "6a113a8f"
      },
      "source": [
        "**Задание 2.7** Найдите определитель подматрицы матрицы $X$, расположенной на пересечении 2 и 3 строки и 1 и 2 столбца; считаем, что строки и столбцы нумеруются с единицы (используйте slicing!). Такой определитель называется **минором** матрицы $X$ [0.125 балла]"
      ],
      "id": "6a113a8f"
    },
    {
      "cell_type": "code",
      "metadata": {
        "id": "a5faaab9"
      },
      "source": [
        ""
      ],
      "id": "a5faaab9",
      "execution_count": null,
      "outputs": []
    },
    {
      "cell_type": "markdown",
      "metadata": {
        "id": "200eea14"
      },
      "source": [
        "**Задание 2.8** Найдите произведение $X^TX$. [0.125 балла]"
      ],
      "id": "200eea14"
    },
    {
      "cell_type": "code",
      "metadata": {
        "id": "0800ca71"
      },
      "source": [
        ""
      ],
      "id": "0800ca71",
      "execution_count": null,
      "outputs": []
    },
    {
      "cell_type": "markdown",
      "metadata": {
        "id": "8f37d32f"
      },
      "source": [
        "### Эффективность [1 балл]"
      ],
      "id": "8f37d32f"
    },
    {
      "cell_type": "markdown",
      "metadata": {
        "id": "8e606539"
      },
      "source": [
        "Питон мотивирует пользоваться библиотечными функциями, когда они доступны, а не писать собственные. Библиотечные функции основаны на современных алгоритмах, обычно пишутся на более эффективных языках, таких как C++ или Fortran, а, кроме того, оптимизированы для работы на многопроцессорных устройствах, так что обогнать эти решения просто так вы не сможете.\n",
        "\n",
        "Мы предлагаем вам убедиться в этом самим. Напишите функцию `my_det`, которая вычисляла бы определитель матрицы с помощью элементарных преобразований над строками. Функция должна выкидывать `ValueError` в случаях, если матрица не является квадратной."
      ],
      "id": "8e606539"
    },
    {
      "cell_type": "code",
      "metadata": {
        "id": "ef256db9"
      },
      "source": [
        "def my_det(X):\n",
        "    '''\n",
        "    Parameters\n",
        "    ----------\n",
        "    X : array_like\n",
        "    \n",
        "    Returns\n",
        "    -------\n",
        "    det : float\n",
        "        Determinant of `a`.\n",
        "    '''\n",
        "    \n",
        "    # Your code here\n",
        "    \n",
        "    return det"
      ],
      "id": "ef256db9",
      "execution_count": null,
      "outputs": []
    },
    {
      "cell_type": "markdown",
      "metadata": {
        "id": "810eac72"
      },
      "source": [
        "Простая проверка"
      ],
      "id": "810eac72"
    },
    {
      "cell_type": "code",
      "metadata": {
        "id": "015ff662"
      },
      "source": [
        "# Запустите этот блок кода\n",
        "X = np.array([[0,0,1], [0,1,0], [1,0,0]])\n",
        "print(X)\n",
        "print(my_det(X))"
      ],
      "id": "015ff662",
      "execution_count": null,
      "outputs": []
    },
    {
      "cell_type": "markdown",
      "metadata": {
        "id": "695eca68"
      },
      "source": [
        "Теперь проверим, что функция работает корректно на случайных матрицах. Если ваша функция работает верно, то вы не должны получить `FAILED` ни на одном из тестов."
      ],
      "id": "695eca68"
    },
    {
      "cell_type": "code",
      "metadata": {
        "id": "e606e190"
      },
      "source": [
        "# Запустите этот блок кода\n",
        "for _ in range(10):\n",
        "    X = np.random.rand(8,8)\n",
        "    if np.abs(my_det(X) - sla.det(X)) > 1e-6:\n",
        "        print('FAILED')"
      ],
      "id": "e606e190",
      "execution_count": null,
      "outputs": []
    },
    {
      "cell_type": "markdown",
      "metadata": {
        "id": "697288da"
      },
      "source": [
        "Теперь давайте сравним скорость работы вашей функции и библиотечной функции `scipy.linalg.det`. В Питоне есть несколько способов измерения времени; мы воспользуемся декоратором `%timeit`. Будучи написан перед функцией, он запускает её некоторое количество раз, выбирает три случайных запуска и возвращает длительность самого быстрого из них. Модификатор `-o` между декоратором и функцией позволяет сохранять результаты работы декоратора в переменную.\n",
        "\n",
        "Приготовьтесь, что следующий блок может работать сравнительно долго."
      ],
      "id": "697288da"
    },
    {
      "cell_type": "code",
      "metadata": {
        "id": "eeb5270b"
      },
      "source": [
        "# Запустите этот блок кода\n",
        "lib_times = []\n",
        "my_times = []\n",
        "dimensions = [10, 100, 1000]\n",
        "for dim in dimensions:\n",
        "    A = np.random.rand(dim, dim)\n",
        "    res_lib = %timeit -o sla.det(A)\n",
        "    lib_times.append(res_lib.best)\n",
        "    res_my = %timeit -o my_det(A)\n",
        "    my_times.append(res_my.best)    \n",
        "\n",
        "plt.plot(dimensions, lib_times, color='blue', label='Library function')\n",
        "plt.plot(dimensions, my_times, color='red', label='My function')\n",
        "plt.title('My function vs library function, log y scale')\n",
        "plt.ylabel('Time')\n",
        "plt.xlabel('Matrix dimension')\n",
        "plt.legend()"
      ],
      "id": "eeb5270b",
      "execution_count": null,
      "outputs": []
    },
    {
      "cell_type": "markdown",
      "metadata": {
        "id": "d7817800"
      },
      "source": [
        "У вас должны были получиться графики, показывающие, как растёт с ростом размерности матрицы время вычисления определителя. Поскольку они вышли не больно-то красивыми, мы нарисуем их в *логарифмическом масштабе* по оси у:"
      ],
      "id": "d7817800"
    },
    {
      "cell_type": "code",
      "metadata": {
        "id": "3d23a3b9"
      },
      "source": [
        "# Запустите этот блок кода\n",
        "plt.semilogy(dimensions, lib_times, color='blue', label='Library function')\n",
        "plt.semilogy(dimensions, my_times, color='red', label='My function')\n",
        "plt.title('My function vs library function, log y scale')\n",
        "plt.ylabel('Time')\n",
        "plt.xlabel('Matrix dimension')\n",
        "plt.legend()"
      ],
      "id": "3d23a3b9",
      "execution_count": null,
      "outputs": []
    },
    {
      "cell_type": "markdown",
      "metadata": {
        "id": "b76640b2"
      },
      "source": [
        "Вы можете убедиться, что библиотечная функция работает *гораздо* быстрее."
      ],
      "id": "b76640b2"
    },
    {
      "cell_type": "markdown",
      "metadata": {
        "id": "c48d1b7a"
      },
      "source": [
        "## Часть 3. Комплексные числа [3 балла]"
      ],
      "id": "c48d1b7a"
    },
    {
      "cell_type": "markdown",
      "metadata": {
        "id": "e06ddd52"
      },
      "source": [
        "У вас уже была возможность убедиться, что многие операции над комплексными числами имеют наглядную геометрическую интерпретацию. В этом задании вам будет предложено этим воспользоваться.\n",
        "\n",
        "В Python число $i$ (мнимая единица) обозначено через `1j`. Так, число $0,5 + 1,2i$ будет иметь вид `0.5 + 1.2 * 1j`.\n",
        "\n",
        "При выполнении задания вы должны работать с точками плоскости как с комплексными числами. Любые преобразования должны быть реализованы с помощью операций над комплексными числами: сложения, вычитания, умножения, деления, возведения в степень и комплексного сопряжения.\n",
        "\n",
        "**Задание 3.1** [0.5 балла] Напишите функцию `shrink_rotate`, которая принимает на вход:\n",
        "- заданную в виде комплексного числа точку $X$, которую мы подвергаем преобразованию,\n",
        "- заданную в виде комплексного числа точку $A$, \n",
        "- действительный коэффициент `coef`,\n",
        "- угол `alpha`, заданный в радианах\n",
        "\n",
        "и осуществляет следующее преобразование: мы берём вектор $AX$, умножаем его `coef`, поворачиваем вокруг точки $A$ на угол `alpha` против часовой стрелки, после чего возвращаем конец полученного вектора. Ниже (левая картинка) мы приводим иллюстрацию действия этого преобразования:\n",
        "\n",
        "<img src=\"https://files.catbox.moe/ejdj2c.png\">\n",
        "\n",
        "**Задание 3.2** [0.5 балла] Напишите функцию `shrink_rotate_conj`, которая сначала делает то же самое, что и `shrink_rotate`, а после этого отражает вектор $AY$ относительно горизонтальной прямой, проходящей через точку $A$, и возвращает точку $Y'$ (см. правую часть рисунка).\n",
        "\n",
        "**Задание 3.3** [0.5 балла] Напишите функцию `geometric_inverse`, которая принимает на вход:\n",
        "- заданную в виде комплексного числа точку $X$, которую мы подвергаем преобразованию,\n",
        "- заданную в виде комплексного числа точку $A$, \n",
        "- положительное действительное число $r$\n",
        "\n",
        "и осуществляет инверсию точки $X$ относительно окружности с центром $A$ радиуса $r$. [Определение инверсии вы можете посмотреть здесь](https://ru.wikipedia.org/wiki/%D0%98%D0%BD%D0%B2%D0%B5%D1%80%D1%81%D0%B8%D1%8F_(%D0%B3%D0%B5%D0%BE%D0%BC%D0%B5%D1%82%D1%80%D0%B8%D1%8F))."
      ],
      "id": "e06ddd52"
    },
    {
      "cell_type": "code",
      "metadata": {
        "id": "9a014125"
      },
      "source": [
        "def shrink_rotate(x, a, coef=1., angle=0.):\n",
        "    # Your code here\n",
        "    raise NotImplementedError()\n",
        "    \n",
        "def shrink_rotate_conj(x, a, coef=1., angle=0.):\n",
        "    # Your code here\n",
        "    raise NotImplementedError()\n",
        "    \n",
        "def geometric_inverse(x, a, r):\n",
        "    # Your code here\n",
        "    raise NotImplementedError()"
      ],
      "id": "9a014125",
      "execution_count": null,
      "outputs": []
    },
    {
      "cell_type": "markdown",
      "metadata": {
        "id": "616d4abb"
      },
      "source": [
        "**Задание 3.4** [0.5 балла] Рассмотрим следующий процесс:\n",
        "\n",
        "```\n",
        "z = 0.5 + 0.*1j\n",
        "max_iter = 100000\n",
        "funcs = [\n",
        "    (lambda t: shrink_rotate(t, 0. + 1.*1j, coef=0.5, angle=0.)),\n",
        "    (lambda t: shrink_rotate(t, 1. + 0.*1j, coef=0.5, angle=0.)),\n",
        "    (lambda t: shrink_rotate(t, -1. + 0.*1j, coef=0.5, angle=0.))\n",
        "]\n",
        "\n",
        "for n_iter in range(max_iter):\n",
        "    n_func = np.random.choice(len(funcs))\n",
        "    z = funcs[n_func](z)\n",
        "```\n",
        "\n",
        "Дополните этот код и нарисуйте множество точек, получающихся на итерациях начиняя с десятой.\n",
        "\n",
        "*Указание*. Представьте квадрат $[-1,1]\\times[-1,1]$ матрицей пикселей 1000x1000. Сначала все элементы матрицы положим нулями, а на каждой итерации начиная с десятой будем присваивать единицу соответствующему пикселю этой матрицы. То, что получилось, можно нарисовать с помощью функции `plt.imshow(..., cmap='gray')`. Картинку лучше сделать побольше, предварив `imshow` вызовом `plt.figure(figsize=(20, 20))`."
      ],
      "id": "616d4abb"
    },
    {
      "cell_type": "markdown",
      "metadata": {
        "id": "35bdc314"
      },
      "source": [
        "**Задание 3.5** [1 балл] Поэкспериментируйте с другими преобразованиями. Попробуйте найти какой-нибудь другой красиво выглядящий фрактал."
      ],
      "id": "35bdc314"
    },
    {
      "cell_type": "code",
      "metadata": {
        "id": "479afc81"
      },
      "source": [
        ""
      ],
      "id": "479afc81",
      "execution_count": null,
      "outputs": []
    },
    {
      "cell_type": "markdown",
      "metadata": {
        "id": "AaY9szFWK_Hy"
      },
      "source": [
        "## Часть 4. Сингулярное разложение и его приложения [3 балла]"
      ],
      "id": "AaY9szFWK_Hy"
    },
    {
      "cell_type": "markdown",
      "metadata": {
        "id": "GNYHlYuHLVq_"
      },
      "source": [
        "Напомним, что сингулярным разложением (SVD, Singular value decomposition) матрицы $A$ размера $m\\times n$ называется представление\n",
        "\n",
        "$$A = U\\Sigma V^T,$$\n",
        "\n",
        "где $U$ --- ортогональная матрица размера $m\\times m$, $V$ --- ортогональная матрица размера $n\\times n$, $\\Sigma = \\mathrm{diag}(\\sigma_1,\\sigma_2,\\sigma_3,\\ldots)$ --- диагональная матрица размера $m\\times n$, в которой $\\sigma_1\\geqslant\\sigma_2\\geqslant\\ldots\\geqslant0$.\n",
        "\n",
        "На самом деле, требование, чтобы матрицы $U$ и $V$ были квадратными, избыточно. *Усечённым сингулярным разложением* мы будем называть разложение\n",
        "\n",
        "$$A = U\\Sigma V^T,$$\n",
        "\n",
        "где $U$ --- ортогональная матрица размера $m\\times k$, $V^T$ --- ортогональная матрица размера $k\\times n$, $\\Sigma$ --- диагональная матрица размера $k\\times k$, причём $k = \\min(m,n)$. Далее мы будем работать исключительно с усечённым разложением."
      ],
      "id": "GNYHlYuHLVq_"
    },
    {
      "cell_type": "markdown",
      "metadata": {
        "id": "mBYBvwEYLeOo"
      },
      "source": [
        "**Разложение на компоненты ранга 1**\n",
        "\n",
        "Обозначим через $u_1,\\ldots, u_k$ столбцы матрицы $U$, а через $v_1, \\ldots, v_k$ столбцы матрицы $V$. Тогда имеет место равенство\n",
        "\n",
        "$$A = u_1\\sigma_{1}v_1^T + u_2\\sigma_{2}v_2^T + u_3\\sigma_{3}v_3^T + \\ldots$$\n",
        "\n",
        "Матрицу $u_k\\sigma_{k}v_k^T = \\sigma_{k}u_kv_k^T$ мы будем называть $k$-й компонентой ранга 1 матрицы $A$. Отметим, что слагаемые в этой сумме ортогональны относительно скалярного произведения $(X, Y) = \\mathrm{tr}(X^TY)$ (порождающего норму Фробениуса).\n",
        "\n",
        "Как нетрудно заметить,\n",
        "\n",
        "$$A_{r} = \\sigma_{1}u_1v_1^T + \\sigma_{2}u_2v_2^T + \\ldots + \\sigma_{r}u_rv_r^T$$"
      ],
      "id": "mBYBvwEYLeOo"
    },
    {
      "cell_type": "markdown",
      "metadata": {
        "id": "I2S1UBbqLiaW"
      },
      "source": [
        "**Технические детали (SVD в Питоне)**\n",
        "\n",
        "Есть несколько способов сделать в Питоне сингулярное разложение; мы пока предлагаем вам использовать\n",
        "\n",
        "`import scipy.linalg.as sla`\n",
        "\n",
        "`U, S, Vt = sla.svd(X, full_matrices=False)`\n",
        "\n",
        "Обращаем ваше внимание на то, что `U, S, Vt` - это соответственно матрицы $U$, $\\Sigma$ и $V^T$ (не забывайте про это $^T$). Параметр `full_matrices` отвечает за то, будет ли сингулярное разложение полным или усечённым. "
      ],
      "id": "I2S1UBbqLiaW"
    },
    {
      "cell_type": "markdown",
      "metadata": {
        "id": "vUY9dGEDsPoG"
      },
      "source": [
        ""
      ],
      "id": "vUY9dGEDsPoG"
    },
    {
      "cell_type": "markdown",
      "metadata": {
        "id": "lNEOk867LqSx"
      },
      "source": [
        "**Задание 4** Сжатие данных с помощью SVD"
      ],
      "id": "lNEOk867LqSx"
    },
    {
      "cell_type": "code",
      "metadata": {
        "id": "zeKdFQxhL8t8"
      },
      "source": [
        "import numpy as np\n",
        "from skimage.io import imread\n",
        "\n",
        "img = imread('https://github.com/svdcvt/math_python_hse/raw/master/fall-2021/homeworks/img.jpg')\n",
        "img = img.mean(axis=2)"
      ],
      "id": "zeKdFQxhL8t8",
      "execution_count": null,
      "outputs": []
    },
    {
      "cell_type": "markdown",
      "metadata": {
        "id": "TIL02aATMezx"
      },
      "source": [
        "**Задание 4.1** Постройте сингулярное разложение этой матрицы. [0.5 балла]"
      ],
      "id": "TIL02aATMezx"
    },
    {
      "cell_type": "code",
      "metadata": {
        "id": "bgQFJBcYMfhW"
      },
      "source": [
        ""
      ],
      "id": "bgQFJBcYMfhW",
      "execution_count": null,
      "outputs": []
    },
    {
      "cell_type": "markdown",
      "metadata": {
        "id": "08Fk5hnzMf2c"
      },
      "source": [
        "**Задание 4.2**  Нарисуйте график диагональных элементов матрицы $\\Sigma$: [0.5 балла]"
      ],
      "id": "08Fk5hnzMf2c"
    },
    {
      "cell_type": "code",
      "metadata": {
        "id": "0jy3vNwNMikJ"
      },
      "source": [
        ""
      ],
      "id": "0jy3vNwNMikJ",
      "execution_count": null,
      "outputs": []
    },
    {
      "cell_type": "markdown",
      "metadata": {
        "id": "33FqkPNMMnBQ"
      },
      "source": [
        "**Задание 4.3** [1 балл]\n",
        "Кажется, что они убывают достаточно быстро и есть надежда, что первые несколько компонент дадут картинку, близкую к исходной.\n",
        "\n",
        "Визуализуйте первую компоненту ранга 1. Ожидали ли вы увидеть именно это? Почему?\n",
        "\n",
        "Визуализуйте суммы компонент ранга 1 с первой по двадцатую, с первой по пятидесятую, с двадцатой по сотую, с двадцатой по последнюю. Сделайте выводы.\n",
        "\n",
        "**Важно:** пожалуйста, сделайте это с помощью только матричных операций, без циклов, функций `map` и `reduce`, а также специальных функций, находящих суммы компонент."
      ],
      "id": "33FqkPNMMnBQ"
    },
    {
      "cell_type": "code",
      "metadata": {
        "id": "U4gwUoM-Mn1p"
      },
      "source": [
        ""
      ],
      "id": "U4gwUoM-Mn1p",
      "execution_count": null,
      "outputs": []
    },
    {
      "cell_type": "markdown",
      "metadata": {
        "id": "clBnwPvBMoFA"
      },
      "source": [
        "**Задание 4.4** [1 балл]\n",
        "Как вам кажется, сколько первых главных компонент нужно взять для достаточно хорошего восстановления исходного изображения? Во сколько раз меньше памяти потребуется для их хранения?"
      ],
      "id": "clBnwPvBMoFA"
    },
    {
      "cell_type": "code",
      "metadata": {
        "id": "JuHzi7gsNZnU"
      },
      "source": [
        ""
      ],
      "id": "JuHzi7gsNZnU",
      "execution_count": null,
      "outputs": []
    },
    {
      "cell_type": "markdown",
      "metadata": {
        "id": "NUO2lsEVlGBP"
      },
      "source": [
        "## Часть 5. Построение регрессии с помощью Гауссовского процесса [2 балла]"
      ],
      "id": "NUO2lsEVlGBP"
    },
    {
      "cell_type": "code",
      "metadata": {
        "id": "KfBEnhhXlRS4"
      },
      "source": [
        "%pylab inline"
      ],
      "id": "KfBEnhhXlRS4",
      "execution_count": null,
      "outputs": []
    },
    {
      "cell_type": "code",
      "metadata": {
        "id": "k1YSNwxjlUkg"
      },
      "source": [
        "# import seaborn as sbs\n",
        "import numpy as np"
      ],
      "id": "k1YSNwxjlUkg",
      "execution_count": null,
      "outputs": []
    },
    {
      "cell_type": "markdown",
      "metadata": {
        "id": "k_MlpOKIlaQ2"
      },
      "source": [
        "### Генерация выборки\n",
        "\n",
        "Ответ на очередном объекте $x_i$ генерируется следующим образом:\n",
        "\n",
        "$$t_i = f(x_i)+\\varepsilon_i, \\; \\varepsilon_i \\sim \\mathcal{N}(0,\\sqrt{2})$$"
      ],
      "id": "k_MlpOKIlaQ2"
    },
    {
      "cell_type": "code",
      "metadata": {
        "id": "5PGLlcYRldBp"
      },
      "source": [
        "def f(x):\n",
        "    return -8*np.sin(x)\n",
        "\n",
        "support = np.arange(-1.0, 11.0, 1e-2)"
      ],
      "id": "5PGLlcYRldBp",
      "execution_count": null,
      "outputs": []
    },
    {
      "cell_type": "code",
      "metadata": {
        "id": "RDr3FMSjldfV"
      },
      "source": [
        "X_train = np.arange(0, 10.0, 0.5)\n",
        "X_train = X_train.reshape([len(X_train), -1])\n",
        "Y_train = f(X_train)\n",
        "T_train = Y_train + 2*np.random.randn(*X_train.shape)\n",
        "\n",
        "X_test = support\n",
        "X_test = X_test.reshape([len(X_test), -1])"
      ],
      "id": "RDr3FMSjldfV",
      "execution_count": null,
      "outputs": []
    },
    {
      "cell_type": "code",
      "metadata": {
        "id": "VwlQ3SEAle1x"
      },
      "source": [
        "figsize(16,8)\n",
        "plt.scatter(X_train.flatten(), T_train.flatten(), label='data', c='r', s=40)\n",
        "plt.plot(support, f(support), '--r', label='true function')\n",
        "plt.legend(fontsize=20, frameon=True, shadow=True)\n",
        "plt.xlim(np.min(support), np.max(support))\n",
        "plt.show()"
      ],
      "id": "VwlQ3SEAle1x",
      "execution_count": null,
      "outputs": []
    },
    {
      "cell_type": "markdown",
      "metadata": {
        "id": "tIfPMjb7liNK"
      },
      "source": [
        "### Предсказание\n",
        "\n",
        "В тестовой точке $x$ мы можем предсказать два параметра – мат. ожидание $\\mu(x)$ и стандартное отклонение $\\sigma(x)$.\n",
        "Для заданной ковариационной функции $k(x,y)$ и для заданной дисперсии случайного шума $\\beta^{-1}$, $\\mu(x), \\sigma(x)$ вычисляются по следующим формулам:\n",
        "\n",
        "$$\\mu(x) = \\mathbf{k}^TC_N^{-1}\\mathbf{t}, \\;\\;\\;\\; \\sigma^2(x) = k(x,x)+\\beta^{-1}-\\mathbf{k}^TC_N^{-1}\\mathbf{k},$$\n",
        "\n",
        "где $\\mathbf{k} = k(x_i, x)$ – вектор, состоящий из элементов $k(x_i, x), \\; i=1,\\ldots,N$,  \n",
        "$\\mathbf{t} = (t_1,\\ldots,t_N)$ – вектор ответов на обучающей выборке,  \n",
        "$С_N = \\mathbf{K} + \\beta^{-1}E$, где $\\mathbf{K}_{ij} = k(x_i,x_j)$ – ковариационная матрица.\n",
        "\n",
        "Примеры ковариационных функций:\n",
        "- $K(x,y) = C$ – константная,\n",
        "- $K(x,y) = \\sum_{j=1}^d\\theta_jx_jy_j$ – линейная,\n",
        "- $K(x,y) = \\exp(-\\sum_{j=1}^d\\theta_j(x_j-y_j)^2)$  – экспоненциальная,\n",
        "- $K(x,y) = \\exp(-\\sum_{j=1}^d\\theta_j|x_j-y_j|)$ – процесс Орнштейна-Уленбека."
      ],
      "id": "tIfPMjb7liNK"
    },
    {
      "cell_type": "markdown",
      "metadata": {
        "id": "qHAdD_HUlnjY"
      },
      "source": [
        "**Задание 5.1** [2 балла] Реализуте функции вычисления ковариационных матриц между двумя произвольными выборками объектов, а затем функцию, вычисляющую предсказание в новой точке. Циклы использовать запрещено.\n",
        "\n",
        "**Полезные ссылки**:\n",
        "\n",
        "https://note.nkmk.me/en/python-numpy-newaxis/\n",
        "\n",
        "https://realpython.com/numpy-array-programming/\n",
        "\n",
        "https://scipy-lectures.org/advanced/advanced_numpy/"
      ],
      "id": "qHAdD_HUlnjY"
    },
    {
      "cell_type": "code",
      "metadata": {
        "id": "OP5ufaMulvyd"
      },
      "source": [
        "def linear_k(X, Y, theta):\n",
        "    '''\n",
        "    X: [N x D]\n",
        "    Y: [M x D]\n",
        "    theta: [D]\n",
        "    \n",
        "    out: [N x M]\n",
        "    '''\n",
        "    # линейная ковариационная функция\n",
        "    return\n",
        "    \n",
        "def rbf_k(X, Y, theta):\n",
        "    # экспоненциальная ковариационная функция\n",
        "    return\n",
        "\n",
        "def ou_k(X, Y, theta):\n",
        "    # процесс Орнштейна-Уленбека\n",
        "    return\n",
        "\n",
        "def predict(X_train, T_train, X_test, theta, beta, kernel):\n",
        "    '''\n",
        "    X_train, T_train : [N x D], [N x 1]\n",
        "    X_test: [M x D]\n",
        "    theta: [1]\n",
        "    '''\n",
        "    # Вычислить мат. ожидание и стандартное отклонение\n",
        "    return"
      ],
      "id": "OP5ufaMulvyd",
      "execution_count": null,
      "outputs": []
    },
    {
      "cell_type": "code",
      "metadata": {
        "id": "Sg3nUqbrlyg7"
      },
      "source": [
        "def plot_result():\n",
        "    figsize(9,5)\n",
        "    plt.scatter(X_train.flatten(), T_train.flatten(), label='data', c='r', s=40)\n",
        "    plt.plot(support, f(support), '--r', label='true function')\n",
        "    plt.plot(X_test, mu_test, c='b', label='mu test')\n",
        "    plt.fill_between(X_test.flatten(), (mu_test-sigma_test).flatten(), (mu_test+sigma_test).flatten(), color='b', label='confidence', alpha=0.3)\n",
        "    plt.legend(fontsize=12, frameon=True, shadow=True)\n",
        "    plt.xlim(np.min(support), np.max(support))"
      ],
      "id": "Sg3nUqbrlyg7",
      "execution_count": null,
      "outputs": []
    },
    {
      "cell_type": "markdown",
      "metadata": {
        "id": "3jK4h-qRlzgd"
      },
      "source": [
        "### Экспоненциальная ковариационная функция"
      ],
      "id": "3jK4h-qRlzgd"
    },
    {
      "cell_type": "code",
      "metadata": {
        "id": "Zle5wkqRmvMW"
      },
      "source": [
        "theta = np.array([1.0])\n",
        "beta = 100.0"
      ],
      "id": "Zle5wkqRmvMW",
      "execution_count": null,
      "outputs": []
    },
    {
      "cell_type": "code",
      "metadata": {
        "id": "vzKRYK1vl95V"
      },
      "source": [
        "kernel = rbf_k\n",
        "mu_test, sigma_test = predict(X_train, T_train, X_test, theta, beta, kernel)\n",
        "plot_result()"
      ],
      "id": "vzKRYK1vl95V",
      "execution_count": null,
      "outputs": []
    },
    {
      "cell_type": "markdown",
      "metadata": {
        "id": "v5GGSZW2mBTT"
      },
      "source": [
        "### Линейная ковариационная функция"
      ],
      "id": "v5GGSZW2mBTT"
    },
    {
      "cell_type": "code",
      "metadata": {
        "id": "CGTi0FcMmGQ-"
      },
      "source": [
        "kernel = linear_k\n",
        "mu_test, sigma_test = predict(X_train, T_train, X_test, theta, beta, kernel)\n",
        "plot_result()"
      ],
      "id": "CGTi0FcMmGQ-",
      "execution_count": null,
      "outputs": []
    },
    {
      "cell_type": "markdown",
      "metadata": {
        "id": "st_U3NmymIvW"
      },
      "source": [
        "### Процесс Орнштейна-Уленбека"
      ],
      "id": "st_U3NmymIvW"
    },
    {
      "cell_type": "code",
      "metadata": {
        "id": "GRyMxgfhmL_K"
      },
      "source": [
        "kernel = ou_k\n",
        "mu_test, sigma_test = predict(X_train, T_train, X_test, theta, beta, kernel)\n",
        "plot_result()"
      ],
      "id": "GRyMxgfhmL_K",
      "execution_count": null,
      "outputs": []
    },
    {
      "cell_type": "markdown",
      "metadata": {
        "id": "gnWaEBVEmO6Z"
      },
      "source": [
        "Посмотрим как ведёт себя регрессия для разных значений $\\beta$"
      ],
      "id": "gnWaEBVEmO6Z"
    },
    {
      "cell_type": "code",
      "metadata": {
        "id": "V-XHUw5zmRKn"
      },
      "source": [
        "plt.figure(figsize=(15,5))\n",
        "plt.subplot(121)\n",
        "plt.title('beta=100')\n",
        "theta = np.array([1.0])\n",
        "beta = 100.0\n",
        "kernel = rbf_k\n",
        "mu_test, sigma_test = predict(X_train, T_train, X_test, theta, beta, kernel)\n",
        "plot_result()\n",
        "plt.subplot(122)\n",
        "plt.title('beta=1')\n",
        "theta = np.array([1.0])\n",
        "beta = 1.0\n",
        "kernel = rbf_k\n",
        "mu_test, sigma_test = predict(X_train, T_train, X_test, theta, beta, kernel)\n",
        "plot_result()"
      ],
      "id": "V-XHUw5zmRKn",
      "execution_count": null,
      "outputs": []
    }
  ]
}