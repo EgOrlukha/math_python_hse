{
  "nbformat": 4,
  "nbformat_minor": 0,
  "metadata": {
    "colab": {
      "name": "ДЗ №3.2: numpy",
      "provenance": [],
      "collapsed_sections": [],
      "authorship_tag": "ABX9TyPPNHVIkN+gcIi5Is404Xuq",
      "include_colab_link": true
    },
    "kernelspec": {
      "name": "python3",
      "display_name": "Python 3"
    },
    "language_info": {
      "name": "python"
    }
  },
  "cells": [
    {
      "cell_type": "markdown",
      "metadata": {
        "id": "view-in-github",
        "colab_type": "text"
      },
      "source": [
        "<a href=\"https://colab.research.google.com/github/svdcvt/math_python_hse/blob/master/fall-2021/homeworks/homework-3-2.ipynb\" target=\"_parent\"><img src=\"https://colab.research.google.com/assets/colab-badge.svg\" alt=\"Open In Colab\"/></a>"
      ]
    },
    {
      "cell_type": "markdown",
      "metadata": {
        "id": "J5ijeF9oC8Xr"
      },
      "source": [
        "# Домашнее задание №3, часть 2: Математика. Numpy + Scipy."
      ]
    },
    {
      "cell_type": "code",
      "metadata": {
        "id": "p5EYGICaC3h8"
      },
      "source": [
        ""
      ],
      "execution_count": null,
      "outputs": []
    },
    {
      "cell_type": "code",
      "metadata": {
        "id": "OR_65bHUC8Mu"
      },
      "source": [
        ""
      ],
      "execution_count": null,
      "outputs": []
    },
    {
      "cell_type": "code",
      "metadata": {
        "id": "a1gJ1GJTC8Jq"
      },
      "source": [
        ""
      ],
      "execution_count": null,
      "outputs": []
    },
    {
      "cell_type": "markdown",
      "metadata": {
        "id": "f1qFMhD-DB4j"
      },
      "source": [
        "Черновик."
      ]
    }
  ]
}