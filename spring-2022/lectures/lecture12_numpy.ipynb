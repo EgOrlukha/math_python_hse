{
  "nbformat": 4,
  "nbformat_minor": 0,
  "metadata": {
    "colab": {
      "name": "lecture12_numpy",
      "provenance": [],
      "collapsed_sections": [],
      "include_colab_link": true
    },
    "kernelspec": {
      "name": "python3",
      "display_name": "Python 3"
    }
  },
  "cells": [
    {
      "cell_type": "markdown",
      "metadata": {
        "id": "view-in-github",
        "colab_type": "text"
      },
      "source": [
        "<a href=\"https://colab.research.google.com/github/svdcvt/math_python_hse/blob/master/fall-2021/lectures/lecture12_numpy.ipynb\" target=\"_parent\"><img src=\"https://colab.research.google.com/assets/colab-badge.svg\" alt=\"Open In Colab\"/></a>"
      ]
    },
    {
      "cell_type": "markdown",
      "metadata": {
        "id": "KOeTaqunsATe"
      },
      "source": [
        "# Занятие 12: NumPy - Numerical Python\n",
        "\n",
        "[[МИНИКОНТЕСТ]] (ссылка будет)\n",
        "\n",
        "Открывайте семинар в Colab-е (кнопка выше, Open in Colab), после чего для изменения ноутбука необходимо нажать \"Copy to Drive\"."
      ]
    },
    {
      "cell_type": "markdown",
      "metadata": {
        "id": "GCTtMn7RSC4k"
      },
      "source": [
        "## NumPy\n",
        "\n",
        "**NumPy** — библиотека языка Python, позволяющая (удобно) работать с многомерными массивами и матрицами. Кроме того, NumPy позволяет векторизовать многие вычисления, имеющие место в машинном обучении.\n",
        "\n",
        " - [numpy](http://www.numpy.org)\n",
        " - [numpy tutorial](http://cs231n.github.io/python-numpy-tutorial/)\n",
        " - [100 numpy exercises](http://www.labri.fr/perso/nrougier/teaching/numpy.100/)\n",
        " \n",
        "Кстати, про NumPy недавно вышла [публикация](https://www.nature.com/articles/s41586-020-2649-2) в Nature."
      ]
    },
    {
      "cell_type": "code",
      "metadata": {
        "id": "-WoasyadsN_P",
        "colab": {
          "base_uri": "https://localhost:8080/"
        },
        "outputId": "74c4985d-20ac-4b33-d7b7-73b1df637e22"
      },
      "source": [
        "!pip3 install numpy \n",
        "# так устанавливаются библиотеки если бы мы работали локально на собственных компьютерах\n",
        "# но в Colab-e это не нужно, большинство библиотек тут уже предустановлено"
      ],
      "execution_count": 1,
      "outputs": [
        {
          "output_type": "stream",
          "name": "stdout",
          "text": [
            "Requirement already satisfied: numpy in /usr/local/lib/python3.7/dist-packages (1.19.5)\n"
          ]
        }
      ]
    },
    {
      "cell_type": "code",
      "metadata": {
        "id": "HySnaagqsExm"
      },
      "source": [
        "import numpy as np \n",
        "# переименовываем то, как к нему кратко обращаться, \n",
        "# чтобы использовать его функции и методы (так можно сделать с любым модулем)"
      ],
      "execution_count": 2,
      "outputs": []
    },
    {
      "cell_type": "markdown",
      "metadata": {
        "id": "87SGO1xu75Kn"
      },
      "source": [
        "Основным типом данных NumPy является многомерный массив элементов одного типа — [numpy.ndarray](http://docs.scipy.org/doc/numpy-1.10.0/reference/generated/numpy.array.html). Каждый подобный массив имеет несколько *измерений* или *осей* — в частности, вектор (в классическом понимании) является одномерным массивом и имеет 1 ось, матрица является двумерным массивом и имеет 2 оси. Многомерные массивы имеют 3 и более осей (например, тензоры)."
      ]
    },
    {
      "cell_type": "code",
      "metadata": {
        "ExecuteTime": {
          "end_time": "2020-09-22T15:42:51.842022Z",
          "start_time": "2020-09-22T15:42:51.830534Z"
        },
        "id": "dEPCJPvj75Ko",
        "colab": {
          "base_uri": "https://localhost:8080/"
        },
        "outputId": "9cd9b8f2-9de5-4734-c76e-7882c1cb6330"
      },
      "source": [
        "vec = np.array([1, 2, 3])\n",
        "vec.ndim # количество осей"
      ],
      "execution_count": 3,
      "outputs": [
        {
          "output_type": "execute_result",
          "data": {
            "text/plain": [
              "1"
            ]
          },
          "metadata": {},
          "execution_count": 3
        }
      ]
    },
    {
      "cell_type": "code",
      "metadata": {
        "id": "8lIVuackSBcu",
        "colab": {
          "base_uri": "https://localhost:8080/"
        },
        "outputId": "61a6f416-f6d1-4bbf-c784-936b7d2c6383"
      },
      "source": [
        "# можно указать желаемый тип\n",
        "vec_str = np.array([10, 100, 10000, 1], dtype=str)\n",
        "print(vec_str)\n",
        "vec_str[0] = 1000000 \n",
        "# заметьте как мы обновляем элемент числом, но в массиве он становится строкой, так как у массива мы указали тип элементов\n",
        "print(vec_str)"
      ],
      "execution_count": 4,
      "outputs": [
        {
          "output_type": "stream",
          "name": "stdout",
          "text": [
            "['10' '100' '10000' '1']\n",
            "['10000' '100' '10000' '1']\n"
          ]
        }
      ]
    },
    {
      "cell_type": "code",
      "metadata": {
        "ExecuteTime": {
          "end_time": "2020-09-22T15:42:51.848899Z",
          "start_time": "2020-09-22T15:42:51.844661Z"
        },
        "id": "YUod9A9M75Kr",
        "colab": {
          "base_uri": "https://localhost:8080/"
        },
        "outputId": "0eb8d95e-0a6f-406e-f8ea-3bb2d983e59c"
      },
      "source": [
        "mat = np.array([[1, 2, 3], [4, 5, 6]])\n",
        "mat.ndim"
      ],
      "execution_count": 5,
      "outputs": [
        {
          "output_type": "execute_result",
          "data": {
            "text/plain": [
              "2"
            ]
          },
          "metadata": {},
          "execution_count": 5
        }
      ]
    },
    {
      "cell_type": "markdown",
      "metadata": {
        "id": "c6dP6sVO75Ks"
      },
      "source": [
        "Чтобы узнать длину массива по каждой из осей, можно воспользоваться атрибутом shape:"
      ]
    },
    {
      "cell_type": "code",
      "metadata": {
        "ExecuteTime": {
          "end_time": "2020-09-22T15:42:51.854991Z",
          "start_time": "2020-09-22T15:42:51.851142Z"
        },
        "id": "Acji2K1H75Ku",
        "colab": {
          "base_uri": "https://localhost:8080/"
        },
        "outputId": "8d0e5d4a-ff04-4b6e-d20c-a3a888d7b3c3"
      },
      "source": [
        "vec.shape"
      ],
      "execution_count": 6,
      "outputs": [
        {
          "output_type": "execute_result",
          "data": {
            "text/plain": [
              "(3,)"
            ]
          },
          "metadata": {},
          "execution_count": 6
        }
      ]
    },
    {
      "cell_type": "markdown",
      "metadata": {
        "id": "XE9AV5fH75Kv"
      },
      "source": [
        "Чтобы узнать тип элементов и их размер в байтах:"
      ]
    },
    {
      "cell_type": "code",
      "metadata": {
        "ExecuteTime": {
          "end_time": "2020-09-22T15:42:51.865162Z",
          "start_time": "2020-09-22T15:42:51.857049Z"
        },
        "id": "bCetJrj475Kx",
        "colab": {
          "base_uri": "https://localhost:8080/",
          "height": 35
        },
        "outputId": "f8a672d8-2262-41cb-91d0-29200ff34704"
      },
      "source": [
        "mat.dtype.name"
      ],
      "execution_count": 7,
      "outputs": [
        {
          "output_type": "execute_result",
          "data": {
            "application/vnd.google.colaboratory.intrinsic+json": {
              "type": "string"
            },
            "text/plain": [
              "'int64'"
            ]
          },
          "metadata": {},
          "execution_count": 7
        }
      ]
    },
    {
      "cell_type": "code",
      "metadata": {
        "ExecuteTime": {
          "end_time": "2020-09-22T15:42:51.871563Z",
          "start_time": "2020-09-22T15:42:51.867576Z"
        },
        "id": "dSiRWiFG75Ky",
        "colab": {
          "base_uri": "https://localhost:8080/"
        },
        "outputId": "00d4218d-c3cb-404c-b4ac-062402538d75"
      },
      "source": [
        "mat.itemsize"
      ],
      "execution_count": 8,
      "outputs": [
        {
          "output_type": "execute_result",
          "data": {
            "text/plain": [
              "8"
            ]
          },
          "metadata": {},
          "execution_count": 8
        }
      ]
    },
    {
      "cell_type": "code",
      "metadata": {
        "id": "87ZSy_7ySAyb",
        "colab": {
          "base_uri": "https://localhost:8080/"
        },
        "outputId": "0f895b02-375e-47d3-da99-6f9ae6932c45"
      },
      "source": [
        "# многомерные массивы\n",
        "tens = np.array([[[1, 2], [3, 4]], [[1, 2], [3, 4]]]) \n",
        "print(tens, tens.ndim, tens.shape, sep='\\n')"
      ],
      "execution_count": 9,
      "outputs": [
        {
          "output_type": "stream",
          "name": "stdout",
          "text": [
            "[[[1 2]\n",
            "  [3 4]]\n",
            "\n",
            " [[1 2]\n",
            "  [3 4]]]\n",
            "3\n",
            "(2, 2, 2)\n"
          ]
        }
      ]
    },
    {
      "cell_type": "code",
      "metadata": {
        "id": "I4cXFB7ZF4R6"
      },
      "source": [
        ""
      ],
      "execution_count": 9,
      "outputs": []
    },
    {
      "cell_type": "markdown",
      "metadata": {
        "id": "ASYWBsFc75Kz"
      },
      "source": [
        "#### Создание массивов\n",
        "\n",
        "Есть несколько способов сформировать массив в NumPy:\n",
        "\n",
        "* Передать итерируемый объект в качестве параметра функции array (можно также явно указать тип элементов):"
      ]
    },
    {
      "cell_type": "code",
      "metadata": {
        "ExecuteTime": {
          "end_time": "2020-09-22T15:42:51.878946Z",
          "start_time": "2020-09-22T15:42:51.874042Z"
        },
        "id": "sIqY0vYU75K0",
        "colab": {
          "base_uri": "https://localhost:8080/"
        },
        "outputId": "55ea3007-b889-49c6-dbe8-2fb10fc3ae58"
      },
      "source": [
        "A = np.array([1, 2, 3])\n",
        "A, A.dtype"
      ],
      "execution_count": 10,
      "outputs": [
        {
          "output_type": "execute_result",
          "data": {
            "text/plain": [
              "(array([1, 2, 3]), dtype('int64'))"
            ]
          },
          "metadata": {},
          "execution_count": 10
        }
      ]
    },
    {
      "cell_type": "code",
      "metadata": {
        "ExecuteTime": {
          "end_time": "2020-09-22T15:42:51.887234Z",
          "start_time": "2020-09-22T15:42:51.882620Z"
        },
        "id": "ms0O0p_K75K0",
        "colab": {
          "base_uri": "https://localhost:8080/"
        },
        "outputId": "59cc0f7f-5543-49c1-d129-ec179f009231"
      },
      "source": [
        "A = np.array([1, 2, 3], dtype=float)\n",
        "A, A.dtype"
      ],
      "execution_count": 11,
      "outputs": [
        {
          "output_type": "execute_result",
          "data": {
            "text/plain": [
              "(array([1., 2., 3.]), dtype('float64'))"
            ]
          },
          "metadata": {},
          "execution_count": 11
        }
      ]
    },
    {
      "cell_type": "markdown",
      "metadata": {
        "id": "hKk_L5-c75K1"
      },
      "source": [
        "* Воспользоваться функциями zeros, ones, empty, identity, full если вам нужен объект специального вида:"
      ]
    },
    {
      "cell_type": "code",
      "metadata": {
        "ExecuteTime": {
          "end_time": "2020-09-22T15:42:51.893393Z",
          "start_time": "2020-09-22T15:42:51.889888Z"
        },
        "id": "GaQ9LLjn75K2",
        "colab": {
          "base_uri": "https://localhost:8080/"
        },
        "outputId": "2ab71c9a-8460-46a6-bd7e-8117a189d14c"
      },
      "source": [
        "np.zeros((3,))"
      ],
      "execution_count": 12,
      "outputs": [
        {
          "output_type": "execute_result",
          "data": {
            "text/plain": [
              "array([0., 0., 0.])"
            ]
          },
          "metadata": {},
          "execution_count": 12
        }
      ]
    },
    {
      "cell_type": "code",
      "metadata": {
        "ExecuteTime": {
          "end_time": "2020-09-22T15:42:51.898550Z",
          "start_time": "2020-09-22T15:42:51.894863Z"
        },
        "id": "7UAhhrEp75K2",
        "colab": {
          "base_uri": "https://localhost:8080/"
        },
        "outputId": "d3f6ba89-6077-429e-b50c-75c75ab0dcf1"
      },
      "source": [
        "np.ones((3, 4))"
      ],
      "execution_count": 13,
      "outputs": [
        {
          "output_type": "execute_result",
          "data": {
            "text/plain": [
              "array([[1., 1., 1., 1.],\n",
              "       [1., 1., 1., 1.],\n",
              "       [1., 1., 1., 1.]])"
            ]
          },
          "metadata": {},
          "execution_count": 13
        }
      ]
    },
    {
      "cell_type": "code",
      "metadata": {
        "colab": {
          "base_uri": "https://localhost:8080/"
        },
        "id": "J4uWF_WzGjFv",
        "outputId": "6be06ad8-855d-415e-9a7a-ad71d039561a"
      },
      "source": [
        "np.empty((2,3)) \n",
        "# заполняется \"какими-то\" числами, предполагается использовать \n",
        "# такой массив, чтобы потом туда вставлять необходимые значения"
      ],
      "execution_count": 14,
      "outputs": [
        {
          "output_type": "execute_result",
          "data": {
            "text/plain": [
              "array([[4.68322634e-310, 0.00000000e+000, 0.00000000e+000],\n",
              "       [0.00000000e+000, 0.00000000e+000, 0.00000000e+000]])"
            ]
          },
          "metadata": {},
          "execution_count": 14
        }
      ]
    },
    {
      "cell_type": "code",
      "metadata": {
        "ExecuteTime": {
          "end_time": "2020-09-22T15:42:51.903530Z",
          "start_time": "2020-09-22T15:42:51.900141Z"
        },
        "id": "awsq8Hhj75K3",
        "colab": {
          "base_uri": "https://localhost:8080/"
        },
        "outputId": "8d35065e-15d6-452f-bef4-9f03d5742a20"
      },
      "source": [
        "np.identity(3)"
      ],
      "execution_count": 15,
      "outputs": [
        {
          "output_type": "execute_result",
          "data": {
            "text/plain": [
              "array([[1., 0., 0.],\n",
              "       [0., 1., 0.],\n",
              "       [0., 0., 1.]])"
            ]
          },
          "metadata": {},
          "execution_count": 15
        }
      ]
    },
    {
      "cell_type": "code",
      "metadata": {
        "colab": {
          "base_uri": "https://localhost:8080/"
        },
        "id": "ItrU9opvGXuO",
        "outputId": "86bb01ef-e01c-4219-d456-c6bfd086c754"
      },
      "source": [
        "np.full((2,3,4), 8)"
      ],
      "execution_count": 16,
      "outputs": [
        {
          "output_type": "execute_result",
          "data": {
            "text/plain": [
              "array([[[8, 8, 8, 8],\n",
              "        [8, 8, 8, 8],\n",
              "        [8, 8, 8, 8]],\n",
              "\n",
              "       [[8, 8, 8, 8],\n",
              "        [8, 8, 8, 8],\n",
              "        [8, 8, 8, 8]]])"
            ]
          },
          "metadata": {},
          "execution_count": 16
        }
      ]
    },
    {
      "cell_type": "markdown",
      "metadata": {
        "id": "Se-Oj-UU75K4"
      },
      "source": [
        "* Воспользоваться функциями arange (в качестве параметров принимает левую и правую границы последовательности и **шаг**) и linspace (принимает левую и правую границы и **количество элементов**) для формирования последовательностей:"
      ]
    },
    {
      "cell_type": "code",
      "metadata": {
        "ExecuteTime": {
          "end_time": "2020-09-22T15:42:51.908583Z",
          "start_time": "2020-09-22T15:42:51.905271Z"
        },
        "id": "i48B8JuL75K4",
        "colab": {
          "base_uri": "https://localhost:8080/"
        },
        "outputId": "61c9614a-3fc5-4523-dbde-828a368bd03d"
      },
      "source": [
        "np.arange(2, 20, 3) # аналогично стандартной функции range python, правая граница не включается"
      ],
      "execution_count": 17,
      "outputs": [
        {
          "output_type": "execute_result",
          "data": {
            "text/plain": [
              "array([ 2,  5,  8, 11, 14, 17])"
            ]
          },
          "metadata": {},
          "execution_count": 17
        }
      ]
    },
    {
      "cell_type": "code",
      "metadata": {
        "ExecuteTime": {
          "end_time": "2020-09-22T15:42:51.913731Z",
          "start_time": "2020-09-22T15:42:51.910114Z"
        },
        "id": "VK1zHoQA75K6",
        "colab": {
          "base_uri": "https://localhost:8080/"
        },
        "outputId": "626abd82-7b30-4a71-c7e6-5e0abf94fe13"
      },
      "source": [
        "np.arange(2.5, 8.7, 0.9) # но может работать и с вещественными числами"
      ],
      "execution_count": 18,
      "outputs": [
        {
          "output_type": "execute_result",
          "data": {
            "text/plain": [
              "array([2.5, 3.4, 4.3, 5.2, 6.1, 7. , 7.9])"
            ]
          },
          "metadata": {},
          "execution_count": 18
        }
      ]
    },
    {
      "cell_type": "code",
      "metadata": {
        "ExecuteTime": {
          "end_time": "2020-09-22T15:42:51.918947Z",
          "start_time": "2020-09-22T15:42:51.915578Z"
        },
        "id": "ZyAmksPm75K6",
        "colab": {
          "base_uri": "https://localhost:8080/"
        },
        "outputId": "01856454-865a-486d-b487-ac914768f0f6"
      },
      "source": [
        "np.linspace(2, 18, 14) # правая граница включается (по умолчанию)"
      ],
      "execution_count": 19,
      "outputs": [
        {
          "output_type": "execute_result",
          "data": {
            "text/plain": [
              "array([ 2.        ,  3.23076923,  4.46153846,  5.69230769,  6.92307692,\n",
              "        8.15384615,  9.38461538, 10.61538462, 11.84615385, 13.07692308,\n",
              "       14.30769231, 15.53846154, 16.76923077, 18.        ])"
            ]
          },
          "metadata": {},
          "execution_count": 19
        }
      ]
    },
    {
      "cell_type": "markdown",
      "metadata": {
        "id": "fbVS5Zjh75K7"
      },
      "source": [
        "* Изменить размеры существующего массива с помощью reshape (при этом количество элементов должно оставаться неизменным):"
      ]
    },
    {
      "cell_type": "code",
      "metadata": {
        "ExecuteTime": {
          "end_time": "2020-09-22T15:42:51.923959Z",
          "start_time": "2020-09-22T15:42:51.920505Z"
        },
        "id": "8uEafzkx75K8",
        "colab": {
          "base_uri": "https://localhost:8080/"
        },
        "outputId": "5c5dcd02-de6a-4af5-e2e5-0e273ad99a23"
      },
      "source": [
        "np.arange(9).reshape(3, 3)"
      ],
      "execution_count": 20,
      "outputs": [
        {
          "output_type": "execute_result",
          "data": {
            "text/plain": [
              "array([[0, 1, 2],\n",
              "       [3, 4, 5],\n",
              "       [6, 7, 8]])"
            ]
          },
          "metadata": {},
          "execution_count": 20
        }
      ]
    },
    {
      "cell_type": "markdown",
      "metadata": {
        "id": "w6c0T5QM75K8"
      },
      "source": [
        "Вместо значения длины массива по одному из измерений можно указать -1 — в этом случае значение будет рассчитано автоматически:"
      ]
    },
    {
      "cell_type": "code",
      "metadata": {
        "ExecuteTime": {
          "end_time": "2020-09-22T15:42:51.929133Z",
          "start_time": "2020-09-22T15:42:51.925453Z"
        },
        "scrolled": false,
        "id": "h-PmgvOK75K9",
        "colab": {
          "base_uri": "https://localhost:8080/"
        },
        "outputId": "231703f4-08be-4c70-ad95-485d00d7840d"
      },
      "source": [
        "np.arange(8).reshape(2, -1)"
      ],
      "execution_count": 21,
      "outputs": [
        {
          "output_type": "execute_result",
          "data": {
            "text/plain": [
              "array([[0, 1, 2, 3],\n",
              "       [4, 5, 6, 7]])"
            ]
          },
          "metadata": {},
          "execution_count": 21
        }
      ]
    },
    {
      "cell_type": "markdown",
      "metadata": {
        "id": "bhZdFcvk75K-"
      },
      "source": [
        "* Транспонировать существующий массив:"
      ]
    },
    {
      "cell_type": "code",
      "metadata": {
        "ExecuteTime": {
          "end_time": "2020-09-22T15:42:51.933803Z",
          "start_time": "2020-09-22T15:42:51.930599Z"
        },
        "id": "KJT0ZBNu75K-",
        "colab": {
          "base_uri": "https://localhost:8080/"
        },
        "outputId": "a33233a1-1020-412c-dfff-a019ccf7d304"
      },
      "source": [
        "C = np.arange(6).reshape(2, -1)\n",
        "C"
      ],
      "execution_count": 22,
      "outputs": [
        {
          "output_type": "execute_result",
          "data": {
            "text/plain": [
              "array([[0, 1, 2],\n",
              "       [3, 4, 5]])"
            ]
          },
          "metadata": {},
          "execution_count": 22
        }
      ]
    },
    {
      "cell_type": "code",
      "metadata": {
        "ExecuteTime": {
          "end_time": "2020-09-22T15:42:51.938143Z",
          "start_time": "2020-09-22T15:42:51.935159Z"
        },
        "id": "NRVpdWnv75K_",
        "colab": {
          "base_uri": "https://localhost:8080/"
        },
        "outputId": "f24bbfdb-f4fa-4ef6-b73b-2d92049540aa"
      },
      "source": [
        "C.T"
      ],
      "execution_count": 23,
      "outputs": [
        {
          "output_type": "execute_result",
          "data": {
            "text/plain": [
              "array([[0, 3],\n",
              "       [1, 4],\n",
              "       [2, 5]])"
            ]
          },
          "metadata": {},
          "execution_count": 23
        }
      ]
    },
    {
      "cell_type": "markdown",
      "metadata": {
        "id": "T_9bu8uz75K_"
      },
      "source": [
        "* Повторить существующий массив:"
      ]
    },
    {
      "cell_type": "code",
      "metadata": {
        "ExecuteTime": {
          "end_time": "2020-09-22T15:42:51.943090Z",
          "start_time": "2020-09-22T15:42:51.939583Z"
        },
        "id": "teuazoqO75LA",
        "colab": {
          "base_uri": "https://localhost:8080/"
        },
        "outputId": "6ba90f31-2057-48e6-814e-9569129df800"
      },
      "source": [
        "a = np.arange(3)\n",
        "np.tile(a, (2, 2))"
      ],
      "execution_count": 24,
      "outputs": [
        {
          "output_type": "execute_result",
          "data": {
            "text/plain": [
              "array([[0, 1, 2, 0, 1, 2],\n",
              "       [0, 1, 2, 0, 1, 2]])"
            ]
          },
          "metadata": {},
          "execution_count": 24
        }
      ]
    },
    {
      "cell_type": "code",
      "metadata": {
        "ExecuteTime": {
          "end_time": "2020-09-22T15:42:51.947733Z",
          "start_time": "2020-09-22T15:42:51.944564Z"
        },
        "id": "MXUjzhs275LA",
        "colab": {
          "base_uri": "https://localhost:8080/"
        },
        "outputId": "28d54acd-294b-4ca8-e68a-d50379daedbd"
      },
      "source": [
        "np.tile(a, (4, 1))"
      ],
      "execution_count": 25,
      "outputs": [
        {
          "output_type": "execute_result",
          "data": {
            "text/plain": [
              "array([[0, 1, 2],\n",
              "       [0, 1, 2],\n",
              "       [0, 1, 2],\n",
              "       [0, 1, 2]])"
            ]
          },
          "metadata": {},
          "execution_count": 25
        }
      ]
    },
    {
      "cell_type": "markdown",
      "metadata": {
        "id": "seggaOv4F95f"
      },
      "source": [
        "- Превратить многомерный массив в вектор:"
      ]
    },
    {
      "cell_type": "code",
      "metadata": {
        "id": "LJDq6quqjnoo",
        "colab": {
          "base_uri": "https://localhost:8080/"
        },
        "outputId": "4d50d757-c427-4013-e509-94039c87f5c2"
      },
      "source": [
        "tens = np.arange(8).reshape(2,2,2)\n",
        "line = tens.flatten()\n",
        "tens.shape, line, line.shape"
      ],
      "execution_count": 26,
      "outputs": [
        {
          "output_type": "execute_result",
          "data": {
            "text/plain": [
              "((2, 2, 2), array([0, 1, 2, 3, 4, 5, 6, 7]), (8,))"
            ]
          },
          "metadata": {},
          "execution_count": 26
        }
      ]
    },
    {
      "cell_type": "markdown",
      "metadata": {
        "id": "x8CHDyJtecMB"
      },
      "source": [
        "* С помощью функции ```np.logspace``` создать массив из равноудаленных элементов в логарифмической шкале"
      ]
    },
    {
      "cell_type": "code",
      "metadata": {
        "id": "C49be3ueeci3",
        "colab": {
          "base_uri": "https://localhost:8080/"
        },
        "outputId": "e474bca9-d685-4244-aed0-2cf3e128292d"
      },
      "source": [
        "np.logspace(2, 5, num=10, base=2, dtype=int) # 10 ~равноудаленных целых чисел от 2^2 до 5^2"
      ],
      "execution_count": 27,
      "outputs": [
        {
          "output_type": "execute_result",
          "data": {
            "text/plain": [
              "array([ 4,  5,  6,  8, 10, 12, 16, 20, 25, 32])"
            ]
          },
          "metadata": {},
          "execution_count": 27
        }
      ]
    },
    {
      "cell_type": "markdown",
      "metadata": {
        "id": "DRL6CfrNfLUq"
      },
      "source": [
        "* С помощью функции ``np.linspace`` создать массив из равноудаленных элементов в линейной шкале"
      ]
    },
    {
      "cell_type": "code",
      "metadata": {
        "id": "f2Bk2YCRfL__",
        "colab": {
          "base_uri": "https://localhost:8080/"
        },
        "outputId": "cedad11f-cad0-4f38-ddbe-dd215808cc87"
      },
      "source": [
        "np.linspace(10, 100, 3)"
      ],
      "execution_count": 28,
      "outputs": [
        {
          "output_type": "execute_result",
          "data": {
            "text/plain": [
              "array([ 10.,  55., 100.])"
            ]
          },
          "metadata": {},
          "execution_count": 28
        }
      ]
    },
    {
      "cell_type": "markdown",
      "metadata": {
        "id": "0irRkXWjgXrO"
      },
      "source": [
        "#### Random\n",
        "[Сабмодуль ```np.random```](https://docs.scipy.org/doc/numpy-1.14.1/reference/routines.random.html) позволяет создавать массивы с элементами из вероятностных распределений. Создадим следующие массивы:\n",
        "1. Массив из 10 случайных чисел из $U([0,1))$ (равномерное распределение на полуотрезке [0, 1))\n",
        "2. Массив 3х5 случайных чисел из $\\mathcal{N}(0,1)$ (стандартное нормальное распределение)\n",
        "3. Массив из случайных целых чисел от 0 до 10 размером 15\n",
        "4. Массив из случайной подвыборки чисел от 0 до 20 размером 15 (то же что 3, но без повторений)\n"
      ]
    },
    {
      "cell_type": "code",
      "metadata": {
        "id": "1G4Car37gYVx",
        "colab": {
          "base_uri": "https://localhost:8080/"
        },
        "outputId": "4019a60b-7beb-4d9d-cbcd-ded17d1873ad"
      },
      "source": [
        "np.random.random((10,))"
      ],
      "execution_count": 29,
      "outputs": [
        {
          "output_type": "execute_result",
          "data": {
            "text/plain": [
              "array([0.91344625, 0.78553141, 0.31816434, 0.24766274, 0.24974419,\n",
              "       0.11683865, 0.64282884, 0.15480234, 0.95510027, 0.69998443])"
            ]
          },
          "metadata": {},
          "execution_count": 29
        }
      ]
    },
    {
      "cell_type": "code",
      "metadata": {
        "id": "ILQ2OuSmhnR_",
        "colab": {
          "base_uri": "https://localhost:8080/"
        },
        "outputId": "02aa8112-25ee-4bd9-f2bf-9812d8674c61"
      },
      "source": [
        "np.random.randn(3, 5)"
      ],
      "execution_count": 30,
      "outputs": [
        {
          "output_type": "execute_result",
          "data": {
            "text/plain": [
              "array([[ 1.94021118,  0.72173454,  0.33248904,  1.83883023, -0.29660131],\n",
              "       [-1.27443508,  1.45896927,  0.15923024, -1.10374704, -0.15707214],\n",
              "       [-0.70376166, -0.13594343, -1.83101006,  0.71909441, -2.08166674]])"
            ]
          },
          "metadata": {},
          "execution_count": 30
        }
      ]
    },
    {
      "cell_type": "code",
      "metadata": {
        "id": "MecrbyDRhnJp",
        "colab": {
          "base_uri": "https://localhost:8080/"
        },
        "outputId": "e5a26677-a076-4a80-93f3-064d6f656957"
      },
      "source": [
        "np.random.randint(0, 10, size=(15,))"
      ],
      "execution_count": 31,
      "outputs": [
        {
          "output_type": "execute_result",
          "data": {
            "text/plain": [
              "array([6, 8, 2, 2, 4, 2, 2, 2, 8, 4, 7, 2, 4, 9, 3])"
            ]
          },
          "metadata": {},
          "execution_count": 31
        }
      ]
    },
    {
      "cell_type": "code",
      "metadata": {
        "id": "9Y8CNIzLhm-e",
        "colab": {
          "base_uri": "https://localhost:8080/"
        },
        "outputId": "245b51c3-0020-4315-f05b-5b3eb7c251b2"
      },
      "source": [
        "np.random.choice(np.arange(0, 20), size=(15,), replace=False)"
      ],
      "execution_count": 32,
      "outputs": [
        {
          "output_type": "execute_result",
          "data": {
            "text/plain": [
              "array([15, 10,  3,  4,  8, 19, 13,  7,  1,  6, 11, 17, 14, 12,  5])"
            ]
          },
          "metadata": {},
          "execution_count": 32
        }
      ]
    },
    {
      "cell_type": "markdown",
      "metadata": {
        "id": "GF_jUmBAJaIH"
      },
      "source": [
        "### Обработка массивов"
      ]
    },
    {
      "cell_type": "markdown",
      "metadata": {
        "id": "HKt5nUDk_nmO"
      },
      "source": [
        "С помощью `np.where` для случайного вектора вернем вектор, где отрицательные элементы заменены 0"
      ]
    },
    {
      "cell_type": "code",
      "metadata": {
        "id": "iLV3Lj1N_4Yk",
        "colab": {
          "base_uri": "https://localhost:8080/"
        },
        "outputId": "5636e644-3152-4b92-c93d-e6ecbdbad3b1"
      },
      "source": [
        "a = np.random.randn(5) * 4 - 1\n",
        "a, np.where(a > 0, a, 0) \n",
        "# также третьим аргументом можно подать массив того же размера, \n",
        "# тогда заменятся элементы не соответсвующие условию будут заменяться соответствующими занчениями"
      ],
      "execution_count": 33,
      "outputs": [
        {
          "output_type": "execute_result",
          "data": {
            "text/plain": [
              "(array([-2.17605305, -5.56577037,  2.23942859,  2.35054919, -1.75475266]),\n",
              " array([0.        , 0.        , 2.23942859, 2.35054919, 0.        ]))"
            ]
          },
          "metadata": {},
          "execution_count": 33
        }
      ]
    },
    {
      "cell_type": "markdown",
      "metadata": {
        "id": "JoV0STQ7_4yo"
      },
      "source": [
        "С помощью `np.clip` можно ограничить значения массива (снижу и/или сверху):"
      ]
    },
    {
      "cell_type": "code",
      "metadata": {
        "id": "Lq2qD0iYAnv3",
        "colab": {
          "base_uri": "https://localhost:8080/"
        },
        "outputId": "1d59d8c5-4ae2-49ed-e013-c3993d5a7c34"
      },
      "source": [
        "np.clip(a, 0, 1)"
      ],
      "execution_count": 34,
      "outputs": [
        {
          "output_type": "execute_result",
          "data": {
            "text/plain": [
              "array([0., 0., 1., 1., 0.])"
            ]
          },
          "metadata": {},
          "execution_count": 34
        }
      ]
    },
    {
      "cell_type": "markdown",
      "metadata": {
        "id": "go76xR1jBlI_"
      },
      "source": [
        "С помощью `np.vstack` и `np.hstack` можно \"стакать\" (stack - укладывать/накладывать друг на друга) массивы по вертикали и по горизонтали:"
      ]
    },
    {
      "cell_type": "code",
      "metadata": {
        "id": "Xh2KyYIRB7ph",
        "colab": {
          "base_uri": "https://localhost:8080/"
        },
        "outputId": "82ecf21b-320d-45b5-e3f0-0922f43d7caf"
      },
      "source": [
        "a, b = np.full((2, 3), 1), np.full((3, 2), 2)\n",
        "# тут важно чтобы одна из осей по которой мы стакаем у обоих массивов была одинаковая\n",
        "print(np.vstack([a, b.T]), '\\n')\n",
        "print(np.hstack([a.T, b]))"
      ],
      "execution_count": 35,
      "outputs": [
        {
          "output_type": "stream",
          "name": "stdout",
          "text": [
            "[[1 1 1]\n",
            " [1 1 1]\n",
            " [2 2 2]\n",
            " [2 2 2]] \n",
            "\n",
            "[[1 1 2 2]\n",
            " [1 1 2 2]\n",
            " [1 1 2 2]]\n"
          ]
        }
      ]
    },
    {
      "cell_type": "markdown",
      "metadata": {
        "id": "z6AFui8FB8Os"
      },
      "source": [
        "С помощью `np.unique` можно составить массив, в котором первый столбец - уникальные значения вектора, а второй столбец соответсвует тому сколько раз соответственный элемент первого столбца встретился в векторе"
      ]
    },
    {
      "cell_type": "code",
      "metadata": {
        "id": "1utpdSaQCd2i",
        "colab": {
          "base_uri": "https://localhost:8080/"
        },
        "outputId": "30a7fa6d-675a-4269-c9e5-90df83f9c61e"
      },
      "source": [
        "a = np.random.randint(-2, 2, 20)\n",
        "print(a, '\\n')\n",
        "elements, frequency = np.unique(a, return_counts=True)\n",
        "print(elements, '\\n')\n",
        "print(frequency)"
      ],
      "execution_count": 36,
      "outputs": [
        {
          "output_type": "stream",
          "name": "stdout",
          "text": [
            "[-2  0 -1 -2 -1 -1 -2  1  0  1 -2 -2 -1 -1 -1  0  0 -1  0 -2] \n",
            "\n",
            "[-2 -1  0  1] \n",
            "\n",
            "[6 7 5 2]\n"
          ]
        }
      ]
    },
    {
      "cell_type": "code",
      "metadata": {
        "id": "Zcf5MS1kSNrV"
      },
      "source": [
        ""
      ],
      "execution_count": 36,
      "outputs": []
    },
    {
      "cell_type": "markdown",
      "metadata": {
        "id": "pVVxPQc175LA"
      },
      "source": [
        "#### Базовые операции\n",
        "\n",
        "* Базовые арифметические операции над массивами выполняются поэлементно:"
      ]
    },
    {
      "cell_type": "code",
      "metadata": {
        "ExecuteTime": {
          "end_time": "2020-09-22T15:42:51.951681Z",
          "start_time": "2020-09-22T15:42:51.949257Z"
        },
        "id": "8v22zgh075LB"
      },
      "source": [
        "A = np.arange(9).reshape(3, 3)\n",
        "B = np.arange(1, 10).reshape(3, 3)"
      ],
      "execution_count": 37,
      "outputs": []
    },
    {
      "cell_type": "code",
      "metadata": {
        "ExecuteTime": {
          "end_time": "2020-09-22T15:42:51.957595Z",
          "start_time": "2020-09-22T15:42:51.954043Z"
        },
        "id": "-oSMH3BM75LB",
        "colab": {
          "base_uri": "https://localhost:8080/"
        },
        "outputId": "9700d372-2c41-47a1-9c3c-73da53cf0877"
      },
      "source": [
        "print(A)\n",
        "print(B)"
      ],
      "execution_count": 38,
      "outputs": [
        {
          "output_type": "stream",
          "name": "stdout",
          "text": [
            "[[0 1 2]\n",
            " [3 4 5]\n",
            " [6 7 8]]\n",
            "[[1 2 3]\n",
            " [4 5 6]\n",
            " [7 8 9]]\n"
          ]
        }
      ]
    },
    {
      "cell_type": "code",
      "metadata": {
        "ExecuteTime": {
          "end_time": "2020-09-22T15:42:51.964000Z",
          "start_time": "2020-09-22T15:42:51.960861Z"
        },
        "id": "JZExDGGe75LB",
        "colab": {
          "base_uri": "https://localhost:8080/"
        },
        "outputId": "34e09880-ee1c-4170-d7de-75511865fd3f"
      },
      "source": [
        "A + B"
      ],
      "execution_count": 39,
      "outputs": [
        {
          "output_type": "execute_result",
          "data": {
            "text/plain": [
              "array([[ 1,  3,  5],\n",
              "       [ 7,  9, 11],\n",
              "       [13, 15, 17]])"
            ]
          },
          "metadata": {},
          "execution_count": 39
        }
      ]
    },
    {
      "cell_type": "code",
      "metadata": {
        "ExecuteTime": {
          "end_time": "2020-09-22T15:42:51.969202Z",
          "start_time": "2020-09-22T15:42:51.966077Z"
        },
        "id": "BZ-NOFzw75LC",
        "colab": {
          "base_uri": "https://localhost:8080/"
        },
        "outputId": "a5653671-bc26-4b5f-8bd6-575a02014367"
      },
      "source": [
        "A * 1.0 / B"
      ],
      "execution_count": 40,
      "outputs": [
        {
          "output_type": "execute_result",
          "data": {
            "text/plain": [
              "array([[0.        , 0.5       , 0.66666667],\n",
              "       [0.75      , 0.8       , 0.83333333],\n",
              "       [0.85714286, 0.875     , 0.88888889]])"
            ]
          },
          "metadata": {},
          "execution_count": 40
        }
      ]
    },
    {
      "cell_type": "code",
      "metadata": {
        "ExecuteTime": {
          "end_time": "2020-09-22T15:42:51.974197Z",
          "start_time": "2020-09-22T15:42:51.970594Z"
        },
        "id": "XX451m3d75LC",
        "colab": {
          "base_uri": "https://localhost:8080/"
        },
        "outputId": "de8e2625-5031-4ffa-c2a8-8e5d05b3f0e7"
      },
      "source": [
        "A + 1"
      ],
      "execution_count": 41,
      "outputs": [
        {
          "output_type": "execute_result",
          "data": {
            "text/plain": [
              "array([[1, 2, 3],\n",
              "       [4, 5, 6],\n",
              "       [7, 8, 9]])"
            ]
          },
          "metadata": {},
          "execution_count": 41
        }
      ]
    },
    {
      "cell_type": "code",
      "metadata": {
        "ExecuteTime": {
          "end_time": "2020-09-22T15:42:51.978713Z",
          "start_time": "2020-09-22T15:42:51.975679Z"
        },
        "id": "6rhj3dLH75LD",
        "colab": {
          "base_uri": "https://localhost:8080/"
        },
        "outputId": "a857e0ac-04c1-40cb-d1ba-b17f72c2a276"
      },
      "source": [
        "3 * A"
      ],
      "execution_count": 42,
      "outputs": [
        {
          "output_type": "execute_result",
          "data": {
            "text/plain": [
              "array([[ 0,  3,  6],\n",
              "       [ 9, 12, 15],\n",
              "       [18, 21, 24]])"
            ]
          },
          "metadata": {},
          "execution_count": 42
        }
      ]
    },
    {
      "cell_type": "code",
      "metadata": {
        "ExecuteTime": {
          "end_time": "2020-09-22T15:42:51.983697Z",
          "start_time": "2020-09-22T15:42:51.980254Z"
        },
        "id": "m__lnlAm75LD",
        "colab": {
          "base_uri": "https://localhost:8080/"
        },
        "outputId": "faec04c4-3fc6-4489-b7c6-d53f8cdd35a8"
      },
      "source": [
        "A ** 2"
      ],
      "execution_count": 43,
      "outputs": [
        {
          "output_type": "execute_result",
          "data": {
            "text/plain": [
              "array([[ 0,  1,  4],\n",
              "       [ 9, 16, 25],\n",
              "       [36, 49, 64]])"
            ]
          },
          "metadata": {},
          "execution_count": 43
        }
      ]
    },
    {
      "cell_type": "markdown",
      "metadata": {
        "id": "Lfj2odFZ75LD"
      },
      "source": [
        "Отдельно обратим внимание на то, что умножение массивов также является **поэлементным**, а не матричным:"
      ]
    },
    {
      "cell_type": "code",
      "metadata": {
        "ExecuteTime": {
          "end_time": "2020-09-22T15:42:51.990640Z",
          "start_time": "2020-09-22T15:42:51.985073Z"
        },
        "id": "70jnWbF675LE",
        "colab": {
          "base_uri": "https://localhost:8080/"
        },
        "outputId": "789d48b3-2bf3-400c-8cb8-bfa11353eb35"
      },
      "source": [
        "A * B"
      ],
      "execution_count": 44,
      "outputs": [
        {
          "output_type": "execute_result",
          "data": {
            "text/plain": [
              "array([[ 0,  2,  6],\n",
              "       [12, 20, 30],\n",
              "       [42, 56, 72]])"
            ]
          },
          "metadata": {},
          "execution_count": 44
        }
      ]
    },
    {
      "cell_type": "markdown",
      "metadata": {
        "id": "9OuBl7dt75LE"
      },
      "source": [
        "Для выполнения матричного умножения необходимо использовать функцию dot:"
      ]
    },
    {
      "cell_type": "code",
      "metadata": {
        "ExecuteTime": {
          "end_time": "2020-09-22T15:42:51.995038Z",
          "start_time": "2020-09-22T15:42:51.991988Z"
        },
        "id": "RJ5kVHYd75LE",
        "colab": {
          "base_uri": "https://localhost:8080/"
        },
        "outputId": "6db8ab96-2a63-44bb-d1fa-7baf4eb86d1a"
      },
      "source": [
        "A.dot(B)"
      ],
      "execution_count": 45,
      "outputs": [
        {
          "output_type": "execute_result",
          "data": {
            "text/plain": [
              "array([[ 18,  21,  24],\n",
              "       [ 54,  66,  78],\n",
              "       [ 90, 111, 132]])"
            ]
          },
          "metadata": {},
          "execution_count": 45
        }
      ]
    },
    {
      "cell_type": "markdown",
      "metadata": {
        "id": "uJWhaRMW75LF"
      },
      "source": [
        "Для умножения векторов или матриц можно также использовать оператор `@`:"
      ]
    },
    {
      "cell_type": "code",
      "metadata": {
        "ExecuteTime": {
          "end_time": "2020-09-22T15:42:51.999446Z",
          "start_time": "2020-09-22T15:42:51.996579Z"
        },
        "id": "6DJoolBC75LF",
        "colab": {
          "base_uri": "https://localhost:8080/"
        },
        "outputId": "15572f32-439f-44e4-e469-bb7a907614cb"
      },
      "source": [
        "A @ B"
      ],
      "execution_count": 46,
      "outputs": [
        {
          "output_type": "execute_result",
          "data": {
            "text/plain": [
              "array([[ 18,  21,  24],\n",
              "       [ 54,  66,  78],\n",
              "       [ 90, 111, 132]])"
            ]
          },
          "metadata": {},
          "execution_count": 46
        }
      ]
    },
    {
      "cell_type": "code",
      "metadata": {
        "ExecuteTime": {
          "end_time": "2020-09-22T15:42:52.004093Z",
          "start_time": "2020-09-22T15:42:52.000788Z"
        },
        "id": "3zgK8XiK75LF",
        "colab": {
          "base_uri": "https://localhost:8080/"
        },
        "outputId": "e05ef44c-455c-4b9d-e389-9427b13567da"
      },
      "source": [
        "np.array([1, 2, 3, 4]) @ np.array([1, 1, 1, 1])"
      ],
      "execution_count": 47,
      "outputs": [
        {
          "output_type": "execute_result",
          "data": {
            "text/plain": [
              "10"
            ]
          },
          "metadata": {},
          "execution_count": 47
        }
      ]
    },
    {
      "cell_type": "markdown",
      "metadata": {
        "id": "UbAPcV8a75LG"
      },
      "source": [
        "Поскольку операции выполняются поэлементно, операнды бинарных операций должны иметь одинаковый размер. Тем не менее, операция может быть корректно выполнена, если размеры операндов таковы, что они могут быть расширены до одинаковых размеров. Данная возможность называется [broadcasting](http://www.scipy-lectures.org/intro/numpy/operations.html#broadcasting):\n",
        "![](https://jakevdp.github.io/PythonDataScienceHandbook/figures/02.05-broadcasting.png)"
      ]
    },
    {
      "cell_type": "code",
      "metadata": {
        "ExecuteTime": {
          "end_time": "2020-09-22T15:42:52.011906Z",
          "start_time": "2020-09-22T15:42:52.005614Z"
        },
        "id": "e5VxkRdO75LG",
        "colab": {
          "base_uri": "https://localhost:8080/"
        },
        "outputId": "04921ce1-75bb-4382-a943-3358c7816753"
      },
      "source": [
        "np.tile(np.arange(0, 40, 10), (3, 1)).T + np.array([0, 1, 2])"
      ],
      "execution_count": 48,
      "outputs": [
        {
          "output_type": "execute_result",
          "data": {
            "text/plain": [
              "array([[ 0,  1,  2],\n",
              "       [10, 11, 12],\n",
              "       [20, 21, 22],\n",
              "       [30, 31, 32]])"
            ]
          },
          "metadata": {},
          "execution_count": 48
        }
      ]
    },
    {
      "cell_type": "markdown",
      "metadata": {
        "id": "ChUHx1qU75LH"
      },
      "source": [
        "* Некоторые операции над массивами (например, вычисления минимума, максимума, суммы элементов) выполняются над всеми элементами вне зависимости от формы массива, однако при указании оси выполняются вдоль нее (например, для нахождения максимума каждой строки или каждого столбца):"
      ]
    },
    {
      "cell_type": "code",
      "metadata": {
        "ExecuteTime": {
          "end_time": "2020-09-22T15:42:52.023902Z",
          "start_time": "2020-09-22T15:42:52.020457Z"
        },
        "id": "YwO7rOiw75LH",
        "colab": {
          "base_uri": "https://localhost:8080/"
        },
        "outputId": "fddf1025-29d4-455f-8299-e04e73994a2f"
      },
      "source": [
        "A"
      ],
      "execution_count": 49,
      "outputs": [
        {
          "output_type": "execute_result",
          "data": {
            "text/plain": [
              "array([[0, 1, 2],\n",
              "       [3, 4, 5],\n",
              "       [6, 7, 8]])"
            ]
          },
          "metadata": {},
          "execution_count": 49
        }
      ]
    },
    {
      "cell_type": "code",
      "metadata": {
        "ExecuteTime": {
          "end_time": "2020-09-22T15:42:52.028517Z",
          "start_time": "2020-09-22T15:42:52.025419Z"
        },
        "id": "jCZRmCZp75LI",
        "colab": {
          "base_uri": "https://localhost:8080/"
        },
        "outputId": "215a6686-b3de-4406-ac47-a6fd020091c9"
      },
      "source": [
        "A.min()"
      ],
      "execution_count": 50,
      "outputs": [
        {
          "output_type": "execute_result",
          "data": {
            "text/plain": [
              "0"
            ]
          },
          "metadata": {},
          "execution_count": 50
        }
      ]
    },
    {
      "cell_type": "code",
      "metadata": {
        "ExecuteTime": {
          "end_time": "2020-09-22T15:42:52.033907Z",
          "start_time": "2020-09-22T15:42:52.030567Z"
        },
        "id": "r_9uERte75LI",
        "colab": {
          "base_uri": "https://localhost:8080/"
        },
        "outputId": "564de39d-1fba-47f1-cc40-431010806c08"
      },
      "source": [
        "A.max(axis=1)"
      ],
      "execution_count": 51,
      "outputs": [
        {
          "output_type": "execute_result",
          "data": {
            "text/plain": [
              "array([2, 5, 8])"
            ]
          },
          "metadata": {},
          "execution_count": 51
        }
      ]
    },
    {
      "cell_type": "code",
      "metadata": {
        "ExecuteTime": {
          "end_time": "2020-09-22T15:42:52.047824Z",
          "start_time": "2020-09-22T15:42:52.035571Z"
        },
        "id": "s8nHSukn75LI",
        "colab": {
          "base_uri": "https://localhost:8080/"
        },
        "outputId": "5ac7faf6-0f42-4fd0-d60e-cc103288a4e8"
      },
      "source": [
        "A.sum(axis=1)"
      ],
      "execution_count": 52,
      "outputs": [
        {
          "output_type": "execute_result",
          "data": {
            "text/plain": [
              "array([ 3, 12, 21])"
            ]
          },
          "metadata": {},
          "execution_count": 52
        }
      ]
    },
    {
      "cell_type": "markdown",
      "metadata": {
        "id": "osY_xK_sSwcZ"
      },
      "source": [
        "Понять и научиться классно использовать эту главную особенность библиотекм - искусство! И только с опытом (сыном ошибок трудных) можно овладеть данным навыком. Надеемся вы попробуете немного его получить в домашнем задании."
      ]
    },
    {
      "cell_type": "markdown",
      "metadata": {
        "id": "zs5oTTDY75LJ"
      },
      "source": [
        "#### Индексация\n",
        "\n",
        "Для доступа к элементам может использоваться [много различных способов](http://docs.scipy.org/doc/numpy/reference/arrays.indexing.html), рассмотрим основные.\n",
        "\n",
        "* Для индексации могут использоваться конкретные значения индексов и срезы (slice), как и в стандартных типах Python. Для многомерных массивов индексы для различных осей разделяются запятой. Если для многомерного массива указаны индексы не для всех измерений, недостающие заполняются полным срезом (:)."
      ]
    },
    {
      "cell_type": "code",
      "metadata": {
        "ExecuteTime": {
          "end_time": "2020-09-22T15:42:52.053659Z",
          "start_time": "2020-09-22T15:42:52.049560Z"
        },
        "id": "k06ras-o75LK",
        "colab": {
          "base_uri": "https://localhost:8080/"
        },
        "outputId": "e3841cfb-4539-4dea-dcb6-ecdc14209ec2"
      },
      "source": [
        "a = np.arange(10)\n",
        "a"
      ],
      "execution_count": 53,
      "outputs": [
        {
          "output_type": "execute_result",
          "data": {
            "text/plain": [
              "array([0, 1, 2, 3, 4, 5, 6, 7, 8, 9])"
            ]
          },
          "metadata": {},
          "execution_count": 53
        }
      ]
    },
    {
      "cell_type": "code",
      "metadata": {
        "ExecuteTime": {
          "end_time": "2020-09-22T15:42:52.061600Z",
          "start_time": "2020-09-22T15:42:52.055403Z"
        },
        "id": "KFFlpqy175LL",
        "colab": {
          "base_uri": "https://localhost:8080/"
        },
        "outputId": "c1819cc9-deb5-47eb-f1c8-5c2df65319cc"
      },
      "source": [
        "a[2:5]"
      ],
      "execution_count": 54,
      "outputs": [
        {
          "output_type": "execute_result",
          "data": {
            "text/plain": [
              "array([2, 3, 4])"
            ]
          },
          "metadata": {},
          "execution_count": 54
        }
      ]
    },
    {
      "cell_type": "code",
      "metadata": {
        "ExecuteTime": {
          "end_time": "2020-09-22T15:42:52.067935Z",
          "start_time": "2020-09-22T15:42:52.063842Z"
        },
        "id": "Rhg8C5dm75LM",
        "colab": {
          "base_uri": "https://localhost:8080/"
        },
        "outputId": "3b86916a-dc59-412d-d780-4e2ed52206f0"
      },
      "source": [
        "a[3:8:2]"
      ],
      "execution_count": 55,
      "outputs": [
        {
          "output_type": "execute_result",
          "data": {
            "text/plain": [
              "array([3, 5, 7])"
            ]
          },
          "metadata": {},
          "execution_count": 55
        }
      ]
    },
    {
      "cell_type": "code",
      "metadata": {
        "ExecuteTime": {
          "end_time": "2020-09-22T15:42:52.074833Z",
          "start_time": "2020-09-22T15:42:52.070054Z"
        },
        "id": "6eujc-wc75LM",
        "colab": {
          "base_uri": "https://localhost:8080/"
        },
        "outputId": "220f1f06-f7c3-4aa9-9027-73a0c3cd7f47"
      },
      "source": [
        "A = np.arange(81).reshape(9, -1)\n",
        "A"
      ],
      "execution_count": 56,
      "outputs": [
        {
          "output_type": "execute_result",
          "data": {
            "text/plain": [
              "array([[ 0,  1,  2,  3,  4,  5,  6,  7,  8],\n",
              "       [ 9, 10, 11, 12, 13, 14, 15, 16, 17],\n",
              "       [18, 19, 20, 21, 22, 23, 24, 25, 26],\n",
              "       [27, 28, 29, 30, 31, 32, 33, 34, 35],\n",
              "       [36, 37, 38, 39, 40, 41, 42, 43, 44],\n",
              "       [45, 46, 47, 48, 49, 50, 51, 52, 53],\n",
              "       [54, 55, 56, 57, 58, 59, 60, 61, 62],\n",
              "       [63, 64, 65, 66, 67, 68, 69, 70, 71],\n",
              "       [72, 73, 74, 75, 76, 77, 78, 79, 80]])"
            ]
          },
          "metadata": {},
          "execution_count": 56
        }
      ]
    },
    {
      "cell_type": "code",
      "metadata": {
        "ExecuteTime": {
          "end_time": "2020-09-22T15:42:52.081227Z",
          "start_time": "2020-09-22T15:42:52.077236Z"
        },
        "id": "uhklazih75LM",
        "colab": {
          "base_uri": "https://localhost:8080/"
        },
        "outputId": "c58f0f99-f69e-446b-aa51-fc9c529ffec5"
      },
      "source": [
        "A[2:4]"
      ],
      "execution_count": 57,
      "outputs": [
        {
          "output_type": "execute_result",
          "data": {
            "text/plain": [
              "array([[18, 19, 20, 21, 22, 23, 24, 25, 26],\n",
              "       [27, 28, 29, 30, 31, 32, 33, 34, 35]])"
            ]
          },
          "metadata": {},
          "execution_count": 57
        }
      ]
    },
    {
      "cell_type": "code",
      "metadata": {
        "ExecuteTime": {
          "end_time": "2020-09-22T15:42:52.087442Z",
          "start_time": "2020-09-22T15:42:52.083387Z"
        },
        "id": "ti3p3KT975LN",
        "colab": {
          "base_uri": "https://localhost:8080/"
        },
        "outputId": "38f7fb9f-8547-41d3-dc81-4ede7aa84000"
      },
      "source": [
        "A[:, 2:4]"
      ],
      "execution_count": 58,
      "outputs": [
        {
          "output_type": "execute_result",
          "data": {
            "text/plain": [
              "array([[ 2,  3],\n",
              "       [11, 12],\n",
              "       [20, 21],\n",
              "       [29, 30],\n",
              "       [38, 39],\n",
              "       [47, 48],\n",
              "       [56, 57],\n",
              "       [65, 66],\n",
              "       [74, 75]])"
            ]
          },
          "metadata": {},
          "execution_count": 58
        }
      ]
    },
    {
      "cell_type": "code",
      "metadata": {
        "ExecuteTime": {
          "end_time": "2020-09-22T15:42:52.093678Z",
          "start_time": "2020-09-22T15:42:52.089478Z"
        },
        "id": "ZXNq_NrG75LN",
        "colab": {
          "base_uri": "https://localhost:8080/"
        },
        "outputId": "a4d628ea-3118-4695-f74e-df339efca332"
      },
      "source": [
        "A[2:4, 2:4]"
      ],
      "execution_count": 59,
      "outputs": [
        {
          "output_type": "execute_result",
          "data": {
            "text/plain": [
              "array([[20, 21],\n",
              "       [29, 30]])"
            ]
          },
          "metadata": {},
          "execution_count": 59
        }
      ]
    },
    {
      "cell_type": "code",
      "metadata": {
        "ExecuteTime": {
          "end_time": "2020-09-22T15:42:52.099303Z",
          "start_time": "2020-09-22T15:42:52.095614Z"
        },
        "id": "I-0mQe2A75LO",
        "colab": {
          "base_uri": "https://localhost:8080/"
        },
        "outputId": "c5aa01ea-0743-4bb0-daf1-f7b93a9a8d3e"
      },
      "source": [
        "A[-1]"
      ],
      "execution_count": 60,
      "outputs": [
        {
          "output_type": "execute_result",
          "data": {
            "text/plain": [
              "array([72, 73, 74, 75, 76, 77, 78, 79, 80])"
            ]
          },
          "metadata": {},
          "execution_count": 60
        }
      ]
    },
    {
      "cell_type": "markdown",
      "metadata": {
        "id": "h-Tcvfwi75LP"
      },
      "source": [
        "* Также может использоваться индексация при помощи списков индексов (по каждой из осей):"
      ]
    },
    {
      "cell_type": "code",
      "metadata": {
        "ExecuteTime": {
          "end_time": "2020-09-22T15:42:52.108235Z",
          "start_time": "2020-09-22T15:42:52.101451Z"
        },
        "id": "kugMnaHu75LP",
        "colab": {
          "base_uri": "https://localhost:8080/"
        },
        "outputId": "68a689bd-925d-4a83-e10f-2e92b4572389"
      },
      "source": [
        "A = np.arange(81).reshape(9, -1)\n",
        "A"
      ],
      "execution_count": 61,
      "outputs": [
        {
          "output_type": "execute_result",
          "data": {
            "text/plain": [
              "array([[ 0,  1,  2,  3,  4,  5,  6,  7,  8],\n",
              "       [ 9, 10, 11, 12, 13, 14, 15, 16, 17],\n",
              "       [18, 19, 20, 21, 22, 23, 24, 25, 26],\n",
              "       [27, 28, 29, 30, 31, 32, 33, 34, 35],\n",
              "       [36, 37, 38, 39, 40, 41, 42, 43, 44],\n",
              "       [45, 46, 47, 48, 49, 50, 51, 52, 53],\n",
              "       [54, 55, 56, 57, 58, 59, 60, 61, 62],\n",
              "       [63, 64, 65, 66, 67, 68, 69, 70, 71],\n",
              "       [72, 73, 74, 75, 76, 77, 78, 79, 80]])"
            ]
          },
          "metadata": {},
          "execution_count": 61
        }
      ]
    },
    {
      "cell_type": "code",
      "metadata": {
        "ExecuteTime": {
          "end_time": "2020-09-22T15:42:52.116476Z",
          "start_time": "2020-09-22T15:42:52.110224Z"
        },
        "id": "sHjojU_v75LQ",
        "colab": {
          "base_uri": "https://localhost:8080/"
        },
        "outputId": "6137bcdb-201c-4496-f93a-389614c842d1"
      },
      "source": [
        "A[[2, 4, 5], [0, 1, 3]]"
      ],
      "execution_count": 62,
      "outputs": [
        {
          "output_type": "execute_result",
          "data": {
            "text/plain": [
              "array([18, 37, 48])"
            ]
          },
          "metadata": {},
          "execution_count": 62
        }
      ]
    },
    {
      "cell_type": "markdown",
      "metadata": {
        "id": "WVR_APRm75LQ"
      },
      "source": [
        "* Может применяться логическая индексация (при помощи логических массивов):"
      ]
    },
    {
      "cell_type": "code",
      "metadata": {
        "ExecuteTime": {
          "end_time": "2020-09-22T15:42:52.121334Z",
          "start_time": "2020-09-22T15:42:52.117919Z"
        },
        "id": "gU51jjla75LQ",
        "colab": {
          "base_uri": "https://localhost:8080/"
        },
        "outputId": "5cd2274f-892b-466d-c0ee-d34fff084da7"
      },
      "source": [
        "A = np.arange(11)\n",
        "A"
      ],
      "execution_count": 63,
      "outputs": [
        {
          "output_type": "execute_result",
          "data": {
            "text/plain": [
              "array([ 0,  1,  2,  3,  4,  5,  6,  7,  8,  9, 10])"
            ]
          },
          "metadata": {},
          "execution_count": 63
        }
      ]
    },
    {
      "cell_type": "code",
      "metadata": {
        "ExecuteTime": {
          "end_time": "2020-09-22T15:42:52.127505Z",
          "start_time": "2020-09-22T15:42:52.123314Z"
        },
        "id": "Rgo0dyey75LQ",
        "colab": {
          "base_uri": "https://localhost:8080/"
        },
        "outputId": "5f743b07-6dc9-4029-bbec-ef0504173a8a"
      },
      "source": [
        "A[A % 5 != 3]"
      ],
      "execution_count": 64,
      "outputs": [
        {
          "output_type": "execute_result",
          "data": {
            "text/plain": [
              "array([ 0,  1,  2,  4,  5,  6,  7,  9, 10])"
            ]
          },
          "metadata": {},
          "execution_count": 64
        }
      ]
    },
    {
      "cell_type": "code",
      "metadata": {
        "ExecuteTime": {
          "end_time": "2020-09-22T15:42:52.134183Z",
          "start_time": "2020-09-22T15:42:52.129853Z"
        },
        "id": "tt2ekIWc75LR",
        "colab": {
          "base_uri": "https://localhost:8080/"
        },
        "outputId": "9432cde6-c3aa-458d-9293-fa64ab1d496f"
      },
      "source": [
        "A[np.logical_and(A != 7, A % 5 != 3)] # также можно использовать логические операции"
      ],
      "execution_count": 65,
      "outputs": [
        {
          "output_type": "execute_result",
          "data": {
            "text/plain": [
              "array([ 0,  1,  2,  4,  5,  6,  9, 10])"
            ]
          },
          "metadata": {},
          "execution_count": 65
        }
      ]
    },
    {
      "cell_type": "markdown",
      "metadata": {
        "id": "PTsnlnv575LR"
      },
      "source": [
        "#### Зачем?\n",
        "\n",
        "Зачем необходимо использовать NumPy, если существуют стандартные списки/кортежи и циклы?\n",
        "\n",
        "Причина заключается в скорости работы. Попробуем посчитать скалярное произведение 2 больших векторов:"
      ]
    },
    {
      "cell_type": "code",
      "metadata": {
        "ExecuteTime": {
          "end_time": "2020-09-22T15:42:53.481301Z",
          "start_time": "2020-09-22T15:42:52.136072Z"
        },
        "id": "OCaSONXg75LR"
      },
      "source": [
        "SIZE = 10000000\n",
        "\n",
        "A_quick_arr = np.random.normal(size = (SIZE,))\n",
        "B_quick_arr = np.random.normal(size = (SIZE,))\n",
        "\n",
        "A_slow_list, B_slow_list = list(A_quick_arr), list(B_quick_arr)"
      ],
      "execution_count": 66,
      "outputs": []
    },
    {
      "cell_type": "code",
      "metadata": {
        "ExecuteTime": {
          "end_time": "2020-09-22T15:42:56.303195Z",
          "start_time": "2020-09-22T15:42:53.483058Z"
        },
        "id": "t1yQplCM75LS",
        "colab": {
          "base_uri": "https://localhost:8080/"
        },
        "outputId": "8cc07ac9-9c74-4aa8-8fa0-4a58ad397c9e"
      },
      "source": [
        "%%time\n",
        "ans = 0\n",
        "for i in range(len(A_slow_list)):\n",
        "    ans += A_slow_list[i] * B_slow_list[i]"
      ],
      "execution_count": 67,
      "outputs": [
        {
          "output_type": "stream",
          "name": "stdout",
          "text": [
            "CPU times: user 4.58 s, sys: 24.4 ms, total: 4.6 s\n",
            "Wall time: 4.63 s\n"
          ]
        }
      ]
    },
    {
      "cell_type": "code",
      "metadata": {
        "ExecuteTime": {
          "end_time": "2020-09-22T15:42:58.772193Z",
          "start_time": "2020-09-22T15:42:56.304960Z"
        },
        "id": "6tRnUZNl75LS",
        "colab": {
          "base_uri": "https://localhost:8080/"
        },
        "outputId": "ed3b48c1-81a0-4e6f-e4ad-5db3daab4d5c"
      },
      "source": [
        "%%time\n",
        "ans = sum([A_slow_list[i] * B_slow_list[i] for i in range(SIZE)])"
      ],
      "execution_count": 68,
      "outputs": [
        {
          "output_type": "stream",
          "name": "stdout",
          "text": [
            "CPU times: user 3.35 s, sys: 364 ms, total: 3.72 s\n",
            "Wall time: 3.72 s\n"
          ]
        }
      ]
    },
    {
      "cell_type": "code",
      "metadata": {
        "ExecuteTime": {
          "end_time": "2020-09-22T15:42:58.804583Z",
          "start_time": "2020-09-22T15:42:58.773657Z"
        },
        "id": "y2IVNeeD75LS",
        "colab": {
          "base_uri": "https://localhost:8080/"
        },
        "outputId": "525ac2f5-d379-4910-be18-357e092fbe8c"
      },
      "source": [
        "%%time\n",
        "ans = np.sum(A_quick_arr * B_quick_arr)"
      ],
      "execution_count": 69,
      "outputs": [
        {
          "output_type": "stream",
          "name": "stdout",
          "text": [
            "CPU times: user 34.7 ms, sys: 862 µs, total: 35.6 ms\n",
            "Wall time: 42.9 ms\n"
          ]
        }
      ]
    },
    {
      "cell_type": "code",
      "metadata": {
        "ExecuteTime": {
          "end_time": "2020-09-22T15:42:58.818620Z",
          "start_time": "2020-09-22T15:42:58.807193Z"
        },
        "id": "_-6p6nqQ75LT",
        "colab": {
          "base_uri": "https://localhost:8080/"
        },
        "outputId": "69d49fec-82c7-43df-8c15-cb49889eda7e"
      },
      "source": [
        "%%time\n",
        "ans = A_quick_arr.dot(B_quick_arr)"
      ],
      "execution_count": 70,
      "outputs": [
        {
          "output_type": "stream",
          "name": "stdout",
          "text": [
            "CPU times: user 21.3 ms, sys: 6.59 ms, total: 27.9 ms\n",
            "Wall time: 18.9 ms\n"
          ]
        }
      ]
    },
    {
      "cell_type": "markdown",
      "metadata": {
        "id": "V2DOHp5n75LT"
      },
      "source": [
        "NumPy работает быстро по нескольким причинам:\n",
        "* Массивы хранятся в непрерывном участке памяти, а все элементы имеют один и тот же тип\n",
        "* Для вычислений по возможности используются библиотеки линейной алгебры вроде BLAS\n",
        "\n",
        "Посмотреть, какая библиотека используется у вас, можно в конфигурации NumPy:"
      ]
    },
    {
      "cell_type": "code",
      "metadata": {
        "ExecuteTime": {
          "end_time": "2020-09-22T15:42:58.983297Z",
          "start_time": "2020-09-22T15:42:58.820808Z"
        },
        "scrolled": false,
        "id": "_mlR_AQ075LU",
        "colab": {
          "base_uri": "https://localhost:8080/"
        },
        "outputId": "bf7e12a3-311d-46d1-f6d7-9f49b63f4fe5"
      },
      "source": [
        "print(np.show_config())"
      ],
      "execution_count": 71,
      "outputs": [
        {
          "output_type": "stream",
          "name": "stdout",
          "text": [
            "blas_mkl_info:\n",
            "  NOT AVAILABLE\n",
            "blis_info:\n",
            "  NOT AVAILABLE\n",
            "openblas_info:\n",
            "    libraries = ['openblas', 'openblas']\n",
            "    library_dirs = ['/usr/local/lib']\n",
            "    language = c\n",
            "    define_macros = [('HAVE_CBLAS', None)]\n",
            "blas_opt_info:\n",
            "    libraries = ['openblas', 'openblas']\n",
            "    library_dirs = ['/usr/local/lib']\n",
            "    language = c\n",
            "    define_macros = [('HAVE_CBLAS', None)]\n",
            "lapack_mkl_info:\n",
            "  NOT AVAILABLE\n",
            "openblas_lapack_info:\n",
            "    libraries = ['openblas', 'openblas']\n",
            "    library_dirs = ['/usr/local/lib']\n",
            "    language = c\n",
            "    define_macros = [('HAVE_CBLAS', None)]\n",
            "lapack_opt_info:\n",
            "    libraries = ['openblas', 'openblas']\n",
            "    library_dirs = ['/usr/local/lib']\n",
            "    language = c\n",
            "    define_macros = [('HAVE_CBLAS', None)]\n",
            "None\n"
          ]
        }
      ]
    },
    {
      "cell_type": "markdown",
      "metadata": {
        "id": "busnIWTe75LU"
      },
      "source": [
        "### Примеры векторизации вычислений на NumPy\n"
      ]
    },
    {
      "cell_type": "markdown",
      "metadata": {
        "id": "TGc-ajUC75LU"
      },
      "source": [
        "Разберём несколько задач (из [100 numpy exercises](http://www.labri.fr/perso/nrougier/teaching/numpy.100/)), где NumPy может существенно ускорить вычисления и упростить код."
      ]
    },
    {
      "cell_type": "markdown",
      "metadata": {
        "id": "MXJxRZpX75LU"
      },
      "source": [
        "Дан четырёхмерный массив. Как получить двумерный массив, в котором элемент с индексами $(i, j)$ содержит сумму всех элементов исходного массива, у которых первые два индекса — это $(i, j)$?"
      ]
    },
    {
      "cell_type": "code",
      "metadata": {
        "ExecuteTime": {
          "end_time": "2020-09-22T15:42:58.988860Z",
          "start_time": "2020-09-22T15:42:58.985170Z"
        },
        "id": "Azy7PnZ-75LV",
        "colab": {
          "base_uri": "https://localhost:8080/"
        },
        "outputId": "db4759a6-9a92-4f53-e0c5-e7a057a29448"
      },
      "source": [
        "A = np.random.randint(0,1000,(2,5,20,25))\n",
        "res = A.reshape(A.shape[:-2] + (-1,)).sum(axis=-1)\n",
        "print(res)"
      ],
      "execution_count": 72,
      "outputs": [
        {
          "output_type": "stream",
          "name": "stdout",
          "text": [
            "[[264963 244491 246183 253922 242484]\n",
            " [248381 243861 241902 251258 241533]]\n"
          ]
        }
      ]
    },
    {
      "cell_type": "markdown",
      "metadata": {
        "id": "YNYv02-i75LV"
      },
      "source": [
        "Даны одномерные массивы A и B. Элементы массива B принимают значения от 0 до `len(A) - 1`. Требуется прибавить единицу ко всем элементам A, чьи индексы записаны в B. Если индекс встречается в B несколько раз, то надо прибавить единицу для каждого такого вхождения."
      ]
    },
    {
      "cell_type": "code",
      "metadata": {
        "ExecuteTime": {
          "end_time": "2020-09-22T15:42:59.001625Z",
          "start_time": "2020-09-22T15:42:58.990334Z"
        },
        "id": "dCLI6GrT75LV",
        "colab": {
          "base_uri": "https://localhost:8080/"
        },
        "outputId": "15b141c4-3617-401a-cedf-6d97d209b786"
      },
      "source": [
        "A = np.ones(10)\n",
        "B = np.random.randint(0,len(A),20)\n",
        "print(A)\n",
        "print(B)\n",
        "A += np.bincount(B, minlength=len(A))\n",
        "print(A)"
      ],
      "execution_count": 73,
      "outputs": [
        {
          "output_type": "stream",
          "name": "stdout",
          "text": [
            "[1. 1. 1. 1. 1. 1. 1. 1. 1. 1.]\n",
            "[3 4 9 9 9 5 8 3 5 0 0 1 7 6 7 5 7 6 4 5]\n",
            "[3. 2. 1. 3. 3. 5. 3. 4. 2. 4.]\n"
          ]
        }
      ]
    },
    {
      "cell_type": "markdown",
      "metadata": {
        "id": "OkPdV6fF75LW"
      },
      "source": [
        "Даны одномерный массив A и число n. Вычислите массив B, в котором i-й элемент равен среднему значению элементов с i-го по (i+n-1)-й в массиве A."
      ]
    },
    {
      "cell_type": "code",
      "metadata": {
        "ExecuteTime": {
          "end_time": "2020-09-22T15:42:59.009414Z",
          "start_time": "2020-09-22T15:42:59.004125Z"
        },
        "id": "WddNwx7l75LW",
        "colab": {
          "base_uri": "https://localhost:8080/"
        },
        "outputId": "8adadfb5-fa8d-4ad4-afec-538e2210f100"
      },
      "source": [
        "def moving_average(Z, n=3) :\n",
        "    ret = np.cumsum(Z, dtype=float)\n",
        "    ret[n:] = ret[n:] - ret[:-n]\n",
        "    return ret[n - 1:] / n\n",
        "A = np.random.randint(0, 10, 20)\n",
        "print(A)\n",
        "print(moving_average(A, n=3))"
      ],
      "execution_count": 74,
      "outputs": [
        {
          "output_type": "stream",
          "name": "stdout",
          "text": [
            "[4 2 5 4 2 4 7 6 4 9 1 2 1 9 8 3 8 2 3 4]\n",
            "[3.66666667 3.66666667 3.66666667 3.33333333 4.33333333 5.66666667\n",
            " 5.66666667 6.33333333 4.66666667 4.         1.33333333 4.\n",
            " 6.         6.66666667 6.33333333 4.33333333 4.33333333 3.        ]\n"
          ]
        }
      ]
    }
  ]
}