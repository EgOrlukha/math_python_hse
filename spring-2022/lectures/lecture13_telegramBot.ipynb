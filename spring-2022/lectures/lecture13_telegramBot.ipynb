{
 "cells": [
  {
   "cell_type": "markdown",
   "metadata": {},
   "source": [
    " # Создание Телеграм-бота\n",
    "\n",
    " 1. Установить библиотеку для работы с Телеграм ботами: \n",
    " >pip install pyTelegramBotAPI"
   ]
  },
  {
   "cell_type": "code",
   "execution_count": 2,
   "metadata": {},
   "outputs": [],
   "source": [
    "import telebot"
   ]
  },
  {
   "cell_type": "markdown",
   "metadata": {},
   "source": [
    "Чтобы понимать, с каким ботом мы работаем, нужно указать токен нужного нам бота.  \n",
    "Создать нового бота можно следующим образом:\n",
    "- В Телеграм находим <b>BotFather</b>  \n",
    "- Пишем ему: <b>/newbot</b>  \n",
    "- Вводим имя бота на латинице без пробелов и спецсимволов. Должно оканчиваться на 'bot'  \n",
    "- Копируем токен и вставляем в наш скрипт"
   ]
  },
  {
   "cell_type": "code",
   "execution_count": 20,
   "metadata": {},
   "outputs": [],
   "source": [
    "TOKEN = '5366734617:AAHtpH8hecpf9x07rU5ZL3ZpwbjvlE1WC2k'"
   ]
  },
  {
   "cell_type": "code",
   "execution_count": 21,
   "metadata": {},
   "outputs": [],
   "source": [
    "bot = telebot.TeleBot(TOKEN)"
   ]
  },
  {
   "cell_type": "markdown",
   "metadata": {},
   "source": [
    "Теперь все действия в файле будут связаны с ботом, к токену которого мы присоединились.  \n",
    "Бот надо настроить в BotFather:\n",
    "- <b>/setname</b> - выбрать имя для бота\n",
    "- <b>/setdescription</b> - краткое описание, что может делать этот бот. Например, \"бот для урока информатики\"\n",
    "- <b>/setabouttext</b> - информация, которая будет размещена в описании бота и отправлена вместе со ссылкой на этого бота.\n",
    "- <b>/setuserpic</b> - фотография бота"
   ]
  },
  {
   "cell_type": "markdown",
   "metadata": {},
   "source": [
    "## Отслеживание команд\n",
    "Для этого надо прописать декоратор. Подробнее про декораторы можно посмотреть [видео](https://www.youtube.com/watch?v=H1_GNTKPkSs&list=PL0lO_mIqDDFXgfuxOEDTCwsWmKezOaDTu&index=20 \"Видеоурок по теме 'Python. Декораторы' на Youtube\") и [статью](https://habr.com/ru/company/wunderfund/blog/657355/ \"Статья по теме 'Python. Декораторы' на Habr\")  \n",
    "Названия функций, передаваемых в декоратор, и создаваемых, стоит делать идентичными, чтобы не запутаться.  "
   ]
  },
  {
   "cell_type": "code",
   "execution_count": 23,
   "metadata": {},
   "outputs": [],
   "source": [
    "@bot.message_handler(commands=['start'])\n",
    "def start(message):\n",
    "    bot.send_message(message.chat.id, \"Привет! \\nЯ надпись обычным текстом\", parse_mode=\"\") # отправка просто текста\n",
    "    # bot.send_message(message.chat.id, \"<b>Привет! \\nЯ надпись жирным шрифтом</b>\", parse_mode=\"html\") # отправка текста в форматировании html"
   ]
  },
  {
   "cell_type": "markdown",
   "metadata": {},
   "source": [
    "Существует два способа запустить бота в работу:\n",
    ">bot.polling(non_stop=True)\n",
    "\n",
    "\n",
    ">bot.infinity_polling()\n",
    "\n",
    "При запуске одной из этих строк начинается бесконечны цикл, бот работает."
   ]
  },
  {
   "cell_type": "code",
   "execution_count": 24,
   "metadata": {},
   "outputs": [],
   "source": [
    "# Можно посмотреть информацию о полях ячейки\n",
    "# bot.send_message? "
   ]
  },
  {
   "cell_type": "code",
   "execution_count": 25,
   "metadata": {},
   "outputs": [],
   "source": [
    "bot.polling(non_stop=True)"
   ]
  },
  {
   "cell_type": "markdown",
   "metadata": {},
   "source": [
    "## Вывод информации\n",
    "Усложним первую часть программы  \n",
    "<i>Больше элементов объекта user можно найти [по ссылке](https://core.telegram.org/bots/api#user \"Официальная документация Telegram Bot API\")</i>"
   ]
  },
  {
   "cell_type": "code",
   "execution_count": 26,
   "metadata": {},
   "outputs": [
    {
     "name": "stdout",
     "output_type": "stream",
     "text": [
      "Say HAHAHA\n"
     ]
    }
   ],
   "source": [
    "# Пример форматирования данных типа str\n",
    "a = \"HAHAHA\"\n",
    "b = \"Say {}\".format(a)\n",
    "print(b)"
   ]
  },
  {
   "cell_type": "code",
   "execution_count": 27,
   "metadata": {},
   "outputs": [
    {
     "name": "stderr",
     "output_type": "stream",
     "text": [
      "2022-04-20 16:32:53,929 (__init__.py:591 MainThread) ERROR - TeleBot: \"Infinity polling: polling exited\"\n",
      "2022-04-20 16:32:53,931 (__init__.py:593 MainThread) ERROR - TeleBot: \"Break infinity polling\"\n"
     ]
    }
   ],
   "source": [
    "bot = telebot.TeleBot(TOKEN)\n",
    "\n",
    "@bot.message_handler(commands=['start', 'help', 'pervak'])\n",
    "def start(message):\n",
    "    mess = \"<u>USERNAME</u>: <b>{}</b>;\\n<u>ID</u>: <b>{}</b>;\\n<u>Имя</u>: <b>{}</b>;\\n<u>Фамилия</u>: <b>{}</b>.\".format(message.from_user.username,\n",
    "                                                                                                message.from_user.id, \n",
    "                                                                                                message.from_user.first_name,\n",
    "                                                                                                message.from_user.last_name)\n",
    "    bot.send_message(message.chat.id, mess, parse_mode=\"html\") # отправка текста в форматировании html\n",
    "\n",
    "bot.infinity_polling()"
   ]
  },
  {
   "cell_type": "markdown",
   "metadata": {},
   "source": [
    "## Обработка текста\n",
    "Попробуем отследить полностью сообщение, которое пользователь может ввести.\n",
    "Читать *.json поможет [сайт](http://jsonviewer.stack.hu/)"
   ]
  },
  {
   "cell_type": "code",
   "execution_count": 9,
   "metadata": {},
   "outputs": [],
   "source": [
    "bot = telebot.TeleBot(TOKEN)\n",
    "\n",
    "@bot.message_handler() # ничего не дописываем в круглые скобки, будет реагировать на любое входящее\n",
    "def get_user_text(message):\n",
    "    \"\"\"\n",
    "    Функция для вывода сообщения пользователя на экран\n",
    "    вместе со всеми атрибутами\n",
    "    \"\"\"\n",
    "    bot.send_message(message.chat.id, message, parse_mode=\"html\")\n",
    "\n",
    "bot.infinity_polling()"
   ]
  },
  {
   "cell_type": "code",
   "execution_count": 10,
   "metadata": {},
   "outputs": [],
   "source": [
    "bot = telebot.TeleBot(TOKEN)\n",
    "\n",
    "@bot.message_handler() # ничего не дописываем в круглые скобки, будет реагировать на любое входящее\n",
    "def get_user_text(message):\n",
    "    \"\"\"\n",
    "    Функция будет отвечать на входящий текст\n",
    "    \"\"\"\n",
    "    if message.text.lower() == \"hi\":\n",
    "        response_hi = \"Здорово, друг <b>{}</b>\".format(message.from_user.first_name)\n",
    "        bot.send_message(message.chat.id, response_hi, parse_mode=\"html\")\n",
    "\n",
    "    elif \"text\" in message.text.lower() or \"текст\" in message.text.lower():\n",
    "        response_text = \"Ты написал мне:\\n\\t<b>{}</b>\".format(message.text)\n",
    "        bot.send_message(message.chat.id, response_text, parse_mode=\"html\")\n",
    "\n",
    "    else:\n",
    "        response_noidea = \"Не знаю, что ответить...\"\n",
    "        bot.reply_to(message, response_noidea)\n",
    "\n",
    "bot.infinity_polling()"
   ]
  },
  {
   "cell_type": "markdown",
   "metadata": {},
   "source": [
    "## Отправка документов\n",
    "Отправлять можно не только тексты.  \n",
    "Подробнее - [по ссылке](https://pypi.org/project/pyTelegramBotAPI/#:~:text=of%20this%20group!%27 \"Ссылка на блок TeleBot в PyPi\")"
   ]
  },
  {
   "cell_type": "code",
   "execution_count": 11,
   "metadata": {},
   "outputs": [],
   "source": [
    "bot = telebot.TeleBot(TOKEN)\n",
    "\n",
    "p_path = 'priroda-cvety-gazanias.jpg'\n",
    "nstu_lat = 54.98670060117798\n",
    "nstu_lon = 82.9055536858615\n",
    "\n",
    "@bot.message_handler(content_types=['text']) # будет реагировать только на входящий текст\n",
    "def get_user_text(message):\n",
    "    \"\"\"\n",
    "    Функция будет реагировать только на входящий текст\n",
    "    и присылать либо фото, либо геолокацию\n",
    "    \"\"\"\n",
    "    if message.text.lower() == \"фото\":\n",
    "        response_photo = open(p_path,'rb')\n",
    "        bot.send_photo(message.chat.id, response_photo)\n",
    "\n",
    "    elif \"геолокация\" in message.text.lower():\n",
    "        bot.send_location(message.chat.id, nstu_lat, nstu_lon)\n",
    "\n",
    "    else:\n",
    "        response_noidea = \"Не знаю, что ответить...\"\n",
    "        bot.reply_to(message, response_noidea)\n",
    "\n",
    "bot.infinity_polling()"
   ]
  },
  {
   "cell_type": "markdown",
   "metadata": {},
   "source": [
    "## Обработка документов\n",
    "Что делать, если в чат прислали какой-то документ и мы хотим с ним что-то сделать?\n",
    "Перечисление content_types можно найти [здесь](https://pypi.org/project/pyTelegramBotAPI/#:~:text=General%20API%20Documentation-,Types,-All%20types%20are, \"General API Documentation/Types\")\n",
    "\n",
    "Интересный бот с определением лиц на фото можно взять [тут](https://github.com/rukavishnikovmihail00/Detector-Telebot/blob/master/main.py)"
   ]
  },
  {
   "cell_type": "code",
   "execution_count": 12,
   "metadata": {},
   "outputs": [],
   "source": [
    "import cv2 \n",
    "import requests"
   ]
  },
  {
   "cell_type": "code",
   "execution_count": 13,
   "metadata": {},
   "outputs": [],
   "source": [
    "bot = telebot.TeleBot(TOKEN)\n",
    "\n",
    "@bot.message_handler(content_types=['photo'])\n",
    "def get_user_photo(message):\n",
    "    \"\"\"\n",
    "    Функция будет обрабатывать входящую фотографию \n",
    "    и отправлять в ответ черно-белую версию\n",
    "    \"\"\"\n",
    "    response_get_photo = \"Фото в обработке, погоди маленько...\"\n",
    "    bot.reply_to(message, response_get_photo)\n",
    "    try:\n",
    "        # print(message.photo[len(message.photo)-1].file_id)\n",
    "        photo_info = bot.get_file(message.photo[len(message.photo)-1].file_id)\n",
    "        photo_path = photo_info.file_path\n",
    "        downloaded_file = bot.download_file(photo_path)\n",
    "        print(photo_path)\n",
    "        temp_src = photo_path[7:]\n",
    "\n",
    "        with open(temp_src, 'wb') as new_file:\n",
    "            new_file.write(downloaded_file)\n",
    "    except Exception as e:\n",
    "        bot.reply_to(message, \"Не получилось сохранить фото\")\n",
    "        print(\"Ошибка при загрузке фото:\", e, sep=\"\\n\")\n",
    "\n",
    "    # Обработка в OpenCV\n",
    "    try:\n",
    "        image = cv2.imread(temp_src)\n",
    "        gray_image = cv2.cvtColor(image, cv2.COLOR_BGR2GRAY)\n",
    "        cv2.imwrite(temp_src , gray_image)\n",
    "    except Exception as e:\n",
    "        print(\"Ошибка при обработке фото:\", e, sep=\"\\n\")\n",
    "\n",
    "    bot.send_photo(message.chat.id, open(temp_src, 'rb'))\n",
    "\n",
    "bot.infinity_polling()"
   ]
  },
  {
   "cell_type": "markdown",
   "metadata": {},
   "source": [
    "## Создание кнопок\n",
    "Пусть по методу /website будет появляться ссылка в сообщении, а по методу /help будут повяляться функциональные кнопки\n",
    "\n",
    "resize_keyboard=True - для автоматической адаптации к размерам телефона либо ПК\n",
    "row_width=1 - сколько функциональных кнопок будет в ряду"
   ]
  },
  {
   "cell_type": "code",
   "execution_count": 18,
   "metadata": {},
   "outputs": [
    {
     "name": "stderr",
     "output_type": "stream",
     "text": [
      "2022-04-20 16:19:25,874 (__init__.py:591 MainThread) ERROR - TeleBot: \"Infinity polling: polling exited\"\n",
      "2022-04-20 16:19:25,876 (__init__.py:593 MainThread) ERROR - TeleBot: \"Break infinity polling\"\n"
     ]
    }
   ],
   "source": [
    "bot = telebot.TeleBot(TOKEN)\n",
    "\n",
    "@bot.message_handler(commands=['website'])\n",
    "def website(message):\n",
    "    \"\"\"\n",
    "    Функция при запросе /website даст ссылку на сайт НГТУ\n",
    "    \"\"\"\n",
    "    markup = telebot.types.InlineKeyboardMarkup() #указываем формат, что это будет встроенная в сообщение кнопка\n",
    "    \n",
    "    button_text = \"Посетить вебсайт\"\n",
    "    button_url = \"https://nstu.ru\"\n",
    "    markup.add(telebot.types.InlineKeyboardButton(button_text, url=button_url))\n",
    "\n",
    "    bot.send_message(message.chat.id, \"Перейдите на сайт\", reply_markup=markup)\n",
    "\n",
    "@bot.message_handler(commands=['help'])\n",
    "def buttons(message):\n",
    "    \"\"\"\n",
    "    Функция при запросе /help даст выбор действий\n",
    "    \"\"\"\n",
    "    markup = telebot.types.ReplyKeyboardMarkup(resize_keyboard=True, row_width=1) #указываем формат, что это будет функциональная кнопка\n",
    "\n",
    "    website = telebot.types.KeyboardButton('Веб Сайт')\n",
    "    start = telebot.types.KeyboardButton('Старт')\n",
    "    markup.add(website, start)\n",
    "\n",
    "    bot.send_message(message.chat.id, \"Нужна какая-то помощь?\", reply_markup=markup)\n",
    "\n",
    "bot.infinity_polling()"
   ]
  }
 ],
 "metadata": {
  "interpreter": {
   "hash": "a800ff62f2fa593d6cab77d1e9644896a3f9a9cb61fd0c0623fd4b167c659a57"
  },
  "kernelspec": {
   "display_name": "Python 3.9.4 64-bit",
   "language": "python",
   "name": "python3"
  },
  "language_info": {
   "codemirror_mode": {
    "name": "ipython",
    "version": 3
   },
   "file_extension": ".py",
   "mimetype": "text/x-python",
   "name": "python",
   "nbconvert_exporter": "python",
   "pygments_lexer": "ipython3",
   "version": "3.9.4"
  },
  "orig_nbformat": 4
 },
 "nbformat": 4,
 "nbformat_minor": 2
}
