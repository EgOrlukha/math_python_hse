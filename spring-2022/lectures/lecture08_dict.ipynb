{
 "cells": [
  {
   "cell_type": "markdown",
   "metadata": {
    "id": "57NwhvNuOtBY"
   },
   "source": [
    "# Занятие №8: словари, хэш-таблица, сортировки\n",
    "\n",
    "---\n",
    "\n",
    "[МИНИКОНТЕСТ](https://contest.yandex.ru/contest/30003)\n",
    "\n",
    "---\n",
    "https://replit.com - можете сразу воспроизводить код и решать задачи используя онлайн интерпретатор Питона (\\\\\\\"Create Repl\\\\\\\" -> \\\\\\\"Select Language - Python\\\\\\\")"
   ]
  },
  {
   "cell_type": "markdown",
   "metadata": {
    "id": "tQYefk4NOqnG"
   },
   "source": [
    "##  Словари   [DOCS1](https://docs.python.org/3/tutorial/datastructures.html#dictionaries) [DOCS2](https://docs.python.org/3/library/stdtypes.html#mapping-types-dict)"
   ]
  },
  {
   "cell_type": "markdown",
   "metadata": {
    "id": "H_1msKJHOqnJ"
   },
   "source": [
    "Мы уже успели изучить такие типы данных как строки, кортежи и списки (массивы). Все они имеют такое свойство как \"номер\", то есть к их элементам можно обратиться по индексу и эта **идентификация** \"номер - элемент\" **однозначна**. Однако, в реальной жизни мы не всегда идентифицируем данные *только числами*. Например, юзернейм в телеграме, номер группы студентов, маршруты поездов, авиарейсы, и др.. \n",
    "\n",
    "То есть для хранения информации о чем-либо в качестве идентификатора удобно использовать, например, текстовую строку. Самым простым случаем такой идентификации являются пары вида \"текст - текст\", например, \"страна - столица\", \"слово - его значение\" и т.д."
   ]
  },
  {
   "cell_type": "markdown",
   "metadata": {
    "id": "5yJOYLlBOqnM"
   },
   "source": [
    "Структура данных, позволяющая идентифицировать ее элементы не по числовому индексу, а по индексу произвольного типа, называется **словарем или ассоциативным массивом** и в Питоне - `dict`. Идентификатор в Питоне называется `key` (ключ), а соответствующий элемент - `value` (значение).\n",
    "\n",
    "<img src=\"https://developers.google.com/edu/python/images/dict.png\" width=\"300\">\n",
    "\n",
    "Очень важно, чтобы ключ был 1) **уникален**, т.е. в словаре не может быть двух одинаковых ключей с разным значением 2) **неизменяемого типа**, т.е. список не может быть ключом, а кортеж может. В качестве значения может выступать любой тип данных, в том числе другой словарь, или даже функция."
   ]
  },
  {
   "cell_type": "markdown",
   "metadata": {
    "id": "-1xu1HkYOqnP"
   },
   "source": [
    "###  Создание словаря  "
   ]
  },
  {
   "cell_type": "markdown",
   "metadata": {
    "id": "JdwTvcqUOqnQ"
   },
   "source": [
    "Словарь можно создать с помощью функции `dict()` из набора пар **ключ - значение** и им может быть:\n",
    "\n",
    "1. кортеж/список, элемент которого кортеж/список длины 2"
   ]
  },
  {
   "cell_type": "code",
   "execution_count": 1,
   "metadata": {
    "id": "xc-VxizHOqnS",
    "outputId": "2a73a053-82ae-4803-9917-c69a1f7e62e3"
   },
   "outputs": [],
   "source": [
    "# список списков\n",
    "a = dict([\n",
    "    [\"Russia\", \"Moscow\"], \n",
    "    [\"Ukraine\", \"Kiev\"], \n",
    "    [\"USA\", \"Washington\"]\n",
    "]) "
   ]
  },
  {
   "cell_type": "code",
   "execution_count": 2,
   "metadata": {
    "id": "xc-VxizHOqnS",
    "outputId": "2a73a053-82ae-4803-9917-c69a1f7e62e3"
   },
   "outputs": [],
   "source": [
    "# список кортежей\n",
    "a = dict([\n",
    "    (\"Russia\", \"Moscow\"),\n",
    "    (\"Ukraine\", \"Kiev\"),\n",
    "    (\"USA\", \"Washington\")\n",
    "])"
   ]
  },
  {
   "cell_type": "code",
   "execution_count": 3,
   "metadata": {
    "id": "xc-VxizHOqnS",
    "outputId": "2a73a053-82ae-4803-9917-c69a1f7e62e3"
   },
   "outputs": [],
   "source": [
    "# кортеж списков\n",
    "a = dict((\n",
    "    [\"Russia\", \"Moscow\"], \n",
    "    [\"Ukraine\", \"Kiev\"], \n",
    "    [\"USA\", \"Washington\"]\n",
    "))"
   ]
  },
  {
   "cell_type": "code",
   "execution_count": 4,
   "metadata": {
    "id": "xc-VxizHOqnS",
    "outputId": "2a73a053-82ae-4803-9917-c69a1f7e62e3"
   },
   "outputs": [],
   "source": [
    "# кортеж кортежей\n",
    "a = dict((\n",
    "    (\"Russia\", \"Moscow\"), \n",
    "    (\"Ukraine\", \"Kiev\"), \n",
    "    (\"USA\", \"Washington\")\n",
    ")) "
   ]
  },
  {
   "cell_type": "code",
   "execution_count": 5,
   "metadata": {},
   "outputs": [
    {
     "name": "stdout",
     "output_type": "stream",
     "text": [
      "{'Russia': 'Moscow', 'Ukraine': 'Kiev', 'USA': 'Washington'}\n"
     ]
    }
   ],
   "source": [
    "print(a)"
   ]
  },
  {
   "cell_type": "markdown",
   "metadata": {
    "id": "0VXtSJ0yOqna"
   },
   "source": [
    "2. `zip` объект с элементами длины 2"
   ]
  },
  {
   "cell_type": "code",
   "execution_count": 22,
   "metadata": {
    "id": "oBj0yYrCOqnb",
    "outputId": "7f460332-812e-49f5-cb06-61a3a04a235d"
   },
   "outputs": [
    {
     "name": "stdout",
     "output_type": "stream",
     "text": [
      "{'Russia': 'Moscow', 'Ukraine': 'Kiev', 'USA': 'Washington'}\n"
     ]
    }
   ],
   "source": [
    "# zip \n",
    "z = zip([\"Russia\", \"Ukraine\", \"USA\"], [\"Moscow\", \"Kiev\", \"Washington\"])\n",
    "a = dict(z)\n",
    "print(a)"
   ]
  },
  {
   "cell_type": "markdown",
   "metadata": {
    "id": "HczNs6zyOqne"
   },
   "source": [
    "3. генератор словаря `{ key : value for _ in _}`, обратите внимание на то, что пара передается с помощью разделения их двоеточием."
   ]
  },
  {
   "cell_type": "code",
   "execution_count": 15,
   "metadata": {
    "id": "yi8zjqMGOqng",
    "outputId": "30a4032c-56d8-4a30-91f5-931beedec830"
   },
   "outputs": [
    {
     "name": "stdout",
     "output_type": "stream",
     "text": [
      "{'a': 0, 'b': 0, 'c': 0, 'd': 0, 'e': 0, 'f': 0}\n"
     ]
    }
   ],
   "source": [
    "a = {x : 0 for x in 'abcdef'}\n",
    "print(a)"
   ]
  },
  {
   "cell_type": "markdown",
   "metadata": {
    "id": "1sdPJ1MKOqni"
   },
   "source": [
    "4. перечисление пар:\n",
    "    * внутри фигурных скобок через запятую вида `key : value`\n",
    "    * внутри функции `dict` в виде именованых аргументов (тогда ключом может быть _только_ строка)"
   ]
  },
  {
   "cell_type": "code",
   "execution_count": 12,
   "metadata": {
    "id": "kWzkqlp0Oqnj",
    "outputId": "a1671b65-da3d-4c8c-90ae-74083e2989f7"
   },
   "outputs": [],
   "source": [
    "# фигурные скобки \n",
    "a = {'Russia': 'Moscow', 'Ukraine': 'Kiev', 'USA': 'Washington'}"
   ]
  },
  {
   "cell_type": "code",
   "execution_count": 13,
   "metadata": {
    "id": "kWzkqlp0Oqnj",
    "outputId": "a1671b65-da3d-4c8c-90ae-74083e2989f7"
   },
   "outputs": [],
   "source": [
    "# именованые аргументы\n",
    "a = dict(Russia = 'Moscow', Ukraine = 'Kiev', USA = 'Washington')"
   ]
  },
  {
   "cell_type": "code",
   "execution_count": 14,
   "metadata": {
    "id": "kWzkqlp0Oqnj",
    "outputId": "a1671b65-da3d-4c8c-90ae-74083e2989f7"
   },
   "outputs": [],
   "source": [
    "# смесь\n",
    "a = dict({'Russia': 'Moscow', 'Ukraine': 'Kiev'}, USA = 'Washington')"
   ]
  },
  {
   "cell_type": "markdown",
   "metadata": {
    "id": "6mJ0C8DeOqnl"
   },
   "source": [
    "Пустой словарь можно создать при помощи функции `dict()` или пустой пары фигурных скобок `{}`. "
   ]
  },
  {
   "cell_type": "code",
   "execution_count": 28,
   "metadata": {
    "id": "lFctdxQhOqnm",
    "outputId": "f1937a0d-be56-4ffd-bfd5-899fb46fea12"
   },
   "outputs": [
    {
     "name": "stdout",
     "output_type": "stream",
     "text": [
      "{} {}\n"
     ]
    }
   ],
   "source": [
    "print(\n",
    "    dict(), {}\n",
    ")"
   ]
  },
  {
   "cell_type": "markdown",
   "metadata": {},
   "source": [
    "Решите задачу: https://contest.yandex.ru/contest/30003/problems/A/"
   ]
  },
  {
   "cell_type": "markdown",
   "metadata": {
    "id": "ikzxQfiXOqno"
   },
   "source": [
    "###  Функции применимые к словарям  "
   ]
  },
  {
   "cell_type": "code",
   "execution_count": 48,
   "metadata": {
    "id": "fV-gS0poOqnp"
   },
   "outputs": [],
   "source": [
    "d = {'Russia': 'Moscow', 'Ukraine': 'Kiev', 'USA': 'Washington'}"
   ]
  },
  {
   "cell_type": "markdown",
   "metadata": {
    "id": "bFPKl2TeOqnq"
   },
   "source": [
    "Cловарь это итерируемый изменяемый тип данных. С помощью функции `list` можно получить список его ключей (без значений!) в том порядке, в каком они были добавлены; `sorted` возвращает отсортированный список ключей; функция `len` как обычно возвращает число элементов."
   ]
  },
  {
   "cell_type": "code",
   "execution_count": 49,
   "metadata": {
    "id": "ERuGiKxYOqnr",
    "outputId": "9b45c58a-7f3e-466e-83b6-56b64bf91d49"
   },
   "outputs": [
    {
     "name": "stdout",
     "output_type": "stream",
     "text": [
      "['Russia', 'Ukraine', 'USA']\n",
      "['Russia', 'USA', 'Ukraine']\n",
      "3\n"
     ]
    }
   ],
   "source": [
    "print(\n",
    "    list(d), \n",
    "    sorted(d), \n",
    "    len(d), \n",
    "sep='\\n')"
   ]
  },
  {
   "cell_type": "markdown",
   "metadata": {
    "id": "k8zZRfyKOqnt"
   },
   "source": [
    "`d.copy()` - возвращает копию* словаря;\n",
    "\n",
    "`d.clear()` - удаляет все элементы словаря"
   ]
  },
  {
   "cell_type": "code",
   "execution_count": 50,
   "metadata": {
    "id": "oBij5ifkOqnu",
    "outputId": "3a9a63a1-c48f-486b-9555-ec36eb33e362"
   },
   "outputs": [
    {
     "name": "stdout",
     "output_type": "stream",
     "text": [
      "{'Russia': 'Moscow', 'Ukraine': 'Kiev', 'USA': 'Washington'}\n",
      "{}\n"
     ]
    }
   ],
   "source": [
    "d2 = d.copy()\n",
    "d.clear()\n",
    "print(\n",
    "    d2, \n",
    "    d, \n",
    "sep='\\n')"
   ]
  },
  {
   "cell_type": "markdown",
   "metadata": {
    "id": "BXRqAliFOqnv"
   },
   "source": [
    "\\* копировать словарь так же важно, как копировать список - т.к. это изменяемый тип данных, то присваивая словарь новому имени переменной мы не создаем новый объект, а лишь создаем новую \"ссылку\" на объект, поэтому, меняя старый или новый объект, будем меняться другой:"
   ]
  },
  {
   "cell_type": "code",
   "execution_count": 51,
   "metadata": {
    "id": "1i6leEPiOqnx",
    "outputId": "d360ba25-d8f1-44f7-9552-35b326f00e0c"
   },
   "outputs": [
    {
     "name": "stdout",
     "output_type": "stream",
     "text": [
      "{}\n",
      "{}\n"
     ]
    }
   ],
   "source": [
    "d = {'Russia': 'Moscow', 'Ukraine': 'Kiev', 'USA': 'Washington'}\n",
    "d2 = d\n",
    "d.clear()\n",
    "print(\n",
    "    d2, \n",
    "    d,\n",
    "sep='\\n')"
   ]
  },
  {
   "cell_type": "markdown",
   "metadata": {
    "id": "8lkK6rmpOqnz"
   },
   "source": [
    "`d.update(other)` - обновляет (пополняет новыми ключами и заменяет значения уже имеющихся) словарь парами `key:value` из `other`. Этот метод __изменяет__ сам объект, а не создает новый, поэтому возвращает `None` (так же работает, например, `append` списка)."
   ]
  },
  {
   "cell_type": "code",
   "execution_count": 52,
   "metadata": {
    "id": "aAGkX7uoOqn0",
    "outputId": "5dc4d164-ca31-4030-e64c-6c4e20b9883c"
   },
   "outputs": [
    {
     "name": "stdout",
     "output_type": "stream",
     "text": [
      "{'Russia': 'St Petersburg', 'Ukraine': 'Kiev', 'USA': 'Washington', 'Romania': 'Buharest'}\n"
     ]
    }
   ],
   "source": [
    "d = {'Russia': 'Moscow', 'Ukraine': 'Kiev', 'USA': 'Washington'}\n",
    "# заметьте как поменяется ключ-значение Russia-Moscow\n",
    "d.update({'Russia' : 'St Petersburg', 'Romania' : 'Buharest'})\n",
    "\n",
    "print(d)"
   ]
  },
  {
   "cell_type": "markdown",
   "metadata": {
    "id": "Zl_RrU-NOqn2"
   },
   "source": [
    "###  Работа с ключами и значениями  \n",
    "\n",
    "Как и в списке, **обратиться к элементу или изменить его** можно по идентификатору с помощью квадратных скобок. Если указанного ключа в словаре не существует, то Питон ругается ошибкой `KeyError`."
   ]
  },
  {
   "cell_type": "code",
   "execution_count": 53,
   "metadata": {
    "id": "TroC2uKaOqn3",
    "outputId": "ffabfaeb-50e8-436e-ed09-97304baf3d11"
   },
   "outputs": [
    {
     "name": "stdout",
     "output_type": "stream",
     "text": [
      "Washington\n"
     ]
    }
   ],
   "source": [
    "# обратились к значению по ключу \n",
    "print(d['USA'])"
   ]
  },
  {
   "cell_type": "code",
   "execution_count": 54,
   "metadata": {
    "id": "VZwyGHpxOqn4"
   },
   "outputs": [],
   "source": [
    "# изменили значение по ключу (как в списках)\n",
    "d['Russia'] = 'Moscow'"
   ]
  },
  {
   "cell_type": "code",
   "execution_count": 55,
   "metadata": {
    "id": "Izb6wqLOOqn5",
    "outputId": "7b67ea7a-4ac2-4428-edb6-e84453eefc12"
   },
   "outputs": [
    {
     "ename": "KeyError",
     "evalue": "'Finland'",
     "output_type": "error",
     "traceback": [
      "\u001b[0;31m---------------------------------------------------------------------------\u001b[0m",
      "\u001b[0;31mKeyError\u001b[0m                                  Traceback (most recent call last)",
      "\u001b[0;32m<ipython-input-55-54ae3a51ddf7>\u001b[0m in \u001b[0;36m<module>\u001b[0;34m\u001b[0m\n\u001b[1;32m      1\u001b[0m \u001b[0;31m# обратились к несуществующему ключу\u001b[0m\u001b[0;34m\u001b[0m\u001b[0;34m\u001b[0m\u001b[0;34m\u001b[0m\u001b[0m\n\u001b[0;32m----> 2\u001b[0;31m \u001b[0md\u001b[0m\u001b[0;34m[\u001b[0m\u001b[0;34m'Finland'\u001b[0m\u001b[0;34m]\u001b[0m\u001b[0;34m\u001b[0m\u001b[0;34m\u001b[0m\u001b[0m\n\u001b[0m",
      "\u001b[0;31mKeyError\u001b[0m: 'Finland'"
     ]
    }
   ],
   "source": [
    "# обратились к несуществующему ключу\n",
    "d['Finland']"
   ]
  },
  {
   "cell_type": "markdown",
   "metadata": {
    "id": "spnlauLnOqn7"
   },
   "source": [
    "Можно проверить, **лежит ли ключ в словаре**:"
   ]
  },
  {
   "cell_type": "code",
   "execution_count": 56,
   "metadata": {
    "id": "zGfVR9woOqn8",
    "outputId": "0bd296fa-936d-42a1-8292-f2cfcae0983d"
   },
   "outputs": [
    {
     "name": "stdout",
     "output_type": "stream",
     "text": [
      "False\n",
      "True\n",
      "True\n",
      "False\n"
     ]
    }
   ],
   "source": [
    "print(\n",
    "    'Finland' in d, \n",
    "    'USA' in d, \n",
    "    'Finland' not in d, \n",
    "    'USA' not in d,\n",
    "sep='\\n')"
   ]
  },
  {
   "cell_type": "markdown",
   "metadata": {
    "id": "-e0E5ld3OqoB"
   },
   "source": [
    "В отличие от списков, создание нового элемента словаря может быть совершено с помощью тех же квадратных скобок:"
   ]
  },
  {
   "cell_type": "code",
   "execution_count": 57,
   "metadata": {
    "id": "ck98G5bJOqoC",
    "outputId": "e5a68821-f3a2-44b7-e3f9-4ee3e04ed952"
   },
   "outputs": [
    {
     "name": "stdout",
     "output_type": "stream",
     "text": [
      "{'Russia': 'Moscow', 'Ukraine': 'Kiev', 'USA': 'Washington', 'Romania': 'Buharest', 'Hungary': 'Budapest'}\n"
     ]
    }
   ],
   "source": [
    "d['Hungary'] = 'Budapest'\n",
    "print(d)"
   ]
  },
  {
   "cell_type": "markdown",
   "metadata": {
    "id": "PkJlHoiKOqn9"
   },
   "source": [
    "Однако, можно обратиться к значению по ключу и без ошибки. Для этого есть метод `get(key, [default=None])`, который возвращает значение ключа, если ключ есть в словаре, иначе возвращает значение `default`, которое по дефолту (ого, тавтология) `None`."
   ]
  },
  {
   "cell_type": "code",
   "execution_count": 58,
   "metadata": {
    "id": "8Nc8QPiAOqn_",
    "outputId": "af5a9cf5-d99f-4378-87e7-e7211785d975"
   },
   "outputs": [
    {
     "name": "stdout",
     "output_type": "stream",
     "text": [
      "Washington\n"
     ]
    }
   ],
   "source": [
    "a = d.get('USA') # такой ключ есть, выдаст его значение\n",
    "print(a)"
   ]
  },
  {
   "cell_type": "code",
   "execution_count": 59,
   "metadata": {
    "id": "8Nc8QPiAOqn_",
    "outputId": "af5a9cf5-d99f-4378-87e7-e7211785d975"
   },
   "outputs": [
    {
     "name": "stdout",
     "output_type": "stream",
     "text": [
      "None\n"
     ]
    }
   ],
   "source": [
    "a = d.get('Finland') # такого ключа нет, выдаст None\n",
    "print(a)"
   ]
  },
  {
   "cell_type": "code",
   "execution_count": 60,
   "metadata": {
    "id": "8Nc8QPiAOqn_",
    "outputId": "af5a9cf5-d99f-4378-87e7-e7211785d975"
   },
   "outputs": [
    {
     "name": "stdout",
     "output_type": "stream",
     "text": [
      "Not given\n"
     ]
    }
   ],
   "source": [
    "a = d.get('Finland', 'Not given') # такого ключа нет и мы указали позиционный параметр, выдаст 'Not Given'\n",
    "print(a)"
   ]
  },
  {
   "cell_type": "markdown",
   "metadata": {},
   "source": [
    "Почему это удобно, спросите вы? Вот вам usage case!"
   ]
  },
  {
   "cell_type": "code",
   "execution_count": 61,
   "metadata": {},
   "outputs": [],
   "source": [
    "# Хотим провести частотный анализ текста\n",
    "text = 'мама мыла раму рама мыла маму мама мыла маму рама мыла раму'\n",
    "words = text.split()"
   ]
  },
  {
   "cell_type": "code",
   "execution_count": 62,
   "metadata": {},
   "outputs": [],
   "source": [
    "# то есть создать словарь вида {слово : кол-во встречаний в тексте}\n",
    "frequence_dict = {}\n",
    "for word in words:\n",
    "    if word in frequence_dict:\n",
    "        frequence_dict[word] += 1\n",
    "    else:\n",
    "        frequence_dict[word] = 1"
   ]
  },
  {
   "cell_type": "code",
   "execution_count": 63,
   "metadata": {},
   "outputs": [],
   "source": [
    "# но зная метод, можно написать более элегантный код!\n",
    "frequence_dict = {}\n",
    "for word in words:\n",
    "    frequence_dict[word] = frequence_dict.get(word, 0) + 1"
   ]
  },
  {
   "cell_type": "code",
   "execution_count": 64,
   "metadata": {},
   "outputs": [
    {
     "data": {
      "text/plain": [
       "{'мама': 2, 'мыла': 4, 'раму': 2, 'рама': 2, 'маму': 2}"
      ]
     },
     "execution_count": 64,
     "metadata": {},
     "output_type": "execute_result"
    }
   ],
   "source": [
    "frequence_dict"
   ]
  },
  {
   "cell_type": "markdown",
   "metadata": {
    "id": "CV2Lx7BUOqoE"
   },
   "source": [
    "Есть похожий на `get` метод, который тоже создает новые элементы, но не явно и в более общем смысле. \n",
    "Метод `set(key, [default=None])` возвращает значение ключа, если ключ есть в словаре, иначе создает элемент словаря с этим ключом и значением `default` (который по дефолту `None`)"
   ]
  },
  {
   "cell_type": "code",
   "execution_count": 66,
   "metadata": {},
   "outputs": [],
   "source": [
    "d = {'Russia': 'Moscow', 'Ukraine': 'Kiev', 'USA': 'Washington'}"
   ]
  },
  {
   "cell_type": "code",
   "execution_count": 67,
   "metadata": {
    "id": "T5OVeOfhOqoH",
    "outputId": "c6f6ac2d-b18a-4e80-f342-7f77583841ac"
   },
   "outputs": [
    {
     "name": "stdout",
     "output_type": "stream",
     "text": [
      "Washington\n",
      "{'Russia': 'Moscow', 'Ukraine': 'Kiev', 'USA': 'Washington'}\n"
     ]
    }
   ],
   "source": [
    "a = d.setdefault('USA')\n",
    "print(a)\n",
    "print(d)"
   ]
  },
  {
   "cell_type": "code",
   "execution_count": 68,
   "metadata": {
    "id": "T5OVeOfhOqoH",
    "outputId": "c6f6ac2d-b18a-4e80-f342-7f77583841ac"
   },
   "outputs": [
    {
     "name": "stdout",
     "output_type": "stream",
     "text": [
      "None\n",
      "{'Russia': 'Moscow', 'Ukraine': 'Kiev', 'USA': 'Washington', 'Poland': None}\n"
     ]
    }
   ],
   "source": [
    "a = d.setdefault('Poland')\n",
    "print(a)\n",
    "print(d)"
   ]
  },
  {
   "cell_type": "markdown",
   "metadata": {
    "id": "MHzxb0nlOqoL"
   },
   "source": [
    "Чтобы **удалить элемент** словаря можно воспользовать командой `del`, с помощью которой на самом деле уможно удалить любой объект в Питоне. Однакое, если указанного ключа в словаре нет, то Питон будет ругаться `KeyError`-ом, как и в случае без `del`."
   ]
  },
  {
   "cell_type": "code",
   "execution_count": 69,
   "metadata": {
    "id": "ovm2saWzOqoR"
   },
   "outputs": [],
   "source": [
    "del d['Poland']"
   ]
  },
  {
   "cell_type": "code",
   "execution_count": 72,
   "metadata": {
    "id": "ovm2saWzOqoR"
   },
   "outputs": [
    {
     "ename": "KeyError",
     "evalue": "'Sweden'",
     "output_type": "error",
     "traceback": [
      "\u001b[0;31m---------------------------------------------------------------------------\u001b[0m",
      "\u001b[0;31mKeyError\u001b[0m                                  Traceback (most recent call last)",
      "\u001b[0;32m<ipython-input-72-0da47ec197e2>\u001b[0m in \u001b[0;36m<module>\u001b[0;34m\u001b[0m\n\u001b[0;32m----> 1\u001b[0;31m \u001b[0;32mdel\u001b[0m \u001b[0md\u001b[0m\u001b[0;34m[\u001b[0m\u001b[0;34m'Sweden'\u001b[0m\u001b[0;34m]\u001b[0m\u001b[0;34m\u001b[0m\u001b[0;34m\u001b[0m\u001b[0m\n\u001b[0m",
      "\u001b[0;31mKeyError\u001b[0m: 'Sweden'"
     ]
    }
   ],
   "source": [
    "del d['Sweden'] "
   ]
  },
  {
   "cell_type": "markdown",
   "metadata": {
    "id": "jISR8P8rOqoS"
   },
   "source": [
    "Более безопасный способ это использовать метод `pop(key, [default])`, который похож на метод `pop` для списка. Если ключ есть в словаре, то метод удаляет элемент и возвращает значения ключа. Есть ключа нет, то возвращается указанное значение `default`, но если `default` не указан, то Питон будет ругаться `KeyError`-ом как и в небезопасном способе."
   ]
  },
  {
   "cell_type": "code",
   "execution_count": 73,
   "metadata": {
    "id": "nGmUzijCOqoT",
    "outputId": "ce16edf0-7525-4eee-dc43-b84909da3482"
   },
   "outputs": [
    {
     "name": "stdout",
     "output_type": "stream",
     "text": [
      "Washington\n",
      "{'Russia': 'Moscow', 'Ukraine': 'Kiev'}\n"
     ]
    }
   ],
   "source": [
    "a = d.pop('USA')\n",
    "print(a)\n",
    "print(d)"
   ]
  },
  {
   "cell_type": "code",
   "execution_count": 74,
   "metadata": {
    "id": "r5sXlhDNOqoU",
    "outputId": "d2343ed5-50ed-4054-bfb7-b67c90a049de"
   },
   "outputs": [
    {
     "name": "stdout",
     "output_type": "stream",
     "text": [
      "{'Russia': 'Moscow', 'Ukraine': 'Kiev'}\n"
     ]
    }
   ],
   "source": [
    "a = d.pop('USA', 'Not found')\n",
    "print(d)"
   ]
  },
  {
   "cell_type": "code",
   "execution_count": 75,
   "metadata": {
    "id": "LUZA2ox1OqoV",
    "outputId": "32d586b6-4e5c-4977-a1c5-0ec761750e08"
   },
   "outputs": [
    {
     "ename": "KeyError",
     "evalue": "'USA'",
     "output_type": "error",
     "traceback": [
      "\u001b[0;31m---------------------------------------------------------------------------\u001b[0m",
      "\u001b[0;31mKeyError\u001b[0m                                  Traceback (most recent call last)",
      "\u001b[0;32m<ipython-input-75-475a64c5a294>\u001b[0m in \u001b[0;36m<module>\u001b[0;34m\u001b[0m\n\u001b[0;32m----> 1\u001b[0;31m \u001b[0ma\u001b[0m \u001b[0;34m=\u001b[0m \u001b[0md\u001b[0m\u001b[0;34m.\u001b[0m\u001b[0mpop\u001b[0m\u001b[0;34m(\u001b[0m\u001b[0;34m'USA'\u001b[0m\u001b[0;34m)\u001b[0m\u001b[0;34m\u001b[0m\u001b[0;34m\u001b[0m\u001b[0m\n\u001b[0m\u001b[1;32m      2\u001b[0m \u001b[0mprint\u001b[0m\u001b[0;34m(\u001b[0m\u001b[0ms\u001b[0m\u001b[0;34m)\u001b[0m\u001b[0;34m\u001b[0m\u001b[0;34m\u001b[0m\u001b[0m\n",
      "\u001b[0;31mKeyError\u001b[0m: 'USA'"
     ]
    }
   ],
   "source": [
    "a = d.pop('USA') # мы должны указать параметр\n",
    "print(d)"
   ]
  },
  {
   "cell_type": "markdown",
   "metadata": {
    "id": "1-HVpjqaOqoW"
   },
   "source": [
    "Еще один, но не \"детерминированный\", способ - `popitem()`. Он удаляет **какой-то** элемент и возвращает пару `(key, value)`. Порядок, в котором метод \"идет\" по элементам, называется LIFO - Last In First Out, т.е. в порядке обратном добавлению элементов. В таком же порядке печатается словарь.\n",
    "\n",
    "Если словарь пустой, то Питон ругается."
   ]
  },
  {
   "cell_type": "code",
   "execution_count": 80,
   "metadata": {
    "id": "QVNkhZ1rOqoX",
    "outputId": "a2c20158-1b91-4223-ed73-b9c882c63776"
   },
   "outputs": [],
   "source": [
    "d = {'Russia': 'Moscow', 'Ukraine': 'Kiev', 'USA': 'Washington'}"
   ]
  },
  {
   "cell_type": "code",
   "execution_count": 81,
   "metadata": {
    "id": "Nbftc2pXOqoY",
    "outputId": "32e0259e-7df6-4dda-83d4-9f495324a7b5"
   },
   "outputs": [
    {
     "name": "stdout",
     "output_type": "stream",
     "text": [
      "('USA', 'Washington')\n",
      "{'Russia': 'Moscow', 'Ukraine': 'Kiev'}\n"
     ]
    }
   ],
   "source": [
    "a = d.popitem()\n",
    "print(a)\n",
    "print(d)"
   ]
  },
  {
   "cell_type": "code",
   "execution_count": 82,
   "metadata": {
    "id": "Nbftc2pXOqoY",
    "outputId": "32e0259e-7df6-4dda-83d4-9f495324a7b5"
   },
   "outputs": [
    {
     "name": "stdout",
     "output_type": "stream",
     "text": [
      "('Ukraine', 'Kiev')\n",
      "{'Russia': 'Moscow'}\n"
     ]
    }
   ],
   "source": [
    "a = d.popitem()\n",
    "print(a)\n",
    "print(d)"
   ]
  },
  {
   "cell_type": "markdown",
   "metadata": {},
   "source": [
    "Решите задачи: \n",
    "- https://contest.yandex.ru/contest/30003/problems/B/\n",
    "- https://contest.yandex.ru/contest/30003/problems/С/"
   ]
  },
  {
   "cell_type": "markdown",
   "metadata": {
    "id": "qsbh14FHOqob"
   },
   "source": [
    "###  Итерирование по словарю  \n",
    "\n",
    "Мы уже упоминали, что словарь - итерируемый объект, а значит по элементам можно проитерироваться циклом. Причем, так как словарь не дает прямого доступа к значениям элементов, т.е. мы к ним всегда имеем доступ только через ключ, то **возвращаться будут только ключи**.\n",
    "\n",
    "Порядок прохода по элементам такой же, в котором были добавлены элементы."
   ]
  },
  {
   "cell_type": "code",
   "execution_count": 83,
   "metadata": {
    "id": "A8g4qudDOqoc",
    "outputId": "9298e678-3b70-4fd7-e194-cb72d5b9cc8c"
   },
   "outputs": [
    {
     "name": "stdout",
     "output_type": "stream",
     "text": [
      "Возващаемый ключ: Russia,\tзначение по ключу: Moscow\n",
      "Возващаемый ключ: Ukraine,\tзначение по ключу: Kiev\n",
      "Возващаемый ключ: USA,\tзначение по ключу: Washington\n"
     ]
    }
   ],
   "source": [
    "d = {'Russia': 'Moscow', 'Ukraine': 'Kiev', 'USA': 'Washington'}\n",
    "\n",
    "for x in d:\n",
    "    print(f'Возващаемый ключ: {x},\\tзначение по ключу: {d[x]}')"
   ]
  },
  {
   "cell_type": "markdown",
   "metadata": {
    "id": "at3hqFVLOqod"
   },
   "source": [
    "Помимо этого, есть три метода:\n",
    "* `items()` - итерируемый объект типа `dict_items`, элементы которого пары `(key, value)`\n",
    "* `keys()` - итерируемый объект типа `dict_keys`, элементы которого ключи словаря\n",
    "* `values()` - итерируемый объект типа `dict_values`, элементы которого значения словаря\n",
    "\n",
    "Заметьте, что эти объекты не поддерживают индексацию, поэтому например нельзя написать `d.items()[1]`."
   ]
  },
  {
   "cell_type": "code",
   "execution_count": 87,
   "metadata": {
    "id": "fQm9Squ5Oqoe",
    "outputId": "7f3f3bbe-91d5-4042-8a2c-fd2115d38308"
   },
   "outputs": [
    {
     "name": "stdout",
     "output_type": "stream",
     "text": [
      "dict_items([('Russia', 'Moscow'), ('Ukraine', 'Kiev'), ('USA', 'Washington')])\n"
     ]
    }
   ],
   "source": [
    "print(d.items())"
   ]
  },
  {
   "cell_type": "code",
   "execution_count": 88,
   "metadata": {
    "id": "fQm9Squ5Oqoe",
    "outputId": "7f3f3bbe-91d5-4042-8a2c-fd2115d38308"
   },
   "outputs": [
    {
     "name": "stdout",
     "output_type": "stream",
     "text": [
      "dict_keys(['Russia', 'Ukraine', 'USA'])\n"
     ]
    }
   ],
   "source": [
    "print(d.keys())"
   ]
  },
  {
   "cell_type": "code",
   "execution_count": 89,
   "metadata": {
    "id": "fQm9Squ5Oqoe",
    "outputId": "7f3f3bbe-91d5-4042-8a2c-fd2115d38308"
   },
   "outputs": [
    {
     "name": "stdout",
     "output_type": "stream",
     "text": [
      "dict_values(['Moscow', 'Kiev', 'Washington'])\n"
     ]
    }
   ],
   "source": [
    "print(d.values())"
   ]
  },
  {
   "cell_type": "code",
   "execution_count": 86,
   "metadata": {
    "id": "fQm9Squ5Oqoe",
    "outputId": "7f3f3bbe-91d5-4042-8a2c-fd2115d38308"
   },
   "outputs": [
    {
     "name": "stdout",
     "output_type": "stream",
     "text": [
      "<class 'dict_items'>\n",
      "<class 'dict_keys'>\n",
      "<class 'dict_values'>\n"
     ]
    }
   ],
   "source": [
    "print(\n",
    "    type(d.items()), \n",
    "    type(d.keys()), \n",
    "    type(d.values()),\n",
    "sep='\\n')"
   ]
  },
  {
   "cell_type": "markdown",
   "metadata": {},
   "source": [
    "Поэтому самый удобный способ проитерироваться по парам словаря вот такой:"
   ]
  },
  {
   "cell_type": "code",
   "execution_count": 92,
   "metadata": {
    "id": "UlO3xoPnOqog",
    "outputId": "4073149e-b9fc-4108-f61b-e79f01dd8a81"
   },
   "outputs": [
    {
     "name": "stdout",
     "output_type": "stream",
     "text": [
      "Russia: Moscow\n",
      "Ukraine: Kiev\n",
      "USA: Washington\n"
     ]
    }
   ],
   "source": [
    "for k, v in d.items():\n",
    "    print(f'{k}: {v}')"
   ]
  },
  {
   "cell_type": "markdown",
   "metadata": {},
   "source": [
    "Решите задачи:\n",
    "- https://contest.yandex.ru/contest/30003/problems/D/\n",
    "- https://contest.yandex.ru/contest/30003/problems/E/\n",
    "- https://contest.yandex.ru/contest/30003/problems/F/"
   ]
  },
  {
   "cell_type": "markdown",
   "metadata": {
    "id": "6ak1AQM9Oqoh"
   },
   "source": [
    "###  Когда нужно использовать словари  \n",
    "\n",
    "Особенностью ассоциативного массива является его динамичность: в него можно добавлять новые элементы с произвольными ключами и удалять уже существующие элементы. При этом размер используемой памяти пропорционален размеру ассоциативного массива. Доступ к элементам ассоциативного массива выполняется хоть и медленнее, чем к обычным массивам, но в целом довольно быстро."
   ]
  },
  {
   "cell_type": "markdown",
   "metadata": {
    "id": "aFSxjPP5Oqoj"
   },
   "source": [
    "Словари нужно использовать в следующих случаях:\n",
    "\n",
    "* Подсчет числа каких-то объектов. В этом случае нужно завести словарь, в котором ключами являются объекты, а значениями — их количество.\n",
    "* Хранение каких-либо данных, связанных с объектом. Ключи — объекты, значения — связанные с ними данные. Например, если нужно по названию месяца определить его порядковый номер, то это можно сделать при помощи словаря Num['January'] = 1; Num['February'] = 2; ....\n",
    "* Установка соответствия между объектами (например, \"родитель—потомок\"). Ключ — объект, значение — соответствующий ему объект.\n",
    "* Если нужен обычный массив, но масимальное значение индекса элемента очень велико, и при этом будут использоваться не все возможные индексы (так называемый “разреженный массив”), то можно использовать ассоциативный массив для экономии памяти."
   ]
  },
  {
   "cell_type": "markdown",
   "metadata": {},
   "source": [
    "#### Last but not least... Именованные аргументы функций.\n",
    "\n",
    "Параметры функций можно очень удобно подавать в виде словарей. Главное не иметь в словари \"лишних\" ключей. \n",
    "Это делается таким образом:"
   ]
  },
  {
   "cell_type": "code",
   "execution_count": 118,
   "metadata": {},
   "outputs": [
    {
     "name": "stdout",
     "output_type": "stream",
     "text": [
      "Awesome\n"
     ]
    }
   ],
   "source": [
    "def myfunc(temp, velocity, verbosity, speed, creativness):\n",
    "    print('Awesome')\n",
    "    \n",
    "mykwargs = {\n",
    "    'temp' : 12.3,\n",
    "    'velocity' : 10,\n",
    "    'verbosity' : 'quiet',\n",
    "    'speed' : 'real',\n",
    "    'creativness' : '100%'    \n",
    "}\n",
    "\n",
    "myfunc(**mykwargs)"
   ]
  },
  {
   "cell_type": "markdown",
   "metadata": {
    "id": "hJkjp_C-OtCg"
   },
   "source": [
    "###  Хэш-таблицы   \n",
    "\n",
    "Мы изучили множество и словарь, а также введение в алгоритмические сложности. \n",
    "Обе структуры данных используют хэш-таблицы для того, чтобы _очень_ быстро добавлять, удалять и искать ключи/значения. Давайте поймем, как устроен этот хитрый алгоритм."
   ]
  },
  {
   "cell_type": "markdown",
   "metadata": {
    "id": "CJoe7eSWOtCh"
   },
   "source": [
    "Начнем с того, что такое [хэш-таблица](https://en.wikipedia.org/wiki/Hash_table).\n",
    "\n",
    "Хеш-таблица содержит некоторый массив $H$ (buckets), элементы которого есть пары индекс-значение.\n",
    "\n",
    "Выполнение операции в хеш-таблице начинается с вычисления хеш-функции от ключа.\n",
    "\n",
    "Хэш функция - \n",
    "\n",
    "\n",
    "Получающееся хеш-значение $hash(key)$ играет роль индекса $i$ в массиве значений $H$. Затем выполняемая операция (добавление, удаление или поиск) перенаправляется объекту, который хранится в соответствующей ячейке массива $H[i]$. Именно хэш-функция позволяет нам иметь к объекту быстрый доступ, так как все что нужно, чтобы найти объект в массиве, это вычислить индекс с помощью функции. "
   ]
  },
  {
   "cell_type": "markdown",
   "metadata": {
    "id": "5QhCZN-mOtCj"
   },
   "source": [
    "Более наглядно:\n",
    "<img src='https://i.stack.imgur.com/tiD5Z.png'>"
   ]
  },
  {
   "cell_type": "markdown",
   "metadata": {
    "id": "CJoe7eSWOtCh"
   },
   "source": [
    "Простой пример хэш-функции:\n",
    "- отображаемые ключи: слова\n",
    "- функция: сумма порядковых номеров букв в алфавите"
   ]
  },
  {
   "cell_type": "code",
   "execution_count": 99,
   "metadata": {},
   "outputs": [
    {
     "name": "stdout",
     "output_type": "stream",
     "text": [
      "5418 6519 5428 6496\n"
     ]
    }
   ],
   "source": [
    "func = lambda word: sum(map(ord, word))\n",
    "print(\n",
    "    func('кошка'),\n",
    "    func('крышка'),\n",
    "    func('питон'),\n",
    "    func('привет'),\n",
    ")"
   ]
  },
  {
   "cell_type": "markdown",
   "metadata": {},
   "source": [
    "Однако эта функция плохая, так как неуникально отображает объекты:"
   ]
  },
  {
   "cell_type": "code",
   "execution_count": 106,
   "metadata": {},
   "outputs": [
    {
     "data": {
      "text/plain": [
       "(4358, 4358)"
      ]
     },
     "execution_count": 106,
     "metadata": {},
     "output_type": "execute_result"
    }
   ],
   "source": [
    "func('лось'), func('соль')"
   ]
  },
  {
   "cell_type": "markdown",
   "metadata": {
    "id": "hdWkSbMdOtCk"
   },
   "source": [
    "То есть проблема в том, что хэш-функция может отобразить различные ключи в одно и то же хэш-значение. Такая ситуация называется _коллизией_. \n",
    "\n",
    "Коллизии не так уж и редки — например, при вставке в хеш-таблицу размером 365 ячеек всего лишь 23 элементов вероятность коллизии уже превысит 50 % (если каждый элемент может равновероятно попасть в любую ячейку) — см. [парадокс дней рождения](https://ru.wikipedia.org/wiki/%D0%9F%D0%B0%D1%80%D0%B0%D0%B4%D0%BE%D0%BA%D1%81_%D0%B4%D0%BD%D0%B5%D0%B9_%D1%80%D0%BE%D0%B6%D0%B4%D0%B5%D0%BD%D0%B8%D1%8F). "
   ]
  },
  {
   "cell_type": "markdown",
   "metadata": {
    "id": "ZkYewJ-COtCl"
   },
   "source": [
    "Поэтому механизм разрешения коллизий - важная составляющая любой хеш-таблицы. Есть два механизма разрешения коллизий - хеш-таблица [с открытой адресацией](https://ru.wikipedia.org/wiki/Хеш-таблица#Открытая_адресация) и хеш-таблица [с цепочками](https://ru.wikipedia.org/wiki/Хеш-таблица#Метод_цепочек)."
   ]
  },
  {
   "cell_type": "markdown",
   "metadata": {
    "id": "4RiopxheOtCm"
   },
   "source": [
    "<img src='https://upload.wikimedia.org/wikipedia/commons/thumb/b/bf/Hash_table_5_0_1_1_1_1_0_SP.svg/380px-Hash_table_5_0_1_1_1_1_0_SP.svg.png' style='max-width: 30%; display: inline-block'>\n",
    "$\\qquad\\qquad$\n",
    "<img src='https://upload.wikimedia.org/wikipedia/commons/thumb/5/5a/Hash_table_5_0_1_1_1_1_0_LL.svg/500px-Hash_table_5_0_1_1_1_1_0_LL.svg.png' style='max-width: 50%; display: inline-block'>"
   ]
  },
  {
   "cell_type": "markdown",
   "metadata": {
    "id": "rtxlhmtHOtCn"
   },
   "source": [
    "Если (в лучшем случае) все $N$ ключей попадают в разные ячейки $H$, то операции (добавление, удаление, поиск) производятся за константу. Но если (в худшем случае) все ключи попадут в одно и то же хэш-значение, то эти операции производятся за линейное время, т.к. необходимо пройти весь список значений."
   ]
  },
  {
   "cell_type": "markdown",
   "metadata": {
    "id": "9HAxMs8kOtCo"
   },
   "source": [
    "###  Сложность операций словарей  \n",
    "\n",
    "Operation     | Example      | Complexity Class         | Notes\n",
    "--------------|--------------|---------------|-------------------------------\n",
    "Add (store)   | `d[k] = v`     | O(1)\t     | O(N) worst case\n",
    "Containment   | `x in/not in d`| O(1)\t     |\n",
    "get/setdefault| `d.get(k)`     | O(1)\t     |\n",
    "Delete        | `del d[k], d.pop(k)`     | O(1)\t     | \n",
    "|||\n",
    "View          | `d.keys()`     | O(1)\t     | same for d.values()"
   ]
  },
  {
   "cell_type": "markdown",
   "metadata": {},
   "source": [
    "### Немного про алгоритмы...\n",
    "\n",
    "Немаловажной теоретической составляющей любого курса программирования и материалов по базам алгоритмов является понимание какие бывают алгоритмы сортировки и их устройство."
   ]
  },
  {
   "cell_type": "markdown",
   "metadata": {},
   "source": [
    "## Бинпоиск \n",
    "[[источник]](https://www.geeksforgeeks.org/binary-search/)\n",
    "\n",
    "Это алгоритм поиска значения в сортированном массиве за логарифмическую сложность.\n",
    "\n",
    "Проще посмотреть на картинку:\n",
    "\n",
    "<img src=\"https://www.geeksforgeeks.org/wp-content/uploads/Binary-Search.png\" width=\"600\">\n",
    "\n",
    "То есть вместо того, чтобы обойти весь массив от начала до нужного значения (в худшем случае до конца) за линейную сложность, мы берем массив и обходим его \"половинками\". Немножечко напоминает Канторово множество. То есть алгоритм следующий:\n",
    "\n",
    "```\n",
    "А = весь массив\n",
    "пока можно делить А:\n",
    "    Y = число, которое лежит в середине А \n",
    "    если Х < Y:\n",
    "        A = левая половина А\n",
    "    если X > Y:\n",
    "        A = права половина А\n",
    "    если Х == Y:\n",
    "        нашли число, закончили поиск\n",
    "```\n",
    "\n",
    "Естественно операция \"права половина\"/\"левая половина\" производится с помощью индексов `L` и `R`, которые обозначают левый и правый конец подотрезка и которые соответсвенно меняются.\n",
    "\n",
    "Попробуйте написать алгоритм бинпоиска самостоятельно:"
   ]
  },
  {
   "cell_type": "code",
   "execution_count": 1,
   "metadata": {},
   "outputs": [],
   "source": [
    "def mybinsearch(sortedarray, X):\n",
    "    ''' вернуть индекс Х в sortedarray, либо вернуть None если Х не в массиве'''\n",
    "    \n",
    "    pass\n",
    "\n",
    "\n",
    "A = [1, 2, 3, 10, 12, 15, 17, 25, 100, 112, 210]\n",
    "A2 = [-10, -4, -1, 1, 15, 20]\n",
    "\n",
    "assert mybinsearch(A, 15) == 5\n",
    "assert mybinsearch(A, 13) == None\n",
    "assert mybinsearch(A, 211) == None\n",
    "assert mybinsearch(A, 1) == 0\n",
    "\n",
    "\n",
    "assert mybinsearch(A2, 15) == 4\n",
    "assert mybinsearch(A2, 0) == None\n",
    "assert mybinsearch(A2, -11) == None\n",
    "assert mybinsearch(A2, 20) == 5"
   ]
  },
  {
   "cell_type": "markdown",
   "metadata": {
    "id": "mm9QZr7-OtCr"
   },
   "source": [
    "##  Сортировки  \n",
    "\n",
    "- [Визуализации](https://www.cs.usfca.edu/~galles/visualization/ComparisonSort.html)\n",
    "- [Алгоритмическая сложность](https://www.bigocheatsheet.com/)\n",
    "- Самые главные и популярные алгоритмы сортировки:\n",
    "\n",
    "| Название | WIKI | Complexity |\n",
    "| ---      | ---  | ---        |\n",
    "| BubbleSort, Сортировка пузырьком| [link](https://en.wikipedia.org/wiki/Bubble_sort)|$O(n^2)$|\n",
    "| QSort, QuickSort | [link](https://en.wikipedia.org/wiki/Quicksort) | $O(n \\log n)$ |\n",
    "| Mergesort, сортировка слиянием | [link](https://en.wikipedia.org/wiki/Merge_sort)| $O(n\\log n)$|"
   ]
  },
  {
   "cell_type": "code",
   "execution_count": null,
   "metadata": {},
   "outputs": [],
   "source": []
  }
 ],
 "metadata": {
  "colab": {
   "collapsed_sections": [],
   "name": "lecture08_dict.ipynb",
   "provenance": []
  },
  "kernelspec": {
   "display_name": "Python 3",
   "language": "python",
   "name": "python3"
  },
  "language_info": {
   "codemirror_mode": {
    "name": "ipython",
    "version": 3
   },
   "file_extension": ".py",
   "mimetype": "text/x-python",
   "name": "python",
   "nbconvert_exporter": "python",
   "pygments_lexer": "ipython3",
   "version": "3.8.5"
  }
 },
 "nbformat": 4,
 "nbformat_minor": 1
}
