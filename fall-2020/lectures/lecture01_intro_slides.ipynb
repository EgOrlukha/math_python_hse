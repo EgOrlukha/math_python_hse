{
 "cells": [
  {
   "cell_type": "markdown",
   "metadata": {
    "slideshow": {
     "slide_type": "slide"
    }
   },
   "source": [
    "<span style=\"color:green; font-size:2.5em;\">01. Вводные курса. Установка ПО. Введение в Python.</span> \n",
    "\n",
    "---"
   ]
  },
  {
   "cell_type": "markdown",
   "metadata": {
    "slideshow": {
     "slide_type": "slide"
    }
   },
   "source": [
    "<span style=\"color:green; font-size:2em;\">Вводные курса</span>"
   ]
  },
  {
   "cell_type": "markdown",
   "metadata": {
    "slideshow": {
     "slide_type": "subslide"
    }
   },
   "source": [
    "<span style=\"color:green; font-size:1.5em;\">Страница курса</span>\n",
    "\n",
    "<p><img src=\"qrcode.png\" alt=\"QR Code to Wiki\" style=\"float:right\">\n",
    "➡️  Открываем [wiki.cs.hse.ru](http://wiki.cs.hse.ru)   <br/>\n",
    "&emsp;➡️  Курсы в рамках проекта Data Culture   <br/>\n",
    "&emsp;&emsp;➡️  Основы программирования на Python-1   <br/>\n",
    "<br/><br/>\n",
    "💬  Чат в телеграме $-$ для общения и вопросов.  <br/> \n",
    "📢  Канал в телеграме $-$ для актуальных новостей. <br/>\n",
    "</p>"
   ]
  },
  {
   "cell_type": "markdown",
   "metadata": {
    "slideshow": {
     "slide_type": "subslide"
    }
   },
   "source": [
    "<span style=\"color:green; font-size:1.5em;\">Формула оценивания <br/>\n",
    "$$О_{итог} = 0.4 * O_{семинары} + 0.6 * O_{ДЗ}$$</span>\n",
    "\n",
    "📚 В конце каждого семинара выполняются самостоятельные задания (есть бонусные задачи, они помечены звездочкой), которые можно дорешивать до +-следующего семинара (дедлайн всегда видно в контесте). Итоговая оценка за семинарскую часть по 10-ти балльной шкале вычисляется следующим образом:\n",
    "\n",
    "$$(\\text{набранные основные баллы + набранные дополнительные баллы} / \\text{основная сумма баллов}) * 10 + 1.5$$\n",
    "\n",
    "📝 Будет 3 домашних задания с равнозначным весом, на выполнения каждого дается около 3х недель"
   ]
  },
  {
   "cell_type": "markdown",
   "metadata": {
    "slideshow": {
     "slide_type": "subslide"
    }
   },
   "source": [
    "<span style=\"color:green; font-size:1.5em;\">Пилотная группа</span>\n",
    "\n",
    "Желающим студентам предоставляется возможность сдать **тестовое задание** на знание программы курса и перейти в пилотную группу\n",
    "\n",
    "\n",
    "📍  Мидтерм и экзамен $-$ очные контесты по алгоритмам   \n",
    "📍  Неоцениваемые задачи для самостоятельного изучения, по темам которых будут упомянутые контрольные    \n",
    "📍  Отказаться от перехода можно вплоть до конца первого модуля, тогда ему засчитываются **пропущенные** формы контроля (семинары, ДЗ1)    \n",
    "📍  Формула оценивания:   \n",
    "\n",
    "<span style=\"font-size:1.5em;\">$$О_{итог} = 6 + 0.2 * O_{мидтерм} + 0.2 * O_{экзамен}$$</span>\n"
   ]
  },
  {
   "cell_type": "markdown",
   "metadata": {
    "slideshow": {
     "slide_type": "slide"
    }
   },
   "source": [
    "<span style=\"color:green; font-size:2em;\">Установка ПО</span>"
   ]
  },
  {
   "cell_type": "markdown",
   "metadata": {
    "slideshow": {
     "slide_type": "subslide"
    }
   },
   "source": [
    "<span style=\"color:green; font-size:1.5em;\">Jupyter Notebook</span>\n",
    "\n",
    "<img src=\"https://i2.wp.com/softwareengineeringdaily.com/wp-content/uploads/2018/07/jupyter-logo-featured-image.png?resize=600%2C315&ssl=1 \" style=\"float:right\" width=\"200\"/>\n",
    "\n",
    "**Jupyter Notebook** *(джупитер ноутбук, тетрадка, ноутбук, ипунб-файл)* $-$ это программа для *интерактивных* вычислений.\n",
    "Тут можно писать текст, код на языке Python, выводить картинки, работать с командной строкой.\n",
    "Все семинары мы будем выдавать в виде таких тетрадок.\n",
    "\n",
    "Например:"
   ]
  },
  {
   "cell_type": "code",
   "execution_count": null,
   "metadata": {
    "slideshow": {
     "slide_type": "fragment"
    }
   },
   "outputs": [],
   "source": [
    "print('Hello World!')"
   ]
  },
  {
   "cell_type": "code",
   "execution_count": null,
   "metadata": {
    "slideshow": {
     "slide_type": "fragment"
    }
   },
   "outputs": [],
   "source": [
    "!echo Hello World!"
   ]
  },
  {
   "cell_type": "markdown",
   "metadata": {
    "slideshow": {
     "slide_type": "subslide"
    }
   },
   "source": [
    "<span style=\"color:green; font-size:1.5em;\">Инструкция по установке и запуску Jupyter Notebook</span>\n",
    "\n",
    "**(0)**  [Скачиваем Python](https://www.python.org/downloads/)   \n",
    "**(1)**  Если на вашем компьютере стоит:   \n",
    "*  Windows 10: \n",
    "    -  в Microsoft Store скачиваем и открываем [Ubuntu-терминал](https://www.microsoft.com/store/productId/9NBLGGH4MSV6)\n",
    "*  Windows ниже 10й версии или не получается/не хочется работать с терминалом Ubuntu:\n",
    "    - скачиваем и устанавливаем облегченную версию Анаконды - [Миниконду](https://docs.conda.io/en/latest/miniconda.html)\n",
    "    - находим и открываем Anaconda Prompt терминал\n",
    "*  Linux/Mac:\n",
    "    - открываем терминал (Ctrl + Alt + T / Search)"
   ]
  },
  {
   "cell_type": "markdown",
   "metadata": {
    "slideshow": {
     "slide_type": "subslide"
    }
   },
   "source": [
    "**(2)**  Вводим в терминале `pip3 install notebook` (или `conda install notebook`) и ждем окончания загрузки  (возможно будет необходимо удовлетворить какие-то потребности системы, когда она например просит сделать apt-get update, apt-get install python3-pip и прочие сообщения от системы)    \n",
    "**(3)**  Перед полем ввода видим расположение, в котором \"мы находимся\" (например, `C:\\Users\\User` или `~` - корневая директория)       \n",
    "**(4)** Необходимо решить, где мы будем обычно хранить и открывать тетрадки. Я рекомендую перейти в корень диска, создать там новую папку (заменив <USERNAME> (ваше имя пользователя) и NAME на любое удовлетворяющее название) и перейти в неё, то есть скопировать и выполнить следующую команду в терминале: \n",
    "\n",
    "*   Windows 10 Ubuntu: `cd /mnt/c/Users/<USERNAME> && mkdir NAME && cd NAME`\n",
    "*   Linux/Mac: `cd /Users/<USERNAME> && mkdir NAME && cd NAME`\n",
    "*   Anaconda Prompt: `cd C:\\Users\\<USERNAME> && md NAME && cd NAME`\n",
    "\n",
    "(cd - перейти в папку, mkdir - создать папку)\n",
    "\n",
    "**(5)** Вводим `jupyter notebook` и в браузере открывается вкладка localhost:8888/tree (возможно снова придется удовлевторить какие-то потребности системы, например, когда она скажет сделать  apt-get install jyputer-notebook и прочие сообщения от системы)"
   ]
  },
  {
   "cell_type": "markdown",
   "metadata": {
    "slideshow": {
     "slide_type": "subslide"
    }
   },
   "source": [
    "**Альтернативы**: \n",
    "1. Cкачать полную версию Anaconda, где есть Jupyter Notebook (запускается как программа), а так же есть Spyder (IDLE, аналог Pycharm)\n",
    "2. Онлайн: http://colab.research.google.com , http://repl.it (IDLE)"
   ]
  },
  {
   "cell_type": "markdown",
   "metadata": {
    "slideshow": {
     "slide_type": "subslide"
    }
   },
   "source": [
    "**Cоздать новую тетрадку:** `New -> Python3`\n",
    "\n",
    "**Открыть готовую тетрадку:** скачиваем/переносим тетрадку в ту папку, из которой запускаем Джупитер и открываем ее в меню\n",
    "\n",
    "**Создать ячейку какого-то типа:** кнопка `+` и выпадающее меню справа для выбора типа ячейки, горячие клавиши `A, B, Y, M, R`  (см. `Help -> Keyboard Shortcuts`)\n",
    "\n",
    "**Запуск/компиляция ячейки:** `Shift + Enter`\n"
   ]
  },
  {
   "cell_type": "markdown",
   "metadata": {
    "slideshow": {
     "slide_type": "subslide"
    }
   },
   "source": [
    "<span style=\"color:green; font-size:1.5em;\">PyCharm</span>\n",
    "\n",
    "Обычно программируют не в ноутбуке, а в средах разработки для Python, одна из самых популярных - *Pycharm*. В Pycharm проще создавать проекты и выполнять домашние задания, впрочем как и семинарские задачи тоже. Pycharm нужно скачать тут: https://www.jetbrains.com/pycharm/download/ \n",
    "\n",
    "Подробнее как работать в Pycharm - читайте [туториал от разработчиков](https://www.jetbrains.com/help/pycharm/quick-start-guide.html) и задавайте вопросы семинаристам. "
   ]
  },
  {
   "cell_type": "markdown",
   "metadata": {
    "slideshow": {
     "slide_type": "fragment"
    }
   },
   "source": [
    "<span style=\"color:green; font-size:1.5em;\">Yandex Contest</span>\n",
    "\n",
    "Семинарские задачи будут сдаваться на платформе **Яндекс.Контест** - сервис для автоматической онлайн-проверки заданий по программированию. Можете попробовать сдать свой пробный контест по [ссылке](https://contest.yandex.ru/contest/3/enter/)."
   ]
  },
  {
   "cell_type": "markdown",
   "metadata": {
    "slideshow": {
     "slide_type": "subslide"
    }
   },
   "source": [
    "<span style=\"color:green; font-size:1.5em;\"> GitHub </span>\n",
    "\n",
    "Материалы мы выкладываем тут: https://github.com/svdcvt/math_python_hse_2020\n",
    "\n",
    "Чтобы скачать семинарскую тетрадку, необходимо сделать следующее:"
   ]
  },
  {
   "cell_type": "markdown",
   "metadata": {
    "slideshow": {
     "slide_type": "subslide"
    }
   },
   "source": [
    "** Простой способ (не требует работы с терминалом) **\n",
    "\n",
    "1. Открываем страницу с интересующей тетрадкой\n",
    "2. Нажимаем кнопку `Raw`, правой кнопкой мыши нажимаем на возникший \"код\" и выбираем \"Сохранить страницу как...\"\n",
    "3. Сохраняем туда, где мы решили запускать Джупитер и ОЧЕНЬ ВАЖНО сохранить с расширением `.ipynb`, хотя система захочет сохранить файл с расширением `.txt`. Поменять расширение можно:\n",
    "    - при сохранении убрать лишнее расширении в имени и выбрать тип файла \"Все файлы\"\n",
    "    - поменяв имя файла уже после сохранения в файловом менеджере (если получится)\n",
    "    - поменяв имя файла уже после сохранения в открытом Джупитере (надо выбрать галочку около названия файла и сверху нажать Rename)"
   ]
  },
  {
   "cell_type": "markdown",
   "metadata": {
    "slideshow": {
     "slide_type": "subslide"
    }
   },
   "source": [
    "** Правильный способ (придется поразбираться с командой `git` если будут возникать проблемы)**\n",
    "\n",
    "1. В терминале открыть папку, в которой решили открывать Джупитер\n",
    "2. Ввести команду `git clone https://github.com/svdcvt/math_python_hse_2020.git` (или `sudo git clone https://github.com/svdcvt/math_python_hse_2020.git`, будет запрошен пароль пользователя компьютера) - таким образом вы скопируете с Гитхаба репозиторий курса, т.е. то куда мы выкладываем материалы курса\n",
    "3. Ввести команду `cd math_python_hse_2020` чтобы перейти в папку скопированного репозитория\n",
    "4. На каждом семинаре вводить команду `git pull` из этой папки, чтобы **подгрузить** новый файлы. На этом шаге могут возникать проблемы и несовместимости файлов, если вы меняли какие-то файлы, но в целом должно быть все в порядке."
   ]
  },
  {
   "cell_type": "markdown",
   "metadata": {
    "slideshow": {
     "slide_type": "slide"
    }
   },
   "source": [
    "<span style=\"color:green; font-size:2em;\">Введение в Python</span>\n",
    "<img src=\"https://upload.wikimedia.org/wikipedia/commons/thumb/c/c3/Python-logo-notext.svg/768px-Python-logo-notext.svg.png\" width=\"100px\" style=\"float:right\"/>"
   ]
  },
  {
   "cell_type": "markdown",
   "metadata": {
    "slideshow": {
     "slide_type": "subslide"
    }
   },
   "source": [
    "<span style=\"color:green; font-size:1.5em;\"> Функция <code>print()</code></span>\n",
    "\n",
    "Для печати значений в Питоне есть функция <code>print()</code>. Внутри круглых скобок через запятую мы пишем то, что хотим вывести. Вот программа, которая делает несколько выводов и вычислений:"
   ]
  },
  {
   "cell_type": "code",
   "execution_count": null,
   "metadata": {
    "slideshow": {
     "slide_type": "fragment"
    }
   },
   "outputs": [],
   "source": [
    "print('Hi!')\n",
    "print('Второй hi!')                 # каждый print выводится на новой строке\n",
    "print('fisrt'), print('second')     # даже если написать так\n",
    "print('🙂')                         # да даже смайлики можно!"
   ]
  },
  {
   "cell_type": "code",
   "execution_count": null,
   "metadata": {
    "slideshow": {
     "slide_type": "fragment"
    }
   },
   "outputs": [],
   "source": [
    "print('А еще умею считать, вот, например, 2х2 =', 2 * 2) \n",
    "print('2 в степени 10 равно', 2**10)  # две звёздочки означают возведение в степень"
   ]
  },
  {
   "cell_type": "markdown",
   "metadata": {
    "slideshow": {
     "slide_type": "subslide"
    }
   },
   "source": [
    "Также у функции есть два полезных параметра: <code>sep</code> (separator) и <code>end</code> (на самом деле если они не указываются в коде, то они равны пробелу и переносу строки по дефолту, но о таком свойстве функций мы позже поговорим)."
   ]
  },
  {
   "cell_type": "code",
   "execution_count": null,
   "metadata": {
    "slideshow": {
     "slide_type": "fragment"
    }
   },
   "outputs": [],
   "source": [
    "print('Aa', end='!')\n",
    "print('Bb', end='~')\n",
    "print('Cc', end='...')"
   ]
  },
  {
   "cell_type": "code",
   "execution_count": null,
   "metadata": {
    "slideshow": {
     "slide_type": "fragment"
    }
   },
   "outputs": [],
   "source": [
    "print(1, 2, 3, 4, sep=' + ', end=' = ')\n",
    "print(1 + 2 + 3 + 4)"
   ]
  },
  {
   "cell_type": "markdown",
   "metadata": {
    "slideshow": {
     "slide_type": "fragment"
    }
   },
   "source": [
    "В Питоне есть два специальных символа, которые могут быть полезны:"
   ]
  },
  {
   "cell_type": "code",
   "execution_count": null,
   "metadata": {
    "slideshow": {
     "slide_type": "fragment"
    }
   },
   "outputs": [],
   "source": [
    "print('\\tслева от меня таб \\nа вот я уже на другой строке!')  \n",
    "# специальный символ \\t заменяет таб, \n",
    "# \\n означает перенос строки, сами они не выводятся"
   ]
  },
  {
   "cell_type": "markdown",
   "metadata": {
    "slideshow": {
     "slide_type": "subslide"
    }
   },
   "source": [
    "<span style=\"color:green; font-size:1.5em;\">Арифметика</span>\n",
    "\n",
    "|||||\n",
    "| --- |-----------| ------- |-----------------------|\n",
    "| <code>+</code> | сложение  | <code>-</code>     | вычитание             |\n",
    "| <code>*</code> | умножение | <code>**</code>    | возведение в степень  |\n",
    "| <code>/</code> | деление   | <code>//</code>    | целочисленное деление |\n",
    "| <code>%</code> | остаток   | <code>abs()</code> | модуль                |\n",
    "\n",
    "В начале выполняются операции с большим приоритетом. Приоритеты операций в порядке убывания: <code>**</code>; <code>*</code> <code>/</code> <code>//</code> <code>%</code>; <code>+</code> <code>-</code>.\n"
   ]
  },
  {
   "cell_type": "code",
   "execution_count": null,
   "metadata": {
    "slideshow": {
     "slide_type": "fragment"
    }
   },
   "outputs": [],
   "source": [
    "# Чему будет равно выражение?\n",
    "1 - 2 ** 2 * 5"
   ]
  },
  {
   "cell_type": "markdown",
   "metadata": {
    "slideshow": {
     "slide_type": "fragment"
    }
   },
   "source": [
    "В ячейке выше мы видим текст внутри кода, так называемый **комментарий**, для начала комментария есть специальны символ - решетка. Комментарий может стоять на отдельной строчке или после строчки кода."
   ]
  },
  {
   "cell_type": "markdown",
   "metadata": {
    "slideshow": {
     "slide_type": "subslide"
    }
   },
   "source": [
    "<span style=\"color:green; font-size:1.5em;\"> Функция </span>\n",
    "\n",
    "Что же такое функция в Питоне? "
   ]
  },
  {
   "cell_type": "markdown",
   "metadata": {
    "slideshow": {
     "slide_type": "fragment"
    }
   },
   "source": [
    "Функция в программировании $-$ отдельный участок кода, который вызывают обратившись к нему **по имени**. При вызове происходит **выполнение команд** функции, которыми она определена. Главное отличие функции от других объектов Питона это **круглые скобки**, которые ставятся после названия функции. "
   ]
  },
  {
   "cell_type": "markdown",
   "metadata": {
    "slideshow": {
     "slide_type": "fragment"
    }
   },
   "source": [
    "Функции можно сравнить с небольшими подпрограммами, которые часто встраиваются в общую программу. Функции получает входные данные (**аргументы функции**) и возвращает выходные данные (**вывод функции**). "
   ]
  },
  {
   "cell_type": "markdown",
   "metadata": {
    "slideshow": {
     "slide_type": "subslide"
    }
   },
   "source": [
    "Функция может принимать произвольное количество аргументов или не принимать их вовсе. Часто у функции бывают **именованные аргументы**, например, <code>sep</code> и <code>end</code> у функции </code>print()</code>. "
   ]
  },
  {
   "cell_type": "markdown",
   "metadata": {
    "slideshow": {
     "slide_type": "fragment"
    }
   },
   "source": [
    "Функции бывают:\n",
    "*  встроенные в Питон, например <code>print(), input(), int(), float(), str(), type() </code>. С первой мы уже познакомились, с остальными познакомимся сейчас. \n",
    "*  дополнительные, которые необходимо \"подгружать\" в программу, можно определять новые функции самому $-$ но об этом всём мы поговорим подробнее позже, через пару уроков."
   ]
  },
  {
   "cell_type": "markdown",
   "metadata": {
    "slideshow": {
     "slide_type": "subslide"
    }
   },
   "source": [
    "<span style=\"color:green; font-size:1.5em;\"> Функция `input()` </span>\n",
    "\n",
    "А что если хочется **ввести какие-то данные** не в самом коде, а уже при запуске кода **пользователем**?\n",
    "\n",
    "Есть функция `input()`, которая считывает одну строку (пока не нажмешь Enter).\n",
    "Вот программа, которая считывает имя пользователя и приветствует его:"
   ]
  },
  {
   "cell_type": "code",
   "execution_count": null,
   "metadata": {
    "slideshow": {
     "slide_type": "fragment"
    }
   },
   "outputs": [],
   "source": [
    "print('- Как тебя зовут?') # этот принт опицональный\n",
    "name = input()\n",
    "print('- Привет,', name)"
   ]
  },
  {
   "cell_type": "markdown",
   "metadata": {
    "slideshow": {
     "slide_type": "fragment"
    }
   },
   "source": [
    "На самом деле можно даже убрать первый `print()`. В документации Питона написано следующее: https://docs.python.org/3.7/library/functions.html#input."
   ]
  },
  {
   "cell_type": "markdown",
   "metadata": {
    "slideshow": {
     "slide_type": "skip"
    }
   },
   "source": [
    "**Документация** это такая книжка-руководство по всему, абсолютно всему, что существует в языке Питон.\n",
    "\n",
    "Мы советуем как можно чаще использовать Google, чтобы что-либо узнать по поводу того как функция работает или существует ли функция которая что-то тебе нужное делает. "
   ]
  },
  {
   "cell_type": "code",
   "execution_count": null,
   "metadata": {
    "slideshow": {
     "slide_type": "fragment"
    }
   },
   "outputs": [],
   "source": [
    "something = input('Введите что-нибудь с клавиатуры: ')\n",
    "print('А я запомнил, вы ввели сейчас следующее: ', something)"
   ]
  },
  {
   "cell_type": "markdown",
   "metadata": {
    "slideshow": {
     "slide_type": "skip"
    }
   },
   "source": [
    "Практически всегда программа (код) решает какую-то задачу на основе считанных данных и выводит ее результат. Попробуем разобраться с этим на простом примере."
   ]
  },
  {
   "cell_type": "markdown",
   "metadata": {
    "slideshow": {
     "slide_type": "subslide"
    }
   },
   "source": [
    "<span style=\"color:green; font-size:1.5em;\"> Задание переменной </span>\n",
    "\n",
    "Оператор присвоения `=` \"кладет\" какое-то значение в переменную. От него слева ставится **имя** переменной, cправа **значение**."
   ]
  },
  {
   "cell_type": "code",
   "execution_count": null,
   "metadata": {
    "slideshow": {
     "slide_type": "fragment"
    }
   },
   "outputs": [],
   "source": [
    "print = 1\n",
    "\n",
    "one = 1\n",
    "_hello_ = 'hello'\n",
    "1plus2 = 1 + 2"
   ]
  },
  {
   "cell_type": "markdown",
   "metadata": {
    "slideshow": {
     "slide_type": "subslide"
    }
   },
   "source": [
    "Видим ошибку SyntaxError. Возникла она потому что нельзя начинать имя переменной с цифры и символов !\"№;%:?*()@#$^&[]{}\\|/><,.=+ (кроме нижнего подчеркивания!)"
   ]
  },
  {
   "cell_type": "code",
   "execution_count": null,
   "metadata": {
    "slideshow": {
     "slide_type": "fragment"
    }
   },
   "outputs": [],
   "source": [
    "# попробуем вывести переменную one\n",
    "print(one)"
   ]
  },
  {
   "cell_type": "markdown",
   "metadata": {
    "slideshow": {
     "slide_type": "fragment"
    }
   },
   "source": [
    "Но как же так! Мы же ее выше обозначили... А все потому, что в той \"ячейке\" возникла ошибка, из-за нее не было выполнено ни одной операции. Попробуем заново, убрав ошибочную строчку кода."
   ]
  },
  {
   "cell_type": "markdown",
   "metadata": {
    "slideshow": {
     "slide_type": "subslide"
    }
   },
   "source": [
    "<span style=\"color:green; font-size:1.5em;\">Тип данных</span>\n",
    "\n",
    "Так как данные бывают абсолютно разные (в основном числа, набор чисел, текст), то и в Питоне они представляются по-разному. Посмотрим поподробнее.\n",
    "\n",
    "Попробуем вычислить сумму двух чисел, введенных пользователем:"
   ]
  },
  {
   "cell_type": "code",
   "execution_count": null,
   "metadata": {
    "slideshow": {
     "slide_type": "fragment"
    }
   },
   "outputs": [],
   "source": [
    "a = input()\n",
    "b = input()\n",
    "print(a + b)"
   ]
  },
  {
   "cell_type": "markdown",
   "metadata": {
    "slideshow": {
     "slide_type": "fragment"
    }
   },
   "source": [
    "Странно получилось."
   ]
  },
  {
   "cell_type": "markdown",
   "metadata": {
    "slideshow": {
     "slide_type": "subslide"
    }
   },
   "source": [
    "На самом деле Питон «сложил» две строки, а не два числа. \n",
    "\n",
    "**Строка (string, `str`) - набор символов внутри кавычек.**\n",
    "\n",
    "Сложение строк происходит так - к первой строке в конце приписывается вторая:"
   ]
  },
  {
   "cell_type": "code",
   "execution_count": null,
   "metadata": {
    "slideshow": {
     "slide_type": "fragment"
    }
   },
   "outputs": [],
   "source": [
    "'Строка 1' + 'Cтрока 2'"
   ]
  },
  {
   "cell_type": "markdown",
   "metadata": {
    "slideshow": {
     "slide_type": "fragment"
    }
   },
   "source": [
    "Строки можно умножать на число:"
   ]
  },
  {
   "cell_type": "code",
   "execution_count": null,
   "metadata": {
    "slideshow": {
     "slide_type": "fragment"
    }
   },
   "outputs": [],
   "source": [
    "'abc' * 10"
   ]
  },
  {
   "cell_type": "markdown",
   "metadata": {
    "slideshow": {
     "slide_type": "subslide"
    }
   },
   "source": [
    "Друг на друга умножать нельзя, так же как и вычитать или делить (следующие строчки кода выдадут ошибки):"
   ]
  },
  {
   "cell_type": "code",
   "execution_count": null,
   "metadata": {
    "slideshow": {
     "slide_type": "fragment"
    }
   },
   "outputs": [],
   "source": [
    "'abc' * 'def'"
   ]
  },
  {
   "cell_type": "code",
   "execution_count": null,
   "metadata": {
    "slideshow": {
     "slide_type": "fragment"
    }
   },
   "outputs": [],
   "source": [
    "'abc' - 'a'"
   ]
  },
  {
   "cell_type": "code",
   "execution_count": null,
   "metadata": {
    "slideshow": {
     "slide_type": "fragment"
    }
   },
   "outputs": [],
   "source": [
    "'abc' / 2"
   ]
  },
  {
   "cell_type": "code",
   "execution_count": null,
   "metadata": {
    "slideshow": {
     "slide_type": "fragment"
    }
   },
   "outputs": [],
   "source": [
    "'abc' / 'a'"
   ]
  },
  {
   "cell_type": "markdown",
   "metadata": {
    "slideshow": {
     "slide_type": "subslide"
    }
   },
   "source": [
    "Обратим внимание, что в **джупитер-ноутбуке** необязательно всегда что-то печатать с помощью `print()`. В этой среде автоматически выводится значение переменной или просто содержимое **последней строчки в ячейке**. Например:"
   ]
  },
  {
   "cell_type": "code",
   "execution_count": null,
   "metadata": {
    "slideshow": {
     "slide_type": "fragment"
    }
   },
   "outputs": [],
   "source": [
    "1 + 2\n",
    "3 ** 2"
   ]
  },
  {
   "cell_type": "code",
   "execution_count": null,
   "metadata": {
    "slideshow": {
     "slide_type": "fragment"
    }
   },
   "outputs": [],
   "source": [
    "'Эту строку мы не увидим'\n",
    "'А эту увидим'"
   ]
  },
  {
   "cell_type": "code",
   "execution_count": null,
   "metadata": {
    "slideshow": {
     "slide_type": "fragment"
    }
   },
   "outputs": [],
   "source": [
    "a, b"
   ]
  },
  {
   "cell_type": "markdown",
   "metadata": {
    "slideshow": {
     "slide_type": "subslide"
    }
   },
   "source": [
    "<span style=\"color:green; font-size:1.5em;\">В Питоне всё является объектом </span>\n",
    "\n",
    "Число 9 представляется объектом «число 9»\n",
    "\n",
    "Слово 'Hello' – это объект «строка 'Hello'»\n",
    "\n",
    "В ячейке выше видно, что содержимое переменных `a` и `b` заключено в кавычки, это значит что они типа «строка»."
   ]
  },
  {
   "cell_type": "markdown",
   "metadata": {
    "slideshow": {
     "slide_type": "subslide"
    }
   },
   "source": [
    "<span style=\"color:green; font-size:1.5em;\"> Функция `type()`</span>\n",
    "\n",
    "Строки хранятся в объектах типа `str` (string), целые числа в объектах типа `int` (integer), числа с запятой (вернее точкой), т.е. вещественные, в объектах типа `float` (floating point). \n",
    "\n",
    "Функция `type()` принимает на вход объект и выдает её тип:"
   ]
  },
  {
   "cell_type": "code",
   "execution_count": null,
   "metadata": {
    "slideshow": {
     "slide_type": "fragment"
    }
   },
   "outputs": [],
   "source": [
    "type('hello'), type(1), type(1.25)"
   ]
  },
  {
   "cell_type": "markdown",
   "metadata": {
    "slideshow": {
     "slide_type": "subslide"
    }
   },
   "source": [
    "<span style=\"color:green; font-size:1.5em;\">Преобразование типов</span>\n",
    "\n",
    "С разными типами объектов можно проделывать разные операции! Нельзя перемножить строки, но можно числа. Однако можно преобразовывать типы объектов. Чтобы превратить что-то в «строку», воспользуемся *функцией* `str()`, чтобы строку, обозначающую число, превратить в «число», то `int()`."
   ]
  },
  {
   "cell_type": "code",
   "execution_count": null,
   "metadata": {
    "slideshow": {
     "slide_type": "fragment"
    }
   },
   "outputs": [],
   "source": [
    "type('356'), type(int('356'))"
   ]
  },
  {
   "cell_type": "code",
   "execution_count": null,
   "metadata": {
    "slideshow": {
     "slide_type": "fragment"
    }
   },
   "outputs": [],
   "source": [
    "a = int('9')\n",
    "a / 2"
   ]
  },
  {
   "cell_type": "markdown",
   "metadata": {
    "slideshow": {
     "slide_type": "subslide"
    }
   },
   "source": [
    "Функция `input()` всегда считывает с клавиатуры именно строки! Исправим нашу программу, где мы не смогли сложить `a + b`: "
   ]
  },
  {
   "cell_type": "code",
   "execution_count": null,
   "metadata": {
    "slideshow": {
     "slide_type": "fragment"
    }
   },
   "outputs": [],
   "source": [
    "# мы исправили код разными способами\n",
    "\n",
    "a = int(input()) # сразу преобразовали строку в число\n",
    "b = int(input())\n",
    "print(a + b)"
   ]
  },
  {
   "cell_type": "code",
   "execution_count": null,
   "metadata": {
    "slideshow": {
     "slide_type": "fragment"
    }
   },
   "outputs": [],
   "source": [
    "a = input()\n",
    "b = input()\n",
    "inta = int(a) # создали новые переменные с числовыми значениями\n",
    "intb = int(b)\n",
    "print(inta + intb)"
   ]
  },
  {
   "cell_type": "code",
   "execution_count": null,
   "metadata": {
    "slideshow": {
     "slide_type": "fragment"
    }
   },
   "outputs": [],
   "source": [
    "a = input()\n",
    "b = input()\n",
    "print(int(a) + int(b)) # преобразовали строки в числа \"на месте\", \n",
    "                       # но сами переменные останутся строками!"
   ]
  },
  {
   "cell_type": "markdown",
   "metadata": {
    "slideshow": {
     "slide_type": "subslide"
    }
   },
   "source": [
    "<span style=\"color:green; font-size:1.5em;\"> Подробнее про типы данных </span>\n",
    "\n",
    "Строки обычно заключаются в одинарные кавычки (в последнее время), но их так же можно заключать в двойные кавычки. Так же если кавычки это часть строки, то надо использовать разные виды кавычек."
   ]
  },
  {
   "cell_type": "code",
   "execution_count": null,
   "metadata": {
    "slideshow": {
     "slide_type": "fragment"
    }
   },
   "outputs": [],
   "source": [
    "print(\"string\", 'string', 'it is \"string\"', \"it is 'string'\", sep='\\n')"
   ]
  },
  {
   "cell_type": "code",
   "execution_count": null,
   "metadata": {
    "slideshow": {
     "slide_type": "fragment"
    }
   },
   "outputs": [],
   "source": [
    "print(\"it's a code\")"
   ]
  },
  {
   "cell_type": "markdown",
   "metadata": {
    "slideshow": {
     "slide_type": "fragment"
    }
   },
   "source": [
    "Строки так же могут быть многострочными, в таком случае нужны тройные кавычки (подходят как одинарные, так и двойные)"
   ]
  },
  {
   "cell_type": "code",
   "execution_count": null,
   "metadata": {
    "slideshow": {
     "slide_type": "fragment"
    }
   },
   "outputs": [],
   "source": [
    "print('''первая строка\n",
    "вторая строка\n",
    "третья строка\n",
    "    со сдвигом''')"
   ]
  },
  {
   "cell_type": "markdown",
   "metadata": {
    "slideshow": {
     "slide_type": "subslide"
    }
   },
   "source": [
    "Если применить `int()` к вещественному числу, то просто отбросится дробная часть:"
   ]
  },
  {
   "cell_type": "code",
   "execution_count": null,
   "metadata": {
    "slideshow": {
     "slide_type": "fragment"
    }
   },
   "outputs": [],
   "source": [
    "pi = 3.14159265359\n",
    "print(type(pi))\n",
    "print(int(pi))\n",
    "int(3.7)"
   ]
  },
  {
   "cell_type": "markdown",
   "metadata": {
    "slideshow": {
     "slide_type": "fragment"
    }
   },
   "source": [
    "Есть функция округления `round()` (обратите внимание, что число вида `x.5` округляется в сторону ближайшего четного числа):"
   ]
  },
  {
   "cell_type": "code",
   "execution_count": null,
   "metadata": {
    "slideshow": {
     "slide_type": "fragment"
    }
   },
   "outputs": [],
   "source": [
    "round(3.12), round(3.5), round(4.5)"
   ]
  },
  {
   "cell_type": "markdown",
   "metadata": {
    "slideshow": {
     "slide_type": "subslide"
    }
   },
   "source": [
    "Целочисленное деление возвращает тот тип, который был у делимого:"
   ]
  },
  {
   "cell_type": "code",
   "execution_count": null,
   "metadata": {
    "slideshow": {
     "slide_type": "fragment"
    }
   },
   "outputs": [],
   "source": [
    "type(5 // 2), type(pi // 3)"
   ]
  },
  {
   "cell_type": "markdown",
   "metadata": {
    "slideshow": {
     "slide_type": "fragment"
    }
   },
   "source": [
    "Деление всегда возвращает `float`:"
   ]
  },
  {
   "cell_type": "code",
   "execution_count": null,
   "metadata": {
    "slideshow": {
     "slide_type": "fragment"
    }
   },
   "outputs": [],
   "source": [
    "type(5 / 2), type(4 / 2), type(pi / 3)"
   ]
  },
  {
   "cell_type": "markdown",
   "metadata": {
    "slideshow": {
     "slide_type": "subslide"
    }
   },
   "source": [
    "Следующие числа будут типа `float`:"
   ]
  },
  {
   "cell_type": "code",
   "execution_count": null,
   "metadata": {
    "slideshow": {
     "slide_type": "fragment"
    }
   },
   "outputs": [],
   "source": [
    "1, 1. , 1.0, 1.25, 1e5, 1e-2, 2e2, 2.99E-3, float('-1e4'), float(1)"
   ]
  },
  {
   "cell_type": "markdown",
   "metadata": {
    "slideshow": {
     "slide_type": "fragment"
    }
   },
   "source": [
    "Как работает **e-float** число?\n",
    "\n",
    "Такое вещественное число состоит из двух частей $-$ то, что стоит слева от буквы, и то, что стоит справа. Представим это так: `leftEright`. Тогда число будет равно `left * 10 ** right`. Левая часть (мантисса) может быть `int` и `float`, правая (порядок) только `int` (оба как положительные, так и отрицательные). Пробелы между ними не ставятся."
   ]
  },
  {
   "cell_type": "markdown",
   "metadata": {
    "slideshow": {
     "slide_type": "subslide"
    }
   },
   "source": [
    "Из-за **представления чисел в компьютере** вещественные числа неточны, и это может привести к ошибкам (для высокой точности используют другие объекты, например, Decimal и Fraction):"
   ]
  },
  {
   "cell_type": "code",
   "execution_count": null,
   "metadata": {
    "slideshow": {
     "slide_type": "fragment"
    }
   },
   "outputs": [],
   "source": [
    "# равно 1.0\n",
    "0.1 + 0.1 + 0.1 + 0.1 + 0.1 + 0.1 + 0.1 + 0.1 + 0.1 + 0.1"
   ]
  },
  {
   "cell_type": "code",
   "execution_count": null,
   "metadata": {
    "slideshow": {
     "slide_type": "fragment"
    }
   },
   "outputs": [],
   "source": [
    "from decimal import Decimal\n",
    "print(Decimal(0.1))"
   ]
  },
  {
   "cell_type": "code",
   "execution_count": null,
   "metadata": {
    "slideshow": {
     "slide_type": "fragment"
    }
   },
   "outputs": [],
   "source": [
    "print(float(0.1))"
   ]
  },
  {
   "cell_type": "code",
   "execution_count": null,
   "metadata": {
    "slideshow": {
     "slide_type": "fragment"
    }
   },
   "outputs": [],
   "source": [
    "a = Decimal('0.1')\n",
    "print(a)\n",
    "print(float(a + a + a + a + a + a + a + a + a + a))"
   ]
  },
  {
   "cell_type": "markdown",
   "metadata": {
    "slideshow": {
     "slide_type": "subslide"
    }
   },
   "source": [
    "Также вещественные числа не поддерживают **длинную арифметику** (целая часть числа настолько длинная, что хранить то, что после запятой, не получается):"
   ]
  },
  {
   "cell_type": "code",
   "execution_count": null,
   "metadata": {
    "slideshow": {
     "slide_type": "fragment"
    }
   },
   "outputs": [],
   "source": [
    "a = 3 ** 1000\n",
    "a + 0.0001"
   ]
  },
  {
   "cell_type": "markdown",
   "metadata": {
    "slideshow": {
     "slide_type": "fragment"
    }
   },
   "source": [
    "Для проведения вычислений с действительными числами язык Питон содержит много дополнительных функций, собранных в **библиотеку** (модуль), которая называется `math` (больше тут https://docs.python.org/3.7/library/math.html)."
   ]
  },
  {
   "cell_type": "code",
   "execution_count": null,
   "metadata": {
    "slideshow": {
     "slide_type": "fragment"
    }
   },
   "outputs": [],
   "source": [
    "import math\n",
    "\n",
    "print('sin(3) =', math.sin(3))\n",
    "print('Округление вверх', math.ceil(3.14))\n",
    "print('Округление вниз ', math.floor(3.999))"
   ]
  },
  {
   "cell_type": "markdown",
   "metadata": {
    "slideshow": {
     "slide_type": "slide"
    }
   },
   "source": [
    "<span style=\"color:green; font-size:1.5em;\">На этом на сегодня все! Спасибо за внимание! </span>\n",
    "\n",
    "По абсолютно любым вопросам не стесняйтесь писать семинаристам или спрашивать их на семинарах!"
   ]
  }
 ],
 "metadata": {
  "celltoolbar": "Slideshow",
  "kernelspec": {
   "display_name": "Python 3",
   "language": "python",
   "name": "python3"
  },
  "language_info": {
   "codemirror_mode": {
    "name": "ipython",
    "version": 3
   },
   "file_extension": ".py",
   "mimetype": "text/x-python",
   "name": "python",
   "nbconvert_exporter": "python",
   "pygments_lexer": "ipython3",
   "version": "3.6.9"
  }
 },
 "nbformat": 4,
 "nbformat_minor": 2
}
