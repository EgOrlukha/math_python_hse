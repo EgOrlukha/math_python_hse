{
 "cells": [
  {
   "cell_type": "markdown",
   "metadata": {
    "slideshow": {
     "slide_type": "slide"
    }
   },
   "source": [
    "<span style=\"color:green; font-size:2.5em;\"> 04. Функции. Рекурсия. </span>\n",
    "\n",
    "---"
   ]
  },
  {
   "cell_type": "markdown",
   "metadata": {
    "slideshow": {
     "slide_type": "slide"
    }
   },
   "source": [
    "<span style=\"color:green; font-size:2em;\"> Функция </span>"
   ]
  },
  {
   "cell_type": "markdown",
   "metadata": {
    "slideshow": {
     "slide_type": "fragment"
    }
   },
   "source": [
    "Мы уже изучили множество **встроенных функций** - `print()`, `input()`, `abs()`, `list()`, `range()`, `map()`, `zip()`, `sorted()` и другие. Как мы знаем, функция (в том числе метод) возможно принимает на вход какие-то аргументы, по заданным инструкциям выполняет какой-то код при её вызове и возможно возвращает какие-то объекты. \n",
    "\n",
    "Сегодня мы научимся сами создавать свои функции!"
   ]
  },
  {
   "cell_type": "markdown",
   "metadata": {
    "slideshow": {
     "slide_type": "subslide"
    }
   },
   "source": [
    "Функции помогают разбить наш код программы на более мелкие и модульные \"блоки\". По мере того как наш код становится все больше и больше, функции делают его более организованным, компактным и управляемым.\n",
    "\n",
    "Кроме того, это позволяет избежать повторения и делает код **многоразовым**."
   ]
  },
  {
   "cell_type": "markdown",
   "metadata": {
    "slideshow": {
     "slide_type": "subslide"
    }
   },
   "source": [
    "Как выглядит конструкция создания собственной функции:\n",
    "\n",
    "    def funcname(arguments): <------ аргументы необязательны (если вы этого хотите)\n",
    "        ''' описание функции ''' <-- можно добавить документацию (например, если функция сложная)\n",
    "        БЛОК КОДА\n",
    "        return something <---------- функция может вернуть какой-то объект (если необходимо)"
   ]
  },
  {
   "cell_type": "code",
   "execution_count": null,
   "metadata": {
    "slideshow": {
     "slide_type": "fragment"
    }
   },
   "outputs": [],
   "source": [
    "def hi():\n",
    "    print('Hello!')\n",
    "\n",
    "hi()"
   ]
  },
  {
   "cell_type": "markdown",
   "metadata": {
    "slideshow": {
     "slide_type": "fragment"
    }
   },
   "source": [
    "В данном примере наша функция не принимает никаких аргументов и не возвращает никаких объектов. Просто выполняет код."
   ]
  },
  {
   "cell_type": "markdown",
   "metadata": {
    "slideshow": {
     "slide_type": "subslide"
    }
   },
   "source": [
    "<span style=\"color:green; font-size:2em;\"> Команда `return` </span>"
   ]
  },
  {
   "cell_type": "markdown",
   "metadata": {
    "slideshow": {
     "slide_type": "subslide"
    }
   },
   "source": [
    "На самом деле функция всегда возвращает какое-то значение, просто когда она возвращает `None` мы говорим, что она возвращает \"ничего\". Это происходит если команда `return` совсем не пишется в инструкции или если она написана без сопутствующего возвращаемого значения."
   ]
  },
  {
   "cell_type": "code",
   "execution_count": null,
   "metadata": {
    "slideshow": {
     "slide_type": "fragment"
    }
   },
   "outputs": [],
   "source": [
    "def foo():\n",
    "    print('Nothing to return...')\n",
    "#     return\n",
    "\n",
    "type(foo())"
   ]
  },
  {
   "cell_type": "code",
   "execution_count": null,
   "metadata": {
    "slideshow": {
     "slide_type": "fragment"
    }
   },
   "outputs": [],
   "source": [
    "def sqrt(n, b=2):\n",
    "    return n ** (1 / b)\n",
    "\n",
    "sqrt(2), sqrt(2, 3)"
   ]
  },
  {
   "cell_type": "code",
   "execution_count": null,
   "metadata": {
    "slideshow": {
     "slide_type": "fragment"
    }
   },
   "outputs": [],
   "source": [
    "def sum_prod(x, y):\n",
    "    return x + y, x * y # возвращает кортеж \n",
    "\n",
    "a, b = sum_prod(2, 5) # множественное присваивание\n",
    "a, b"
   ]
  },
  {
   "cell_type": "markdown",
   "metadata": {
    "slideshow": {
     "slide_type": "subslide"
    }
   },
   "source": [
    "<span style=\"color:green; font-size:2em;\"> Команда `pass` </span>"
   ]
  },
  {
   "cell_type": "markdown",
   "metadata": {
    "slideshow": {
     "slide_type": "fragment"
    }
   },
   "source": [
    "Сейчас может показаться, что функция, которая ничего не делает, это бесполезно. Но возможность создать такую в Питоне есть. В целом, эта команда может использоваться и в циклах `while`/`for`. Например, функция из предыдущего примера:"
   ]
  },
  {
   "cell_type": "code",
   "execution_count": null,
   "metadata": {
    "slideshow": {
     "slide_type": "fragment"
    }
   },
   "outputs": [],
   "source": [
    "def foo():\n",
    "    pass # без команды pass (или без выполняемого кода), будет ругаться, что блока кода нет.\n",
    "foo()"
   ]
  },
  {
   "cell_type": "markdown",
   "metadata": {
    "slideshow": {
     "slide_type": "slide"
    }
   },
   "source": [
    "<span style=\"color:green; font-size:2em;\"> Аргументы </span>"
   ]
  },
  {
   "cell_type": "markdown",
   "metadata": {
    "slideshow": {
     "slide_type": "fragment"
    }
   },
   "source": [
    "Как и в математике, все таки чаще функции принимают на вход какие-то аргументы, с которыми или в зависимости о ткоторых потом выполняются какие-то действия. Давайте разберемся как они устроены."
   ]
  },
  {
   "cell_type": "markdown",
   "metadata": {
    "slideshow": {
     "slide_type": "subslide"
    }
   },
   "source": [
    "<span style=\"color:green; font-size:1.5em;\"> Фиксированные </span>"
   ]
  },
  {
   "cell_type": "markdown",
   "metadata": {
    "slideshow": {
     "slide_type": "fragment"
    }
   },
   "source": [
    "В инструкции нашей функции мы укажем, что функция принимает на вход **ровно** один аргумент, поэтому если подавать фукнции большее или меньшее число аргументов, то возникнет **ошибка**."
   ]
  },
  {
   "cell_type": "code",
   "execution_count": null,
   "metadata": {
    "slideshow": {
     "slide_type": "subslide"
    }
   },
   "outputs": [],
   "source": [
    "def hi(name):\n",
    "    print('Hello,', name)"
   ]
  },
  {
   "cell_type": "code",
   "execution_count": null,
   "metadata": {
    "slideshow": {
     "slide_type": "fragment"
    }
   },
   "outputs": [],
   "source": [
    "hi('Mark')"
   ]
  },
  {
   "cell_type": "code",
   "execution_count": null,
   "metadata": {
    "slideshow": {
     "slide_type": "fragment"
    }
   },
   "outputs": [],
   "source": [
    "hi('Sonya', 'Mitya')"
   ]
  },
  {
   "cell_type": "markdown",
   "metadata": {
    "slideshow": {
     "slide_type": "subslide"
    }
   },
   "source": [
    "<span style=\"color:green; font-size:1.5em;\"> Дефолтные </span>"
   ]
  },
  {
   "cell_type": "markdown",
   "metadata": {
    "slideshow": {
     "slide_type": "fragment"
    }
   },
   "source": [
    "Помните, как некоторые аргументы функции `print()` имеют дефолтные значения? Точно так же можно прописывать для собственной функции некоторые значения параметров по умолчанию."
   ]
  },
  {
   "cell_type": "code",
   "execution_count": null,
   "metadata": {
    "slideshow": {
     "slide_type": "subslide"
    }
   },
   "outputs": [],
   "source": [
    "def hi(name='User', phrase='How are you?'):\n",
    "    print('Hello,', name)\n",
    "    print(phrase)\n",
    "hi()"
   ]
  },
  {
   "cell_type": "code",
   "execution_count": null,
   "metadata": {
    "slideshow": {
     "slide_type": "fragment"
    }
   },
   "outputs": [],
   "source": [
    "hi('Monica')"
   ]
  },
  {
   "cell_type": "code",
   "execution_count": null,
   "metadata": {
    "slideshow": {
     "slide_type": "fragment"
    }
   },
   "outputs": [],
   "source": [
    "hi('Phoebe', 'What a beautiful day!')"
   ]
  },
  {
   "cell_type": "markdown",
   "metadata": {
    "slideshow": {
     "slide_type": "subslide"
    }
   },
   "source": [
    "<span style=\"color:green; font-size:1.5em;\"> Именованные </span>"
   ]
  },
  {
   "cell_type": "markdown",
   "metadata": {
    "slideshow": {
     "slide_type": "fragment"
    }
   },
   "source": [
    "Когда мы вызываем функцию с некоторыми значениями, эти значения присваиваются аргументам в соответствии с их положением. Например, при вызове функции `hi('Phoebe')`, Питон считает что значение `'Phoebe'` относится к первому аргументы, т.е. `name = 'Phoebe'`. А в случае `hi('Phoebe', 'What a beautiful day!')` второе значение относится ко второму аргументу, т.е. к `phrase`. Но мы можем и по-другому вызвать нашу функцию:"
   ]
  },
  {
   "cell_type": "code",
   "execution_count": null,
   "metadata": {
    "slideshow": {
     "slide_type": "subslide"
    }
   },
   "outputs": [],
   "source": [
    "hi(name='Phoebe', phrase=\"What's up?\")\n",
    "hi(phrase=\"What's up?\", name='Phoebe')\n",
    "hi('Phoebe', phrase=\"What's up?\")"
   ]
  },
  {
   "cell_type": "code",
   "execution_count": null,
   "metadata": {
    "slideshow": {
     "slide_type": "fragment"
    }
   },
   "outputs": [],
   "source": [
    "hi(name='Phoebe', \"What's up?\") # но НЕ МОЖЕМ вот так! \n",
    "                                # оно и понятно, уже неочевидно \n",
    "                                # какой по счету аргумент имеется в виду (особенно если их больше двух)"
   ]
  },
  {
   "cell_type": "markdown",
   "metadata": {
    "slideshow": {
     "slide_type": "fragment"
    }
   },
   "source": [
    "Такое миксование позиционных и именованных аргументов при вызове функции удобно, когда у функции много аргументов, какая-то часть из них имеет дефолтные значения, но хочется какой-то один поменять."
   ]
  },
  {
   "cell_type": "markdown",
   "metadata": {
    "slideshow": {
     "slide_type": "subslide"
    }
   },
   "source": [
    "<span style=\"color:green; font-size:1.5em;\"> Произвольные </span>"
   ]
  },
  {
   "cell_type": "markdown",
   "metadata": {
    "slideshow": {
     "slide_type": "fragment"
    }
   },
   "source": [
    "Хочется снова упомянуть функцию `print()`. Заметьте, как мы в нее можем положить сколько угодно значений через запятую, и она их все выводит. Точно так же мы можем указать в инструкции функции, что она принимает какое угодно число значений. \n",
    "\n",
    "В таком случае необходимо воспользоваться оператором \"звездочка\" (возможно, вы уже знакомились с ней на семинарах), которая собирает набор значений в переменную типа кортеж."
   ]
  },
  {
   "cell_type": "code",
   "execution_count": null,
   "metadata": {
    "slideshow": {
     "slide_type": "fragment"
    }
   },
   "outputs": [],
   "source": [
    "def print_sum(*values):\n",
    "    print(values)\n",
    "    print(type(values))\n",
    "    print(sum(values))\n",
    "\n",
    "print_sum(1, 2, 3, 4, 5)"
   ]
  },
  {
   "cell_type": "markdown",
   "metadata": {
    "slideshow": {
     "slide_type": "subslide"
    }
   },
   "source": [
    "Несколько примеров:"
   ]
  },
  {
   "cell_type": "code",
   "execution_count": null,
   "metadata": {
    "slideshow": {
     "slide_type": "fragment"
    }
   },
   "outputs": [],
   "source": [
    "def f(a, b, *vals):\n",
    "    print(a, b, vals)\n",
    "\n",
    "# f(1) # работать не будет\n",
    "f(1, 2)\n",
    "f(1, 2, 3)\n",
    "f(1, 2, 3, 4)"
   ]
  },
  {
   "cell_type": "code",
   "execution_count": null,
   "metadata": {
    "slideshow": {
     "slide_type": "fragment"
    }
   },
   "outputs": [],
   "source": [
    "def f(a, *vals, c):\n",
    "    print(a, vals, c)\n",
    "\n",
    "# f(1, 2) # работать не будет\n",
    "f(1, 2, c=1) # c стало обязательно именованным при вызове"
   ]
  },
  {
   "cell_type": "markdown",
   "metadata": {
    "slideshow": {
     "slide_type": "slide"
    }
   },
   "source": [
    "<span style=\"color:green; font-size:2em;\"> Переменные </span>"
   ]
  },
  {
   "cell_type": "markdown",
   "metadata": {
    "slideshow": {
     "slide_type": "fragment"
    }
   },
   "source": [
    "С переменными тоже все не так просто. Есть разница, между переменной, которую вы создали вне функции и внутри функции. И не всегда можно так просто изменить переменную \"извне\" внутри функции. "
   ]
  },
  {
   "cell_type": "markdown",
   "metadata": {
    "slideshow": {
     "slide_type": "subslide"
    }
   },
   "source": [
    "<span style=\"color:green; font-size:1.5em;\"> Глобальные </span>\n",
    "\n",
    "Если переменная (как обычно) задана вне функций, то она называется **глобальной**. Ею можно воспользоваться в любом месте программы - как внутри функций, так и вне. "
   ]
  },
  {
   "cell_type": "code",
   "execution_count": null,
   "metadata": {
    "slideshow": {
     "slide_type": "fragment"
    }
   },
   "outputs": [],
   "source": [
    "x = 'global'\n",
    "\n",
    "def f():\n",
    "    print('x inside:', x)\n",
    "\n",
    "f()\n",
    "print('x outside:', x)"
   ]
  },
  {
   "cell_type": "markdown",
   "metadata": {
    "slideshow": {
     "slide_type": "subslide"
    }
   },
   "source": [
    "Причем неважно, задана ли переменная до или после создания функции. Главное чтобы она была задана до вызова функции, т.к. Питон при вызове функции начинает искать переменную `pi` в глобальном пространстве."
   ]
  },
  {
   "cell_type": "code",
   "execution_count": null,
   "metadata": {
    "slideshow": {
     "slide_type": "fragment"
    }
   },
   "outputs": [],
   "source": [
    "def circle(r):\n",
    "    return 2 * pi * r\n",
    "\n",
    "pi = 3.14159265359\n",
    "print(pi)\n",
    "circle(1)"
   ]
  },
  {
   "cell_type": "markdown",
   "metadata": {
    "slideshow": {
     "slide_type": "subslide"
    }
   },
   "source": [
    "<span style=\"color:green; font-size:1.5em;\"> Локальные </span>\n",
    "\n",
    "Переменные, которые живут **только внутри функции** называются локальными. Это и переменные, которые возникли из аргументов функции, и те, которые созданы внутри функции. Доступа к таким переменным вне функции нет."
   ]
  },
  {
   "cell_type": "code",
   "execution_count": null,
   "metadata": {
    "slideshow": {
     "slide_type": "fragment"
    }
   },
   "outputs": [],
   "source": [
    "def f(arg):\n",
    "    y = 'local ' * arg\n",
    "    print(y)\n",
    "\n",
    "f(2)\n",
    "\n",
    "# y # будет ошибка, т.к. такая переменная неизвестна\n",
    "# arg # как и эта тоже"
   ]
  },
  {
   "cell_type": "markdown",
   "metadata": {
    "slideshow": {
     "slide_type": "subslide"
    }
   },
   "source": [
    "<span style=\"color:green; font-size:1.5em;\"> Взаимодействие глобальных и локальных </span>\n"
   ]
  },
  {
   "cell_type": "markdown",
   "metadata": {
    "slideshow": {
     "slide_type": "subslide"
    }
   },
   "source": [
    "1. Использование одного и того же имени переменной для глобальной и локальной - никакой проблемы. Локальная живет внутри, глобальная остается какой была (т.е. не меняется)"
   ]
  },
  {
   "cell_type": "code",
   "execution_count": null,
   "metadata": {
    "slideshow": {
     "slide_type": "fragment"
    }
   },
   "outputs": [],
   "source": [
    "x = 'global'\n",
    "def f():\n",
    "    x = 'local'\n",
    "    print('x inside:', x)\n",
    "    \n",
    "print('x outside:', x)\n",
    "f()\n",
    "print('x outside after call:', x)"
   ]
  },
  {
   "cell_type": "markdown",
   "metadata": {
    "slideshow": {
     "slide_type": "subslide"
    }
   },
   "source": [
    "2. Изменение глобальной переменной внутри функции - как видим в примере выше, глобальная переменная не изменилась. Чтобы переписать её значение, необходимо воспользоваться командой `global`."
   ]
  },
  {
   "cell_type": "code",
   "execution_count": null,
   "metadata": {
    "slideshow": {
     "slide_type": "fragment"
    }
   },
   "outputs": [],
   "source": [
    "x = 'global'\n",
    "def f():\n",
    "    global x\n",
    "    x = 'local'\n",
    "    print('x inside:', x)\n",
    "    \n",
    "print('x outside:', x)\n",
    "f()\n",
    "print('x outside after call:', x)"
   ]
  },
  {
   "cell_type": "markdown",
   "metadata": {
    "slideshow": {
     "slide_type": "subslide"
    }
   },
   "source": [
    "Эту же команду необходимо использовать, если мы хотим выполнить следующий код:"
   ]
  },
  {
   "cell_type": "code",
   "execution_count": null,
   "metadata": {
    "slideshow": {
     "slide_type": "fragment"
    }
   },
   "outputs": [],
   "source": [
    "x = 'global'\n",
    "def f():\n",
    "#     global x\n",
    "    x = x * 2\n",
    "    print('x inside:', x)\n",
    "    \n",
    "print('x outside:', x)\n",
    "f()\n",
    "print('x outside after call:', x)"
   ]
  },
  {
   "cell_type": "markdown",
   "metadata": {
    "slideshow": {
     "slide_type": "subslide"
    }
   },
   "source": [
    "Заметьте как в примере, где мы использовали одинаковые имена переменных, ошибки не возникало. В том случае, Питон просто создал локально переменную `x` и она спокойно жила внутри функции. Здесь же Питон ругается, что ему неизвестна переменная `x`, и это логично, ведь внутри функции мы ее не задавали. При этом мы хотим ее поменять. При этом мы не сказали что она глобальная. Такая же _по смыслу_ ошибка возникла и неотносительно темы функций:"
   ]
  },
  {
   "cell_type": "code",
   "execution_count": null,
   "metadata": {
    "slideshow": {
     "slide_type": "fragment"
    }
   },
   "outputs": [],
   "source": [
    "q = q * 2"
   ]
  },
  {
   "cell_type": "markdown",
   "metadata": {
    "slideshow": {
     "slide_type": "subslide"
    }
   },
   "source": [
    "3. Если мы создадим функцию внутри функции, то она будет жить только внутри б***о***льшей функции. При этом переменная, которая создалась локально (т.е. внутри б***о***льшей функции) не будет видна внутренней функции и необходимо (так же как с глобальными переменными) указать откуда переменная. \n",
    "\n",
    "В дальнейшем примере необходимо раскомментировать строки в порядке, соответствующим увеличению количества решёток (#), и проанализировать, что происходит для каждого варианта и почему."
   ]
  },
  {
   "cell_type": "code",
   "execution_count": null,
   "metadata": {
    "slideshow": {
     "slide_type": "fragment"
    }
   },
   "outputs": [],
   "source": [
    "# # # x = 'global'\n",
    "def g():\n",
    "# # # #    global x\n",
    "# # #    print('1)', x)\n",
    "    x = 'local'\n",
    "    print('2)', x)\n",
    "    def h():\n",
    "# #         nonlocal x\n",
    "#         print('3)', x)\n",
    "        x = 'innerlocal'\n",
    "        print('4)', x)\n",
    "    h()\n",
    "    print('5)', x)\n",
    "\n",
    "g()\n",
    "# # # # # #h()\n",
    "# # # print('6)', x)"
   ]
  },
  {
   "cell_type": "markdown",
   "metadata": {
    "slideshow": {
     "slide_type": "slide"
    }
   },
   "source": [
    "<span style=\"color:green; font-size:2em;\"> Лямбда-функции </span>\n",
    "\n",
    "Снова, снова, снова. Питонисты любят краткость (иногда излишнюю). Поэтому функции, если это необходимо, можно задавать **в одну строку**. Есть некоторые внутренние различия между созданием функции с помощью `def` и `lambda`, но мы не станем в это вдаваться подробно. В целом рекомендация такая - **не увлекайтесь `lambda`, не используйте её без особой надобности**. Как правило, лямбда-выражение используют как аргумент функций схлжих с `map` (её первый аргумент это функция, которую применяют к каждому элементу последовательности)."
   ]
  },
  {
   "cell_type": "markdown",
   "metadata": {
    "slideshow": {
     "slide_type": "subslide"
    }
   },
   "source": [
    "Синтаксис лямбда-выражения такой:\n",
    "\n",
    "    lambda arg1, arg2, ..., argn : code(args)\n",
    "\n",
    "Такое выражение уже можно использовать как функцию, например:"
   ]
  },
  {
   "cell_type": "code",
   "execution_count": null,
   "metadata": {
    "slideshow": {
     "slide_type": "fragment"
    }
   },
   "outputs": [],
   "source": [
    "(lambda x: x**2)(3)"
   ]
  },
  {
   "cell_type": "markdown",
   "metadata": {
    "slideshow": {
     "slide_type": "fragment"
    }
   },
   "source": [
    "Но часто выражению дают имя функции:"
   ]
  },
  {
   "cell_type": "code",
   "execution_count": null,
   "metadata": {
    "slideshow": {
     "slide_type": "fragment"
    }
   },
   "outputs": [],
   "source": [
    "sqr = lambda x: x**2\n",
    "sqr(3)"
   ]
  },
  {
   "cell_type": "markdown",
   "metadata": {
    "slideshow": {
     "slide_type": "notes"
    }
   },
   "source": [
    "Замечание: обычно, строка кода лямбды содержит какие-то простые выражения (поэтому это строка, а не блок). Поэтому если хочется, но не получается, вместить в лямбду какой-то код - значит использования лямбды **излишне** и необходимо прибегнуть к стандартному созданию функции с помощью `def`."
   ]
  },
  {
   "cell_type": "markdown",
   "metadata": {
    "slideshow": {
     "slide_type": "subslide"
    }
   },
   "source": [
    "Как и в обычных функциях, лямбда поддерживает позиционные/именованные/дефолтные/произвольные аргументы:"
   ]
  },
  {
   "cell_type": "code",
   "execution_count": null,
   "metadata": {
    "slideshow": {
     "slide_type": "fragment"
    }
   },
   "outputs": [],
   "source": [
    "(lambda x, y, z: x + y + z)(1, 2, 3),\\\n",
    "(lambda x, y, z=3: x + y + z)(1, 2),\\\n",
    "(lambda x, y, z=3: x + y + z)(1, y=2),\\\n",
    "(lambda *args: sum(args))(1,2,3)"
   ]
  },
  {
   "cell_type": "markdown",
   "metadata": {
    "slideshow": {
     "slide_type": "slide"
    }
   },
   "source": [
    "<span style=\"color:green; font-size:2em;\"> Использование функций </span>\n",
    "\n",
    "Здесь подразумевается функции как и созданные с помощью `def`, так и с помощью `lambda`. Далее покажем \"приемлемые\" случаи использования лямбда-выражения, но помните, что вместо лямбды всегда можно поставить любую другую функцию."
   ]
  },
  {
   "cell_type": "markdown",
   "metadata": {
    "slideshow": {
     "slide_type": "subslide"
    }
   },
   "source": [
    "Мы уже знакомы с функией `map`, например, в качестве аргумента мы подавали функцию `int`, чтобы перевести символы входных данных в числа. Но задачи бывают разные, поэтому созданные собственные функции могут очень помочь в применении `map`."
   ]
  },
  {
   "cell_type": "code",
   "execution_count": null,
   "metadata": {
    "slideshow": {
     "slide_type": "fragment"
    }
   },
   "outputs": [],
   "source": [
    "points = [(1, 2), (2, 5), (3, 10)]\n",
    "f = lambda x: x[0]**2 - 2 * x[0] * x[1] + x[1]**2\n",
    "list(map(f, points))"
   ]
  },
  {
   "cell_type": "markdown",
   "metadata": {
    "slideshow": {
     "slide_type": "subslide"
    }
   },
   "source": [
    "Мы также знакомы с функцией `sorted`, которая возвращает список отсортированных о возрастания значений последовательности. Но у этой функции есть именованный аргумент `key`, который принимает функция, с помощью которой необходимо сравнивать элементы последовательности, чтобы отсортировать их от меньшего к большему. Например:"
   ]
  },
  {
   "cell_type": "code",
   "execution_count": null,
   "metadata": {
    "slideshow": {
     "slide_type": "fragment"
    }
   },
   "outputs": [],
   "source": [
    "spisok = [1, 12, -10, 5, 3, -1]\n",
    "poryadok = lambda x: -x\n",
    "\n",
    "# poryadok(spisok) : -1 -12 10 -5 -3 1 => -12 -5 -3 -1 1 10 => 12 5 3 1 -1 -10\n",
    "sorted(spisok, key=poryadok) "
   ]
  },
  {
   "cell_type": "code",
   "execution_count": null,
   "metadata": {
    "slideshow": {
     "slide_type": "fragment"
    }
   },
   "outputs": [],
   "source": [
    "points = zip([1, 2, 3, 4], [-1, -10, 2, -9])\n",
    "poryadok = lambda x: x[0] # x[1] # x[0] + x[1] # x[0] * x[1]\n",
    "sorted(points, key=poryadok)"
   ]
  },
  {
   "cell_type": "markdown",
   "metadata": {
    "slideshow": {
     "slide_type": "subslide"
    }
   },
   "source": [
    "Точно так же устроены функции `min` и `max`:"
   ]
  },
  {
   "cell_type": "code",
   "execution_count": null,
   "metadata": {
    "slideshow": {
     "slide_type": "subslide"
    }
   },
   "outputs": [],
   "source": [
    "a = [1, 2, 3, -1, -2]\n",
    "s = lambda x: -x\n",
    "min(a, key=s), max(a, key=s)"
   ]
  },
  {
   "cell_type": "markdown",
   "metadata": {
    "slideshow": {
     "slide_type": "subslide"
    }
   },
   "source": [
    "И познакомимся с одной новой функцией `filter`, которая принимает на вход функцию и последовательность. Функция выдает последовательность типа `filter` с элементами входящей последовательности, значения которых выдали `True` на выходе функции-аргумента (помните, что `True` значение необязательно булевое, это может быть любое ненулевое число, любой непустой объект и т.д.). Например:"
   ]
  },
  {
   "cell_type": "code",
   "execution_count": null,
   "metadata": {
    "slideshow": {
     "slide_type": "fragment"
    }
   },
   "outputs": [],
   "source": [
    "list(filter(lambda x: x > 0, (-1, 2, -3, 4, 5, -10)))"
   ]
  },
  {
   "cell_type": "code",
   "execution_count": null,
   "metadata": {
    "slideshow": {
     "slide_type": "fragment"
    }
   },
   "outputs": [],
   "source": [
    "list(filter(lambda x: x, (0, 2, 0, 0, 1, -1, 0, 1, 10, 0, 0, -1)))"
   ]
  },
  {
   "cell_type": "code",
   "execution_count": null,
   "metadata": {
    "slideshow": {
     "slide_type": "fragment"
    }
   },
   "outputs": [],
   "source": [
    "s = '1   2        4 5 '.split(' ')\n",
    "s, list(filter(lambda x: x, s))"
   ]
  },
  {
   "cell_type": "markdown",
   "metadata": {
    "slideshow": {
     "slide_type": "slide"
    }
   },
   "source": [
    "<span style=\"color:green; font-size:2em;\"> Рекурсия </span>\n",
    "\n",
    "Что такое рекурсия? Это процесс определения чего-нибудь в терминах самого себя. Например, рекурсивные последовательности задаются первыми несколькими элементами и формулой элемента `n` в терминах элементов `n-1`,..., `n-k`. "
   ]
  },
  {
   "cell_type": "markdown",
   "metadata": {
    "slideshow": {
     "slide_type": "subslide"
    }
   },
   "source": [
    "С помощью функций в Питоне можно задавать и решать рекурсивные алгоритмы. Чтобы создать рекурсивную функцию (причем, желательно не бесконечную), необходимо:\n",
    "1. Чтобы функция возвращала (`return`) саму себя (с новым аргументом), т.е. задана формула рекурсии\n",
    "2. Чтобы в зависимости от аргумента, возвращалась уже не наша функция, а какое-то значение, т.е. задан конец рекурсии\n",
    "\n",
    "Разберемся на примере факториала.  $$n! = n \\cdot (n-1)! = \\dots = n \\cdot (n-1) \\cdot \\dots \\cdot 2 \\cdot 1$$"
   ]
  },
  {
   "cell_type": "code",
   "execution_count": null,
   "metadata": {
    "slideshow": {
     "slide_type": "fragment"
    }
   },
   "outputs": [],
   "source": [
    "def factorial(n):\n",
    "    if n == 1: # конец рекурсии\n",
    "        return 1\n",
    "    else:\n",
    "        return n * factorial(n - 1) # формула рекурсии\n",
    "\n",
    "factorial(5)"
   ]
  }
 ],
 "metadata": {
  "celltoolbar": "Slideshow",
  "kernelspec": {
   "display_name": "Python 3",
   "language": "python",
   "name": "python3"
  },
  "language_info": {
   "codemirror_mode": {
    "name": "ipython",
    "version": 3
   },
   "file_extension": ".py",
   "mimetype": "text/x-python",
   "name": "python",
   "nbconvert_exporter": "python",
   "pygments_lexer": "ipython3",
   "version": "3.6.9"
  }
 },
 "nbformat": 4,
 "nbformat_minor": 4
}
