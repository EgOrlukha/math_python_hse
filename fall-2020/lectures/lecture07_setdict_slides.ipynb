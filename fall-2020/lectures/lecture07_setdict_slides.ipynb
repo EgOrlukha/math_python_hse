{
 "cells": [
  {
   "cell_type": "markdown",
   "metadata": {
    "slideshow": {
     "slide_type": "slide"
    }
   },
   "source": [
    "<span style=\"color:green; font-size:2.5em;\"> 07. Словарь. Множество.</span>\n",
    "\n",
    "---"
   ]
  },
  {
   "cell_type": "markdown",
   "metadata": {
    "slideshow": {
     "slide_type": "slide"
    }
   },
   "source": [
    "<span style=\"color:green; font-size:2em;\"> Словари </span> [DOCS1](https://docs.python.org/3/tutorial/datastructures.html#dictionaries) [DOCS2](https://docs.python.org/3/library/stdtypes.html#mapping-types-dict)"
   ]
  },
  {
   "cell_type": "markdown",
   "metadata": {
    "slideshow": {
     "slide_type": "subslide"
    }
   },
   "source": [
    "Мы уже успели изучить такие типы данных как строки, кортежи и списки (массивы). Все они имеют такое свойство как \"номер\", то есть к их элементам можно обратиться по индексу и эта **идентификация** \"номер - элемент\" **однозначна**. Однако, в реальной жизни мы не всегда идентифицируем данные *только числами*. Например, юзернейм в телеграме, номер группы студентов, маршруты поездов, авиарейсы, и др.. \n",
    "\n",
    "То есть для хранения информации о чем-либо в качестве идентификатора удобно использовать текстовую строку. Самым простым случаем такой идентификации являются пары вида \"текст - текст\", например, \"страна - столица\", \"слово - его значение\" и т.д."
   ]
  },
  {
   "cell_type": "markdown",
   "metadata": {
    "slideshow": {
     "slide_type": "subslide"
    }
   },
   "source": [
    "Структура данных, позволяющая идентифицировать ее элементы не по числовому индексу, а по индексу произвольного типа, называется **словарем или ассоциативным массивом** и в Питоне - `dict`. Идентификатор в Питоне называется `key` (ключ), а соответствующий элемент - `value` (значение).\n",
    "\n",
    "<img src=\"https://developers.google.com/edu/python/images/dict.png\" width=\"300\">\n",
    "\n",
    "Очень важно, чтобы ключ был 1) **уникален**, т.е. в словаре не может быть двух одинаковых ключей с разным значением 2) **неизменяемого типа**, т.е. список не может быть ключом, а кортеж может. В качестве значения может выступать любой тип данных, в том числе другой словарь. "
   ]
  },
  {
   "cell_type": "markdown",
   "metadata": {
    "slideshow": {
     "slide_type": "subslide"
    }
   },
   "source": [
    "<span style=\"color:green; font-size:1.5em;\"> Создание словаря </span>"
   ]
  },
  {
   "cell_type": "markdown",
   "metadata": {
    "slideshow": {
     "slide_type": "subslide"
    }
   },
   "source": [
    "Словарь можно создать с помощью функции `dict()` из набора пар **ключ - значение** и им может быть:\n",
    "\n",
    "1. кортеж/список, элемент которого кортеж/список длины 2"
   ]
  },
  {
   "cell_type": "code",
   "execution_count": null,
   "metadata": {
    "slideshow": {
     "slide_type": "fragment"
    }
   },
   "outputs": [],
   "source": [
    "# список списков\n",
    "dict([[\"Russia\", \"Moscow\"], [\"Ukraine\", \"Kiev\"], [\"USA\", \"Washington\"]]) \n",
    "# список кортежей\n",
    "dict([(\"Russia\", \"Moscow\"), (\"Ukraine\", \"Kiev\"), (\"USA\", \"Washington\")])\n",
    "# кортеж списков\n",
    "dict(([\"Russia\", \"Moscow\"], [\"Ukraine\", \"Kiev\"], [\"USA\", \"Washington\"]))\n",
    "# кортеж кортежей\n",
    "dict(((\"Russia\", \"Moscow\"), (\"Ukraine\", \"Kiev\"), (\"USA\", \"Washington\"))) "
   ]
  },
  {
   "cell_type": "markdown",
   "metadata": {
    "slideshow": {
     "slide_type": "subslide"
    }
   },
   "source": [
    "2. `zip` объект с элементами длины 2"
   ]
  },
  {
   "cell_type": "code",
   "execution_count": null,
   "metadata": {
    "slideshow": {
     "slide_type": "fragment"
    }
   },
   "outputs": [],
   "source": [
    "# zip \n",
    "dict(zip([\"Russia\", \"Ukraine\", \"USA\"], [\"Moscow\", \"Kiev\", \"Washington\"]))"
   ]
  },
  {
   "cell_type": "markdown",
   "metadata": {
    "slideshow": {
     "slide_type": "subslide"
    }
   },
   "source": [
    "3. генератор словаря `{ key : value for _ in _}`"
   ]
  },
  {
   "cell_type": "code",
   "execution_count": null,
   "metadata": {
    "slideshow": {
     "slide_type": "fragment"
    }
   },
   "outputs": [],
   "source": [
    "{x : 0 for x in 'abcdef'}"
   ]
  },
  {
   "cell_type": "markdown",
   "metadata": {
    "slideshow": {
     "slide_type": "subslide"
    }
   },
   "source": [
    "4. перечисление пар:\n",
    "    * внутри фигурных скобок через запятую вида `key : value`\n",
    "    * внутри функции `dict` в виде именованых аргументов (тогда ключом может быть _только_ строка)"
   ]
  },
  {
   "cell_type": "code",
   "execution_count": null,
   "metadata": {
    "slideshow": {
     "slide_type": "fragment"
    }
   },
   "outputs": [],
   "source": [
    "# фигурные скобки \n",
    "{'Russia': 'Moscow', 'Ukraine': 'Kiev', 'USA': 'Washington'}\n",
    "# именованые аргументы\n",
    "dict(Russia = 'Moscow', Ukraine = 'Kiev', USA = 'Washington')\n",
    "# смесь\n",
    "dict({'Russia': 'Moscow', 'Ukraine': 'Kiev'}, USA = 'Washington')"
   ]
  },
  {
   "cell_type": "markdown",
   "metadata": {
    "slideshow": {
     "slide_type": "subslide"
    }
   },
   "source": [
    "Пустой словарь можно создать при помощи функции `dict()` или пустой пары фигурных скобок `{}`. "
   ]
  },
  {
   "cell_type": "code",
   "execution_count": null,
   "metadata": {
    "slideshow": {
     "slide_type": "fragment"
    }
   },
   "outputs": [],
   "source": [
    "dict(), {}"
   ]
  },
  {
   "cell_type": "markdown",
   "metadata": {
    "slideshow": {
     "slide_type": "subslide"
    }
   },
   "source": [
    "<span style=\"color:green; font-size:1.5em;\"> Функции применимые к словарям </span>"
   ]
  },
  {
   "cell_type": "code",
   "execution_count": null,
   "metadata": {
    "slideshow": {
     "slide_type": "fragment"
    }
   },
   "outputs": [],
   "source": [
    "d = {'Russia': 'Moscow', 'Ukraine': 'Kiev', 'USA': 'Washington'}"
   ]
  },
  {
   "cell_type": "markdown",
   "metadata": {
    "slideshow": {
     "slide_type": "subslide"
    }
   },
   "source": [
    "Так как словарь это итерируемый изменяемый тип данных. С помощью функции `list` можно получить список его ключей (без значений!) в том порядке, в каком они были добавлены; `sorted` возвращает отсортированный список ключей; функция `len` как обычно возвращает число элементов."
   ]
  },
  {
   "cell_type": "code",
   "execution_count": null,
   "metadata": {
    "slideshow": {
     "slide_type": "fragment"
    }
   },
   "outputs": [],
   "source": [
    "list(d), sorted(d), len(d)"
   ]
  },
  {
   "cell_type": "markdown",
   "metadata": {
    "slideshow": {
     "slide_type": "subslide"
    }
   },
   "source": [
    "`d.copy()` - возвращает копию* словаря;\n",
    "\n",
    "`d.clear()` - удаляет все элементы словаря"
   ]
  },
  {
   "cell_type": "code",
   "execution_count": null,
   "metadata": {
    "slideshow": {
     "slide_type": "fragment"
    }
   },
   "outputs": [],
   "source": [
    "d2 = d.copy()\n",
    "d.clear()\n",
    "d2, d"
   ]
  },
  {
   "cell_type": "markdown",
   "metadata": {
    "slideshow": {
     "slide_type": "subslide"
    }
   },
   "source": [
    "\\* копировать словарь так же важно, как копировать список - т.к. это изменяемый тип данных, то присваивая словарь новому имени переменной мы не создаем новый объект, а лишь создаем новую \"ссылку\" на объект, поэтому, меняя старый или новый объект, будем меняться другой:"
   ]
  },
  {
   "cell_type": "code",
   "execution_count": null,
   "metadata": {},
   "outputs": [],
   "source": [
    "d = {'Russia': 'Moscow', 'Ukraine': 'Kiev', 'USA': 'Washington'}\n",
    "d2 = d\n",
    "d.clear()\n",
    "d2, d"
   ]
  },
  {
   "cell_type": "markdown",
   "metadata": {
    "slideshow": {
     "slide_type": "subslide"
    }
   },
   "source": [
    "`d.update(other)` - обновляет (пополняет новыми ключами и заменяет значения уже имеющихся) словарь парами `key:value` из `other`. Этот метод __изменяет__ сам объект, а не создает новый, поэтому возвращает `None`."
   ]
  },
  {
   "cell_type": "code",
   "execution_count": null,
   "metadata": {
    "slideshow": {
     "slide_type": "fragment"
    }
   },
   "outputs": [],
   "source": [
    "d = {'Russia': 'Moscow', 'Ukraine': 'Kiev', 'USA': 'Washington'}\n",
    "d.update({'Russia' : 'St Petersburg', 'Romania' : 'Buharest'})\n",
    "d"
   ]
  },
  {
   "cell_type": "markdown",
   "metadata": {
    "slideshow": {
     "slide_type": "subslide"
    }
   },
   "source": [
    "<span style=\"color:green; font-size:1.5em;\"> Работа с ключами и значениями </span>\n",
    "\n",
    "Как и в списке, **обратиться к элементу или изменить его** можно по идентификатору с помощью квадратных скобок. Если указанного ключа в словаре не существует, то Питон ругается ошибкой `KeyError`."
   ]
  },
  {
   "cell_type": "code",
   "execution_count": null,
   "metadata": {
    "slideshow": {
     "slide_type": "fragment"
    }
   },
   "outputs": [],
   "source": [
    "d['USA']"
   ]
  },
  {
   "cell_type": "code",
   "execution_count": null,
   "metadata": {
    "slideshow": {
     "slide_type": "fragment"
    }
   },
   "outputs": [],
   "source": [
    "d['Russia'] = 'Moscow'"
   ]
  },
  {
   "cell_type": "code",
   "execution_count": null,
   "metadata": {
    "slideshow": {
     "slide_type": "fragment"
    }
   },
   "outputs": [],
   "source": [
    "d['Finland']"
   ]
  },
  {
   "cell_type": "markdown",
   "metadata": {
    "slideshow": {
     "slide_type": "subslide"
    }
   },
   "source": [
    "Можно проверить, **лежит ли ключ в словаре**:"
   ]
  },
  {
   "cell_type": "code",
   "execution_count": null,
   "metadata": {
    "slideshow": {
     "slide_type": "fragment"
    }
   },
   "outputs": [],
   "source": [
    "'Finland' in d, 'USA' in d, 'Finland' not in d, 'USA' not in d"
   ]
  },
  {
   "cell_type": "markdown",
   "metadata": {
    "slideshow": {
     "slide_type": "subslide"
    }
   },
   "source": [
    "Однако, можно обратиться к значению по ключу и без ошибки. Для этого есть метод `get(key, [default=None])`, который возвращает значение ключа, если ключ есть в словаре, иначе возвращает значение `default`, которое по дефолту (ого, тавтология) `None`."
   ]
  },
  {
   "cell_type": "code",
   "execution_count": null,
   "metadata": {
    "slideshow": {
     "slide_type": "fragment"
    }
   },
   "outputs": [],
   "source": [
    "d.get('USA'), d.get('Finland'), d.get('Finland', 'Not given')"
   ]
  },
  {
   "cell_type": "markdown",
   "metadata": {
    "slideshow": {
     "slide_type": "subslide"
    }
   },
   "source": [
    "В отличие от списков, создание нового элемента словаря может быть совершено с помощью тех же квадратных скобок:"
   ]
  },
  {
   "cell_type": "code",
   "execution_count": null,
   "metadata": {
    "slideshow": {
     "slide_type": "fragment"
    }
   },
   "outputs": [],
   "source": [
    "d['Finland'] = 'Helsinki'\n",
    "d"
   ]
  },
  {
   "cell_type": "markdown",
   "metadata": {
    "slideshow": {
     "slide_type": "subslide"
    }
   },
   "source": [
    "Есть похожий на `get` метод, который тоже создает новые элементы, но не явно и в более общем смысле. \n",
    "Метод `set(key, [default=None])` возвращает значение ключа, если ключ есть в словаре, иначе создает элемент словаря с этим ключом и значением `default` (который по дефолту `None`)"
   ]
  },
  {
   "cell_type": "code",
   "execution_count": null,
   "metadata": {
    "slideshow": {
     "slide_type": "fragment"
    }
   },
   "outputs": [],
   "source": [
    "d.setdefault('USA'), d.setdefault('Poland')"
   ]
  },
  {
   "cell_type": "code",
   "execution_count": null,
   "metadata": {
    "slideshow": {
     "slide_type": "fragment"
    }
   },
   "outputs": [],
   "source": [
    "d"
   ]
  },
  {
   "cell_type": "markdown",
   "metadata": {
    "slideshow": {
     "slide_type": "subslide"
    }
   },
   "source": [
    "Чтобы **удалить элемент** словаря можно воспользовать командой `del`, с помощью которой на самом деле уможно удалить любой объект в Питоне. Однакое, если указанного ключа в словаре нет, то Питон будет ругаться `KeyError`-ом, как и в случае без `del`."
   ]
  },
  {
   "cell_type": "code",
   "execution_count": null,
   "metadata": {
    "slideshow": {
     "slide_type": "fragment"
    }
   },
   "outputs": [],
   "source": [
    "del d['Poland']\n",
    "# del d['Sweden'] "
   ]
  },
  {
   "cell_type": "markdown",
   "metadata": {
    "slideshow": {
     "slide_type": "subslide"
    }
   },
   "source": [
    "Более безопасный способ это использовать метод `pop(key, [default])`, который похож на метод `pop` для списка. Если ключ есть в словаре, то метод удаляет элемент и возвращает значения ключа. Есть ключа нет, то возвращается указанное значение `default`, но если `default` не указан, то Питон будет ругаться `KeyError`-ом как и в небезопасном способе."
   ]
  },
  {
   "cell_type": "code",
   "execution_count": null,
   "metadata": {
    "slideshow": {
     "slide_type": "fragment"
    }
   },
   "outputs": [],
   "source": [
    "d.pop('USA'), d"
   ]
  },
  {
   "cell_type": "code",
   "execution_count": null,
   "metadata": {
    "slideshow": {
     "slide_type": "fragment"
    }
   },
   "outputs": [],
   "source": [
    "d.pop('USA', 'Not found')"
   ]
  },
  {
   "cell_type": "code",
   "execution_count": null,
   "metadata": {
    "slideshow": {
     "slide_type": "fragment"
    }
   },
   "outputs": [],
   "source": [
    "d.pop('USA')"
   ]
  },
  {
   "cell_type": "markdown",
   "metadata": {
    "slideshow": {
     "slide_type": "subslide"
    }
   },
   "source": [
    "Еще один, но не \"детерминированный\", способ - `popitem()`. Он удаляет **какой-то** элемент и возвращает пару `(key, value)`. Порядок, в котором метод \"идет\" по элементам, называется LIFO - Last In First Out, т.е. в порядке обратном добавлению элементов. В таком же порядке печатается словарь.\n",
    "\n",
    "Если словарь пустой, то Питон ругается."
   ]
  },
  {
   "cell_type": "code",
   "execution_count": null,
   "metadata": {
    "slideshow": {
     "slide_type": "subslide"
    }
   },
   "outputs": [],
   "source": [
    "d"
   ]
  },
  {
   "cell_type": "code",
   "execution_count": null,
   "metadata": {
    "slideshow": {
     "slide_type": "fragment"
    }
   },
   "outputs": [],
   "source": [
    "d.popitem(), d.popitem()"
   ]
  },
  {
   "cell_type": "code",
   "execution_count": null,
   "metadata": {
    "slideshow": {
     "slide_type": "subslide"
    }
   },
   "outputs": [],
   "source": [
    "d"
   ]
  },
  {
   "cell_type": "markdown",
   "metadata": {
    "slideshow": {
     "slide_type": "subslide"
    }
   },
   "source": [
    "<span style=\"color:green; font-size:1.5em;\"> Итерирование по словарю </span>\n",
    "\n",
    "Мы уже упоминали, что словарь - итерируемый объект, а значит по элементам можно проитерироваться циклом. Причем, так как словарь не дает прямого доступа к значениям элементов, т.е. мы к ним всегда имеем доступ только через ключ, то **возвращаться будут только ключи**.\n",
    "\n",
    "Порядок прохода по элементам такой же, в котором были добавлены элементы."
   ]
  },
  {
   "cell_type": "code",
   "execution_count": null,
   "metadata": {
    "slideshow": {
     "slide_type": "fragment"
    }
   },
   "outputs": [],
   "source": [
    "for x in d:\n",
    "    print(f'Возващаемый ключ: {x},\\tзначение по ключу: {d[x]}')"
   ]
  },
  {
   "cell_type": "markdown",
   "metadata": {
    "slideshow": {
     "slide_type": "subslide"
    }
   },
   "source": [
    "Помимо этого, есть три метода:\n",
    "* `items()` - итерируемый объект типа `dict_items`, элементы которого пары `(key, value)`\n",
    "* `keys()` - итерируемый объект типа `dict_keys`, элементы которого ключи словаря\n",
    "* `values()` - итерируемый объект типа `dict_values`, элементы которого значения словаря\n",
    "\n",
    "Заметьте, что эти объекты не поддерживают индексацию, поэтому например нельзя написать `d.items()[1]`."
   ]
  },
  {
   "cell_type": "code",
   "execution_count": null,
   "metadata": {
    "slideshow": {
     "slide_type": "subslide"
    }
   },
   "outputs": [],
   "source": [
    "d.items(), d.keys(), d.values(), type(d.items()), type(d.keys()), type(d.values())"
   ]
  },
  {
   "cell_type": "code",
   "execution_count": null,
   "metadata": {
    "slideshow": {
     "slide_type": "fragment"
    }
   },
   "outputs": [],
   "source": [
    "for k, v in d.items():\n",
    "    print(f'{k}: \\t{v}')"
   ]
  },
  {
   "cell_type": "markdown",
   "metadata": {
    "slideshow": {
     "slide_type": "subslide"
    }
   },
   "source": [
    "<span style=\"color:green; font-size:1.5em;\"> Когда нужно использовать словари </span>\n",
    "\n",
    "Особенностью ассоциативного массива является его динамичность: в него можно добавлять новые элементы с произвольными ключами и удалять уже существующие элементы. При этом размер используемой памяти пропорционален размеру ассоциативного массива. Доступ к элементам ассоциативного массива выполняется хоть и медленнее, чем к обычным массивам, но в целом довольно быстро."
   ]
  },
  {
   "cell_type": "markdown",
   "metadata": {
    "slideshow": {
     "slide_type": "subslide"
    }
   },
   "source": [
    "Словари нужно использовать в следующих случаях:\n",
    "\n",
    "* Подсчет числа каких-то объектов. В этом случае нужно завести словарь, в котором ключами являются объекты, а значениями — их количество.\n",
    "* Хранение каких-либо данных, связанных с объектом. Ключи — объекты, значения — связанные с ними данные. Например, если нужно по названию месяца определить его порядковый номер, то это можно сделать при помощи словаря Num['January'] = 1; Num['February'] = 2; ....\n",
    "* Установка соответствия между объектами (например, \"родитель—потомок\"). Ключ — объект, значение — соответствующий ему объект.\n",
    "* Если нужен обычный массив, но масимальное значение индекса элемента очень велико, и при этом будут использоваться не все возможные индексы (так называемый “разреженный массив”), то можно использовать ассоциативный массив для экономии памяти."
   ]
  },
  {
   "cell_type": "code",
   "execution_count": null,
   "metadata": {
    "slideshow": {
     "slide_type": "subslide"
    }
   },
   "outputs": [],
   "source": [
    "d = {}\n",
    "text = 'python is my favorite programming language \\\n",
    "        python is very powerful python is less powerful than c++'\n",
    "for word in text.split():\n",
    "    if word in d:\n",
    "        d[word] = d[word] + 1\n",
    "    else:\n",
    "        d[word] = 1\n",
    "d.items()"
   ]
  },
  {
   "cell_type": "code",
   "execution_count": null,
   "metadata": {
    "slideshow": {
     "slide_type": "subslide"
    }
   },
   "outputs": [],
   "source": [
    "d = {}\n",
    "text = 'python is my favorite programming language \\\n",
    "        python is very powerful python is less powerful than c++'\n",
    "for word in text.split():\n",
    "    d[word] = d.setdefault(word, 0) + 1\n",
    "d.items(), sum(d.values())"
   ]
  },
  {
   "cell_type": "markdown",
   "metadata": {
    "slideshow": {
     "slide_type": "subslide"
    }
   },
   "source": [
    "<span style=\"color:green; font-size:2em;\"> Множества </span> [DOCS1](https://docs.python.org/3/tutorial/datastructures.html#sets) [DOCS2](https://docs.python.org/3/library/stdtypes.html#set-types-set-frozenset)\n",
    "\n",
    "Множество в языке Питон — это **изменяемая** структура данных, эквивалентная множествам в математике. Множество состоит из **различных** элементов, **порядок** которых **неопределен**."
   ]
  },
  {
   "cell_type": "markdown",
   "metadata": {
    "slideshow": {
     "slide_type": "subslide"
    }
   },
   "source": [
    "Главная особенность множеств это отсутствие порядка. Элементы множества хранятся не подряд, а при помощи хитрых алгоритмов. Это позволяет выполнять проверку на принадлежность элемента множеству **быстрее**, чем просто перебирая все элементы (как это происходит в списке, словаре, строках и т.д.)."
   ]
  },
  {
   "cell_type": "markdown",
   "metadata": {
    "slideshow": {
     "slide_type": "subslide"
    }
   },
   "source": [
    "Элементами множества может быть любой **неизменяемый** тип данных: числа, строки, кортежи. \n",
    "\n",
    "Изменяемые типы данных не могут быть элементами множества, т.е. нельзя сделать элементом множества список (но можно сделать кортеж) или другое множество. Требование неизменяемости элементов множества накладывается особенностями представления множества в памяти компьютера."
   ]
  },
  {
   "cell_type": "markdown",
   "metadata": {
    "slideshow": {
     "slide_type": "subslide"
    }
   },
   "source": [
    "<span style=\"color:green; font-size:1.5em;\"> Создание множества</span>\n",
    "\n",
    "Множество задается перечислением всех его элементов в фигурных скобках `{}`."
   ]
  },
  {
   "cell_type": "code",
   "execution_count": null,
   "metadata": {
    "slideshow": {
     "slide_type": "fragment"
    }
   },
   "outputs": [],
   "source": [
    "A = {1, 2, 3}\n",
    "A, type(A)"
   ]
  },
  {
   "cell_type": "markdown",
   "metadata": {
    "slideshow": {
     "slide_type": "subslide"
    }
   },
   "source": [
    "Пустое множество можно создать **только** при помощи функции `set()`. "
   ]
  },
  {
   "cell_type": "code",
   "execution_count": null,
   "metadata": {
    "slideshow": {
     "slide_type": "fragment"
    }
   },
   "outputs": [],
   "source": [
    "type(set()), type({})"
   ]
  },
  {
   "cell_type": "markdown",
   "metadata": {
    "slideshow": {
     "slide_type": "subslide"
    }
   },
   "source": [
    "Если функции `set` передать в качестве параметра список, строку или кортеж, то она вернёт множество, составленное из элементов списка, строки, кортежа. "
   ]
  },
  {
   "cell_type": "code",
   "execution_count": null,
   "metadata": {
    "slideshow": {
     "slide_type": "fragment"
    }
   },
   "outputs": [],
   "source": [
    "set([1, 2, 3, 4, 2, 3, 1]), set('qwertyqa')"
   ]
  },
  {
   "cell_type": "markdown",
   "metadata": {
    "slideshow": {
     "slide_type": "subslide"
    }
   },
   "source": [
    "Есть генератор множества, который выглядит как и генератор списка, но скобки должны быть фигурными. Не путйет генератор словаря и множества, для словарей используется знак `:`, чтобы указать \"пару\"."
   ]
  },
  {
   "cell_type": "code",
   "execution_count": null,
   "metadata": {
    "slideshow": {
     "slide_type": "fragment"
    }
   },
   "outputs": [],
   "source": [
    "a = {x for x in 'abracadabra' if x not in 'ac'}\n",
    "a, type(a)"
   ]
  },
  {
   "cell_type": "markdown",
   "metadata": {
    "slideshow": {
     "slide_type": "subslide"
    }
   },
   "source": [
    "Каждый элемент может входить в множество **только один раз**, порядок задания элементов неважен. Например, программа выведет `True`, так как A и B — равные множества."
   ]
  },
  {
   "cell_type": "code",
   "execution_count": null,
   "metadata": {
    "slideshow": {
     "slide_type": "fragment"
    }
   },
   "outputs": [],
   "source": [
    "A = {10, 2, 3}\n",
    "B = {3, 2, 3, 10}\n",
    "print(A == B)"
   ]
  },
  {
   "cell_type": "markdown",
   "metadata": {
    "slideshow": {
     "slide_type": "subslide"
    }
   },
   "source": [
    "<span style=\"color:green; font-size:1.5em;\">Работа с элементами множеств</span>"
   ]
  },
  {
   "cell_type": "markdown",
   "metadata": {
    "slideshow": {
     "slide_type": "subslide"
    }
   },
   "source": [
    "Из множества можно сделать список при помощи функции `list` или отсортированный список с помощью `sorted`. Узнать число элементов в множестве можно при помощи функции `len`."
   ]
  },
  {
   "cell_type": "code",
   "execution_count": null,
   "metadata": {
    "slideshow": {
     "slide_type": "fragment"
    }
   },
   "outputs": [],
   "source": [
    "list(B), sorted(B), len(B), len(set())"
   ]
  },
  {
   "cell_type": "markdown",
   "metadata": {
    "slideshow": {
     "slide_type": "subslide"
    }
   },
   "source": [
    "`s.copy()` - возвращает копию множества;\n",
    "\n",
    "`s.clear()` - удаляет все элементы множества"
   ]
  },
  {
   "cell_type": "code",
   "execution_count": null,
   "metadata": {
    "slideshow": {
     "slide_type": "fragment"
    }
   },
   "outputs": [],
   "source": [
    "B2 = B.copy()\n",
    "B.clear()\n",
    "B2, B"
   ]
  },
  {
   "cell_type": "markdown",
   "metadata": {
    "slideshow": {
     "slide_type": "subslide"
    }
   },
   "source": [
    "Проверить, принадлежит ли элемент множеству можно при помощи операции `in`, возвращающей значение типа `bool`. Аналогично есть противоположная операция `not in`."
   ]
  },
  {
   "cell_type": "code",
   "execution_count": null,
   "metadata": {
    "slideshow": {
     "slide_type": "fragment"
    }
   },
   "outputs": [],
   "source": [
    "A = {1, 2, 3}\n",
    "1 in A, 4 not in A"
   ]
  },
  {
   "cell_type": "markdown",
   "metadata": {
    "slideshow": {
     "slide_type": "subslide"
    }
   },
   "source": [
    "Для добавления элемента в множество есть метод `add`:"
   ]
  },
  {
   "cell_type": "code",
   "execution_count": null,
   "metadata": {
    "slideshow": {
     "slide_type": "fragment"
    }
   },
   "outputs": [],
   "source": [
    "A.add(4)\n",
    "A"
   ]
  },
  {
   "cell_type": "markdown",
   "metadata": {
    "slideshow": {
     "slide_type": "subslide"
    }
   },
   "source": [
    "Для удаления элемента `x` из множества есть два метода: `discard` и `remove`. Их поведение различается только в случае, когда удаляемый элемент отсутствует в множестве. В этом случае метод `discard` не делает ничего, а метод `remove` генерирует исключение KeyError."
   ]
  },
  {
   "cell_type": "code",
   "execution_count": null,
   "metadata": {
    "slideshow": {
     "slide_type": "fragment"
    }
   },
   "outputs": [],
   "source": [
    "A.discard(5)\n",
    "A.remove(5)"
   ]
  },
  {
   "cell_type": "markdown",
   "metadata": {
    "slideshow": {
     "slide_type": "subslide"
    }
   },
   "source": [
    "Метод `pop` удаляет из множества один **случайный элемент** и возвращает его значение. Если же множество пусто, то генерируется исключение `KeyError`."
   ]
  },
  {
   "cell_type": "code",
   "execution_count": null,
   "metadata": {
    "slideshow": {
     "slide_type": "fragment"
    }
   },
   "outputs": [],
   "source": [
    "A.pop(), A.pop(), A"
   ]
  },
  {
   "cell_type": "markdown",
   "metadata": {
    "slideshow": {
     "slide_type": "subslide"
    }
   },
   "source": [
    "Перебрать все элементы множества (в неопределенном порядке!) циклом `for` можно как и обычно:"
   ]
  },
  {
   "cell_type": "code",
   "execution_count": null,
   "metadata": {
    "slideshow": {
     "slide_type": "fragment"
    }
   },
   "outputs": [],
   "source": [
    "primes = {2, 3, 5, 7, 11}\n",
    "for num in primes:\n",
    "    print(num, end=' ')"
   ]
  },
  {
   "cell_type": "markdown",
   "metadata": {
    "slideshow": {
     "slide_type": "subslide"
    }
   },
   "source": [
    "<span style=\"color:green; font-size:1.5em;\"> Операции с множествами </span>\n",
    "\n",
    "С множествами в Питоне можно выполнять обычные для математики операции над множествами.\n",
    "\n",
    "| Операция | Метод | Что делает |\n",
    "| ---      | ---   | ---        |\n",
    "| A \\| B |A.union(B) |Возвращает множество, являющееся объединением множеств A и B.|\n",
    "|A \\|= B |A.update(B)|Добавляет в множество A все элементы из множества B.|\n",
    "|A & B |A.intersection(B)|Возвращает множество, являющееся пересечением множеств A и B.|\n",
    "|A &= B|A.intersection_update(B)|Оставляет в множестве A только те элементы, которые есть в множестве B.|\n",
    "|A - B|A.difference(B)|Возвращает разность множеств A и B (элементы, входящие в A, но не входящие в B).|\n",
    "|A -= B|A.difference_update(B)|Удаляет из множества A все элементы, входящие в B.|\n",
    "|A ^ B|A.symmetric_difference(B)|Возвращает симметрическую разность множеств A и B (элементы, входящие в A или в B, но не в оба из них одновременно).|\n",
    "|A ^= B|A.symmetric_difference_update(B)|Записывает в A симметрическую разность множеств A и B.|\n",
    "|A <= B|A.issubset(B)|Возвращает true, если A является подмножеством B.|\n",
    "|A >= B|A.issuperset(B)|Возвращает true, если B является подмножеством A.|\n",
    "|A < B||Эквивалентно A <= B and A != B|\n",
    "|A > B||Эквивалентно A >= B and A != B|\n",
    "||A.isdisjoint(B)| Эквивалентно пустому A.intersection(B) |"
   ]
  },
  {
   "cell_type": "markdown",
   "metadata": {
    "slideshow": {
     "slide_type": "subslide"
    }
   },
   "source": [
    "<span style=\"color:green; font-size:1.5em;\"> Frozen set </span>\n",
    "\n",
    "Тип `frozenset` - множество, которое является неизменяемым, а поэтому можнт использоваться как ключ словаря или как элемент множества. Его элементы нельзя изменить, поэтому методов `add`, `remove` и др. у него нет."
   ]
  },
  {
   "cell_type": "code",
   "execution_count": null,
   "metadata": {
    "slideshow": {
     "slide_type": "fragment"
    }
   },
   "outputs": [],
   "source": [
    "frozenset([1,2,2])"
   ]
  },
  {
   "cell_type": "markdown",
   "metadata": {},
   "source": []
  }
 ],
 "metadata": {
  "celltoolbar": "Slideshow",
  "kernelspec": {
   "display_name": "Python 3",
   "language": "python",
   "name": "python3"
  },
  "language_info": {
   "codemirror_mode": {
    "name": "ipython",
    "version": 3
   },
   "file_extension": ".py",
   "mimetype": "text/x-python",
   "name": "python",
   "nbconvert_exporter": "python",
   "pygments_lexer": "ipython3",
   "version": "3.6.9"
  }
 },
 "nbformat": 4,
 "nbformat_minor": 4
}
