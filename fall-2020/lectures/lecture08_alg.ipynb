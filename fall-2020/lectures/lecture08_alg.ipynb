{
 "cells": [
  {
   "cell_type": "markdown",
   "metadata": {
    "slideshow": {
     "slide_type": "slide"
    }
   },
   "source": [
    "#  08. Алгоритмическая сложность. Сортировки.  \n",
    "\n",
    "---"
   ]
  },
  {
   "cell_type": "markdown",
   "metadata": {
    "slideshow": {
     "slide_type": "slide"
    }
   },
   "source": [
    "##  О-символика   \n",
    "\n",
    "Сегодня мы поговорим о том, как сравнивать скорость различных алгоритмов. Конечно, скорость выполнения программы зависит от многих факторов - процессор компьютера, его загруженность, архитектура, устройство памяти, сам язык программирования - поэтому хочется уметь сравнивать алгоритмы вне зависимости от них. Определить, какой алгоритм работает в общем случае быстрее другого, можно, например, с помощью О-символики. Начнем с определения."
   ]
  },
  {
   "cell_type": "markdown",
   "metadata": {},
   "source": [
    "###  Определение  \n",
    "\n",
    ">Пусть $f,g$ - функции. Говорим, что $f$ растет **не быстрее** $g$ и пишем $f(n) = O(g(n))$ или $f \\preceq g$, если существует такая константа $c>0$, что $f(n) \\leq c \\cdot g(n)$ для любого $n \\in \\mathbb N$.\n",
    "\n",
    "Связанные понятия:\n",
    "> $f(n) = \\Omega(g(n)),\\ f \\succeq g \\iff \\exists c>0: f(n) \\geq c\\cdot g(n)$ (не медленнее)\n",
    "> $f(n) = \\Theta(g(n)),\\ f \\asymp g \\iff f(n) = O(g(n)) = \\Omega(g(n))$ (не быстрее и не медленее, т.е. одинаково) "
   ]
  },
  {
   "cell_type": "markdown",
   "metadata": {},
   "source": [
    "###  Пример  \n",
    "\n",
    "$$3n^2 + 5n + 2 = O(n^2)$$\n",
    "<img src='frac.png'>"
   ]
  },
  {
   "cell_type": "markdown",
   "metadata": {},
   "source": [
    "###  Общие правила  \n",
    "\n",
    "1. Постоянные множители можно опускать:\n",
    "$$ 7n^3 = \\Theta(n^3), \\quad \\frac{n^2}{3} = \\Theta(n^2)$$\n",
    "2. Многочлен более высокой степени растёт быстрее:\n",
    "$$ n^a \\prec n^b \\iff a < b, \\quad n = O(n^2)$$\n",
    "3. Экспонента растёт быстрее многочлена:\n",
    "$$n^a \\prec b^n\\ (\\forall a>0, b>1), \\quad n^2 = O(3^n), \\quad n^{1000} = O(1.1^n)$$\n",
    "4. Многочлен растет быстрее логарифма:\n",
    "$$(\\log n)^a \\prec n^b\\ (\\forall a, b > 0), \\quad (\\log n)^{10} = O(\\sqrt{n}), \\quad n\\cdot\\log n = O(n^2)$$\n",
    "5. Медленно растущие слагаемые можно опускать:\n",
    "$$f + g = O(\\max(f,g)), \\quad n^2 + n = O(n^2) $$"
   ]
  },
  {
   "cell_type": "markdown",
   "metadata": {},
   "source": [
    "###  Часто используемые функции  \n",
    "$$\\log n \\prec \\sqrt{n} \\prec n \\prec n\\log n \\prec n^2 \\prec 2^n$$\n",
    "<img src='all.png' width='500px'>"
   ]
  },
  {
   "cell_type": "markdown",
   "metadata": {},
   "source": [
    "Такой способ позволяет оценить скорость алгоритма в первом приближении, опуская детали, но иногда эти \"детали\" могут быть очень значимыми, а О-символика их игнорирует. Однако, в программировнии постоянно используют этот способ, часто можно увидеть выражения \"алгоритм за квадрат\" - $O(n^2)$, \"алгоритм за линию\" - $O(n)$, \"константа\" - $O(1)$. Везде за $n$ берется **размер входных данных** (число строк, число символов, длина массива, количество запросов и т.д.)."
   ]
  },
  {
   "cell_type": "markdown",
   "metadata": {},
   "source": [
    "##  Скороть роста времени работы кода на практике  \n",
    "\n",
    "Зная какие операции различных структур данных сколько занимают \"времени\", мы можем писать более оптимальный код. Подробнее можно посмотреть, например, [тут](https://www.ics.uci.edu/~pattis/ICS-33/lectures/complexitypython.txt) и [тут](https://www.bigocheatsheet.com)."
   ]
  },
  {
   "cell_type": "markdown",
   "metadata": {},
   "source": [
    "###  Циклы и список  "
   ]
  },
  {
   "cell_type": "markdown",
   "metadata": {},
   "source": [
    "**Пример 1**\n",
    "\n",
    "Пусть дан список $A$ длины $N$, тогда какова алгоритмическая сложность следующего кода?\n",
    "\n",
    "    for i in range(len(A)):\n",
    "        print(i)"
   ]
  },
  {
   "cell_type": "markdown",
   "metadata": {},
   "source": [
    "Цикл делает столько итераций, сколько составляет длина списка, и выполняет лишь одну простую (константную) операцию. "
   ]
  },
  {
   "cell_type": "markdown",
   "metadata": {},
   "source": [
    "Поэтому сложность: $\\Theta(N) \\cdot \\Theta(1) = O(N)$"
   ]
  },
  {
   "cell_type": "markdown",
   "metadata": {},
   "source": [
    "**Пример 2**\n",
    "    \n",
    "    s = 0\n",
    "    for i in range(5):\n",
    "        for x in A:\n",
    "            s += A"
   ]
  },
  {
   "cell_type": "markdown",
   "metadata": {},
   "source": [
    "Задание переменной это простая операция. Далее цикл фиксированной длины, в котором есть внутренний цикл зависящий от длины списка. Внутренний цикл выполняет простую операцию обновления переменной."
   ]
  },
  {
   "cell_type": "markdown",
   "metadata": {},
   "source": [
    "Итого: $\\Theta(1) + \\Theta(1) \\cdot \\Theta(N) \\cdot \\Theta(1) = O(N)$"
   ]
  },
  {
   "cell_type": "markdown",
   "metadata": {},
   "source": [
    "**Пример 3**\n",
    "\n",
    "    s = 0\n",
    "    for i in range(len(A)):\n",
    "        for j in range(len(A)):\n",
    "            print(A[i] + A[j])"
   ]
  },
  {
   "cell_type": "markdown",
   "metadata": {},
   "source": [
    "Сначала простая операция задания переменной. Далее двойной цикл по массиву. Внутри операция доступа к элементу массива и простая операция печати."
   ]
  },
  {
   "cell_type": "markdown",
   "metadata": {},
   "source": [
    "Итого: $\\Theta(1) + \\Theta(N) \\cdot \\Theta(N) \\cdot (\\Theta(1) + \\Theta(1)) = O(N^2)$ "
   ]
  },
  {
   "cell_type": "markdown",
   "metadata": {},
   "source": [
    "**Пример 4**\n",
    "\n",
    "    for i in range(len(A)):\n",
    "        A[i] = A[i] * i"
   ]
  },
  {
   "cell_type": "markdown",
   "metadata": {},
   "source": [
    "Цикл по всему массиву, внутри цикла проста операция доступа к элементу списка, простая арифметическая операция, простая операция замены (задания) значения элемента списка."
   ]
  },
  {
   "cell_type": "markdown",
   "metadata": {},
   "source": [
    "Итого: $\\Theta(N) \\cdot (\\Theta(1) + \\Theta(1) + \\Theta(1)) = O(N)$"
   ]
  },
  {
   "cell_type": "markdown",
   "metadata": {},
   "source": [
    "**Пример 5**\n",
    "\n",
    "    B = []\n",
    "    for x in A:\n",
    "        B.append(x ** 2)"
   ]
  },
  {
   "cell_type": "markdown",
   "metadata": {},
   "source": [
    "Сначала простая операция задания пременной пустым массивом. Далее цикл по элементам массива А. Внутри цикла простая арифметическая операция и добавление элемента в конец массива*."
   ]
  },
  {
   "cell_type": "markdown",
   "metadata": {},
   "source": [
    "Итого: $\\Theta(1) + \\Theta(N) \\cdot (\\Theta(1) + \\Theta(N)^*) = O(N^2)$\n",
    "\n",
    "\\* - вообще говоря, в Питоне эта операция в лучшем случае выполняется за константное время, и [вот почему](https://ru.wikipedia.org/wiki/Динамический_массив). \n",
    "\n",
    "- Во время создания списка, под него выделяется какое-то количество памяти, например, $N$. \n",
    "- Потом мы в свободные \"ячейки\" памяти кладем за константное время новые элементы в конец списка, пока память не заполнится. \n",
    "- Когда память заполнилась, мы выделяем $2\\cdot N$ памяти, _копируем $N$ элементов_ и далее можем добавить еще $N$ элементов в конец списка. \n",
    "\n",
    "Получается, что само добавление элемента это константная операция, т.к. выделение памяти занимает $O(N)$, куда мы добавим максимум $N$ элементов, тогда в среднем получаем $O(N)/N = O(1)$. Также это называют _амортизированной сложностью_."
   ]
  },
  {
   "cell_type": "markdown",
   "metadata": {},
   "source": [
    "###  Сложность операций списка  \n",
    " [(источник)](https://www.ics.uci.edu/~pattis/ICS-33/lectures/complexitypython.txt)\n",
    "\n",
    "Operation     | Example      | Complexity Class         | Notes\n",
    "---           |---           |---            |-------\n",
    "**Append**        | `l.append(5)  `| **O(1)**\t     | O(N) in worst case\n",
    "**Containment**   | `x in/not in l`| **O(N)**\t     | linearly searches list \n",
    "**Insert/Delete**||**O(N)**|\n",
    "|||\n",
    "Index         | `l[i]         `| O(1)\t     |\n",
    "Store         |` l[i] = 0     `| O(1)\t     |\n",
    "Length        | `len(l)       `| O(1)\t     |\n",
    "Pop\t          | `l.pop()      `| O(1)\t     | \n",
    "Clear         | `l.clear()    `| O(1)\t     | similar to l = []\n",
    "Slice         | `l[a:b]       `| O(N)\t     | O(b-a): l[0:-1]:O(N)\n",
    "Construction  | `list(...)    `| O(len(...))   | depends on length of ... iterable\n",
    "Extend        | `l.extend(...)`| O(len(...))   | depends only on len of extension\n",
    "check ==, !=  | `l1 == l2     `| O(N)          |\n",
    "Insert        | `l[a:b] = ... `| O(N)\t     | \n",
    "Delete        | `del l[i]     `| O(N)\t     | depends on i; O(N) in worst case\n",
    "Copy          | `l.copy()     `| O(N)\t     | Same as l[:] which is O(N)\n",
    "Remove        | `l.remove(...)`| O(N)\t     | \n",
    "Pop\t          | `l.pop(i)     `| O(N)\t     | O(N-i): l.pop(0):O(N) (see above)\n",
    "Extreme value | `min(l)/max(l)`| O(N)\t     | linearly searches list for value\n",
    "Reverse\t      | `l.reverse()`  | O(N)\t     |\n",
    "Iteration     | `for v in l: ` | O(N)          | \n",
    "Find | `l.index(x)`| O(N)|linearly searches list for value"
   ]
  },
  {
   "cell_type": "code",
   "execution_count": 93,
   "metadata": {},
   "outputs": [
    {
     "name": "stdout",
     "output_type": "stream",
     "text": [
      "171 µs ± 9.6 µs per loop (mean ± std. dev. of 7 runs, 10000 loops each)\n",
      "5.29 µs ± 109 ns per loop (mean ± std. dev. of 7 runs, 100000 loops each)\n"
     ]
    }
   ],
   "source": [
    "def copy(A):\n",
    "    B = []\n",
    "    for i in range(len(A)):\n",
    "        B.append(A[i])\n",
    "    return B\n",
    "\n",
    "def copy2(A):\n",
    "#     B = A.copy()\n",
    "#     return B\n",
    "    return A.copy()\n",
    "\n",
    "N = 1000\n",
    "A = [i for i in range(N)]\n",
    "\n",
    "%timeit copy(A)\n",
    "%timeit copy2(A)"
   ]
  },
  {
   "cell_type": "code",
   "execution_count": 99,
   "metadata": {},
   "outputs": [
    {
     "name": "stdout",
     "output_type": "stream",
     "text": [
      "<class 'list'> <class 'list'>\n",
      "932 ns ± 45.3 ns per loop (mean ± std. dev. of 7 runs, 1000000 loops each)\n",
      "638 ns ± 26.2 ns per loop (mean ± std. dev. of 7 runs, 1000000 loops each)\n"
     ]
    }
   ],
   "source": [
    "import random\n",
    "\n",
    "def sort(iterable):\n",
    "    l = list(iterable)\n",
    "    s = sorted(l)\n",
    "    return s\n",
    "\n",
    "def sort2(iterable):\n",
    "    return sorted(iterable)\n",
    "\n",
    "N = 10000\n",
    "A = [i for i in range(N)]\n",
    "random.shuffle(A)\n",
    "\n",
    "iterableA = map(str, A)\n",
    "print(type(sort(iterableA)), type(sort2(iterableA)))\n",
    "\n",
    "%timeit sort(iterableA)\n",
    "%timeit sort2(iterableA)"
   ]
  },
  {
   "cell_type": "code",
   "execution_count": 103,
   "metadata": {},
   "outputs": [
    {
     "name": "stdout",
     "output_type": "stream",
     "text": [
      "98 ms ± 16.9 ms per loop (mean ± std. dev. of 7 runs, 10 loops each)\n",
      "297 µs ± 14.3 µs per loop (mean ± std. dev. of 7 runs, 1000 loops each)\n"
     ]
    }
   ],
   "source": [
    "def scale(A):\n",
    "#     X_std = (X - X.min(axis=0)) / (X.max(axis=0) - X.min(axis=0))\n",
    "    B = A.copy()\n",
    "    for i in range(len(A)):\n",
    "        B[i] = (A[i] - min(A)) / (max(A) - min(A))\n",
    "    return B\n",
    "\n",
    "def scale2(A):\n",
    "    B = A.copy()\n",
    "    amin, amax = min(A), max(A)\n",
    "    for i in range(len(A)):\n",
    "        B[i] = (A[i] - amin) / (amax - amin)\n",
    "    return B\n",
    "\n",
    "N = 1000\n",
    "A = [i for i in range(N)]\n",
    "\n",
    "%timeit scale(A)\n",
    "%timeit scale2(A)"
   ]
  },
  {
   "cell_type": "code",
   "execution_count": 125,
   "metadata": {},
   "outputs": [
    {
     "name": "stdout",
     "output_type": "stream",
     "text": [
      "True\n",
      "2.11 ms ± 394 µs per loop (mean ± std. dev. of 7 runs, 100 loops each)\n",
      "140 µs ± 8.97 µs per loop (mean ± std. dev. of 7 runs, 10000 loops each)\n"
     ]
    }
   ],
   "source": [
    "def find_all(A, x):\n",
    "    i = 0\n",
    "    idx = []\n",
    "    while x in A[i:]:\n",
    "        i += A[i:].index(x) + 1 # +1 для того чтобы потом искать с места после найденного х\n",
    "        idx.append(i - 1) # -1 чтобы корректно добавить нужный индекс\n",
    "    return idx\n",
    "\n",
    "def find_all2(A, x):\n",
    "    idx = []\n",
    "    for i in range(len(A)):\n",
    "        if x == A[i]:\n",
    "            idx.append(i)\n",
    "    return idx\n",
    "\n",
    "N = 1000\n",
    "n = 3 # try 100\n",
    "A = [i % n for i in range(N)]\n",
    "print(find_all(A, 2) == find_all2(A, 2))\n",
    "\n",
    "%timeit find_all(A, 2)\n",
    "%timeit find_all2(A, 2)"
   ]
  },
  {
   "cell_type": "markdown",
   "metadata": {},
   "source": [
    "###  Хэш-таблицы   \n",
    "\n",
    "На предыдущем занятии мы изучили множество и словарь. Обе структуры данных используют хэш-таблицы для того, чтобы _очень_ быстро добавлять, удалять и искать ключи/значения."
   ]
  },
  {
   "cell_type": "markdown",
   "metadata": {},
   "source": [
    "Начнем с того, что такое [хэш-таблица](https://en.wikipedia.org/wiki/Hash_table).\n",
    "\n",
    "Хеш-таблица содержит некоторый массив $H$ (buckets), элементы которого есть пары индекс-значение.\n",
    "\n",
    "Выполнение операции в хеш-таблице начинается с вычисления хеш-функции от ключа. Получающееся хеш-значение $hash(key)$ играет роль индекса $i$ в массиве значений $H$. Затем выполняемая операция (добавление, удаление или поиск) перенаправляется объекту, который хранится в соответствующей ячейке массива $H[i]$."
   ]
  },
  {
   "cell_type": "markdown",
   "metadata": {},
   "source": [
    "Более наглядно:\n",
    "<img src='https://i.stack.imgur.com/tiD5Z.png'>"
   ]
  },
  {
   "cell_type": "markdown",
   "metadata": {},
   "source": [
    "Казалось бы, как все прекрасно. Но есть проблема в том, что хэш-функция может отобразить различные ключи в одно и то же хэш-значение. Такая ситуация называется _коллизией_. \n",
    "\n",
    "Коллизии не так уж и редки — например, при вставке в хеш-таблицу размером 365 ячеек всего лишь 23 элементов вероятность коллизии уже превысит 50 % (если каждый элемент может равновероятно попасть в любую ячейку) — см. [парадокс дней рождения](https://ru.wikipedia.org/wiki/%D0%9F%D0%B0%D1%80%D0%B0%D0%B4%D0%BE%D0%BA%D1%81_%D0%B4%D0%BD%D0%B5%D0%B9_%D1%80%D0%BE%D0%B6%D0%B4%D0%B5%D0%BD%D0%B8%D1%8F). "
   ]
  },
  {
   "cell_type": "markdown",
   "metadata": {},
   "source": [
    "Поэтому механизм разрешения коллизий - важная составляющая любой хеш-таблицы. Есть два механизма разрешения коллизий - хеш-таблица [с открытой адресацией](https://ru.wikipedia.org/wiki/Хеш-таблица#Открытая_адресация) и хеш-таблица [с цепочками](https://ru.wikipedia.org/wiki/Хеш-таблица#Метод_цепочек)."
   ]
  },
  {
   "cell_type": "markdown",
   "metadata": {},
   "source": [
    "<img src='https://upload.wikimedia.org/wikipedia/commons/thumb/b/bf/Hash_table_5_0_1_1_1_1_0_SP.svg/380px-Hash_table_5_0_1_1_1_1_0_SP.svg.png' style='max-width: 30%; display: inline-block'>\n",
    "$\\qquad\\qquad$\n",
    "<img src='https://upload.wikimedia.org/wikipedia/commons/thumb/5/5a/Hash_table_5_0_1_1_1_1_0_LL.svg/500px-Hash_table_5_0_1_1_1_1_0_LL.svg.png' style='max-width: 50%; display: inline-block'>"
   ]
  },
  {
   "cell_type": "markdown",
   "metadata": {},
   "source": [
    "Если (в лучшем случае) все $N$ ключей попадают в разные ячейки $H$, то операции (добавление, удаление, поиск) производятся за константу. Но если (в худшем случае) все ключи попадут в одно и то же хэш-значение, то эти операции производятся за линейное время, т.к. необходимо пройти весь список значений."
   ]
  },
  {
   "cell_type": "markdown",
   "metadata": {},
   "source": [
    "###  Сложность операций словарей  \n",
    "\n",
    "Operation     | Example      | Complexity Class         | Notes\n",
    "--------------|--------------|---------------|-------------------------------\n",
    "Add (store)   | `d[k] = v`     | O(1)\t     | O(N) worst case\n",
    "Containment   | `x in/not in d`| O(1)\t     |\n",
    "get/setdefault| `d.get(k)`     | O(1)\t     |\n",
    "Delete        | `del d[k], d.pop(k)`     | O(1)\t     | \n",
    "|||\n",
    "View          | `d.keys()`     | O(1)\t     | same for d.values()"
   ]
  },
  {
   "cell_type": "markdown",
   "metadata": {},
   "source": [
    "###  Сложность операций множеств  \n",
    "\n",
    "Для множеств тоже используется хэш-таблица, где ключи это элементы множества, а значения пустые.\n",
    "\n",
    "\n",
    "Operation     | Example      | Complexity Class         | Notes\n",
    "--------------|--------------|---------------|-------------------------------\n",
    "Add           | `s.add(5)`| O(1)\t     | O(N) worst case\n",
    "Containment   | `x in/not in s`| O(1)\t     | \n",
    "Delete        | `s.remove(..); s.discard(..)`| O(1)\t     | \n",
    "||||\n",
    "check ==, !=  | `s != t`       | O(len(s))     | False in O(1) if the lengths are different\n",
    "<= or < , \\>= or >         | `s <= t; s >= t`    | O(len(s)), O(len(t))     | \n",
    "Sets operations | `s \\| t; s & t; s - t; s ^ t`| O(len(s)+len(t))"
   ]
  },
  {
   "cell_type": "markdown",
   "metadata": {
    "slideshow": {
     "slide_type": "subslide"
    }
   },
   "source": [
    "##  Сортировки  \n",
    "\n",
    "[Визуализации](https://www.cs.usfca.edu/~galles/visualization/ComparisonSort.html)\n",
    "[Алгоритмическая сложность](https://www.bigocheatsheet.com/)\n",
    "[`sorted`](https://nbviewer.jupyter.org/github/svdcvt/math_python_hse_2020/blob/master/lectures/lecture05_def.ipynb)"
   ]
  }
 ],
 "metadata": {
  "kernelspec": {
   "display_name": "Python 3",
   "language": "python",
   "name": "python3"
  },
  "language_info": {
   "codemirror_mode": {
    "name": "ipython",
    "version": 3
   },
   "file_extension": ".py",
   "mimetype": "text/x-python",
   "name": "python",
   "nbconvert_exporter": "python",
   "pygments_lexer": "ipython3",
   "version": "3.6.9"
  }
 },
 "nbformat": 4,
 "nbformat_minor": 4
}
