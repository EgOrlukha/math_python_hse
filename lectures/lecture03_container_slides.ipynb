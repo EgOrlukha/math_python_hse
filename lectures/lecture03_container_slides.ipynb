{
 "cells": [
  {
   "cell_type": "markdown",
   "metadata": {
    "slideshow": {
     "slide_type": "slide"
    }
   },
   "source": [
    "<span style=\"color:green; font-size:2.5em;\"> 03. Последовательности: список, кортеж, строка.\n"
   ]
  },
  {
   "cell_type": "markdown",
   "metadata": {
    "slideshow": {
     "slide_type": "subslide"
    }
   },
   "source": [
    "Мы изучили численный и строковый тип данных, но для нашего мира недостаточно иметь возможность создавать только отдельные объекты, ведь часто информация представляется в виде *набора объектов*, который может быть упорядоченным и неупорядоченным, а также меняющимся и нет. \n",
    "\n",
    "Сегодня мы изучим **последовательности [DOCS](https://docs.python.org/3/library/stdtypes.html?highlight=sequence#sequence-types-list-tuple-range) - контейнеры, элементы которых представляют собой некий упорядоченый набор объектов** (заметьте, что \"упорядоченный\" отображает то, что объекты можно пронумеровать, а не то, что на них можно установить какое-то отношения порядка как в логике)."
   ]
  },
  {
   "cell_type": "markdown",
   "metadata": {
    "slideshow": {
     "slide_type": "slide"
    }
   },
   "source": [
    "<span style=\"color:green; font-size:2.5em;\"> Список"
   ]
  },
  {
   "cell_type": "markdown",
   "metadata": {
    "slideshow": {
     "slide_type": "subslide"
    }
   },
   "source": [
    "**Список (`list`)** [DOCS](https://docs.python.org/3/library/stdtypes.html?highlight=list#lists) - изменяемый вид последовательности, обычно используемый для хранения объектов одного типа. \n",
    "\n",
    "\"Изменяемый\" (mutable) значит, что для замены, удаления, добавления элемента, создавать новый объект *не нужно*, а можно просто изменить сущестующий список. Соответственно, \"неизменяемый\" (immutable) не позволяет как-либо преобразовывать объект. Как именно менять элементы списка мы узнаем позже."
   ]
  },
  {
   "cell_type": "markdown",
   "metadata": {
    "slideshow": {
     "slide_type": "subslide"
    }
   },
   "source": [
    "Список создается с помощью **квадратных скобок** и разделяющих запятых. "
   ]
  },
  {
   "cell_type": "code",
   "execution_count": null,
   "metadata": {
    "slideshow": {
     "slide_type": "fragment"
    }
   },
   "outputs": [],
   "source": [
    "my_first_list = ['hello']\n",
    "my_second_list = [1, 'two', 3.0]\n",
    "my_first_list, my_second_list, type(my_first_list)"
   ]
  },
  {
   "cell_type": "markdown",
   "metadata": {
    "slideshow": {
     "slide_type": "subslide"
    }
   },
   "source": [
    "Списки могут быть вложены друг в друга (nested list) и таким образом составлять многомерную матрицу:"
   ]
  },
  {
   "cell_type": "code",
   "execution_count": null,
   "metadata": {
    "slideshow": {
     "slide_type": "fragment"
    }
   },
   "outputs": [],
   "source": [
    "nested_list = [1, 2, [3, 3, 3], [4, [5]], 10]\n",
    "matrix_list = [[1, 2, 3], [4, 5, 6]]\n",
    "print(nested_list)\n",
    "print(matrix_list)"
   ]
  },
  {
   "cell_type": "markdown",
   "metadata": {
    "slideshow": {
     "slide_type": "subslide"
    }
   },
   "source": [
    "Чтобы создать пустой список, можно просто поставить скобки или воспользоваться функцией `list()` - она приводит объекты (другие последовательности) к типу list."
   ]
  },
  {
   "cell_type": "code",
   "execution_count": null,
   "metadata": {
    "slideshow": {
     "slide_type": "fragment"
    }
   },
   "outputs": [],
   "source": [
    "Gempty_list = []\n",
    "empty_list_2 = list()\n",
    "str_list = list('abc')\n",
    "tup_list = list((1, 2, 3))\n",
    "empty_list, empty_list_2, str_list, tup_list"
   ]
  },
  {
   "cell_type": "markdown",
   "metadata": {
    "slideshow": {
     "slide_type": "fragment"
    }
   },
   "source": [
    "У вас мог возникнуть вопрос, что за аргумент был подан для создания переменной `tup_list` - это кортеж, который мы изучим следующим."
   ]
  },
  {
   "cell_type": "markdown",
   "metadata": {
    "slideshow": {
     "slide_type": "slide"
    }
   },
   "source": [
    "<span style=\"color:green; font-size:2.5em;\"> Кортеж"
   ]
  },
  {
   "cell_type": "markdown",
   "metadata": {
    "slideshow": {
     "slide_type": "subslide"
    }
   },
   "source": [
    "**Кортéж (`tuple`)** [DOCS](https://docs.python.org/3/library/stdtypes.html?highlight=tuple#tuple) - это **неизменяемый список**, то есть элементы в кортеже нельзя заменить, удалить или добавить, это возможно сделать только посредством создания нового объекта типа кортеж."
   ]
  },
  {
   "cell_type": "markdown",
   "metadata": {
    "slideshow": {
     "slide_type": "subslide"
    }
   },
   "source": [
    "Кортеж создаётся с помощью **круглых скобок** и **запятых**. Технически скобки можно и опустить, потому что именно запятая дает создат кортеж, но из интерпретационных соображений лучше этого не делать. "
   ]
  },
  {
   "cell_type": "code",
   "execution_count": null,
   "metadata": {
    "slideshow": {
     "slide_type": "fragment"
    }
   },
   "outputs": [],
   "source": [
    "my_first_tuple = (1, 'two', 3.0)\n",
    "my_first_tuple, type(my_first_tuple)"
   ]
  },
  {
   "cell_type": "markdown",
   "metadata": {
    "slideshow": {
     "slide_type": "subslide"
    }
   },
   "source": [
    "Чтобы создать пустой кортеж, можно поставить просто круглые скобки. А для создания кортежа из одного элемента, нужно **обязательно ставить запятую**, иначе Питон не распознает этот тип данных как кортеж. "
   ]
  },
  {
   "cell_type": "code",
   "execution_count": null,
   "metadata": {
    "slideshow": {
     "slide_type": "fragment"
    }
   },
   "outputs": [],
   "source": [
    "empty_tuple = ()\n",
    "tuple_with_one_element = (1,)\n",
    "not_a_tuple = (1)\n",
    "empty_tuple, empty_tuple_2, tuple_with_one_element, not_a_tuple, type(not_a_tuple)"
   ]
  },
  {
   "cell_type": "markdown",
   "metadata": {
    "slideshow": {
     "slide_type": "subslide"
    }
   },
   "source": [
    "Как и раньше, есть функция `tuple()`, которая приводит объект к типу tuple; в качестве аргумента ей необходима последовательность (строка, список). Ею же можно создать пустой кортеж."
   ]
  },
  {
   "cell_type": "code",
   "execution_count": null,
   "metadata": {
    "slideshow": {
     "slide_type": "fragment"
    }
   },
   "outputs": [],
   "source": [
    "empty_tuple = tuple()\n",
    "str_tup = tuple('abc d!')\n",
    "list_tuple = tuple([1, 2, [1, 2], 3])\n",
    "empty_tuple, str_tup, list_tuple"
   ]
  },
  {
   "cell_type": "markdown",
   "metadata": {
    "slideshow": {
     "slide_type": "subslide"
    }
   },
   "source": [
    "Поскольку в Питоне есть такая вещь как множественное присваивание, то обмен значений переменных можно выполнить в одну строчку, используя именно существование кортежей. "
   ]
  },
  {
   "cell_type": "code",
   "execution_count": null,
   "metadata": {
    "slideshow": {
     "slide_type": "fragment"
    }
   },
   "outputs": [],
   "source": [
    "a = 10\n",
    "b = 20\n",
    "a, b = b, a\n",
    "# (a, b) = (20, 10) => a = 20, b = 10\n",
    "print(a, b)"
   ]
  },
  {
   "cell_type": "markdown",
   "metadata": {
    "slideshow": {
     "slide_type": "fragment"
    }
   },
   "source": [
    "При выполнении `a, b = b, a` Питон сначала получает значения связанные с переменными `b` и `a` (правая часть) и помещает их в кортеж, в данном случае получится `(20, 10)`. После этого он связывает каждый элемент кортежа в определенной позиции с переменной в той же позиции, но в кортеже слева `(a, b)`. Это работает для сколь угодного количества переменных."
   ]
  },
  {
   "cell_type": "code",
   "execution_count": null,
   "metadata": {
    "slideshow": {
     "slide_type": "subslide"
    }
   },
   "outputs": [],
   "source": [
    "import dis\n",
    "def bar(a, b, c, d):\n",
    "    d, c, b, a = a, b, c, d\n",
    "\n",
    "dis.dis(bar)"
   ]
  },
  {
   "cell_type": "markdown",
   "metadata": {
    "slideshow": {
     "slide_type": "slide"
    }
   },
   "source": [
    "<span style=\"color:green; font-size:2.5em;\"> Строка"
   ]
  },
  {
   "cell_type": "markdown",
   "metadata": {
    "slideshow": {
     "slide_type": "subslide"
    }
   },
   "source": [
    "**Строка (string)** [DOCS](https://docs.python.org/3/library/stdtypes.html?highlight=str#text-sequence-type-str) − это неизменяемая последовательность из **символов**. \n",
    "\n",
    "Мы уже знакомы со строками, поэтому умеем создавать строки. Напомним, что строки создаются с помощью **кавычек**, причем они могут быть разными."
   ]
  },
  {
   "cell_type": "code",
   "execution_count": null,
   "metadata": {
    "slideshow": {
     "slide_type": "subslide"
    }
   },
   "outputs": [],
   "source": [
    "одинарные_кавычки = 'позволяет встроить \"двойные\" кавычки'\n",
    "двойные_кавычки = \"позовляют встроить 'одинарные' кавычки\"\n",
    "тройные_о_кавычки, тройные_д_кавычки = '''одинарные''', \"\"\"двойные\"\"\"\n",
    "тройные_кавычки = '''позволяют\n",
    "встроить\n",
    "переносы\n",
    "строк\n",
    "    и сдвиги'''"
   ]
  },
  {
   "cell_type": "code",
   "execution_count": null,
   "metadata": {
    "slideshow": {
     "slide_type": "fragment"
    }
   },
   "outputs": [],
   "source": [
    "тройные_кавычки"
   ]
  },
  {
   "cell_type": "code",
   "execution_count": null,
   "metadata": {
    "slideshow": {
     "slide_type": "fragment"
    }
   },
   "outputs": [],
   "source": [
    "print(тройные_кавычки)"
   ]
  },
  {
   "cell_type": "markdown",
   "metadata": {
    "slideshow": {
     "slide_type": "subslide"
    }
   },
   "source": [
    "Отдельные строки разделенные в исходном коде пробелом (или переносом `\\`), превращаются в одну строку без пробелов и переносов:"
   ]
  },
  {
   "cell_type": "code",
   "execution_count": null,
   "metadata": {
    "slideshow": {
     "slide_type": "fragment"
    }
   },
   "outputs": [],
   "source": [
    "'spam' 'eggs' 'spam' \\\n",
    "'eggs'"
   ]
  },
  {
   "cell_type": "markdown",
   "metadata": {
    "slideshow": {
     "slide_type": "subslide"
    }
   },
   "source": [
    "С помощью функции `str()` можно привести объект к строке или получить для функции/метода \"неформальное\" строковое представление."
   ]
  },
  {
   "cell_type": "code",
   "execution_count": null,
   "metadata": {
    "slideshow": {
     "slide_type": "fragment"
    }
   },
   "outputs": [],
   "source": [
    "str(10), str(str), str(abs)"
   ]
  },
  {
   "cell_type": "markdown",
   "metadata": {
    "slideshow": {
     "slide_type": "subslide"
    }
   },
   "source": [
    "<span style=\"color:green; font-size:2em;\"> Методы `.join()` и `.split()`"
   ]
  },
  {
   "cell_type": "markdown",
   "metadata": {
    "slideshow": {
     "slide_type": "fragment"
    }
   },
   "source": [
    "Бывает очень полезно получить из списка строк одну строку (склеить определенным образом) и получить из строки список строк (нарезать определенным образом). Для этого используются эти два метода. \n",
    "\n",
    "Но что такое метод? Если просто, то это специальный класс функций, который ассоциирован с объектом (внимание на точку перед названием метода). Сложнее и точнее мы объясним разницу между методом и функцией, когда будем проходить классы в Питоне."
   ]
  },
  {
   "cell_type": "markdown",
   "metadata": {
    "slideshow": {
     "slide_type": "subslide"
    }
   },
   "source": [
    "`s.join(последовательность из строк)` - общий вид применения методa [DOCS](https://docs.python.org/3/library/stdtypes.html#str.join). Он создает новую строку, соединяя элементы последовательности с помощью строки `s`. Примеры:"
   ]
  },
  {
   "cell_type": "code",
   "execution_count": null,
   "metadata": {
    "slideshow": {
     "slide_type": "fragment"
    }
   },
   "outputs": [],
   "source": [
    "'+'.join('12345'), ', '.join(('apple', 'banana', 'mango')), '\\n'.join(['line.', 'second line.'])"
   ]
  },
  {
   "cell_type": "markdown",
   "metadata": {
    "slideshow": {
     "slide_type": "subslide"
    }
   },
   "source": [
    "`строка.split(sep)` - общий вид применения метода [DOCS](https://docs.python.org/3/library/stdtypes.html#str.split). Он разрезает строку по строке-разделителю `sep` и возвращает список с разделенными элементами-строками (по дефолту `sep` это пробелы). Заметьте, что в итоге элементы могут быть пустыми!"
   ]
  },
  {
   "cell_type": "code",
   "execution_count": null,
   "metadata": {
    "slideshow": {
     "slide_type": "fragment"
    }
   },
   "outputs": [],
   "source": [
    "'     1   2 3      5 '.split(), '1<>2<>3'.split('<>')"
   ]
  },
  {
   "cell_type": "code",
   "execution_count": null,
   "metadata": {
    "slideshow": {
     "slide_type": "fragment"
    }
   },
   "outputs": [],
   "source": [
    "'1,2'.split(','), '1,,2,'.split(',')"
   ]
  },
  {
   "cell_type": "markdown",
   "metadata": {
    "slideshow": {
     "slide_type": "slide"
    }
   },
   "source": [
    "<span style=\"color:green; font-size:2.5em;\"> Общие операции с последовательностями"
   ]
  },
  {
   "cell_type": "markdown",
   "metadata": {
    "slideshow": {
     "slide_type": "subslide"
    }
   },
   "source": [
    "| Операция | Результат |\n",
    "| ---      | ---       |\n",
    "|`x in s`     | `True`, если элемент `s` равен `x`, иначе `False`|\n",
    "|`x not in s` | `False`, если элемент `s` равен `x`, else `True` |\n",
    "|`s + t`      | Конкатенация `s` и `t`|\n",
    "|`s * n` or `n * s`| Добавление `s` к самому себе `n` раз |\n",
    "|`len(s)` | длина `s` |\n",
    "|`sum(s)` | сумма чисел `s`|\n",
    "|`min(s)` | наименьший элемент `s` |\n",
    "|`max(s)` | наибольший элемент `s` |\n",
    "|`s.count(x)` | число вхождений элемента `x` в `s` |"
   ]
  },
  {
   "cell_type": "code",
   "execution_count": null,
   "metadata": {
    "slideshow": {
     "slide_type": "fragment"
    }
   },
   "outputs": [],
   "source": [
    "'p' in 'Python', 3 in [1,2,3], len([1, 2, 3]), len('Hello World!'), sum([1, 2, 3]), 'sweet home alabama'.count('a')"
   ]
  },
  {
   "cell_type": "markdown",
   "metadata": {
    "slideshow": {
     "slide_type": "slide"
    }
   },
   "source": [
    "<span style=\"color:green; font-size:2.5em;\"> Индексирование и срезы"
   ]
  },
  {
   "cell_type": "markdown",
   "metadata": {
    "slideshow": {
     "slide_type": "fragment"
    }
   },
   "source": [
    "Когда мы говорили об определении последовательности, то мы упомянули, что у элементов есть **порядок нумерации**, который начинается с нуля. И именно засчет этого свойства можно **обращаться к конкретному элементу** последовательности или подпоследовательности, а также **менять элементы списка**."
   ]
  },
  {
   "cell_type": "markdown",
   "metadata": {
    "slideshow": {
     "slide_type": "subslide"
    }
   },
   "source": [
    "<span style=\"color:green; font-size:1.5em;\"> Порядок нумерации\n",
    "    \n",
    "Нумерация (индексация) символов в строке `'python'` представлена в таблице:\n",
    "\n",
    "Символы строки | p | y | t | h | o | n\n",
    "-------------  | -- | -- | -- | -- | -- | --\n",
    " Индекс с начала | 0 | 1 | 2 | 3 | 4| 5\n",
    " Индекс с конца | -6 | -5 | -4 | -3 |-2 | -1\n",
    "\n",
    "Как видим нумерация в Питоне есть двух типов:\n",
    "\n",
    "1.  **Нумерация символов с нуля положительными числами**: при попытке обратиться к элементу с номером больше либо равном длине строки возникает ошибка (выход за пределы последовательности).\n",
    "\n",
    "2.  **Нумерация символов строки отрицательными числами**: последний символ строки имеет номер `-1`, предпоследний `-2`, ..., первый имеет номер `-len(s)`; при попытке обратиться к символу с номером, меньшим чем `-len(s)` возникает ошибка (выход за пределы последовательности).\n"
   ]
  },
  {
   "cell_type": "markdown",
   "metadata": {
    "slideshow": {
     "slide_type": "subslide"
    }
   },
   "source": [
    "<span style=\"color:green; font-size:1.5em;\"> Обращение к элементу по индексу\n",
    "\n",
    "Чтобы **получить `i`-ый элемент** последовательности `s` нужно написать `s[i]` (возле переменной стоят квадратные скобки и внутри целое число)."
   ]
  },
  {
   "cell_type": "code",
   "execution_count": null,
   "metadata": {
    "slideshow": {
     "slide_type": "fragment"
    }
   },
   "outputs": [],
   "source": [
    "s = 'python'\n",
    "s[3], s[-2]"
   ]
  },
  {
   "cell_type": "code",
   "execution_count": null,
   "metadata": {
    "slideshow": {
     "slide_type": "fragment"
    }
   },
   "outputs": [],
   "source": [
    "s[-10]"
   ]
  },
  {
   "cell_type": "code",
   "execution_count": null,
   "metadata": {
    "slideshow": {
     "slide_type": "subslide"
    }
   },
   "outputs": [],
   "source": [
    "s = 'абвгдеёжзийклмнопрстуфхцчшщъыьэюя'\n",
    "i = int(input('Какую по счету букву алфавита вы хотите получить? '))\n",
    "print('Это буква', s[i - 1])"
   ]
  },
  {
   "cell_type": "markdown",
   "metadata": {
    "slideshow": {
     "slide_type": "subslide"
    }
   },
   "source": [
    "<span style=\"color:green; font-size:1.5em;\"> Обращение к подпоследовательности (срез)\n",
    "\n",
    "Чтобы **получить подпоследовательность**, существуют _срезы_ с двумя параметрами: в результате применения среза `s[a:b]` будет выдана подпоследовательность начиная с элемента на позиции `a` и заканчивая элементом на позиции `b-1` (**правая граница не включается**). Каждый из индексов может быть как положительным, так и отрицательным."
   ]
  },
  {
   "cell_type": "code",
   "execution_count": null,
   "metadata": {
    "slideshow": {
     "slide_type": "fragment"
    }
   },
   "outputs": [],
   "source": [
    "s = 'python'\n",
    "s[2:len(s)], s[2:-2], s[-4:4], s[-4:-2]"
   ]
  },
  {
   "cell_type": "markdown",
   "metadata": {
    "slideshow": {
     "slide_type": "subslide"
    }
   },
   "source": [
    "Допустимо (ошибка не возникнет) взять второе число, выходящее за пределы последовательности (то есть большее или равное длине):"
   ]
  },
  {
   "cell_type": "code",
   "execution_count": null,
   "metadata": {
    "slideshow": {
     "slide_type": "fragment"
    }
   },
   "outputs": [],
   "source": [
    "s[2:10]"
   ]
  },
  {
   "cell_type": "markdown",
   "metadata": {
    "slideshow": {
     "slide_type": "fragment"
    }
   },
   "source": [
    "Если хочется взять элементы начиная с какой-то позиции или до какой-то позиции, то можно оставить один из параметров пустым:"
   ]
  },
  {
   "cell_type": "code",
   "execution_count": null,
   "metadata": {
    "slideshow": {
     "slide_type": "fragment"
    }
   },
   "outputs": [],
   "source": [
    "s[:-3], s[1:]"
   ]
  },
  {
   "cell_type": "markdown",
   "metadata": {
    "slideshow": {
     "slide_type": "fragment"
    }
   },
   "source": [
    "Если первый параметр находится правее второго, то будет сгенерирована пустая подпоследовательность:"
   ]
  },
  {
   "cell_type": "code",
   "execution_count": null,
   "metadata": {
    "slideshow": {
     "slide_type": "fragment"
    }
   },
   "outputs": [],
   "source": [
    "s[4:2], s[-1:-5], s[4:-3]"
   ]
  },
  {
   "cell_type": "markdown",
   "metadata": {
    "slideshow": {
     "slide_type": "subslide"
    }
   },
   "source": [
    "Также существует срез с тремя параметрами, где **третий параметр задает шаг**, с которым нужно брать элементы:"
   ]
  },
  {
   "cell_type": "code",
   "execution_count": null,
   "metadata": {
    "slideshow": {
     "slide_type": "fragment"
    }
   },
   "outputs": [],
   "source": [
    "s[::2] # каждый второй символ всей строки начиная с 0 (по сути индекс - четное число)"
   ]
  },
  {
   "cell_type": "markdown",
   "metadata": {
    "slideshow": {
     "slide_type": "fragment"
    }
   },
   "source": [
    "Естественно, первые два параметра можно не опускать:"
   ]
  },
  {
   "cell_type": "code",
   "execution_count": null,
   "metadata": {
    "slideshow": {
     "slide_type": "fragment"
    }
   },
   "outputs": [],
   "source": [
    "s[1:-1:2] # каждый второй символ со второго до предпоследнего"
   ]
  },
  {
   "cell_type": "markdown",
   "metadata": {
    "slideshow": {
     "slide_type": "subslide"
    }
   },
   "source": [
    "Шаг в срезе может быть и отрицательным:"
   ]
  },
  {
   "cell_type": "code",
   "execution_count": null,
   "metadata": {
    "slideshow": {
     "slide_type": "fragment"
    }
   },
   "outputs": [],
   "source": [
    "# строка с шагом -1 это просто развернутая строка!\n",
    "s[::-1]"
   ]
  },
  {
   "cell_type": "markdown",
   "metadata": {
    "slideshow": {
     "slide_type": "fragment"
    }
   },
   "source": [
    "Также, в этом случае **первый параметр должен находится правее второго**: "
   ]
  },
  {
   "cell_type": "code",
   "execution_count": null,
   "metadata": {
    "slideshow": {
     "slide_type": "fragment"
    }
   },
   "outputs": [],
   "source": [
    "s[4:1:-2]"
   ]
  },
  {
   "cell_type": "markdown",
   "metadata": {},
   "source": [
    "<span style=\"color:green; font-size:1.5em;\"> Изменение элементов списка\n",
    "\n",
    "Напомним, что списки, в отличие от строк и кортежей, изменяемые последовательности! Поэтому обращаясь по индексу можно изменить элемент или подпоследовательность."
   ]
  },
  {
   "cell_type": "code",
   "execution_count": null,
   "metadata": {},
   "outputs": [],
   "source": [
    "l = [1, 2, 3, 4, 5, 6, 7, 8, 9, 10]\n",
    "l[0] = 'one'\n",
    "l"
   ]
  },
  {
   "cell_type": "code",
   "execution_count": null,
   "metadata": {},
   "outputs": [],
   "source": [
    "l[2:5] = ['A', 'B', 'C'] # количество значений должно совпадать обязательно!\n",
    "l"
   ]
  },
  {
   "cell_type": "code",
   "execution_count": null,
   "metadata": {},
   "outputs": [],
   "source": [
    "l[::3] = '!' * 4\n",
    "print(l)"
   ]
  },
  {
   "cell_type": "markdown",
   "metadata": {
    "slideshow": {
     "slide_type": "subslide"
    }
   },
   "source": [
    "<span style=\"color:red; font-size:2em;\"> Упражнения!"
   ]
  },
  {
   "cell_type": "code",
   "execution_count": null,
   "metadata": {},
   "outputs": [],
   "source": [
    "s = 'Hello world of Python!'"
   ]
  },
  {
   "cell_type": "code",
   "execution_count": null,
   "metadata": {},
   "outputs": [],
   "source": [
    "# какая длина у строки?"
   ]
  },
  {
   "cell_type": "code",
   "execution_count": null,
   "metadata": {},
   "outputs": [],
   "source": [
    "# возьми каждый четный символ"
   ]
  },
  {
   "cell_type": "code",
   "execution_count": null,
   "metadata": {},
   "outputs": [],
   "source": [
    "# возьми каждый нечетный символ"
   ]
  },
  {
   "cell_type": "code",
   "execution_count": null,
   "metadata": {},
   "outputs": [],
   "source": [
    "# возьми каждый третий символ с конца"
   ]
  },
  {
   "cell_type": "code",
   "execution_count": null,
   "metadata": {},
   "outputs": [],
   "source": [
    "# возьми первый и последний символ строки"
   ]
  },
  {
   "cell_type": "code",
   "execution_count": null,
   "metadata": {},
   "outputs": [],
   "source": [
    "# возьми слово Python в развернутом виде"
   ]
  },
  {
   "cell_type": "markdown",
   "metadata": {
    "slideshow": {
     "slide_type": "slide"
    }
   },
   "source": [
    "<span style=\"color:green; font-size:2em;\"> Методы списков"
   ]
  },
  {
   "cell_type": "markdown",
   "metadata": {
    "slideshow": {
     "slide_type": "subslide"
    }
   },
   "source": [
    "<span style=\"color:green; font-size:1.5em;\"> `.append(x)`\n",
    "\n",
    "Добавляет элемент в конец последовательности (изменяет сам объект!)"
   ]
  },
  {
   "cell_type": "code",
   "execution_count": null,
   "metadata": {
    "slideshow": {
     "slide_type": "fragment"
    }
   },
   "outputs": [],
   "source": [
    "l_1 = []"
   ]
  },
  {
   "cell_type": "code",
   "execution_count": null,
   "metadata": {
    "slideshow": {
     "slide_type": "fragment"
    }
   },
   "outputs": [],
   "source": [
    "l_1.append(3)\n",
    "l_1"
   ]
  },
  {
   "cell_type": "markdown",
   "metadata": {
    "slideshow": {
     "slide_type": "subslide"
    }
   },
   "source": [
    "<span style=\"color:green; font-size:1.5em;\"> `.count(x) `\n",
    "    \n",
    "Считает количество элементов, равных x"
   ]
  },
  {
   "cell_type": "code",
   "execution_count": null,
   "metadata": {
    "slideshow": {
     "slide_type": "fragment"
    }
   },
   "outputs": [],
   "source": [
    "l_1.count(3)"
   ]
  },
  {
   "cell_type": "markdown",
   "metadata": {
    "slideshow": {
     "slide_type": "subslide"
    }
   },
   "source": [
    "<span style=\"color:green; font-size:1.5em;\"> `.extend(s)`\n",
    "\n",
    "Добавляет к концу последовательности последовательность `s` любого типа  (изменяет сам объект)."
   ]
  },
  {
   "cell_type": "code",
   "execution_count": null,
   "metadata": {
    "slideshow": {
     "slide_type": "fragment"
    }
   },
   "outputs": [],
   "source": [
    "[1, 2, 3] + (1, 2, 3)"
   ]
  },
  {
   "cell_type": "code",
   "execution_count": null,
   "metadata": {
    "slideshow": {
     "slide_type": "fragment"
    }
   },
   "outputs": [],
   "source": [
    "l_1.extend('1234')\n",
    "l_1"
   ]
  },
  {
   "cell_type": "markdown",
   "metadata": {
    "slideshow": {
     "slide_type": "subslide"
    }
   },
   "source": [
    "<span style=\"color:green; font-size:1.5em;\"> `.insert(i, x)`\n",
    "\n",
    "Вставляет элемент `x` перед `i`-м элементом (изменяет сам объект)."
   ]
  },
  {
   "cell_type": "code",
   "execution_count": null,
   "metadata": {
    "slideshow": {
     "slide_type": "fragment"
    }
   },
   "outputs": [],
   "source": [
    "l_1.insert(2, 'for')\n",
    "l_1"
   ]
  },
  {
   "cell_type": "markdown",
   "metadata": {
    "slideshow": {
     "slide_type": "subslide"
    }
   },
   "source": [
    "<span style=\"color:green; font-size:1.5em;\"> `.pop(i)` \n",
    "\n",
    "Возвращает `i`-й элемент, удаляя его из последовательности."
   ]
  },
  {
   "cell_type": "code",
   "execution_count": null,
   "metadata": {
    "slideshow": {
     "slide_type": "fragment"
    }
   },
   "outputs": [],
   "source": [
    "l = [1, 2, 3, 4, 5]\n",
    "three = l.pop(2)\n",
    "l, three"
   ]
  },
  {
   "cell_type": "markdown",
   "metadata": {
    "slideshow": {
     "slide_type": "subslide"
    }
   },
   "source": [
    "<span style=\"color:green; font-size:1.5em;\"> `.reverse()` \n",
    "\n",
    "Меняет порядок элементов списка на обратный (изменяет сам объект). Функция `reversed(s)` возвращает развернутую последовательность (но не список!) не меняя сам объект."
   ]
  },
  {
   "cell_type": "code",
   "execution_count": null,
   "metadata": {
    "slideshow": {
     "slide_type": "fragment"
    }
   },
   "outputs": [],
   "source": [
    "l = [1, 2, 3, 4, 5]\n",
    "l.reverse()\n",
    "l"
   ]
  },
  {
   "cell_type": "code",
   "execution_count": null,
   "metadata": {
    "slideshow": {
     "slide_type": "fragment"
    }
   },
   "outputs": [],
   "source": [
    "list(reversed(l))"
   ]
  },
  {
   "cell_type": "markdown",
   "metadata": {
    "slideshow": {
     "slide_type": "subslide"
    }
   },
   "source": [
    "<span style=\"color:green; font-size:1.5em;\"> `.sort()` \n",
    "    \n",
    "Сортирует элементы списка (изменяет сам объект). Функция `sorted(s)` возвращает отсортированный список."
   ]
  },
  {
   "cell_type": "code",
   "execution_count": null,
   "metadata": {
    "slideshow": {
     "slide_type": "fragment"
    }
   },
   "outputs": [],
   "source": [
    "l.sort()\n",
    "l"
   ]
  },
  {
   "cell_type": "code",
   "execution_count": null,
   "metadata": {
    "slideshow": {
     "slide_type": "fragment"
    }
   },
   "outputs": [],
   "source": [
    "sorted('241')"
   ]
  },
  {
   "cell_type": "markdown",
   "metadata": {
    "slideshow": {
     "slide_type": "subslide"
    }
   },
   "source": [
    "<span style=\"color:green; font-size:1.5em;\"> `.copy()`\n",
    "\n",
    "Создает копию списка и возвращает его как новый объект."
   ]
  },
  {
   "cell_type": "code",
   "execution_count": null,
   "metadata": {
    "slideshow": {
     "slide_type": "fragment"
    }
   },
   "outputs": [],
   "source": [
    "l_copy = l.copy()\n",
    "l_copy"
   ]
  },
  {
   "cell_type": "markdown",
   "metadata": {
    "slideshow": {
     "slide_type": "subslide"
    }
   },
   "source": [
    "Это довольно важно, потому что если просто попробовать скопировать список в другой вот так:"
   ]
  },
  {
   "cell_type": "code",
   "execution_count": null,
   "metadata": {
    "slideshow": {
     "slide_type": "fragment"
    }
   },
   "outputs": [],
   "source": [
    "new_l = l\n",
    "print(new_l)"
   ]
  },
  {
   "cell_type": "markdown",
   "metadata": {
    "slideshow": {
     "slide_type": "fragment"
    }
   },
   "source": [
    "А потом изменить что-то в изначальном списке:"
   ]
  },
  {
   "cell_type": "code",
   "execution_count": null,
   "metadata": {
    "slideshow": {
     "slide_type": "fragment"
    }
   },
   "outputs": [],
   "source": [
    "l[0] = 100\n",
    "l[-1] = 0"
   ]
  },
  {
   "cell_type": "markdown",
   "metadata": {
    "slideshow": {
     "slide_type": "fragment"
    }
   },
   "source": [
    "То в \"скопированном\" оно тоже поменяется:"
   ]
  },
  {
   "cell_type": "code",
   "execution_count": null,
   "metadata": {
    "slideshow": {
     "slide_type": "fragment"
    }
   },
   "outputs": [],
   "source": [
    "print(l, new_l)"
   ]
  },
  {
   "cell_type": "markdown",
   "metadata": {
    "slideshow": {
     "slide_type": "subslide"
    }
   },
   "source": [
    "Если сделать правильно, то все будет хорошо:"
   ]
  },
  {
   "cell_type": "code",
   "execution_count": null,
   "metadata": {
    "slideshow": {
     "slide_type": "fragment"
    }
   },
   "outputs": [],
   "source": [
    "l = [1, 2, 3, 4, 5]\n",
    "l_copy = l.copy()\n",
    "print(l_copy)\n",
    "l[0] = 100\n",
    "l[-1] = 'wow'\n",
    "print(l)\n",
    "print(l_copy)"
   ]
  },
  {
   "cell_type": "markdown",
   "metadata": {
    "slideshow": {
     "slide_type": "slide"
    }
   },
   "source": [
    "<span style=\"color:green; font-size:2.5em;\"> Проход по элементам"
   ]
  },
  {
   "cell_type": "markdown",
   "metadata": {
    "slideshow": {
     "slide_type": "subslide"
    }
   },
   "source": [
    "Давайте кратко изучим конструкцию цикла, с помощью которой можно пройтись по элементам последовательностию На следующем занятии мы более подробно изучим цикл `for ... in`, сейчас нам необходимо научиться \"идти\" по последовательности."
   ]
  },
  {
   "cell_type": "code",
   "execution_count": null,
   "metadata": {},
   "outputs": [],
   "source": [
    "s = [1, 2, 3, 4 , 5]\n",
    "print('По элементам:')\n",
    "for element in s:\n",
    "    print(element)\n",
    "print('По индексам:')\n",
    "for i in range(0, len(s), 1):\n",
    "    print(s[i])"
   ]
  },
  {
   "cell_type": "code",
   "execution_count": null,
   "metadata": {
    "slideshow": {
     "slide_type": "subslide"
    }
   },
   "outputs": [],
   "source": [
    "# Сумма элементов\n",
    "summa = 0\n",
    "for x in s:\n",
    "    summa += x\n",
    "print(summa)"
   ]
  },
  {
   "cell_type": "code",
   "execution_count": null,
   "metadata": {
    "slideshow": {
     "slide_type": "subslide"
    }
   },
   "outputs": [],
   "source": [
    "# Ввод списка чисел\n",
    "l = input()\n",
    "l = l.split(' ')\n",
    "for i in range(len(l)):\n",
    "    l[i] = int(l[i])\n",
    "sum(l)"
   ]
  },
  {
   "cell_type": "code",
   "execution_count": null,
   "metadata": {
    "slideshow": {
     "slide_type": "subslide"
    }
   },
   "outputs": [],
   "source": [
    "# Ввод матрицы\n",
    "n, m = int(input()), int(input())\n",
    "matrix = []\n",
    "for i in range(n):\n",
    "    row = input().split()\n",
    "    for i in range(m):\n",
    "        row[i] = int(row[i])\n",
    "    matrix.append(row)\n",
    "print(matrix)"
   ]
  }
 ],
 "metadata": {
  "celltoolbar": "Slideshow",
  "kernelspec": {
   "display_name": "Python 3",
   "language": "python",
   "name": "python3"
  },
  "language_info": {
   "codemirror_mode": {
    "name": "ipython",
    "version": 3
   },
   "file_extension": ".py",
   "mimetype": "text/x-python",
   "name": "python",
   "nbconvert_exporter": "python",
   "pygments_lexer": "ipython3",
   "version": "3.6.9"
  }
 },
 "nbformat": 4,
 "nbformat_minor": 2
}
