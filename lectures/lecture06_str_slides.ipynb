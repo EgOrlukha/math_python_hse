{
 "cells": [
  {
   "cell_type": "markdown",
   "metadata": {
    "slideshow": {
     "slide_type": "slide"
    }
   },
   "source": [
    "<span style=\"color:green; font-size:2.5em;\"> 06. Строки. Форматирование.</span>\n",
    "\n",
    "---"
   ]
  },
  {
   "cell_type": "markdown",
   "metadata": {
    "slideshow": {
     "slide_type": "subslide"
    }
   },
   "source": [
    "<span style=\"color:green; font-size:2em;\"> Методы строк </span>\n",
    "\n",
    "Мы уже знаем что-то про строки (впрочем, основное, что нужно о них знать) - как брать срезы (подпоследовательности) строк, как их складывать, как узнать длину строки, два полезных метода `join` и `split`.\n",
    "\n",
    "Сегодня мы продолжим тему строк и узнаем еще несколько ключевых функций/методов для работы с этим типом данных."
   ]
  },
  {
   "cell_type": "markdown",
   "metadata": {
    "slideshow": {
     "slide_type": "subslide"
    }
   },
   "source": [
    "<span style=\"color:green; font-size:1.5em;\"> Метод `find` </span>\n",
    "\n",
    "Это метод поиска подстроки в строке, как легко понять из названия. Он возвращает индекс (только неотрицательный) **первого** вхождения подстроки в строку, а если она не нашлась то -1."
   ]
  },
  {
   "cell_type": "code",
   "execution_count": 1,
   "metadata": {
    "slideshow": {
     "slide_type": "fragment"
    }
   },
   "outputs": [
    {
     "data": {
      "text/plain": [
       "(4, 7, -1)"
      ]
     },
     "execution_count": 1,
     "metadata": {},
     "output_type": "execute_result"
    }
   ],
   "source": [
    "s = 'python string'\n",
    "s.find('o'), s.find('str'), s.find('P')"
   ]
  },
  {
   "cell_type": "code",
   "execution_count": 2,
   "metadata": {
    "slideshow": {
     "slide_type": "fragment"
    }
   },
   "outputs": [
    {
     "data": {
      "text/plain": [
       "2"
      ]
     },
     "execution_count": 2,
     "metadata": {},
     "output_type": "execute_result"
    }
   ],
   "source": [
    "s.find('t')"
   ]
  },
  {
   "cell_type": "markdown",
   "metadata": {
    "slideshow": {
     "slide_type": "subslide"
    }
   },
   "source": [
    "Как видим `t` было найдено только одно - в слове python. В методе есть позиционные параметры в каком интервале искать подстроку. То есть метод выглядит в \"общем\" виде так:\n",
    "\n",
    "`Строка.find(ИскомаяПодстрока, Старт, Конец)`"
   ]
  },
  {
   "cell_type": "code",
   "execution_count": 5,
   "metadata": {
    "slideshow": {
     "slide_type": "fragment"
    }
   },
   "outputs": [
    {
     "data": {
      "text/plain": [
       "(2, 8, 8, -1)"
      ]
     },
     "execution_count": 5,
     "metadata": {},
     "output_type": "execute_result"
    }
   ],
   "source": [
    "s = 'python string'\n",
    "s.find('t', 0, 5), s.find('t', -5, -2), s.find('t', s.find('t') + 1), s.find('th', 5)"
   ]
  },
  {
   "cell_type": "markdown",
   "metadata": {
    "slideshow": {
     "slide_type": "subslide"
    }
   },
   "source": [
    "<span style=\"color:green; font-size:1.5em;\">Метод `rfind`</span>\n",
    "\n",
    "Он работает аналогично `find`, но ищет самое **правое вхождение** (первое с конца)."
   ]
  },
  {
   "cell_type": "code",
   "execution_count": null,
   "metadata": {
    "slideshow": {
     "slide_type": "fragment"
    }
   },
   "outputs": [],
   "source": [
    "s = 'python to do'\n",
    "s.rfind('t')"
   ]
  },
  {
   "cell_type": "code",
   "execution_count": null,
   "metadata": {
    "slideshow": {
     "slide_type": "fragment"
    }
   },
   "outputs": [],
   "source": [
    "s.rfind('t', -5, 8)"
   ]
  },
  {
   "cell_type": "markdown",
   "metadata": {
    "slideshow": {
     "slide_type": "subslide"
    }
   },
   "source": [
    "<span style=\"color:green; font-size:1.5em;\">Метод `replace` </span>\n",
    "\n",
    "Имеет три позиционных параметра - `old`, `new` и необязательный `count`. Возвращает строку, в которой все вхождения или, если указано, `count` первых вхождений подстроки `old` заменены на подстроку `new`."
   ]
  },
  {
   "cell_type": "code",
   "execution_count": 7,
   "metadata": {
    "slideshow": {
     "slide_type": "fragment"
    }
   },
   "outputs": [
    {
     "name": "stdout",
     "output_type": "stream",
     "text": [
      "Python 3 -> Cython 3 -> Cython ;)\n"
     ]
    }
   ],
   "source": [
    "s = 'Python 3'\n",
    "s_new = s.replace('P', 'C')\n",
    "s_new2 = s_new.replace('3', ';)')\n",
    "print(s, s_new, s_new2, sep=' -> ')"
   ]
  },
  {
   "cell_type": "code",
   "execution_count": 8,
   "metadata": {
    "slideshow": {
     "slide_type": "fragment"
    }
   },
   "outputs": [
    {
     "name": "stdout",
     "output_type": "stream",
     "text": [
      "AAAAAAAA AAAA AAAAAA\n"
     ]
    }
   ],
   "source": [
    "s = 'AAAAAAAA' # 8 букв А\n",
    "s_new = s.replace('AA', 'A')\n",
    "s_new2 = s.replace('AA', 'A', 2)\n",
    "print(s, s_new, s_new2)"
   ]
  },
  {
   "cell_type": "markdown",
   "metadata": {
    "slideshow": {
     "slide_type": "subslide"
    }
   },
   "source": [
    "<span style=\"color:green; font-size:1.5em;\">Метод `count`</span>\n",
    "\n",
    "Выдает целое число - количество непересекающихся вхождений подстроки. По аналогии с методом `find` есть параметры интервала поиска."
   ]
  },
  {
   "cell_type": "code",
   "execution_count": null,
   "metadata": {
    "slideshow": {
     "slide_type": "fragment"
    }
   },
   "outputs": [],
   "source": [
    "s = 'python python 3'\n",
    "s.count(' python ') # обратите внимание на пробел"
   ]
  },
  {
   "cell_type": "code",
   "execution_count": 10,
   "metadata": {
    "slideshow": {
     "slide_type": "fragment"
    }
   },
   "outputs": [
    {
     "data": {
      "text/plain": [
       "(8, 2, 1, 'AAAA')"
      ]
     },
     "execution_count": 10,
     "metadata": {},
     "output_type": "execute_result"
    }
   ],
   "source": [
    "s = 'AAAAAAAA' # 8 букв А\n",
    "s.count('A'), s.count('AA', 3, 7), s.count('AAA', 3, 7), s[3:7] \n",
    "# обратитет внимание, что вхождения подстрок НЕ ПЕРЕСЕКАЮТСЯ!"
   ]
  },
  {
   "cell_type": "markdown",
   "metadata": {
    "slideshow": {
     "slide_type": "subslide"
    }
   },
   "source": [
    "<span style=\"color:green; font-size:1.5em;\">Другие методы</span>\n",
    "\n",
    "**Методы, проверяющие состав строки**\n",
    "\n",
    "`S.isdigit()`\tСостоит ли строка ТОЛЬКО из цифр"
   ]
  },
  {
   "cell_type": "code",
   "execution_count": 13,
   "metadata": {
    "slideshow": {
     "slide_type": "fragment"
    }
   },
   "outputs": [
    {
     "data": {
      "text/plain": [
       "(True, False, False, False, False, False)"
      ]
     },
     "execution_count": 13,
     "metadata": {},
     "output_type": "execute_result"
    }
   ],
   "source": [
    "'123'.isdigit(), '1a'.isdigit(), '1,2,3'.isdigit(), '1 2 3'.isdigit(), ''.isdigit(), ' '.isdigit(), "
   ]
  },
  {
   "cell_type": "markdown",
   "metadata": {
    "slideshow": {
     "slide_type": "subslide"
    }
   },
   "source": [
    "`S.isalpha()`\tСостоит ли строка только из букв"
   ]
  },
  {
   "cell_type": "code",
   "execution_count": 14,
   "metadata": {
    "slideshow": {
     "slide_type": "fragment"
    }
   },
   "outputs": [
    {
     "data": {
      "text/plain": [
       "(True, False, False, False, False, False)"
      ]
     },
     "execution_count": 14,
     "metadata": {},
     "output_type": "execute_result"
    }
   ],
   "source": [
    "'abc'.isalpha(), 'a1b2b3'.isalpha(), 'a,b,c'.isalpha(), 'a b c'.isalpha(), ''.isalpha(), ' '.isalpha()"
   ]
  },
  {
   "cell_type": "markdown",
   "metadata": {
    "slideshow": {
     "slide_type": "subslide"
    }
   },
   "source": [
    "`S.isalnum()`\tСостоит ли строка из цифр или букв"
   ]
  },
  {
   "cell_type": "code",
   "execution_count": 17,
   "metadata": {
    "slideshow": {
     "slide_type": "fragment"
    }
   },
   "outputs": [
    {
     "data": {
      "text/plain": [
       "(True, True, True, False, False, False, False)"
      ]
     },
     "execution_count": 17,
     "metadata": {},
     "output_type": "execute_result"
    }
   ],
   "source": [
    "'a'.isalnum(), '1'.isalnum(), 'a1'.isalnum(), \\\n",
    "'a,1'.isalnum(), 'a 1'.isalnum(), ''.isalnum(), ' '.isalnum()"
   ]
  },
  {
   "cell_type": "markdown",
   "metadata": {
    "slideshow": {
     "slide_type": "subslide"
    }
   },
   "source": [
    "`S.islower()`\tСостоит ли строка только из символов в нижнем регистре"
   ]
  },
  {
   "cell_type": "code",
   "execution_count": 23,
   "metadata": {
    "slideshow": {
     "slide_type": "fragment"
    }
   },
   "outputs": [
    {
     "data": {
      "text/plain": [
       "(True, True, False, False, False, False, False)"
      ]
     },
     "execution_count": 23,
     "metadata": {},
     "output_type": "execute_result"
    }
   ],
   "source": [
    "'s'.islower(), 's,s'.islower(), ','.islower(), '1'.islower(),\\\n",
    "'S'.islower(), ''.islower(), ' '.islower()"
   ]
  },
  {
   "cell_type": "markdown",
   "metadata": {
    "slideshow": {
     "slide_type": "subslide"
    }
   },
   "source": [
    "`S.isupper()`\tСостоит ли строка только из символов в верхнем регистре"
   ]
  },
  {
   "cell_type": "code",
   "execution_count": 24,
   "metadata": {
    "slideshow": {
     "slide_type": "fragment"
    }
   },
   "outputs": [
    {
     "data": {
      "text/plain": [
       "(True, True, False, False, False, False, False)"
      ]
     },
     "execution_count": 24,
     "metadata": {},
     "output_type": "execute_result"
    }
   ],
   "source": [
    "'S'.isupper(), 'S,S'.isupper(), ','.isupper(), '1'.isupper(),\\\n",
    "'s'.isupper(), ''.isupper(), ' '.isupper()"
   ]
  },
  {
   "cell_type": "markdown",
   "metadata": {
    "slideshow": {
     "slide_type": "subslide"
    }
   },
   "source": [
    "`S.istitle()`\tНачинаются ли все слова (слова := идущие подряд символы без пробела) в строке с заглавной буквы"
   ]
  },
  {
   "cell_type": "code",
   "execution_count": 37,
   "metadata": {
    "slideshow": {
     "slide_type": "fragment"
    }
   },
   "outputs": [
    {
     "data": {
      "text/plain": [
       "(True, True, False, False, False, False)"
      ]
     },
     "execution_count": 37,
     "metadata": {},
     "output_type": "execute_result"
    }
   ],
   "source": [
    "'Python 3'.istitle(), 'A'.istitle(), 'python 3'.istitle(), \\\n",
    "'3'.istitle(), ''.istitle(), ' '.istitle()"
   ]
  },
  {
   "cell_type": "markdown",
   "metadata": {
    "slideshow": {
     "slide_type": "subslide"
    }
   },
   "source": [
    "`S.startswith(str, start=0, end=-1)`\tНачинается ли строка `S[start:end]` со строки `str`."
   ]
  },
  {
   "cell_type": "code",
   "execution_count": 35,
   "metadata": {
    "slideshow": {
     "slide_type": "fragment"
    }
   },
   "outputs": [
    {
     "name": "stdout",
     "output_type": "stream",
     "text": [
      "False, True, True, True, True, True, True, True, True, True, True, True, False, "
     ]
    }
   ],
   "source": [
    "myfiles = ['forloop.png', 'lecture01_intro.ipynb', 'lecture01_intro_slides.ipynb', \n",
    "           'lecture02_if.ipynb', 'lecture02_if_slides.ipynb', 'lecture03_container.ipynb', \n",
    "           'lecture03_container_slides.ipynb', 'lecture04_for.ipynb', 'lecture04_for_slides.ipynb', \n",
    "           'lecture05_def.ipynb',  'lecture05_def_slides.ipynb', 'lecture06_str_slides.ipynb', \n",
    "           'qrcode.png']\n",
    "\n",
    "for file in myfiles:\n",
    "    print(file.startswith('lecture'), end=', ')"
   ]
  },
  {
   "cell_type": "markdown",
   "metadata": {
    "slideshow": {
     "slide_type": "subslide"
    }
   },
   "source": [
    "`S.endswith(str)`\tЗаканчивается ли строка `S` строкой `str`"
   ]
  },
  {
   "cell_type": "code",
   "execution_count": 38,
   "metadata": {
    "slideshow": {
     "slide_type": "fragment"
    }
   },
   "outputs": [
    {
     "name": "stdout",
     "output_type": "stream",
     "text": [
      "True, False, False, False, False, False, False, False, False, False, False, False, True, "
     ]
    }
   ],
   "source": [
    "for file in myfiles:\n",
    "    print(file.endswith('.png'), end=', ')"
   ]
  },
  {
   "cell_type": "code",
   "execution_count": 39,
   "metadata": {
    "slideshow": {
     "slide_type": "fragment"
    }
   },
   "outputs": [
    {
     "name": "stdout",
     "output_type": "stream",
     "text": [
      "False, False, True, False, True, False, True, False, True, False, True, True, False, "
     ]
    }
   ],
   "source": [
    "for file in myfiles:\n",
    "    print(file.split('.')[0].endswith('slides'), end=', ')"
   ]
  },
  {
   "cell_type": "markdown",
   "metadata": {
    "slideshow": {
     "slide_type": "subslide"
    }
   },
   "source": [
    "**Методы, работающие с регистром символов**"
   ]
  },
  {
   "cell_type": "markdown",
   "metadata": {
    "slideshow": {
     "slide_type": "subslide"
    }
   },
   "source": [
    "`S.capitalize()`\tПереводит первый символ строки в верхний регистр, а все остальные в нижний"
   ]
  },
  {
   "cell_type": "code",
   "execution_count": 44,
   "metadata": {
    "slideshow": {
     "slide_type": "fragment"
    }
   },
   "outputs": [
    {
     "data": {
      "text/plain": [
       "('The story of my life', 'Sale')"
      ]
     },
     "execution_count": 44,
     "metadata": {},
     "output_type": "execute_result"
    }
   ],
   "source": [
    "s, S = 'the StOry oF My life', 'SALE'\n",
    "s.capitalize(), S.capitalize()"
   ]
  },
  {
   "cell_type": "markdown",
   "metadata": {
    "slideshow": {
     "slide_type": "subslide"
    }
   },
   "source": [
    "`S.swapcase()`\tПереводит символы нижнего регистра в верхний, а верхнего – в нижний"
   ]
  },
  {
   "cell_type": "code",
   "execution_count": 49,
   "metadata": {
    "slideshow": {
     "slide_type": "fragment"
    }
   },
   "outputs": [
    {
     "data": {
      "text/plain": [
       "('THE sToRY Of mY LIFE', 'sale')"
      ]
     },
     "execution_count": 49,
     "metadata": {},
     "output_type": "execute_result"
    }
   ],
   "source": [
    "s.swapcase(), S.swapcase()"
   ]
  },
  {
   "cell_type": "markdown",
   "metadata": {
    "slideshow": {
     "slide_type": "subslide"
    }
   },
   "source": [
    "`S.title()` Первую букву каждого слова переводит в верхний регистр, а все остальные в нижний"
   ]
  },
  {
   "cell_type": "code",
   "execution_count": 50,
   "metadata": {
    "slideshow": {
     "slide_type": "fragment"
    }
   },
   "outputs": [
    {
     "data": {
      "text/plain": [
       "('The Story Of My Life', 'Sale')"
      ]
     },
     "execution_count": 50,
     "metadata": {},
     "output_type": "execute_result"
    }
   ],
   "source": [
    "s.title(), S.title()"
   ]
  },
  {
   "cell_type": "markdown",
   "metadata": {
    "slideshow": {
     "slide_type": "subslide"
    }
   },
   "source": [
    "`S.upper()`\tПреобразование строки к верхнему регистру"
   ]
  },
  {
   "cell_type": "code",
   "execution_count": 47,
   "metadata": {
    "slideshow": {
     "slide_type": "fragment"
    }
   },
   "outputs": [
    {
     "data": {
      "text/plain": [
       "'THE STORY OF MY LIFE'"
      ]
     },
     "execution_count": 47,
     "metadata": {},
     "output_type": "execute_result"
    }
   ],
   "source": [
    "s.upper()"
   ]
  },
  {
   "cell_type": "markdown",
   "metadata": {
    "slideshow": {
     "slide_type": "subslide"
    }
   },
   "source": [
    "`S.lower()`\tПреобразование строки к нижнему регистру"
   ]
  },
  {
   "cell_type": "code",
   "execution_count": 48,
   "metadata": {
    "slideshow": {
     "slide_type": "fragment"
    }
   },
   "outputs": [
    {
     "data": {
      "text/plain": [
       "'sale'"
      ]
     },
     "execution_count": 48,
     "metadata": {},
     "output_type": "execute_result"
    }
   ],
   "source": [
    "S.lower()"
   ]
  },
  {
   "cell_type": "markdown",
   "metadata": {
    "slideshow": {
     "slide_type": "subslide"
    }
   },
   "source": [
    "**Функции для работы с кодом ASCII**\n",
    "\n",
    "[Python ASCII Chart](https://python-reference.readthedocs.io/en/latest/docs/str/ASCII.html)\n",
    "<img src=https://otvet.imgsmail.ru/download/u_4b8d9fe9a4c409ee220f40b91c032d8f_800.png>"
   ]
  },
  {
   "cell_type": "markdown",
   "metadata": {
    "slideshow": {
     "slide_type": "subslide"
    }
   },
   "source": [
    "`ord(символ)`\tВозвращает код ASCII символа"
   ]
  },
  {
   "cell_type": "code",
   "execution_count": 56,
   "metadata": {
    "slideshow": {
     "slide_type": "fragment"
    }
   },
   "outputs": [
    {
     "data": {
      "text/plain": [
       "(65, 97, 38)"
      ]
     },
     "execution_count": 56,
     "metadata": {},
     "output_type": "execute_result"
    }
   ],
   "source": [
    "ord('A'), ord('a'), ord('&')"
   ]
  },
  {
   "cell_type": "markdown",
   "metadata": {
    "slideshow": {
     "slide_type": "subslide"
    }
   },
   "source": [
    "`chr(число)` Возвращает символ по его коду ASCII"
   ]
  },
  {
   "cell_type": "code",
   "execution_count": 57,
   "metadata": {
    "slideshow": {
     "slide_type": "fragment"
    }
   },
   "outputs": [
    {
     "data": {
      "text/plain": [
       "('*', '9', 'E', 'd')"
      ]
     },
     "execution_count": 57,
     "metadata": {},
     "output_type": "execute_result"
    }
   ],
   "source": [
    "chr(42), chr(57), chr(69), chr(100)"
   ]
  },
  {
   "cell_type": "markdown",
   "metadata": {
    "slideshow": {
     "slide_type": "subslide"
    }
   },
   "source": [
    "<span style=\"color:green; font-size:2em;\"> Форматирование строк </span>\n",
    "[Подробнее](https://pyformat.info)\n",
    "\n",
    "Бывает нам хочется напечатать что-то вроде такого:"
   ]
  },
  {
   "cell_type": "code",
   "execution_count": 59,
   "metadata": {
    "slideshow": {
     "slide_type": "fragment"
    }
   },
   "outputs": [
    {
     "name": "stdout",
     "output_type": "stream",
     "text": [
      "10\n",
      "21\n",
      "Number of students\n",
      "Group 1: 10 \n",
      "Group 2: 21 \n",
      "Overall: 31\n"
     ]
    }
   ],
   "source": [
    "n, m = int(input()), int(input())\n",
    "\n",
    "print('Number of students\\nGroup 1:', n, '\\nGroup 2:', m, '\\nOverall:', n + m)"
   ]
  },
  {
   "cell_type": "markdown",
   "metadata": {
    "slideshow": {
     "slide_type": "fragment"
    }
   },
   "source": [
    "Проблема: приходится \"изменяемые\" переменные вставлять через запятые, остальной строковой текст все время обрамлять в кавычки. Конечно, приведенный пример это далеко на самый плохой вариант, н опредставьте, если таких переменных, например, 100? Уже сложнее. Питонисты любят когда все коротко и ясно. Поэтому есть такой метод (впрочем, не только), `.format()`. Работает он следующим образом:"
   ]
  },
  {
   "cell_type": "code",
   "execution_count": 101,
   "metadata": {
    "slideshow": {
     "slide_type": "fragment"
    }
   },
   "outputs": [
    {
     "data": {
      "text/plain": [
       "('Это число 1, это буква \"a\", это предложение \"Hi, Monty!!\"',\n",
       " 'Это число Hi, Monty!!, это буква \"a\", это предложение \"1\"')"
      ]
     },
     "execution_count": 101,
     "metadata": {},
     "output_type": "execute_result"
    }
   ],
   "source": [
    "s = 'Это число {}, это буква \"{}\", это предложение \"{}\"'\n",
    "s.format(1, 'a', 'Hi, Monty!!')"
   ]
  },
  {
   "cell_type": "code",
   "execution_count": 102,
   "metadata": {
    "slideshow": {
     "slide_type": "fragment"
    }
   },
   "outputs": [
    {
     "data": {
      "text/plain": [
       "'Это число Hi, Monty!!, это буква \"a\", это предложение \"1\"'"
      ]
     },
     "execution_count": 102,
     "metadata": {},
     "output_type": "execute_result"
    }
   ],
   "source": [
    "s = 'Это число {2}, это буква \"{1}\", это предложение \"{0}\"'\n",
    "s.format(1, 'a', 'Hi, Monty!!')"
   ]
  },
  {
   "cell_type": "markdown",
   "metadata": {
    "slideshow": {
     "slide_type": "subslide"
    }
   },
   "source": [
    "То есть Питон считывает строку, видит в ней \"фигурные скобки\" - места куда вставить объекты, и то, что лежит внутри метода `.format()` вставляет в том порядке, в котором они указаны (по дефолту подряд), создавая новый объект типа строка.\n",
    "\n",
    "Также можно указать сколько чисел после запятой вывести у вещественного числа:"
   ]
  },
  {
   "cell_type": "code",
   "execution_count": 99,
   "metadata": {
    "slideshow": {
     "slide_type": "fragment"
    }
   },
   "outputs": [
    {
     "name": "stdout",
     "output_type": "stream",
     "text": [
      "Number pi = 3.14159\n",
      "Number pi = 3\n",
      "Number pi = 003.14\n"
     ]
    }
   ],
   "source": [
    "pi = 3.14159265559\n",
    "print('Number pi = {:.5f}'.format(pi), \n",
    "      'Number pi = {:.0f}'.format(pi),\n",
    "      'Number pi = {:06.2f}'.format(pi), sep='\\n')"
   ]
  },
  {
   "cell_type": "markdown",
   "metadata": {
    "slideshow": {
     "slide_type": "subslide"
    }
   },
   "source": [
    "Можно \"паддить\" строки:"
   ]
  },
  {
   "cell_type": "code",
   "execution_count": 97,
   "metadata": {},
   "outputs": [
    {
     "name": "stdout",
     "output_type": "stream",
     "text": [
      "|     Hello|\n",
      "|    Hi    |\n",
      "|Hey       |\n",
      "|....Hi....|\n"
     ]
    }
   ],
   "source": [
    "print('|{:>10}|\\n|{:^10}|\\n|{:<10}|\\n|{:.^10}|'.format('Hello', 'Hi', 'Hey', 'Hi'))"
   ]
  },
  {
   "cell_type": "markdown",
   "metadata": {
    "slideshow": {
     "slide_type": "subslide"
    }
   },
   "source": [
    "**Usage case:**"
   ]
  },
  {
   "cell_type": "code",
   "execution_count": 76,
   "metadata": {
    "slideshow": {
     "slide_type": "fragment"
    }
   },
   "outputs": [
    {
     "name": "stdout",
     "output_type": "stream",
     "text": [
      "rrrqwyqwywiytyqe\n",
      "Aa: 0 \n",
      "Bb: 0 \n",
      "Cc: 0 \n",
      "Dd: 0 \n",
      "Ee: 1 \n",
      "Ff: 0 \n",
      "Gg: 0 \n",
      "Hh: 0 \n",
      "Ii: 1 \n",
      "Jj: 0 \n",
      "Kk: 0 \n",
      "Ll: 0 \n",
      "Mm: 0 \n",
      "Nn: 0 \n",
      "Oo: 0 \n",
      "Pp: 0 \n",
      "Qq: 3 \n",
      "Rr: 3 \n",
      "Ss: 0 \n",
      "Tt: 1 \n",
      "Uu: 0 \n",
      "Vv: 0 \n",
      "Ww: 3 \n",
      "Xx: 0 \n",
      "Yy: 4 \n",
      "Zz: 0 \n"
     ]
    }
   ],
   "source": [
    "# генерируем строку, в которую хотим вставить какие-то значения\n",
    "toprint = '\\n'.join([chr(65 + i) + chr(97 + i) +': {} ' for i in range(26)])\n",
    "\n",
    "# вводим какие-то данные\n",
    "tocount = input()\n",
    "\n",
    "# производим вычисления с переменными данными\n",
    "counted_alphabet = [tocount.lower().count(chr(97 + i)) for i in range(26)]\n",
    "\n",
    "# печатаем с помощью форматирования\n",
    "print(toprint.format(*counted_alphabet))"
   ]
  },
  {
   "cell_type": "markdown",
   "metadata": {
    "slideshow": {
     "slide_type": "subslide"
    }
   },
   "source": [
    "<span style=\"color:green; font-size:1.5em;\"> f-string\n",
    "    \n",
    "Абсолютно то же самое (в новых версиях Питона) можно делать следующим более кратким и удобным (не всегда) способом:"
   ]
  },
  {
   "cell_type": "code",
   "execution_count": 103,
   "metadata": {
    "slideshow": {
     "slide_type": "subslide"
    }
   },
   "outputs": [
    {
     "data": {
      "text/plain": [
       "'Hi, my name is Sonya. I was born in 1998.'"
      ]
     },
     "execution_count": 103,
     "metadata": {},
     "output_type": "execute_result"
    }
   ],
   "source": [
    "name = 'Sonya'\n",
    "yr = 2020\n",
    "old = 22\n",
    "f'Hi, my name is {name}. I was born in {yr-old}.'"
   ]
  }
 ],
 "metadata": {
  "celltoolbar": "Slideshow",
  "kernelspec": {
   "display_name": "Python 3",
   "language": "python",
   "name": "python3"
  },
  "language_info": {
   "codemirror_mode": {
    "name": "ipython",
    "version": 3
   },
   "file_extension": ".py",
   "mimetype": "text/x-python",
   "name": "python",
   "nbconvert_exporter": "python",
   "pygments_lexer": "ipython3",
   "version": "3.6.9"
  }
 },
 "nbformat": 4,
 "nbformat_minor": 4
}
