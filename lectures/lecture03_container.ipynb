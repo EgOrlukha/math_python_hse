{
 "cells": [
  {
   "cell_type": "markdown",
   "metadata": {
    "slideshow": {
     "slide_type": "slide"
    }
   },
   "source": [
    "# 03. Последовательности: список, кортеж, строка.\n"
   ]
  },
  {
   "cell_type": "markdown",
   "metadata": {
    "slideshow": {
     "slide_type": "subslide"
    }
   },
   "source": [
    "Мы изучили численный и строковый тип данных, но для нашего мира недостаточно иметь возможность создавать только отдельные объекты, ведь часто информация представляется в виде *набора объектов*, который может быть упорядоченным и неупорядоченным, а также меняющимся и нет. \n",
    "\n",
    "Сегодня мы изучим **последовательности [DOCS](https://docs.python.org/3/library/stdtypes.html?highlight=sequence#sequence-types-list-tuple-range) - контейнеры, элементы которых представляют собой некий упорядоченый набор объектов** (заметьте, что \"упорядоченный\" отображает то, что объекты можно пронумеровать, а не то, что на них можно установить какое-то отношения порядка как в логике)."
   ]
  },
  {
   "cell_type": "markdown",
   "metadata": {
    "slideshow": {
     "slide_type": "slide"
    }
   },
   "source": [
    "# Список"
   ]
  },
  {
   "cell_type": "markdown",
   "metadata": {
    "slideshow": {
     "slide_type": "subslide"
    }
   },
   "source": [
    "**Список (`list`)** [DOCS](https://docs.python.org/3/library/stdtypes.html?highlight=list#lists) - изменяемый вид последовательности, обычно используемый для хранения объектов одного типа. \n",
    "\n",
    "\"Изменяемый\" (mutable) значит, что для замены, удаления, добавления элемента, создавать новый объект *не нужно*, а можно просто изменить сущестующий список. Соответственно, \"неизменяемый\" (immutable) не позволяет как-либо преобразовывать объект. Как именно менять элементы списка мы узнаем позже."
   ]
  },
  {
   "cell_type": "markdown",
   "metadata": {
    "slideshow": {
     "slide_type": "subslide"
    }
   },
   "source": [
    "Список создается с помощью **квадратных скобок** и разделяющих запятых. "
   ]
  },
  {
   "cell_type": "code",
   "execution_count": 1,
   "metadata": {
    "slideshow": {
     "slide_type": "fragment"
    }
   },
   "outputs": [],
   "source": [
    "my_first_list = ['hello']\n",
    "my_second_list = [1, 'two', 3.0]\n",
    "my_first_list, my_second_list, type(my_first_list)"
   ]
  },
  {
   "cell_type": "markdown",
   "metadata": {
    "slideshow": {
     "slide_type": "subslide"
    }
   },
   "source": [
    "Списки могут быть вложены друг в друга (nested list) и таким образом составлять многомерную матрицу:"
   ]
  },
  {
   "cell_type": "code",
   "execution_count": 2,
   "metadata": {
    "slideshow": {
     "slide_type": "fragment"
    }
   },
   "outputs": [
    {
     "name": "stdout",
     "output_type": "stream",
     "text": [
      "[1, 2, [3, 3, 3], [4, [5]], 10]\n",
      "[[1, 2, 3], [4, 5, 6]]\n"
     ]
    }
   ],
   "source": [
    "nested_list = [1, 2, [3, 3, 3], [4, [5]], 10]\n",
    "matrix_list = [[1, 2, 3], [4, 5, 6]]\n",
    "print(nested_list)\n",
    "print(matrix_list)"
   ]
  },
  {
   "cell_type": "markdown",
   "metadata": {
    "slideshow": {
     "slide_type": "subslide"
    }
   },
   "source": [
    "Чтобы создать пустой список, можно просто поставить скобки или воспользоваться функцией `list()` - она приводит объекты (другие последовательности) к типу list."
   ]
  },
  {
   "cell_type": "code",
   "execution_count": 3,
   "metadata": {
    "slideshow": {
     "slide_type": "fragment"
    }
   },
   "outputs": [
    {
     "data": {
      "text/plain": [
       "([], [], ['a', 'b', 'c'], [1, 2, 3])"
      ]
     },
     "execution_count": 3,
     "metadata": {},
     "output_type": "execute_result"
    }
   ],
   "source": [
    "empty_list = []\n",
    "empty_list_2 = list()\n",
    "str_list = list('abc')\n",
    "tup_list = list((1, 2, 3))\n",
    "empty_list, empty_list_2, str_list, tup_list"
   ]
  },
  {
   "cell_type": "markdown",
   "metadata": {
    "slideshow": {
     "slide_type": "fragment"
    }
   },
   "source": [
    "У вас мог возникнуть вопрос, что за аргумент был подан для создания переменной `tup_list` - это кортеж, который мы изучим следующим."
   ]
  },
  {
   "cell_type": "markdown",
   "metadata": {
    "slideshow": {
     "slide_type": "slide"
    }
   },
   "source": [
    "# Кортеж"
   ]
  },
  {
   "cell_type": "markdown",
   "metadata": {
    "slideshow": {
     "slide_type": "subslide"
    }
   },
   "source": [
    "**Кортéж (`tuple`)** [DOCS](https://docs.python.org/3/library/stdtypes.html?highlight=tuple#tuple) - это **неизменяемый список**, то есть элементы в кортеже нельзя заменить, удалить или добавить, это возможно сделать только посредством создания нового объекта типа кортеж."
   ]
  },
  {
   "cell_type": "markdown",
   "metadata": {
    "slideshow": {
     "slide_type": "subslide"
    }
   },
   "source": [
    "Кортеж создаётся с помощью **круглых скобок** и **запятых**. Технически скобки можно и опустить, потому что именно запятая дает создат кортеж, но из интерпретационных соображений лучше этого не делать. "
   ]
  },
  {
   "cell_type": "code",
   "execution_count": 4,
   "metadata": {
    "slideshow": {
     "slide_type": "fragment"
    }
   },
   "outputs": [
    {
     "data": {
      "text/plain": [
       "((1, 'two', 3.0), tuple)"
      ]
     },
     "execution_count": 4,
     "metadata": {},
     "output_type": "execute_result"
    }
   ],
   "source": [
    "my_first_tuple = (1, 'two', 3.0)\n",
    "my_first_tuple, type(my_first_tuple)"
   ]
  },
  {
   "cell_type": "markdown",
   "metadata": {
    "slideshow": {
     "slide_type": "subslide"
    }
   },
   "source": [
    "Чтобы создать пустой кортеж, можно поставить просто круглые скобки. А для создания кортежа из одного элемента, нужно **обязательно ставить запятую**, иначе Питон не распознает этот тип данных как кортеж. "
   ]
  },
  {
   "cell_type": "code",
   "execution_count": 5,
   "metadata": {
    "slideshow": {
     "slide_type": "fragment"
    }
   },
   "outputs": [
    {
     "data": {
      "text/plain": [
       "((), (1,), 1, int)"
      ]
     },
     "execution_count": 5,
     "metadata": {},
     "output_type": "execute_result"
    }
   ],
   "source": [
    "empty_tuple = ()\n",
    "tuple_with_one_element = (1,)\n",
    "not_a_tuple = (1)\n",
    "empty_tuple, tuple_with_one_element, not_a_tuple, type(not_a_tuple)"
   ]
  },
  {
   "cell_type": "markdown",
   "metadata": {
    "slideshow": {
     "slide_type": "subslide"
    }
   },
   "source": [
    "Как и раньше, есть функция `tuple()`, которая приводит объект к типу tuple; в качестве аргумента ей необходима последовательность (строка, список). Ею же можно создать пустой кортеж."
   ]
  },
  {
   "cell_type": "code",
   "execution_count": 6,
   "metadata": {
    "slideshow": {
     "slide_type": "fragment"
    }
   },
   "outputs": [
    {
     "data": {
      "text/plain": [
       "((), ('a', 'b', 'c', ' ', 'd', '!'), (1, 2, [1, 2], 3))"
      ]
     },
     "execution_count": 6,
     "metadata": {},
     "output_type": "execute_result"
    }
   ],
   "source": [
    "empty_tuple = tuple()\n",
    "str_tup = tuple('abc d!')\n",
    "list_tuple = tuple([1, 2, [1, 2], 3])\n",
    "empty_tuple, str_tup, list_tuple"
   ]
  },
  {
   "cell_type": "markdown",
   "metadata": {
    "slideshow": {
     "slide_type": "subslide"
    }
   },
   "source": [
    "Поскольку в Питоне есть такая вещь как множественное присваивание, то обмен значений переменных можно выполнить в одну строчку, используя именно существование кортежей. "
   ]
  },
  {
   "cell_type": "code",
   "execution_count": 7,
   "metadata": {
    "slideshow": {
     "slide_type": "fragment"
    }
   },
   "outputs": [
    {
     "name": "stdout",
     "output_type": "stream",
     "text": [
      "20 10\n"
     ]
    }
   ],
   "source": [
    "a = 10\n",
    "b = 20\n",
    "a, b = b, a\n",
    "# (a, b) = (20, 10) => a = 20, b = 10\n",
    "print(a, b)"
   ]
  },
  {
   "cell_type": "markdown",
   "metadata": {
    "slideshow": {
     "slide_type": "fragment"
    }
   },
   "source": [
    "При выполнении `a, b = b, a` Питон сначала получает значения связанные с переменными `b` и `a` (правая часть) и помещает их в кортеж, в данном случае получится `(20, 10)`. После этого он связывает каждый элемент кортежа в определенной позиции с переменной в той же позиции, но в кортеже слева `(a, b)`. Это работает для сколь угодного количества переменных."
   ]
  },
  {
   "cell_type": "code",
   "execution_count": 8,
   "metadata": {
    "slideshow": {
     "slide_type": "subslide"
    }
   },
   "outputs": [
    {
     "name": "stdout",
     "output_type": "stream",
     "text": [
      "  3           0 LOAD_FAST                0 (a)\n",
      "              2 LOAD_FAST                1 (b)\n",
      "              4 LOAD_FAST                2 (c)\n",
      "              6 LOAD_FAST                3 (d)\n",
      "              8 BUILD_TUPLE              4\n",
      "             10 UNPACK_SEQUENCE          4\n",
      "             12 STORE_FAST               3 (d)\n",
      "             14 STORE_FAST               2 (c)\n",
      "             16 STORE_FAST               1 (b)\n",
      "             18 STORE_FAST               0 (a)\n",
      "             20 LOAD_CONST               0 (None)\n",
      "             22 RETURN_VALUE\n"
     ]
    }
   ],
   "source": [
    "import dis\n",
    "def bar(a, b, c, d):\n",
    "    d, c, b, a = a, b, c, d\n",
    "\n",
    "dis.dis(bar)"
   ]
  },
  {
   "cell_type": "markdown",
   "metadata": {
    "slideshow": {
     "slide_type": "slide"
    }
   },
   "source": [
    "# Строка"
   ]
  },
  {
   "cell_type": "markdown",
   "metadata": {
    "slideshow": {
     "slide_type": "subslide"
    }
   },
   "source": [
    "**Строка (string)** [DOCS](https://docs.python.org/3/library/stdtypes.html?highlight=str#text-sequence-type-str) − это неизменяемая последовательность из **символов**. \n",
    "\n",
    "Мы уже знакомы со строками, поэтому умеем создавать строки. Напомним, что строки создаются с помощью **кавычек**, причем они могут быть разными."
   ]
  },
  {
   "cell_type": "code",
   "execution_count": 9,
   "metadata": {
    "slideshow": {
     "slide_type": "subslide"
    }
   },
   "outputs": [],
   "source": [
    "одинарные_кавычки = 'позволяет встроить \"двойные\" кавычки'\n",
    "двойные_кавычки = \"позовляют встроить 'одинарные' кавычки\"\n",
    "тройные_о_кавычки, тройные_д_кавычки = '''одинарные''', \"\"\"двойные\"\"\"\n",
    "тройные_кавычки = '''позволяют\n",
    "встроить\n",
    "переносы\n",
    "строк\n",
    "    и сдвиги'''"
   ]
  },
  {
   "cell_type": "code",
   "execution_count": 10,
   "metadata": {
    "slideshow": {
     "slide_type": "fragment"
    }
   },
   "outputs": [
    {
     "data": {
      "text/plain": [
       "'позволяют\\nвстроить\\nпереносы\\nстрок\\n    и сдвиги'"
      ]
     },
     "execution_count": 10,
     "metadata": {},
     "output_type": "execute_result"
    }
   ],
   "source": [
    "тройные_кавычки"
   ]
  },
  {
   "cell_type": "code",
   "execution_count": 11,
   "metadata": {
    "slideshow": {
     "slide_type": "fragment"
    }
   },
   "outputs": [
    {
     "name": "stdout",
     "output_type": "stream",
     "text": [
      "позволяют\n",
      "встроить\n",
      "переносы\n",
      "строк\n",
      "    и сдвиги\n"
     ]
    }
   ],
   "source": [
    "print(тройные_кавычки)"
   ]
  },
  {
   "cell_type": "markdown",
   "metadata": {
    "slideshow": {
     "slide_type": "subslide"
    }
   },
   "source": [
    "Отдельные строки разделенные в исходном коде пробелом (или переносом `\\`), превращаются в одну строку без пробелов и переносов:"
   ]
  },
  {
   "cell_type": "code",
   "execution_count": 12,
   "metadata": {
    "slideshow": {
     "slide_type": "fragment"
    }
   },
   "outputs": [
    {
     "data": {
      "text/plain": [
       "'spameggsspameggs'"
      ]
     },
     "execution_count": 12,
     "metadata": {},
     "output_type": "execute_result"
    }
   ],
   "source": [
    "'spam' 'eggs' 'spam' \\\n",
    "'eggs'"
   ]
  },
  {
   "cell_type": "markdown",
   "metadata": {
    "slideshow": {
     "slide_type": "subslide"
    }
   },
   "source": [
    "С помощью функции `str()` можно привести объект к строке или получить для функции/метода \"неформальное\" строковое представление."
   ]
  },
  {
   "cell_type": "code",
   "execution_count": 13,
   "metadata": {
    "slideshow": {
     "slide_type": "fragment"
    }
   },
   "outputs": [
    {
     "data": {
      "text/plain": [
       "('10', \"<class 'str'>\", '<built-in function abs>')"
      ]
     },
     "execution_count": 13,
     "metadata": {},
     "output_type": "execute_result"
    }
   ],
   "source": [
    "str(10), str(str), str(abs)"
   ]
  },
  {
   "cell_type": "markdown",
   "metadata": {
    "slideshow": {
     "slide_type": "subslide"
    }
   },
   "source": [
    "## Методы `.join()` и `.split()`"
   ]
  },
  {
   "cell_type": "markdown",
   "metadata": {
    "slideshow": {
     "slide_type": "fragment"
    }
   },
   "source": [
    "Бывает очень полезно получить из списка строк одну строку (склеить определенным образом) и получить из строки список строк (нарезать определенным образом). Для этого используются эти два метода. \n",
    "\n",
    "Но что такое метод? Если просто, то это специальный класс функций, который ассоциирован с объектом (внимание на точку перед названием метода). Сложнее и точнее мы объясним разницу между методом и функцией, когда будем проходить классы в Питоне."
   ]
  },
  {
   "cell_type": "markdown",
   "metadata": {
    "slideshow": {
     "slide_type": "subslide"
    }
   },
   "source": [
    "`s.join(последовательность из строк)` - общий вид применения методa [DOCS](https://docs.python.org/3/library/stdtypes.html#str.join). Он создает новую строку, соединяя элементы последовательности с помощью строки `s`. Примеры:"
   ]
  },
  {
   "cell_type": "code",
   "execution_count": 14,
   "metadata": {
    "slideshow": {
     "slide_type": "fragment"
    }
   },
   "outputs": [
    {
     "data": {
      "text/plain": [
       "('1+2+3+4+5', 'apple, banana, mango', 'line.\\nsecond line.')"
      ]
     },
     "execution_count": 14,
     "metadata": {},
     "output_type": "execute_result"
    }
   ],
   "source": [
    "'+'.join('12345'), ', '.join(('apple', 'banana', 'mango')), '\\n'.join(['line.', 'second line.'])"
   ]
  },
  {
   "cell_type": "markdown",
   "metadata": {
    "slideshow": {
     "slide_type": "subslide"
    }
   },
   "source": [
    "`строка.split(sep)` - общий вид применения метода [DOCS](https://docs.python.org/3/library/stdtypes.html#str.split). Он разрезает строку по строке-разделителю `sep` и возвращает список с разделенными элементами-строками (по дефолту `sep` это пробелы). Заметьте, что в итоге элементы могут быть пустыми!"
   ]
  },
  {
   "cell_type": "code",
   "execution_count": 15,
   "metadata": {
    "slideshow": {
     "slide_type": "fragment"
    }
   },
   "outputs": [
    {
     "data": {
      "text/plain": [
       "(['1', '2', '3', '5'], ['1', '2', '3'])"
      ]
     },
     "execution_count": 15,
     "metadata": {},
     "output_type": "execute_result"
    }
   ],
   "source": [
    "'     1   2 3      5 '.split(), '1<>2<>3'.split('<>')"
   ]
  },
  {
   "cell_type": "code",
   "execution_count": 16,
   "metadata": {
    "slideshow": {
     "slide_type": "fragment"
    }
   },
   "outputs": [
    {
     "data": {
      "text/plain": [
       "(['1', '2'], ['1', '', '2', ''])"
      ]
     },
     "execution_count": 16,
     "metadata": {},
     "output_type": "execute_result"
    }
   ],
   "source": [
    "'1,2'.split(','), '1,,2,'.split(',')"
   ]
  },
  {
   "cell_type": "markdown",
   "metadata": {
    "slideshow": {
     "slide_type": "slide"
    }
   },
   "source": [
    "# Общие операции с последовательностями"
   ]
  },
  {
   "cell_type": "markdown",
   "metadata": {
    "slideshow": {
     "slide_type": "subslide"
    }
   },
   "source": [
    "| Операция | Результат |\n",
    "| ---      | ---       |\n",
    "|`x in s`     | `True`, если элемент `s` равен `x`, иначе `False`|\n",
    "|`x not in s` | `False`, если элемент `s` равен `x`, else `True` |\n",
    "|`s + t`      | Конкатенация `s` и `t`|\n",
    "|`s * n` or `n * s`| Добавление `s` к самому себе `n` раз |\n",
    "|`len(s)` | длина `s` |\n",
    "|`sum(s)` | сумма чисел `s`|\n",
    "|`min(s)` | наименьший элемент `s` |\n",
    "|`max(s)` | наибольший элемент `s` |\n",
    "|`s.count(x)` | число вхождений элемента `x` в `s` |"
   ]
  },
  {
   "cell_type": "code",
   "execution_count": 17,
   "metadata": {
    "slideshow": {
     "slide_type": "fragment"
    }
   },
   "outputs": [
    {
     "data": {
      "text/plain": [
       "(False, True, 3, 12, 6, 4)"
      ]
     },
     "execution_count": 17,
     "metadata": {},
     "output_type": "execute_result"
    }
   ],
   "source": [
    "'p' in 'Python', 3 in [1,2,3], len([1, 2, 3]), len('Hello World!'), sum([1, 2, 3]), 'sweet home alabama'.count('a')"
   ]
  },
  {
   "cell_type": "markdown",
   "metadata": {
    "slideshow": {
     "slide_type": "slide"
    }
   },
   "source": [
    "# Индексирование и срезы"
   ]
  },
  {
   "cell_type": "markdown",
   "metadata": {
    "slideshow": {
     "slide_type": "fragment"
    }
   },
   "source": [
    "Когда мы говорили об определении последовательности, то мы упомянули, что у элементов есть **порядок нумерации**, который начинается с нуля. И именно засчет этого свойства можно **обращаться к конкретному элементу** последовательности или подпоследовательности, а также **менять элементы списка**."
   ]
  },
  {
   "cell_type": "markdown",
   "metadata": {
    "slideshow": {
     "slide_type": "subslide"
    }
   },
   "source": [
    "### Порядок нумерации\n",
    "Нумерация (индексация) символов в строке `'python'` представлена в таблице:\n",
    "\n",
    "Символы строки | p | y | t | h | o | n\n",
    "-------------  | -- | -- | -- | -- | -- | --\n",
    " Индекс с начала | 0 | 1 | 2 | 3 | 4| 5\n",
    " Индекс с конца | -6 | -5 | -4 | -3 |-2 | -1\n",
    "\n",
    "Как видим нумерация в Питоне есть двух типов:\n",
    "\n",
    "1.  **Нумерация символов с нуля положительными числами**: при попытке обратиться к элементу с номером больше либо равном длине строки возникает ошибка (выход за пределы последовательности).\n",
    "\n",
    "2.  **Нумерация символов строки отрицательными числами**: последний символ строки имеет номер `-1`, предпоследний `-2`, ..., первый имеет номер `-len(s)`; при попытке обратиться к символу с номером, меньшим чем `-len(s)` возникает ошибка (выход за пределы последовательности).\n"
   ]
  },
  {
   "cell_type": "markdown",
   "metadata": {
    "slideshow": {
     "slide_type": "subslide"
    }
   },
   "source": [
    "### Обращение к элементу по индексу\n",
    "\n",
    "Чтобы **получить `i`-ый элемент** последовательности `s` нужно написать `s[i]` (возле переменной стоят квадратные скобки и внутри целое число)."
   ]
  },
  {
   "cell_type": "code",
   "execution_count": 18,
   "metadata": {
    "slideshow": {
     "slide_type": "fragment"
    }
   },
   "outputs": [
    {
     "data": {
      "text/plain": [
       "('h', 'o')"
      ]
     },
     "execution_count": 18,
     "metadata": {},
     "output_type": "execute_result"
    }
   ],
   "source": [
    "s = 'python'\n",
    "s[3], s[-2]"
   ]
  },
  {
   "cell_type": "code",
   "execution_count": 19,
   "metadata": {
    "slideshow": {
     "slide_type": "fragment"
    }
   },
   "outputs": [
    {
     "ename": "IndexError",
     "evalue": "string index out of range",
     "output_type": "error",
     "traceback": [
      "\u001b[0;31m---------------------------------------------------------------------------\u001b[0m",
      "\u001b[0;31mIndexError\u001b[0m                                Traceback (most recent call last)",
      "\u001b[0;32m<ipython-input-19-e045f2696f3a>\u001b[0m in \u001b[0;36m<module>\u001b[0;34m\u001b[0m\n\u001b[0;32m----> 1\u001b[0;31m \u001b[0ms\u001b[0m\u001b[0;34m[\u001b[0m\u001b[0;34m-\u001b[0m\u001b[0;36m10\u001b[0m\u001b[0;34m]\u001b[0m\u001b[0;34m\u001b[0m\u001b[0;34m\u001b[0m\u001b[0m\n\u001b[0m",
      "\u001b[0;31mIndexError\u001b[0m: string index out of range"
     ]
    }
   ],
   "source": [
    "s[-10]"
   ]
  },
  {
   "cell_type": "code",
   "execution_count": 20,
   "metadata": {
    "slideshow": {
     "slide_type": "subslide"
    }
   },
   "outputs": [
    {
     "name": "stdout",
     "output_type": "stream",
     "text": [
      "Какую по счету букву алфавита вы хотите получить? 2\n",
      "Это буква б\n"
     ]
    }
   ],
   "source": [
    "s = 'абвгдеёжзийклмнопрстуфхцчшщъыьэюя'\n",
    "i = int(input('Какую по счету букву алфавита вы хотите получить? '))\n",
    "print('Это буква', s[i - 1])"
   ]
  },
  {
   "cell_type": "markdown",
   "metadata": {
    "slideshow": {
     "slide_type": "subslide"
    }
   },
   "source": [
    "#### Обращение к подпоследовательности (срез)\n",
    "\n",
    "Чтобы **получить подпоследовательность**, существуют _срезы_ с двумя параметрами: в результате применения среза `s[a:b]` будет выдана подпоследовательность начиная с элемента на позиции `a` и заканчивая элементом на позиции `b-1` (**правая граница не включается**). Каждый из индексов может быть как положительным, так и отрицательным."
   ]
  },
  {
   "cell_type": "code",
   "execution_count": 21,
   "metadata": {
    "slideshow": {
     "slide_type": "fragment"
    }
   },
   "outputs": [
    {
     "data": {
      "text/plain": [
       "('thon', 'th', 'th', 'th')"
      ]
     },
     "execution_count": 21,
     "metadata": {},
     "output_type": "execute_result"
    }
   ],
   "source": [
    "s = 'python'\n",
    "s[2:len(s)], s[2:-2], s[-4:4], s[-4:-2]"
   ]
  },
  {
   "cell_type": "markdown",
   "metadata": {
    "slideshow": {
     "slide_type": "subslide"
    }
   },
   "source": [
    "Допустимо (ошибка не возникнет) взять второе число, выходящее за пределы последовательности (то есть большее или равное длине):"
   ]
  },
  {
   "cell_type": "code",
   "execution_count": 22,
   "metadata": {
    "slideshow": {
     "slide_type": "fragment"
    }
   },
   "outputs": [
    {
     "data": {
      "text/plain": [
       "'thon'"
      ]
     },
     "execution_count": 22,
     "metadata": {},
     "output_type": "execute_result"
    }
   ],
   "source": [
    "s[2:10]"
   ]
  },
  {
   "cell_type": "markdown",
   "metadata": {
    "slideshow": {
     "slide_type": "fragment"
    }
   },
   "source": [
    "Если хочется взять элементы начиная с какой-то позиции или до какой-то позиции, то можно оставить один из параметров пустым:"
   ]
  },
  {
   "cell_type": "code",
   "execution_count": 23,
   "metadata": {
    "slideshow": {
     "slide_type": "fragment"
    }
   },
   "outputs": [
    {
     "data": {
      "text/plain": [
       "('pyt', 'ython')"
      ]
     },
     "execution_count": 23,
     "metadata": {},
     "output_type": "execute_result"
    }
   ],
   "source": [
    "s[:-3], s[1:]"
   ]
  },
  {
   "cell_type": "markdown",
   "metadata": {
    "slideshow": {
     "slide_type": "fragment"
    }
   },
   "source": [
    "Если первый параметр находится правее второго, то будет сгенерирована пустая подпоследовательность:"
   ]
  },
  {
   "cell_type": "code",
   "execution_count": 24,
   "metadata": {
    "slideshow": {
     "slide_type": "fragment"
    }
   },
   "outputs": [
    {
     "data": {
      "text/plain": [
       "('', '', '')"
      ]
     },
     "execution_count": 24,
     "metadata": {},
     "output_type": "execute_result"
    }
   ],
   "source": [
    "s[4:2], s[-1:-5], s[4:-3]"
   ]
  },
  {
   "cell_type": "markdown",
   "metadata": {
    "slideshow": {
     "slide_type": "subslide"
    }
   },
   "source": [
    "Также существует срез с тремя параметрами, где **третий параметр задает шаг**, с которым нужно брать элементы:"
   ]
  },
  {
   "cell_type": "code",
   "execution_count": 25,
   "metadata": {
    "slideshow": {
     "slide_type": "fragment"
    }
   },
   "outputs": [
    {
     "data": {
      "text/plain": [
       "'pto'"
      ]
     },
     "execution_count": 25,
     "metadata": {},
     "output_type": "execute_result"
    }
   ],
   "source": [
    "s[::2] # каждый второй символ всей строки начиная с 0 (по сути индекс - четное число)"
   ]
  },
  {
   "cell_type": "markdown",
   "metadata": {
    "slideshow": {
     "slide_type": "fragment"
    }
   },
   "source": [
    "Естественно, первые два параметра можно не опускать:"
   ]
  },
  {
   "cell_type": "code",
   "execution_count": 26,
   "metadata": {
    "slideshow": {
     "slide_type": "fragment"
    }
   },
   "outputs": [
    {
     "data": {
      "text/plain": [
       "'yh'"
      ]
     },
     "execution_count": 26,
     "metadata": {},
     "output_type": "execute_result"
    }
   ],
   "source": [
    "s[1:-1:2] # каждый второй символ со второго до предпоследнего"
   ]
  },
  {
   "cell_type": "markdown",
   "metadata": {
    "slideshow": {
     "slide_type": "subslide"
    }
   },
   "source": [
    "Шаг в срезе может быть и отрицательным:"
   ]
  },
  {
   "cell_type": "code",
   "execution_count": 27,
   "metadata": {
    "slideshow": {
     "slide_type": "fragment"
    }
   },
   "outputs": [
    {
     "data": {
      "text/plain": [
       "'nohtyp'"
      ]
     },
     "execution_count": 27,
     "metadata": {},
     "output_type": "execute_result"
    }
   ],
   "source": [
    "# строка с шагом -1 это просто развернутая строка!\n",
    "s[::-1]"
   ]
  },
  {
   "cell_type": "markdown",
   "metadata": {
    "slideshow": {
     "slide_type": "fragment"
    }
   },
   "source": [
    "Также, в этом случае **первый параметр должен находится правее второго**: "
   ]
  },
  {
   "cell_type": "code",
   "execution_count": 28,
   "metadata": {
    "slideshow": {
     "slide_type": "fragment"
    }
   },
   "outputs": [
    {
     "data": {
      "text/plain": [
       "'ot'"
      ]
     },
     "execution_count": 28,
     "metadata": {},
     "output_type": "execute_result"
    }
   ],
   "source": [
    "s[4:1:-2]"
   ]
  },
  {
   "cell_type": "markdown",
   "metadata": {},
   "source": [
    "### Обращение к элементам вложенных последовательностей\n",
    "\n",
    "Так как мы можем в качестве элементов списка (кортежа) иметь список(кортеж), например, для представления матрицы, то и индексирование можно применить \"вложенным\" образом. Пример:"
   ]
  },
  {
   "cell_type": "code",
   "execution_count": 29,
   "metadata": {},
   "outputs": [
    {
     "data": {
      "text/plain": [
       "(2, [4, 6])"
      ]
     },
     "execution_count": 29,
     "metadata": {},
     "output_type": "execute_result"
    }
   ],
   "source": [
    "matrix = [[1, 2, 3], [4, 5, 6]]\n",
    "matrix[0][1], matrix[-1][::2]"
   ]
  },
  {
   "cell_type": "code",
   "execution_count": 31,
   "metadata": {},
   "outputs": [
    {
     "data": {
      "text/plain": [
       "3"
      ]
     },
     "execution_count": 31,
     "metadata": {},
     "output_type": "execute_result"
    }
   ],
   "source": [
    "tup = (1, (2, 3))\n",
    "tup[1][1]"
   ]
  },
  {
   "cell_type": "markdown",
   "metadata": {},
   "source": [
    "### Изменение элементов списка\n",
    "\n",
    "Напомним, что списки, в отличие от строк и кортежей, изменяемые последовательности! Поэтому обращаясь по индексу можно изменить элемент или подпоследовательность."
   ]
  },
  {
   "cell_type": "code",
   "execution_count": 32,
   "metadata": {},
   "outputs": [
    {
     "data": {
      "text/plain": [
       "['one', 2, 3, 4, 5, 6, 7, 8, 9, 10]"
      ]
     },
     "execution_count": 32,
     "metadata": {},
     "output_type": "execute_result"
    }
   ],
   "source": [
    "l = [1, 2, 3, 4, 5, 6, 7, 8, 9, 10]\n",
    "l[0] = 'one'\n",
    "l"
   ]
  },
  {
   "cell_type": "code",
   "execution_count": 33,
   "metadata": {},
   "outputs": [
    {
     "data": {
      "text/plain": [
       "['one', 2, 'A', 'B', 'C', 6, 7, 8, 9, 10]"
      ]
     },
     "execution_count": 33,
     "metadata": {},
     "output_type": "execute_result"
    }
   ],
   "source": [
    "l[2:5] = ['A', 'B', 'C'] # количество значений должно совпадать обязательно!\n",
    "l"
   ]
  },
  {
   "cell_type": "code",
   "execution_count": 34,
   "metadata": {},
   "outputs": [
    {
     "name": "stdout",
     "output_type": "stream",
     "text": [
      "['!', 2, 'A', '!', 'C', 6, '!', 8, 9, '!']\n"
     ]
    }
   ],
   "source": [
    "l[::3] = '!' * 4\n",
    "print(l)"
   ]
  },
  {
   "cell_type": "markdown",
   "metadata": {
    "slideshow": {
     "slide_type": "subslide"
    }
   },
   "source": [
    "## Упражнения!"
   ]
  },
  {
   "cell_type": "code",
   "execution_count": 35,
   "metadata": {},
   "outputs": [],
   "source": [
    "s = 'Hello world of Python!'"
   ]
  },
  {
   "cell_type": "code",
   "execution_count": 36,
   "metadata": {},
   "outputs": [],
   "source": [
    "# какая длина у строки?"
   ]
  },
  {
   "cell_type": "code",
   "execution_count": 37,
   "metadata": {},
   "outputs": [],
   "source": [
    "# возьми каждый четный символ"
   ]
  },
  {
   "cell_type": "code",
   "execution_count": 38,
   "metadata": {},
   "outputs": [],
   "source": [
    "# возьми каждый нечетный символ"
   ]
  },
  {
   "cell_type": "code",
   "execution_count": 39,
   "metadata": {},
   "outputs": [],
   "source": [
    "# возьми каждый третий символ с конца"
   ]
  },
  {
   "cell_type": "code",
   "execution_count": 40,
   "metadata": {},
   "outputs": [],
   "source": [
    "# возьми первый и последний символ строки"
   ]
  },
  {
   "cell_type": "code",
   "execution_count": 41,
   "metadata": {},
   "outputs": [],
   "source": [
    "# возьми слово Python в развернутом виде"
   ]
  },
  {
   "cell_type": "markdown",
   "metadata": {
    "slideshow": {
     "slide_type": "slide"
    }
   },
   "source": [
    "## Методы списков"
   ]
  },
  {
   "cell_type": "markdown",
   "metadata": {
    "slideshow": {
     "slide_type": "subslide"
    }
   },
   "source": [
    "### `.append(x)`\n",
    "\n",
    "Добавляет элемент в конец последовательности (изменяет сам объект!)"
   ]
  },
  {
   "cell_type": "code",
   "execution_count": 42,
   "metadata": {
    "slideshow": {
     "slide_type": "fragment"
    }
   },
   "outputs": [],
   "source": [
    "l_1 = []"
   ]
  },
  {
   "cell_type": "code",
   "execution_count": 43,
   "metadata": {
    "slideshow": {
     "slide_type": "fragment"
    }
   },
   "outputs": [
    {
     "data": {
      "text/plain": [
       "[3]"
      ]
     },
     "execution_count": 43,
     "metadata": {},
     "output_type": "execute_result"
    }
   ],
   "source": [
    "l_1.append(3)\n",
    "l_1"
   ]
  },
  {
   "cell_type": "markdown",
   "metadata": {
    "slideshow": {
     "slide_type": "subslide"
    }
   },
   "source": [
    "### `.count(x) `\n",
    "Считает количество элементов, равных x"
   ]
  },
  {
   "cell_type": "code",
   "execution_count": 44,
   "metadata": {
    "slideshow": {
     "slide_type": "fragment"
    }
   },
   "outputs": [
    {
     "data": {
      "text/plain": [
       "1"
      ]
     },
     "execution_count": 44,
     "metadata": {},
     "output_type": "execute_result"
    }
   ],
   "source": [
    "l_1.count(3)"
   ]
  },
  {
   "cell_type": "markdown",
   "metadata": {
    "slideshow": {
     "slide_type": "subslide"
    }
   },
   "source": [
    "### `.extend(s)`\n",
    "\n",
    "Добавляет к концу последовательности последовательность `s` любого типа  (изменяет сам объект)."
   ]
  },
  {
   "cell_type": "code",
   "execution_count": 45,
   "metadata": {
    "slideshow": {
     "slide_type": "fragment"
    }
   },
   "outputs": [
    {
     "ename": "TypeError",
     "evalue": "can only concatenate list (not \"tuple\") to list",
     "output_type": "error",
     "traceback": [
      "\u001b[0;31m---------------------------------------------------------------------------\u001b[0m",
      "\u001b[0;31mTypeError\u001b[0m                                 Traceback (most recent call last)",
      "\u001b[0;32m<ipython-input-45-9812ea45e4bd>\u001b[0m in \u001b[0;36m<module>\u001b[0;34m\u001b[0m\n\u001b[0;32m----> 1\u001b[0;31m \u001b[0;34m[\u001b[0m\u001b[0;36m1\u001b[0m\u001b[0;34m,\u001b[0m \u001b[0;36m2\u001b[0m\u001b[0;34m,\u001b[0m \u001b[0;36m3\u001b[0m\u001b[0;34m]\u001b[0m \u001b[0;34m+\u001b[0m \u001b[0;34m(\u001b[0m\u001b[0;36m1\u001b[0m\u001b[0;34m,\u001b[0m \u001b[0;36m2\u001b[0m\u001b[0;34m,\u001b[0m \u001b[0;36m3\u001b[0m\u001b[0;34m)\u001b[0m\u001b[0;34m\u001b[0m\u001b[0;34m\u001b[0m\u001b[0m\n\u001b[0m",
      "\u001b[0;31mTypeError\u001b[0m: can only concatenate list (not \"tuple\") to list"
     ]
    }
   ],
   "source": [
    "[1, 2, 3] + (1, 2, 3)"
   ]
  },
  {
   "cell_type": "code",
   "execution_count": 46,
   "metadata": {
    "slideshow": {
     "slide_type": "fragment"
    }
   },
   "outputs": [
    {
     "data": {
      "text/plain": [
       "[3, '1', '2', '3', '4']"
      ]
     },
     "execution_count": 46,
     "metadata": {},
     "output_type": "execute_result"
    }
   ],
   "source": [
    "l_1.extend('1234')\n",
    "l_1"
   ]
  },
  {
   "cell_type": "markdown",
   "metadata": {
    "slideshow": {
     "slide_type": "subslide"
    }
   },
   "source": [
    "### `.insert(i, x)`\n",
    "\n",
    "Вставляет элемент `x` перед `i`-м элементом (изменяет сам объект)."
   ]
  },
  {
   "cell_type": "code",
   "execution_count": 47,
   "metadata": {
    "slideshow": {
     "slide_type": "fragment"
    }
   },
   "outputs": [
    {
     "data": {
      "text/plain": [
       "[3, '1', 'for', '2', '3', '4']"
      ]
     },
     "execution_count": 47,
     "metadata": {},
     "output_type": "execute_result"
    }
   ],
   "source": [
    "l_1.insert(2, 'for')\n",
    "l_1"
   ]
  },
  {
   "cell_type": "markdown",
   "metadata": {
    "slideshow": {
     "slide_type": "subslide"
    }
   },
   "source": [
    "### `.pop(i)` \n",
    "\n",
    "Возвращает `i`-й элемент, удаляя его из последовательности."
   ]
  },
  {
   "cell_type": "code",
   "execution_count": 48,
   "metadata": {
    "slideshow": {
     "slide_type": "fragment"
    }
   },
   "outputs": [
    {
     "data": {
      "text/plain": [
       "([1, 2, 4, 5], 3)"
      ]
     },
     "execution_count": 48,
     "metadata": {},
     "output_type": "execute_result"
    }
   ],
   "source": [
    "l = [1, 2, 3, 4, 5]\n",
    "three = l.pop(2)\n",
    "l, three"
   ]
  },
  {
   "cell_type": "markdown",
   "metadata": {
    "slideshow": {
     "slide_type": "subslide"
    }
   },
   "source": [
    "### `.reverse()` \n",
    "Меняет порядок элементов списка на обратный (изменяет сам объект). Функция `reversed(s)` возвращает развернутую последовательность (но не список!) не меняя сам объект."
   ]
  },
  {
   "cell_type": "code",
   "execution_count": 49,
   "metadata": {
    "slideshow": {
     "slide_type": "fragment"
    }
   },
   "outputs": [
    {
     "data": {
      "text/plain": [
       "[5, 4, 3, 2, 1]"
      ]
     },
     "execution_count": 49,
     "metadata": {},
     "output_type": "execute_result"
    }
   ],
   "source": [
    "l = [1, 2, 3, 4, 5]\n",
    "l.reverse()\n",
    "l"
   ]
  },
  {
   "cell_type": "code",
   "execution_count": 50,
   "metadata": {
    "slideshow": {
     "slide_type": "fragment"
    }
   },
   "outputs": [
    {
     "data": {
      "text/plain": [
       "[1, 2, 3, 4, 5]"
      ]
     },
     "execution_count": 50,
     "metadata": {},
     "output_type": "execute_result"
    }
   ],
   "source": [
    "list(reversed(l))"
   ]
  },
  {
   "cell_type": "markdown",
   "metadata": {
    "slideshow": {
     "slide_type": "subslide"
    }
   },
   "source": [
    "### `.sort()` \n",
    "Сортирует элементы списка (изменяет сам объект). Функция `sorted(s)` возвращает отсортированный список."
   ]
  },
  {
   "cell_type": "code",
   "execution_count": 51,
   "metadata": {
    "slideshow": {
     "slide_type": "fragment"
    }
   },
   "outputs": [
    {
     "data": {
      "text/plain": [
       "[1, 2, 3, 4, 5]"
      ]
     },
     "execution_count": 51,
     "metadata": {},
     "output_type": "execute_result"
    }
   ],
   "source": [
    "l.sort()\n",
    "l"
   ]
  },
  {
   "cell_type": "code",
   "execution_count": 52,
   "metadata": {
    "slideshow": {
     "slide_type": "fragment"
    }
   },
   "outputs": [
    {
     "data": {
      "text/plain": [
       "['1', '2', '4']"
      ]
     },
     "execution_count": 52,
     "metadata": {},
     "output_type": "execute_result"
    }
   ],
   "source": [
    "sorted('241')"
   ]
  },
  {
   "cell_type": "markdown",
   "metadata": {
    "slideshow": {
     "slide_type": "subslide"
    }
   },
   "source": [
    "### `.copy()`\n",
    "\n",
    "Создает копию списка и возвращает его как новый объект."
   ]
  },
  {
   "cell_type": "code",
   "execution_count": 53,
   "metadata": {
    "slideshow": {
     "slide_type": "fragment"
    }
   },
   "outputs": [
    {
     "data": {
      "text/plain": [
       "[1, 2, 3, 4, 5]"
      ]
     },
     "execution_count": 53,
     "metadata": {},
     "output_type": "execute_result"
    }
   ],
   "source": [
    "l_copy = l.copy() # то же самое можно сделать если использовать срез от начала до окнца l[:]\n",
    "l_copy"
   ]
  },
  {
   "cell_type": "markdown",
   "metadata": {
    "slideshow": {
     "slide_type": "subslide"
    }
   },
   "source": [
    "Это довольно важно, потому что если просто попробовать скопировать список в другой вот так:"
   ]
  },
  {
   "cell_type": "code",
   "execution_count": 54,
   "metadata": {
    "slideshow": {
     "slide_type": "fragment"
    }
   },
   "outputs": [
    {
     "name": "stdout",
     "output_type": "stream",
     "text": [
      "[1, 2, 3, 4, 5]\n"
     ]
    }
   ],
   "source": [
    "new_l = l\n",
    "print(new_l)"
   ]
  },
  {
   "cell_type": "markdown",
   "metadata": {
    "slideshow": {
     "slide_type": "fragment"
    }
   },
   "source": [
    "А потом изменить что-то в изначальном списке:"
   ]
  },
  {
   "cell_type": "code",
   "execution_count": 55,
   "metadata": {
    "slideshow": {
     "slide_type": "fragment"
    }
   },
   "outputs": [],
   "source": [
    "l[0] = 100\n",
    "l[-1] = 0"
   ]
  },
  {
   "cell_type": "markdown",
   "metadata": {
    "slideshow": {
     "slide_type": "fragment"
    }
   },
   "source": [
    "То в \"скопированном\" оно тоже поменяется:"
   ]
  },
  {
   "cell_type": "code",
   "execution_count": 56,
   "metadata": {
    "slideshow": {
     "slide_type": "fragment"
    }
   },
   "outputs": [
    {
     "name": "stdout",
     "output_type": "stream",
     "text": [
      "[100, 2, 3, 4, 0] [100, 2, 3, 4, 0]\n"
     ]
    }
   ],
   "source": [
    "print(l, new_l)"
   ]
  },
  {
   "cell_type": "markdown",
   "metadata": {
    "slideshow": {
     "slide_type": "subslide"
    }
   },
   "source": [
    "Если сделать правильно, то все будет хорошо:"
   ]
  },
  {
   "cell_type": "code",
   "execution_count": 57,
   "metadata": {
    "slideshow": {
     "slide_type": "fragment"
    }
   },
   "outputs": [
    {
     "name": "stdout",
     "output_type": "stream",
     "text": [
      "[1, 2, 3, 4, 5]\n",
      "[100, 2, 3, 4, 'wow']\n",
      "[1, 2, 3, 4, 5]\n"
     ]
    }
   ],
   "source": [
    "l = [1, 2, 3, 4, 5]\n",
    "l_copy = l.copy()\n",
    "print(l_copy)\n",
    "l[0] = 100\n",
    "l[-1] = 'wow'\n",
    "print(l)\n",
    "print(l_copy)"
   ]
  },
  {
   "cell_type": "markdown",
   "metadata": {
    "slideshow": {
     "slide_type": "slide"
    }
   },
   "source": [
    "# Проход по элементам"
   ]
  },
  {
   "cell_type": "markdown",
   "metadata": {
    "slideshow": {
     "slide_type": "subslide"
    }
   },
   "source": [
    "Давайте кратко изучим конструкцию цикла, с помощью которой можно пройтись по элементам последовательностию На следующем занятии мы более подробно изучим цикл `for ... in`, сейчас нам необходимо научиться \"идти\" по последовательности."
   ]
  },
  {
   "cell_type": "code",
   "execution_count": 58,
   "metadata": {},
   "outputs": [
    {
     "name": "stdout",
     "output_type": "stream",
     "text": [
      "По элементам:\n",
      "1\n",
      "2\n",
      "3\n",
      "4\n",
      "5\n",
      "По индексам:\n",
      "1\n",
      "2\n",
      "3\n",
      "4\n",
      "5\n"
     ]
    }
   ],
   "source": [
    "s = [1, 2, 3, 4 , 5]\n",
    "print('По элементам:')\n",
    "for element in s:\n",
    "    print(element)\n",
    "print('По индексам:')\n",
    "for i in range(0, len(s), 1):\n",
    "    print(s[i])"
   ]
  },
  {
   "cell_type": "code",
   "execution_count": 59,
   "metadata": {
    "slideshow": {
     "slide_type": "subslide"
    }
   },
   "outputs": [
    {
     "name": "stdout",
     "output_type": "stream",
     "text": [
      "15\n"
     ]
    }
   ],
   "source": [
    "# Сумма элементов\n",
    "summa = 0\n",
    "for x in s:\n",
    "    summa += x\n",
    "print(summa)"
   ]
  },
  {
   "cell_type": "code",
   "execution_count": 60,
   "metadata": {
    "slideshow": {
     "slide_type": "subslide"
    }
   },
   "outputs": [
    {
     "name": "stdout",
     "output_type": "stream",
     "text": [
      "1 2 3 4 5\n"
     ]
    },
    {
     "data": {
      "text/plain": [
       "15"
      ]
     },
     "execution_count": 60,
     "metadata": {},
     "output_type": "execute_result"
    }
   ],
   "source": [
    "# Ввод списка чисел\n",
    "l = input()\n",
    "l = l.split(' ')\n",
    "for i in range(len(l)):\n",
    "    l[i] = int(l[i])\n",
    "sum(l)"
   ]
  },
  {
   "cell_type": "code",
   "execution_count": 61,
   "metadata": {
    "slideshow": {
     "slide_type": "subslide"
    }
   },
   "outputs": [
    {
     "name": "stdout",
     "output_type": "stream",
     "text": [
      "3\n",
      "3\n",
      "10 20 30\n",
      "1 2 3\n",
      "42 57 69\n",
      "[[10, 20, 30], [1, 2, 3], [42, 57, 69]]\n"
     ]
    }
   ],
   "source": [
    "# Ввод матрицы\n",
    "n, m = int(input()), int(input())\n",
    "matrix = []\n",
    "for i in range(n):\n",
    "    row = input().split()\n",
    "    for i in range(m):\n",
    "        row[i] = int(row[i])\n",
    "    matrix.append(row)\n",
    "print(matrix)"
   ]
  }
 ],
 "metadata": {
  "celltoolbar": "Slideshow",
  "kernelspec": {
   "display_name": "Python 3",
   "language": "python",
   "name": "python3"
  },
  "language_info": {
   "codemirror_mode": {
    "name": "ipython",
    "version": 3
   },
   "file_extension": ".py",
   "mimetype": "text/x-python",
   "name": "python",
   "nbconvert_exporter": "python",
   "pygments_lexer": "ipython3",
   "version": "3.6.9"
  }
 },
 "nbformat": 4,
 "nbformat_minor": 2
}
