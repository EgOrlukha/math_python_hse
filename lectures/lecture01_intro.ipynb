{
 "cells": [
  {
   "cell_type": "markdown",
   "metadata": {
    "slideshow": {
     "slide_type": "slide"
    }
   },
   "source": [
    "<span style=\"color:green; font-size:4em;\">Лекция №1</span>\n",
    "\n",
    "---\n",
    "\n",
    "<span style=\"font-size:2em;\">Вводные курса. Установка ПО.<br/><br/>\n",
    "Введение в Python.</span>"
   ]
  },
  {
   "cell_type": "markdown",
   "metadata": {
    "slideshow": {
     "slide_type": "slide"
    }
   },
   "source": [
    "<span style=\"color:green; font-size:4em;\">Вводные курса</span>"
   ]
  },
  {
   "cell_type": "markdown",
   "metadata": {
    "slideshow": {
     "slide_type": "subslide"
    }
   },
   "source": [
    "<span style=\"color:green; font-size:3em;\">Страница курса</span>\n",
    "\n",
    "<br/>\n",
    "<span style=\"font-size:1.5em;\">\n",
    "➡️  Открываем wiki.cs.hse.ru<br/>\n",
    "&emsp;➡️  Курсы в рамках проекта Data Culture<br/>\n",
    "&emsp;&emsp;➡️  Основы программирования на Python-1</span>\n",
    "\n",
    "<img src=\"qrcode.png\" alt=\"QR Code to Wiki\" class=\"center\">\n",
    "\n",
    "<span style=\"font-size:1.5em;\">\n",
    "💬  Чат в телеграме $-$ для общения и вопросов.<br/>\n",
    "📢  Канал в телеграме $-$ для актуальных новостей.</span>"
   ]
  },
  {
   "cell_type": "markdown",
   "metadata": {
    "slideshow": {
     "slide_type": "subslide"
    }
   },
   "source": [
    "<span style=\"color:green; font-size:3em;\">Формула оценивания</span>\n",
    "<br/><br/>\n",
    "<span style=\"font-size:2em;\">\n",
    "$$О_{итог} = 0.4 * O_{семинары} + 0.6 * O_{ДЗ}$$<br/></span>\n",
    "\n",
    "<span style=\"font-size:1.5em;\">\n",
    "📚 В конце каждого семинара выполняются самостоятельные задания, которые можно дорешивать до следующего семинара. Итоговая оценка за семинарскую часть по 10-ти балльной шкале вычисляется следующим образом:\n",
    "$$(\\text{набранные баллы } / \\text{ сумма баллов}) * 10 + 1.5$$\n",
    "<br/>\n",
    "📝 Будет 3 домашних задания с равнозначным весом, на выполнения каждого дается около 3х недель\n",
    "</span>"
   ]
  },
  {
   "cell_type": "markdown",
   "metadata": {
    "slideshow": {
     "slide_type": "subslide"
    }
   },
   "source": [
    "<span style=\"color:green; font-size:3em;\">Пилотная группа</span>\n",
    "\n",
    "Желающим студентам предоставляется возможность сдать **тестовое задание** на знание программы курса и перейти в пилотную группу\n",
    "\n",
    "<span style=\"font-size:1.5em;\">\n",
    "📍  Мидтерм и экзамен $-$ очные контесты по алгоритмам<br/>\n",
    "📍  Неоцениваемые задачи для самостоятельного изучения, по темам которых будут упомянутые контрольные<br/>\n",
    "📍  Отказаться от перехода можно вплоть до конца первого модуля, тогда ему засчитываются пропущенные формы контроля (семинары, ДЗ1)<br/>\n",
    "📍  Формула оценивания:</span>\n",
    "<br/><br/>\n",
    "<span style=\"font-size:2em;\">\n",
    "$$О_{итог} = 6 + 0.2 * O_{мидтерм} + 0.2 * O_{экзамен}$$<br/><br/></span>\n"
   ]
  },
  {
   "cell_type": "markdown",
   "metadata": {
    "slideshow": {
     "slide_type": "slide"
    }
   },
   "source": [
    "<span style=\"color:green; font-size:4em;\">Установка ПО</span>"
   ]
  },
  {
   "cell_type": "markdown",
   "metadata": {
    "slideshow": {
     "slide_type": "subslide"
    }
   },
   "source": [
    "<span style=\"color:green; font-size:3em;\">Jupyter Notebook</span>\n",
    "\n",
    "<img src=\"https://i2.wp.com/softwareengineeringdaily.com/wp-content/uploads/2018/07/jupyter-logo-featured-image.png?resize=600%2C315&ssl=1 \" style=\"float:right\" width=\"200\"/>\n",
    "\n",
    "**Jupyter Notebook** *(джупитер ноутбук, тетрадка, ноутбук, ипунб-файл)* $-$ это программа для *интерактивных* вычислений.\n",
    "Тут можно писать текст, код на языке Python, выводить картинки, работать с командной строкой.\n",
    "\n",
    "Например:"
   ]
  },
  {
   "cell_type": "code",
   "execution_count": 3,
   "metadata": {
    "slideshow": {
     "slide_type": "fragment"
    }
   },
   "outputs": [
    {
     "name": "stdout",
     "output_type": "stream",
     "text": [
      "Hello World!\n"
     ]
    }
   ],
   "source": [
    "print('Hello World!')"
   ]
  },
  {
   "cell_type": "code",
   "execution_count": 5,
   "metadata": {
    "slideshow": {
     "slide_type": "fragment"
    }
   },
   "outputs": [
    {
     "name": "stdout",
     "output_type": "stream",
     "text": [
      "Hello World!\r\n"
     ]
    }
   ],
   "source": [
    "!echo Hello World!"
   ]
  },
  {
   "cell_type": "markdown",
   "metadata": {
    "slideshow": {
     "slide_type": "subslide"
    }
   },
   "source": [
    "Инструкция по установке Jupyter   \n",
    "1й вариант: если windows 10 или linux, то через ubuntu, pip install   \n",
    "2й вариант: скачать миниконду https://docs.conda.io/en/latest/miniconda.html и дальше conda install   \n",
    "3й вариант: работать в colaboratory   "
   ]
  },
  {
   "cell_type": "markdown",
   "metadata": {
    "slideshow": {
     "slide_type": "subslide"
    }
   },
   "source": [
    "Инструкция по работе с Jupyter\n",
    "\n",
    "как создавать файлы, как создавать ячейки \n",
    "\n",
    "Или просто прикрепить ссылку на туториал!"
   ]
  },
  {
   "cell_type": "markdown",
   "metadata": {
    "slideshow": {
     "slide_type": "subslide"
    }
   },
   "source": [
    "<span style=\"color:green; font-size:3em;\">PyCharm</span>\n",
    "\n",
    "Обычно программируют не в ноутбуке, а в средах разработки для Python, одна из самых популярных - Pycharm. Её можно (и нужно!) скачать тут: https://www.jetbrains.com/pycharm/download/\n",
    "\n",
    "Прикрепить ссылку на туториал по работе с пайчарм + тесты + дебаг"
   ]
  },
  {
   "cell_type": "markdown",
   "metadata": {
    "slideshow": {
     "slide_type": "subslide"
    }
   },
   "source": [
    "<span style=\"color:green; font-size:3em;\">Yandex Contest</span>\n",
    "\n",
    "Семинарские задачи будут сдаваться на платформе Яндекс.Контест. Ссылка на пробную задачу, показываем как сдавать."
   ]
  },
  {
   "cell_type": "markdown",
   "metadata": {
    "slideshow": {
     "slide_type": "slide"
    }
   },
   "source": [
    "<span style=\"color:green; font-size:4em;\">Введение в Python</span>\n",
    "<img src=\"https://upload.wikimedia.org/wikipedia/commons/thumb/c/c3/Python-logo-notext.svg/768px-Python-logo-notext.svg.png\" width=\"300px\" style=\"float:right\"/>"
   ]
  },
  {
   "cell_type": "markdown",
   "metadata": {
    "slideshow": {
     "slide_type": "subslide"
    }
   },
   "source": [
    "<span style=\"color:green; font-size:2em;\"> Функция <code>print()</code></span>\n",
    "\n",
    "<span style=\"font-size:1.5em;\">Для печати значений в Питоне есть функция <code>print()</code>. Внутри круглых скобок через запятую мы пишем то, что хотим вывести. Вот программа, которая делает несколько выводов и вычислений:</span>"
   ]
  },
  {
   "cell_type": "code",
   "execution_count": 11,
   "metadata": {
    "slideshow": {
     "slide_type": "fragment"
    }
   },
   "outputs": [
    {
     "name": "stdout",
     "output_type": "stream",
     "text": [
      "Hi!\n",
      "Второй hi!\n",
      "fisrt\n",
      "second\n",
      "🙂\n"
     ]
    }
   ],
   "source": [
    "print('Hi!')\n",
    "print('Второй hi!')                 # каждый print выводится на новой строке\n",
    "print('fisrt'), print('second')     # даже если написать так\n",
    "print('🙂')                         # да даже смайлики можно!"
   ]
  },
  {
   "cell_type": "code",
   "execution_count": 14,
   "metadata": {
    "slideshow": {
     "slide_type": "fragment"
    }
   },
   "outputs": [
    {
     "name": "stdout",
     "output_type": "stream",
     "text": [
      "А еще умею считать, вот, например, 2х2 = 4\n",
      "2 в степени 10 равно 1024\n"
     ]
    }
   ],
   "source": [
    "print('А еще умею считать, вот, например, 2х2 =', 2 * 2) \n",
    "print('2 в степени 10 равно', 2**10)  # две звёздочки означают возведение в степень"
   ]
  },
  {
   "cell_type": "markdown",
   "metadata": {
    "slideshow": {
     "slide_type": "subslide"
    }
   },
   "source": [
    "Также у функции есть два полезных параметра: <code>sep</code> (separator) и <code>end</code> (на самом деле если они не указываются в коде, то они равны пробелу и переносу строки по дефолту, но о таком свойстве функций мы позже поговорим)."
   ]
  },
  {
   "cell_type": "code",
   "execution_count": 24,
   "metadata": {
    "slideshow": {
     "slide_type": "fragment"
    }
   },
   "outputs": [
    {
     "name": "stdout",
     "output_type": "stream",
     "text": [
      "Aa!Bb~Cc..."
     ]
    }
   ],
   "source": [
    "print('Aa', end='!')\n",
    "print('Bb', end='~')\n",
    "print('Cc', end='...')"
   ]
  },
  {
   "cell_type": "code",
   "execution_count": 26,
   "metadata": {
    "slideshow": {
     "slide_type": "fragment"
    }
   },
   "outputs": [
    {
     "name": "stdout",
     "output_type": "stream",
     "text": [
      "1 + 2 + 3 + 4 = 10\n"
     ]
    }
   ],
   "source": [
    "print(1, 2, 3, 4, sep=' + ', end=' = ')\n",
    "print(1 + 2 + 3 + 4)"
   ]
  },
  {
   "cell_type": "markdown",
   "metadata": {
    "slideshow": {
     "slide_type": "fragment"
    }
   },
   "source": [
    "В Питоне есть два специальных символа, которые могут быть полезны:"
   ]
  },
  {
   "cell_type": "code",
   "execution_count": 28,
   "metadata": {
    "slideshow": {
     "slide_type": "fragment"
    }
   },
   "outputs": [
    {
     "name": "stdout",
     "output_type": "stream",
     "text": [
      "\tслева от меня таб (4 пробела) \n",
      "а вот я уже на другой строке!\n"
     ]
    }
   ],
   "source": [
    "print('\\tслева от меня таб (4 пробела) \\nа вот я уже на другой строке!')  \n",
    "# специальный символ \\t заменяет таб (4 пробела), \n",
    "# \\n означает перенос строки, сами они не выводятся"
   ]
  },
  {
   "cell_type": "markdown",
   "metadata": {
    "slideshow": {
     "slide_type": "subslide"
    }
   },
   "source": [
    "<span style=\"color:green; font-size:2em;\">Арифметика</span>\n",
    "\n",
    "|||||\n",
    "| --- |-----------| ------- |-----------------------|\n",
    "| <code>+</code> | сложение  | <code>-</code>     | вычитание             |\n",
    "| <code>*</code> | умножение | <code>**</code>    | возведение в степень  |\n",
    "| <code>/</code> | деление   | <code>//</code>    | целочисленное деление |\n",
    "| <code>%</code> | остаток   | <code>abs()</code> | модуль                |\n",
    "\n",
    "В начале выполняются операции с большим приоритетом. Приоритеты операций в порядке убывания: <code>**</code>; <code>*</code> <code>/</code> <code>//</code> <code>%</code>; <code>+</code> <code>-</code>.\n"
   ]
  },
  {
   "cell_type": "code",
   "execution_count": 30,
   "metadata": {
    "slideshow": {
     "slide_type": "fragment"
    }
   },
   "outputs": [
    {
     "data": {
      "text/plain": [
       "-19"
      ]
     },
     "execution_count": 30,
     "metadata": {},
     "output_type": "execute_result"
    }
   ],
   "source": [
    "# Чему будет равно выражение?\n",
    "1 - 2 ** 2 * 5"
   ]
  },
  {
   "cell_type": "markdown",
   "metadata": {
    "slideshow": {
     "slide_type": "fragment"
    }
   },
   "source": [
    "В ячейке выше мы видим текст внутри кода, так называемый **комментарий**, для начала комментария есть специальны символ - решетка. Комментарий может стоять на отдельной строчке или после строчки кода."
   ]
  },
  {
   "cell_type": "code",
   "execution_count": null,
   "metadata": {
    "slideshow": {
     "slide_type": "subslide"
    }
   },
   "outputs": [],
   "source": []
  }
 ],
 "metadata": {
  "celltoolbar": "Slideshow",
  "kernelspec": {
   "display_name": "Python 3",
   "language": "python",
   "name": "python3"
  },
  "language_info": {
   "codemirror_mode": {
    "name": "ipython",
    "version": 3
   },
   "file_extension": ".py",
   "mimetype": "text/x-python",
   "name": "python",
   "nbconvert_exporter": "python",
   "pygments_lexer": "ipython3",
   "version": "3.6.9"
  }
 },
 "nbformat": 4,
 "nbformat_minor": 2
}
