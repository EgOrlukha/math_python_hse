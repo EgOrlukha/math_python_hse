{
 "cells": [
  {
   "cell_type": "markdown",
   "metadata": {
    "slideshow": {
     "slide_type": "slide"
    }
   },
   "source": [
    "#  06. Строки. Форматирование. \n",
    "\n",
    "---"
   ]
  },
  {
   "cell_type": "markdown",
   "metadata": {
    "slideshow": {
     "slide_type": "subslide"
    }
   },
   "source": [
    "##  Методы строк  \n",
    "\n",
    "Мы уже знаем что-то про строки (впрочем, основное, что нужно о них знать) - как брать срезы (подпоследовательности) строк, как их складывать, как узнать длину строки, два полезных метода `join` и `split`.\n",
    "\n",
    "Сегодня мы продолжим тему строк и узнаем еще несколько ключевых функций/методов для работы с этим типом данных."
   ]
  },
  {
   "cell_type": "markdown",
   "metadata": {
    "slideshow": {
     "slide_type": "subslide"
    }
   },
   "source": [
    "###  Метод `find`  \n",
    "\n",
    "Это метод поиска подстроки в строке, как легко понять из названия. Он возвращает индекс (только неотрицательный) **первого** вхождения подстроки в строку, а если она не нашлась то -1."
   ]
  },
  {
   "cell_type": "code",
   "execution_count": null,
   "metadata": {
    "slideshow": {
     "slide_type": "fragment"
    }
   },
   "outputs": [],
   "source": [
    "s = 'python string'\n",
    "s.find('o'), s.find('str'), s.find('P')"
   ]
  },
  {
   "cell_type": "code",
   "execution_count": null,
   "metadata": {
    "slideshow": {
     "slide_type": "fragment"
    }
   },
   "outputs": [],
   "source": [
    "s.find('t')"
   ]
  },
  {
   "cell_type": "markdown",
   "metadata": {
    "slideshow": {
     "slide_type": "subslide"
    }
   },
   "source": [
    "Как видим `t` было найдено только одно - в слове python. В методе есть позиционные параметры в каком интервале искать подстроку. То есть метод выглядит в \"общем\" виде так:\n",
    "\n",
    "`Строка.find(ИскомаяПодстрока, Старт, Конец)`"
   ]
  },
  {
   "cell_type": "code",
   "execution_count": null,
   "metadata": {
    "slideshow": {
     "slide_type": "fragment"
    }
   },
   "outputs": [],
   "source": [
    "s = 'python string'\n",
    "s.find('t', 0, 5), s.find('t', -5, -2), s.find('t', s.find('t') + 1), s.find('th', 5)"
   ]
  },
  {
   "cell_type": "markdown",
   "metadata": {
    "slideshow": {
     "slide_type": "subslide"
    }
   },
   "source": [
    "### Метод `rfind` \n",
    "\n",
    "Он работает аналогично `find`, но ищет самое **правое вхождение** (первое с конца)."
   ]
  },
  {
   "cell_type": "code",
   "execution_count": null,
   "metadata": {
    "slideshow": {
     "slide_type": "fragment"
    }
   },
   "outputs": [],
   "source": [
    "s = 'python to do'\n",
    "s.rfind('t')"
   ]
  },
  {
   "cell_type": "code",
   "execution_count": null,
   "metadata": {
    "slideshow": {
     "slide_type": "fragment"
    }
   },
   "outputs": [],
   "source": [
    "s.rfind('t', -5, 8)"
   ]
  },
  {
   "cell_type": "markdown",
   "metadata": {
    "slideshow": {
     "slide_type": "subslide"
    }
   },
   "source": [
    "### Метод `replace`  \n",
    "\n",
    "Имеет три позиционных параметра - `old`, `new` и необязательный `count`. Возвращает строку, в которой все вхождения или, если указано, `count` первых вхождений подстроки `old` заменены на подстроку `new`."
   ]
  },
  {
   "cell_type": "code",
   "execution_count": null,
   "metadata": {
    "slideshow": {
     "slide_type": "fragment"
    }
   },
   "outputs": [],
   "source": [
    "s = 'Python 3 Python 3'\n",
    "s_new = s.replace('P', 'C')\n",
    "s_new2 = s_new.replace('3', ';)')\n",
    "print(s, s_new, s_new2, sep=' -> ')"
   ]
  },
  {
   "cell_type": "code",
   "execution_count": null,
   "metadata": {
    "slideshow": {
     "slide_type": "fragment"
    }
   },
   "outputs": [],
   "source": [
    "s = 'AAAAAAAA' # 8 букв А\n",
    "s_new = s.replace('AA', 'A')\n",
    "s_new2 = s.replace('AA', 'A', 2)\n",
    "print(s, s_new, s_new2)"
   ]
  },
  {
   "cell_type": "markdown",
   "metadata": {
    "slideshow": {
     "slide_type": "subslide"
    }
   },
   "source": [
    "### Метод `count` \n",
    "\n",
    "Выдает целое число - количество непересекающихся вхождений подстроки. По аналогии с методом `find` есть параметры интервала поиска."
   ]
  },
  {
   "cell_type": "code",
   "execution_count": null,
   "metadata": {
    "slideshow": {
     "slide_type": "fragment"
    }
   },
   "outputs": [],
   "source": [
    "s = 'python python 3'\n",
    "s.count('python ') # обратите внимание на пробел"
   ]
  },
  {
   "cell_type": "code",
   "execution_count": null,
   "metadata": {
    "slideshow": {
     "slide_type": "fragment"
    }
   },
   "outputs": [],
   "source": [
    "s = 'AAAAAAAA' # 8 букв А\n",
    "s.count('A'), s.count('AA', 3, 7), s.count('AAA', 3, 7), s[3:7] \n",
    "# обратитет внимание, что вхождения подстрок НЕ ПЕРЕСЕКАЮТСЯ!"
   ]
  },
  {
   "cell_type": "markdown",
   "metadata": {
    "slideshow": {
     "slide_type": "subslide"
    }
   },
   "source": [
    "### Другие методы \n",
    "\n",
    "**Методы, проверяющие состав строки**\n",
    "\n",
    "`S.isdigit()`\tСостоит ли строка ТОЛЬКО из цифр"
   ]
  },
  {
   "cell_type": "code",
   "execution_count": null,
   "metadata": {
    "slideshow": {
     "slide_type": "fragment"
    }
   },
   "outputs": [],
   "source": [
    "'123'.isdigit(), '1a'.isdigit(), '1,2,3'.isdigit(), '1 2 3'.isdigit(), ''.isdigit(), ' '.isdigit(), "
   ]
  },
  {
   "cell_type": "markdown",
   "metadata": {
    "slideshow": {
     "slide_type": "subslide"
    }
   },
   "source": [
    "`S.isalpha()`\tСостоит ли строка только из букв"
   ]
  },
  {
   "cell_type": "code",
   "execution_count": null,
   "metadata": {
    "slideshow": {
     "slide_type": "fragment"
    }
   },
   "outputs": [],
   "source": [
    "'абвσ'.isalpha(), 'a1b2b3'.isalpha(), 'a,b,c'.isalpha(), 'a b c'.isalpha(), ''.isalpha(), ' '.isalpha()"
   ]
  },
  {
   "cell_type": "markdown",
   "metadata": {
    "slideshow": {
     "slide_type": "subslide"
    }
   },
   "source": [
    "`S.isalnum()`\tСостоит ли строка из цифр или букв"
   ]
  },
  {
   "cell_type": "code",
   "execution_count": null,
   "metadata": {
    "slideshow": {
     "slide_type": "fragment"
    }
   },
   "outputs": [],
   "source": [
    "'a'.isalnum(), '1'.isalnum(), 'a1'.isalnum(), \\\n",
    "'a,1'.isalnum(), 'a 1'.isalnum(), ''.isalnum(), ' '.isalnum()"
   ]
  },
  {
   "cell_type": "markdown",
   "metadata": {
    "slideshow": {
     "slide_type": "subslide"
    }
   },
   "source": [
    "`S.islower()`\tСостоит ли строка только из символов в нижнем регистре"
   ]
  },
  {
   "cell_type": "code",
   "execution_count": null,
   "metadata": {
    "slideshow": {
     "slide_type": "fragment"
    }
   },
   "outputs": [],
   "source": [
    "'s'.islower(), 's,s'.islower(), ','.islower(), '1'.islower(),\\\n",
    "'S'.islower(), ''.islower(), ' '.islower()"
   ]
  },
  {
   "cell_type": "markdown",
   "metadata": {
    "slideshow": {
     "slide_type": "subslide"
    }
   },
   "source": [
    "`S.isupper()`\tСостоит ли строка только из символов в верхнем регистре"
   ]
  },
  {
   "cell_type": "code",
   "execution_count": null,
   "metadata": {
    "slideshow": {
     "slide_type": "fragment"
    }
   },
   "outputs": [],
   "source": [
    "'S'.isupper(), 'S,S'.isupper(), ','.isupper(), '1'.isupper(),\\\n",
    "'s'.isupper(), ''.isupper(), ' '.isupper()"
   ]
  },
  {
   "cell_type": "markdown",
   "metadata": {
    "slideshow": {
     "slide_type": "subslide"
    }
   },
   "source": [
    "`S.istitle()`\tНачинаются ли все слова (слова := идущие подряд символы без пробела) в строке с заглавной буквы"
   ]
  },
  {
   "cell_type": "code",
   "execution_count": null,
   "metadata": {
    "slideshow": {
     "slide_type": "fragment"
    }
   },
   "outputs": [],
   "source": [
    "'Python 3 Python'.istitle(), 'A'.istitle(), '!P'.istitle(), 'python 3'.istitle(), \\\n",
    "'Python 3 python'.istitle(), '3py'.istitle(), ''.istitle(), ' '.istitle()"
   ]
  },
  {
   "cell_type": "markdown",
   "metadata": {
    "slideshow": {
     "slide_type": "subslide"
    }
   },
   "source": [
    "`S.startswith(str, start=0, end=-1)`\tНачинается ли строка `S[start:end]` со строки `str`."
   ]
  },
  {
   "cell_type": "code",
   "execution_count": null,
   "metadata": {
    "slideshow": {
     "slide_type": "fragment"
    }
   },
   "outputs": [],
   "source": [
    "myfiles = ['forloop.png', 'lecture01_intro.ipynb', 'lecture01_intro_slides.ipynb', \n",
    "           'lecture02_if.ipynb', 'lecture02_if_slides.ipynb', 'lecture03_container.ipynb', \n",
    "           'lecture03_container_slides.ipynb', 'lecture04_for.ipynb', 'lecture04_for_slides.ipynb', \n",
    "           'lecture05_def.ipynb',  'lecture05_def_slides.ipynb', 'lecture06_str_slides.ipynb', \n",
    "           'qrcode.png']\n",
    "\n",
    "for file in myfiles:\n",
    "    print(file.startswith('lecture'), end=', ')"
   ]
  },
  {
   "cell_type": "markdown",
   "metadata": {
    "slideshow": {
     "slide_type": "subslide"
    }
   },
   "source": [
    "`S.endswith(str)`\tЗаканчивается ли строка `S` строкой `str`"
   ]
  },
  {
   "cell_type": "code",
   "execution_count": null,
   "metadata": {
    "slideshow": {
     "slide_type": "fragment"
    }
   },
   "outputs": [],
   "source": [
    "for file in myfiles:\n",
    "    print(file.endswith('.png'), end=', ')"
   ]
  },
  {
   "cell_type": "code",
   "execution_count": null,
   "metadata": {
    "slideshow": {
     "slide_type": "fragment"
    }
   },
   "outputs": [],
   "source": [
    "for file in myfiles:\n",
    "    print(file.split('.')[0].endswith('slides'), end=', ')"
   ]
  },
  {
   "cell_type": "markdown",
   "metadata": {
    "slideshow": {
     "slide_type": "subslide"
    }
   },
   "source": [
    "**Методы, работающие с регистром символов**"
   ]
  },
  {
   "cell_type": "markdown",
   "metadata": {
    "slideshow": {
     "slide_type": "subslide"
    }
   },
   "source": [
    "`S.capitalize()`\tПереводит первый символ строки в верхний регистр, а все остальные в нижний"
   ]
  },
  {
   "cell_type": "code",
   "execution_count": null,
   "metadata": {
    "slideshow": {
     "slide_type": "fragment"
    }
   },
   "outputs": [],
   "source": [
    "s, S = 'the StOry oF My life', 'SALE'\n",
    "s.capitalize(), S.capitalize()"
   ]
  },
  {
   "cell_type": "markdown",
   "metadata": {
    "slideshow": {
     "slide_type": "subslide"
    }
   },
   "source": [
    "`S.swapcase()`\tПереводит символы нижнего регистра в верхний, а верхнего – в нижний"
   ]
  },
  {
   "cell_type": "code",
   "execution_count": null,
   "metadata": {
    "slideshow": {
     "slide_type": "fragment"
    }
   },
   "outputs": [],
   "source": [
    "s.swapcase(), S.swapcase()"
   ]
  },
  {
   "cell_type": "markdown",
   "metadata": {
    "slideshow": {
     "slide_type": "subslide"
    }
   },
   "source": [
    "`S.title()` Первую букву каждого слова переводит в верхний регистр, а все остальные в нижний"
   ]
  },
  {
   "cell_type": "code",
   "execution_count": null,
   "metadata": {
    "slideshow": {
     "slide_type": "fragment"
    }
   },
   "outputs": [],
   "source": [
    "s.title(), S.title()"
   ]
  },
  {
   "cell_type": "markdown",
   "metadata": {
    "slideshow": {
     "slide_type": "subslide"
    }
   },
   "source": [
    "`S.upper()`\tПреобразование строки к верхнему регистру"
   ]
  },
  {
   "cell_type": "code",
   "execution_count": null,
   "metadata": {
    "slideshow": {
     "slide_type": "fragment"
    }
   },
   "outputs": [],
   "source": [
    "s.upper()"
   ]
  },
  {
   "cell_type": "markdown",
   "metadata": {
    "slideshow": {
     "slide_type": "subslide"
    }
   },
   "source": [
    "`S.lower()`\tПреобразование строки к нижнему регистру"
   ]
  },
  {
   "cell_type": "code",
   "execution_count": null,
   "metadata": {
    "slideshow": {
     "slide_type": "fragment"
    }
   },
   "outputs": [],
   "source": [
    "S.lower()"
   ]
  },
  {
   "cell_type": "markdown",
   "metadata": {
    "slideshow": {
     "slide_type": "subslide"
    }
   },
   "source": [
    "**Функции для работы с кодом Unicode**\n",
    "\n",
    "<img src=https://www.ooportal.com/structured-programming/module3/images/ascii_table.gif>"
   ]
  },
  {
   "cell_type": "markdown",
   "metadata": {
    "slideshow": {
     "slide_type": "subslide"
    }
   },
   "source": [
    "`ord(символ)`\tВозвращает код символа"
   ]
  },
  {
   "cell_type": "code",
   "execution_count": null,
   "metadata": {
    "slideshow": {
     "slide_type": "fragment"
    }
   },
   "outputs": [],
   "source": [
    "ord('A'), ord('a'), ord('&')"
   ]
  },
  {
   "cell_type": "markdown",
   "metadata": {
    "slideshow": {
     "slide_type": "subslide"
    }
   },
   "source": [
    "`chr(число)` Возвращает символ по его коду"
   ]
  },
  {
   "cell_type": "code",
   "execution_count": null,
   "metadata": {
    "slideshow": {
     "slide_type": "fragment"
    }
   },
   "outputs": [],
   "source": [
    "chr(42), chr(57), chr(69), chr(100)"
   ]
  },
  {
   "cell_type": "markdown",
   "metadata": {
    "slideshow": {
     "slide_type": "subslide"
    }
   },
   "source": [
    "##  Форматирование строк  \n",
    "[Подробнее](https://pyformat.info)\n",
    "\n",
    "Бывает нам хочется напечатать что-то вроде такого:"
   ]
  },
  {
   "cell_type": "code",
   "execution_count": null,
   "metadata": {
    "slideshow": {
     "slide_type": "fragment"
    }
   },
   "outputs": [],
   "source": [
    "n, m = int(input()), int(input())\n",
    "\n",
    "print('Number of students\\nGroup 1:', n, '\\nGroup 2:', m, '\\nOverall:', n + m)"
   ]
  },
  {
   "cell_type": "markdown",
   "metadata": {
    "slideshow": {
     "slide_type": "subslide"
    }
   },
   "source": [
    "Проблема: приходится \"изменяемые\" переменные вставлять через запятые, остальной строковой текст все время обрамлять в кавычки. Конечно, приведенный пример это далеко на самый плохой вариант, н опредставьте, если таких переменных, например, 100? Уже сложнее. Питонисты любят когда все коротко и ясно. Поэтому есть такой метод (впрочем, не только), `.format()`. Работает он следующим образом:"
   ]
  },
  {
   "cell_type": "code",
   "execution_count": null,
   "metadata": {
    "slideshow": {
     "slide_type": "fragment"
    }
   },
   "outputs": [],
   "source": [
    "s = 'Это число {}, это буква \"{}\", это предложение \"{}\"'.format(1, 'a', 'Hi, Monty!!')\n",
    "s"
   ]
  },
  {
   "cell_type": "code",
   "execution_count": null,
   "metadata": {
    "slideshow": {
     "slide_type": "fragment"
    }
   },
   "outputs": [],
   "source": [
    "s = 'Это число {2}, это буква \"{1}\", это предложение \"{0}\"'\n",
    "s.format(1, 'a', 'Hi, Monty!!')"
   ]
  },
  {
   "cell_type": "markdown",
   "metadata": {
    "slideshow": {
     "slide_type": "subslide"
    }
   },
   "source": [
    "То есть Питон считывает строку, видит в ней \"фигурные скобки\" - места куда вставить объекты, и то, что лежит внутри метода `.format()` вставляет в том порядке, в котором они указаны (по дефолту подряд), создавая новый объект типа строка.\n",
    "\n",
    "Также можно указать сколько чисел после запятой вывести у вещественного числа:"
   ]
  },
  {
   "cell_type": "code",
   "execution_count": null,
   "metadata": {
    "slideshow": {
     "slide_type": "fragment"
    }
   },
   "outputs": [],
   "source": [
    "pi = 3.14159265559\n",
    "print('Number pi = {:.5f}'.format(pi), \n",
    "      'Number pi = {:.0f}'.format(pi),\n",
    "      'Number pi = {: 6.2f}'.format(pi), sep='\\n')"
   ]
  },
  {
   "cell_type": "markdown",
   "metadata": {
    "slideshow": {
     "slide_type": "subslide"
    }
   },
   "source": [
    "Можно \"паддить\" строки:"
   ]
  },
  {
   "cell_type": "code",
   "execution_count": null,
   "metadata": {},
   "outputs": [],
   "source": [
    "print('|{:>10}|\\n|{:^10}|\\n|{:<10}|\\n|{:.^10}|'.format('Hello', 'Hi', 'Hey', 'Hi'))"
   ]
  },
  {
   "cell_type": "markdown",
   "metadata": {
    "slideshow": {
     "slide_type": "subslide"
    }
   },
   "source": [
    "**Usage case:**"
   ]
  },
  {
   "cell_type": "code",
   "execution_count": null,
   "metadata": {
    "slideshow": {
     "slide_type": "fragment"
    }
   },
   "outputs": [],
   "source": [
    "# генерируем строку, в которую хотим вставить какие-то значения\n",
    "toprint = '\\n'.join([chr(65 + i) + chr(97 + i) +': {:>5}|' for i in range(26)])\n",
    "\n",
    "# вводим какие-то данные\n",
    "tocount = input().lower()\n",
    "\n",
    "# производим вычисления с переменными данными\n",
    "counted_alphabet = [str(tocount.count(chr(97 + i))) for i in range(26)]\n",
    "\n",
    "# печатаем с помощью форматирования\n",
    "print(toprint.format(*counted_alphabet))"
   ]
  },
  {
   "cell_type": "markdown",
   "metadata": {
    "slideshow": {
     "slide_type": "subslide"
    }
   },
   "source": [
    "###  f-string\n",
    "    \n",
    "Абсолютно то же самое (в новых версиях Питона) можно делать следующим более кратким и удобным (не всегда) способом:"
   ]
  },
  {
   "cell_type": "code",
   "execution_count": null,
   "metadata": {
    "slideshow": {
     "slide_type": "subslide"
    }
   },
   "outputs": [],
   "source": [
    "name = 'Sonya'\n",
    "yr = 2020\n",
    "old = 22\n",
    "f'Hi, my name is {name}. I was born in {yr-old}.'"
   ]
  },
  {
   "cell_type": "code",
   "execution_count": null,
   "metadata": {},
   "outputs": [],
   "source": []
  }
 ],
 "metadata": {
  "celltoolbar": "Slideshow",
  "kernelspec": {
   "display_name": "Python 3",
   "language": "python",
   "name": "python3"
  },
  "language_info": {
   "codemirror_mode": {
    "name": "ipython",
    "version": 3
   },
   "file_extension": ".py",
   "mimetype": "text/x-python",
   "name": "python",
   "nbconvert_exporter": "python",
   "pygments_lexer": "ipython3",
   "version": "3.6.9"
  }
 },
 "nbformat": 4,
 "nbformat_minor": 4
}
