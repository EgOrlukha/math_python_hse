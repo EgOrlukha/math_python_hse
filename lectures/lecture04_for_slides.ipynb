{
 "cells": [
  {
   "cell_type": "markdown",
   "metadata": {
    "slideshow": {
     "slide_type": "slide"
    }
   },
   "source": [
    "<span style=\"color:green; font-size:2.5em;\"> 04. Цикл `for`. Функции `range`, `enumerate`, `zip`, `map`.  Генераторы.\n",
    "\n",
    "---"
   ]
  },
  {
   "cell_type": "markdown",
   "metadata": {
    "slideshow": {
     "slide_type": "slide"
    }
   },
   "source": [
    "<span style=\"color:green; font-size:2em;\"> Цикл `for` </span> "
   ]
  },
  {
   "cell_type": "markdown",
   "metadata": {
    "slideshow": {
     "slide_type": "fragment"
    }
   },
   "source": [
    "На предыдущем занятии мы кратко ознакомились с циклом `for` [DOCS](https://docs.python.org/3/tutorial/controlflow.html#for-statements). Давайте вспомним как выглядит **конструкция** этого цикла:"
   ]
  },
  {
   "cell_type": "markdown",
   "metadata": {
    "slideshow": {
     "slide_type": "subslide"
    }
   },
   "source": [
    "    for X in SEQUENCE:\n",
    "        БЛОК КОДА\n",
    "        БЛОК КОДА\n",
    "        БЛОК КОДА"
   ]
  },
  {
   "cell_type": "markdown",
   "metadata": {
    "slideshow": {
     "slide_type": "fragment"
    }
   },
   "source": [
    "Как и в цикле `while` или условной конструкции `if`, блок кода имеет **отступы в 4 пробела** (обычно они ставятся автоматически, после переноса с первой строки). В отличие от цикла `while`, мы **делаем заранее изместное** и нами заданное **число итераций**, а не \"пока условие выполнится\".  Мы **проходимся по элементам последовательности** `SEQUENCE`, которая может быть задана разными способами, основные из них мы сегодня изучим! В блоке кода может быть другой цикл, который будет называться **вложенным циклом**, для названия переменной цикла которого лучше всегда (если только это специально не предусмотрено) использовать новое имя."
   ]
  },
  {
   "cell_type": "markdown",
   "metadata": {
    "slideshow": {
     "slide_type": "subslide"
    }
   },
   "source": [
    "Питон довольно читаемый язык программирования, поэтому можно конструкцию цикла интерпретировать следующим образом: \n",
    "\n",
    ">*для (**for**) каждого $x_1, x_2, \\dots, x_n$ в (**in**) последовательности $X$ выполни код*\n",
    "\n",
    "Подробнее как происходят итерации цикла на диаграмме:"
   ]
  },
  {
   "cell_type": "markdown",
   "metadata": {
    "slideshow": {
     "slide_type": "fragment"
    }
   },
   "source": [
    "<img src=\"forloop.png\" alt=\"диаграмма цикла for пошагово\" width=\"800\"/>"
   ]
  },
  {
   "cell_type": "markdown",
   "metadata": {
    "slideshow": {
     "slide_type": "subslide"
    }
   },
   "source": [
    "Очень важно понять, что:\n",
    "*  если название переменной цикла (в данном случае $x$) было использовано ранее для какого-то другого объекта **до** цикла, то внутри цикла это название переприсваивается другим объектом (элементом последовательности)\n",
    "*  **после** цикла название переменной цикла будет иметь в качестве объекта тот, который был определен в последней итерации. \n",
    "*  если изменить значение перменной цикла **внутри** цикла, то на шаги итераций это никак не повлияет"
   ]
  },
  {
   "cell_type": "markdown",
   "metadata": {
    "slideshow": {
     "slide_type": "subslide"
    }
   },
   "source": [
    "Как и для цикла `while`, здесь работают команды `break` и `continue`. Первая, прерывает работу цикла и выходит из него, вторая прерывает итерацию цикла и переходит к следующей итерации."
   ]
  },
  {
   "cell_type": "markdown",
   "metadata": {
    "slideshow": {
     "slide_type": "subslide"
    }
   },
   "source": [
    "<span style=\"color:green; font-size:1.5em;\"> Итерирование по элементам </span>\n",
    "\n",
    "Например, пройдемся по элементам **списка**:"
   ]
  },
  {
   "cell_type": "code",
   "execution_count": null,
   "metadata": {
    "slideshow": {
     "slide_type": "fragment"
    }
   },
   "outputs": [],
   "source": [
    "spisok = [1, 2, 3]\n",
    "\n",
    "print('--- до цикла     ---')\n",
    "x = -10\n",
    "print('x =', x)\n",
    "print('--- внутри цикла ---')\n",
    "for x in spisok:\n",
    "    print('x =', x)\n",
    "    x = x + 2\n",
    "    print('---> x =', x)\n",
    "print('--- после цикла  ---')\n",
    "print('x =', x)"
   ]
  },
  {
   "cell_type": "markdown",
   "metadata": {
    "slideshow": {
     "slide_type": "subslide"
    }
   },
   "source": [
    "Последовательности других типов (кортеж, строка) тоже можно использовать для цикла:"
   ]
  },
  {
   "cell_type": "code",
   "execution_count": null,
   "metadata": {
    "slideshow": {
     "slide_type": "fragment"
    }
   },
   "outputs": [],
   "source": [
    "alphabet = 'АБВГДЕЁЖЗИЙКЛМНОПРСТУФХЦЧШЩЪЫЬЭЮЯ'\n",
    "\n",
    "for letter in alphabet:\n",
    "    print(letter, letter.lower(), sep='', end='|')"
   ]
  },
  {
   "cell_type": "code",
   "execution_count": null,
   "metadata": {
    "slideshow": {
     "slide_type": "fragment"
    }
   },
   "outputs": [],
   "source": [
    "for el in 'kaliningrad', 'moscow', 'ufa', 'chelybinsk', 'vladivostok':\n",
    "    print(el[0].upper() + el[1:])"
   ]
  },
  {
   "cell_type": "markdown",
   "metadata": {
    "slideshow": {
     "slide_type": "subslide"
    }
   },
   "source": [
    "<span style=\"color:green; font-size:1.5em;\"> Итерирование по индексам </span>\n",
    "\n",
    "Часто решение задачи требует знания номера элемента, поэтому итерирования по элементам будет недостаточно (хотя всегда можно воспользоваться методом `.index()`, но это очень неэффективный код -- почему?). "
   ]
  },
  {
   "cell_type": "markdown",
   "metadata": {
    "slideshow": {
     "slide_type": "subslide"
    }
   },
   "source": [
    "Что бы мы хотели иметь для итерирования по индексам? Рассмотрим пример:"
   ]
  },
  {
   "cell_type": "code",
   "execution_count": null,
   "metadata": {
    "scrolled": true,
    "slideshow": {
     "slide_type": "fragment"
    }
   },
   "outputs": [],
   "source": [
    "a =       ['A', 'B', 'C', 'D', 'E', 'F']\n",
    "indices = [  0,   1,   2,   3,   4,   5]\n",
    "for i in indices:\n",
    "    if (i + 1) % 2:\n",
    "        print(a[i], '- нечетная буква')\n",
    "    else:\n",
    "        print(a[i], '- четная буква')"
   ]
  },
  {
   "cell_type": "markdown",
   "metadata": {
    "slideshow": {
     "slide_type": "subslide"
    }
   },
   "source": [
    "<span style=\"color:green; font-size:1.5em;\"> Последовательность чисел `range` </span>\n",
    "\n",
    "Чтобы создать **последовательность чисел**, можно воспользоваться функцией `range()` [DOCS](https://docs.python.org/3/library/stdtypes.html). Её устройство схоже со сложными срезами, которые мы изучили на прошлом занятии, а именно, синтаксис функции выглядит так:\n",
    "\n",
    "    range([start=0], stop, [step=1]) \n",
    "        := start, start + step, ..., start + step ** i, stop - step\n",
    "\n",
    "У функции три аргумента, два из которых могут быть опущены и имеют дефолтные значения. На выходе функция выдает последовательность типа `range`, по элементам которой можно проходиться в цикле (но чтобы увидеть сами значения без использования цикла, мы будем приводить последовательность к типу списка). Например:"
   ]
  },
  {
   "cell_type": "code",
   "execution_count": null,
   "metadata": {
    "slideshow": {
     "slide_type": "fragment"
    }
   },
   "outputs": [],
   "source": [
    "print(list(range(5)))\n",
    "print(list(range(-5, 5)))\n",
    "print(list(range(0, 15, 2)))\n",
    "print(list(range(5, -5, -1)))\n",
    "print(list(range(0)))\n",
    "print(list(range(2, -2)))\n",
    "print(type(range(10)))"
   ]
  },
  {
   "cell_type": "markdown",
   "metadata": {
    "slideshow": {
     "slide_type": "subslide"
    }
   },
   "source": [
    "Теперь предыдущая задача просто записывается следующим образом:"
   ]
  },
  {
   "cell_type": "code",
   "execution_count": null,
   "metadata": {
    "slideshow": {
     "slide_type": "fragment"
    }
   },
   "outputs": [],
   "source": [
    "a = ['A', 'B', 'C', 'D', 'E', 'F']\n",
    "for i in range(len(a)): # 0, 1, 2, 3, 4, 5\n",
    "    if (i + 1) % 2: print(a[i], '- нечетная буква')\n",
    "    else: print(a[i], '- четная буква')"
   ]
  },
  {
   "cell_type": "markdown",
   "metadata": {
    "slideshow": {
     "slide_type": "subslide"
    }
   },
   "source": [
    "<span style=\"color:green; font-size:1.5em;\"> Нумерация последовательности `enumerate` </span>\n",
    "\n",
    "Еще одна полезная функция для использования индексов элементов - `enumerate()` [DOCS](https://docs.python.org/3/library/functions.html#enumerate). Синтаксис выглядит следующим образом:\n",
    "\n",
    "    enumerate(sequence, [start=0])\n",
    "        := (start, x_0), (start + 1, x_1), ... (start + len(sequence) - 1, x_last)\n",
    "\n",
    "На выходе функция выдает последовательность типа `enumerate`, элементы которой есть тьюплы `(счетчик, элемент)`. Например:"
   ]
  },
  {
   "cell_type": "code",
   "execution_count": null,
   "metadata": {
    "slideshow": {
     "slide_type": "fragment"
    }
   },
   "outputs": [],
   "source": [
    "print(list(enumerate(a)))\n",
    "print(list(enumerate(a, 1)))\n",
    "type(enumerate(a))"
   ]
  },
  {
   "cell_type": "markdown",
   "metadata": {
    "slideshow": {
     "slide_type": "subslide"
    }
   },
   "source": [
    "Теперь предыдущая задача просто записывается следующим образом:"
   ]
  },
  {
   "cell_type": "code",
   "execution_count": null,
   "metadata": {
    "slideshow": {
     "slide_type": "fragment"
    }
   },
   "outputs": [],
   "source": [
    "a = ['A', 'B', 'C', 'D', 'E', 'F']\n",
    "for i, letter in enumerate(a, 1): # (1, A), (2, B), (3, C), (4, D), (5, F)\n",
    "    # множественное присваивание позволяет сразу класть элементы тьюпла в несколько переменных\n",
    "    # i, letter = 1, A     и т.д.\n",
    "    if i % 2:\n",
    "        print(letter, '- нечетная буква')\n",
    "    else: \n",
    "        print(letter, '- четная буква')"
   ]
  },
  {
   "cell_type": "markdown",
   "metadata": {
    "slideshow": {
     "slide_type": "subslide"
    }
   },
   "source": [
    "<span style=\"color:green; font-size:1.5em;\"> Агрегирование последовательностей `zip` </span>\n",
    "\n",
    "Теперь вернемся к общему случаю, когда итерирование происходит поэлементно. Впрочем, уже в предыдущем прмере с функцией `enumerate` мы итерировались именно по элементам, просто одновременно двух последовательностей: `range(len(a))` и `a`. Проделать то же самое без `enumerate` можно было бы с помощью функции `zip`[DOCS](https://docs.python.org/3/library/functions.html#zip), применение которой сильно шире, чем замена `enumerate`. Её применение выглядит следующим образом:\n",
    "\n",
    "    zip(seq_1, seq_2, ...., seq_n)\n",
    "        := (x_1_0, x_2_0, ..., x_n_0), (x_1_1, x_2_1, ..., x_n_1), ..., (x_1_m, x_2_m, ..., x_n_m)\n",
    "где `m` это длина самой короткой последовательности среди `seq_1, ..., seq_n`. То есть в качестве аргументов мы подаем любое количество последовательностей, а на выходе получаем последовательность типа `zip`, элементы которой это тьюплы из `i`-х элементов каждой последовательности. Например:"
   ]
  },
  {
   "cell_type": "code",
   "execution_count": null,
   "metadata": {
    "slideshow": {
     "slide_type": "fragment"
    }
   },
   "outputs": [],
   "source": [
    "print(list(zip('abcdef', 'абвгдежзийклмнопрст')))\n",
    "print(list(zip([42, 57, 121], ('answer', 'school', 'power'))))\n",
    "print(list(zip('abcdef', 'абвгде', 'αβγδεζ')))\n",
    "print(list(zip('12345')))\n",
    "print(list(zip('')))"
   ]
  },
  {
   "cell_type": "markdown",
   "metadata": {
    "slideshow": {
     "slide_type": "subslide"
    }
   },
   "source": [
    "Теперь предыдущая задача просто записывается следующим образом:"
   ]
  },
  {
   "cell_type": "code",
   "execution_count": null,
   "metadata": {
    "slideshow": {
     "slide_type": "fragment"
    }
   },
   "outputs": [],
   "source": [
    "a = ['A', 'B', 'C', 'D', 'E', 'F']\n",
    "for i, letter in zip(range(1, len(a)), a): # (1, A), (2, B), (3, C), (4, D), (5, F)\n",
    "    if i % 2: print(letter, '- нечетная буква')\n",
    "    else: print(letter, '- четная буква')"
   ]
  },
  {
   "cell_type": "markdown",
   "metadata": {},
   "source": [
    "<span style=\"color:green; font-size:1.5em;\"> Порядок итерирования `reversed`, `sorted` </span>\n",
    "\n",
    "На том занятии мы познакомились с этими функциями, которые выдают последовательноти типа `reverseiterator` и обычный список соответственно, поэтому в качестве напоминания -- их тоже можно использовать для цикла:"
   ]
  },
  {
   "cell_type": "code",
   "execution_count": null,
   "metadata": {},
   "outputs": [],
   "source": [
    "s = [1, 10, 23, -10, 3, 15, -9]\n",
    "\n",
    "for el in reversed(s):\n",
    "    print(el, end=' ')\n",
    "print('\\n-----')\n",
    "for el in sorted(s):\n",
    "    print(el, end=' ')\n",
    "print('\\n-----')\n",
    "for el in reversed(sorted(s)):\n",
    "    print(el, end=' ')"
   ]
  },
  {
   "cell_type": "markdown",
   "metadata": {
    "slideshow": {
     "slide_type": "slide"
    }
   },
   "source": [
    "<span style=\"color:green; font-size:2em;\"> Генератор списка </span>\n",
    "\n",
    "Мы научились по-разному задавать итерации цикла и это прекрасно! Но прекраснее этого могут быть только **генераторы списков** [DOCS](https://docs.python.org/3/tutorial/datastructures.html#list-comprehensions). Это такой способ краткой записи цикла, который предназанчен (как правило) для создания списка. Конструкция выглядит так:\n",
    "\n",
    "    a = [строка_кода(x) for x in sequence]\n",
    "\n",
    "Что является заменой такой записи:\n",
    "\n",
    "    a = []\n",
    "    for x in sequence:\n",
    "        a.append(строка_кода(x))"
   ]
  },
  {
   "cell_type": "markdown",
   "metadata": {
    "slideshow": {
     "slide_type": "subslide"
    }
   },
   "source": [
    "Кроме краткости записи, генератор может похвастаться тем, что работает немного быстрее цикла, потому что создает объект списка \"на месте\", когда списковый метод `.append()` необходимо вызывать для добавления элемента в список и на это требуется некоторое время."
   ]
  },
  {
   "cell_type": "code",
   "execution_count": null,
   "metadata": {
    "slideshow": {
     "slide_type": "fragment"
    }
   },
   "outputs": [],
   "source": [
    "def forloop():\n",
    "    a = []\n",
    "    for x in range(10000):\n",
    "        a.append(x)\n",
    "\n",
    "def generatorloop():\n",
    "    a = [x for x in range(10000)]\n",
    "\n",
    "%timeit forloop()\n",
    "%timeit generatorloop()"
   ]
  },
  {
   "cell_type": "markdown",
   "metadata": {
    "slideshow": {
     "slide_type": "subslide"
    }
   },
   "source": [
    "Несколько примеров применения генератора:"
   ]
  },
  {
   "cell_type": "code",
   "execution_count": null,
   "metadata": {
    "slideshow": {
     "slide_type": "fragment"
    }
   },
   "outputs": [],
   "source": [
    "print([x ** 2 for x in range(-4, 4)])\n",
    "print([abs(x) for x in range(-4, 4)])\n",
    "print([eng + '-' + rus for eng, rus in zip('abcdefg', 'абвгдеж')])"
   ]
  },
  {
   "cell_type": "markdown",
   "metadata": {
    "slideshow": {
     "slide_type": "subslide"
    }
   },
   "source": [
    "Как и обычные циклы, генераторы можно создавать вложенные:"
   ]
  },
  {
   "cell_type": "code",
   "execution_count": null,
   "metadata": {
    "slideshow": {
     "slide_type": "fragment"
    }
   },
   "outputs": [],
   "source": [
    "[(x, y) for x in range(1, 4) for y in range(4, 7)]"
   ]
  },
  {
   "cell_type": "code",
   "execution_count": null,
   "metadata": {
    "slideshow": {
     "slide_type": "fragment"
    }
   },
   "outputs": [],
   "source": [
    "[[x for x in range(3)] for y in range(4)]"
   ]
  },
  {
   "cell_type": "code",
   "execution_count": null,
   "metadata": {
    "slideshow": {
     "slide_type": "subslide"
    }
   },
   "outputs": [],
   "source": [
    "[[x for x in range(y * 3, y * 3 + 3)] for y in range(4)]"
   ]
  },
  {
   "cell_type": "code",
   "execution_count": null,
   "metadata": {
    "slideshow": {
     "slide_type": "fragment"
    }
   },
   "outputs": [],
   "source": [
    "[[x for x in range(y)] for y in range(2, 7)]"
   ]
  },
  {
   "cell_type": "code",
   "execution_count": null,
   "metadata": {
    "slideshow": {
     "slide_type": "fragment"
    }
   },
   "outputs": [],
   "source": [
    "matrix = [[1,2,3], [4,5,6], [7,8,9]]\n",
    "[x for row in matrix for x in row]"
   ]
  },
  {
   "cell_type": "markdown",
   "metadata": {
    "slideshow": {
     "slide_type": "subslide"
    }
   },
   "source": [
    "<span style=\"color:green; font-size:1.5em;\"> Краткая запись `if`-конструкции </span>\n",
    "\n",
    "На занятии, когда мы проходили условные конструкции, мы не упомянули о такой питоновской возможности записать простую условную конструкцию в одну строчку (вообще, мы как программисты Питона любим писать код в одну строку). Обычно это используется для условного присвоения переменной, например, вот так:"
   ]
  },
  {
   "cell_type": "code",
   "execution_count": null,
   "metadata": {
    "slideshow": {
     "slide_type": "fragment"
    }
   },
   "outputs": [],
   "source": [
    "inp = input()\n",
    "x = 'yes' if inp == 'y' else 'no' # без else не работает\n",
    "print(x)"
   ]
  },
  {
   "cell_type": "markdown",
   "metadata": {
    "slideshow": {
     "slide_type": "subslide"
    }
   },
   "source": [
    "Эту же конструкцию можно использовать при создании списка с помощью генератора:"
   ]
  },
  {
   "cell_type": "code",
   "execution_count": null,
   "metadata": {
    "slideshow": {
     "slide_type": "fragment"
    }
   },
   "outputs": [],
   "source": [
    "a = [x ** 2 if x < 0 else x ** 0.5 for x in range(-5, 5)]\n",
    "print(a)"
   ]
  },
  {
   "cell_type": "markdown",
   "metadata": {
    "slideshow": {
     "slide_type": "subslide"
    }
   },
   "source": [
    "Причем в данном случае можно использовать конструкцию без `else`-части (чего нельзя сделать в предыдущем примере), но тогда `if` пишется справа:"
   ]
  },
  {
   "cell_type": "code",
   "execution_count": null,
   "metadata": {
    "slideshow": {
     "slide_type": "fragment"
    }
   },
   "outputs": [],
   "source": [
    "a = [x for x in range(10) if x % 2]\n",
    "print(a)"
   ]
  },
  {
   "cell_type": "markdown",
   "metadata": {
    "slideshow": {
     "slide_type": "subslide"
    }
   },
   "source": [
    "Чтобы проще запомнить с какой стороны писать `if` в обоих случаях, попробуйте понять такой принцип:\n",
    "\n",
    "    a = [x |||| for x in последовательность if условие(х)]\n",
    "           |||| \n",
    "    a = [значение_true(х) if УСЛОВИЕ else значение_false(х) |||| for x in последовательность]\n",
    "                                                            ||||\n",
    "                                                            \n",
    "Мы сначала читаем то, что стоит справа от `||||`, если дошли до конца, то кладем в список то, что стоит слева от `||||`. То есть в первом случае, мы кладем значение в список только если условие выдает `True`. А во втором случае, что бы ни выдало условие - `True` или `False` - мы что-нибудь положим в список."
   ]
  },
  {
   "cell_type": "markdown",
   "metadata": {
    "slideshow": {
     "slide_type": "fragment"
    }
   },
   "source": [
    "На самом деле первый случай это часть конструкции генератора, а второе это просто условное присваивание элемента внутри \"строки кода\" генератора. Общий вид генератора:\n",
    "\n",
    "    [строка_кода for ... ... ... for ... if ... ... ... if ...]"
   ]
  },
  {
   "cell_type": "code",
   "execution_count": null,
   "metadata": {
    "slideshow": {
     "slide_type": "fragment"
    }
   },
   "outputs": [],
   "source": [
    "[x * y for x in range(-2, 5) for y in range(5) if x < 3 if y > 1 if x != y]"
   ]
  },
  {
   "cell_type": "markdown",
   "metadata": {
    "slideshow": {
     "slide_type": "subslide"
    }
   },
   "source": [
    "В очередной раз можем перевести ввод чисел через пробел с клавиатуры в список чисел:"
   ]
  },
  {
   "cell_type": "code",
   "execution_count": null,
   "metadata": {
    "slideshow": {
     "slide_type": "fragment"
    }
   },
   "outputs": [],
   "source": [
    "[int(x) for x in input().split()]"
   ]
  },
  {
   "cell_type": "markdown",
   "metadata": {
    "slideshow": {
     "slide_type": "slide"
    }
   },
   "source": [
    "<span style=\"color:green; font-size:2em;\"> Поэлементное применение функций `map` </span>\n",
    "\n",
    "Последняя на сегодня полезная функция `map`[DOCS](https://docs.python.org/3/library/functions.html#map). Вслед предыдущему примеру, можно переписать с помощью неё наш код для ввода списка:"
   ]
  },
  {
   "cell_type": "code",
   "execution_count": null,
   "metadata": {
    "slideshow": {
     "slide_type": "fragment"
    }
   },
   "outputs": [],
   "source": [
    "list(map(int, input().split()))"
   ]
  },
  {
   "cell_type": "markdown",
   "metadata": {
    "slideshow": {
     "slide_type": "subslide"
    }
   },
   "source": [
    "То есть синтаксис следующий:\n",
    "\n",
    "    map(функция, последовательность)\n",
    "       := функция(x_1), функция(x_2), ..., функция(х_n)\n",
    "\n",
    "и на выходе функции получаем последовательность типа `map`, по элементам которой можно итерироваться или привести объект в тип списка. "
   ]
  },
  {
   "cell_type": "code",
   "execution_count": null,
   "metadata": {
    "slideshow": {
     "slide_type": "fragment"
    }
   },
   "outputs": [],
   "source": [
    "s = 0\n",
    "for x in map(int, input().split()):\n",
    "    s += x\n",
    "print(s)"
   ]
  },
  {
   "cell_type": "code",
   "execution_count": null,
   "metadata": {
    "slideshow": {
     "slide_type": "fragment"
    }
   },
   "outputs": [],
   "source": [
    "n, m = map(int, input().split())\n",
    "n, m"
   ]
  }
 ],
 "metadata": {
  "celltoolbar": "Slideshow",
  "kernelspec": {
   "display_name": "Python 3",
   "language": "python",
   "name": "python3"
  },
  "language_info": {
   "codemirror_mode": {
    "name": "ipython",
    "version": 3
   },
   "file_extension": ".py",
   "mimetype": "text/x-python",
   "name": "python",
   "nbconvert_exporter": "python",
   "pygments_lexer": "ipython3",
   "version": "3.6.9"
  }
 },
 "nbformat": 4,
 "nbformat_minor": 4
}
