{
 "cells": [
  {
   "cell_type": "markdown",
   "metadata": {
    "slideshow": {
     "slide_type": "slide"
    }
   },
   "source": [
    "<span style=\"color:green; font-size:2.5em;\">01. Вводные курса. Установка ПО. Введение в Python.</span> \n",
    "\n",
    "---"
   ]
  },
  {
   "cell_type": "markdown",
   "metadata": {
    "slideshow": {
     "slide_type": "slide"
    }
   },
   "source": [
    "<span style=\"color:green; font-size:2em;\">Вводные курса</span>"
   ]
  },
  {
   "cell_type": "markdown",
   "metadata": {
    "slideshow": {
     "slide_type": "subslide"
    }
   },
   "source": [
    "<span style=\"color:green; font-size:1.5em;\">Страница курса</span>\n",
    "\n",
    "<p><img src=\"qrcode.png\" alt=\"QR Code to Wiki\" style=\"float:right\">\n",
    "➡️  Открываем wiki.cs.hse.ru   \n",
    "&emsp;➡️  Курсы в рамках проекта Data Culture   \n",
    "&emsp;&emsp;➡️  Основы программирования на Python-1   \n",
    "<br/><br/>\n",
    "💬  Чат в телеграме $-$ для общения и вопросов.   \n",
    "📢  Канал в телеграме $-$ для актуальных новостей.\n",
    "</p>"
   ]
  },
  {
   "cell_type": "markdown",
   "metadata": {
    "slideshow": {
     "slide_type": "subslide"
    }
   },
   "source": [
    "<span style=\"color:green; font-size:1.5em;\">Формула оценивания <br/>\n",
    "$$О_{итог} = 0.4 * O_{семинары} + 0.6 * O_{ДЗ}$$</span>\n",
    "\n",
    "📚 В конце каждого семинара выполняются самостоятельные задания, которые можно дорешивать до следующего семинара. Итоговая оценка за семинарскую часть по 10-ти балльной шкале вычисляется следующим образом:\n",
    "\n",
    "$$(\\text{набранные баллы } / \\text{ сумма баллов}) * 10 + 1.5$$\n",
    "\n",
    "📝 Будет 3 домашних задания с равнозначным весом, на выполнения каждого дается около 3х недель"
   ]
  },
  {
   "cell_type": "markdown",
   "metadata": {
    "slideshow": {
     "slide_type": "subslide"
    }
   },
   "source": [
    "<span style=\"color:green; font-size:1.5em;\">Пилотная группа</span>\n",
    "\n",
    "Желающим студентам предоставляется возможность сдать **тестовое задание** на знание программы курса и перейти в пилотную группу\n",
    "\n",
    "\n",
    "📍  Мидтерм и экзамен $-$ очные контесты по алгоритмам   \n",
    "📍  Неоцениваемые задачи для самостоятельного изучения, по темам которых будут упомянутые контрольные    \n",
    "📍  Отказаться от перехода можно вплоть до конца первого модуля, тогда ему засчитываются пропущенные формы контроля (семинары, ДЗ1)    \n",
    "📍  Формула оценивания:   \n",
    "\n",
    "<span style=\"font-size:1.5em;\">$$О_{итог} = 6 + 0.2 * O_{мидтерм} + 0.2 * O_{экзамен}$$</span>\n"
   ]
  },
  {
   "cell_type": "markdown",
   "metadata": {
    "slideshow": {
     "slide_type": "slide"
    }
   },
   "source": [
    "<span style=\"color:green; font-size:2em;\">Установка ПО</span>"
   ]
  },
  {
   "cell_type": "markdown",
   "metadata": {
    "slideshow": {
     "slide_type": "subslide"
    }
   },
   "source": [
    "<span style=\"color:green; font-size:1.5em;\">Jupyter Notebook</span>\n",
    "\n",
    "<img src=\"https://i2.wp.com/softwareengineeringdaily.com/wp-content/uploads/2018/07/jupyter-logo-featured-image.png?resize=600%2C315&ssl=1 \" style=\"float:right\" width=\"200\"/>\n",
    "\n",
    "**Jupyter Notebook** *(джупитер ноутбук, тетрадка, ноутбук, ипунб-файл)* $-$ это программа для *интерактивных* вычислений.\n",
    "Тут можно писать текст, код на языке Python, выводить картинки, работать с командной строкой.\n",
    "\n",
    "Например:"
   ]
  },
  {
   "cell_type": "code",
   "execution_count": 2,
   "metadata": {
    "slideshow": {
     "slide_type": "fragment"
    }
   },
   "outputs": [
    {
     "name": "stdout",
     "output_type": "stream",
     "text": [
      "Hello World!\n"
     ]
    }
   ],
   "source": [
    "print('Hello World!')"
   ]
  },
  {
   "cell_type": "code",
   "execution_count": 3,
   "metadata": {
    "slideshow": {
     "slide_type": "fragment"
    }
   },
   "outputs": [
    {
     "name": "stdout",
     "output_type": "stream",
     "text": [
      "Hello World!\r\n"
     ]
    }
   ],
   "source": [
    "!echo Hello World!"
   ]
  },
  {
   "cell_type": "markdown",
   "metadata": {
    "slideshow": {
     "slide_type": "subslide"
    }
   },
   "source": [
    "Инструкция по установке Jupyter   \n",
    "1й вариант: если windows 10 или linux, то через ubuntu, pip install   \n",
    "2й вариант: скачать миниконду https://docs.conda.io/en/latest/miniconda.html и дальше conda install   \n",
    "3й вариант: работать в colaboratory   "
   ]
  },
  {
   "cell_type": "markdown",
   "metadata": {
    "slideshow": {
     "slide_type": "subslide"
    }
   },
   "source": [
    "Инструкция по работе с Jupyter\n",
    "\n",
    "как создавать файлы, как создавать ячейки \n",
    "\n",
    "Или просто прикрепить ссылку на туториал!"
   ]
  },
  {
   "cell_type": "markdown",
   "metadata": {
    "slideshow": {
     "slide_type": "subslide"
    }
   },
   "source": [
    "<span style=\"color:green; font-size:1.5em;\">PyCharm</span>\n",
    "\n",
    "Обычно программируют не в ноутбуке, а в средах разработки для Python, одна из самых популярных - Pycharm. Её можно (и нужно!) скачать тут: https://www.jetbrains.com/pycharm/download/\n",
    "\n",
    "Прикрепить ссылку на туториал по работе с пайчарм + тесты + дебаг"
   ]
  },
  {
   "cell_type": "markdown",
   "metadata": {
    "slideshow": {
     "slide_type": "subslide"
    }
   },
   "source": [
    "<span style=\"color:green; font-size:1.5em;\">Yandex Contest</span>\n",
    "\n",
    "Семинарские задачи будут сдаваться на платформе Яндекс.Контест. Ссылка на пробную задачу, показываем как сдавать."
   ]
  },
  {
   "cell_type": "markdown",
   "metadata": {
    "slideshow": {
     "slide_type": "slide"
    }
   },
   "source": [
    "<span style=\"color:green; font-size:2em;\">Введение в Python</span>\n",
    "<img src=\"https://upload.wikimedia.org/wikipedia/commons/thumb/c/c3/Python-logo-notext.svg/768px-Python-logo-notext.svg.png\" width=\"100px\" style=\"float:right\"/>"
   ]
  },
  {
   "cell_type": "markdown",
   "metadata": {
    "slideshow": {
     "slide_type": "subslide"
    }
   },
   "source": [
    "<span style=\"color:green; font-size:1.5em;\"> Функция <code>print()</code></span>\n",
    "\n",
    "Для печати значений в Питоне есть функция <code>print()</code>. Внутри круглых скобок через запятую мы пишем то, что хотим вывести. Вот программа, которая делает несколько выводов и вычислений:"
   ]
  },
  {
   "cell_type": "code",
   "execution_count": 4,
   "metadata": {
    "slideshow": {
     "slide_type": "fragment"
    }
   },
   "outputs": [
    {
     "name": "stdout",
     "output_type": "stream",
     "text": [
      "Hi!\n",
      "Второй hi!\n",
      "fisrt\n",
      "second\n",
      "🙂\n"
     ]
    }
   ],
   "source": [
    "print('Hi!')\n",
    "print('Второй hi!')                 # каждый print выводится на новой строке\n",
    "print('fisrt'), print('second')     # даже если написать так\n",
    "print('🙂')                         # да даже смайлики можно!"
   ]
  },
  {
   "cell_type": "code",
   "execution_count": 5,
   "metadata": {
    "slideshow": {
     "slide_type": "fragment"
    }
   },
   "outputs": [
    {
     "name": "stdout",
     "output_type": "stream",
     "text": [
      "А еще умею считать, вот, например, 2х2 = 4\n",
      "2 в степени 10 равно 1024\n"
     ]
    }
   ],
   "source": [
    "print('А еще умею считать, вот, например, 2х2 =', 2 * 2) \n",
    "print('2 в степени 10 равно', 2**10)  # две звёздочки означают возведение в степень"
   ]
  },
  {
   "cell_type": "markdown",
   "metadata": {
    "slideshow": {
     "slide_type": "subslide"
    }
   },
   "source": [
    "Также у функции есть два полезных параметра: <code>sep</code> (separator) и <code>end</code> (на самом деле если они не указываются в коде, то они равны пробелу и переносу строки по дефолту, но о таком свойстве функций мы позже поговорим)."
   ]
  },
  {
   "cell_type": "code",
   "execution_count": null,
   "metadata": {
    "slideshow": {
     "slide_type": "fragment"
    }
   },
   "outputs": [],
   "source": [
    "print('Aa', end='!')\n",
    "print('Bb', end='~')\n",
    "print('Cc', end='...')"
   ]
  },
  {
   "cell_type": "code",
   "execution_count": null,
   "metadata": {
    "slideshow": {
     "slide_type": "fragment"
    }
   },
   "outputs": [],
   "source": [
    "print(1, 2, 3, 4, sep=' + ', end=' = ')\n",
    "print(1 + 2 + 3 + 4)"
   ]
  },
  {
   "cell_type": "markdown",
   "metadata": {
    "slideshow": {
     "slide_type": "fragment"
    }
   },
   "source": [
    "В Питоне есть два специальных символа, которые могут быть полезны:"
   ]
  },
  {
   "cell_type": "code",
   "execution_count": null,
   "metadata": {
    "slideshow": {
     "slide_type": "fragment"
    }
   },
   "outputs": [],
   "source": [
    "print('\\tслева от меня таб (4 пробела) \\nа вот я уже на другой строке!')  \n",
    "# специальный символ \\t заменяет таб (4 пробела), \n",
    "# \\n означает перенос строки, сами они не выводятся"
   ]
  },
  {
   "cell_type": "markdown",
   "metadata": {
    "slideshow": {
     "slide_type": "subslide"
    }
   },
   "source": [
    "<span style=\"color:green; font-size:1.5em;\">Арифметика</span>\n",
    "\n",
    "|||||\n",
    "| --- |-----------| ------- |-----------------------|\n",
    "| <code>+</code> | сложение  | <code>-</code>     | вычитание             |\n",
    "| <code>*</code> | умножение | <code>**</code>    | возведение в степень  |\n",
    "| <code>/</code> | деление   | <code>//</code>    | целочисленное деление |\n",
    "| <code>%</code> | остаток   | <code>abs()</code> | модуль                |\n",
    "\n",
    "В начале выполняются операции с большим приоритетом. Приоритеты операций в порядке убывания: <code>**</code>; <code>*</code> <code>/</code> <code>//</code> <code>%</code>; <code>+</code> <code>-</code>.\n"
   ]
  },
  {
   "cell_type": "code",
   "execution_count": null,
   "metadata": {
    "slideshow": {
     "slide_type": "fragment"
    }
   },
   "outputs": [],
   "source": [
    "# Чему будет равно выражение?\n",
    "1 - 2 ** 2 * 5"
   ]
  },
  {
   "cell_type": "markdown",
   "metadata": {
    "slideshow": {
     "slide_type": "fragment"
    }
   },
   "source": [
    "В ячейке выше мы видим текст внутри кода, так называемый **комментарий**, для начала комментария есть специальны символ - решетка. Комментарий может стоять на отдельной строчке или после строчки кода."
   ]
  },
  {
   "cell_type": "markdown",
   "metadata": {
    "slideshow": {
     "slide_type": "subslide"
    }
   },
   "source": [
    "### Функция\n",
    "\n",
    "Что же такое функция в Питоне? \n",
    "\n",
    "Функция в программировании $-$ отдельный участок кода, который вызывают обратившись к нему **по имени**. При вызове происходит **выполнение команд** функции, которыми она определена. Главное отличие функции от других объектов Питона это **круглые скобки**, которые ставятся после названия функции. \n",
    "\n",
    "Функции можно сравнить с небольшими подпрограммами, которые часто встраиваются в общую программу. Функции получает входные данные (**аргументы функции**) и возвращает выходные данные (**вывод функции**). \n",
    "\n",
    "Функция может принимать произвольное количество аргументов или не принимать их вовсе. Часто у функции бывают **именованные аргументы**, например, <code>sep</code> и <code>end</code> у функции </code>print()</code>. \n",
    "\n",
    "Функции бывают встроенные в Питон, например <code>print(), input(), int(), float(), str(), type() </code>. С первой мы уже познакомились, с остальными познакомимся сейчас. \n",
    "\n",
    "Функции бывают дополнительные, которые необходимо \"подгружать\" в программу, можно определять новые функции самому $-$ но об этом всём мы поговорим подробнее позже, через пару уроков.\n",
    "\n",
    "\n",
    "\n",
    "### Функция `input()` \n",
    "\n",
    "А что если хочется **ввести какие-то данные** не в самом коде, а уже при запуске кода **пользователем**?\n",
    "\n",
    "Она считывает одну строку (пока не нажмешь Enter).\n",
    "Вот программа, которая считывает имя пользователя и приветствует его:"
   ]
  },
  {
   "cell_type": "markdown",
   "metadata": {
    "slideshow": {
     "slide_type": "subslide"
    }
   },
   "source": [
    "print('- Как тебя зовут?') # этот принт опицональный\n",
    "name = input()\n",
    "print('- Привет,', name)"
   ]
  },
  {
   "cell_type": "markdown",
   "metadata": {
    "slideshow": {
     "slide_type": "subslide"
    }
   },
   "source": [
    "На самом деле можно даже убрать первый `print()`. В документации Питона написано следующее: https://docs.python.org/3.7/library/functions.html#input."
   ]
  },
  {
   "cell_type": "markdown",
   "metadata": {
    "slideshow": {
     "slide_type": "subslide"
    }
   },
   "source": [
    "**Документация** это такая книжка-руководство по всему, абсолютно всему, что существует в языке Питон.\n",
    "\n",
    "Вообще я ОЧЕНЬ советую почаще использовать Google, чтобы что-либо узнать по поводу того как функция работает или существует ли функция которая что-то тебе нужное делает.\n",
    "\n",
    "Сделаем почти как в примере в документации."
   ]
  },
  {
   "cell_type": "markdown",
   "metadata": {
    "slideshow": {
     "slide_type": "subslide"
    }
   },
   "source": [
    "something = input('Введите что-нибудь с клавиатуры: ')\n",
    "print('А я запомнил, вы ввели сейчас следующее: ', something)"
   ]
  },
  {
   "cell_type": "markdown",
   "metadata": {
    "slideshow": {
     "slide_type": "subslide"
    }
   },
   "source": [
    "Практически всегда программа (код) решает какую-то задачу на основе считанных данных и выводит ее результат. Попробуем разобраться с этим на простом примере."
   ]
  },
  {
   "cell_type": "markdown",
   "metadata": {
    "slideshow": {
     "slide_type": "subslide"
    }
   },
   "source": [
    "### Задание переменной\n",
    "Оператор присвоения $=$ \"кладет\" какое-то значение в переменные. От него слева ставится имя переменной, cправа $-$ любое выражение.\n",
    "\n",
    "print = 1\n",
    "\n",
    "one = 1\n",
    "_hello_ = 'hello'\n",
    "1plus2 = 1 + 2\n",
    "\n",
    "Видим ошибку SyntaxError - пока не обращай внимания на название ошибки, нам достаточно знать, что она возникла. Возникла она потому что нельзя, чтобы имя начиналось с цифры и символов !\"№;%:?*()@#$^&[]{}\\|/><,.=+ - вобщем практически всех подобных символов (кроме нижнего подчеркивания!)\n",
    "\n",
    "# попробуем вывести переменную one\n",
    "print(one)\n",
    "\n",
    "Но как же так! Мы же ее выше обозначили... А все потому, что в той \"ячейке\" возникла ошибка, из-за нее не было выполнено ни одной операции. Давай заново, убрав ошибочную строчку кода."
   ]
  },
  {
   "cell_type": "markdown",
   "metadata": {
    "slideshow": {
     "slide_type": "subslide"
    }
   },
   "source": [
    "### Тип данных\n",
    "\n",
    "Так как данные бывают абсолютно разные (в основном числа, набор чисел, текст), то и в Питоне они представляются по-разному. Посмотрим поподробнее.\n",
    "\n",
    "Попробуем вычислить сумму двух чисел, введенных пользователем:"
   ]
  },
  {
   "cell_type": "markdown",
   "metadata": {
    "slideshow": {
     "slide_type": "subslide"
    }
   },
   "source": [
    "a = input()\n",
    "b = input()\n",
    "print(a + b)"
   ]
  },
  {
   "cell_type": "markdown",
   "metadata": {
    "slideshow": {
     "slide_type": "subslide"
    }
   },
   "source": [
    "Странно получилось.\n",
    "\n",
    "На самом деле Питон «сложил» две строки, а не два числа. \n",
    "\n",
    "**Строка (string, `str`) - набор символов внутри кавычек.**\n",
    "\n",
    "Сложение строк происходит так: к первой строке в конце приписывается вторая:"
   ]
  },
  {
   "cell_type": "markdown",
   "metadata": {
    "slideshow": {
     "slide_type": "subslide"
    }
   },
   "source": [
    "'Строка 1' + 'Cтрока 2'"
   ]
  },
  {
   "cell_type": "markdown",
   "metadata": {
    "slideshow": {
     "slide_type": "subslide"
    }
   },
   "source": [
    "Строки можно так же умножать на число:"
   ]
  },
  {
   "cell_type": "markdown",
   "metadata": {
    "slideshow": {
     "slide_type": "subslide"
    }
   },
   "source": [
    "'abc' * 10"
   ]
  },
  {
   "cell_type": "markdown",
   "metadata": {
    "slideshow": {
     "slide_type": "subslide"
    }
   },
   "source": [
    "Друг на друга умножать нельзя, так же как и вычитать или делить (следующие строчки кода выдадут ошибки):"
   ]
  },
  {
   "cell_type": "markdown",
   "metadata": {
    "slideshow": {
     "slide_type": "subslide"
    }
   },
   "source": [
    "'abc' * 'def'\n",
    "\n",
    "'abc' - 'a'\n",
    "\n",
    "'abc' / 2\n",
    "\n",
    "'abc' / 'a'"
   ]
  },
  {
   "cell_type": "markdown",
   "metadata": {
    "slideshow": {
     "slide_type": "subslide"
    }
   },
   "source": [
    "Обрати внимание, что в **джупитер-ноутбуке** необязательно всегда что-то печатать с помощью `print()`. В этой среде автоматически выводится значение переменной или просто содержимое **последней строчки в ячейке**. Заметь:"
   ]
  },
  {
   "cell_type": "code",
   "execution_count": null,
   "metadata": {
    "slideshow": {
     "slide_type": "subslide"
    }
   },
   "outputs": [],
   "source": [
    "1 + 2\n",
    "3 ** 2"
   ]
  },
  {
   "cell_type": "code",
   "execution_count": null,
   "metadata": {
    "slideshow": {
     "slide_type": "subslide"
    }
   },
   "outputs": [],
   "source": [
    "'Эту строку мы не увидим'\n",
    "'А эту увидим'"
   ]
  },
  {
   "cell_type": "code",
   "execution_count": null,
   "metadata": {
    "slideshow": {
     "slide_type": "subslide"
    }
   },
   "outputs": [],
   "source": [
    "a, b"
   ]
  },
  {
   "cell_type": "markdown",
   "metadata": {
    "slideshow": {
     "slide_type": "subslide"
    }
   },
   "source": [
    "**В Питоне все данные называются объектами. **\n",
    "\n",
    "Число 9 представляется объектом «число 9», слово 'Hello' – это объект «строка `'Hello'`». В ячейке выше видно, что содержимое переменных `a` и `b` заключено в кавычки, это значит что они типа «строка»."
   ]
  },
  {
   "cell_type": "markdown",
   "metadata": {
    "slideshow": {
     "slide_type": "subslide"
    }
   },
   "source": [
    "#### Функция `type()`\n",
    "Строки хранятся в объектах типа `str` (string), целые числа в объектах типа `int` (integer), числа с запятой (вернее точкой), т.е. вещественные, в объектах типа `float` (floating point). \n",
    "\n",
    "Функция `type()` принимает на вход объект и выдает её тип."
   ]
  },
  {
   "cell_type": "code",
   "execution_count": null,
   "metadata": {
    "slideshow": {
     "slide_type": "subslide"
    }
   },
   "outputs": [],
   "source": [
    "type('hello'), type(1), type(1.25)"
   ]
  },
  {
   "cell_type": "markdown",
   "metadata": {
    "slideshow": {
     "slide_type": "subslide"
    }
   },
   "source": [
    "#### Преобразование типов\n",
    "\n",
    "С разными типами объектов можно проделывать разные операции! Нельзя перемножить строки, но можно числа. Однако можно преобразовывать типы объектов. Чтобы превратить что-то в «строку», воспользуемся *функцией* `str()`, чтобы строку, обозначающую число, превратить в «число», то `int()`."
   ]
  },
  {
   "cell_type": "code",
   "execution_count": null,
   "metadata": {
    "slideshow": {
     "slide_type": "subslide"
    }
   },
   "outputs": [],
   "source": [
    "type('356'), type(int('356'))\n",
    "\n",
    "a = int('9')\n",
    "a / 2"
   ]
  },
  {
   "cell_type": "markdown",
   "metadata": {
    "slideshow": {
     "slide_type": "subslide"
    }
   },
   "source": [
    "Функция `input()` всегда считывает с клавиатуры именно строки! Исправим нашу программу: "
   ]
  },
  {
   "cell_type": "code",
   "execution_count": null,
   "metadata": {
    "slideshow": {
     "slide_type": "subslide"
    }
   },
   "outputs": [],
   "source": [
    "# мы исправили код разными способами\n",
    "\n",
    "a = int(input()) # сразу преобразовали строку в число\n",
    "b = int(input())\n",
    "print(a + b)\n",
    "\n",
    "a = input()\n",
    "b = input()\n",
    "inta = int(a) # создали новые переменные с числовыми значениями\n",
    "intb = int(b)\n",
    "print(inta + intb)\n",
    "\n",
    "a = input()\n",
    "b = input()\n",
    "print(int(a) + int(b)) # преобразовали строки в числа \"на месте\", \n",
    "                       # но сами переменные останутся строками!"
   ]
  },
  {
   "cell_type": "markdown",
   "metadata": {
    "slideshow": {
     "slide_type": "subslide"
    }
   },
   "source": [
    "### Подробнее\n",
    "\n",
    "Строки обычно заключаются в одинарные кавычки (в последнее время), но их так же можно заключать в двойные кавычки. Так же если кавычки это часть строки, то надо использовать разные виды кавычек."
   ]
  },
  {
   "cell_type": "code",
   "execution_count": null,
   "metadata": {
    "slideshow": {
     "slide_type": "subslide"
    }
   },
   "outputs": [],
   "source": [
    "print(\"string\", 'string', 'it is \"string\"', \"it is 'string'\", sep='\\n')\n",
    "\n",
    "print(\"it's a code\")"
   ]
  },
  {
   "cell_type": "markdown",
   "metadata": {
    "slideshow": {
     "slide_type": "subslide"
    }
   },
   "source": [
    "Строки так же могут быть многострочными, в таком случае нужны тройные кавычки (подходят как одинарные, так и двойные)"
   ]
  },
  {
   "cell_type": "code",
   "execution_count": null,
   "metadata": {
    "slideshow": {
     "slide_type": "subslide"
    }
   },
   "outputs": [],
   "source": [
    "print('''первая строка\n",
    "вторая строка\n",
    "третья строка\n",
    "    со сдвигом''')"
   ]
  },
  {
   "cell_type": "markdown",
   "metadata": {
    "slideshow": {
     "slide_type": "subslide"
    }
   },
   "source": [
    "Если применить `int()` к вещественному числу, то просто отбросится дробная часть:"
   ]
  },
  {
   "cell_type": "code",
   "execution_count": null,
   "metadata": {
    "slideshow": {
     "slide_type": "subslide"
    }
   },
   "outputs": [],
   "source": [
    "num = 3.14159265359\n",
    "print(type(num))\n",
    "print(int(num))\n",
    "\n",
    "int(3.7)"
   ]
  },
  {
   "cell_type": "markdown",
   "metadata": {
    "slideshow": {
     "slide_type": "subslide"
    }
   },
   "source": [
    "Есть обычное человеческое округление, функция `round()`:"
   ]
  },
  {
   "cell_type": "code",
   "execution_count": null,
   "metadata": {
    "slideshow": {
     "slide_type": "subslide"
    }
   },
   "outputs": [],
   "source": [
    "round(3.12), round(3.5), round(3.9)"
   ]
  },
  {
   "cell_type": "markdown",
   "metadata": {
    "slideshow": {
     "slide_type": "subslide"
    }
   },
   "source": [
    "Целочисленное деление возвращает тот тип, который был у делимого:"
   ]
  },
  {
   "cell_type": "code",
   "execution_count": null,
   "metadata": {
    "slideshow": {
     "slide_type": "subslide"
    }
   },
   "outputs": [],
   "source": [
    "type(5 // 2), type(num // 3)"
   ]
  },
  {
   "cell_type": "markdown",
   "metadata": {
    "slideshow": {
     "slide_type": "subslide"
    }
   },
   "source": [
    "Деление всегда возвращает `float`:"
   ]
  },
  {
   "cell_type": "code",
   "execution_count": null,
   "metadata": {
    "slideshow": {
     "slide_type": "subslide"
    }
   },
   "outputs": [],
   "source": [
    "type(5 / 2), type(4 / 2), type(num / 3)"
   ]
  },
  {
   "cell_type": "markdown",
   "metadata": {
    "slideshow": {
     "slide_type": "subslide"
    }
   },
   "source": [
    "Следующие числа будут типа `float`:"
   ]
  },
  {
   "cell_type": "code",
   "execution_count": null,
   "metadata": {
    "slideshow": {
     "slide_type": "subslide"
    }
   },
   "outputs": [],
   "source": [
    "1, 1. , 1.0, 1.25, 1e5, 1e-2, 2e2, 2.99E-3, float('-1e4'), float(1)"
   ]
  },
  {
   "cell_type": "markdown",
   "metadata": {
    "slideshow": {
     "slide_type": "subslide"
    }
   },
   "source": [
    "Как работает `e-float` число?\n",
    "\n",
    "Такое вещественное число состоит из двух частей $-$ то, что стоит слева от буквы, и то, что стоит справа. Представим это так: `leftEright`. Тогда число будет равно `left * 10 ** right`. Левая часть (мантисса) может быть `int` и `float`, правая (порядок) только `int` (оба как положительные, так и отрицательные). Пробелы между ними не ставятся.\n",
    "\n",
    "Надо быть внимательным при преобразовании типов: "
   ]
  },
  {
   "cell_type": "code",
   "execution_count": null,
   "metadata": {
    "slideshow": {
     "slide_type": "subslide"
    }
   },
   "outputs": [],
   "source": [
    "int('1p')"
   ]
  },
  {
   "cell_type": "markdown",
   "metadata": {
    "slideshow": {
     "slide_type": "subslide"
    }
   },
   "source": [
    "Из-за представления чисел в компьютере вещественные числа неточны, и это может привести к ошибкам (для высокой точности используют другие объекты, например, Decimal и Fraction):"
   ]
  },
  {
   "cell_type": "code",
   "execution_count": null,
   "metadata": {
    "slideshow": {
     "slide_type": "subslide"
    }
   },
   "outputs": [],
   "source": [
    "# равно 1.0\n",
    "0.1 + 0.1 + 0.1 + 0.1 + 0.1 + 0.1 + 0.1 + 0.1 + 0.1 + 0.1"
   ]
  },
  {
   "cell_type": "code",
   "execution_count": null,
   "metadata": {
    "slideshow": {
     "slide_type": "subslide"
    }
   },
   "outputs": [],
   "source": [
    "from decimal import Decimal\n",
    "print(0.1 + 0.1 + 0.1 + 0.1 + 0.1 + 0.1 + 0.1 + 0.1 + 0.1 + 0.1)\n",
    "print(Decimal(0.1))\n",
    "print(float(0.1))\n",
    "a = Decimal('0.1')\n",
    "print(a)\n",
    "print(float(a + a + a + a + a + a + a + a + a + a))"
   ]
  },
  {
   "cell_type": "markdown",
   "metadata": {
    "slideshow": {
     "slide_type": "subslide"
    }
   },
   "source": [
    "Также вещественные числа не поддерживают длинную арифметику (целая часть числа настолько длинная, что хранить то, что после запятой, не получается):"
   ]
  },
  {
   "cell_type": "code",
   "execution_count": null,
   "metadata": {
    "slideshow": {
     "slide_type": "subslide"
    }
   },
   "outputs": [],
   "source": [
    "a = 3 ** 1000\n",
    "a + 0.0001"
   ]
  },
  {
   "cell_type": "markdown",
   "metadata": {
    "slideshow": {
     "slide_type": "subslide"
    }
   },
   "source": [
    "Для проведения вычислений с действительными числами язык Питон содержит много дополнительных функций, собранных в библиотеку (модуль), которая называется `math` (больше тут https://docs.python.org/3.7/library/math.html)."
   ]
  },
  {
   "cell_type": "code",
   "execution_count": null,
   "metadata": {
    "slideshow": {
     "slide_type": "subslide"
    }
   },
   "outputs": [],
   "source": [
    "import math\n",
    "\n",
    "print('sin(3) =', math.sin(3))\n",
    "print('Округление вверх', math.ceil(3.14))\n",
    "print('Округление вниз ', math.floor(3.999))"
   ]
  },
  {
   "cell_type": "code",
   "execution_count": null,
   "metadata": {},
   "outputs": [],
   "source": []
  }
 ],
 "metadata": {
  "celltoolbar": "Slideshow",
  "kernelspec": {
   "display_name": "Python 3",
   "language": "python",
   "name": "python3"
  },
  "language_info": {
   "codemirror_mode": {
    "name": "ipython",
    "version": 3
   },
   "file_extension": ".py",
   "mimetype": "text/x-python",
   "name": "python",
   "nbconvert_exporter": "python",
   "pygments_lexer": "ipython3",
   "version": "3.6.9"
  }
 },
 "nbformat": 4,
 "nbformat_minor": 2
}
