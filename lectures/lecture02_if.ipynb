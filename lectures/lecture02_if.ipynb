{
 "cells": [
  {
   "cell_type": "markdown",
   "metadata": {
    "slideshow": {
     "slide_type": "slide"
    }
   },
   "source": [
    "# 02. Условные конструкции. Цикл while.\n",
    "\n",
    "---"
   ]
  },
  {
   "cell_type": "markdown",
   "metadata": {
    "slideshow": {
     "slide_type": "subslide"
    }
   },
   "source": [
    "На предыдущем занятии мы узнали о таких типах данных как число и строка. Но существует еще один ключевой тип данных в языках программирования."
   ]
  },
  {
   "cell_type": "markdown",
   "metadata": {
    "slideshow": {
     "slide_type": "slide"
    }
   },
   "source": [
    "## Тип данных bool\n",
    "\n",
    "Изучим логический тип данных, в нем существуют всего **два значения $-$ `True` (правда) и `False` (ложь).**"
   ]
  },
  {
   "cell_type": "code",
   "execution_count": 1,
   "metadata": {
    "slideshow": {
     "slide_type": "fragment"
    }
   },
   "outputs": [
    {
     "data": {
      "text/plain": [
       "(True, False)"
      ]
     },
     "execution_count": 1,
     "metadata": {},
     "output_type": "execute_result"
    }
   ],
   "source": [
    "True, False"
   ]
  },
  {
   "cell_type": "markdown",
   "metadata": {
    "slideshow": {
     "slide_type": "subslide"
    }
   },
   "source": [
    "Если рассматривать эти значения в числовом контексте, то ведут они себя как **целые 1 и 0 ** соответственно."
   ]
  },
  {
   "cell_type": "code",
   "execution_count": 2,
   "metadata": {
    "slideshow": {
     "slide_type": "fragment"
    }
   },
   "outputs": [
    {
     "data": {
      "text/plain": [
       "(1, 0)"
      ]
     },
     "execution_count": 2,
     "metadata": {},
     "output_type": "execute_result"
    }
   ],
   "source": [
    "int(True), int(False)"
   ]
  },
  {
   "cell_type": "code",
   "execution_count": 3,
   "metadata": {
    "slideshow": {
     "slide_type": "fragment"
    }
   },
   "outputs": [
    {
     "data": {
      "text/plain": [
       "1"
      ]
     },
     "execution_count": 3,
     "metadata": {},
     "output_type": "execute_result"
    }
   ],
   "source": [
    "True * True"
   ]
  },
  {
   "cell_type": "code",
   "execution_count": 4,
   "metadata": {
    "slideshow": {
     "slide_type": "fragment"
    }
   },
   "outputs": [
    {
     "data": {
      "text/plain": [
       "2"
      ]
     },
     "execution_count": 4,
     "metadata": {},
     "output_type": "execute_result"
    }
   ],
   "source": [
    "True + False + True"
   ]
  },
  {
   "cell_type": "markdown",
   "metadata": {
    "slideshow": {
     "slide_type": "subslide"
    }
   },
   "source": [
    "Точно так же, как и для других типов данных, есть функция преобразования в тип `bool()`"
   ]
  },
  {
   "cell_type": "code",
   "execution_count": 5,
   "metadata": {
    "slideshow": {
     "slide_type": "fragment"
    }
   },
   "outputs": [
    {
     "data": {
      "text/plain": [
       "(True, True, True, False, False, False)"
      ]
     },
     "execution_count": 5,
     "metadata": {},
     "output_type": "execute_result"
    }
   ],
   "source": [
    "bool(1), bool(20), bool('something'), bool(0), bool(''), bool()"
   ]
  },
  {
   "cell_type": "markdown",
   "metadata": {
    "slideshow": {
     "slide_type": "subslide"
    }
   },
   "source": [
    "### Операторы сравнения\n",
    "\n",
    "Мы можем сравнивать объекты и тем самым получать значение `True/False`"
   ]
  },
  {
   "cell_type": "code",
   "execution_count": 6,
   "metadata": {
    "slideshow": {
     "slide_type": "fragment"
    }
   },
   "outputs": [
    {
     "name": "stdout",
     "output_type": "stream",
     "text": [
      "Is 10 > 3?  True\n",
      "Is 10 >= 3? True\n",
      "Is 4 < 5?   True\n",
      "Is 4 <= 5?  True\n",
      "Is \"abc\" == \"abc\"? True\n",
      "Is 1 == 10?        False\n",
      "Is \"cat\" != \"dog\"? True\n"
     ]
    }
   ],
   "source": [
    "print('Is 10 > 3? ', 10 > 3)   # больше\n",
    "print('Is 10 >= 3?', 10 >= 3)  # больше или равно\n",
    "print('Is 4 < 5?  ', 4 < 5)    # меньше\n",
    "print('Is 4 <= 5? ', 4 <= 5)   # меньше или равно\n",
    "print('Is \"abc\" == \"abc\"?', 'abc' == 'abc')  # равняется\n",
    "print('Is 1 == 10?       ', 1 == 10)\n",
    "print('Is \"cat\" != \"dog\"?', 'cat' != 'dog')  # не равняется"
   ]
  },
  {
   "cell_type": "markdown",
   "metadata": {
    "slideshow": {
     "slide_type": "subslide"
    }
   },
   "source": [
    "Операторы сравнения можно группировать скобками"
   ]
  },
  {
   "cell_type": "code",
   "execution_count": 7,
   "metadata": {
    "slideshow": {
     "slide_type": "fragment"
    }
   },
   "outputs": [
    {
     "data": {
      "text/plain": [
       "True"
      ]
     },
     "execution_count": 7,
     "metadata": {},
     "output_type": "execute_result"
    }
   ],
   "source": [
    "(42 != 42) == 0"
   ]
  },
  {
   "cell_type": "markdown",
   "metadata": {
    "slideshow": {
     "slide_type": "fragment"
    }
   },
   "source": [
    "и объединять в цепочки"
   ]
  },
  {
   "cell_type": "code",
   "execution_count": 8,
   "metadata": {
    "slideshow": {
     "slide_type": "fragment"
    }
   },
   "outputs": [
    {
     "data": {
      "text/plain": [
       "(True, False)"
      ]
     },
     "execution_count": 8,
     "metadata": {},
     "output_type": "execute_result"
    }
   ],
   "source": [
    "x = 42\n",
    "3.14 < x <= 57, 42.0 == x == 42.0 > 57"
   ]
  },
  {
   "cell_type": "markdown",
   "metadata": {
    "slideshow": {
     "slide_type": "subslide"
    }
   },
   "source": [
    "### Логические функции \n",
    "\n",
    "Существуют также логические функции **И, ИЛИ, НЕ**"
   ]
  },
  {
   "cell_type": "markdown",
   "metadata": {
    "slideshow": {
     "slide_type": "subslide"
    }
   },
   "source": [
    "**И** обозначается знаком амперсанд `&` или союзом `and` (так же, если рассматривать булевые значения как числа 0 и 1, то **И** это операция *умножения*)"
   ]
  },
  {
   "cell_type": "code",
   "execution_count": 9,
   "metadata": {
    "slideshow": {
     "slide_type": "fragment"
    }
   },
   "outputs": [
    {
     "data": {
      "text/plain": [
       "(True, False, False, False)"
      ]
     },
     "execution_count": 9,
     "metadata": {},
     "output_type": "execute_result"
    }
   ],
   "source": [
    "True & True, True & False, False and True, False and False"
   ]
  },
  {
   "cell_type": "markdown",
   "metadata": {
    "slideshow": {
     "slide_type": "subslide"
    }
   },
   "source": [
    "**ИЛИ** обозначается знаком `|` или союзом `or` (так же, если рассматривать булевые значения как числа 0 и 1, то **ИЛИ** это операция *сложения*)"
   ]
  },
  {
   "cell_type": "code",
   "execution_count": 10,
   "metadata": {
    "slideshow": {
     "slide_type": "fragment"
    }
   },
   "outputs": [
    {
     "data": {
      "text/plain": [
       "(True, True, True, False)"
      ]
     },
     "execution_count": 10,
     "metadata": {},
     "output_type": "execute_result"
    }
   ],
   "source": [
    "True | True, True | False, False or True, False or False"
   ]
  },
  {
   "cell_type": "markdown",
   "metadata": {
    "slideshow": {
     "slide_type": "subslide"
    }
   },
   "source": [
    "**НЕ** обозначается частицей `not`"
   ]
  },
  {
   "cell_type": "code",
   "execution_count": 11,
   "metadata": {
    "slideshow": {
     "slide_type": "fragment"
    }
   },
   "outputs": [
    {
     "data": {
      "text/plain": [
       "(False, True)"
      ]
     },
     "execution_count": 11,
     "metadata": {},
     "output_type": "execute_result"
    }
   ],
   "source": [
    "not True, not False "
   ]
  },
  {
   "cell_type": "markdown",
   "metadata": {
    "slideshow": {
     "slide_type": "slide"
    }
   },
   "source": [
    "### Условная конструкция \n",
    "\n",
    "До этого строчки кода исполнялись просто друг за другом, но что если хочется выполнять разные действия в зависимости от какого-то условия? Тогда на помощь приходят **условные конструкции**. Вот пример:"
   ]
  },
  {
   "cell_type": "code",
   "execution_count": 12,
   "metadata": {
    "slideshow": {
     "slide_type": "fragment"
    }
   },
   "outputs": [
    {
     "name": "stdout",
     "output_type": "stream",
     "text": [
      "Введите число ---> 42\n",
      "Введено положительное число\n"
     ]
    }
   ],
   "source": [
    "number = int(input('Введите число ---> '))\n",
    "if number > 0:\n",
    "    print('Введено положительное число')\n",
    "elif number < 0:\n",
    "    print('Введено отрицательно число')\n",
    "else:\n",
    "    print('Введен ноль!')"
   ]
  },
  {
   "cell_type": "markdown",
   "metadata": {
    "slideshow": {
     "slide_type": "subslide"
    }
   },
   "source": [
    "То есть конструкция такая:\n",
    "```\n",
    "if (Условие 1):\n",
    "    Блок инструкций 1\n",
    "elif (Условие 2):\n",
    "    Блок инструкций 2\n",
    "else:\n",
    "    Блок инструкций ИНАЧЕ```\n",
    "\n",
    "Программа проверяет условия по очереди сверху вних и если одно из них выполнилось, то выполняет его блок инструкций, после чего продолжает исполнять код, который идет после всей конструкции `if-else`. Если ни одно из условий не выполнилось и есть часть `else`, то выполняется ее блок инструкций."
   ]
  },
  {
   "cell_type": "markdown",
   "metadata": {
    "slideshow": {
     "slide_type": "subslide"
    }
   },
   "source": [
    "Средняя часть `elif` может быть в любом количестве или даже не быть! \n",
    "Например:"
   ]
  },
  {
   "cell_type": "code",
   "execution_count": 13,
   "metadata": {
    "slideshow": {
     "slide_type": "fragment"
    }
   },
   "outputs": [
    {
     "name": "stdout",
     "output_type": "stream",
     "text": [
      "Введите число ---> 42\n",
      "Введен не ноль!\n"
     ]
    }
   ],
   "source": [
    "number = int(input('Введите число ---> '))\n",
    "\n",
    "if number != 0:\n",
    "    print('Введен не ноль!')\n",
    "else:\n",
    "    print('Введен ноль!')"
   ]
  },
  {
   "cell_type": "code",
   "execution_count": 14,
   "metadata": {
    "slideshow": {
     "slide_type": "subslide"
    }
   },
   "outputs": [
    {
     "name": "stdout",
     "output_type": "stream",
     "text": [
      "Введите число ---> 42\n",
      "Введен ответ на все вопросы...\n"
     ]
    }
   ],
   "source": [
    "number = int(input('Введите число ---> '))\n",
    "\n",
    "if number == 0:\n",
    "    print('Введен ноль!')\n",
    "elif number == 1:\n",
    "    print('Введена единица!')\n",
    "elif number == 2:\n",
    "    print('Введена двойка!')\n",
    "elif number == 7:\n",
    "    print('Введена семерка!')\n",
    "elif number == 42:\n",
    "    print('Введен ответ на все вопросы...')\n",
    "else:\n",
    "    print('Введено какое-то число.. Хм.')"
   ]
  },
  {
   "cell_type": "markdown",
   "metadata": {
    "slideshow": {
     "slide_type": "subslide"
    }
   },
   "source": [
    "На самом деле и части `else` может не быть. Если условие не выполнилось, то просто код продолжит работу дальше."
   ]
  },
  {
   "cell_type": "code",
   "execution_count": 15,
   "metadata": {
    "slideshow": {
     "slide_type": "fragment"
    }
   },
   "outputs": [
    {
     "name": "stdout",
     "output_type": "stream",
     "text": [
      "Введите число ---> 42\n",
      "---\n"
     ]
    }
   ],
   "source": [
    "number = int(input('Введите число ---> '))\n",
    "\n",
    "if number == 0:\n",
    "    print('Введен ноль!')\n",
    "print('---')"
   ]
  },
  {
   "cell_type": "markdown",
   "metadata": {
    "slideshow": {
     "slide_type": "subslide"
    }
   },
   "source": [
    "Такие конструкции могут быть вложены друг в друга:"
   ]
  },
  {
   "cell_type": "code",
   "execution_count": 16,
   "metadata": {
    "slideshow": {
     "slide_type": "fragment"
    }
   },
   "outputs": [
    {
     "name": "stdout",
     "output_type": "stream",
     "text": [
      "Введите число ---> 42\n",
      "Введено небольшое положительное число\n"
     ]
    }
   ],
   "source": [
    "number = int(input('Введите число ---> '))\n",
    "\n",
    "if number > 0:\n",
    "    if number < 100: # слева стоит 4 пробела!\n",
    "        print('Введено небольшое положительное число')\n",
    "    else:\n",
    "        print('Введено большое положительное число')\n",
    "else:\n",
    "    print('Введено неположительное число')"
   ]
  },
  {
   "cell_type": "markdown",
   "metadata": {
    "slideshow": {
     "slide_type": "subslide"
    }
   },
   "source": [
    "Важно заметить, что условие это просто какое-то верное или ложное утверждение (то есть `bool` переменная `True` или `False`). Как мы уже изучили, можно строить сложные логические утверждения, которые так же принимают эти значения. Значит их тоже можно ставить как условия:"
   ]
  },
  {
   "cell_type": "code",
   "execution_count": 17,
   "metadata": {
    "slideshow": {
     "slide_type": "fragment"
    }
   },
   "outputs": [
    {
     "name": "stdout",
     "output_type": "stream",
     "text": [
      "Введите число ---> 42\n",
      "Введено положительное четное число!\n"
     ]
    }
   ],
   "source": [
    "number = int(input('Введите число ---> '))\n",
    "\n",
    "if (number % 2 == 0) & (number > 0):\n",
    "    print('Введено положительное четное число!')\n",
    "else:\n",
    "    print('Введен отрицательное или нечетное число!')"
   ]
  },
  {
   "cell_type": "markdown",
   "metadata": {
    "slideshow": {
     "slide_type": "subslide"
    }
   },
   "source": [
    "Вспомним, что **числа** тоже можно представить как `bool` значение, а значит и использовать как условия!"
   ]
  },
  {
   "cell_type": "code",
   "execution_count": 18,
   "metadata": {
    "slideshow": {
     "slide_type": "fragment"
    }
   },
   "outputs": [
    {
     "name": "stdout",
     "output_type": "stream",
     "text": [
      "Введите число ---> 42\n",
      "Введен четное число!\n"
     ]
    }
   ],
   "source": [
    "number = int(input('Введите число ---> '))\n",
    "\n",
    "if (number % 2): # остаток от деления на два равен 0 (четное) или 1 (нечетное)\n",
    "    print('Введено нечетное число!')\n",
    "else:\n",
    "    print('Введен четное число!')"
   ]
  },
  {
   "cell_type": "markdown",
   "metadata": {
    "slideshow": {
     "slide_type": "subslide"
    }
   },
   "source": [
    "### Задача 1\n",
    "\n",
    "Дано натуральное число. Требуется определить, является ли год с данным номером високосным. Если год является високосным, то выведите \"Високосный год\", иначе выведите \"Не високосный год\".\n",
    "\n",
    "Напомним, что год является високосным, если его номер кратен 4, но не кратен 100, а также если он кратен 400."
   ]
  },
  {
   "cell_type": "markdown",
   "metadata": {
    "slideshow": {
     "slide_type": "subslide"
    }
   },
   "source": [
    "### Задача 2\n",
    "\n",
    "Вводятся два числа a и b. Выведите какое число было больше и его значение. Если числа равны, выведите \"Числа равны\" и значение.\n"
   ]
  },
  {
   "cell_type": "markdown",
   "metadata": {
    "slideshow": {
     "slide_type": "slide"
    }
   },
   "source": [
    "## Цикл `while`"
   ]
  },
  {
   "cell_type": "markdown",
   "metadata": {
    "slideshow": {
     "slide_type": "fragment"
    }
   },
   "source": [
    "Что такое цикл? "
   ]
  },
  {
   "cell_type": "markdown",
   "metadata": {
    "slideshow": {
     "slide_type": "subslide"
    }
   },
   "source": [
    "Цикл while (\"пока\") выполняется, пока какое-то заданное условие является Истинным:"
   ]
  },
  {
   "cell_type": "code",
   "execution_count": 19,
   "metadata": {
    "slideshow": {
     "slide_type": "fragment"
    }
   },
   "outputs": [
    {
     "name": "stdout",
     "output_type": "stream",
     "text": [
      "10->9\n",
      "9->8\n",
      "8->7\n",
      "7->6\n",
      "6->5\n",
      "5->4\n",
      "4->3\n",
      "3->2\n",
      "2->1\n",
      "1->0\n",
      "end\n"
     ]
    }
   ],
   "source": [
    "i = 10\n",
    "while i > 0:\n",
    "    print(i, end='->')\n",
    "    i -= 1\n",
    "    print(i)\n",
    "print('end')"
   ]
  },
  {
   "cell_type": "markdown",
   "metadata": {
    "slideshow": {
     "slide_type": "subslide"
    }
   },
   "source": [
    "Конструкция простая:\n",
    "\n",
    "```\n",
    "while *условие*:\n",
    "    your code\n",
    "```"
   ]
  },
  {
   "cell_type": "markdown",
   "metadata": {
    "slideshow": {
     "slide_type": "subslide"
    }
   },
   "source": [
    "Такой цикл легко может стать бесконечным (что, как правило, плохо и является ошибкой), если внутри блока кода не менять никак значения, которые влияют на условие."
   ]
  },
  {
   "cell_type": "code",
   "execution_count": null,
   "metadata": {
    "slideshow": {
     "slide_type": "fragment"
    }
   },
   "outputs": [],
   "source": [
    "i = 10\n",
    "while i > 0:\n",
    "    print(i, end=' ')"
   ]
  },
  {
   "cell_type": "markdown",
   "metadata": {
    "slideshow": {
     "slide_type": "subslide"
    }
   },
   "source": [
    "### Прерывание работы цикла break \n",
    "\n",
    "Если во время исполнения цикла внутри блока кода встретится команда break, то \"исполнитель\" выйдет из цикла совсем."
   ]
  },
  {
   "cell_type": "code",
   "execution_count": 21,
   "metadata": {
    "slideshow": {
     "slide_type": "fragment"
    }
   },
   "outputs": [
    {
     "name": "stdout",
     "output_type": "stream",
     "text": [
      "10 11 12 13 14 15 "
     ]
    }
   ],
   "source": [
    "i = 10\n",
    "while i > 0:\n",
    "    print(i, end=' ')\n",
    "    i += 1\n",
    "    if i > 15:\n",
    "        break"
   ]
  },
  {
   "cell_type": "markdown",
   "metadata": {
    "slideshow": {
     "slide_type": "subslide"
    }
   },
   "source": [
    "### Пропуск цикла continue\n",
    "\n",
    "Если во время исполнения цикла внутри блока кода встретится команда continue, то \"исполнитель\" пропустит весь код ниже команды внутри блока кода и перейдет к следующей итерации (loop, цикл)"
   ]
  },
  {
   "cell_type": "code",
   "execution_count": 22,
   "metadata": {
    "slideshow": {
     "slide_type": "fragment"
    }
   },
   "outputs": [
    {
     "name": "stdout",
     "output_type": "stream",
     "text": [
      "0 1 2 4 5 "
     ]
    }
   ],
   "source": [
    "i = 0\n",
    " \n",
    "while i < 10:\n",
    "    if i == 3:\n",
    "        i += 1\n",
    "        continue\n",
    "    \n",
    "    print(i, end=' ')\n",
    "    if i == 5:\n",
    "        break\n",
    "    \n",
    "    i += 1"
   ]
  },
  {
   "cell_type": "markdown",
   "metadata": {
    "slideshow": {
     "slide_type": "subslide"
    }
   },
   "source": [
    "### Волшебное слово else\n",
    "\n",
    "Слово else, примененное в цикле for или while, проверяет, был ли произведен выход из цикла инструкцией break, или же \"естественным\" образом. Блок инструкций внутри else выполнится только в том случае, если выход из цикла произошел без помощи break."
   ]
  },
  {
   "cell_type": "code",
   "execution_count": 23,
   "metadata": {
    "slideshow": {
     "slide_type": "fragment"
    }
   },
   "outputs": [
    {
     "name": "stdout",
     "output_type": "stream",
     "text": [
      "Естественный конец цикла\n"
     ]
    }
   ],
   "source": [
    "i = -1\n",
    "while i < 2:\n",
    "    if i == 2:\n",
    "        print('Разрыв цикла')\n",
    "        break\n",
    "    i += 1\n",
    "else:\n",
    "     print('Естественный конец цикла')"
   ]
  },
  {
   "cell_type": "markdown",
   "metadata": {
    "slideshow": {
     "slide_type": "subslide"
    }
   },
   "source": [
    "## Как делать нельзя "
   ]
  },
  {
   "cell_type": "code",
   "execution_count": 24,
   "metadata": {
    "slideshow": {
     "slide_type": "fragment"
    }
   },
   "outputs": [
    {
     "name": "stdout",
     "output_type": "stream",
     "text": [
      "0 2 4 6 8 "
     ]
    }
   ],
   "source": [
    "i = 0\n",
    "while True:\n",
    "    print(i, end=' ')\n",
    "    i += 2\n",
    "    if i == 10:\n",
    "        break        "
   ]
  },
  {
   "cell_type": "markdown",
   "metadata": {
    "slideshow": {
     "slide_type": "subslide"
    }
   },
   "source": [
    "### Задача 3.1\n",
    "\n",
    "Даны два целых числа A и B (при этом A ≤ B). Выведите все числа от A до B включительно."
   ]
  },
  {
   "cell_type": "markdown",
   "metadata": {
    "slideshow": {
     "slide_type": "subslide"
    }
   },
   "source": [
    "### Задача 3.2\n",
    "\n",
    "Даны два целых числа A и В. Выведите все числа от A до B включительно, в порядке возрастания, если A < B, или в порядке убывания в противном случае."
   ]
  },
  {
   "cell_type": "markdown",
   "metadata": {
    "slideshow": {
     "slide_type": "subslide"
    }
   },
   "source": [
    "### Задача 4\n",
    "\n",
    "По данному натуральному числу N найдите наибольшую целую степень двойки, не превосходящую N. Выведите показатель степени и саму степень."
   ]
  }
 ],
 "metadata": {
  "celltoolbar": "Slideshow",
  "kernelspec": {
   "display_name": "Python 3",
   "language": "python",
   "name": "python3"
  },
  "language_info": {
   "codemirror_mode": {
    "name": "ipython",
    "version": 3
   },
   "file_extension": ".py",
   "mimetype": "text/x-python",
   "name": "python",
   "nbconvert_exporter": "python",
   "pygments_lexer": "ipython3",
   "version": "3.6.9"
  }
 },
 "nbformat": 4,
 "nbformat_minor": 2
}
