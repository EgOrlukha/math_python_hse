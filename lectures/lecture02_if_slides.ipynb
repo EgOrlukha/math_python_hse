{
 "cells": [
  {
   "cell_type": "markdown",
   "metadata": {
    "slideshow": {
     "slide_type": "slide"
    }
   },
   "source": [
    "<span style=\"color:green; font-size:2.5em;\"> 02. Условные конструкции. Цикл while.</span> \n",
    "\n",
    "---"
   ]
  },
  {
   "cell_type": "markdown",
   "metadata": {
    "slideshow": {
     "slide_type": "subslide"
    }
   },
   "source": [
    "На предыдущем занятии мы узнали о таких типах данных как число и строка. Но существует еще один ключевой тип данных в языках программирования."
   ]
  },
  {
   "cell_type": "markdown",
   "metadata": {
    "slideshow": {
     "slide_type": "slide"
    }
   },
   "source": [
    "<span style=\"color:green; font-size:2em;\"> Тип данных bool </span> \n",
    "\n",
    "Изучим логический тип данных, в нем существуют всего **два значения $-$ `True` (правда) и `False` (ложь).**"
   ]
  },
  {
   "cell_type": "code",
   "execution_count": null,
   "metadata": {
    "slideshow": {
     "slide_type": "fragment"
    }
   },
   "outputs": [],
   "source": [
    "True, False"
   ]
  },
  {
   "cell_type": "markdown",
   "metadata": {
    "slideshow": {
     "slide_type": "subslide"
    }
   },
   "source": [
    "Если рассматривать эти значения в числовом контексте, то ведут они себя как **целые 1 и 0 ** соответственно."
   ]
  },
  {
   "cell_type": "code",
   "execution_count": null,
   "metadata": {
    "slideshow": {
     "slide_type": "fragment"
    }
   },
   "outputs": [],
   "source": [
    "int(True), int(False)"
   ]
  },
  {
   "cell_type": "code",
   "execution_count": null,
   "metadata": {
    "slideshow": {
     "slide_type": "fragment"
    }
   },
   "outputs": [],
   "source": [
    "True * True"
   ]
  },
  {
   "cell_type": "code",
   "execution_count": null,
   "metadata": {
    "slideshow": {
     "slide_type": "fragment"
    }
   },
   "outputs": [],
   "source": [
    "True + False + True"
   ]
  },
  {
   "cell_type": "markdown",
   "metadata": {
    "slideshow": {
     "slide_type": "subslide"
    }
   },
   "source": [
    "Точно так же, как и для других типов данных, есть функция преобразования в тип `bool()`"
   ]
  },
  {
   "cell_type": "code",
   "execution_count": null,
   "metadata": {
    "slideshow": {
     "slide_type": "fragment"
    }
   },
   "outputs": [],
   "source": [
    "bool(1), bool(20), bool('something'), bool(0), bool(''), bool()"
   ]
  },
  {
   "cell_type": "markdown",
   "metadata": {
    "slideshow": {
     "slide_type": "subslide"
    }
   },
   "source": [
    "<span style=\"color:green; font-size:1.5em;\"> Операторы сравнения </span>\n",
    "\n",
    "Мы можем сравнивать объекты и тем самым получать значение `True/False`"
   ]
  },
  {
   "cell_type": "code",
   "execution_count": null,
   "metadata": {
    "slideshow": {
     "slide_type": "fragment"
    }
   },
   "outputs": [],
   "source": [
    "print('Is 10 > 3? ', 10 > 3)   # больше\n",
    "print('Is 10 >= 3?', 10 >= 3)  # больше или равно\n",
    "print('Is 4 < 5?  ', 4 < 5)    # меньше\n",
    "print('Is 4 <= 5? ', 4 <= 5)   # меньше или равно\n",
    "print('Is \"abc\" == \"abc\"?', 'abc' == 'abc')  # равняется\n",
    "print('Is 1 == 10?       ', 1 == 10)\n",
    "print('Is \"cat\" != \"dog\"?', 'cat' != 'dog')  # не равняется"
   ]
  },
  {
   "cell_type": "markdown",
   "metadata": {
    "slideshow": {
     "slide_type": "subslide"
    }
   },
   "source": [
    "Операторы сравнения можно группировать скобками"
   ]
  },
  {
   "cell_type": "code",
   "execution_count": null,
   "metadata": {
    "slideshow": {
     "slide_type": "fragment"
    }
   },
   "outputs": [],
   "source": [
    "(42 != 42) == 0"
   ]
  },
  {
   "cell_type": "markdown",
   "metadata": {
    "slideshow": {
     "slide_type": "fragment"
    }
   },
   "source": [
    "и объединять в цепочки"
   ]
  },
  {
   "cell_type": "code",
   "execution_count": null,
   "metadata": {
    "slideshow": {
     "slide_type": "fragment"
    }
   },
   "outputs": [],
   "source": [
    "x = 42\n",
    "3.14 < x <= 57, 42.0 == x == 42.0 > 57"
   ]
  },
  {
   "cell_type": "markdown",
   "metadata": {
    "slideshow": {
     "slide_type": "subslide"
    }
   },
   "source": [
    "<span style=\"color:green; font-size:1.5em;\"> Логические функции </span> \n",
    "\n",
    "Существуют также логические функции **И, ИЛИ, НЕ**"
   ]
  },
  {
   "cell_type": "markdown",
   "metadata": {
    "slideshow": {
     "slide_type": "subslide"
    }
   },
   "source": [
    "**И** обозначается знаком амперсанд `&` или союзом `and` (так же, если рассматривать булевые значения как числа 0 и 1, то **И** это операция *умножения*)"
   ]
  },
  {
   "cell_type": "code",
   "execution_count": null,
   "metadata": {
    "slideshow": {
     "slide_type": "fragment"
    }
   },
   "outputs": [],
   "source": [
    "True & True, True & False, False and True, False and False"
   ]
  },
  {
   "cell_type": "markdown",
   "metadata": {
    "slideshow": {
     "slide_type": "subslide"
    }
   },
   "source": [
    "**ИЛИ** обозначается знаком `|` или союзом `or` (так же, если рассматривать булевые значения как числа 0 и 1, то **ИЛИ** это операция *сложения*)"
   ]
  },
  {
   "cell_type": "code",
   "execution_count": null,
   "metadata": {
    "slideshow": {
     "slide_type": "fragment"
    }
   },
   "outputs": [],
   "source": [
    "True | True, True | False, False or True, False or False"
   ]
  },
  {
   "cell_type": "markdown",
   "metadata": {
    "slideshow": {
     "slide_type": "subslide"
    }
   },
   "source": [
    "**НЕ** обозначается частицей `not`"
   ]
  },
  {
   "cell_type": "code",
   "execution_count": null,
   "metadata": {
    "slideshow": {
     "slide_type": "fragment"
    }
   },
   "outputs": [],
   "source": [
    "not True, not False "
   ]
  },
  {
   "cell_type": "markdown",
   "metadata": {
    "slideshow": {
     "slide_type": "slide"
    }
   },
   "source": [
    "<span style=\"color:green; font-size:2em;\"> Условная конструкция </span> \n",
    "\n",
    "До этого строчки кода исполнялись просто друг за другом, но что если хочется выполнять разные действия в зависимости от какого-то условия? Тогда на помощь приходят **условные конструкции**. Вот пример:"
   ]
  },
  {
   "cell_type": "code",
   "execution_count": null,
   "metadata": {
    "slideshow": {
     "slide_type": "fragment"
    }
   },
   "outputs": [],
   "source": [
    "number = int(input('Введите число ---> '))\n",
    "if number > 0:\n",
    "    print('Введено положительное число')\n",
    "elif number < 0:\n",
    "    print('Введено отрицательно число')\n",
    "else:\n",
    "    print('Введен ноль!')"
   ]
  },
  {
   "cell_type": "markdown",
   "metadata": {
    "slideshow": {
     "slide_type": "subslide"
    }
   },
   "source": [
    "То есть конструкция такая:\n",
    "```\n",
    "if (Условие 1):\n",
    "    Блок инструкций 1\n",
    "elif (Условие 2):\n",
    "    Блок инструкций 2\n",
    "else:\n",
    "    Блок инструкций ИНАЧЕ```\n",
    "\n",
    "Программа проверяет условия по очереди сверху вних и если одно из них выполнилось, то выполняет его блок инструкций, после чего продолжает исполнять код, который идет после всей конструкции `if-else`. Если ни одно из условий не выполнилось и есть часть `else`, то выполняется ее блок инструкций."
   ]
  },
  {
   "cell_type": "markdown",
   "metadata": {
    "slideshow": {
     "slide_type": "subslide"
    }
   },
   "source": [
    "Средняя часть `elif` может быть в любом количестве или даже не быть! \n",
    "Например:"
   ]
  },
  {
   "cell_type": "code",
   "execution_count": null,
   "metadata": {
    "slideshow": {
     "slide_type": "fragment"
    }
   },
   "outputs": [],
   "source": [
    "number = int(input('Введите число ---> '))\n",
    "\n",
    "if number != 0:\n",
    "    print('Введен не ноль!')\n",
    "else:\n",
    "    print('Введен ноль!')"
   ]
  },
  {
   "cell_type": "code",
   "execution_count": null,
   "metadata": {
    "slideshow": {
     "slide_type": "subslide"
    }
   },
   "outputs": [],
   "source": [
    "number = int(input('Введите число ---> '))\n",
    "\n",
    "if number == 0:\n",
    "    print('Введен ноль!')\n",
    "elif number == 1:\n",
    "    print('Введена единица!')\n",
    "elif number == 2:\n",
    "    print('Введена двойка!')\n",
    "elif number == 7:\n",
    "    print('Введена семерка!')\n",
    "elif number == 42:\n",
    "    print('Введен ответ на все вопросы...')\n",
    "else:\n",
    "    print('Введено какое-то число.. Хм.')"
   ]
  },
  {
   "cell_type": "markdown",
   "metadata": {
    "slideshow": {
     "slide_type": "subslide"
    }
   },
   "source": [
    "На самом деле и части `else` может не быть. Если условие не выполнилось, то просто код продолжит работу дальше."
   ]
  },
  {
   "cell_type": "code",
   "execution_count": null,
   "metadata": {
    "slideshow": {
     "slide_type": "fragment"
    }
   },
   "outputs": [],
   "source": [
    "number = int(input('Введите число ---> '))\n",
    "\n",
    "if number == 0:\n",
    "    print('Введен ноль!')\n",
    "print('---')"
   ]
  },
  {
   "cell_type": "markdown",
   "metadata": {
    "slideshow": {
     "slide_type": "subslide"
    }
   },
   "source": [
    "Такие конструкции могут быть вложены друг в друга:"
   ]
  },
  {
   "cell_type": "code",
   "execution_count": null,
   "metadata": {
    "slideshow": {
     "slide_type": "fragment"
    }
   },
   "outputs": [],
   "source": [
    "number = int(input('Введите число ---> '))\n",
    "\n",
    "if number > 0:\n",
    "    if number < 100: # слева стоит 4 пробела!\n",
    "        print('Введено небольшое положительное число')\n",
    "    else:\n",
    "        print('Введено большое положительное число')\n",
    "else:\n",
    "    print('Введено неположительное число')"
   ]
  },
  {
   "cell_type": "markdown",
   "metadata": {
    "slideshow": {
     "slide_type": "subslide"
    }
   },
   "source": [
    "Важно заметить, что условие это просто какое-то верное или ложное утверждение (то есть `bool` переменная `True` или `False`). Как мы уже изучили, можно строить сложные логические утверждения, которые так же принимают эти значения. Значит их тоже можно ставить как условия:"
   ]
  },
  {
   "cell_type": "code",
   "execution_count": null,
   "metadata": {
    "slideshow": {
     "slide_type": "fragment"
    }
   },
   "outputs": [],
   "source": [
    "number = int(input('Введите число ---> '))\n",
    "\n",
    "if (number % 2 == 0) & (number > 0):\n",
    "    print('Введено положительное четное число!')\n",
    "else:\n",
    "    print('Введен отрицательное или нечетное число!')"
   ]
  },
  {
   "cell_type": "markdown",
   "metadata": {
    "slideshow": {
     "slide_type": "subslide"
    }
   },
   "source": [
    "Вспомним, что **числа** тоже можно представить как `bool` значение, а значит и использовать как условия!"
   ]
  },
  {
   "cell_type": "code",
   "execution_count": null,
   "metadata": {
    "slideshow": {
     "slide_type": "fragment"
    }
   },
   "outputs": [],
   "source": [
    "number = int(input('Введите число ---> '))\n",
    "\n",
    "if (number % 2): # остаток от деления на два равен 0 (четное) или 1 (нечетное)\n",
    "    print('Введено нечетное число!')\n",
    "else:\n",
    "    print('Введен четное число!')"
   ]
  },
  {
   "cell_type": "markdown",
   "metadata": {
    "slideshow": {
     "slide_type": "subslide"
    }
   },
   "source": [
    "## Задача 1\n",
    "\n",
    "Дано натуральное число. Требуется определить, является ли год с данным номером високосным. Если год является високосным, то выведите \"Високосный год\", иначе выведите \"Не високосный год\".\n",
    "\n",
    "Напомним, что год является високосным, если его номер кратен 4, но не кратен 100, а также если он кратен 400."
   ]
  },
  {
   "cell_type": "markdown",
   "metadata": {
    "slideshow": {
     "slide_type": "subslide"
    }
   },
   "source": [
    "## Задача 2\n",
    "\n",
    "Вводятся два числа a и b. Выведите какое число было больше и его значение. Если числа равны, выведите \"Числа равны\" и значение.\n"
   ]
  },
  {
   "cell_type": "markdown",
   "metadata": {
    "slideshow": {
     "slide_type": "slide"
    }
   },
   "source": [
    "<span style=\"color:green; font-size:2em;\"> Цикл `while` </span> "
   ]
  },
  {
   "cell_type": "markdown",
   "metadata": {
    "slideshow": {
     "slide_type": "fragment"
    }
   },
   "source": [
    "Что такое цикл? "
   ]
  },
  {
   "cell_type": "markdown",
   "metadata": {
    "slideshow": {
     "slide_type": "subslide"
    }
   },
   "source": [
    "Цикл while (\"пока\") выполняется, пока какое-то заданное условие является Истинным:"
   ]
  },
  {
   "cell_type": "code",
   "execution_count": null,
   "metadata": {
    "slideshow": {
     "slide_type": "fragment"
    }
   },
   "outputs": [],
   "source": [
    "i = 10\n",
    "while i > 0:\n",
    "    print(i, end='->')\n",
    "    i -= 1\n",
    "    print(i)\n",
    "print('end')"
   ]
  },
  {
   "cell_type": "markdown",
   "metadata": {
    "slideshow": {
     "slide_type": "subslide"
    }
   },
   "source": [
    "Конструкция простая:\n",
    "\n",
    "```\n",
    "while *условие*:\n",
    "    your code\n",
    "```"
   ]
  },
  {
   "cell_type": "markdown",
   "metadata": {
    "slideshow": {
     "slide_type": "subslide"
    }
   },
   "source": [
    "Такой цикл легко может стать бесконечным (что, как правило, плохо и является ошибкой), если внутри блока кода не менять никак значения, которые влияют на условие."
   ]
  },
  {
   "cell_type": "code",
   "execution_count": null,
   "metadata": {
    "slideshow": {
     "slide_type": "fragment"
    }
   },
   "outputs": [],
   "source": [
    "i = 10\n",
    "while i > 0:\n",
    "    print(i, end=' ')"
   ]
  },
  {
   "cell_type": "markdown",
   "metadata": {
    "slideshow": {
     "slide_type": "subslide"
    }
   },
   "source": [
    "<span style=\"color:green; font-size:1.5em;\">Прерывание работы цикла break </span>\n",
    "\n",
    "Если во время исполнения цикла внутри блока кода встретится команда break, то \"исполнитель\" выйдет из цикла совсем."
   ]
  },
  {
   "cell_type": "code",
   "execution_count": null,
   "metadata": {
    "slideshow": {
     "slide_type": "fragment"
    }
   },
   "outputs": [],
   "source": [
    "i = 10\n",
    "while i > 0:\n",
    "    print(i, end=' ')\n",
    "    i += 1\n",
    "    if i > 15:\n",
    "        break"
   ]
  },
  {
   "cell_type": "markdown",
   "metadata": {
    "slideshow": {
     "slide_type": "subslide"
    }
   },
   "source": [
    "<span style=\"color:green; font-size:1.5em;\">Пропуск цикла continue</span>\n",
    "\n",
    "Если во время исполнения цикла внутри блока кода встретится команда continue, то \"исполнитель\" пропустит весь код ниже команды внутри блока кода и перейдет к следующей итерации (loop, цикл)"
   ]
  },
  {
   "cell_type": "code",
   "execution_count": null,
   "metadata": {
    "slideshow": {
     "slide_type": "fragment"
    }
   },
   "outputs": [],
   "source": [
    "i = 0\n",
    " \n",
    "while i < 10:\n",
    "    if i == 3:\n",
    "        i += 1\n",
    "        continue\n",
    "    \n",
    "    print(i, end=' ')\n",
    "    if i == 5:\n",
    "        break\n",
    "    \n",
    "    i += 1"
   ]
  },
  {
   "cell_type": "markdown",
   "metadata": {
    "slideshow": {
     "slide_type": "subslide"
    }
   },
   "source": [
    "<span style=\"color:green; font-size:1.5em;\">Волшебное слово else</span>\n",
    "\n",
    "Слово else, примененное в цикле for или while, проверяет, был ли произведен выход из цикла инструкцией break, или же \"естественным\" образом. Блок инструкций внутри else выполнится только в том случае, если выход из цикла произошел без помощи break."
   ]
  },
  {
   "cell_type": "code",
   "execution_count": null,
   "metadata": {
    "slideshow": {
     "slide_type": "fragment"
    }
   },
   "outputs": [],
   "source": [
    "i = -1\n",
    "while i < 2:\n",
    "    if i == 2:\n",
    "        print('Разрыв цикла')\n",
    "        break\n",
    "    i += 1\n",
    "else:\n",
    "     print('Естественный конец цикла')"
   ]
  },
  {
   "cell_type": "markdown",
   "metadata": {
    "slideshow": {
     "slide_type": "subslide"
    }
   },
   "source": [
    "<span style=\"color:green; font-size:2em;\"> Как делать нельзя </span>"
   ]
  },
  {
   "cell_type": "code",
   "execution_count": null,
   "metadata": {
    "slideshow": {
     "slide_type": "fragment"
    }
   },
   "outputs": [],
   "source": [
    "i = 0\n",
    "while True:\n",
    "    print(i, end=' ')\n",
    "    i += 2\n",
    "    if i == 10:\n",
    "        break        "
   ]
  },
  {
   "cell_type": "markdown",
   "metadata": {
    "slideshow": {
     "slide_type": "subslide"
    }
   },
   "source": [
    "## Задача 3.1\n",
    "\n",
    "Даны два целых числа A и B (при этом A ≤ B). Выведите все числа от A до B включительно."
   ]
  },
  {
   "cell_type": "markdown",
   "metadata": {
    "slideshow": {
     "slide_type": "subslide"
    }
   },
   "source": [
    "## Задача 3.2 \n",
    "\n",
    "Даны два целых числа A и В. Выведите все числа от A до B включительно, в порядке возрастания, если A < B, или в порядке убывания в противном случае."
   ]
  },
  {
   "cell_type": "markdown",
   "metadata": {
    "slideshow": {
     "slide_type": "subslide"
    }
   },
   "source": [
    "## Задача 4\n",
    "\n",
    "По данному натуральному числу N найдите наибольшую целую степень двойки, не превосходящую N. Выведите показатель степени и саму степень."
   ]
  }
 ],
 "metadata": {
  "celltoolbar": "Slideshow",
  "kernelspec": {
   "display_name": "Python 3",
   "language": "python",
   "name": "python3"
  },
  "language_info": {
   "codemirror_mode": {
    "name": "ipython",
    "version": 3
   },
   "file_extension": ".py",
   "mimetype": "text/x-python",
   "name": "python",
   "nbconvert_exporter": "python",
   "pygments_lexer": "ipython3",
   "version": "3.6.9"
  }
 },
 "nbformat": 4,
 "nbformat_minor": 2
}
