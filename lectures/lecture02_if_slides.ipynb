{
 "cells": [
  {
   "cell_type": "markdown",
   "metadata": {
    "slideshow": {
     "slide_type": "slide"
    }
   },
   "source": [
    "<span style=\"color:green; font-size:2.5em;\"> 02. Условные конструкции. Цикл while.</span> \n",
    "\n",
    "---"
   ]
  },
  {
   "cell_type": "markdown",
   "metadata": {
    "slideshow": {
     "slide_type": "subslide"
    }
   },
   "source": [
    "На предыдущем занятии мы узнали о таких типах данных как число и строка. Но существует еще один ключевой тип данных в языках программирования."
   ]
  },
  {
   "cell_type": "markdown",
   "metadata": {
    "slideshow": {
     "slide_type": "slide"
    }
   },
   "source": [
    "<span style=\"color:green; font-size:2em;\"> Тип данных bool </span> \n",
    "\n",
    "Изучим логический тип данных, в нем существуют всего **два значения $-$ `True` (правда) и `False` (ложь).**"
   ]
  },
  {
   "cell_type": "code",
   "execution_count": null,
   "metadata": {
    "slideshow": {
     "slide_type": "fragment"
    }
   },
   "outputs": [],
   "source": [
    "True, False"
   ]
  },
  {
   "cell_type": "markdown",
   "metadata": {
    "slideshow": {
     "slide_type": "subslide"
    }
   },
   "source": [
    "Если рассматривать эти значения в числовом контексте, то ведут они себя как **целые 1 и 0** соответственно."
   ]
  },
  {
   "cell_type": "code",
   "execution_count": null,
   "metadata": {
    "slideshow": {
     "slide_type": "fragment"
    }
   },
   "outputs": [],
   "source": [
    "int(True), int(False)"
   ]
  },
  {
   "cell_type": "code",
   "execution_count": null,
   "metadata": {
    "slideshow": {
     "slide_type": "fragment"
    }
   },
   "outputs": [],
   "source": [
    "True * True"
   ]
  },
  {
   "cell_type": "code",
   "execution_count": null,
   "metadata": {
    "slideshow": {
     "slide_type": "fragment"
    }
   },
   "outputs": [],
   "source": [
    "True + False + True"
   ]
  },
  {
   "cell_type": "markdown",
   "metadata": {
    "slideshow": {
     "slide_type": "subslide"
    }
   },
   "source": [
    "Точно так же, как и для других типов данных, есть функция преобразования в тип `bool()`. Нулевые и пустые значения - `False`, Ненулевые и непустые значения - `True`:"
   ]
  },
  {
   "cell_type": "code",
   "execution_count": null,
   "metadata": {
    "slideshow": {
     "slide_type": "fragment"
    }
   },
   "outputs": [],
   "source": [
    "bool(1), bool(20), bool('something'), bool(0), bool(''), bool()"
   ]
  },
  {
   "cell_type": "markdown",
   "metadata": {
    "slideshow": {
     "slide_type": "subslide"
    }
   },
   "source": [
    "<span style=\"color:green; font-size:1.5em;\"> Операторы сравнения </span>\n",
    "\n",
    "[Подробнее читать документацию](https://docs.python.org/3/reference/expressions.html#comparisons)\n",
    "\n",
    "Мы можем сравнивать объекты и тем самым получать значение `True/False` "
   ]
  },
  {
   "cell_type": "code",
   "execution_count": null,
   "metadata": {
    "slideshow": {
     "slide_type": "fragment"
    }
   },
   "outputs": [],
   "source": [
    "print('Is 10 > 3? ', 10 > 3)   # больше\n",
    "print('Is 10 >= 3?', 10 >= 3)  # больше или равно\n",
    "print('Is 4 < 5?  ', 4 < 5)    # меньше\n",
    "print('Is 4 <= 5? ', 4 <= 5)   # меньше или равно  \n",
    "print('Is \"abc\" == \"abc\"?', 'abc' == 'abc')  # равняется\n",
    "print('Is 1 == 10?       ', 1 == 10)\n",
    "print('Is \"cat\" != \"dog\"?', 'cat' != 'dog')  # не равняется"
   ]
  },
  {
   "cell_type": "markdown",
   "metadata": {
    "slideshow": {
     "slide_type": "subslide"
    }
   },
   "source": [
    "Операторы сравнения можно группировать скобками"
   ]
  },
  {
   "cell_type": "code",
   "execution_count": null,
   "metadata": {
    "slideshow": {
     "slide_type": "fragment"
    }
   },
   "outputs": [],
   "source": [
    "(42 != 42) == 0"
   ]
  },
  {
   "cell_type": "markdown",
   "metadata": {
    "slideshow": {
     "slide_type": "fragment"
    }
   },
   "source": [
    "и объединять в цепочки \n",
    "\n",
    "> Comparisons can be chained arbitrarily, e.g., x < y <= z is equivalent to x < y and y <= z, except that y is evaluated only once (but in both cases z is not evaluated at all when x < y is found to be false)."
   ]
  },
  {
   "cell_type": "code",
   "execution_count": null,
   "metadata": {
    "slideshow": {
     "slide_type": "fragment"
    }
   },
   "outputs": [],
   "source": [
    "x = 42\n",
    "3.14 < x <= 57, 42.0 == x == 42.0 > 57, (42.0 == x and x == 42.0 and 42 > 57)"
   ]
  },
  {
   "cell_type": "markdown",
   "metadata": {
    "slideshow": {
     "slide_type": "subslide"
    }
   },
   "source": [
    "<span style=\"color:green; font-size:1.5em;\"> Логические функции </span> \n",
    "\n",
    "[DOCS](https://docs.python.org/3/reference/expressions.html#boolean-operations)\n",
    "\n",
    "Существуют также логические функции **И, ИЛИ, НЕ**"
   ]
  },
  {
   "cell_type": "markdown",
   "metadata": {
    "slideshow": {
     "slide_type": "subslide"
    }
   },
   "source": [
    "**И** обозначается союзом `and` (так же, если рассматривать булевые значения как числа 0 и 1, то **И** это операция *умножения*)"
   ]
  },
  {
   "cell_type": "code",
   "execution_count": null,
   "metadata": {
    "slideshow": {
     "slide_type": "fragment"
    }
   },
   "outputs": [],
   "source": [
    "True and True, True and False, False and True, False and False"
   ]
  },
  {
   "cell_type": "markdown",
   "metadata": {
    "slideshow": {
     "slide_type": "subslide"
    }
   },
   "source": [
    "**ИЛИ** обозначается союзом `or` (так же, если рассматривать булевые значения как числа 0 и 1, то **ИЛИ** это операция *сложения*)"
   ]
  },
  {
   "cell_type": "code",
   "execution_count": null,
   "metadata": {
    "slideshow": {
     "slide_type": "fragment"
    }
   },
   "outputs": [],
   "source": [
    "False or True, False or False"
   ]
  },
  {
   "cell_type": "markdown",
   "metadata": {
    "slideshow": {
     "slide_type": "subslide"
    }
   },
   "source": [
    "**НЕ** обозначается частицей `not`"
   ]
  },
  {
   "cell_type": "code",
   "execution_count": null,
   "metadata": {
    "slideshow": {
     "slide_type": "fragment"
    }
   },
   "outputs": [],
   "source": [
    "not True, not False "
   ]
  },
  {
   "cell_type": "markdown",
   "metadata": {
    "slideshow": {
     "slide_type": "subslide"
    }
   },
   "source": [
    "<span style=\"color:green; font-size:1.5em;\"> Оператор `is` </span>\n",
    "\n",
    "Оператор `is` (и в сочетании с частицей `is not`) тестируют **объекты** (а не их значения) на **идентичность**: `x is y` верно тогда и только тогда, когда `x` и `y` это один итот же объект. Идентификатор объекта определяется функцией `id()`. Для коротких строк и чисел от -5 до 256, объекты с одинаковым значениям хранятся в одном и том же месте. Например:"
   ]
  },
  {
   "cell_type": "code",
   "execution_count": null,
   "metadata": {
    "slideshow": {
     "slide_type": "subslide"
    }
   },
   "outputs": [],
   "source": [
    "x = 256\n",
    "y = 256\n",
    "x is y, x == y, id(x), id(y),"
   ]
  },
  {
   "cell_type": "code",
   "execution_count": null,
   "metadata": {
    "slideshow": {
     "slide_type": "fragment"
    }
   },
   "outputs": [],
   "source": [
    "a = -5\n",
    "b = -5\n",
    "a is b, a == b, id(a), id(b),"
   ]
  },
  {
   "cell_type": "code",
   "execution_count": null,
   "metadata": {
    "slideshow": {
     "slide_type": "fragment"
    }
   },
   "outputs": [],
   "source": [
    "s1 = 'hello'\n",
    "s2 = 'hello'\n",
    "s1 is s2, s1 == s2, id(s2), id(s2)"
   ]
  },
  {
   "cell_type": "code",
   "execution_count": null,
   "metadata": {
    "slideshow": {
     "slide_type": "subslide"
    }
   },
   "outputs": [],
   "source": [
    "x = 257\n",
    "y = 257\n",
    "x is y, x == y, id(x), id(y)"
   ]
  },
  {
   "cell_type": "code",
   "execution_count": null,
   "metadata": {
    "slideshow": {
     "slide_type": "fragment"
    }
   },
   "outputs": [],
   "source": [
    "a = -6\n",
    "b = -6\n",
    "a is b, a == b, id(a), id(b)"
   ]
  },
  {
   "cell_type": "code",
   "execution_count": null,
   "metadata": {
    "slideshow": {
     "slide_type": "fragment"
    }
   },
   "outputs": [],
   "source": [
    "s1 = 'hello world'\n",
    "s2 = 'hello world'\n",
    "s1 is s2, s1 == s2, id(s2), id(s2)"
   ]
  },
  {
   "cell_type": "markdown",
   "metadata": {
    "slideshow": {
     "slide_type": "subslide"
    }
   },
   "source": [
    "<span style=\"color:green; font-size:1.5em;\"> Объект `None` </span>\n",
    "\n",
    "Существует также объект `None`, который должен существовать как и в реальном мире (хотя вопрос философский). Он обозначает **ничего** и **не имеет поведения**. Он как объект имеет тип `NoneType`,который есть только у него, однако обратите внимание, что с классом `NoneType` вам работать не придется, по большому счету вы работаете только с единственным значением, которое представляет собой объект `None`:"
   ]
  },
  {
   "cell_type": "code",
   "execution_count": null,
   "metadata": {
    "slideshow": {
     "slide_type": "fragment"
    }
   },
   "outputs": [],
   "source": [
    "type(None), None"
   ]
  },
  {
   "cell_type": "markdown",
   "metadata": {
    "slideshow": {
     "slide_type": "fragment"
    }
   },
   "source": [
    "Если перевести `None` в булевый тип, то он всегда будет `False`, поэтому можно его использовать в условных конструкциях и пр.:"
   ]
  },
  {
   "cell_type": "code",
   "execution_count": null,
   "metadata": {
    "slideshow": {
     "slide_type": "fragment"
    }
   },
   "outputs": [],
   "source": [
    "bool(None)"
   ]
  },
  {
   "cell_type": "markdown",
   "metadata": {
    "slideshow": {
     "slide_type": "subslide"
    }
   },
   "source": [
    "В решении задач `None` может использоваться для подчеркивания \"ничего\", а еще позже, когда мы дойдем до созданиия своих классов и `numpy`. Например:"
   ]
  },
  {
   "cell_type": "code",
   "execution_count": null,
   "metadata": {
    "slideshow": {
     "slide_type": "fragment"
    }
   },
   "outputs": [],
   "source": [
    "import random\n",
    "\n",
    "revenue = None\n",
    "time = 9\n",
    "\n",
    "if random.uniform(0, 1) > 0.5: # с какой-то вероятностью работник пошел на работу\n",
    "    revenue = 0\n",
    "    while time < 18:\n",
    "        revenue += random.uniform(0, 150) # и зарабатывает от 0 до 150 рублей в час\n",
    "        time += 1\n",
    "        if time == 14:\n",
    "            revenue -= random.uniform(100, 600) # и обедает на какую-то сумму\n",
    "\n",
    "if revenue is None: # if not revenue:\n",
    "    print('Мы не вышли на работу!')\n",
    "elif revenue < 0:\n",
    "    print('Мы ушли в минус из-за обеда:', revenue, 'рублей')\n",
    "elif revenue < 300:\n",
    "    print('Мы заработали меньше денег, чем нужно:', revenue, 'рублей')\n",
    "else:\n",
    "    print('Мы заработали достаточно:', revenue, 'рублей')"
   ]
  },
  {
   "cell_type": "markdown",
   "metadata": {
    "slideshow": {
     "slide_type": "subslide"
    }
   },
   "source": [
    "Обратите внимание, как мы использовали оператор `is` вместо `==`. В целом, можно использовать оба варианта, они будут работать. Но общепринято использовать именно `is`, так как он будет работать в любом случае."
   ]
  },
  {
   "cell_type": "markdown",
   "metadata": {
    "slideshow": {
     "slide_type": "slide"
    }
   },
   "source": [
    "<span style=\"color:green; font-size:2em;\"> Условная конструкция </span> \n",
    "\n",
    "До этого строчки кода исполнялись просто друг за другом, но что если хочется выполнять разные действия в зависимости от какого-то условия? Тогда на помощь приходят **условные конструкции**. Вот пример:"
   ]
  },
  {
   "cell_type": "code",
   "execution_count": null,
   "metadata": {
    "slideshow": {
     "slide_type": "fragment"
    }
   },
   "outputs": [],
   "source": [
    "number = int(input('Введите число ---> '))\n",
    "if number > 0:\n",
    "    print('Введено положительное число')\n",
    "elif number < 0:\n",
    "    print('Введено отрицательно число')\n",
    "else:\n",
    "    print('Введен ноль!')"
   ]
  },
  {
   "cell_type": "markdown",
   "metadata": {
    "slideshow": {
     "slide_type": "subslide"
    }
   },
   "source": [
    "То есть конструкция такая:\n",
    "```\n",
    "if (Условие 1):\n",
    "    Блок инструкций 1\n",
    "elif (Условие 2):\n",
    "    Блок инструкций 2\n",
    "else:\n",
    "    Блок инструкций ИНАЧЕ```\n",
    "\n",
    "Программа проверяет условия по очереди сверху вних и если одно из них выполнилось, то выполняет его блок инструкций, после чего продолжает исполнять код, который идет после всей конструкции `if-else`. Если ни одно из условий не выполнилось и есть часть `else`, то выполняется ее блок инструкций."
   ]
  },
  {
   "cell_type": "markdown",
   "metadata": {
    "slideshow": {
     "slide_type": "subslide"
    }
   },
   "source": [
    "Средняя часть `elif` может быть в любом количестве или даже не быть! \n",
    "Например:"
   ]
  },
  {
   "cell_type": "code",
   "execution_count": null,
   "metadata": {
    "slideshow": {
     "slide_type": "fragment"
    }
   },
   "outputs": [],
   "source": [
    "number = int(input('Введите число ---> '))\n",
    "\n",
    "if number != 0:\n",
    "    print('Введен не ноль!')\n",
    "else:\n",
    "    print('Введен ноль!')"
   ]
  },
  {
   "cell_type": "code",
   "execution_count": null,
   "metadata": {
    "slideshow": {
     "slide_type": "subslide"
    }
   },
   "outputs": [],
   "source": [
    "number = int(input('Введите число ---> '))\n",
    "\n",
    "if number == 0:\n",
    "    print('Введен ноль!')\n",
    "elif number == 1:\n",
    "    print('Введена единица!')\n",
    "elif number == 2:\n",
    "    print('Введена двойка!')\n",
    "elif number == 7:\n",
    "    print('Введена семерка!')\n",
    "elif number == 42:\n",
    "    print('Введен ответ на все вопросы...')\n",
    "else:\n",
    "    print('Введено какое-то число.. Хм.')"
   ]
  },
  {
   "cell_type": "markdown",
   "metadata": {
    "slideshow": {
     "slide_type": "subslide"
    }
   },
   "source": [
    "На самом деле и части `else` может не быть. Если условие не выполнилось, то просто код продолжит работу дальше."
   ]
  },
  {
   "cell_type": "code",
   "execution_count": null,
   "metadata": {
    "slideshow": {
     "slide_type": "fragment"
    }
   },
   "outputs": [],
   "source": [
    "number = int(input('Введите число ---> '))\n",
    "\n",
    "if number == 0:\n",
    "    print('Введен ноль!')\n",
    "print('---')"
   ]
  },
  {
   "cell_type": "markdown",
   "metadata": {
    "slideshow": {
     "slide_type": "subslide"
    }
   },
   "source": [
    "Такие конструкции могут быть вложены друг в друга:"
   ]
  },
  {
   "cell_type": "code",
   "execution_count": null,
   "metadata": {
    "slideshow": {
     "slide_type": "fragment"
    }
   },
   "outputs": [],
   "source": [
    "number = int(input('Введите число ---> '))\n",
    "\n",
    "if number > 0:    \n",
    "    if number < 100: # слева стоит 4 пробела!\n",
    "        print('Введено небольшое положительное число')\n",
    "    else:\n",
    "        print('Введено большое положительное число')\n",
    "else:\n",
    "    print('Введено неположительное число')"
   ]
  },
  {
   "cell_type": "markdown",
   "metadata": {
    "slideshow": {
     "slide_type": "subslide"
    }
   },
   "source": [
    "Важно заметить, что условие это просто какое-то верное или ложное утверждение (то есть `bool` переменная `True` или `False`). Как мы уже изучили, можно строить сложные логические утверждения, которые так же принимают эти значения. Значит их тоже можно ставить как условия:"
   ]
  },
  {
   "cell_type": "code",
   "execution_count": null,
   "metadata": {
    "slideshow": {
     "slide_type": "fragment"
    }
   },
   "outputs": [],
   "source": [
    "number = int(input('Введите число ---> '))\n",
    "\n",
    "if (number % 2 == 0) and (number > 0):\n",
    "    print('Введено положительное четное число!') \n",
    "else:\n",
    "    print('Введен отрицательное или нечетное число!')"
   ]
  },
  {
   "cell_type": "markdown",
   "metadata": {
    "slideshow": {
     "slide_type": "subslide"
    }
   },
   "source": [
    "Вспомним, что **числа** тоже можно представить как `bool` значение, а значит и использовать как условия!"
   ]
  },
  {
   "cell_type": "code",
   "execution_count": null,
   "metadata": {
    "slideshow": {
     "slide_type": "fragment"
    }
   },
   "outputs": [],
   "source": [
    "number = int(input('Введите число ---> '))\n",
    "\n",
    "if (number % 2): # остаток от деления на два равен 0 (четное) или 1 (нечетное)\n",
    "    print('Введено нечетное число!')\n",
    "else:\n",
    "    print('Введен четное число!')"
   ]
  },
  {
   "cell_type": "markdown",
   "metadata": {
    "slideshow": {
     "slide_type": "subslide"
    }
   },
   "source": [
    "<span style=\"color:red; font-size:1.5em;\">Задача 1</span>\n",
    "\n",
    "Дано натуральное число. Требуется определить, является ли год с данным номером високосным. Если год является високосным, то выведите \"Високосный год\", иначе выведите \"Не високосный год\".\n",
    "\n",
    "Напомним, что год является високосным, если его номер кратен 4, но не кратен 100, а также если он кратен 400."
   ]
  },
  {
   "cell_type": "markdown",
   "metadata": {
    "slideshow": {
     "slide_type": "subslide"
    }
   },
   "source": [
    "\n",
    "<span style=\"color:red; font-size:1.5em;\">Задача 2</span>\n",
    "\n",
    "Вводятся два числа a и b. Выведите какое число было больше и его значение. Если числа равны, выведите \"Числа равны\" и значение.\n"
   ]
  },
  {
   "cell_type": "markdown",
   "metadata": {
    "slideshow": {
     "slide_type": "slide"
    }
   },
   "source": [
    "<span style=\"color:green; font-size:2em;\"> Цикл `while` </span> "
   ]
  },
  {
   "cell_type": "markdown",
   "metadata": {
    "slideshow": {
     "slide_type": "fragment"
    }
   },
   "source": [
    "Что такое цикл? Повторяющийся набор действий в течение какого-то заданного времени (количество итераций или выполнение условия)."
   ]
  },
  {
   "cell_type": "markdown",
   "metadata": {
    "slideshow": {
     "slide_type": "subslide"
    }
   },
   "source": [
    "Цикл while (\"пока\") выполняется, пока какое-то заданное условие является Истинным:"
   ]
  },
  {
   "cell_type": "code",
   "execution_count": null,
   "metadata": {
    "slideshow": {
     "slide_type": "fragment"
    }
   },
   "outputs": [],
   "source": [
    "i = 10\n",
    "while i > 0:\n",
    "    print(i, end='->')\n",
    "    i -= 1\n",
    "    print(i)\n",
    "print('end')"
   ]
  },
  {
   "cell_type": "markdown",
   "metadata": {
    "slideshow": {
     "slide_type": "subslide"
    }
   },
   "source": [
    "Конструкция простая:\n",
    "\n",
    "```\n",
    "while Условие(зависимое от X):\n",
    "    Блок кода, меняющий Х\n",
    "```"
   ]
  },
  {
   "cell_type": "markdown",
   "metadata": {
    "slideshow": {
     "slide_type": "subslide"
    }
   },
   "source": [
    "Такой цикл легко может стать бесконечным (что, как правило, плохо и является ошибкой), если внутри блока кода не менять никак значения, которые влияют на условие."
   ]
  },
  {
   "cell_type": "code",
   "execution_count": null,
   "metadata": {
    "slideshow": {
     "slide_type": "fragment"
    }
   },
   "outputs": [],
   "source": [
    "i = 10\n",
    "while i > 0:\n",
    "    print(i, end=' ')"
   ]
  },
  {
   "cell_type": "markdown",
   "metadata": {
    "slideshow": {
     "slide_type": "subslide"
    }
   },
   "source": [
    "<span style=\"color:green; font-size:1.5em;\">Прерывание работы цикла `break` </span>\n",
    "\n",
    "[DOCS](https://docs.python.org/3/tutorial/controlflow.html#break-and-continue-statements-and-else-clauses-on-loops)\n",
    "\n",
    "Если во время исполнения цикла внутри блока кода встретится команда break, то \"исполнитель\" выйдет из цикла совсем."
   ]
  },
  {
   "cell_type": "code",
   "execution_count": null,
   "metadata": {
    "slideshow": {
     "slide_type": "fragment"
    }
   },
   "outputs": [],
   "source": [
    "i = 10\n",
    "k = 1.5\n",
    "while i > 0:\n",
    "    print('i =', i,'\\tk =', k)\n",
    "    if k > 15:\n",
    "        break\n",
    "    i += 1\n",
    "    k *= k"
   ]
  },
  {
   "cell_type": "markdown",
   "metadata": {
    "slideshow": {
     "slide_type": "subslide"
    }
   },
   "source": [
    "<span style=\"color:green; font-size:1.5em;\">Пропуск цикла `continue`</span>\n",
    "\n",
    "Если во время исполнения цикла внутри блока кода встретится команда continue, то \"исполнитель\" пропустит весь код ниже команды внутри блока кода и перейдет к следующей итерации (loop, цикл)"
   ]
  },
  {
   "cell_type": "code",
   "execution_count": null,
   "metadata": {
    "slideshow": {
     "slide_type": "fragment"
    }
   },
   "outputs": [],
   "source": [
    "i = 0\n",
    " \n",
    "while i < 10:\n",
    "    if not (i % 3):\n",
    "        i += 1\n",
    "        continue # не будет принта\n",
    "    print(i, end=' ')   \n",
    "    i += 1"
   ]
  },
  {
   "cell_type": "markdown",
   "metadata": {
    "slideshow": {
     "slide_type": "subslide"
    }
   },
   "source": [
    "<span style=\"color:green; font-size:1.5em;\">Действия после окончания цикла с `else`</span>\n",
    "\n",
    "Слово `else`, примененное в цикле `for` или `while`, проверяет, был ли произведен выход из цикла инструкцией `break`, или же \"естественным\" образом. Блок инструкций внутри `else` выполнится только в том случае, если выход из цикла произошел без помощи `break`."
   ]
  },
  {
   "cell_type": "code",
   "execution_count": null,
   "metadata": {
    "slideshow": {
     "slide_type": "fragment"
    }
   },
   "outputs": [],
   "source": [
    "i = -1\n",
    "while i < 2:\n",
    "    if i == 2:\n",
    "        print('Разрыв цикла')\n",
    "        break\n",
    "    i += 1\n",
    "else:\n",
    "     print('Естественный конец цикла')"
   ]
  },
  {
   "cell_type": "markdown",
   "metadata": {
    "slideshow": {
     "slide_type": "subslide"
    }
   },
   "source": [
    "<span style=\"color:green; font-size:2em;\"> Как делать не стоит </span>"
   ]
  },
  {
   "cell_type": "code",
   "execution_count": null,
   "metadata": {
    "slideshow": {
     "slide_type": "fragment"
    }
   },
   "outputs": [],
   "source": [
    "i = 0\n",
    "while True:\n",
    "    print(i, end=' ')\n",
    "    i += 2\n",
    "    if i == 10:\n",
    "        break        "
   ]
  },
  {
   "cell_type": "markdown",
   "metadata": {
    "slideshow": {
     "slide_type": "subslide"
    }
   },
   "source": [
    "<span style=\"color:red; font-size:1.5em;\">Задача 3.1</span>\n",
    "\n",
    "Даны два целых числа A и B (при этом A ≤ B). Выведите все числа от A до B включительно."
   ]
  },
  {
   "cell_type": "markdown",
   "metadata": {
    "slideshow": {
     "slide_type": "subslide"
    }
   },
   "source": [
    "<span style=\"color:red; font-size:1.5em;\">Задача 3.2 </span>\n",
    "\n",
    "Даны два целых числа A и В. Выведите все числа от A до B включительно, в порядке возрастания, если A < B, или в порядке убывания в противном случае."
   ]
  },
  {
   "cell_type": "markdown",
   "metadata": {
    "slideshow": {
     "slide_type": "subslide"
    }
   },
   "source": [
    "<span style=\"color:red; font-size:1.5em;\">Задача 4</span>\n",
    "\n",
    "По данному натуральному числу N найдите наибольшую целую степень двойки, не превосходящую N. Выведите показатель степени и саму степень."
   ]
  },
  {
   "cell_type": "code",
   "execution_count": null,
   "metadata": {},
   "outputs": [],
   "source": []
  }
 ],
 "metadata": {
  "celltoolbar": "Slideshow",
  "kernelspec": {
   "display_name": "Python 3",
   "language": "python",
   "name": "python3"
  },
  "language_info": {
   "codemirror_mode": {
    "name": "ipython",
    "version": 3
   },
   "file_extension": ".py",
   "mimetype": "text/x-python",
   "name": "python",
   "nbconvert_exporter": "python",
   "pygments_lexer": "ipython3",
   "version": "3.6.9"
  }
 },
 "nbformat": 4,
 "nbformat_minor": 2
}
